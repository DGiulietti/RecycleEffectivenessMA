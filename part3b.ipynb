{
 "cells": [
  {
   "cell_type": "markdown",
   "metadata": {},
   "source": [
    "# Picking up from part3.ipynb\n",
    "\n",
    "I'm rerunning my regression analysis because I've found that depending on the random_state of my estimators, I'm getting *very* different results.\n",
    "\n",
    "Approach:\n",
    "\n",
    "NEW ANALYTICS:\n",
    "* Test all models with cross validation to see which models are the most stable\n",
    "* score of the **train** and test set to check for overfitting\n",
    "* plot all the residuals between y_test and y_preds, not just looking at the averages in MAE and RMSE, to see if there are any interesting trends.\n",
    "\n",
    "NEW MODELS:\n",
    "* Repeat ever model with outliers removed\n",
    "* Try a larger test_size (0.33)\n",
    "* Emphasis on all models with bootstraping in the hopes that this may help my smaller dataset\n",
    "* Special attent to the GradientBoost model as we were trained to use a different API for this algorithm. Tweak the hyperparameters carefully."
   ]
  },
  {
   "cell_type": "code",
   "execution_count": 1,
   "metadata": {},
   "outputs": [],
   "source": [
    "import pandas as pd\n",
    "import numpy as np\n",
    "import matplotlib.pyplot as plt\n",
    "import plotly.express as px"
   ]
  },
  {
   "cell_type": "code",
   "execution_count": 3,
   "metadata": {},
   "outputs": [],
   "source": [
    "# Import file\n",
    "df_for_regression = pd.read_csv('data/data_for_regression.csv', index_col='Municipality Name')"
   ]
  },
  {
   "cell_type": "code",
   "execution_count": 2,
   "metadata": {},
   "outputs": [],
   "source": [
    "from sklearn.preprocessing import MinMaxScaler, StandardScaler\n",
    "from sklearn.model_selection import GridSearchCV, train_test_split, cross_val_score, KFold\n",
    "from sklearn.pipeline import make_pipeline\n",
    "from sklearn.experimental import enable_hist_gradient_boosting\n",
    "from sklearn.ensemble import RandomForestRegressor, GradientBoostingRegressor, HistGradientBoostingRegressor, BaggingRegressor, VotingRegressor\n",
    "from sklearn.linear_model import LinearRegression, Lasso, Ridge\n",
    "from sklearn.dummy import DummyRegressor\n",
    "from sklearn.metrics import mean_squared_error, mean_absolute_error\n",
    "from sklearn.feature_selection import RFE"
   ]
  },
  {
   "cell_type": "code",
   "execution_count": 4,
   "metadata": {},
   "outputs": [],
   "source": [
    "# Raw Data\n",
    "\n",
    "X0 = df_for_regression.drop(columns=['%recycle/hh'])\n",
    "y0 = df_for_regression['%recycle/hh']"
   ]
  },
  {
   "cell_type": "code",
   "execution_count": 13,
   "metadata": {},
   "outputs": [
    {
     "data": {
      "application/vnd.plotly.v1+json": {
       "config": {
        "plotlyServerURL": "https://plot.ly"
       },
       "data": [
        {
         "alignmentgroup": "True",
         "hovertemplate": "value=%{x}<br>variable=%{y}<extra></extra>",
         "legendgroup": "",
         "marker": {
          "color": "#636efa"
         },
         "name": "",
         "notched": false,
         "offsetgroup": "",
         "orientation": "h",
         "showlegend": false,
         "type": "box",
         "x": [
          0.2697325231675852,
          0.3104374563282033,
          0.21564798630835336,
          0.5093768242848803,
          0.24991150363421355,
          0.2806419750018637,
          0.2500671232804595,
          0.2316310382269369,
          0.43373493975903615,
          0.29107540752902544,
          0.3542803112953669,
          0.3334672405547585,
          0.3810518975482248,
          0.3862401254972268,
          0.2887368200544655,
          0.23653542242391976,
          0.2238331035410432,
          0.2970004917226685,
          0.15050655111737818,
          0.18481138119009347,
          0.1679056856614128,
          0.2583130346116807,
          0.2674465510286406,
          0.3023595834176845,
          0.3040705967511869,
          0.22376009227220292,
          0.2813397129186603,
          0.2348786885245901,
          0.24440052700922266,
          0.6344222330570454,
          0.2996639895099165,
          0.16454746117257274,
          0.4364515320382419,
          0.30241325819309994,
          0.3388474360254709,
          0.2233981094977959,
          0.3398419172050384,
          0.2265608106020821,
          0.20452212957023733,
          0.3591376400184134,
          0.3387952235621796,
          0.28419595745564835,
          0.3252236807006219,
          0.22014862956893214,
          0.2414544383924628,
          0.31561622191011235,
          0.1745196045048923,
          0.22839149254214444,
          0.14408362409694372,
          0.2403881632351856,
          0.25173398612811104,
          0.2949371218988925,
          0.3089887640449438,
          0.31351334350280713,
          0.26699507389162563,
          0.2787324566250414,
          0.5111538052265451,
          0.2631272789183207,
          0.25182746975590986,
          0.2279223367306269,
          0.2649777797513529,
          0.332763642490913,
          0.29462224136001924,
          0.3119270118251472,
          0.19637526652452025,
          0.2619952859799358,
          0.13574007220216608,
          0.26966966966966965,
          0.2224014125014558,
          0.2485615650172613,
          0.4506172839506172,
          0.3985439173320808,
          0.23847019122609675,
          0.19501742488461904,
          0.2770155946635209,
          0.16806851849979265,
          0.16030534351145034,
          0.3239451114922813,
          0.24607876609161924,
          0.2269993898981268,
          0.2521895769923598,
          0.2012035040552854,
          0.1865583491712942,
          0.10415970344261798,
          0.2404929037182508,
          0.3052858683926645,
          0.30852145617246285,
          0.24913516616221576,
          0.3912839894310847,
          0.3195199578341341,
          0.30096920341801914,
          0.30771173422401304,
          0.2956005138086063,
          0.2711387828881301,
          0.1141990845713716,
          0.3160089627500977,
          0.3933438195350265,
          0.6861238639557763,
          0.1699604743083004,
          0.15807802357684242,
          0.385239852398524,
          0.2851798784029741,
          0.16577329471241475,
          0.2936550300701043,
          0.3404153862456289,
          0.19951786211825706,
          0.14806238804665994,
          0.290139746208036,
          0.3412133891213389,
          0.19480846986037675,
          0.23666512623437275,
          0.2157337096521291,
          0.3619824788219849,
          0.18873085339168488,
          0.1846995647681373,
          0.10088925685502054,
          0.3565902717338749,
          0.3145121247529797,
          0.3416547788873039,
          0.34416105724695856,
          0.29390551749008303,
          0.21040776080605286,
          0.211550339715874,
          0.263075173957992,
          0.1888614795442365,
          0.20118643712825668,
          0.2569210208107936,
          0.4249750505386525,
          0.2797202797202797,
          0.3720058065665608,
          0.16992785123127127,
          0.2343185033799717,
          0.3754226419493995,
          0.16186580174634846,
          0.19587882682601648,
          0.2586980920314253,
          0.25277474570868314,
          0.316375462599529,
          0.24708774179758464,
          0.4168434545634484,
          0.1251348042715842,
          0.25274644460404416,
          0.1819563259792886,
          0.1602570095481749,
          0.255141487552188,
          0.2951513366058209,
          0.30710319739613257,
          0.35494554550259644,
          0.05757307351638617,
          0.16357267950963222,
          0.25374494031905753,
          0.3342208753513554,
          0.39136381398983977,
          0.21584137026676334,
          0.4249896288761786,
          0.3595961588592121,
          0.20376359932977936,
          0.23703703703703705,
          0.3188747510061385,
          0.2857142857142857,
          0.3495532856558917,
          0.2972749793559042,
          0.05973261643537019,
          0.2247949493067839,
          0.3668104778719841,
          0.21409921671018275,
          0.4604424596829458,
          0.34945462609529065,
          0.3348839569659652,
          0.3625360662494848,
          0.3825761214100471,
          0.3378628950395885,
          0.2690157882662106,
          0.17439146382127374,
          0.1539275069704836,
          0.09551815047657676,
          0.16651276327517125,
          0.2569799171907915,
          0.1761098188902805,
          0.16699553877831158,
          0.30711889675736115,
          0.3713671681269631,
          0.11182001440975063,
          0.2801258715369902,
          0.33877551020408164,
          0.1916503050787808,
          0.32190091907644025,
          0.10381866223225887,
          0.181378373790528,
          0.3676549157816791,
          0.2915905146097034,
          0.16330282129122484,
          0.20637721572301007,
          0.203267210397331,
          0.3240529290769804,
          0.20664802065404475,
          0.2735553583546484,
          0.18965067401072624,
          0.2397383656054224,
          0.3473104616687844,
          0.1882999870456485,
          0.16303210750784586,
          0.21457858769931668,
          0.3414609106308711,
          0.3304998492721787,
          0.2370429252782194,
          0.3129662621088965,
          0.28239693004034244,
          0.3136404966451369,
          0.26962739619322273,
          0.3597388777473089,
          0.3026734916749799,
          0.2780745530798247,
          0.30266264339645543,
          0.3135883469505653,
          0.1997075073123172,
          0.1814133809717912,
          0.2098051885889336,
          0.1443025857414446,
          0.25082946250829463,
          0.24163892222771,
          0.42857142857142855,
          0.3232672639503219,
          0.3655151141270821,
          0.2749711063322754,
          0.3640192539109505,
          0.2443170452880524,
          0.21727702193165604,
          0.2755881935194107,
          0.2665212278219965,
          0.270033089710613,
          0.2236644452374827,
          0.26347014724124906,
          0.36822955794866735,
          0.2321836023496981,
          0.1789034825401092,
          0.18932592211942167,
          0.2638791885893436,
          0.3110132158590308,
          0.16227270487360174,
          0.2479274769212026,
          0.39925979478540014,
          0.230849478390462,
          0.2883034869538455,
          0.2667857278565186,
          0.3721423802663481,
          0.2895544378149744,
          0.14672628691162812,
          0.21340671738043784,
          0.2887537993920973,
          0.1830964841178332,
          0.22420007355645452,
          0.2443867939096329,
          0.27855903452205216,
          0.312268927237077,
          0.3717594178439842,
          0.2394829614494571,
          0.34508842221608177,
          0.26845583901658665,
          0.3685193150722542,
          0.27735309412376496,
          0.3928842914847,
          0.2553616484440706,
          0.3296084975869379,
          0.2100056529112493,
          0.22496920640506776,
          0.13417666263611214,
          0.27096620359654555,
          0.2564865171085429,
          0.2927813100152125,
          0.11599552564609936
         ],
         "x0": " ",
         "xaxis": "x",
         "y": [
          "%recycle/hh",
          "%recycle/hh",
          "%recycle/hh",
          "%recycle/hh",
          "%recycle/hh",
          "%recycle/hh",
          "%recycle/hh",
          "%recycle/hh",
          "%recycle/hh",
          "%recycle/hh",
          "%recycle/hh",
          "%recycle/hh",
          "%recycle/hh",
          "%recycle/hh",
          "%recycle/hh",
          "%recycle/hh",
          "%recycle/hh",
          "%recycle/hh",
          "%recycle/hh",
          "%recycle/hh",
          "%recycle/hh",
          "%recycle/hh",
          "%recycle/hh",
          "%recycle/hh",
          "%recycle/hh",
          "%recycle/hh",
          "%recycle/hh",
          "%recycle/hh",
          "%recycle/hh",
          "%recycle/hh",
          "%recycle/hh",
          "%recycle/hh",
          "%recycle/hh",
          "%recycle/hh",
          "%recycle/hh",
          "%recycle/hh",
          "%recycle/hh",
          "%recycle/hh",
          "%recycle/hh",
          "%recycle/hh",
          "%recycle/hh",
          "%recycle/hh",
          "%recycle/hh",
          "%recycle/hh",
          "%recycle/hh",
          "%recycle/hh",
          "%recycle/hh",
          "%recycle/hh",
          "%recycle/hh",
          "%recycle/hh",
          "%recycle/hh",
          "%recycle/hh",
          "%recycle/hh",
          "%recycle/hh",
          "%recycle/hh",
          "%recycle/hh",
          "%recycle/hh",
          "%recycle/hh",
          "%recycle/hh",
          "%recycle/hh",
          "%recycle/hh",
          "%recycle/hh",
          "%recycle/hh",
          "%recycle/hh",
          "%recycle/hh",
          "%recycle/hh",
          "%recycle/hh",
          "%recycle/hh",
          "%recycle/hh",
          "%recycle/hh",
          "%recycle/hh",
          "%recycle/hh",
          "%recycle/hh",
          "%recycle/hh",
          "%recycle/hh",
          "%recycle/hh",
          "%recycle/hh",
          "%recycle/hh",
          "%recycle/hh",
          "%recycle/hh",
          "%recycle/hh",
          "%recycle/hh",
          "%recycle/hh",
          "%recycle/hh",
          "%recycle/hh",
          "%recycle/hh",
          "%recycle/hh",
          "%recycle/hh",
          "%recycle/hh",
          "%recycle/hh",
          "%recycle/hh",
          "%recycle/hh",
          "%recycle/hh",
          "%recycle/hh",
          "%recycle/hh",
          "%recycle/hh",
          "%recycle/hh",
          "%recycle/hh",
          "%recycle/hh",
          "%recycle/hh",
          "%recycle/hh",
          "%recycle/hh",
          "%recycle/hh",
          "%recycle/hh",
          "%recycle/hh",
          "%recycle/hh",
          "%recycle/hh",
          "%recycle/hh",
          "%recycle/hh",
          "%recycle/hh",
          "%recycle/hh",
          "%recycle/hh",
          "%recycle/hh",
          "%recycle/hh",
          "%recycle/hh",
          "%recycle/hh",
          "%recycle/hh",
          "%recycle/hh",
          "%recycle/hh",
          "%recycle/hh",
          "%recycle/hh",
          "%recycle/hh",
          "%recycle/hh",
          "%recycle/hh",
          "%recycle/hh",
          "%recycle/hh",
          "%recycle/hh",
          "%recycle/hh",
          "%recycle/hh",
          "%recycle/hh",
          "%recycle/hh",
          "%recycle/hh",
          "%recycle/hh",
          "%recycle/hh",
          "%recycle/hh",
          "%recycle/hh",
          "%recycle/hh",
          "%recycle/hh",
          "%recycle/hh",
          "%recycle/hh",
          "%recycle/hh",
          "%recycle/hh",
          "%recycle/hh",
          "%recycle/hh",
          "%recycle/hh",
          "%recycle/hh",
          "%recycle/hh",
          "%recycle/hh",
          "%recycle/hh",
          "%recycle/hh",
          "%recycle/hh",
          "%recycle/hh",
          "%recycle/hh",
          "%recycle/hh",
          "%recycle/hh",
          "%recycle/hh",
          "%recycle/hh",
          "%recycle/hh",
          "%recycle/hh",
          "%recycle/hh",
          "%recycle/hh",
          "%recycle/hh",
          "%recycle/hh",
          "%recycle/hh",
          "%recycle/hh",
          "%recycle/hh",
          "%recycle/hh",
          "%recycle/hh",
          "%recycle/hh",
          "%recycle/hh",
          "%recycle/hh",
          "%recycle/hh",
          "%recycle/hh",
          "%recycle/hh",
          "%recycle/hh",
          "%recycle/hh",
          "%recycle/hh",
          "%recycle/hh",
          "%recycle/hh",
          "%recycle/hh",
          "%recycle/hh",
          "%recycle/hh",
          "%recycle/hh",
          "%recycle/hh",
          "%recycle/hh",
          "%recycle/hh",
          "%recycle/hh",
          "%recycle/hh",
          "%recycle/hh",
          "%recycle/hh",
          "%recycle/hh",
          "%recycle/hh",
          "%recycle/hh",
          "%recycle/hh",
          "%recycle/hh",
          "%recycle/hh",
          "%recycle/hh",
          "%recycle/hh",
          "%recycle/hh",
          "%recycle/hh",
          "%recycle/hh",
          "%recycle/hh",
          "%recycle/hh",
          "%recycle/hh",
          "%recycle/hh",
          "%recycle/hh",
          "%recycle/hh",
          "%recycle/hh",
          "%recycle/hh",
          "%recycle/hh",
          "%recycle/hh",
          "%recycle/hh",
          "%recycle/hh",
          "%recycle/hh",
          "%recycle/hh",
          "%recycle/hh",
          "%recycle/hh",
          "%recycle/hh",
          "%recycle/hh",
          "%recycle/hh",
          "%recycle/hh",
          "%recycle/hh",
          "%recycle/hh",
          "%recycle/hh",
          "%recycle/hh",
          "%recycle/hh",
          "%recycle/hh",
          "%recycle/hh",
          "%recycle/hh",
          "%recycle/hh",
          "%recycle/hh",
          "%recycle/hh",
          "%recycle/hh",
          "%recycle/hh",
          "%recycle/hh",
          "%recycle/hh",
          "%recycle/hh",
          "%recycle/hh",
          "%recycle/hh",
          "%recycle/hh",
          "%recycle/hh",
          "%recycle/hh",
          "%recycle/hh",
          "%recycle/hh",
          "%recycle/hh",
          "%recycle/hh",
          "%recycle/hh",
          "%recycle/hh",
          "%recycle/hh",
          "%recycle/hh",
          "%recycle/hh",
          "%recycle/hh",
          "%recycle/hh",
          "%recycle/hh",
          "%recycle/hh",
          "%recycle/hh",
          "%recycle/hh",
          "%recycle/hh",
          "%recycle/hh",
          "%recycle/hh",
          "%recycle/hh",
          "%recycle/hh",
          "%recycle/hh",
          "%recycle/hh",
          "%recycle/hh",
          "%recycle/hh",
          "%recycle/hh",
          "%recycle/hh",
          "%recycle/hh",
          "%recycle/hh",
          "%recycle/hh"
         ],
         "y0": " ",
         "yaxis": "y"
        }
       ],
       "layout": {
        "autosize": true,
        "boxmode": "group",
        "legend": {
         "tracegroupgap": 0
        },
        "margin": {
         "t": 60
        },
        "template": {
         "data": {
          "bar": [
           {
            "error_x": {
             "color": "#2a3f5f"
            },
            "error_y": {
             "color": "#2a3f5f"
            },
            "marker": {
             "line": {
              "color": "#E5ECF6",
              "width": 0.5
             }
            },
            "type": "bar"
           }
          ],
          "barpolar": [
           {
            "marker": {
             "line": {
              "color": "#E5ECF6",
              "width": 0.5
             }
            },
            "type": "barpolar"
           }
          ],
          "carpet": [
           {
            "aaxis": {
             "endlinecolor": "#2a3f5f",
             "gridcolor": "white",
             "linecolor": "white",
             "minorgridcolor": "white",
             "startlinecolor": "#2a3f5f"
            },
            "baxis": {
             "endlinecolor": "#2a3f5f",
             "gridcolor": "white",
             "linecolor": "white",
             "minorgridcolor": "white",
             "startlinecolor": "#2a3f5f"
            },
            "type": "carpet"
           }
          ],
          "choropleth": [
           {
            "colorbar": {
             "outlinewidth": 0,
             "ticks": ""
            },
            "type": "choropleth"
           }
          ],
          "contour": [
           {
            "colorbar": {
             "outlinewidth": 0,
             "ticks": ""
            },
            "colorscale": [
             [
              0,
              "#0d0887"
             ],
             [
              0.1111111111111111,
              "#46039f"
             ],
             [
              0.2222222222222222,
              "#7201a8"
             ],
             [
              0.3333333333333333,
              "#9c179e"
             ],
             [
              0.4444444444444444,
              "#bd3786"
             ],
             [
              0.5555555555555556,
              "#d8576b"
             ],
             [
              0.6666666666666666,
              "#ed7953"
             ],
             [
              0.7777777777777778,
              "#fb9f3a"
             ],
             [
              0.8888888888888888,
              "#fdca26"
             ],
             [
              1,
              "#f0f921"
             ]
            ],
            "type": "contour"
           }
          ],
          "contourcarpet": [
           {
            "colorbar": {
             "outlinewidth": 0,
             "ticks": ""
            },
            "type": "contourcarpet"
           }
          ],
          "heatmap": [
           {
            "colorbar": {
             "outlinewidth": 0,
             "ticks": ""
            },
            "colorscale": [
             [
              0,
              "#0d0887"
             ],
             [
              0.1111111111111111,
              "#46039f"
             ],
             [
              0.2222222222222222,
              "#7201a8"
             ],
             [
              0.3333333333333333,
              "#9c179e"
             ],
             [
              0.4444444444444444,
              "#bd3786"
             ],
             [
              0.5555555555555556,
              "#d8576b"
             ],
             [
              0.6666666666666666,
              "#ed7953"
             ],
             [
              0.7777777777777778,
              "#fb9f3a"
             ],
             [
              0.8888888888888888,
              "#fdca26"
             ],
             [
              1,
              "#f0f921"
             ]
            ],
            "type": "heatmap"
           }
          ],
          "heatmapgl": [
           {
            "colorbar": {
             "outlinewidth": 0,
             "ticks": ""
            },
            "colorscale": [
             [
              0,
              "#0d0887"
             ],
             [
              0.1111111111111111,
              "#46039f"
             ],
             [
              0.2222222222222222,
              "#7201a8"
             ],
             [
              0.3333333333333333,
              "#9c179e"
             ],
             [
              0.4444444444444444,
              "#bd3786"
             ],
             [
              0.5555555555555556,
              "#d8576b"
             ],
             [
              0.6666666666666666,
              "#ed7953"
             ],
             [
              0.7777777777777778,
              "#fb9f3a"
             ],
             [
              0.8888888888888888,
              "#fdca26"
             ],
             [
              1,
              "#f0f921"
             ]
            ],
            "type": "heatmapgl"
           }
          ],
          "histogram": [
           {
            "marker": {
             "colorbar": {
              "outlinewidth": 0,
              "ticks": ""
             }
            },
            "type": "histogram"
           }
          ],
          "histogram2d": [
           {
            "colorbar": {
             "outlinewidth": 0,
             "ticks": ""
            },
            "colorscale": [
             [
              0,
              "#0d0887"
             ],
             [
              0.1111111111111111,
              "#46039f"
             ],
             [
              0.2222222222222222,
              "#7201a8"
             ],
             [
              0.3333333333333333,
              "#9c179e"
             ],
             [
              0.4444444444444444,
              "#bd3786"
             ],
             [
              0.5555555555555556,
              "#d8576b"
             ],
             [
              0.6666666666666666,
              "#ed7953"
             ],
             [
              0.7777777777777778,
              "#fb9f3a"
             ],
             [
              0.8888888888888888,
              "#fdca26"
             ],
             [
              1,
              "#f0f921"
             ]
            ],
            "type": "histogram2d"
           }
          ],
          "histogram2dcontour": [
           {
            "colorbar": {
             "outlinewidth": 0,
             "ticks": ""
            },
            "colorscale": [
             [
              0,
              "#0d0887"
             ],
             [
              0.1111111111111111,
              "#46039f"
             ],
             [
              0.2222222222222222,
              "#7201a8"
             ],
             [
              0.3333333333333333,
              "#9c179e"
             ],
             [
              0.4444444444444444,
              "#bd3786"
             ],
             [
              0.5555555555555556,
              "#d8576b"
             ],
             [
              0.6666666666666666,
              "#ed7953"
             ],
             [
              0.7777777777777778,
              "#fb9f3a"
             ],
             [
              0.8888888888888888,
              "#fdca26"
             ],
             [
              1,
              "#f0f921"
             ]
            ],
            "type": "histogram2dcontour"
           }
          ],
          "mesh3d": [
           {
            "colorbar": {
             "outlinewidth": 0,
             "ticks": ""
            },
            "type": "mesh3d"
           }
          ],
          "parcoords": [
           {
            "line": {
             "colorbar": {
              "outlinewidth": 0,
              "ticks": ""
             }
            },
            "type": "parcoords"
           }
          ],
          "pie": [
           {
            "automargin": true,
            "type": "pie"
           }
          ],
          "scatter": [
           {
            "marker": {
             "colorbar": {
              "outlinewidth": 0,
              "ticks": ""
             }
            },
            "type": "scatter"
           }
          ],
          "scatter3d": [
           {
            "line": {
             "colorbar": {
              "outlinewidth": 0,
              "ticks": ""
             }
            },
            "marker": {
             "colorbar": {
              "outlinewidth": 0,
              "ticks": ""
             }
            },
            "type": "scatter3d"
           }
          ],
          "scattercarpet": [
           {
            "marker": {
             "colorbar": {
              "outlinewidth": 0,
              "ticks": ""
             }
            },
            "type": "scattercarpet"
           }
          ],
          "scattergeo": [
           {
            "marker": {
             "colorbar": {
              "outlinewidth": 0,
              "ticks": ""
             }
            },
            "type": "scattergeo"
           }
          ],
          "scattergl": [
           {
            "marker": {
             "colorbar": {
              "outlinewidth": 0,
              "ticks": ""
             }
            },
            "type": "scattergl"
           }
          ],
          "scattermapbox": [
           {
            "marker": {
             "colorbar": {
              "outlinewidth": 0,
              "ticks": ""
             }
            },
            "type": "scattermapbox"
           }
          ],
          "scatterpolar": [
           {
            "marker": {
             "colorbar": {
              "outlinewidth": 0,
              "ticks": ""
             }
            },
            "type": "scatterpolar"
           }
          ],
          "scatterpolargl": [
           {
            "marker": {
             "colorbar": {
              "outlinewidth": 0,
              "ticks": ""
             }
            },
            "type": "scatterpolargl"
           }
          ],
          "scatterternary": [
           {
            "marker": {
             "colorbar": {
              "outlinewidth": 0,
              "ticks": ""
             }
            },
            "type": "scatterternary"
           }
          ],
          "surface": [
           {
            "colorbar": {
             "outlinewidth": 0,
             "ticks": ""
            },
            "colorscale": [
             [
              0,
              "#0d0887"
             ],
             [
              0.1111111111111111,
              "#46039f"
             ],
             [
              0.2222222222222222,
              "#7201a8"
             ],
             [
              0.3333333333333333,
              "#9c179e"
             ],
             [
              0.4444444444444444,
              "#bd3786"
             ],
             [
              0.5555555555555556,
              "#d8576b"
             ],
             [
              0.6666666666666666,
              "#ed7953"
             ],
             [
              0.7777777777777778,
              "#fb9f3a"
             ],
             [
              0.8888888888888888,
              "#fdca26"
             ],
             [
              1,
              "#f0f921"
             ]
            ],
            "type": "surface"
           }
          ],
          "table": [
           {
            "cells": {
             "fill": {
              "color": "#EBF0F8"
             },
             "line": {
              "color": "white"
             }
            },
            "header": {
             "fill": {
              "color": "#C8D4E3"
             },
             "line": {
              "color": "white"
             }
            },
            "type": "table"
           }
          ]
         },
         "layout": {
          "annotationdefaults": {
           "arrowcolor": "#2a3f5f",
           "arrowhead": 0,
           "arrowwidth": 1
          },
          "autotypenumbers": "strict",
          "coloraxis": {
           "colorbar": {
            "outlinewidth": 0,
            "ticks": ""
           }
          },
          "colorscale": {
           "diverging": [
            [
             0,
             "#8e0152"
            ],
            [
             0.1,
             "#c51b7d"
            ],
            [
             0.2,
             "#de77ae"
            ],
            [
             0.3,
             "#f1b6da"
            ],
            [
             0.4,
             "#fde0ef"
            ],
            [
             0.5,
             "#f7f7f7"
            ],
            [
             0.6,
             "#e6f5d0"
            ],
            [
             0.7,
             "#b8e186"
            ],
            [
             0.8,
             "#7fbc41"
            ],
            [
             0.9,
             "#4d9221"
            ],
            [
             1,
             "#276419"
            ]
           ],
           "sequential": [
            [
             0,
             "#0d0887"
            ],
            [
             0.1111111111111111,
             "#46039f"
            ],
            [
             0.2222222222222222,
             "#7201a8"
            ],
            [
             0.3333333333333333,
             "#9c179e"
            ],
            [
             0.4444444444444444,
             "#bd3786"
            ],
            [
             0.5555555555555556,
             "#d8576b"
            ],
            [
             0.6666666666666666,
             "#ed7953"
            ],
            [
             0.7777777777777778,
             "#fb9f3a"
            ],
            [
             0.8888888888888888,
             "#fdca26"
            ],
            [
             1,
             "#f0f921"
            ]
           ],
           "sequentialminus": [
            [
             0,
             "#0d0887"
            ],
            [
             0.1111111111111111,
             "#46039f"
            ],
            [
             0.2222222222222222,
             "#7201a8"
            ],
            [
             0.3333333333333333,
             "#9c179e"
            ],
            [
             0.4444444444444444,
             "#bd3786"
            ],
            [
             0.5555555555555556,
             "#d8576b"
            ],
            [
             0.6666666666666666,
             "#ed7953"
            ],
            [
             0.7777777777777778,
             "#fb9f3a"
            ],
            [
             0.8888888888888888,
             "#fdca26"
            ],
            [
             1,
             "#f0f921"
            ]
           ]
          },
          "colorway": [
           "#636efa",
           "#EF553B",
           "#00cc96",
           "#ab63fa",
           "#FFA15A",
           "#19d3f3",
           "#FF6692",
           "#B6E880",
           "#FF97FF",
           "#FECB52"
          ],
          "font": {
           "color": "#2a3f5f"
          },
          "geo": {
           "bgcolor": "white",
           "lakecolor": "white",
           "landcolor": "#E5ECF6",
           "showlakes": true,
           "showland": true,
           "subunitcolor": "white"
          },
          "hoverlabel": {
           "align": "left"
          },
          "hovermode": "closest",
          "mapbox": {
           "style": "light"
          },
          "paper_bgcolor": "white",
          "plot_bgcolor": "#E5ECF6",
          "polar": {
           "angularaxis": {
            "gridcolor": "white",
            "linecolor": "white",
            "ticks": ""
           },
           "bgcolor": "#E5ECF6",
           "radialaxis": {
            "gridcolor": "white",
            "linecolor": "white",
            "ticks": ""
           }
          },
          "scene": {
           "xaxis": {
            "backgroundcolor": "#E5ECF6",
            "gridcolor": "white",
            "gridwidth": 2,
            "linecolor": "white",
            "showbackground": true,
            "ticks": "",
            "zerolinecolor": "white"
           },
           "yaxis": {
            "backgroundcolor": "#E5ECF6",
            "gridcolor": "white",
            "gridwidth": 2,
            "linecolor": "white",
            "showbackground": true,
            "ticks": "",
            "zerolinecolor": "white"
           },
           "zaxis": {
            "backgroundcolor": "#E5ECF6",
            "gridcolor": "white",
            "gridwidth": 2,
            "linecolor": "white",
            "showbackground": true,
            "ticks": "",
            "zerolinecolor": "white"
           }
          },
          "shapedefaults": {
           "line": {
            "color": "#2a3f5f"
           }
          },
          "ternary": {
           "aaxis": {
            "gridcolor": "white",
            "linecolor": "white",
            "ticks": ""
           },
           "baxis": {
            "gridcolor": "white",
            "linecolor": "white",
            "ticks": ""
           },
           "bgcolor": "#E5ECF6",
           "caxis": {
            "gridcolor": "white",
            "linecolor": "white",
            "ticks": ""
           }
          },
          "title": {
           "x": 0.05
          },
          "xaxis": {
           "automargin": true,
           "gridcolor": "white",
           "linecolor": "white",
           "ticks": "",
           "title": {
            "standoff": 15
           },
           "zerolinecolor": "white",
           "zerolinewidth": 2
          },
          "yaxis": {
           "automargin": true,
           "gridcolor": "white",
           "linecolor": "white",
           "ticks": "",
           "title": {
            "standoff": 15
           },
           "zerolinecolor": "white",
           "zerolinewidth": 2
          }
         }
        },
        "xaxis": {
         "anchor": "y",
         "domain": [
          0,
          1
         ],
         "range": [
          0,
          0.7
         ],
         "title": {
          "text": "value"
         },
         "type": "linear"
        },
        "yaxis": {
         "anchor": "x",
         "autorange": true,
         "domain": [
          0,
          1
         ],
         "range": [
          -0.5,
          0.5
         ],
         "title": {
          "text": "variable"
         },
         "type": "category"
        }
       }
      },
      "image/png": "[encoded data removed]",
      "text/html": [
       "<div>                            <div id=\"3c10e792-29b4-4e19-ba21-4a3cc34cfefa\" class=\"plotly-graph-div\" style=\"height:525px; width:100%;\"></div>            <script type=\"text/javascript\">                require([\"plotly\"], function(Plotly) {                    window.PLOTLYENV=window.PLOTLYENV || {};                                    if (document.getElementById(\"3c10e792-29b4-4e19-ba21-4a3cc34cfefa\")) {                    Plotly.newPlot(                        \"3c10e792-29b4-4e19-ba21-4a3cc34cfefa\",                        [{\"alignmentgroup\": \"True\", \"hovertemplate\": \"value=%{x}<br>variable=%{y}<extra></extra>\", \"legendgroup\": \"\", \"marker\": {\"color\": \"#636efa\"}, \"name\": \"\", \"notched\": false, \"offsetgroup\": \"\", \"orientation\": \"h\", \"showlegend\": false, \"type\": \"box\", \"x\": [0.2697325231675852, 0.3104374563282033, 0.21564798630835336, 0.5093768242848803, 0.24991150363421355, 0.2806419750018637, 0.2500671232804595, 0.2316310382269369, 0.43373493975903615, 0.29107540752902544, 0.3542803112953669, 0.3334672405547585, 0.3810518975482248, 0.3862401254972268, 0.2887368200544655, 0.23653542242391976, 0.2238331035410432, 0.2970004917226685, 0.15050655111737818, 0.18481138119009347, 0.1679056856614128, 0.2583130346116807, 0.2674465510286406, 0.3023595834176845, 0.3040705967511869, 0.22376009227220292, 0.2813397129186603, 0.2348786885245901, 0.24440052700922266, 0.6344222330570454, 0.2996639895099165, 0.16454746117257274, 0.4364515320382419, 0.30241325819309994, 0.3388474360254709, 0.2233981094977959, 0.3398419172050384, 0.2265608106020821, 0.20452212957023733, 0.3591376400184134, 0.3387952235621796, 0.28419595745564835, 0.3252236807006219, 0.22014862956893214, 0.2414544383924628, 0.31561622191011235, 0.1745196045048923, 0.22839149254214444, 0.14408362409694372, 0.2403881632351856, 0.25173398612811104, 0.2949371218988925, 0.3089887640449438, 0.31351334350280713, 0.26699507389162563, 0.2787324566250414, 0.5111538052265451, 0.2631272789183207, 0.25182746975590986, 0.2279223367306269, 0.2649777797513529, 0.332763642490913, 0.29462224136001924, 0.3119270118251472, 0.19637526652452025, 0.2619952859799358, 0.13574007220216608, 0.26966966966966965, 0.2224014125014558, 0.2485615650172613, 0.4506172839506172, 0.3985439173320808, 0.23847019122609675, 0.19501742488461904, 0.2770155946635209, 0.16806851849979265, 0.16030534351145034, 0.3239451114922813, 0.24607876609161924, 0.2269993898981268, 0.2521895769923598, 0.2012035040552854, 0.1865583491712942, 0.10415970344261798, 0.2404929037182508, 0.3052858683926645, 0.30852145617246285, 0.24913516616221576, 0.3912839894310847, 0.3195199578341341, 0.30096920341801914, 0.30771173422401304, 0.2956005138086063, 0.2711387828881301, 0.1141990845713716, 0.3160089627500977, 0.3933438195350265, 0.6861238639557763, 0.1699604743083004, 0.15807802357684242, 0.385239852398524, 0.2851798784029741, 0.16577329471241475, 0.2936550300701043, 0.3404153862456289, 0.19951786211825706, 0.14806238804665994, 0.290139746208036, 0.3412133891213389, 0.19480846986037675, 0.23666512623437275, 0.2157337096521291, 0.3619824788219849, 0.18873085339168488, 0.1846995647681373, 0.10088925685502054, 0.3565902717338749, 0.3145121247529797, 0.3416547788873039, 0.34416105724695856, 0.29390551749008303, 0.21040776080605286, 0.211550339715874, 0.263075173957992, 0.1888614795442365, 0.20118643712825668, 0.2569210208107936, 0.4249750505386525, 0.2797202797202797, 0.3720058065665608, 0.16992785123127127, 0.2343185033799717, 0.3754226419493995, 0.16186580174634846, 0.19587882682601648, 0.2586980920314253, 0.25277474570868314, 0.316375462599529, 0.24708774179758464, 0.4168434545634484, 0.1251348042715842, 0.25274644460404416, 0.1819563259792886, 0.1602570095481749, 0.255141487552188, 0.2951513366058209, 0.30710319739613257, 0.35494554550259644, 0.05757307351638617, 0.16357267950963222, 0.25374494031905753, 0.3342208753513554, 0.39136381398983977, 0.21584137026676334, 0.4249896288761786, 0.3595961588592121, 0.20376359932977936, 0.23703703703703705, 0.3188747510061385, 0.2857142857142857, 0.3495532856558917, 0.2972749793559042, 0.05973261643537019, 0.2247949493067839, 0.3668104778719841, 0.21409921671018275, 0.4604424596829458, 0.34945462609529065, 0.3348839569659652, 0.3625360662494848, 0.3825761214100471, 0.3378628950395885, 0.2690157882662106, 0.17439146382127374, 0.1539275069704836, 0.09551815047657676, 0.16651276327517125, 0.2569799171907915, 0.1761098188902805, 0.16699553877831158, 0.30711889675736115, 0.3713671681269631, 0.11182001440975063, 0.2801258715369902, 0.33877551020408164, 0.1916503050787808, 0.32190091907644025, 0.10381866223225887, 0.181378373790528, 0.3676549157816791, 0.2915905146097034, 0.16330282129122484, 0.20637721572301007, 0.203267210397331, 0.3240529290769804, 0.20664802065404475, 0.2735553583546484, 0.18965067401072624, 0.2397383656054224, 0.3473104616687844, 0.1882999870456485, 0.16303210750784586, 0.21457858769931668, 0.3414609106308711, 0.3304998492721787, 0.2370429252782194, 0.3129662621088965, 0.28239693004034244, 0.3136404966451369, 0.26962739619322273, 0.3597388777473089, 0.3026734916749799, 0.2780745530798247, 0.30266264339645543, 0.3135883469505653, 0.1997075073123172, 0.1814133809717912, 0.2098051885889336, 0.1443025857414446, 0.25082946250829463, 0.24163892222771, 0.42857142857142855, 0.3232672639503219, 0.3655151141270821, 0.2749711063322754, 0.3640192539109505, 0.2443170452880524, 0.21727702193165604, 0.2755881935194107, 0.2665212278219965, 0.270033089710613, 0.2236644452374827, 0.26347014724124906, 0.36822955794866735, 0.2321836023496981, 0.1789034825401092, 0.18932592211942167, 0.2638791885893436, 0.3110132158590308, 0.16227270487360174, 0.2479274769212026, 0.39925979478540014, 0.230849478390462, 0.2883034869538455, 0.2667857278565186, 0.3721423802663481, 0.2895544378149744, 0.14672628691162812, 0.21340671738043784, 0.2887537993920973, 0.1830964841178332, 0.22420007355645452, 0.2443867939096329, 0.27855903452205216, 0.312268927237077, 0.3717594178439842, 0.2394829614494571, 0.34508842221608177, 0.26845583901658665, 0.3685193150722542, 0.27735309412376496, 0.3928842914847, 0.2553616484440706, 0.3296084975869379, 0.2100056529112493, 0.22496920640506776, 0.13417666263611214, 0.27096620359654555, 0.2564865171085429, 0.2927813100152125, 0.11599552564609936], \"x0\": \" \", \"xaxis\": \"x\", \"y\": [\"%recycle/hh\", \"%recycle/hh\", \"%recycle/hh\", \"%recycle/hh\", \"%recycle/hh\", \"%recycle/hh\", \"%recycle/hh\", \"%recycle/hh\", \"%recycle/hh\", \"%recycle/hh\", \"%recycle/hh\", \"%recycle/hh\", \"%recycle/hh\", \"%recycle/hh\", \"%recycle/hh\", \"%recycle/hh\", \"%recycle/hh\", \"%recycle/hh\", \"%recycle/hh\", \"%recycle/hh\", \"%recycle/hh\", \"%recycle/hh\", \"%recycle/hh\", \"%recycle/hh\", \"%recycle/hh\", \"%recycle/hh\", \"%recycle/hh\", \"%recycle/hh\", \"%recycle/hh\", \"%recycle/hh\", \"%recycle/hh\", \"%recycle/hh\", \"%recycle/hh\", \"%recycle/hh\", \"%recycle/hh\", \"%recycle/hh\", \"%recycle/hh\", \"%recycle/hh\", \"%recycle/hh\", \"%recycle/hh\", \"%recycle/hh\", \"%recycle/hh\", \"%recycle/hh\", \"%recycle/hh\", \"%recycle/hh\", \"%recycle/hh\", \"%recycle/hh\", \"%recycle/hh\", \"%recycle/hh\", \"%recycle/hh\", \"%recycle/hh\", \"%recycle/hh\", \"%recycle/hh\", \"%recycle/hh\", \"%recycle/hh\", \"%recycle/hh\", \"%recycle/hh\", \"%recycle/hh\", \"%recycle/hh\", \"%recycle/hh\", \"%recycle/hh\", \"%recycle/hh\", \"%recycle/hh\", \"%recycle/hh\", \"%recycle/hh\", \"%recycle/hh\", \"%recycle/hh\", \"%recycle/hh\", \"%recycle/hh\", \"%recycle/hh\", \"%recycle/hh\", \"%recycle/hh\", \"%recycle/hh\", \"%recycle/hh\", \"%recycle/hh\", \"%recycle/hh\", \"%recycle/hh\", \"%recycle/hh\", \"%recycle/hh\", \"%recycle/hh\", \"%recycle/hh\", \"%recycle/hh\", \"%recycle/hh\", \"%recycle/hh\", \"%recycle/hh\", \"%recycle/hh\", \"%recycle/hh\", \"%recycle/hh\", \"%recycle/hh\", \"%recycle/hh\", \"%recycle/hh\", \"%recycle/hh\", \"%recycle/hh\", \"%recycle/hh\", \"%recycle/hh\", \"%recycle/hh\", \"%recycle/hh\", \"%recycle/hh\", \"%recycle/hh\", \"%recycle/hh\", \"%recycle/hh\", \"%recycle/hh\", \"%recycle/hh\", \"%recycle/hh\", \"%recycle/hh\", \"%recycle/hh\", \"%recycle/hh\", \"%recycle/hh\", \"%recycle/hh\", \"%recycle/hh\", \"%recycle/hh\", \"%recycle/hh\", \"%recycle/hh\", \"%recycle/hh\", \"%recycle/hh\", \"%recycle/hh\", \"%recycle/hh\", \"%recycle/hh\", \"%recycle/hh\", \"%recycle/hh\", \"%recycle/hh\", \"%recycle/hh\", \"%recycle/hh\", \"%recycle/hh\", \"%recycle/hh\", \"%recycle/hh\", \"%recycle/hh\", \"%recycle/hh\", \"%recycle/hh\", \"%recycle/hh\", \"%recycle/hh\", \"%recycle/hh\", \"%recycle/hh\", \"%recycle/hh\", \"%recycle/hh\", \"%recycle/hh\", \"%recycle/hh\", \"%recycle/hh\", \"%recycle/hh\", \"%recycle/hh\", \"%recycle/hh\", \"%recycle/hh\", \"%recycle/hh\", \"%recycle/hh\", \"%recycle/hh\", \"%recycle/hh\", \"%recycle/hh\", \"%recycle/hh\", \"%recycle/hh\", \"%recycle/hh\", \"%recycle/hh\", \"%recycle/hh\", \"%recycle/hh\", \"%recycle/hh\", \"%recycle/hh\", \"%recycle/hh\", \"%recycle/hh\", \"%recycle/hh\", \"%recycle/hh\", \"%recycle/hh\", \"%recycle/hh\", \"%recycle/hh\", \"%recycle/hh\", \"%recycle/hh\", \"%recycle/hh\", \"%recycle/hh\", \"%recycle/hh\", \"%recycle/hh\", \"%recycle/hh\", \"%recycle/hh\", \"%recycle/hh\", \"%recycle/hh\", \"%recycle/hh\", \"%recycle/hh\", \"%recycle/hh\", \"%recycle/hh\", \"%recycle/hh\", \"%recycle/hh\", \"%recycle/hh\", \"%recycle/hh\", \"%recycle/hh\", \"%recycle/hh\", \"%recycle/hh\", \"%recycle/hh\", \"%recycle/hh\", \"%recycle/hh\", \"%recycle/hh\", \"%recycle/hh\", \"%recycle/hh\", \"%recycle/hh\", \"%recycle/hh\", \"%recycle/hh\", \"%recycle/hh\", \"%recycle/hh\", \"%recycle/hh\", \"%recycle/hh\", \"%recycle/hh\", \"%recycle/hh\", \"%recycle/hh\", \"%recycle/hh\", \"%recycle/hh\", \"%recycle/hh\", \"%recycle/hh\", \"%recycle/hh\", \"%recycle/hh\", \"%recycle/hh\", \"%recycle/hh\", \"%recycle/hh\", \"%recycle/hh\", \"%recycle/hh\", \"%recycle/hh\", \"%recycle/hh\", \"%recycle/hh\", \"%recycle/hh\", \"%recycle/hh\", \"%recycle/hh\", \"%recycle/hh\", \"%recycle/hh\", \"%recycle/hh\", \"%recycle/hh\", \"%recycle/hh\", \"%recycle/hh\", \"%recycle/hh\", \"%recycle/hh\", \"%recycle/hh\", \"%recycle/hh\", \"%recycle/hh\", \"%recycle/hh\", \"%recycle/hh\", \"%recycle/hh\", \"%recycle/hh\", \"%recycle/hh\", \"%recycle/hh\", \"%recycle/hh\", \"%recycle/hh\", \"%recycle/hh\", \"%recycle/hh\", \"%recycle/hh\", \"%recycle/hh\", \"%recycle/hh\", \"%recycle/hh\", \"%recycle/hh\", \"%recycle/hh\", \"%recycle/hh\", \"%recycle/hh\", \"%recycle/hh\", \"%recycle/hh\", \"%recycle/hh\", \"%recycle/hh\", \"%recycle/hh\", \"%recycle/hh\", \"%recycle/hh\", \"%recycle/hh\", \"%recycle/hh\", \"%recycle/hh\", \"%recycle/hh\", \"%recycle/hh\", \"%recycle/hh\", \"%recycle/hh\", \"%recycle/hh\", \"%recycle/hh\", \"%recycle/hh\", \"%recycle/hh\", \"%recycle/hh\", \"%recycle/hh\", \"%recycle/hh\", \"%recycle/hh\", \"%recycle/hh\", \"%recycle/hh\", \"%recycle/hh\", \"%recycle/hh\"], \"y0\": \" \", \"yaxis\": \"y\"}],                        {\"boxmode\": \"group\", \"legend\": {\"tracegroupgap\": 0}, \"margin\": {\"t\": 60}, \"template\": {\"data\": {\"bar\": [{\"error_x\": {\"color\": \"#2a3f5f\"}, \"error_y\": {\"color\": \"#2a3f5f\"}, \"marker\": {\"line\": {\"color\": \"#E5ECF6\", \"width\": 0.5}}, \"type\": \"bar\"}], \"barpolar\": [{\"marker\": {\"line\": {\"color\": \"#E5ECF6\", \"width\": 0.5}}, \"type\": \"barpolar\"}], \"carpet\": [{\"aaxis\": {\"endlinecolor\": \"#2a3f5f\", \"gridcolor\": \"white\", \"linecolor\": \"white\", \"minorgridcolor\": \"white\", \"startlinecolor\": \"#2a3f5f\"}, \"baxis\": {\"endlinecolor\": \"#2a3f5f\", \"gridcolor\": \"white\", \"linecolor\": \"white\", \"minorgridcolor\": \"white\", \"startlinecolor\": \"#2a3f5f\"}, \"type\": \"carpet\"}], \"choropleth\": [{\"colorbar\": {\"outlinewidth\": 0, \"ticks\": \"\"}, \"type\": \"choropleth\"}], \"contour\": [{\"colorbar\": {\"outlinewidth\": 0, \"ticks\": \"\"}, \"colorscale\": [[0.0, \"#0d0887\"], [0.1111111111111111, \"#46039f\"], [0.2222222222222222, \"#7201a8\"], [0.3333333333333333, \"#9c179e\"], [0.4444444444444444, \"#bd3786\"], [0.5555555555555556, \"#d8576b\"], [0.6666666666666666, \"#ed7953\"], [0.7777777777777778, \"#fb9f3a\"], [0.8888888888888888, \"#fdca26\"], [1.0, \"#f0f921\"]], \"type\": \"contour\"}], \"contourcarpet\": [{\"colorbar\": {\"outlinewidth\": 0, \"ticks\": \"\"}, \"type\": \"contourcarpet\"}], \"heatmap\": [{\"colorbar\": {\"outlinewidth\": 0, \"ticks\": \"\"}, \"colorscale\": [[0.0, \"#0d0887\"], [0.1111111111111111, \"#46039f\"], [0.2222222222222222, \"#7201a8\"], [0.3333333333333333, \"#9c179e\"], [0.4444444444444444, \"#bd3786\"], [0.5555555555555556, \"#d8576b\"], [0.6666666666666666, \"#ed7953\"], [0.7777777777777778, \"#fb9f3a\"], [0.8888888888888888, \"#fdca26\"], [1.0, \"#f0f921\"]], \"type\": \"heatmap\"}], \"heatmapgl\": [{\"colorbar\": {\"outlinewidth\": 0, \"ticks\": \"\"}, \"colorscale\": [[0.0, \"#0d0887\"], [0.1111111111111111, \"#46039f\"], [0.2222222222222222, \"#7201a8\"], [0.3333333333333333, \"#9c179e\"], [0.4444444444444444, \"#bd3786\"], [0.5555555555555556, \"#d8576b\"], [0.6666666666666666, \"#ed7953\"], [0.7777777777777778, \"#fb9f3a\"], [0.8888888888888888, \"#fdca26\"], [1.0, \"#f0f921\"]], \"type\": \"heatmapgl\"}], \"histogram\": [{\"marker\": {\"colorbar\": {\"outlinewidth\": 0, \"ticks\": \"\"}}, \"type\": \"histogram\"}], \"histogram2d\": [{\"colorbar\": {\"outlinewidth\": 0, \"ticks\": \"\"}, \"colorscale\": [[0.0, \"#0d0887\"], [0.1111111111111111, \"#46039f\"], [0.2222222222222222, \"#7201a8\"], [0.3333333333333333, \"#9c179e\"], [0.4444444444444444, \"#bd3786\"], [0.5555555555555556, \"#d8576b\"], [0.6666666666666666, \"#ed7953\"], [0.7777777777777778, \"#fb9f3a\"], [0.8888888888888888, \"#fdca26\"], [1.0, \"#f0f921\"]], \"type\": \"histogram2d\"}], \"histogram2dcontour\": [{\"colorbar\": {\"outlinewidth\": 0, \"ticks\": \"\"}, \"colorscale\": [[0.0, \"#0d0887\"], [0.1111111111111111, \"#46039f\"], [0.2222222222222222, \"#7201a8\"], [0.3333333333333333, \"#9c179e\"], [0.4444444444444444, \"#bd3786\"], [0.5555555555555556, \"#d8576b\"], [0.6666666666666666, \"#ed7953\"], [0.7777777777777778, \"#fb9f3a\"], [0.8888888888888888, \"#fdca26\"], [1.0, \"#f0f921\"]], \"type\": \"histogram2dcontour\"}], \"mesh3d\": [{\"colorbar\": {\"outlinewidth\": 0, \"ticks\": \"\"}, \"type\": \"mesh3d\"}], \"parcoords\": [{\"line\": {\"colorbar\": {\"outlinewidth\": 0, \"ticks\": \"\"}}, \"type\": \"parcoords\"}], \"pie\": [{\"automargin\": true, \"type\": \"pie\"}], \"scatter\": [{\"marker\": {\"colorbar\": {\"outlinewidth\": 0, \"ticks\": \"\"}}, \"type\": \"scatter\"}], \"scatter3d\": [{\"line\": {\"colorbar\": {\"outlinewidth\": 0, \"ticks\": \"\"}}, \"marker\": {\"colorbar\": {\"outlinewidth\": 0, \"ticks\": \"\"}}, \"type\": \"scatter3d\"}], \"scattercarpet\": [{\"marker\": {\"colorbar\": {\"outlinewidth\": 0, \"ticks\": \"\"}}, \"type\": \"scattercarpet\"}], \"scattergeo\": [{\"marker\": {\"colorbar\": {\"outlinewidth\": 0, \"ticks\": \"\"}}, \"type\": \"scattergeo\"}], \"scattergl\": [{\"marker\": {\"colorbar\": {\"outlinewidth\": 0, \"ticks\": \"\"}}, \"type\": \"scattergl\"}], \"scattermapbox\": [{\"marker\": {\"colorbar\": {\"outlinewidth\": 0, \"ticks\": \"\"}}, \"type\": \"scattermapbox\"}], \"scatterpolar\": [{\"marker\": {\"colorbar\": {\"outlinewidth\": 0, \"ticks\": \"\"}}, \"type\": \"scatterpolar\"}], \"scatterpolargl\": [{\"marker\": {\"colorbar\": {\"outlinewidth\": 0, \"ticks\": \"\"}}, \"type\": \"scatterpolargl\"}], \"scatterternary\": [{\"marker\": {\"colorbar\": {\"outlinewidth\": 0, \"ticks\": \"\"}}, \"type\": \"scatterternary\"}], \"surface\": [{\"colorbar\": {\"outlinewidth\": 0, \"ticks\": \"\"}, \"colorscale\": [[0.0, \"#0d0887\"], [0.1111111111111111, \"#46039f\"], [0.2222222222222222, \"#7201a8\"], [0.3333333333333333, \"#9c179e\"], [0.4444444444444444, \"#bd3786\"], [0.5555555555555556, \"#d8576b\"], [0.6666666666666666, \"#ed7953\"], [0.7777777777777778, \"#fb9f3a\"], [0.8888888888888888, \"#fdca26\"], [1.0, \"#f0f921\"]], \"type\": \"surface\"}], \"table\": [{\"cells\": {\"fill\": {\"color\": \"#EBF0F8\"}, \"line\": {\"color\": \"white\"}}, \"header\": {\"fill\": {\"color\": \"#C8D4E3\"}, \"line\": {\"color\": \"white\"}}, \"type\": \"table\"}]}, \"layout\": {\"annotationdefaults\": {\"arrowcolor\": \"#2a3f5f\", \"arrowhead\": 0, \"arrowwidth\": 1}, \"autotypenumbers\": \"strict\", \"coloraxis\": {\"colorbar\": {\"outlinewidth\": 0, \"ticks\": \"\"}}, \"colorscale\": {\"diverging\": [[0, \"#8e0152\"], [0.1, \"#c51b7d\"], [0.2, \"#de77ae\"], [0.3, \"#f1b6da\"], [0.4, \"#fde0ef\"], [0.5, \"#f7f7f7\"], [0.6, \"#e6f5d0\"], [0.7, \"#b8e186\"], [0.8, \"#7fbc41\"], [0.9, \"#4d9221\"], [1, \"#276419\"]], \"sequential\": [[0.0, \"#0d0887\"], [0.1111111111111111, \"#46039f\"], [0.2222222222222222, \"#7201a8\"], [0.3333333333333333, \"#9c179e\"], [0.4444444444444444, \"#bd3786\"], [0.5555555555555556, \"#d8576b\"], [0.6666666666666666, \"#ed7953\"], [0.7777777777777778, \"#fb9f3a\"], [0.8888888888888888, \"#fdca26\"], [1.0, \"#f0f921\"]], \"sequentialminus\": [[0.0, \"#0d0887\"], [0.1111111111111111, \"#46039f\"], [0.2222222222222222, \"#7201a8\"], [0.3333333333333333, \"#9c179e\"], [0.4444444444444444, \"#bd3786\"], [0.5555555555555556, \"#d8576b\"], [0.6666666666666666, \"#ed7953\"], [0.7777777777777778, \"#fb9f3a\"], [0.8888888888888888, \"#fdca26\"], [1.0, \"#f0f921\"]]}, \"colorway\": [\"#636efa\", \"#EF553B\", \"#00cc96\", \"#ab63fa\", \"#FFA15A\", \"#19d3f3\", \"#FF6692\", \"#B6E880\", \"#FF97FF\", \"#FECB52\"], \"font\": {\"color\": \"#2a3f5f\"}, \"geo\": {\"bgcolor\": \"white\", \"lakecolor\": \"white\", \"landcolor\": \"#E5ECF6\", \"showlakes\": true, \"showland\": true, \"subunitcolor\": \"white\"}, \"hoverlabel\": {\"align\": \"left\"}, \"hovermode\": \"closest\", \"mapbox\": {\"style\": \"light\"}, \"paper_bgcolor\": \"white\", \"plot_bgcolor\": \"#E5ECF6\", \"polar\": {\"angularaxis\": {\"gridcolor\": \"white\", \"linecolor\": \"white\", \"ticks\": \"\"}, \"bgcolor\": \"#E5ECF6\", \"radialaxis\": {\"gridcolor\": \"white\", \"linecolor\": \"white\", \"ticks\": \"\"}}, \"scene\": {\"xaxis\": {\"backgroundcolor\": \"#E5ECF6\", \"gridcolor\": \"white\", \"gridwidth\": 2, \"linecolor\": \"white\", \"showbackground\": true, \"ticks\": \"\", \"zerolinecolor\": \"white\"}, \"yaxis\": {\"backgroundcolor\": \"#E5ECF6\", \"gridcolor\": \"white\", \"gridwidth\": 2, \"linecolor\": \"white\", \"showbackground\": true, \"ticks\": \"\", \"zerolinecolor\": \"white\"}, \"zaxis\": {\"backgroundcolor\": \"#E5ECF6\", \"gridcolor\": \"white\", \"gridwidth\": 2, \"linecolor\": \"white\", \"showbackground\": true, \"ticks\": \"\", \"zerolinecolor\": \"white\"}}, \"shapedefaults\": {\"line\": {\"color\": \"#2a3f5f\"}}, \"ternary\": {\"aaxis\": {\"gridcolor\": \"white\", \"linecolor\": \"white\", \"ticks\": \"\"}, \"baxis\": {\"gridcolor\": \"white\", \"linecolor\": \"white\", \"ticks\": \"\"}, \"bgcolor\": \"#E5ECF6\", \"caxis\": {\"gridcolor\": \"white\", \"linecolor\": \"white\", \"ticks\": \"\"}}, \"title\": {\"x\": 0.05}, \"xaxis\": {\"automargin\": true, \"gridcolor\": \"white\", \"linecolor\": \"white\", \"ticks\": \"\", \"title\": {\"standoff\": 15}, \"zerolinecolor\": \"white\", \"zerolinewidth\": 2}, \"yaxis\": {\"automargin\": true, \"gridcolor\": \"white\", \"linecolor\": \"white\", \"ticks\": \"\", \"title\": {\"standoff\": 15}, \"zerolinecolor\": \"white\", \"zerolinewidth\": 2}}}, \"xaxis\": {\"anchor\": \"y\", \"domain\": [0.0, 1.0], \"range\": [0, 0.7], \"title\": {\"text\": \"value\"}}, \"yaxis\": {\"anchor\": \"x\", \"domain\": [0.0, 1.0], \"title\": {\"text\": \"variable\"}}},                        {\"responsive\": true}                    ).then(function(){\n",
       "                            \n",
       "var gd = document.getElementById('3c10e792-29b4-4e19-ba21-4a3cc34cfefa');\n",
       "var x = new MutationObserver(function (mutations, observer) {{\n",
       "        var display = window.getComputedStyle(gd).display;\n",
       "        if (!display || display === 'none') {{\n",
       "            console.log([gd, 'removed!']);\n",
       "            Plotly.purge(gd);\n",
       "            observer.disconnect();\n",
       "        }}\n",
       "}});\n",
       "\n",
       "// Listen for the removal of the full notebook cells\n",
       "var notebookContainer = gd.closest('#notebook-container');\n",
       "if (notebookContainer) {{\n",
       "    x.observe(notebookContainer, {childList: true});\n",
       "}}\n",
       "\n",
       "// Listen for the clearing of the current output cell\n",
       "var outputEl = gd.closest('.output');\n",
       "if (outputEl) {{\n",
       "    x.observe(outputEl, {childList: true});\n",
       "}}\n",
       "\n",
       "                        })                };                });            </script>        </div>"
      ]
     },
     "metadata": {},
     "output_type": "display_data"
    }
   ],
   "source": [
    "px.box(y0, orientation = 'h', range_x=(0,0.7))"
   ]
  },
  {
   "cell_type": "code",
   "execution_count": 8,
   "metadata": {},
   "outputs": [],
   "source": [
    "# Data w/o outliers\n",
    "df_for_regression1 = df_for_regression[df_for_regression['%recycle/hh'] < 0.5]\n",
    "X1 = df_for_regression1.drop(columns=['%recycle/hh'])\n",
    "y1 = df_for_regression1['%recycle/hh']"
   ]
  },
  {
   "cell_type": "code",
   "execution_count": 12,
   "metadata": {},
   "outputs": [
    {
     "data": {
      "application/vnd.plotly.v1+json": {
       "config": {
        "plotlyServerURL": "https://plot.ly"
       },
       "data": [
        {
         "alignmentgroup": "True",
         "hovertemplate": "value=%{x}<br>variable=%{y}<extra></extra>",
         "legendgroup": "",
         "marker": {
          "color": "#636efa"
         },
         "name": "",
         "notched": false,
         "offsetgroup": "",
         "orientation": "h",
         "showlegend": false,
         "type": "box",
         "x": [
          0.2697325231675852,
          0.3104374563282033,
          0.21564798630835336,
          0.24991150363421355,
          0.2806419750018637,
          0.2500671232804595,
          0.2316310382269369,
          0.43373493975903615,
          0.29107540752902544,
          0.3542803112953669,
          0.3334672405547585,
          0.3810518975482248,
          0.3862401254972268,
          0.2887368200544655,
          0.23653542242391976,
          0.2238331035410432,
          0.2970004917226685,
          0.15050655111737818,
          0.18481138119009347,
          0.1679056856614128,
          0.2583130346116807,
          0.2674465510286406,
          0.3023595834176845,
          0.3040705967511869,
          0.22376009227220292,
          0.2813397129186603,
          0.2348786885245901,
          0.24440052700922266,
          0.2996639895099165,
          0.16454746117257274,
          0.4364515320382419,
          0.30241325819309994,
          0.3388474360254709,
          0.2233981094977959,
          0.3398419172050384,
          0.2265608106020821,
          0.20452212957023733,
          0.3591376400184134,
          0.3387952235621796,
          0.28419595745564835,
          0.3252236807006219,
          0.22014862956893214,
          0.2414544383924628,
          0.31561622191011235,
          0.1745196045048923,
          0.22839149254214444,
          0.14408362409694372,
          0.2403881632351856,
          0.25173398612811104,
          0.2949371218988925,
          0.3089887640449438,
          0.31351334350280713,
          0.26699507389162563,
          0.2787324566250414,
          0.2631272789183207,
          0.25182746975590986,
          0.2279223367306269,
          0.2649777797513529,
          0.332763642490913,
          0.29462224136001924,
          0.3119270118251472,
          0.19637526652452025,
          0.2619952859799358,
          0.13574007220216608,
          0.26966966966966965,
          0.2224014125014558,
          0.2485615650172613,
          0.4506172839506172,
          0.3985439173320808,
          0.23847019122609675,
          0.19501742488461904,
          0.2770155946635209,
          0.16806851849979265,
          0.16030534351145034,
          0.3239451114922813,
          0.24607876609161924,
          0.2269993898981268,
          0.2521895769923598,
          0.2012035040552854,
          0.1865583491712942,
          0.10415970344261798,
          0.2404929037182508,
          0.3052858683926645,
          0.30852145617246285,
          0.24913516616221576,
          0.3912839894310847,
          0.3195199578341341,
          0.30096920341801914,
          0.30771173422401304,
          0.2956005138086063,
          0.2711387828881301,
          0.1141990845713716,
          0.3160089627500977,
          0.3933438195350265,
          0.1699604743083004,
          0.15807802357684242,
          0.385239852398524,
          0.2851798784029741,
          0.16577329471241475,
          0.2936550300701043,
          0.3404153862456289,
          0.19951786211825706,
          0.14806238804665994,
          0.290139746208036,
          0.3412133891213389,
          0.19480846986037675,
          0.23666512623437275,
          0.2157337096521291,
          0.3619824788219849,
          0.18873085339168488,
          0.1846995647681373,
          0.10088925685502054,
          0.3565902717338749,
          0.3145121247529797,
          0.3416547788873039,
          0.34416105724695856,
          0.29390551749008303,
          0.21040776080605286,
          0.211550339715874,
          0.263075173957992,
          0.1888614795442365,
          0.20118643712825668,
          0.2569210208107936,
          0.4249750505386525,
          0.2797202797202797,
          0.3720058065665608,
          0.16992785123127127,
          0.2343185033799717,
          0.3754226419493995,
          0.16186580174634846,
          0.19587882682601648,
          0.2586980920314253,
          0.25277474570868314,
          0.316375462599529,
          0.24708774179758464,
          0.4168434545634484,
          0.1251348042715842,
          0.25274644460404416,
          0.1819563259792886,
          0.1602570095481749,
          0.255141487552188,
          0.2951513366058209,
          0.30710319739613257,
          0.35494554550259644,
          0.05757307351638617,
          0.16357267950963222,
          0.25374494031905753,
          0.3342208753513554,
          0.39136381398983977,
          0.21584137026676334,
          0.4249896288761786,
          0.3595961588592121,
          0.20376359932977936,
          0.23703703703703705,
          0.3188747510061385,
          0.2857142857142857,
          0.3495532856558917,
          0.2972749793559042,
          0.05973261643537019,
          0.2247949493067839,
          0.3668104778719841,
          0.21409921671018275,
          0.4604424596829458,
          0.34945462609529065,
          0.3348839569659652,
          0.3625360662494848,
          0.3825761214100471,
          0.3378628950395885,
          0.2690157882662106,
          0.17439146382127374,
          0.1539275069704836,
          0.09551815047657676,
          0.16651276327517125,
          0.2569799171907915,
          0.1761098188902805,
          0.16699553877831158,
          0.30711889675736115,
          0.3713671681269631,
          0.11182001440975063,
          0.2801258715369902,
          0.33877551020408164,
          0.1916503050787808,
          0.32190091907644025,
          0.10381866223225887,
          0.181378373790528,
          0.3676549157816791,
          0.2915905146097034,
          0.16330282129122484,
          0.20637721572301007,
          0.203267210397331,
          0.3240529290769804,
          0.20664802065404475,
          0.2735553583546484,
          0.18965067401072624,
          0.2397383656054224,
          0.3473104616687844,
          0.1882999870456485,
          0.16303210750784586,
          0.21457858769931668,
          0.3414609106308711,
          0.3304998492721787,
          0.2370429252782194,
          0.3129662621088965,
          0.28239693004034244,
          0.3136404966451369,
          0.26962739619322273,
          0.3597388777473089,
          0.3026734916749799,
          0.2780745530798247,
          0.30266264339645543,
          0.3135883469505653,
          0.1997075073123172,
          0.1814133809717912,
          0.2098051885889336,
          0.1443025857414446,
          0.25082946250829463,
          0.24163892222771,
          0.42857142857142855,
          0.3232672639503219,
          0.3655151141270821,
          0.2749711063322754,
          0.3640192539109505,
          0.2443170452880524,
          0.21727702193165604,
          0.2755881935194107,
          0.2665212278219965,
          0.270033089710613,
          0.2236644452374827,
          0.26347014724124906,
          0.36822955794866735,
          0.2321836023496981,
          0.1789034825401092,
          0.18932592211942167,
          0.2638791885893436,
          0.3110132158590308,
          0.16227270487360174,
          0.2479274769212026,
          0.39925979478540014,
          0.230849478390462,
          0.2883034869538455,
          0.2667857278565186,
          0.3721423802663481,
          0.2895544378149744,
          0.14672628691162812,
          0.21340671738043784,
          0.2887537993920973,
          0.1830964841178332,
          0.22420007355645452,
          0.2443867939096329,
          0.27855903452205216,
          0.312268927237077,
          0.3717594178439842,
          0.2394829614494571,
          0.34508842221608177,
          0.26845583901658665,
          0.3685193150722542,
          0.27735309412376496,
          0.3928842914847,
          0.2553616484440706,
          0.3296084975869379,
          0.2100056529112493,
          0.22496920640506776,
          0.13417666263611214,
          0.27096620359654555,
          0.2564865171085429,
          0.2927813100152125,
          0.11599552564609936
         ],
         "x0": " ",
         "xaxis": "x",
         "y": [
          "%recycle/hh",
          "%recycle/hh",
          "%recycle/hh",
          "%recycle/hh",
          "%recycle/hh",
          "%recycle/hh",
          "%recycle/hh",
          "%recycle/hh",
          "%recycle/hh",
          "%recycle/hh",
          "%recycle/hh",
          "%recycle/hh",
          "%recycle/hh",
          "%recycle/hh",
          "%recycle/hh",
          "%recycle/hh",
          "%recycle/hh",
          "%recycle/hh",
          "%recycle/hh",
          "%recycle/hh",
          "%recycle/hh",
          "%recycle/hh",
          "%recycle/hh",
          "%recycle/hh",
          "%recycle/hh",
          "%recycle/hh",
          "%recycle/hh",
          "%recycle/hh",
          "%recycle/hh",
          "%recycle/hh",
          "%recycle/hh",
          "%recycle/hh",
          "%recycle/hh",
          "%recycle/hh",
          "%recycle/hh",
          "%recycle/hh",
          "%recycle/hh",
          "%recycle/hh",
          "%recycle/hh",
          "%recycle/hh",
          "%recycle/hh",
          "%recycle/hh",
          "%recycle/hh",
          "%recycle/hh",
          "%recycle/hh",
          "%recycle/hh",
          "%recycle/hh",
          "%recycle/hh",
          "%recycle/hh",
          "%recycle/hh",
          "%recycle/hh",
          "%recycle/hh",
          "%recycle/hh",
          "%recycle/hh",
          "%recycle/hh",
          "%recycle/hh",
          "%recycle/hh",
          "%recycle/hh",
          "%recycle/hh",
          "%recycle/hh",
          "%recycle/hh",
          "%recycle/hh",
          "%recycle/hh",
          "%recycle/hh",
          "%recycle/hh",
          "%recycle/hh",
          "%recycle/hh",
          "%recycle/hh",
          "%recycle/hh",
          "%recycle/hh",
          "%recycle/hh",
          "%recycle/hh",
          "%recycle/hh",
          "%recycle/hh",
          "%recycle/hh",
          "%recycle/hh",
          "%recycle/hh",
          "%recycle/hh",
          "%recycle/hh",
          "%recycle/hh",
          "%recycle/hh",
          "%recycle/hh",
          "%recycle/hh",
          "%recycle/hh",
          "%recycle/hh",
          "%recycle/hh",
          "%recycle/hh",
          "%recycle/hh",
          "%recycle/hh",
          "%recycle/hh",
          "%recycle/hh",
          "%recycle/hh",
          "%recycle/hh",
          "%recycle/hh",
          "%recycle/hh",
          "%recycle/hh",
          "%recycle/hh",
          "%recycle/hh",
          "%recycle/hh",
          "%recycle/hh",
          "%recycle/hh",
          "%recycle/hh",
          "%recycle/hh",
          "%recycle/hh",
          "%recycle/hh",
          "%recycle/hh",
          "%recycle/hh",
          "%recycle/hh",
          "%recycle/hh",
          "%recycle/hh",
          "%recycle/hh",
          "%recycle/hh",
          "%recycle/hh",
          "%recycle/hh",
          "%recycle/hh",
          "%recycle/hh",
          "%recycle/hh",
          "%recycle/hh",
          "%recycle/hh",
          "%recycle/hh",
          "%recycle/hh",
          "%recycle/hh",
          "%recycle/hh",
          "%recycle/hh",
          "%recycle/hh",
          "%recycle/hh",
          "%recycle/hh",
          "%recycle/hh",
          "%recycle/hh",
          "%recycle/hh",
          "%recycle/hh",
          "%recycle/hh",
          "%recycle/hh",
          "%recycle/hh",
          "%recycle/hh",
          "%recycle/hh",
          "%recycle/hh",
          "%recycle/hh",
          "%recycle/hh",
          "%recycle/hh",
          "%recycle/hh",
          "%recycle/hh",
          "%recycle/hh",
          "%recycle/hh",
          "%recycle/hh",
          "%recycle/hh",
          "%recycle/hh",
          "%recycle/hh",
          "%recycle/hh",
          "%recycle/hh",
          "%recycle/hh",
          "%recycle/hh",
          "%recycle/hh",
          "%recycle/hh",
          "%recycle/hh",
          "%recycle/hh",
          "%recycle/hh",
          "%recycle/hh",
          "%recycle/hh",
          "%recycle/hh",
          "%recycle/hh",
          "%recycle/hh",
          "%recycle/hh",
          "%recycle/hh",
          "%recycle/hh",
          "%recycle/hh",
          "%recycle/hh",
          "%recycle/hh",
          "%recycle/hh",
          "%recycle/hh",
          "%recycle/hh",
          "%recycle/hh",
          "%recycle/hh",
          "%recycle/hh",
          "%recycle/hh",
          "%recycle/hh",
          "%recycle/hh",
          "%recycle/hh",
          "%recycle/hh",
          "%recycle/hh",
          "%recycle/hh",
          "%recycle/hh",
          "%recycle/hh",
          "%recycle/hh",
          "%recycle/hh",
          "%recycle/hh",
          "%recycle/hh",
          "%recycle/hh",
          "%recycle/hh",
          "%recycle/hh",
          "%recycle/hh",
          "%recycle/hh",
          "%recycle/hh",
          "%recycle/hh",
          "%recycle/hh",
          "%recycle/hh",
          "%recycle/hh",
          "%recycle/hh",
          "%recycle/hh",
          "%recycle/hh",
          "%recycle/hh",
          "%recycle/hh",
          "%recycle/hh",
          "%recycle/hh",
          "%recycle/hh",
          "%recycle/hh",
          "%recycle/hh",
          "%recycle/hh",
          "%recycle/hh",
          "%recycle/hh",
          "%recycle/hh",
          "%recycle/hh",
          "%recycle/hh",
          "%recycle/hh",
          "%recycle/hh",
          "%recycle/hh",
          "%recycle/hh",
          "%recycle/hh",
          "%recycle/hh",
          "%recycle/hh",
          "%recycle/hh",
          "%recycle/hh",
          "%recycle/hh",
          "%recycle/hh",
          "%recycle/hh",
          "%recycle/hh",
          "%recycle/hh",
          "%recycle/hh",
          "%recycle/hh",
          "%recycle/hh",
          "%recycle/hh",
          "%recycle/hh",
          "%recycle/hh",
          "%recycle/hh",
          "%recycle/hh",
          "%recycle/hh",
          "%recycle/hh",
          "%recycle/hh",
          "%recycle/hh",
          "%recycle/hh",
          "%recycle/hh",
          "%recycle/hh",
          "%recycle/hh",
          "%recycle/hh",
          "%recycle/hh",
          "%recycle/hh",
          "%recycle/hh",
          "%recycle/hh",
          "%recycle/hh",
          "%recycle/hh",
          "%recycle/hh",
          "%recycle/hh",
          "%recycle/hh",
          "%recycle/hh",
          "%recycle/hh",
          "%recycle/hh",
          "%recycle/hh",
          "%recycle/hh",
          "%recycle/hh",
          "%recycle/hh",
          "%recycle/hh",
          "%recycle/hh",
          "%recycle/hh",
          "%recycle/hh",
          "%recycle/hh",
          "%recycle/hh",
          "%recycle/hh"
         ],
         "y0": " ",
         "yaxis": "y"
        }
       ],
       "layout": {
        "autosize": true,
        "boxmode": "group",
        "legend": {
         "tracegroupgap": 0
        },
        "margin": {
         "t": 60
        },
        "template": {
         "data": {
          "bar": [
           {
            "error_x": {
             "color": "#2a3f5f"
            },
            "error_y": {
             "color": "#2a3f5f"
            },
            "marker": {
             "line": {
              "color": "#E5ECF6",
              "width": 0.5
             }
            },
            "type": "bar"
           }
          ],
          "barpolar": [
           {
            "marker": {
             "line": {
              "color": "#E5ECF6",
              "width": 0.5
             }
            },
            "type": "barpolar"
           }
          ],
          "carpet": [
           {
            "aaxis": {
             "endlinecolor": "#2a3f5f",
             "gridcolor": "white",
             "linecolor": "white",
             "minorgridcolor": "white",
             "startlinecolor": "#2a3f5f"
            },
            "baxis": {
             "endlinecolor": "#2a3f5f",
             "gridcolor": "white",
             "linecolor": "white",
             "minorgridcolor": "white",
             "startlinecolor": "#2a3f5f"
            },
            "type": "carpet"
           }
          ],
          "choropleth": [
           {
            "colorbar": {
             "outlinewidth": 0,
             "ticks": ""
            },
            "type": "choropleth"
           }
          ],
          "contour": [
           {
            "colorbar": {
             "outlinewidth": 0,
             "ticks": ""
            },
            "colorscale": [
             [
              0,
              "#0d0887"
             ],
             [
              0.1111111111111111,
              "#46039f"
             ],
             [
              0.2222222222222222,
              "#7201a8"
             ],
             [
              0.3333333333333333,
              "#9c179e"
             ],
             [
              0.4444444444444444,
              "#bd3786"
             ],
             [
              0.5555555555555556,
              "#d8576b"
             ],
             [
              0.6666666666666666,
              "#ed7953"
             ],
             [
              0.7777777777777778,
              "#fb9f3a"
             ],
             [
              0.8888888888888888,
              "#fdca26"
             ],
             [
              1,
              "#f0f921"
             ]
            ],
            "type": "contour"
           }
          ],
          "contourcarpet": [
           {
            "colorbar": {
             "outlinewidth": 0,
             "ticks": ""
            },
            "type": "contourcarpet"
           }
          ],
          "heatmap": [
           {
            "colorbar": {
             "outlinewidth": 0,
             "ticks": ""
            },
            "colorscale": [
             [
              0,
              "#0d0887"
             ],
             [
              0.1111111111111111,
              "#46039f"
             ],
             [
              0.2222222222222222,
              "#7201a8"
             ],
             [
              0.3333333333333333,
              "#9c179e"
             ],
             [
              0.4444444444444444,
              "#bd3786"
             ],
             [
              0.5555555555555556,
              "#d8576b"
             ],
             [
              0.6666666666666666,
              "#ed7953"
             ],
             [
              0.7777777777777778,
              "#fb9f3a"
             ],
             [
              0.8888888888888888,
              "#fdca26"
             ],
             [
              1,
              "#f0f921"
             ]
            ],
            "type": "heatmap"
           }
          ],
          "heatmapgl": [
           {
            "colorbar": {
             "outlinewidth": 0,
             "ticks": ""
            },
            "colorscale": [
             [
              0,
              "#0d0887"
             ],
             [
              0.1111111111111111,
              "#46039f"
             ],
             [
              0.2222222222222222,
              "#7201a8"
             ],
             [
              0.3333333333333333,
              "#9c179e"
             ],
             [
              0.4444444444444444,
              "#bd3786"
             ],
             [
              0.5555555555555556,
              "#d8576b"
             ],
             [
              0.6666666666666666,
              "#ed7953"
             ],
             [
              0.7777777777777778,
              "#fb9f3a"
             ],
             [
              0.8888888888888888,
              "#fdca26"
             ],
             [
              1,
              "#f0f921"
             ]
            ],
            "type": "heatmapgl"
           }
          ],
          "histogram": [
           {
            "marker": {
             "colorbar": {
              "outlinewidth": 0,
              "ticks": ""
             }
            },
            "type": "histogram"
           }
          ],
          "histogram2d": [
           {
            "colorbar": {
             "outlinewidth": 0,
             "ticks": ""
            },
            "colorscale": [
             [
              0,
              "#0d0887"
             ],
             [
              0.1111111111111111,
              "#46039f"
             ],
             [
              0.2222222222222222,
              "#7201a8"
             ],
             [
              0.3333333333333333,
              "#9c179e"
             ],
             [
              0.4444444444444444,
              "#bd3786"
             ],
             [
              0.5555555555555556,
              "#d8576b"
             ],
             [
              0.6666666666666666,
              "#ed7953"
             ],
             [
              0.7777777777777778,
              "#fb9f3a"
             ],
             [
              0.8888888888888888,
              "#fdca26"
             ],
             [
              1,
              "#f0f921"
             ]
            ],
            "type": "histogram2d"
           }
          ],
          "histogram2dcontour": [
           {
            "colorbar": {
             "outlinewidth": 0,
             "ticks": ""
            },
            "colorscale": [
             [
              0,
              "#0d0887"
             ],
             [
              0.1111111111111111,
              "#46039f"
             ],
             [
              0.2222222222222222,
              "#7201a8"
             ],
             [
              0.3333333333333333,
              "#9c179e"
             ],
             [
              0.4444444444444444,
              "#bd3786"
             ],
             [
              0.5555555555555556,
              "#d8576b"
             ],
             [
              0.6666666666666666,
              "#ed7953"
             ],
             [
              0.7777777777777778,
              "#fb9f3a"
             ],
             [
              0.8888888888888888,
              "#fdca26"
             ],
             [
              1,
              "#f0f921"
             ]
            ],
            "type": "histogram2dcontour"
           }
          ],
          "mesh3d": [
           {
            "colorbar": {
             "outlinewidth": 0,
             "ticks": ""
            },
            "type": "mesh3d"
           }
          ],
          "parcoords": [
           {
            "line": {
             "colorbar": {
              "outlinewidth": 0,
              "ticks": ""
             }
            },
            "type": "parcoords"
           }
          ],
          "pie": [
           {
            "automargin": true,
            "type": "pie"
           }
          ],
          "scatter": [
           {
            "marker": {
             "colorbar": {
              "outlinewidth": 0,
              "ticks": ""
             }
            },
            "type": "scatter"
           }
          ],
          "scatter3d": [
           {
            "line": {
             "colorbar": {
              "outlinewidth": 0,
              "ticks": ""
             }
            },
            "marker": {
             "colorbar": {
              "outlinewidth": 0,
              "ticks": ""
             }
            },
            "type": "scatter3d"
           }
          ],
          "scattercarpet": [
           {
            "marker": {
             "colorbar": {
              "outlinewidth": 0,
              "ticks": ""
             }
            },
            "type": "scattercarpet"
           }
          ],
          "scattergeo": [
           {
            "marker": {
             "colorbar": {
              "outlinewidth": 0,
              "ticks": ""
             }
            },
            "type": "scattergeo"
           }
          ],
          "scattergl": [
           {
            "marker": {
             "colorbar": {
              "outlinewidth": 0,
              "ticks": ""
             }
            },
            "type": "scattergl"
           }
          ],
          "scattermapbox": [
           {
            "marker": {
             "colorbar": {
              "outlinewidth": 0,
              "ticks": ""
             }
            },
            "type": "scattermapbox"
           }
          ],
          "scatterpolar": [
           {
            "marker": {
             "colorbar": {
              "outlinewidth": 0,
              "ticks": ""
             }
            },
            "type": "scatterpolar"
           }
          ],
          "scatterpolargl": [
           {
            "marker": {
             "colorbar": {
              "outlinewidth": 0,
              "ticks": ""
             }
            },
            "type": "scatterpolargl"
           }
          ],
          "scatterternary": [
           {
            "marker": {
             "colorbar": {
              "outlinewidth": 0,
              "ticks": ""
             }
            },
            "type": "scatterternary"
           }
          ],
          "surface": [
           {
            "colorbar": {
             "outlinewidth": 0,
             "ticks": ""
            },
            "colorscale": [
             [
              0,
              "#0d0887"
             ],
             [
              0.1111111111111111,
              "#46039f"
             ],
             [
              0.2222222222222222,
              "#7201a8"
             ],
             [
              0.3333333333333333,
              "#9c179e"
             ],
             [
              0.4444444444444444,
              "#bd3786"
             ],
             [
              0.5555555555555556,
              "#d8576b"
             ],
             [
              0.6666666666666666,
              "#ed7953"
             ],
             [
              0.7777777777777778,
              "#fb9f3a"
             ],
             [
              0.8888888888888888,
              "#fdca26"
             ],
             [
              1,
              "#f0f921"
             ]
            ],
            "type": "surface"
           }
          ],
          "table": [
           {
            "cells": {
             "fill": {
              "color": "#EBF0F8"
             },
             "line": {
              "color": "white"
             }
            },
            "header": {
             "fill": {
              "color": "#C8D4E3"
             },
             "line": {
              "color": "white"
             }
            },
            "type": "table"
           }
          ]
         },
         "layout": {
          "annotationdefaults": {
           "arrowcolor": "#2a3f5f",
           "arrowhead": 0,
           "arrowwidth": 1
          },
          "autotypenumbers": "strict",
          "coloraxis": {
           "colorbar": {
            "outlinewidth": 0,
            "ticks": ""
           }
          },
          "colorscale": {
           "diverging": [
            [
             0,
             "#8e0152"
            ],
            [
             0.1,
             "#c51b7d"
            ],
            [
             0.2,
             "#de77ae"
            ],
            [
             0.3,
             "#f1b6da"
            ],
            [
             0.4,
             "#fde0ef"
            ],
            [
             0.5,
             "#f7f7f7"
            ],
            [
             0.6,
             "#e6f5d0"
            ],
            [
             0.7,
             "#b8e186"
            ],
            [
             0.8,
             "#7fbc41"
            ],
            [
             0.9,
             "#4d9221"
            ],
            [
             1,
             "#276419"
            ]
           ],
           "sequential": [
            [
             0,
             "#0d0887"
            ],
            [
             0.1111111111111111,
             "#46039f"
            ],
            [
             0.2222222222222222,
             "#7201a8"
            ],
            [
             0.3333333333333333,
             "#9c179e"
            ],
            [
             0.4444444444444444,
             "#bd3786"
            ],
            [
             0.5555555555555556,
             "#d8576b"
            ],
            [
             0.6666666666666666,
             "#ed7953"
            ],
            [
             0.7777777777777778,
             "#fb9f3a"
            ],
            [
             0.8888888888888888,
             "#fdca26"
            ],
            [
             1,
             "#f0f921"
            ]
           ],
           "sequentialminus": [
            [
             0,
             "#0d0887"
            ],
            [
             0.1111111111111111,
             "#46039f"
            ],
            [
             0.2222222222222222,
             "#7201a8"
            ],
            [
             0.3333333333333333,
             "#9c179e"
            ],
            [
             0.4444444444444444,
             "#bd3786"
            ],
            [
             0.5555555555555556,
             "#d8576b"
            ],
            [
             0.6666666666666666,
             "#ed7953"
            ],
            [
             0.7777777777777778,
             "#fb9f3a"
            ],
            [
             0.8888888888888888,
             "#fdca26"
            ],
            [
             1,
             "#f0f921"
            ]
           ]
          },
          "colorway": [
           "#636efa",
           "#EF553B",
           "#00cc96",
           "#ab63fa",
           "#FFA15A",
           "#19d3f3",
           "#FF6692",
           "#B6E880",
           "#FF97FF",
           "#FECB52"
          ],
          "font": {
           "color": "#2a3f5f"
          },
          "geo": {
           "bgcolor": "white",
           "lakecolor": "white",
           "landcolor": "#E5ECF6",
           "showlakes": true,
           "showland": true,
           "subunitcolor": "white"
          },
          "hoverlabel": {
           "align": "left"
          },
          "hovermode": "closest",
          "mapbox": {
           "style": "light"
          },
          "paper_bgcolor": "white",
          "plot_bgcolor": "#E5ECF6",
          "polar": {
           "angularaxis": {
            "gridcolor": "white",
            "linecolor": "white",
            "ticks": ""
           },
           "bgcolor": "#E5ECF6",
           "radialaxis": {
            "gridcolor": "white",
            "linecolor": "white",
            "ticks": ""
           }
          },
          "scene": {
           "xaxis": {
            "backgroundcolor": "#E5ECF6",
            "gridcolor": "white",
            "gridwidth": 2,
            "linecolor": "white",
            "showbackground": true,
            "ticks": "",
            "zerolinecolor": "white"
           },
           "yaxis": {
            "backgroundcolor": "#E5ECF6",
            "gridcolor": "white",
            "gridwidth": 2,
            "linecolor": "white",
            "showbackground": true,
            "ticks": "",
            "zerolinecolor": "white"
           },
           "zaxis": {
            "backgroundcolor": "#E5ECF6",
            "gridcolor": "white",
            "gridwidth": 2,
            "linecolor": "white",
            "showbackground": true,
            "ticks": "",
            "zerolinecolor": "white"
           }
          },
          "shapedefaults": {
           "line": {
            "color": "#2a3f5f"
           }
          },
          "ternary": {
           "aaxis": {
            "gridcolor": "white",
            "linecolor": "white",
            "ticks": ""
           },
           "baxis": {
            "gridcolor": "white",
            "linecolor": "white",
            "ticks": ""
           },
           "bgcolor": "#E5ECF6",
           "caxis": {
            "gridcolor": "white",
            "linecolor": "white",
            "ticks": ""
           }
          },
          "title": {
           "x": 0.05
          },
          "xaxis": {
           "automargin": true,
           "gridcolor": "white",
           "linecolor": "white",
           "ticks": "",
           "title": {
            "standoff": 15
           },
           "zerolinecolor": "white",
           "zerolinewidth": 2
          },
          "yaxis": {
           "automargin": true,
           "gridcolor": "white",
           "linecolor": "white",
           "ticks": "",
           "title": {
            "standoff": 15
           },
           "zerolinecolor": "white",
           "zerolinewidth": 2
          }
         }
        },
        "xaxis": {
         "anchor": "y",
         "domain": [
          0,
          1
         ],
         "range": [
          0,
          0.7
         ],
         "title": {
          "text": "value"
         },
         "type": "linear"
        },
        "yaxis": {
         "anchor": "x",
         "autorange": true,
         "domain": [
          0,
          1
         ],
         "range": [
          -0.5,
          0.5
         ],
         "title": {
          "text": "variable"
         },
         "type": "category"
        }
       }
      },
      "image/png": "[encoded data removed]",
      "text/html": [
       "<div>                            <div id=\"2c892b63-99eb-48d1-bafc-192933611fba\" class=\"plotly-graph-div\" style=\"height:525px; width:100%;\"></div>            <script type=\"text/javascript\">                require([\"plotly\"], function(Plotly) {                    window.PLOTLYENV=window.PLOTLYENV || {};                                    if (document.getElementById(\"2c892b63-99eb-48d1-bafc-192933611fba\")) {                    Plotly.newPlot(                        \"2c892b63-99eb-48d1-bafc-192933611fba\",                        [{\"alignmentgroup\": \"True\", \"hovertemplate\": \"value=%{x}<br>variable=%{y}<extra></extra>\", \"legendgroup\": \"\", \"marker\": {\"color\": \"#636efa\"}, \"name\": \"\", \"notched\": false, \"offsetgroup\": \"\", \"orientation\": \"h\", \"showlegend\": false, \"type\": \"box\", \"x\": [0.2697325231675852, 0.3104374563282033, 0.21564798630835336, 0.24991150363421355, 0.2806419750018637, 0.2500671232804595, 0.2316310382269369, 0.43373493975903615, 0.29107540752902544, 0.3542803112953669, 0.3334672405547585, 0.3810518975482248, 0.3862401254972268, 0.2887368200544655, 0.23653542242391976, 0.2238331035410432, 0.2970004917226685, 0.15050655111737818, 0.18481138119009347, 0.1679056856614128, 0.2583130346116807, 0.2674465510286406, 0.3023595834176845, 0.3040705967511869, 0.22376009227220292, 0.2813397129186603, 0.2348786885245901, 0.24440052700922266, 0.2996639895099165, 0.16454746117257274, 0.4364515320382419, 0.30241325819309994, 0.3388474360254709, 0.2233981094977959, 0.3398419172050384, 0.2265608106020821, 0.20452212957023733, 0.3591376400184134, 0.3387952235621796, 0.28419595745564835, 0.3252236807006219, 0.22014862956893214, 0.2414544383924628, 0.31561622191011235, 0.1745196045048923, 0.22839149254214444, 0.14408362409694372, 0.2403881632351856, 0.25173398612811104, 0.2949371218988925, 0.3089887640449438, 0.31351334350280713, 0.26699507389162563, 0.2787324566250414, 0.2631272789183207, 0.25182746975590986, 0.2279223367306269, 0.2649777797513529, 0.332763642490913, 0.29462224136001924, 0.3119270118251472, 0.19637526652452025, 0.2619952859799358, 0.13574007220216608, 0.26966966966966965, 0.2224014125014558, 0.2485615650172613, 0.4506172839506172, 0.3985439173320808, 0.23847019122609675, 0.19501742488461904, 0.2770155946635209, 0.16806851849979265, 0.16030534351145034, 0.3239451114922813, 0.24607876609161924, 0.2269993898981268, 0.2521895769923598, 0.2012035040552854, 0.1865583491712942, 0.10415970344261798, 0.2404929037182508, 0.3052858683926645, 0.30852145617246285, 0.24913516616221576, 0.3912839894310847, 0.3195199578341341, 0.30096920341801914, 0.30771173422401304, 0.2956005138086063, 0.2711387828881301, 0.1141990845713716, 0.3160089627500977, 0.3933438195350265, 0.1699604743083004, 0.15807802357684242, 0.385239852398524, 0.2851798784029741, 0.16577329471241475, 0.2936550300701043, 0.3404153862456289, 0.19951786211825706, 0.14806238804665994, 0.290139746208036, 0.3412133891213389, 0.19480846986037675, 0.23666512623437275, 0.2157337096521291, 0.3619824788219849, 0.18873085339168488, 0.1846995647681373, 0.10088925685502054, 0.3565902717338749, 0.3145121247529797, 0.3416547788873039, 0.34416105724695856, 0.29390551749008303, 0.21040776080605286, 0.211550339715874, 0.263075173957992, 0.1888614795442365, 0.20118643712825668, 0.2569210208107936, 0.4249750505386525, 0.2797202797202797, 0.3720058065665608, 0.16992785123127127, 0.2343185033799717, 0.3754226419493995, 0.16186580174634846, 0.19587882682601648, 0.2586980920314253, 0.25277474570868314, 0.316375462599529, 0.24708774179758464, 0.4168434545634484, 0.1251348042715842, 0.25274644460404416, 0.1819563259792886, 0.1602570095481749, 0.255141487552188, 0.2951513366058209, 0.30710319739613257, 0.35494554550259644, 0.05757307351638617, 0.16357267950963222, 0.25374494031905753, 0.3342208753513554, 0.39136381398983977, 0.21584137026676334, 0.4249896288761786, 0.3595961588592121, 0.20376359932977936, 0.23703703703703705, 0.3188747510061385, 0.2857142857142857, 0.3495532856558917, 0.2972749793559042, 0.05973261643537019, 0.2247949493067839, 0.3668104778719841, 0.21409921671018275, 0.4604424596829458, 0.34945462609529065, 0.3348839569659652, 0.3625360662494848, 0.3825761214100471, 0.3378628950395885, 0.2690157882662106, 0.17439146382127374, 0.1539275069704836, 0.09551815047657676, 0.16651276327517125, 0.2569799171907915, 0.1761098188902805, 0.16699553877831158, 0.30711889675736115, 0.3713671681269631, 0.11182001440975063, 0.2801258715369902, 0.33877551020408164, 0.1916503050787808, 0.32190091907644025, 0.10381866223225887, 0.181378373790528, 0.3676549157816791, 0.2915905146097034, 0.16330282129122484, 0.20637721572301007, 0.203267210397331, 0.3240529290769804, 0.20664802065404475, 0.2735553583546484, 0.18965067401072624, 0.2397383656054224, 0.3473104616687844, 0.1882999870456485, 0.16303210750784586, 0.21457858769931668, 0.3414609106308711, 0.3304998492721787, 0.2370429252782194, 0.3129662621088965, 0.28239693004034244, 0.3136404966451369, 0.26962739619322273, 0.3597388777473089, 0.3026734916749799, 0.2780745530798247, 0.30266264339645543, 0.3135883469505653, 0.1997075073123172, 0.1814133809717912, 0.2098051885889336, 0.1443025857414446, 0.25082946250829463, 0.24163892222771, 0.42857142857142855, 0.3232672639503219, 0.3655151141270821, 0.2749711063322754, 0.3640192539109505, 0.2443170452880524, 0.21727702193165604, 0.2755881935194107, 0.2665212278219965, 0.270033089710613, 0.2236644452374827, 0.26347014724124906, 0.36822955794866735, 0.2321836023496981, 0.1789034825401092, 0.18932592211942167, 0.2638791885893436, 0.3110132158590308, 0.16227270487360174, 0.2479274769212026, 0.39925979478540014, 0.230849478390462, 0.2883034869538455, 0.2667857278565186, 0.3721423802663481, 0.2895544378149744, 0.14672628691162812, 0.21340671738043784, 0.2887537993920973, 0.1830964841178332, 0.22420007355645452, 0.2443867939096329, 0.27855903452205216, 0.312268927237077, 0.3717594178439842, 0.2394829614494571, 0.34508842221608177, 0.26845583901658665, 0.3685193150722542, 0.27735309412376496, 0.3928842914847, 0.2553616484440706, 0.3296084975869379, 0.2100056529112493, 0.22496920640506776, 0.13417666263611214, 0.27096620359654555, 0.2564865171085429, 0.2927813100152125, 0.11599552564609936], \"x0\": \" \", \"xaxis\": \"x\", \"y\": [\"%recycle/hh\", \"%recycle/hh\", \"%recycle/hh\", \"%recycle/hh\", \"%recycle/hh\", \"%recycle/hh\", \"%recycle/hh\", \"%recycle/hh\", \"%recycle/hh\", \"%recycle/hh\", \"%recycle/hh\", \"%recycle/hh\", \"%recycle/hh\", \"%recycle/hh\", \"%recycle/hh\", \"%recycle/hh\", \"%recycle/hh\", \"%recycle/hh\", \"%recycle/hh\", \"%recycle/hh\", \"%recycle/hh\", \"%recycle/hh\", \"%recycle/hh\", \"%recycle/hh\", \"%recycle/hh\", \"%recycle/hh\", \"%recycle/hh\", \"%recycle/hh\", \"%recycle/hh\", \"%recycle/hh\", \"%recycle/hh\", \"%recycle/hh\", \"%recycle/hh\", \"%recycle/hh\", \"%recycle/hh\", \"%recycle/hh\", \"%recycle/hh\", \"%recycle/hh\", \"%recycle/hh\", \"%recycle/hh\", \"%recycle/hh\", \"%recycle/hh\", \"%recycle/hh\", \"%recycle/hh\", \"%recycle/hh\", \"%recycle/hh\", \"%recycle/hh\", \"%recycle/hh\", \"%recycle/hh\", \"%recycle/hh\", \"%recycle/hh\", \"%recycle/hh\", \"%recycle/hh\", \"%recycle/hh\", \"%recycle/hh\", \"%recycle/hh\", \"%recycle/hh\", \"%recycle/hh\", \"%recycle/hh\", \"%recycle/hh\", \"%recycle/hh\", \"%recycle/hh\", \"%recycle/hh\", \"%recycle/hh\", \"%recycle/hh\", \"%recycle/hh\", \"%recycle/hh\", \"%recycle/hh\", \"%recycle/hh\", \"%recycle/hh\", \"%recycle/hh\", \"%recycle/hh\", \"%recycle/hh\", \"%recycle/hh\", \"%recycle/hh\", \"%recycle/hh\", \"%recycle/hh\", \"%recycle/hh\", \"%recycle/hh\", \"%recycle/hh\", \"%recycle/hh\", \"%recycle/hh\", \"%recycle/hh\", \"%recycle/hh\", \"%recycle/hh\", \"%recycle/hh\", \"%recycle/hh\", \"%recycle/hh\", \"%recycle/hh\", \"%recycle/hh\", \"%recycle/hh\", \"%recycle/hh\", \"%recycle/hh\", \"%recycle/hh\", \"%recycle/hh\", \"%recycle/hh\", \"%recycle/hh\", \"%recycle/hh\", \"%recycle/hh\", \"%recycle/hh\", \"%recycle/hh\", \"%recycle/hh\", \"%recycle/hh\", \"%recycle/hh\", \"%recycle/hh\", \"%recycle/hh\", \"%recycle/hh\", \"%recycle/hh\", \"%recycle/hh\", \"%recycle/hh\", \"%recycle/hh\", \"%recycle/hh\", \"%recycle/hh\", \"%recycle/hh\", \"%recycle/hh\", \"%recycle/hh\", \"%recycle/hh\", \"%recycle/hh\", \"%recycle/hh\", \"%recycle/hh\", \"%recycle/hh\", \"%recycle/hh\", \"%recycle/hh\", \"%recycle/hh\", \"%recycle/hh\", \"%recycle/hh\", \"%recycle/hh\", \"%recycle/hh\", \"%recycle/hh\", \"%recycle/hh\", \"%recycle/hh\", \"%recycle/hh\", \"%recycle/hh\", \"%recycle/hh\", \"%recycle/hh\", \"%recycle/hh\", \"%recycle/hh\", \"%recycle/hh\", \"%recycle/hh\", \"%recycle/hh\", \"%recycle/hh\", \"%recycle/hh\", \"%recycle/hh\", \"%recycle/hh\", \"%recycle/hh\", \"%recycle/hh\", \"%recycle/hh\", \"%recycle/hh\", \"%recycle/hh\", \"%recycle/hh\", \"%recycle/hh\", \"%recycle/hh\", \"%recycle/hh\", \"%recycle/hh\", \"%recycle/hh\", \"%recycle/hh\", \"%recycle/hh\", \"%recycle/hh\", \"%recycle/hh\", \"%recycle/hh\", \"%recycle/hh\", \"%recycle/hh\", \"%recycle/hh\", \"%recycle/hh\", \"%recycle/hh\", \"%recycle/hh\", \"%recycle/hh\", \"%recycle/hh\", \"%recycle/hh\", \"%recycle/hh\", \"%recycle/hh\", \"%recycle/hh\", \"%recycle/hh\", \"%recycle/hh\", \"%recycle/hh\", \"%recycle/hh\", \"%recycle/hh\", \"%recycle/hh\", \"%recycle/hh\", \"%recycle/hh\", \"%recycle/hh\", \"%recycle/hh\", \"%recycle/hh\", \"%recycle/hh\", \"%recycle/hh\", \"%recycle/hh\", \"%recycle/hh\", \"%recycle/hh\", \"%recycle/hh\", \"%recycle/hh\", \"%recycle/hh\", \"%recycle/hh\", \"%recycle/hh\", \"%recycle/hh\", \"%recycle/hh\", \"%recycle/hh\", \"%recycle/hh\", \"%recycle/hh\", \"%recycle/hh\", \"%recycle/hh\", \"%recycle/hh\", \"%recycle/hh\", \"%recycle/hh\", \"%recycle/hh\", \"%recycle/hh\", \"%recycle/hh\", \"%recycle/hh\", \"%recycle/hh\", \"%recycle/hh\", \"%recycle/hh\", \"%recycle/hh\", \"%recycle/hh\", \"%recycle/hh\", \"%recycle/hh\", \"%recycle/hh\", \"%recycle/hh\", \"%recycle/hh\", \"%recycle/hh\", \"%recycle/hh\", \"%recycle/hh\", \"%recycle/hh\", \"%recycle/hh\", \"%recycle/hh\", \"%recycle/hh\", \"%recycle/hh\", \"%recycle/hh\", \"%recycle/hh\", \"%recycle/hh\", \"%recycle/hh\", \"%recycle/hh\", \"%recycle/hh\", \"%recycle/hh\", \"%recycle/hh\", \"%recycle/hh\", \"%recycle/hh\", \"%recycle/hh\", \"%recycle/hh\", \"%recycle/hh\", \"%recycle/hh\", \"%recycle/hh\", \"%recycle/hh\", \"%recycle/hh\", \"%recycle/hh\", \"%recycle/hh\", \"%recycle/hh\", \"%recycle/hh\", \"%recycle/hh\", \"%recycle/hh\", \"%recycle/hh\", \"%recycle/hh\", \"%recycle/hh\", \"%recycle/hh\", \"%recycle/hh\", \"%recycle/hh\", \"%recycle/hh\", \"%recycle/hh\", \"%recycle/hh\", \"%recycle/hh\", \"%recycle/hh\", \"%recycle/hh\", \"%recycle/hh\", \"%recycle/hh\", \"%recycle/hh\", \"%recycle/hh\", \"%recycle/hh\", \"%recycle/hh\", \"%recycle/hh\"], \"y0\": \" \", \"yaxis\": \"y\"}],                        {\"boxmode\": \"group\", \"legend\": {\"tracegroupgap\": 0}, \"margin\": {\"t\": 60}, \"template\": {\"data\": {\"bar\": [{\"error_x\": {\"color\": \"#2a3f5f\"}, \"error_y\": {\"color\": \"#2a3f5f\"}, \"marker\": {\"line\": {\"color\": \"#E5ECF6\", \"width\": 0.5}}, \"type\": \"bar\"}], \"barpolar\": [{\"marker\": {\"line\": {\"color\": \"#E5ECF6\", \"width\": 0.5}}, \"type\": \"barpolar\"}], \"carpet\": [{\"aaxis\": {\"endlinecolor\": \"#2a3f5f\", \"gridcolor\": \"white\", \"linecolor\": \"white\", \"minorgridcolor\": \"white\", \"startlinecolor\": \"#2a3f5f\"}, \"baxis\": {\"endlinecolor\": \"#2a3f5f\", \"gridcolor\": \"white\", \"linecolor\": \"white\", \"minorgridcolor\": \"white\", \"startlinecolor\": \"#2a3f5f\"}, \"type\": \"carpet\"}], \"choropleth\": [{\"colorbar\": {\"outlinewidth\": 0, \"ticks\": \"\"}, \"type\": \"choropleth\"}], \"contour\": [{\"colorbar\": {\"outlinewidth\": 0, \"ticks\": \"\"}, \"colorscale\": [[0.0, \"#0d0887\"], [0.1111111111111111, \"#46039f\"], [0.2222222222222222, \"#7201a8\"], [0.3333333333333333, \"#9c179e\"], [0.4444444444444444, \"#bd3786\"], [0.5555555555555556, \"#d8576b\"], [0.6666666666666666, \"#ed7953\"], [0.7777777777777778, \"#fb9f3a\"], [0.8888888888888888, \"#fdca26\"], [1.0, \"#f0f921\"]], \"type\": \"contour\"}], \"contourcarpet\": [{\"colorbar\": {\"outlinewidth\": 0, \"ticks\": \"\"}, \"type\": \"contourcarpet\"}], \"heatmap\": [{\"colorbar\": {\"outlinewidth\": 0, \"ticks\": \"\"}, \"colorscale\": [[0.0, \"#0d0887\"], [0.1111111111111111, \"#46039f\"], [0.2222222222222222, \"#7201a8\"], [0.3333333333333333, \"#9c179e\"], [0.4444444444444444, \"#bd3786\"], [0.5555555555555556, \"#d8576b\"], [0.6666666666666666, \"#ed7953\"], [0.7777777777777778, \"#fb9f3a\"], [0.8888888888888888, \"#fdca26\"], [1.0, \"#f0f921\"]], \"type\": \"heatmap\"}], \"heatmapgl\": [{\"colorbar\": {\"outlinewidth\": 0, \"ticks\": \"\"}, \"colorscale\": [[0.0, \"#0d0887\"], [0.1111111111111111, \"#46039f\"], [0.2222222222222222, \"#7201a8\"], [0.3333333333333333, \"#9c179e\"], [0.4444444444444444, \"#bd3786\"], [0.5555555555555556, \"#d8576b\"], [0.6666666666666666, \"#ed7953\"], [0.7777777777777778, \"#fb9f3a\"], [0.8888888888888888, \"#fdca26\"], [1.0, \"#f0f921\"]], \"type\": \"heatmapgl\"}], \"histogram\": [{\"marker\": {\"colorbar\": {\"outlinewidth\": 0, \"ticks\": \"\"}}, \"type\": \"histogram\"}], \"histogram2d\": [{\"colorbar\": {\"outlinewidth\": 0, \"ticks\": \"\"}, \"colorscale\": [[0.0, \"#0d0887\"], [0.1111111111111111, \"#46039f\"], [0.2222222222222222, \"#7201a8\"], [0.3333333333333333, \"#9c179e\"], [0.4444444444444444, \"#bd3786\"], [0.5555555555555556, \"#d8576b\"], [0.6666666666666666, \"#ed7953\"], [0.7777777777777778, \"#fb9f3a\"], [0.8888888888888888, \"#fdca26\"], [1.0, \"#f0f921\"]], \"type\": \"histogram2d\"}], \"histogram2dcontour\": [{\"colorbar\": {\"outlinewidth\": 0, \"ticks\": \"\"}, \"colorscale\": [[0.0, \"#0d0887\"], [0.1111111111111111, \"#46039f\"], [0.2222222222222222, \"#7201a8\"], [0.3333333333333333, \"#9c179e\"], [0.4444444444444444, \"#bd3786\"], [0.5555555555555556, \"#d8576b\"], [0.6666666666666666, \"#ed7953\"], [0.7777777777777778, \"#fb9f3a\"], [0.8888888888888888, \"#fdca26\"], [1.0, \"#f0f921\"]], \"type\": \"histogram2dcontour\"}], \"mesh3d\": [{\"colorbar\": {\"outlinewidth\": 0, \"ticks\": \"\"}, \"type\": \"mesh3d\"}], \"parcoords\": [{\"line\": {\"colorbar\": {\"outlinewidth\": 0, \"ticks\": \"\"}}, \"type\": \"parcoords\"}], \"pie\": [{\"automargin\": true, \"type\": \"pie\"}], \"scatter\": [{\"marker\": {\"colorbar\": {\"outlinewidth\": 0, \"ticks\": \"\"}}, \"type\": \"scatter\"}], \"scatter3d\": [{\"line\": {\"colorbar\": {\"outlinewidth\": 0, \"ticks\": \"\"}}, \"marker\": {\"colorbar\": {\"outlinewidth\": 0, \"ticks\": \"\"}}, \"type\": \"scatter3d\"}], \"scattercarpet\": [{\"marker\": {\"colorbar\": {\"outlinewidth\": 0, \"ticks\": \"\"}}, \"type\": \"scattercarpet\"}], \"scattergeo\": [{\"marker\": {\"colorbar\": {\"outlinewidth\": 0, \"ticks\": \"\"}}, \"type\": \"scattergeo\"}], \"scattergl\": [{\"marker\": {\"colorbar\": {\"outlinewidth\": 0, \"ticks\": \"\"}}, \"type\": \"scattergl\"}], \"scattermapbox\": [{\"marker\": {\"colorbar\": {\"outlinewidth\": 0, \"ticks\": \"\"}}, \"type\": \"scattermapbox\"}], \"scatterpolar\": [{\"marker\": {\"colorbar\": {\"outlinewidth\": 0, \"ticks\": \"\"}}, \"type\": \"scatterpolar\"}], \"scatterpolargl\": [{\"marker\": {\"colorbar\": {\"outlinewidth\": 0, \"ticks\": \"\"}}, \"type\": \"scatterpolargl\"}], \"scatterternary\": [{\"marker\": {\"colorbar\": {\"outlinewidth\": 0, \"ticks\": \"\"}}, \"type\": \"scatterternary\"}], \"surface\": [{\"colorbar\": {\"outlinewidth\": 0, \"ticks\": \"\"}, \"colorscale\": [[0.0, \"#0d0887\"], [0.1111111111111111, \"#46039f\"], [0.2222222222222222, \"#7201a8\"], [0.3333333333333333, \"#9c179e\"], [0.4444444444444444, \"#bd3786\"], [0.5555555555555556, \"#d8576b\"], [0.6666666666666666, \"#ed7953\"], [0.7777777777777778, \"#fb9f3a\"], [0.8888888888888888, \"#fdca26\"], [1.0, \"#f0f921\"]], \"type\": \"surface\"}], \"table\": [{\"cells\": {\"fill\": {\"color\": \"#EBF0F8\"}, \"line\": {\"color\": \"white\"}}, \"header\": {\"fill\": {\"color\": \"#C8D4E3\"}, \"line\": {\"color\": \"white\"}}, \"type\": \"table\"}]}, \"layout\": {\"annotationdefaults\": {\"arrowcolor\": \"#2a3f5f\", \"arrowhead\": 0, \"arrowwidth\": 1}, \"autotypenumbers\": \"strict\", \"coloraxis\": {\"colorbar\": {\"outlinewidth\": 0, \"ticks\": \"\"}}, \"colorscale\": {\"diverging\": [[0, \"#8e0152\"], [0.1, \"#c51b7d\"], [0.2, \"#de77ae\"], [0.3, \"#f1b6da\"], [0.4, \"#fde0ef\"], [0.5, \"#f7f7f7\"], [0.6, \"#e6f5d0\"], [0.7, \"#b8e186\"], [0.8, \"#7fbc41\"], [0.9, \"#4d9221\"], [1, \"#276419\"]], \"sequential\": [[0.0, \"#0d0887\"], [0.1111111111111111, \"#46039f\"], [0.2222222222222222, \"#7201a8\"], [0.3333333333333333, \"#9c179e\"], [0.4444444444444444, \"#bd3786\"], [0.5555555555555556, \"#d8576b\"], [0.6666666666666666, \"#ed7953\"], [0.7777777777777778, \"#fb9f3a\"], [0.8888888888888888, \"#fdca26\"], [1.0, \"#f0f921\"]], \"sequentialminus\": [[0.0, \"#0d0887\"], [0.1111111111111111, \"#46039f\"], [0.2222222222222222, \"#7201a8\"], [0.3333333333333333, \"#9c179e\"], [0.4444444444444444, \"#bd3786\"], [0.5555555555555556, \"#d8576b\"], [0.6666666666666666, \"#ed7953\"], [0.7777777777777778, \"#fb9f3a\"], [0.8888888888888888, \"#fdca26\"], [1.0, \"#f0f921\"]]}, \"colorway\": [\"#636efa\", \"#EF553B\", \"#00cc96\", \"#ab63fa\", \"#FFA15A\", \"#19d3f3\", \"#FF6692\", \"#B6E880\", \"#FF97FF\", \"#FECB52\"], \"font\": {\"color\": \"#2a3f5f\"}, \"geo\": {\"bgcolor\": \"white\", \"lakecolor\": \"white\", \"landcolor\": \"#E5ECF6\", \"showlakes\": true, \"showland\": true, \"subunitcolor\": \"white\"}, \"hoverlabel\": {\"align\": \"left\"}, \"hovermode\": \"closest\", \"mapbox\": {\"style\": \"light\"}, \"paper_bgcolor\": \"white\", \"plot_bgcolor\": \"#E5ECF6\", \"polar\": {\"angularaxis\": {\"gridcolor\": \"white\", \"linecolor\": \"white\", \"ticks\": \"\"}, \"bgcolor\": \"#E5ECF6\", \"radialaxis\": {\"gridcolor\": \"white\", \"linecolor\": \"white\", \"ticks\": \"\"}}, \"scene\": {\"xaxis\": {\"backgroundcolor\": \"#E5ECF6\", \"gridcolor\": \"white\", \"gridwidth\": 2, \"linecolor\": \"white\", \"showbackground\": true, \"ticks\": \"\", \"zerolinecolor\": \"white\"}, \"yaxis\": {\"backgroundcolor\": \"#E5ECF6\", \"gridcolor\": \"white\", \"gridwidth\": 2, \"linecolor\": \"white\", \"showbackground\": true, \"ticks\": \"\", \"zerolinecolor\": \"white\"}, \"zaxis\": {\"backgroundcolor\": \"#E5ECF6\", \"gridcolor\": \"white\", \"gridwidth\": 2, \"linecolor\": \"white\", \"showbackground\": true, \"ticks\": \"\", \"zerolinecolor\": \"white\"}}, \"shapedefaults\": {\"line\": {\"color\": \"#2a3f5f\"}}, \"ternary\": {\"aaxis\": {\"gridcolor\": \"white\", \"linecolor\": \"white\", \"ticks\": \"\"}, \"baxis\": {\"gridcolor\": \"white\", \"linecolor\": \"white\", \"ticks\": \"\"}, \"bgcolor\": \"#E5ECF6\", \"caxis\": {\"gridcolor\": \"white\", \"linecolor\": \"white\", \"ticks\": \"\"}}, \"title\": {\"x\": 0.05}, \"xaxis\": {\"automargin\": true, \"gridcolor\": \"white\", \"linecolor\": \"white\", \"ticks\": \"\", \"title\": {\"standoff\": 15}, \"zerolinecolor\": \"white\", \"zerolinewidth\": 2}, \"yaxis\": {\"automargin\": true, \"gridcolor\": \"white\", \"linecolor\": \"white\", \"ticks\": \"\", \"title\": {\"standoff\": 15}, \"zerolinecolor\": \"white\", \"zerolinewidth\": 2}}}, \"xaxis\": {\"anchor\": \"y\", \"domain\": [0.0, 1.0], \"range\": [0, 0.7], \"title\": {\"text\": \"value\"}}, \"yaxis\": {\"anchor\": \"x\", \"domain\": [0.0, 1.0], \"title\": {\"text\": \"variable\"}}},                        {\"responsive\": true}                    ).then(function(){\n",
       "                            \n",
       "var gd = document.getElementById('2c892b63-99eb-48d1-bafc-192933611fba');\n",
       "var x = new MutationObserver(function (mutations, observer) {{\n",
       "        var display = window.getComputedStyle(gd).display;\n",
       "        if (!display || display === 'none') {{\n",
       "            console.log([gd, 'removed!']);\n",
       "            Plotly.purge(gd);\n",
       "            observer.disconnect();\n",
       "        }}\n",
       "}});\n",
       "\n",
       "// Listen for the removal of the full notebook cells\n",
       "var notebookContainer = gd.closest('#notebook-container');\n",
       "if (notebookContainer) {{\n",
       "    x.observe(notebookContainer, {childList: true});\n",
       "}}\n",
       "\n",
       "// Listen for the clearing of the current output cell\n",
       "var outputEl = gd.closest('.output');\n",
       "if (outputEl) {{\n",
       "    x.observe(outputEl, {childList: true});\n",
       "}}\n",
       "\n",
       "                        })                };                });            </script>        </div>"
      ]
     },
     "metadata": {},
     "output_type": "display_data"
    }
   ],
   "source": [
    "px.box(y1, orientation = 'h', range_x=(0,0.7))"
   ]
  },
  {
   "cell_type": "markdown",
   "metadata": {},
   "source": [
    "## Cross Validation Analysis\n",
    "\n",
    "**First** just going to look at fast models, (no grad boost) and just the raw data. I found [this nifty way of seeing the test train splits in the KFold](https://scikit-learn.org/stable/modules/generated/sklearn.model_selection.KFold.html)"
   ]
  },
  {
   "cell_type": "markdown",
   "metadata": {},
   "source": [
    "#### Raw Data"
   ]
  },
  {
   "cell_type": "code",
   "execution_count": 6,
   "metadata": {},
   "outputs": [
    {
     "name": "stdout",
     "output_type": "stream",
     "text": [
      "CV_KF set:  0\n",
      "TRAIN: [  0   1   2   5   6   7   8   9  10  11  12  14  15  16  17  18  19  20\n",
      "  21  24  27  28  29  31  32  33  35  36  37  38  39  40  41  42  43  44\n",
      "  45  46  47  48  49  50  51  54  55  57  58  59  60  61  63  64  65  66\n",
      "  67  68  69  70  72  73  74  75  76  81  83  84  85  86  88  89  90  91\n",
      "  92  95  96  97  98  99 101 102 104 105 106 107 108 109 112 115 117 118\n",
      " 119 120 121 122 123 124 125 126 127 128 129 130 131 132 133 134 135 136\n",
      " 137 138 140 141 142 143 144 145 146 147 149 150 151 152 153 154 155 156\n",
      " 157 159 160 161 162 164 166 167 168 169 170 171 172 173 174 175 176 179\n",
      " 181 183 184 186 188 189 190 191 194 195 196 197 199 200 201 202 203 205\n",
      " 206 207 208 210 211 213 214 215 216 217 218 220 223 224 225 226 227 228\n",
      " 229 231 234 235 236 237 238 239 240 241 242 243 245 246 247 248 249 250\n",
      " 251 252 253 254 255 257 258 259 261 262 263 264 265 266 267 268 269 270]\n",
      "TEST: [  3   4  13  22  23  25  26  30  34  52  53  56  62  71  77  78  79  80\n",
      "  82  87  93  94 100 103 110 111 113 114 116 139 148 158 163 165 177 178\n",
      " 180 182 185 187 192 193 198 204 209 212 219 221 222 230 232 233 244 256\n",
      " 260]\n",
      "CV_KF set:  1\n",
      "TRAIN: [  2   3   4   6   7   8   9  10  11  13  14  15  16  18  19  20  21  22\n",
      "  23  24  25  26  28  29  30  31  32  34  35  36  37  38  40  41  43  44\n",
      "  46  47  48  49  51  52  53  54  56  58  59  60  61  62  63  64  66  67\n",
      "  68  70  71  73  74  75  77  78  79  80  81  82  83  85  86  87  89  91\n",
      "  93  94  95  97  98  99 100 101 102 103 104 105 106 107 108 110 111 112\n",
      " 113 114 115 116 117 118 119 120 121 122 123 124 125 126 127 128 130 131\n",
      " 133 134 135 136 137 138 139 140 141 142 143 144 145 147 148 150 152 154\n",
      " 155 156 158 159 160 161 162 163 164 165 166 167 169 170 171 173 174 175\n",
      " 177 178 179 180 181 182 183 184 185 187 188 190 191 192 193 194 195 196\n",
      " 198 199 200 203 204 205 207 209 210 211 212 213 214 216 217 219 220 221\n",
      " 222 223 224 229 230 231 232 233 235 237 238 239 242 243 244 245 246 247\n",
      " 248 249 250 251 252 253 254 255 256 257 258 259 260 261 262 264 266 267\n",
      " 270]\n",
      "TEST: [  0   1   5  12  17  27  33  39  42  45  50  55  57  65  69  72  76  84\n",
      "  88  90  92  96 109 129 132 146 149 151 153 157 168 172 176 186 189 197\n",
      " 201 202 206 208 215 218 225 226 227 228 234 236 240 241 263 265 268 269]\n",
      "CV_KF set:  2\n",
      "TRAIN: [  0   1   2   3   4   5   6   7   9  11  12  13  15  16  17  18  19  20\n",
      "  21  22  23  25  26  27  28  30  31  33  34  36  37  38  39  42  43  45\n",
      "  46  47  48  50  51  52  53  54  55  56  57  58  59  61  62  63  64  65\n",
      "  66  69  71  72  73  74  75  76  77  78  79  80  81  82  84  85  86  87\n",
      "  88  90  91  92  93  94  95  96  98  99 100 102 103 104 105 107 108 109\n",
      " 110 111 112 113 114 115 116 118 119 120 122 123 124 125 126 129 132 133\n",
      " 134 135 136 137 138 139 142 143 144 146 147 148 149 151 152 153 155 156\n",
      " 157 158 160 161 163 165 166 167 168 170 172 173 174 176 177 178 180 182\n",
      " 183 184 185 186 187 188 189 191 192 193 194 196 197 198 199 200 201 202\n",
      " 203 204 206 207 208 209 210 212 213 215 216 217 218 219 220 221 222 223\n",
      " 224 225 226 227 228 229 230 232 233 234 235 236 237 238 239 240 241 242\n",
      " 243 244 248 249 250 251 253 254 256 257 259 260 261 263 265 267 268 269\n",
      " 270]\n",
      "TEST: [  8  10  14  24  29  32  35  40  41  44  49  60  67  68  70  83  89  97\n",
      " 101 106 117 121 127 128 130 131 140 141 145 150 154 159 162 164 169 171\n",
      " 175 179 181 190 195 205 211 214 231 245 246 247 252 255 258 262 264 266]\n",
      "CV_KF set:  3\n",
      "TRAIN: [  0   1   2   3   4   5   8   9  10  12  13  14  15  17  18  20  21  22\n",
      "  23  24  25  26  27  28  29  30  31  32  33  34  35  36  37  39  40  41\n",
      "  42  44  45  47  48  49  50  51  52  53  55  56  57  60  61  62  63  64\n",
      "  65  67  68  69  70  71  72  76  77  78  79  80  81  82  83  84  85  86\n",
      "  87  88  89  90  91  92  93  94  96  97 100 101 102 103 106 107 108 109\n",
      " 110 111 113 114 115 116 117 120 121 123 125 127 128 129 130 131 132 133\n",
      " 135 136 138 139 140 141 143 145 146 148 149 150 151 153 154 155 157 158\n",
      " 159 162 163 164 165 166 168 169 170 171 172 173 175 176 177 178 179 180\n",
      " 181 182 185 186 187 188 189 190 191 192 193 194 195 196 197 198 199 200\n",
      " 201 202 204 205 206 208 209 211 212 214 215 217 218 219 220 221 222 223\n",
      " 225 226 227 228 229 230 231 232 233 234 235 236 237 238 240 241 242 244\n",
      " 245 246 247 248 249 251 252 255 256 258 259 260 262 263 264 265 266 268\n",
      " 269]\n",
      "TEST: [  6   7  11  16  19  38  43  46  54  58  59  66  73  74  75  95  98  99\n",
      " 104 105 112 118 119 122 124 126 134 137 142 144 147 152 156 160 161 167\n",
      " 174 183 184 203 207 210 213 216 224 239 243 250 253 254 257 261 267 270]\n",
      "CV_KF set:  4\n",
      "TRAIN: [  0   1   3   4   5   6   7   8  10  11  12  13  14  16  17  19  22  23\n",
      "  24  25  26  27  29  30  32  33  34  35  38  39  40  41  42  43  44  45\n",
      "  46  49  50  52  53  54  55  56  57  58  59  60  62  65  66  67  68  69\n",
      "  70  71  72  73  74  75  76  77  78  79  80  82  83  84  87  88  89  90\n",
      "  92  93  94  95  96  97  98  99 100 101 103 104 105 106 109 110 111 112\n",
      " 113 114 116 117 118 119 121 122 124 126 127 128 129 130 131 132 134 137\n",
      " 139 140 141 142 144 145 146 147 148 149 150 151 152 153 154 156 157 158\n",
      " 159 160 161 162 163 164 165 167 168 169 171 172 174 175 176 177 178 179\n",
      " 180 181 182 183 184 185 186 187 189 190 192 193 195 197 198 201 202 203\n",
      " 204 205 206 207 208 209 210 211 212 213 214 215 216 218 219 221 222 224\n",
      " 225 226 227 228 230 231 232 233 234 236 239 240 241 243 244 245 246 247\n",
      " 250 252 253 254 255 256 257 258 260 261 262 263 264 265 266 267 268 269\n",
      " 270]\n",
      "TEST: [  2   9  15  18  20  21  28  31  36  37  47  48  51  61  63  64  81  85\n",
      "  86  91 102 107 108 115 120 123 125 133 135 136 138 143 155 166 170 173\n",
      " 188 191 194 196 199 200 217 220 223 229 235 237 238 242 248 249 251 259]\n"
     ]
    }
   ],
   "source": [
    "cv_results = {}\n",
    "cv_kf = KFold(n_splits=5, shuffle=True, random_state=8)\n",
    "\n",
    "cv_set = 0\n",
    "for train_index, test_index in cv_kf.split(X0):\n",
    "    print(\"CV_KF set: \", cv_set)\n",
    "    print(\"TRAIN:\", train_index)\n",
    "    print(\"TEST:\", test_index)\n",
    "    cv_set = cv_set + 1"
   ]
  },
  {
   "cell_type": "code",
   "execution_count": 7,
   "metadata": {},
   "outputs": [
    {
     "data": {
      "text/plain": [
       "array([-0.00262471, -0.01296429, -0.03149499, -0.03040279, -0.074853  ])"
      ]
     },
     "execution_count": 7,
     "metadata": {},
     "output_type": "execute_result"
    }
   ],
   "source": [
    "cv = cross_val_score(DummyRegressor(), X0, y0, cv=cv_kf) \n",
    "cv_mean = cv.mean()\n",
    "cv_results['X0_dummy'] = np.append(cv,cv_mean)\n",
    "cv"
   ]
  },
  {
   "cell_type": "code",
   "execution_count": 8,
   "metadata": {},
   "outputs": [
    {
     "data": {
      "text/plain": [
       "array([-0.08579309, -0.42197651,  0.12508735, -0.01904092, -0.46782195])"
      ]
     },
     "execution_count": 8,
     "metadata": {},
     "output_type": "execute_result"
    }
   ],
   "source": [
    "cv = cross_val_score(LinearRegression(), X0, y0, cv=cv_kf) \n",
    "cv_mean = cv.mean()\n",
    "cv_results['X0_lr'] = np.append(cv,cv_mean)\n",
    "cv"
   ]
  },
  {
   "cell_type": "code",
   "execution_count": 9,
   "metadata": {},
   "outputs": [
    {
     "data": {
      "text/plain": [
       "array([-0.02700948, -0.38914783,  0.13313634,  0.00084912, -0.44299328])"
      ]
     },
     "execution_count": 9,
     "metadata": {},
     "output_type": "execute_result"
    }
   ],
   "source": [
    "cv = cross_val_score(Ridge(), X0, y0, cv=cv_kf) \n",
    "cv_mean = cv.mean()\n",
    "cv_results['X0_ridge'] = np.append(cv,cv_mean)\n",
    "cv"
   ]
  },
  {
   "cell_type": "code",
   "execution_count": 10,
   "metadata": {},
   "outputs": [
    {
     "data": {
      "text/plain": [
       "array([ 0.02981099,  0.02036987, -0.01632682, -0.04080895, -0.30929207])"
      ]
     },
     "execution_count": 10,
     "metadata": {},
     "output_type": "execute_result"
    }
   ],
   "source": [
    "cv = cross_val_score(Lasso(), X0, y0, cv=cv_kf) \n",
    "cv_mean = cv.mean()\n",
    "cv_results['X0_lasso'] = np.append(cv,cv_mean)\n",
    "cv"
   ]
  },
  {
   "cell_type": "code",
   "execution_count": 11,
   "metadata": {},
   "outputs": [
    {
     "data": {
      "text/plain": [
       "array([ 0.03086535,  0.19833803,  0.11729076, -0.17294445,  0.21163409])"
      ]
     },
     "execution_count": 11,
     "metadata": {},
     "output_type": "execute_result"
    }
   ],
   "source": [
    "cv = cross_val_score(RandomForestRegressor(random_state=8), X0, y0, cv=cv_kf) \n",
    "cv_mean = cv.mean()\n",
    "cv_results['X0_RF'] = np.append(cv,cv_mean)\n",
    "cv"
   ]
  },
  {
   "cell_type": "code",
   "execution_count": 12,
   "metadata": {},
   "outputs": [
    {
     "data": {
      "text/plain": [
       "array([-0.0169631 , -0.08887127,  0.04728323, -0.211642  ,  0.03888159])"
      ]
     },
     "execution_count": 12,
     "metadata": {},
     "output_type": "execute_result"
    }
   ],
   "source": [
    "cv = cross_val_score(BaggingRegressor(random_state=8), X0, y0, cv=cv_kf) \n",
    "cv_mean = cv.mean()\n",
    "cv_results['X0_bagging'] = np.append(cv,cv_mean)\n",
    "cv"
   ]
  },
  {
   "cell_type": "code",
   "execution_count": 13,
   "metadata": {},
   "outputs": [
    {
     "data": {
      "text/html": [
       "<div>\n",
       "<style scoped>\n",
       "    .dataframe tbody tr th:only-of-type {\n",
       "        vertical-align: middle;\n",
       "    }\n",
       "\n",
       "    .dataframe tbody tr th {\n",
       "        vertical-align: top;\n",
       "    }\n",
       "\n",
       "    .dataframe thead th {\n",
       "        text-align: right;\n",
       "    }\n",
       "</style>\n",
       "<table border=\"1\" class=\"dataframe\">\n",
       "  <thead>\n",
       "    <tr style=\"text-align: right;\">\n",
       "      <th></th>\n",
       "      <th>X0_dummy</th>\n",
       "      <th>X0_lr</th>\n",
       "      <th>X0_ridge</th>\n",
       "      <th>X0_lasso</th>\n",
       "      <th>X0_RF</th>\n",
       "      <th>X0_bagging</th>\n",
       "    </tr>\n",
       "  </thead>\n",
       "  <tbody>\n",
       "    <tr>\n",
       "      <th>Fold1</th>\n",
       "      <td>-0.002625</td>\n",
       "      <td>-0.085793</td>\n",
       "      <td>-0.027009</td>\n",
       "      <td>0.029811</td>\n",
       "      <td>0.030865</td>\n",
       "      <td>-0.016963</td>\n",
       "    </tr>\n",
       "    <tr>\n",
       "      <th>Fold2</th>\n",
       "      <td>-0.012964</td>\n",
       "      <td>-0.421977</td>\n",
       "      <td>-0.389148</td>\n",
       "      <td>0.020370</td>\n",
       "      <td>0.198338</td>\n",
       "      <td>-0.088871</td>\n",
       "    </tr>\n",
       "    <tr>\n",
       "      <th>Fold3</th>\n",
       "      <td>-0.031495</td>\n",
       "      <td>0.125087</td>\n",
       "      <td>0.133136</td>\n",
       "      <td>-0.016327</td>\n",
       "      <td>0.117291</td>\n",
       "      <td>0.047283</td>\n",
       "    </tr>\n",
       "    <tr>\n",
       "      <th>Fold4</th>\n",
       "      <td>-0.030403</td>\n",
       "      <td>-0.019041</td>\n",
       "      <td>0.000849</td>\n",
       "      <td>-0.040809</td>\n",
       "      <td>-0.172944</td>\n",
       "      <td>-0.211642</td>\n",
       "    </tr>\n",
       "    <tr>\n",
       "      <th>Fold5</th>\n",
       "      <td>-0.074853</td>\n",
       "      <td>-0.467822</td>\n",
       "      <td>-0.442993</td>\n",
       "      <td>-0.309292</td>\n",
       "      <td>0.211634</td>\n",
       "      <td>0.038882</td>\n",
       "    </tr>\n",
       "    <tr>\n",
       "      <th>CV_mean</th>\n",
       "      <td>-0.030468</td>\n",
       "      <td>-0.173909</td>\n",
       "      <td>-0.145033</td>\n",
       "      <td>-0.063249</td>\n",
       "      <td>0.077037</td>\n",
       "      <td>-0.046262</td>\n",
       "    </tr>\n",
       "  </tbody>\n",
       "</table>\n",
       "</div>"
      ],
      "text/plain": [
       "         X0_dummy     X0_lr  X0_ridge  X0_lasso     X0_RF  X0_bagging\n",
       "Fold1   -0.002625 -0.085793 -0.027009  0.029811  0.030865   -0.016963\n",
       "Fold2   -0.012964 -0.421977 -0.389148  0.020370  0.198338   -0.088871\n",
       "Fold3   -0.031495  0.125087  0.133136 -0.016327  0.117291    0.047283\n",
       "Fold4   -0.030403 -0.019041  0.000849 -0.040809 -0.172944   -0.211642\n",
       "Fold5   -0.074853 -0.467822 -0.442993 -0.309292  0.211634    0.038882\n",
       "CV_mean -0.030468 -0.173909 -0.145033 -0.063249  0.077037   -0.046262"
      ]
     },
     "execution_count": 13,
     "metadata": {},
     "output_type": "execute_result"
    }
   ],
   "source": [
    "pd.DataFrame(cv_results, index = ['Fold1','Fold2','Fold3','Fold4','Fold5','CV_mean'])"
   ]
  },
  {
   "cell_type": "markdown",
   "metadata": {},
   "source": [
    "okay, looks like Random Forest did best. However, if I used the train test split in fold 3, I could potentially get away with using linear regressions. **Next**, let's look at the same models but on the data with no outlier."
   ]
  },
  {
   "cell_type": "markdown",
   "metadata": {},
   "source": [
    "#### Data without Outliers"
   ]
  },
  {
   "cell_type": "code",
   "execution_count": 14,
   "metadata": {},
   "outputs": [
    {
     "name": "stdout",
     "output_type": "stream",
     "text": [
      "CV_KF set:  0\n",
      "TRAIN: [  0   1   2   5   6   7   8   9  10  11  12  14  15  16  17  18  19  20\n",
      "  21  24  27  28  29  31  32  33  35  36  37  38  39  40  41  43  44  45\n",
      "  46  47  48  49  50  51  52  53  54  57  58  59  60  61  63  64  65  66\n",
      "  67  68  70  71  72  73  74  75  76  79  81  83  85  86  88  89  90  91\n",
      "  93  95  97  98  99 100 101 102 104 105 106 107 108 112 113 114 115 118\n",
      " 119 120 121 122 123 124 125 126 127 129 130 133 134 135 136 137 138 139\n",
      " 140 141 142 143 144 146 147 148 150 151 152 154 155 156 157 158 159 160\n",
      " 161 162 163 164 165 166 167 168 170 171 173 174 177 178 179 180 181 182\n",
      " 183 184 185 188 190 191 192 193 194 195 196 199 200 201 202 203 204 205\n",
      " 206 208 209 211 212 213 214 215 216 217 219 220 221 222 223 224 225 226\n",
      " 227 228 229 230 231 232 233 234 235 236 237 240 241 242 243 244 245 248\n",
      " 249 250 251 252 254 255 256 257 258 260 262 263 264 265 266]\n",
      "TEST: [  3   4  13  22  23  25  26  30  34  42  55  56  62  69  77  78  80  82\n",
      "  84  87  92  94  96 103 109 110 111 116 117 128 131 132 145 149 153 169\n",
      " 172 175 176 186 187 189 197 198 207 210 218 238 239 246 247 253 259 261]\n",
      "CV_KF set:  1\n",
      "TRAIN: [  2   3   4   6   7   8   9  10  11  13  14  15  16  18  19  20  21  22\n",
      "  23  24  25  26  28  29  30  31  32  34  35  36  37  38  40  41  42  43\n",
      "  44  46  47  48  49  50  51  52  53  54  55  56  58  59  60  61  62  63\n",
      "  64  66  67  68  69  70  71  73  74  75  77  78  80  81  82  83  84  85\n",
      "  86  87  91  92  93  94  95  96  97  98  99 101 102 103 104 105 106 107\n",
      " 108 109 110 111 112 115 116 117 118 119 120 122 123 124 125 126 127 128\n",
      " 130 131 132 133 134 135 136 137 138 142 143 144 145 147 148 149 150 152\n",
      " 153 154 155 156 160 162 163 165 166 167 168 169 170 172 173 174 175 176\n",
      " 179 180 181 183 184 185 186 187 188 189 190 191 192 194 196 197 198 199\n",
      " 200 202 203 205 207 208 210 211 215 216 217 218 219 220 221 223 227 228\n",
      " 229 230 231 232 233 234 235 236 237 238 239 240 241 243 244 245 246 247\n",
      " 249 250 251 252 253 254 255 257 258 259 260 261 262 263 266]\n",
      "TEST: [  0   1   5  12  17  27  33  39  45  57  65  72  76  79  88  89  90 100\n",
      " 113 114 121 129 139 140 141 146 151 157 158 159 161 164 171 177 178 182\n",
      " 193 195 201 204 206 209 212 213 214 222 224 225 226 242 248 256 264 265]\n",
      "CV_KF set:  2\n",
      "TRAIN: [  0   1   2   3   4   5   6   7   9  11  12  13  14  15  16  17  18  19\n",
      "  20  21  22  23  25  26  27  28  30  31  33  34  36  37  38  39  42  43\n",
      "  45  46  47  48  51  53  54  55  56  57  58  59  61  62  63  64  65  66\n",
      "  69  71  72  73  75  76  77  78  79  80  81  82  84  85  86  87  88  89\n",
      "  90  91  92  93  94  95  96  98 100 102 103 104 105 107 108 109 110 111\n",
      " 112 113 114 115 116 117 118 119 120 121 122 123 124 125 126 128 129 131\n",
      " 132 133 134 135 136 137 138 139 140 141 142 143 145 146 147 149 151 152\n",
      " 153 154 155 156 157 158 159 160 161 164 166 167 169 170 171 172 173 174\n",
      " 175 176 177 178 181 182 183 184 185 186 187 188 189 191 192 193 194 195\n",
      " 196 197 198 199 200 201 202 204 206 207 209 210 212 213 214 215 218 220\n",
      " 222 224 225 226 227 228 229 232 233 235 237 238 239 240 241 242 243 244\n",
      " 245 246 247 248 249 251 253 254 256 257 259 261 263 264 265 266]\n",
      "TEST: [  8  10  24  29  32  35  40  41  44  49  50  52  60  67  68  70  74  83\n",
      "  97  99 101 106 127 130 144 148 150 162 163 165 168 179 180 190 203 205\n",
      " 208 211 216 217 219 221 223 230 231 234 236 250 252 255 258 260 262]\n",
      "CV_KF set:  3\n",
      "TRAIN: [  0   1   2   3   4   5   8   9  10  12  13  14  15  17  18  20  21  22\n",
      "  23  24  25  26  27  28  29  30  31  32  33  34  35  36  39  40  41  42\n",
      "  44  45  47  48  49  50  51  52  53  55  56  57  59  60  61  62  63  64\n",
      "  65  66  67  68  69  70  71  72  74  76  77  78  79  80  81  82  83  84\n",
      "  85  86  87  88  89  90  91  92  93  94  96  97  99 100 101 102 103 105\n",
      " 106 107 108 109 110 111 113 114 115 116 117 121 125 127 128 129 130 131\n",
      " 132 133 135 136 138 139 140 141 143 144 145 146 148 149 150 151 153 154\n",
      " 155 157 158 159 161 162 163 164 165 166 168 169 170 171 172 173 175 176\n",
      " 177 178 179 180 181 182 184 186 187 189 190 191 193 195 196 197 198 199\n",
      " 200 201 203 204 205 206 207 208 209 210 211 212 213 214 216 217 218 219\n",
      " 220 221 222 223 224 225 226 227 229 230 231 233 234 236 238 239 242 246\n",
      " 247 248 250 251 252 253 254 255 256 258 259 260 261 262 264 265]\n",
      "TEST: [  6   7  11  16  19  37  38  43  46  54  58  73  75  95  98 104 112 118\n",
      " 119 120 122 123 124 126 134 137 142 147 152 156 160 167 174 183 185 188\n",
      " 192 194 202 215 228 232 235 237 240 241 243 244 245 249 257 263 266]\n",
      "CV_KF set:  4\n",
      "TRAIN: [  0   1   3   4   5   6   7   8  10  11  12  13  16  17  19  22  23  24\n",
      "  25  26  27  29  30  32  33  34  35  37  38  39  40  41  42  43  44  45\n",
      "  46  49  50  52  54  55  56  57  58  60  62  65  67  68  69  70  72  73\n",
      "  74  75  76  77  78  79  80  82  83  84  87  88  89  90  92  94  95  96\n",
      "  97  98  99 100 101 103 104 106 109 110 111 112 113 114 116 117 118 119\n",
      " 120 121 122 123 124 126 127 128 129 130 131 132 134 137 139 140 141 142\n",
      " 144 145 146 147 148 149 150 151 152 153 156 157 158 159 160 161 162 163\n",
      " 164 165 167 168 169 171 172 174 175 176 177 178 179 180 182 183 185 186\n",
      " 187 188 189 190 192 193 194 195 197 198 201 202 203 204 205 206 207 208\n",
      " 209 210 211 212 213 214 215 216 217 218 219 221 222 223 224 225 226 228\n",
      " 230 231 232 234 235 236 237 238 239 240 241 242 243 244 245 246 247 248\n",
      " 249 250 252 253 255 256 257 258 259 260 261 262 263 264 265 266]\n",
      "TEST: [  2   9  14  15  18  20  21  28  31  36  47  48  51  53  59  61  63  64\n",
      "  66  71  81  85  86  91  93 102 105 107 108 115 125 133 135 136 138 143\n",
      " 154 155 166 170 173 181 184 191 196 199 200 220 227 229 233 251 254]\n"
     ]
    }
   ],
   "source": [
    "cv_set = 0\n",
    "for train_index, test_index in cv_kf.split(X1):\n",
    "    print(\"CV_KF set: \", cv_set)\n",
    "    print(\"TRAIN:\", train_index)\n",
    "    print(\"TEST:\", test_index)\n",
    "    cv_set = cv_set + 1"
   ]
  },
  {
   "cell_type": "code",
   "execution_count": 15,
   "metadata": {},
   "outputs": [
    {
     "data": {
      "text/plain": [
       "array([-0.05338701, -0.03622173, -0.07998282, -0.00190992, -0.00161515])"
      ]
     },
     "execution_count": 15,
     "metadata": {},
     "output_type": "execute_result"
    }
   ],
   "source": [
    "cv = cross_val_score(DummyRegressor(), X1, y1, cv=cv_kf) \n",
    "cv_mean = cv.mean()\n",
    "cv_results['X1_dummy'] = np.append(cv,cv_mean)\n",
    "cv"
   ]
  },
  {
   "cell_type": "code",
   "execution_count": 16,
   "metadata": {},
   "outputs": [
    {
     "data": {
      "text/plain": [
       "array([ 0.11681536, -0.02302504, -0.60246096,  0.14584508,  0.16238194])"
      ]
     },
     "execution_count": 16,
     "metadata": {},
     "output_type": "execute_result"
    }
   ],
   "source": [
    "cv = cross_val_score(LinearRegression(), X1, y1, cv=cv_kf) \n",
    "cv_mean = cv.mean()\n",
    "cv_results['X1_lr'] = np.append(cv,cv_mean)\n",
    "cv"
   ]
  },
  {
   "cell_type": "code",
   "execution_count": 17,
   "metadata": {},
   "outputs": [
    {
     "data": {
      "text/plain": [
       "array([ 0.2425074 ,  0.00398809, -0.63989767,  0.19700119,  0.18435423])"
      ]
     },
     "execution_count": 17,
     "metadata": {},
     "output_type": "execute_result"
    }
   ],
   "source": [
    "cv = cross_val_score(Ridge(), X1, y1, cv=cv_kf) \n",
    "cv_mean = cv.mean()\n",
    "cv_results['X1_ridge'] = np.append(cv,cv_mean)\n",
    "cv"
   ]
  },
  {
   "cell_type": "code",
   "execution_count": 18,
   "metadata": {},
   "outputs": [
    {
     "data": {
      "text/plain": [
       "array([-0.03725743, -0.00609516, -0.42253981,  0.02625488,  0.00080746])"
      ]
     },
     "execution_count": 18,
     "metadata": {},
     "output_type": "execute_result"
    }
   ],
   "source": [
    "cv = cross_val_score(Lasso(), X1, y1, cv=cv_kf) \n",
    "cv_mean = cv.mean()\n",
    "cv_results['X1_lasso'] = np.append(cv,cv_mean)\n",
    "cv"
   ]
  },
  {
   "cell_type": "code",
   "execution_count": 19,
   "metadata": {},
   "outputs": [
    {
     "data": {
      "text/plain": [
       "array([0.2165107 , 0.14495103, 0.09073038, 0.30272136, 0.23477095])"
      ]
     },
     "execution_count": 19,
     "metadata": {},
     "output_type": "execute_result"
    }
   ],
   "source": [
    "cv = cross_val_score(RandomForestRegressor(random_state=8), X1, y1, cv=cv_kf) \n",
    "cv_mean = cv.mean()\n",
    "cv_results['X1_RF'] = np.append(cv,cv_mean)\n",
    "cv"
   ]
  },
  {
   "cell_type": "code",
   "execution_count": 20,
   "metadata": {},
   "outputs": [
    {
     "data": {
      "text/plain": [
       "array([0.32835449, 0.08558503, 0.06803691, 0.34382283, 0.18444288])"
      ]
     },
     "execution_count": 20,
     "metadata": {},
     "output_type": "execute_result"
    }
   ],
   "source": [
    "cv = cross_val_score(BaggingRegressor(random_state=8), X1, y1, cv=cv_kf)\n",
    "cv_mean = cv.mean()\n",
    "cv_results['X1_bagging'] = np.append(cv,cv_mean)\n",
    "cv"
   ]
  },
  {
   "cell_type": "code",
   "execution_count": 21,
   "metadata": {},
   "outputs": [
    {
     "data": {
      "text/html": [
       "<div>\n",
       "<style scoped>\n",
       "    .dataframe tbody tr th:only-of-type {\n",
       "        vertical-align: middle;\n",
       "    }\n",
       "\n",
       "    .dataframe tbody tr th {\n",
       "        vertical-align: top;\n",
       "    }\n",
       "\n",
       "    .dataframe thead th {\n",
       "        text-align: right;\n",
       "    }\n",
       "</style>\n",
       "<table border=\"1\" class=\"dataframe\">\n",
       "  <thead>\n",
       "    <tr style=\"text-align: right;\">\n",
       "      <th></th>\n",
       "      <th>X0_dummy</th>\n",
       "      <th>X0_lr</th>\n",
       "      <th>X0_ridge</th>\n",
       "      <th>X0_lasso</th>\n",
       "      <th>X0_RF</th>\n",
       "      <th>X0_bagging</th>\n",
       "      <th>X1_dummy</th>\n",
       "      <th>X1_lr</th>\n",
       "      <th>X1_ridge</th>\n",
       "      <th>X1_lasso</th>\n",
       "      <th>X1_RF</th>\n",
       "      <th>X1_bagging</th>\n",
       "    </tr>\n",
       "  </thead>\n",
       "  <tbody>\n",
       "    <tr>\n",
       "      <th>Fold1</th>\n",
       "      <td>-0.002625</td>\n",
       "      <td>-0.085793</td>\n",
       "      <td>-0.027009</td>\n",
       "      <td>0.029811</td>\n",
       "      <td>0.030865</td>\n",
       "      <td>-0.016963</td>\n",
       "      <td>-0.053387</td>\n",
       "      <td>0.116815</td>\n",
       "      <td>0.242507</td>\n",
       "      <td>-0.037257</td>\n",
       "      <td>0.216511</td>\n",
       "      <td>0.328354</td>\n",
       "    </tr>\n",
       "    <tr>\n",
       "      <th>Fold2</th>\n",
       "      <td>-0.012964</td>\n",
       "      <td>-0.421977</td>\n",
       "      <td>-0.389148</td>\n",
       "      <td>0.020370</td>\n",
       "      <td>0.198338</td>\n",
       "      <td>-0.088871</td>\n",
       "      <td>-0.036222</td>\n",
       "      <td>-0.023025</td>\n",
       "      <td>0.003988</td>\n",
       "      <td>-0.006095</td>\n",
       "      <td>0.144951</td>\n",
       "      <td>0.085585</td>\n",
       "    </tr>\n",
       "    <tr>\n",
       "      <th>Fold3</th>\n",
       "      <td>-0.031495</td>\n",
       "      <td>0.125087</td>\n",
       "      <td>0.133136</td>\n",
       "      <td>-0.016327</td>\n",
       "      <td>0.117291</td>\n",
       "      <td>0.047283</td>\n",
       "      <td>-0.079983</td>\n",
       "      <td>-0.602461</td>\n",
       "      <td>-0.639898</td>\n",
       "      <td>-0.422540</td>\n",
       "      <td>0.090730</td>\n",
       "      <td>0.068037</td>\n",
       "    </tr>\n",
       "    <tr>\n",
       "      <th>Fold4</th>\n",
       "      <td>-0.030403</td>\n",
       "      <td>-0.019041</td>\n",
       "      <td>0.000849</td>\n",
       "      <td>-0.040809</td>\n",
       "      <td>-0.172944</td>\n",
       "      <td>-0.211642</td>\n",
       "      <td>-0.001910</td>\n",
       "      <td>0.145845</td>\n",
       "      <td>0.197001</td>\n",
       "      <td>0.026255</td>\n",
       "      <td>0.302721</td>\n",
       "      <td>0.343823</td>\n",
       "    </tr>\n",
       "    <tr>\n",
       "      <th>Fold5</th>\n",
       "      <td>-0.074853</td>\n",
       "      <td>-0.467822</td>\n",
       "      <td>-0.442993</td>\n",
       "      <td>-0.309292</td>\n",
       "      <td>0.211634</td>\n",
       "      <td>0.038882</td>\n",
       "      <td>-0.001615</td>\n",
       "      <td>0.162382</td>\n",
       "      <td>0.184354</td>\n",
       "      <td>0.000807</td>\n",
       "      <td>0.234771</td>\n",
       "      <td>0.184443</td>\n",
       "    </tr>\n",
       "    <tr>\n",
       "      <th>CV_mean</th>\n",
       "      <td>-0.030468</td>\n",
       "      <td>-0.173909</td>\n",
       "      <td>-0.145033</td>\n",
       "      <td>-0.063249</td>\n",
       "      <td>0.077037</td>\n",
       "      <td>-0.046262</td>\n",
       "      <td>-0.034623</td>\n",
       "      <td>-0.040089</td>\n",
       "      <td>-0.002409</td>\n",
       "      <td>-0.087766</td>\n",
       "      <td>0.197937</td>\n",
       "      <td>0.202048</td>\n",
       "    </tr>\n",
       "  </tbody>\n",
       "</table>\n",
       "</div>"
      ],
      "text/plain": [
       "         X0_dummy     X0_lr  X0_ridge  X0_lasso     X0_RF  X0_bagging  \\\n",
       "Fold1   -0.002625 -0.085793 -0.027009  0.029811  0.030865   -0.016963   \n",
       "Fold2   -0.012964 -0.421977 -0.389148  0.020370  0.198338   -0.088871   \n",
       "Fold3   -0.031495  0.125087  0.133136 -0.016327  0.117291    0.047283   \n",
       "Fold4   -0.030403 -0.019041  0.000849 -0.040809 -0.172944   -0.211642   \n",
       "Fold5   -0.074853 -0.467822 -0.442993 -0.309292  0.211634    0.038882   \n",
       "CV_mean -0.030468 -0.173909 -0.145033 -0.063249  0.077037   -0.046262   \n",
       "\n",
       "         X1_dummy     X1_lr  X1_ridge  X1_lasso     X1_RF  X1_bagging  \n",
       "Fold1   -0.053387  0.116815  0.242507 -0.037257  0.216511    0.328354  \n",
       "Fold2   -0.036222 -0.023025  0.003988 -0.006095  0.144951    0.085585  \n",
       "Fold3   -0.079983 -0.602461 -0.639898 -0.422540  0.090730    0.068037  \n",
       "Fold4   -0.001910  0.145845  0.197001  0.026255  0.302721    0.343823  \n",
       "Fold5   -0.001615  0.162382  0.184354  0.000807  0.234771    0.184443  \n",
       "CV_mean -0.034623 -0.040089 -0.002409 -0.087766  0.197937    0.202048  "
      ]
     },
     "execution_count": 21,
     "metadata": {},
     "output_type": "execute_result"
    }
   ],
   "source": [
    "pd.DataFrame(cv_results, index = ['Fold1','Fold2','Fold3','Fold4','Fold5','CV_mean'])"
   ]
  },
  {
   "cell_type": "markdown",
   "metadata": {},
   "source": [
    "Okay, everything does seem to improve when removing the outliers. Looks like the non-linear regression based models still faired best but the set from fold 4 performed well across all models. The outliers, however, are in the positive direction: higher recyclers. So if I do go with a model with the outliers removed, I still need to go back and see what is unique about those outliers; I shouldn't just throw them out and forget about them."
   ]
  },
  {
   "cell_type": "markdown",
   "metadata": {},
   "source": [
    "### Cross Validation with Larger Test:Train Ratio\n",
    "\n",
    "I can kinda of informally see how the dataset does with a higher test ratio by changing the n_split during the cross validation. Above, I used the default of 5, however, this only leaves us with 54 test points. We may increase our odds of success by increasing this quantity so I'll change the n_split to 3."
   ]
  },
  {
   "cell_type": "code",
   "execution_count": 22,
   "metadata": {},
   "outputs": [
    {
     "name": "stdout",
     "output_type": "stream",
     "text": [
      "CV_KF set:  0\n",
      "TRAIN: [  2   6   7   8   9  10  11  12  14  15  16  18  19  20  21  24  27  28\n",
      "  29  31  32  35  36  37  38  40  41  43  44  46  47  48  49  50  51  54\n",
      "  58  59  60  61  63  64  66  67  68  70  73  74  75  76  81  83  85  86\n",
      "  89  90  91  92  95  97  98  99 101 102 104 105 106 107 108 112 115 117\n",
      " 118 119 120 121 122 123 124 125 126 127 128 130 131 132 133 134 135 136\n",
      " 137 138 140 141 142 143 144 145 147 150 152 153 154 155 156 159 160 161\n",
      " 162 164 166 167 168 169 170 171 173 174 175 176 179 181 183 184 188 190\n",
      " 191 194 195 196 199 200 201 203 205 206 207 210 211 213 214 216 217 220\n",
      " 223 224 225 226 228 229 231 234 235 236 237 238 239 242 243 245 246 247\n",
      " 248 249 250 251 252 253 254 255 257 258 259 261 262 264 266 267 269 270]\n",
      "TEST: [  0   1   3   4   5  13  17  22  23  25  26  30  33  34  39  42  45  52\n",
      "  53  55  56  57  62  65  69  71  72  77  78  79  80  82  84  87  88  93\n",
      "  94  96 100 103 109 110 111 113 114 116 129 139 146 148 149 151 157 158\n",
      " 163 165 172 177 178 180 182 185 186 187 189 192 193 197 198 202 204 208\n",
      " 209 212 215 218 219 221 222 227 230 232 233 240 241 244 256 260 263 265\n",
      " 268]\n",
      "CV_KF set:  1\n",
      "TRAIN: [  0   1   2   3   4   5   6   7   9  11  13  15  16  17  18  19  20  21\n",
      "  22  23  25  26  28  30  31  33  34  36  37  38  39  42  45  46  47  48\n",
      "  51  52  53  54  55  56  57  59  61  62  63  64  65  66  69  71  72  73\n",
      "  75  77  78  79  80  81  82  84  85  86  87  88  91  93  94  95  96  98\n",
      " 100 102 103 105 107 108 109 110 111 112 113 114 115 116 118 120 122 123\n",
      " 125 126 129 133 134 135 136 137 138 139 143 146 147 148 149 151 152 155\n",
      " 156 157 158 160 163 165 166 167 170 172 173 174 177 178 180 182 183 185\n",
      " 186 187 188 189 191 192 193 194 196 197 198 199 200 202 203 204 208 209\n",
      " 210 212 215 216 217 218 219 220 221 222 223 224 227 229 230 232 233 235\n",
      " 237 238 240 241 242 243 244 248 249 251 256 257 259 260 263 265 267 268\n",
      " 270]\n",
      "TEST: [  8  10  12  14  24  27  29  32  35  40  41  43  44  49  50  58  60  67\n",
      "  68  70  74  76  83  89  90  92  97  99 101 104 106 117 119 121 124 127\n",
      " 128 130 131 132 140 141 142 144 145 150 153 154 159 161 162 164 168 169\n",
      " 171 175 176 179 181 184 190 195 201 205 206 207 211 213 214 225 226 228\n",
      " 231 234 236 239 245 246 247 250 252 253 254 255 258 261 262 264 266 269]\n",
      "CV_KF set:  2\n",
      "TRAIN: [  0   1   3   4   5   8  10  12  13  14  17  22  23  24  25  26  27  29\n",
      "  30  32  33  34  35  39  40  41  42  43  44  45  49  50  52  53  55  56\n",
      "  57  58  60  62  65  67  68  69  70  71  72  74  76  77  78  79  80  82\n",
      "  83  84  87  88  89  90  92  93  94  96  97  99 100 101 103 104 106 109\n",
      " 110 111 113 114 116 117 119 121 124 127 128 129 130 131 132 139 140 141\n",
      " 142 144 145 146 148 149 150 151 153 154 157 158 159 161 162 163 164 165\n",
      " 168 169 171 172 175 176 177 178 179 180 181 182 184 185 186 187 189 190\n",
      " 192 193 195 197 198 201 202 204 205 206 207 208 209 211 212 213 214 215\n",
      " 218 219 221 222 225 226 227 228 230 231 232 233 234 236 239 240 241 244\n",
      " 245 246 247 250 252 253 254 255 256 258 260 261 262 263 264 265 266 268\n",
      " 269]\n",
      "TEST: [  2   6   7   9  11  15  16  18  19  20  21  28  31  36  37  38  46  47\n",
      "  48  51  54  59  61  63  64  66  73  75  81  85  86  91  95  98 102 105\n",
      " 107 108 112 115 118 120 122 123 125 126 133 134 135 136 137 138 143 147\n",
      " 152 155 156 160 166 167 170 173 174 183 188 191 194 196 199 200 203 210\n",
      " 216 217 220 223 224 229 235 237 238 242 243 248 249 251 257 259 267 270]\n"
     ]
    }
   ],
   "source": [
    "cv_results = {}\n",
    "cv_kf = KFold(n_splits=3, shuffle=True, random_state=8)\n",
    "\n",
    "cv_set = 0\n",
    "for train_index, test_index in cv_kf.split(X0):\n",
    "    print(\"CV_KF set: \", cv_set)\n",
    "    print(\"TRAIN:\", train_index)\n",
    "    print(\"TEST:\", test_index)\n",
    "    cv_set = cv_set + 1"
   ]
  },
  {
   "cell_type": "code",
   "execution_count": 23,
   "metadata": {},
   "outputs": [
    {
     "data": {
      "text/plain": [
       "array([-0.01458113, -0.01553683, -0.09007735])"
      ]
     },
     "execution_count": 23,
     "metadata": {},
     "output_type": "execute_result"
    }
   ],
   "source": [
    "cv = cross_val_score(DummyRegressor(), X0, y0, cv=cv_kf) \n",
    "cv_mean = cv.mean()\n",
    "cv_results['X0_dummy'] = np.append(cv,cv_mean)\n",
    "cv"
   ]
  },
  {
   "cell_type": "code",
   "execution_count": 24,
   "metadata": {},
   "outputs": [
    {
     "data": {
      "text/plain": [
       "array([-0.08721139,  0.15905641, -0.75862946])"
      ]
     },
     "execution_count": 24,
     "metadata": {},
     "output_type": "execute_result"
    }
   ],
   "source": [
    "cv = cross_val_score(LinearRegression(), X0, y0, cv=cv_kf) \n",
    "cv_mean = cv.mean()\n",
    "cv_results['X0_lr'] = np.append(cv,cv_mean)\n",
    "cv"
   ]
  },
  {
   "cell_type": "code",
   "execution_count": 25,
   "metadata": {},
   "outputs": [
    {
     "data": {
      "text/plain": [
       "array([-0.01603247,  0.16700945, -0.74216146])"
      ]
     },
     "execution_count": 25,
     "metadata": {},
     "output_type": "execute_result"
    }
   ],
   "source": [
    "cv = cross_val_score(Ridge(), X0, y0, cv=cv_kf) \n",
    "cv_mean = cv.mean()\n",
    "cv_results['X0_ridge'] = np.append(cv,cv_mean)\n",
    "cv"
   ]
  },
  {
   "cell_type": "code",
   "execution_count": 26,
   "metadata": {},
   "outputs": [
    {
     "data": {
      "text/plain": [
       "array([ 0.01745458,  0.00209897, -0.74093297])"
      ]
     },
     "execution_count": 26,
     "metadata": {},
     "output_type": "execute_result"
    }
   ],
   "source": [
    "cv = cross_val_score(Lasso(), X0, y0, cv=cv_kf) \n",
    "cv_mean = cv.mean()\n",
    "cv_results['X0_lasso'] = np.append(cv,cv_mean)\n",
    "cv"
   ]
  },
  {
   "cell_type": "code",
   "execution_count": 27,
   "metadata": {},
   "outputs": [
    {
     "data": {
      "text/plain": [
       "array([0.11768537, 0.2370164 , 0.11437933])"
      ]
     },
     "execution_count": 27,
     "metadata": {},
     "output_type": "execute_result"
    }
   ],
   "source": [
    "cv = cross_val_score(RandomForestRegressor(random_state=8), X0, y0, cv=cv_kf) \n",
    "cv_mean = cv.mean()\n",
    "cv_results['X0_RF'] = np.append(cv,cv_mean)\n",
    "cv"
   ]
  },
  {
   "cell_type": "code",
   "execution_count": 28,
   "metadata": {},
   "outputs": [
    {
     "data": {
      "text/plain": [
       "array([-0.04694505,  0.11108638,  0.03541457])"
      ]
     },
     "execution_count": 28,
     "metadata": {},
     "output_type": "execute_result"
    }
   ],
   "source": [
    "cv = cross_val_score(BaggingRegressor(random_state=8), X0, y0, cv=cv_kf) \n",
    "cv_mean = cv.mean()\n",
    "cv_results['X0_bagging'] = np.append(cv,cv_mean)\n",
    "cv"
   ]
  },
  {
   "cell_type": "code",
   "execution_count": 29,
   "metadata": {
    "collapsed": true,
    "jupyter": {
     "outputs_hidden": true
    }
   },
   "outputs": [
    {
     "name": "stdout",
     "output_type": "stream",
     "text": [
      "CV_KF set:  0\n",
      "TRAIN: [  2   6   7   8   9  10  11  12  14  15  16  18  19  20  21  24  27  28\n",
      "  29  31  32  35  36  37  38  40  41  43  44  46  47  48  49  50  51  52\n",
      "  53  54  58  59  60  61  63  64  66  67  68  70  71  73  74  75  76  81\n",
      "  83  85  86  89  90  91  93  95  97  98  99 101 102 104 105 106 107 108\n",
      " 112 114 115 118 119 120 122 123 124 125 126 127 129 130 133 134 135 136\n",
      " 137 138 140 142 143 144 147 148 150 152 154 155 156 158 159 160 162 163\n",
      " 165 166 167 168 170 173 174 177 178 179 180 181 182 183 184 185 188 190\n",
      " 191 192 194 195 196 199 200 202 203 205 208 209 211 213 215 216 217 219\n",
      " 220 221 223 225 227 228 229 230 231 232 233 234 235 236 237 240 241 243\n",
      " 244 245 249 250 251 252 254 255 257 258 260 262 263 264 265 266]\n",
      "TEST: [  0   1   3   4   5  13  17  22  23  25  26  30  33  34  39  42  45  55\n",
      "  56  57  62  65  69  72  77  78  79  80  82  84  87  88  92  94  96 100\n",
      " 103 109 110 111 113 116 117 121 128 131 132 139 141 145 146 149 151 153\n",
      " 157 161 164 169 171 172 175 176 186 187 189 193 197 198 201 204 206 207\n",
      " 210 212 214 218 222 224 226 238 239 242 246 247 248 253 256 259 261]\n",
      "CV_KF set:  1\n",
      "TRAIN: [  0   1   2   3   4   5   6   7   9  13  14  15  16  17  18  19  20  21\n",
      "  22  23  25  26  28  30  31  33  34  36  37  38  39  42  45  46  47  48\n",
      "  51  53  54  55  56  57  59  61  62  63  64  65  66  69  71  72  73  77\n",
      "  78  79  80  81  82  84  85  86  87  88  91  92  93  94  95  96  98 100\n",
      " 102 103 105 107 108 109 110 111 112 113 115 116 117 118 120 121 122 123\n",
      " 125 126 128 131 132 133 134 135 136 137 138 139 141 143 145 146 149 151\n",
      " 152 153 154 155 157 160 161 164 166 167 169 170 171 172 173 175 176 181\n",
      " 183 184 186 187 188 189 191 192 193 194 196 197 198 199 200 201 204 206\n",
      " 207 210 212 214 215 218 220 222 224 226 227 228 229 232 233 235 238 239\n",
      " 240 242 243 244 245 246 247 248 249 251 253 254 256 259 261 263]\n",
      "TEST: [  8  10  11  12  24  27  29  32  35  40  41  43  44  49  50  52  58  60\n",
      "  67  68  70  74  75  76  83  89  90  97  99 101 104 106 114 119 124 127\n",
      " 129 130 140 142 144 147 148 150 156 158 159 162 163 165 168 174 177 178\n",
      " 179 180 182 185 190 195 202 203 205 208 209 211 213 216 217 219 221 223\n",
      " 225 230 231 234 236 237 241 250 252 255 257 258 260 262 264 265 266]\n",
      "CV_KF set:  2\n",
      "TRAIN: [  0   1   3   4   5   8  10  11  12  13  17  22  23  24  25  26  27  29\n",
      "  30  32  33  34  35  39  40  41  42  43  44  45  49  50  52  55  56  57\n",
      "  58  60  62  65  67  68  69  70  72  74  75  76  77  78  79  80  82  83\n",
      "  84  87  88  89  90  92  94  96  97  99 100 101 103 104 106 109 110 111\n",
      " 113 114 116 117 119 121 124 127 128 129 130 131 132 139 140 141 142 144\n",
      " 145 146 147 148 149 150 151 153 156 157 158 159 161 162 163 164 165 168\n",
      " 169 171 172 174 175 176 177 178 179 180 182 185 186 187 189 190 193 195\n",
      " 197 198 201 202 203 204 205 206 207 208 209 210 211 212 213 214 216 217\n",
      " 218 219 221 222 223 224 225 226 230 231 234 236 237 238 239 241 242 246\n",
      " 247 248 250 252 253 255 256 257 258 259 260 261 262 264 265 266]\n",
      "TEST: [  2   6   7   9  14  15  16  18  19  20  21  28  31  36  37  38  46  47\n",
      "  48  51  53  54  59  61  63  64  66  71  73  81  85  86  91  93  95  98\n",
      " 102 105 107 108 112 115 118 120 122 123 125 126 133 134 135 136 137 138\n",
      " 143 152 154 155 160 166 167 170 173 181 183 184 188 191 192 194 196 199\n",
      " 200 215 220 227 228 229 232 233 235 240 243 244 245 249 251 254 263]\n"
     ]
    }
   ],
   "source": [
    "cv_set = 0\n",
    "for train_index, test_index in cv_kf.split(X1):\n",
    "    print(\"CV_KF set: \", cv_set)\n",
    "    print(\"TRAIN:\", train_index)\n",
    "    print(\"TEST:\", test_index)\n",
    "    cv_set = cv_set + 1"
   ]
  },
  {
   "cell_type": "code",
   "execution_count": 30,
   "metadata": {},
   "outputs": [
    {
     "data": {
      "text/plain": [
       "array([-0.08957878, -0.1209515 , -0.01201351])"
      ]
     },
     "execution_count": 30,
     "metadata": {},
     "output_type": "execute_result"
    }
   ],
   "source": [
    "cv = cross_val_score(DummyRegressor(), X1, y1, cv=cv_kf) \n",
    "cv_mean = cv.mean()\n",
    "cv_results['X1_dummy'] = np.append(cv,cv_mean)\n",
    "cv"
   ]
  },
  {
   "cell_type": "code",
   "execution_count": 31,
   "metadata": {},
   "outputs": [
    {
     "data": {
      "text/plain": [
       "array([ 0.01517724, -0.38834619,  0.10209835])"
      ]
     },
     "execution_count": 31,
     "metadata": {},
     "output_type": "execute_result"
    }
   ],
   "source": [
    "cv = cross_val_score(LinearRegression(), X1, y1, cv=cv_kf) \n",
    "cv_mean = cv.mean()\n",
    "cv_results['X1_lr'] = np.append(cv,cv_mean)\n",
    "cv"
   ]
  },
  {
   "cell_type": "code",
   "execution_count": 32,
   "metadata": {},
   "outputs": [
    {
     "data": {
      "text/plain": [
       "array([ 0.08972173, -0.38117819,  0.16464953])"
      ]
     },
     "execution_count": 32,
     "metadata": {},
     "output_type": "execute_result"
    }
   ],
   "source": [
    "cv = cross_val_score(Ridge(), X1, y1, cv=cv_kf) \n",
    "cv_mean = cv.mean()\n",
    "cv_results['X1_ridge'] = np.append(cv,cv_mean)\n",
    "cv"
   ]
  },
  {
   "cell_type": "code",
   "execution_count": 33,
   "metadata": {},
   "outputs": [
    {
     "data": {
      "text/plain": [
       "array([-0.06988468, -0.23457381,  0.00298756])"
      ]
     },
     "execution_count": 33,
     "metadata": {},
     "output_type": "execute_result"
    }
   ],
   "source": [
    "cv = cross_val_score(Lasso(), X1, y1, cv=cv_kf) \n",
    "cv_mean = cv.mean()\n",
    "cv_results['X1_lasso'] = np.append(cv,cv_mean)\n",
    "cv"
   ]
  },
  {
   "cell_type": "code",
   "execution_count": 34,
   "metadata": {},
   "outputs": [
    {
     "data": {
      "text/plain": [
       "array([0.19785585, 0.00528953, 0.20736793])"
      ]
     },
     "execution_count": 34,
     "metadata": {},
     "output_type": "execute_result"
    }
   ],
   "source": [
    "cv = cross_val_score(RandomForestRegressor(random_state=8), X1, y1, cv=cv_kf) \n",
    "cv_mean = cv.mean()\n",
    "cv_results['X1_RF'] = np.append(cv,cv_mean)\n",
    "cv"
   ]
  },
  {
   "cell_type": "code",
   "execution_count": 35,
   "metadata": {},
   "outputs": [
    {
     "data": {
      "text/plain": [
       "array([ 0.16058833, -0.06794259,  0.13272154])"
      ]
     },
     "execution_count": 35,
     "metadata": {},
     "output_type": "execute_result"
    }
   ],
   "source": [
    "cv = cross_val_score(BaggingRegressor(random_state=8), X1, y1, cv=cv_kf)\n",
    "cv_mean = cv.mean()\n",
    "cv_results['X1_bagging'] = np.append(cv,cv_mean)\n",
    "cv"
   ]
  },
  {
   "cell_type": "code",
   "execution_count": 36,
   "metadata": {},
   "outputs": [
    {
     "data": {
      "text/html": [
       "<div>\n",
       "<style scoped>\n",
       "    .dataframe tbody tr th:only-of-type {\n",
       "        vertical-align: middle;\n",
       "    }\n",
       "\n",
       "    .dataframe tbody tr th {\n",
       "        vertical-align: top;\n",
       "    }\n",
       "\n",
       "    .dataframe thead th {\n",
       "        text-align: right;\n",
       "    }\n",
       "</style>\n",
       "<table border=\"1\" class=\"dataframe\">\n",
       "  <thead>\n",
       "    <tr style=\"text-align: right;\">\n",
       "      <th></th>\n",
       "      <th>X0_dummy</th>\n",
       "      <th>X0_lr</th>\n",
       "      <th>X0_ridge</th>\n",
       "      <th>X0_lasso</th>\n",
       "      <th>X0_RF</th>\n",
       "      <th>X0_bagging</th>\n",
       "      <th>X1_dummy</th>\n",
       "      <th>X1_lr</th>\n",
       "      <th>X1_ridge</th>\n",
       "      <th>X1_lasso</th>\n",
       "      <th>X1_RF</th>\n",
       "      <th>X1_bagging</th>\n",
       "    </tr>\n",
       "  </thead>\n",
       "  <tbody>\n",
       "    <tr>\n",
       "      <th>Fold1</th>\n",
       "      <td>-0.014581</td>\n",
       "      <td>-0.087211</td>\n",
       "      <td>-0.016032</td>\n",
       "      <td>0.017455</td>\n",
       "      <td>0.117685</td>\n",
       "      <td>-0.046945</td>\n",
       "      <td>-0.089579</td>\n",
       "      <td>0.015177</td>\n",
       "      <td>0.089722</td>\n",
       "      <td>-0.069885</td>\n",
       "      <td>0.197856</td>\n",
       "      <td>0.160588</td>\n",
       "    </tr>\n",
       "    <tr>\n",
       "      <th>Fold2</th>\n",
       "      <td>-0.015537</td>\n",
       "      <td>0.159056</td>\n",
       "      <td>0.167009</td>\n",
       "      <td>0.002099</td>\n",
       "      <td>0.237016</td>\n",
       "      <td>0.111086</td>\n",
       "      <td>-0.120952</td>\n",
       "      <td>-0.388346</td>\n",
       "      <td>-0.381178</td>\n",
       "      <td>-0.234574</td>\n",
       "      <td>0.005290</td>\n",
       "      <td>-0.067943</td>\n",
       "    </tr>\n",
       "    <tr>\n",
       "      <th>Fold3</th>\n",
       "      <td>-0.090077</td>\n",
       "      <td>-0.758629</td>\n",
       "      <td>-0.742161</td>\n",
       "      <td>-0.740933</td>\n",
       "      <td>0.114379</td>\n",
       "      <td>0.035415</td>\n",
       "      <td>-0.012014</td>\n",
       "      <td>0.102098</td>\n",
       "      <td>0.164650</td>\n",
       "      <td>0.002988</td>\n",
       "      <td>0.207368</td>\n",
       "      <td>0.132722</td>\n",
       "    </tr>\n",
       "    <tr>\n",
       "      <th>CV_mean</th>\n",
       "      <td>-0.040065</td>\n",
       "      <td>-0.228928</td>\n",
       "      <td>-0.197061</td>\n",
       "      <td>-0.240460</td>\n",
       "      <td>0.156360</td>\n",
       "      <td>0.033185</td>\n",
       "      <td>-0.074181</td>\n",
       "      <td>-0.090357</td>\n",
       "      <td>-0.042269</td>\n",
       "      <td>-0.100490</td>\n",
       "      <td>0.136838</td>\n",
       "      <td>0.075122</td>\n",
       "    </tr>\n",
       "  </tbody>\n",
       "</table>\n",
       "</div>"
      ],
      "text/plain": [
       "         X0_dummy     X0_lr  X0_ridge  X0_lasso     X0_RF  X0_bagging  \\\n",
       "Fold1   -0.014581 -0.087211 -0.016032  0.017455  0.117685   -0.046945   \n",
       "Fold2   -0.015537  0.159056  0.167009  0.002099  0.237016    0.111086   \n",
       "Fold3   -0.090077 -0.758629 -0.742161 -0.740933  0.114379    0.035415   \n",
       "CV_mean -0.040065 -0.228928 -0.197061 -0.240460  0.156360    0.033185   \n",
       "\n",
       "         X1_dummy     X1_lr  X1_ridge  X1_lasso     X1_RF  X1_bagging  \n",
       "Fold1   -0.089579  0.015177  0.089722 -0.069885  0.197856    0.160588  \n",
       "Fold2   -0.120952 -0.388346 -0.381178 -0.234574  0.005290   -0.067943  \n",
       "Fold3   -0.012014  0.102098  0.164650  0.002988  0.207368    0.132722  \n",
       "CV_mean -0.074181 -0.090357 -0.042269 -0.100490  0.136838    0.075122  "
      ]
     },
     "execution_count": 36,
     "metadata": {},
     "output_type": "execute_result"
    }
   ],
   "source": [
    "pd.DataFrame(cv_results, index = ['Fold1','Fold2','Fold3', 'CV_mean'])"
   ]
  },
  {
   "cell_type": "markdown",
   "metadata": {},
   "source": [
    "So, the averages definitely seem better. It does mean I've only tested 3 configurations rather than 5 but RF consistently is positive and bagging does fairly well. It also seems like the difference between the data with the outliers and without the outliers in this CV analysis has fewer differences in fit. It seems like increasing the test_split will be helpful.\n",
    "\n",
    "---\n",
    "\n",
    "### Take Aways\n",
    "\n",
    "There probably is no linear relationship between my dependent variable and the rest of the dataset; this means that tree-based regressors will fair much better *consistently*. This intuitively makes sense to me because I have so many binary features that this inheriently lends itself better to decision trees, not so much for linear regression. This also gives me more hope that a neural network may fair well (more on that later).\n",
    "\n",
    "I think moving forward, I'm going to do the normal train_test_split method, excluding the outliers for now, and with a regular test_train split for the baseline, but a test_size = 0.33 for the clusters. I will only look at models based on decision trees. I am especially interested in models that support bootstrapping since my dataset isn't huge. So the models I'll look at are: RandomForests (bootstrapping), Bagging (bootstrapping), and Gradient Boosting (adding this one in). [Source to look at other tree-based ensembles](https://scikit-learn.org/stable/modules/classes.html?highlight=ensemble#module-sklearn.ensemble)"
   ]
  },
  {
   "cell_type": "markdown",
   "metadata": {},
   "source": [
    "#### slight side-track showing how the data is not linearly seperable overlaid on PCA data"
   ]
  },
  {
   "cell_type": "code",
   "execution_count": 27,
   "metadata": {},
   "outputs": [],
   "source": [
    "from sklearn.decomposition import PCA\n",
    "from sklearn.preprocessing import StandardScaler"
   ]
  },
  {
   "cell_type": "code",
   "execution_count": 28,
   "metadata": {},
   "outputs": [],
   "source": [
    "pca = PCA(n_components=3, random_state=8)\n",
    "ss = StandardScaler()"
   ]
  },
  {
   "cell_type": "code",
   "execution_count": 29,
   "metadata": {},
   "outputs": [],
   "source": [
    "X_s = ss.fit_transform(X1)\n",
    "X_pca= pca.fit_transform(X_s)"
   ]
  },
  {
   "cell_type": "code",
   "execution_count": 30,
   "metadata": {},
   "outputs": [
    {
     "data": {
      "text/plain": [
       "array([0.1579751 , 0.08377354, 0.0650413 ])"
      ]
     },
     "execution_count": 30,
     "metadata": {},
     "output_type": "execute_result"
    }
   ],
   "source": [
    "pca.explained_variance_ratio_"
   ]
  },
  {
   "cell_type": "code",
   "execution_count": 35,
   "metadata": {},
   "outputs": [],
   "source": [
    "X_pca = pd.DataFrame(X_pca, columns=['z1', 'z2', 'z3'])"
   ]
  },
  {
   "cell_type": "code",
   "execution_count": 37,
   "metadata": {},
   "outputs": [
    {
     "data": {
      "application/vnd.plotly.v1+json": {
       "config": {
        "plotlyServerURL": "https://plot.ly"
       },
       "data": [
        {
         "hovertemplate": "z1=%{x}<br>z2=%{y}<br>z3=%{z}<br>color=%{marker.color}<extra></extra>",
         "legendgroup": "",
         "marker": {
          "color": [
           0.2697325231675852,
           0.3104374563282033,
           0.21564798630835336,
           0.24991150363421355,
           0.2806419750018637,
           0.2500671232804595,
           0.2316310382269369,
           0.43373493975903615,
           0.29107540752902544,
           0.3542803112953669,
           0.3334672405547585,
           0.3810518975482248,
           0.3862401254972268,
           0.2887368200544655,
           0.23653542242391976,
           0.2238331035410432,
           0.2970004917226685,
           0.15050655111737818,
           0.18481138119009347,
           0.1679056856614128,
           0.2583130346116807,
           0.2674465510286406,
           0.3023595834176845,
           0.3040705967511869,
           0.22376009227220292,
           0.2813397129186603,
           0.2348786885245901,
           0.24440052700922266,
           0.2996639895099165,
           0.16454746117257274,
           0.4364515320382419,
           0.30241325819309994,
           0.3388474360254709,
           0.2233981094977959,
           0.3398419172050384,
           0.2265608106020821,
           0.20452212957023733,
           0.3591376400184134,
           0.3387952235621796,
           0.28419595745564835,
           0.3252236807006219,
           0.22014862956893214,
           0.2414544383924628,
           0.31561622191011235,
           0.1745196045048923,
           0.22839149254214444,
           0.14408362409694372,
           0.2403881632351856,
           0.25173398612811104,
           0.2949371218988925,
           0.3089887640449438,
           0.31351334350280713,
           0.26699507389162563,
           0.2787324566250414,
           0.2631272789183207,
           0.25182746975590986,
           0.2279223367306269,
           0.2649777797513529,
           0.332763642490913,
           0.29462224136001924,
           0.3119270118251472,
           0.19637526652452025,
           0.2619952859799358,
           0.13574007220216608,
           0.26966966966966965,
           0.2224014125014558,
           0.2485615650172613,
           0.4506172839506172,
           0.3985439173320808,
           0.23847019122609675,
           0.19501742488461904,
           0.2770155946635209,
           0.16806851849979265,
           0.16030534351145034,
           0.3239451114922813,
           0.24607876609161924,
           0.2269993898981268,
           0.2521895769923598,
           0.2012035040552854,
           0.1865583491712942,
           0.10415970344261798,
           0.2404929037182508,
           0.3052858683926645,
           0.30852145617246285,
           0.24913516616221576,
           0.3912839894310847,
           0.3195199578341341,
           0.30096920341801914,
           0.30771173422401304,
           0.2956005138086063,
           0.2711387828881301,
           0.1141990845713716,
           0.3160089627500977,
           0.3933438195350265,
           0.1699604743083004,
           0.15807802357684242,
           0.385239852398524,
           0.2851798784029741,
           0.16577329471241475,
           0.2936550300701043,
           0.3404153862456289,
           0.19951786211825706,
           0.14806238804665994,
           0.290139746208036,
           0.3412133891213389,
           0.19480846986037675,
           0.23666512623437275,
           0.2157337096521291,
           0.3619824788219849,
           0.18873085339168488,
           0.1846995647681373,
           0.10088925685502054,
           0.3565902717338749,
           0.3145121247529797,
           0.3416547788873039,
           0.34416105724695856,
           0.29390551749008303,
           0.21040776080605286,
           0.211550339715874,
           0.263075173957992,
           0.1888614795442365,
           0.20118643712825668,
           0.2569210208107936,
           0.4249750505386525,
           0.2797202797202797,
           0.3720058065665608,
           0.16992785123127127,
           0.2343185033799717,
           0.3754226419493995,
           0.16186580174634846,
           0.19587882682601648,
           0.2586980920314253,
           0.25277474570868314,
           0.316375462599529,
           0.24708774179758464,
           0.4168434545634484,
           0.1251348042715842,
           0.25274644460404416,
           0.1819563259792886,
           0.1602570095481749,
           0.255141487552188,
           0.2951513366058209,
           0.30710319739613257,
           0.35494554550259644,
           0.05757307351638617,
           0.16357267950963222,
           0.25374494031905753,
           0.3342208753513554,
           0.39136381398983977,
           0.21584137026676334,
           0.4249896288761786,
           0.3595961588592121,
           0.20376359932977936,
           0.23703703703703705,
           0.3188747510061385,
           0.2857142857142857,
           0.3495532856558917,
           0.2972749793559042,
           0.05973261643537019,
           0.2247949493067839,
           0.3668104778719841,
           0.21409921671018275,
           0.4604424596829458,
           0.34945462609529065,
           0.3348839569659652,
           0.3625360662494848,
           0.3825761214100471,
           0.3378628950395885,
           0.2690157882662106,
           0.17439146382127374,
           0.1539275069704836,
           0.09551815047657676,
           0.16651276327517125,
           0.2569799171907915,
           0.1761098188902805,
           0.16699553877831158,
           0.30711889675736115,
           0.3713671681269631,
           0.11182001440975063,
           0.2801258715369902,
           0.33877551020408164,
           0.1916503050787808,
           0.32190091907644025,
           0.10381866223225887,
           0.181378373790528,
           0.3676549157816791,
           0.2915905146097034,
           0.16330282129122484,
           0.20637721572301007,
           0.203267210397331,
           0.3240529290769804,
           0.20664802065404475,
           0.2735553583546484,
           0.18965067401072624,
           0.2397383656054224,
           0.3473104616687844,
           0.1882999870456485,
           0.16303210750784586,
           0.21457858769931668,
           0.3414609106308711,
           0.3304998492721787,
           0.2370429252782194,
           0.3129662621088965,
           0.28239693004034244,
           0.3136404966451369,
           0.26962739619322273,
           0.3597388777473089,
           0.3026734916749799,
           0.2780745530798247,
           0.30266264339645543,
           0.3135883469505653,
           0.1997075073123172,
           0.1814133809717912,
           0.2098051885889336,
           0.1443025857414446,
           0.25082946250829463,
           0.24163892222771,
           0.42857142857142855,
           0.3232672639503219,
           0.3655151141270821,
           0.2749711063322754,
           0.3640192539109505,
           0.2443170452880524,
           0.21727702193165604,
           0.2755881935194107,
           0.2665212278219965,
           0.270033089710613,
           0.2236644452374827,
           0.26347014724124906,
           0.36822955794866735,
           0.2321836023496981,
           0.1789034825401092,
           0.18932592211942167,
           0.2638791885893436,
           0.3110132158590308,
           0.16227270487360174,
           0.2479274769212026,
           0.39925979478540014,
           0.230849478390462,
           0.2883034869538455,
           0.2667857278565186,
           0.3721423802663481,
           0.2895544378149744,
           0.14672628691162812,
           0.21340671738043784,
           0.2887537993920973,
           0.1830964841178332,
           0.22420007355645452,
           0.2443867939096329,
           0.27855903452205216,
           0.312268927237077,
           0.3717594178439842,
           0.2394829614494571,
           0.34508842221608177,
           0.26845583901658665,
           0.3685193150722542,
           0.27735309412376496,
           0.3928842914847,
           0.2553616484440706,
           0.3296084975869379,
           0.2100056529112493,
           0.22496920640506776,
           0.13417666263611214,
           0.27096620359654555,
           0.2564865171085429,
           0.2927813100152125,
           0.11599552564609936
          ],
          "coloraxis": "coloraxis",
          "symbol": "circle"
         },
         "mode": "markers",
         "name": "",
         "scene": "scene",
         "showlegend": false,
         "type": "scatter3d",
         "x": [
          5.479328957686971,
          -4.221321432877584,
          4.328446235795248,
          3.2201474914909203,
          1.8204256871334776,
          -3.1102101928474224,
          1.7495494784981833,
          -2.3064526263972724,
          3.6353291271197774,
          -2.5947922021188505,
          -3.489717859841443,
          1.8281884324495132,
          -4.856778471288459,
          2.3718911916599517,
          5.360473286708573,
          2.669046880472789,
          -2.6435525388295917,
          -2.302214115143719,
          -2.947107997862162,
          -3.585608199190863,
          2.5451687633711924,
          -3.0396224348082654,
          4.917871972976681,
          -1.4328785853036738,
          -2.128269047713953,
          -2.751208666732975,
          2.720503131242538,
          4.239354765586911,
          -1.9050823332551563,
          2.9718370901699944,
          1.0597323638975091,
          -2.259362807343345,
          1.0521138741158889,
          5.529617879063542,
          -2.958066626935016,
          2.052288661930855,
          -0.9964694276806291,
          2.8003345156939536,
          -2.191619611961397,
          3.166425876312709,
          2.9937421064140537,
          1.6749860863865862,
          -1.9030113297291225,
          -2.0629229064045185,
          -1.612918813978954,
          1.7705303616004742,
          -3.3819398358625308,
          -1.3666910194883506,
          -2.9105031821841556,
          1.8621003340969327,
          -2.07253847634465,
          1.7196253591735302,
          -2.6417933730497953,
          -2.350612380558794,
          -2.465351631093262,
          -2.3629170014769048,
          -3.134391474333781,
          2.0965682622518447,
          -1.687282744269303,
          3.069296598769675,
          -2.8931818611618483,
          -3.100968555435092,
          0.008983667869428991,
          -3.2234573869929957,
          -1.7227834155883017,
          2.6847551032644765,
          -2.68533371897663,
          1.2128225900547347,
          -2.7633307765032167,
          1.6899217347475555,
          0.6798134231183722,
          0.9743915074824203,
          -2.3101088404940113,
          -2.222968819771377,
          -1.825563730483576,
          0.6973712094711302,
          4.051227960588295,
          3.8457336094131906,
          0.5296234469648015,
          2.249386775077629,
          -2.290654334670377,
          2.369963842391202,
          3.6494903606558124,
          0.45716758256605333,
          1.6906199611294312,
          0.38328554190821335,
          1.4230075321126272,
          -2.907015830504465,
          1.7922029462944247,
          -1.3017339959197027,
          -0.5501880740885297,
          -3.4280779636624263,
          0.5264661315983958,
          1.1257787241262922,
          -2.290392425194568,
          -1.6358966098778065,
          -2.231017555188953,
          -3.1532923698461115,
          -2.7670437314528304,
          4.122128634367285,
          -2.671901464459965,
          -2.977578108252789,
          -2.89156514202096,
          2.256491006774085,
          2.227806268412058,
          0.35054555093612744,
          -2.135521017884607,
          -2.3778956780265785,
          1.6455238378640342,
          -2.2028307956086977,
          -2.4899515937892303,
          1.961179074742376,
          -2.4933775560533156,
          2.3174556207047066,
          -0.4030152123675823,
          -2.6640208652269823,
          0.5913924585231343,
          5.103319099282206,
          0.08929348625083892,
          0.8769665971347934,
          4.824451560343416,
          1.7944400591092031,
          1.0458090456577698,
          0.7873967120097506,
          2.874822375103525,
          2.874906831932268,
          3.7045489725452905,
          2.8086708985574442,
          0.42813455765608965,
          -3.046611310435448,
          1.6172087485511606,
          -1.4338096678521386,
          2.373773776817734,
          1.846188221230307,
          3.6757415263112057,
          1.4030061668606781,
          0.8465285382124424,
          1.87994009248443,
          -2.5269139464712915,
          -0.5145650831597471,
          1.4803248576450074,
          -1.7914785979445953,
          -2.5516052327589938,
          2.0323668340311634,
          0.612824017484474,
          3.3423203904776644,
          -0.22793394530075411,
          -2.5016769495114217,
          -2.2259853202579123,
          -0.8094786622957785,
          1.4068321360236742,
          -0.9643853041572582,
          5.418310060572187,
          -3.365877893534027,
          -2.8525319139765477,
          2.6724021967542453,
          3.175225585008913,
          -3.025378302819461,
          -3.0376795278691313,
          1.6913780444942301,
          1.9352290771491192,
          -2.0909667732535913,
          -2.994659562761944,
          0.9588597411045091,
          -2.6895702094765133,
          2.4425905970663178,
          4.353565484848857,
          -1.9455994875830074,
          -2.5578723786339657,
          -2.8020486769201254,
          -2.583002315007449,
          2.0055813697881297,
          2.3157132252010406,
          1.8896708714452655,
          -3.4657291445748304,
          -2.9597204069913032,
          -2.7355183539507726,
          -2.2130397182421455,
          0.500319288213155,
          -2.9281212625273976,
          1.0925230641322399,
          -1.739539794716745,
          1.7071362409743465,
          1.8280454774012986,
          2.4719260951850957,
          -3.2534603902339674,
          3.325888516043792,
          2.6716237625830597,
          1.7466150338737596,
          4.076274925885865,
          -2.569748657385286,
          -2.316581729887676,
          -3.0974289397249026,
          -2.0500394746566135,
          5.935481355515879,
          -2.899886704058573,
          5.2859648292665895,
          -2.5973966006561677,
          -3.148954782294645,
          0.9227761965647516,
          3.1645054021736048,
          -1.8408513572997143,
          -2.1922911747198817,
          -1.7805746053836478,
          2.0410518715273067,
          -0.004351427383307451,
          0.25029653687291853,
          0.46744979307018636,
          2.3319984410675363,
          -0.036505724624566464,
          -1.594326447972355,
          2.800346238734479,
          -2.479030251719545,
          -2.90285646507534,
          2.9354776215409575,
          2.111564363299799,
          2.0007978938521465,
          -1.932959422923947,
          -2.255351811775938,
          -3.354868444121941,
          3.368808022174489,
          1.2109406370262918,
          2.123308262145004,
          2.503049911988336,
          0.815786718350964,
          2.560548659164896,
          -0.9748801395074248,
          3.909090297153757,
          -2.53613761610411,
          1.076316599054821,
          2.9482336738678687,
          2.7934250001579515,
          2.408318474638119,
          -3.5528373180489563,
          -1.9546296632786326,
          -2.064304263086209,
          3.4252760679590897,
          -3.332895858537444,
          -2.502283038304375,
          -2.64595071920363,
          -2.831015114353887,
          1.6164858237218938,
          0.8908380172090252,
          -1.1877233134652967,
          5.907726902607736,
          -2.1941764016376886,
          -1.8148486018200018,
          2.350439062311103,
          3.122916262212849,
          -2.3695900847897478,
          -1.3820776090916822,
          -2.4475706402667354,
          2.284611128339494,
          -1.788702196971942,
          3.499963703621873,
          -3.5423944075053835,
          -2.510265325020573,
          -3.894629081789854,
          3.5515353343280402,
          -2.683519812009043,
          -2.617804983646716,
          -3.2658448352392893,
          1.8407107331687496,
          2.1047985611673345,
          -2.497025206820438,
          2.754640070954812,
          -1.7798863396864042
         ],
         "y": [
          3.2314580192412956,
          1.648816821762802,
          1.2996126087897757,
          -1.0018644246342676,
          -1.3990309925992177,
          3.382912925619627,
          -2.2563506968604607,
          0.7522234423323559,
          0.48042645349314134,
          -0.39504474520194777,
          2.633891892467216,
          -2.138271729719102,
          -1.3168840875606491,
          3.253123501783278,
          2.544268164268143,
          -2.0404996920427863,
          -1.4641967023818172,
          -1.3135968180653355,
          -1.6263101487972893,
          1.6562664129264177,
          -2.1926399618286485,
          0.8753059381310537,
          0.3441185151802094,
          0.8915808561178067,
          -0.39316393546550893,
          0.4440922048697441,
          -0.7432276301370477,
          0.38496634863846474,
          -1.1405035169821751,
          -2.2424187710142993,
          1.1022000327943742,
          -1.818713861160765,
          0.5584995002806529,
          2.9092735339665228,
          -1.46342396098611,
          -1.9740143247701833,
          0.5411693219664128,
          4.714526600459455,
          0.24823577469528957,
          -0.21057962992075205,
          3.471764852492959,
          -2.0084406885458077,
          -1.4015863125629693,
          -0.4976752135013423,
          2.5933842311509157,
          -2.260368341483325,
          0.12864065570820027,
          2.033719979370795,
          2.5568662454107463,
          3.9179034840288116,
          1.0603165464744049,
          -0.1852289026147303,
          0.26718114693272804,
          0.22948321808075367,
          -0.013772283895831542,
          2.9496950004960616,
          0.4310497806895335,
          -0.8408703640611354,
          -1.5978934471418793,
          -0.5059600130856801,
          -0.07709394592073737,
          -1.7821106515890301,
          -2.1178270376650112,
          -1.1771213978200468,
          -1.4181823518832197,
          -2.17699500289435,
          -2.1192317865994355,
          0.8099815851952925,
          1.4240083636123968,
          -2.1022073858093724,
          -1.7649208193343497,
          3.426324865554856,
          -0.8252303967822116,
          1.0396795926176623,
          2.59037799572119,
          -1.1537814807769031,
          1.589387558684643,
          -3.35321050565345,
          -2.413193285578113,
          0.12016839101459245,
          -0.2947222111752207,
          -2.55384572266115,
          0.234818332088434,
          -1.9640623901615215,
          -1.8547119934336267,
          -0.26971096054379745,
          1.2647630681487148,
          2.558381130257406,
          -2.142804748429346,
          0.851050673973292,
          -1.3599383332971062,
          -1.5876233822609174,
          2.2202484757255823,
          -1.8048293247158296,
          -0.29477985156145275,
          1.526310456568253,
          1.1450204155728139,
          2.886834902453822,
          -0.6609204929957647,
          3.292624964029268,
          0.11873984613443861,
          2.0176731183889474,
          -0.9018475428728628,
          -0.2325259652593723,
          -2.1399910072783697,
          -0.13061386516537038,
          -1.0825767903063845,
          2.434639671120235,
          -1.0321536172397485,
          0.21399824010656063,
          -1.5632035399566482,
          -2.0220231530825177,
          0.10097948993628716,
          -1.1743373014249,
          1.1163268562570452,
          -1.3547560721591494,
          1.615193590879365,
          2.7096717664062533,
          -2.0531373328816795,
          -1.955785540389299,
          0.396752996097395,
          -2.4408691675045504,
          -1.6356426022779085,
          -1.1937169107030066,
          -0.44528084145587304,
          0.4045210485756583,
          -1.9542264459470726,
          -1.730738284832987,
          -1.8194964012171084,
          -1.8049301908706543,
          -2.104987822277874,
          -1.872720212288275,
          0.050810309524325754,
          2.3555293262257893,
          -1.4086777651539548,
          -1.6518600326770494,
          -2.5266636377586402,
          -1.3181703227832098,
          2.439148081973956,
          1.992494040080695,
          -1.0626808566740595,
          0.6134343346154245,
          -0.5572321912767357,
          -2.1722868509182867,
          -1.6315101172685091,
          1.6063436941307179,
          -0.17845772088090212,
          2.5013197812927292,
          -0.09251144249943383,
          5.341606192666683,
          -1.9339211102820597,
          0.43675317055404655,
          6.655886962982491,
          -1.0165095951496466,
          0.09444482257581444,
          0.7725450462067883,
          -1.9516065648751297,
          -1.413897843374522,
          -1.041181446490385,
          -2.674047307862934,
          3.4899723650063676,
          4.434891296538265,
          2.919713264078742,
          -0.2586552662548292,
          0.112323905645139,
          0.3397125903496322,
          -1.5862675432569022,
          -1.4491640478737349,
          0.33206172189548766,
          -3.0746634991057604,
          1.719927637479591,
          -0.17164427113338895,
          -0.8466073056261201,
          -1.8808962023715297,
          -1.7140411190743763,
          -0.3876187884087727,
          -1.0270103156753922,
          -0.8095551038894705,
          -0.7595397729324774,
          2.549331726060219,
          -1.4573051274201854,
          -0.5273139756676106,
          -0.6998971856075776,
          -2.2503635382730227,
          -2.1413397864322965,
          -1.154290711756284,
          -0.9870422000642477,
          -1.3428079710296408,
          -1.0922967644510353,
          3.2485212112363695,
          0.27754377988547746,
          0.12611842786769506,
          -0.7383523065689324,
          -0.621457506287481,
          5.247307038576425,
          -0.020447009366360742,
          2.728603480912301,
          0.6521933553436018,
          0.07454357134029432,
          1.8483362085131876,
          2.7764857238964082,
          -0.6470253922929177,
          0.248383570557423,
          1.4769215773448512,
          2.738276854928059,
          -0.7255703423857117,
          -0.02760726297905171,
          -2.106400358166245,
          -0.011714215170939117,
          4.222656329840357,
          4.9173624183486355,
          0.9358182140778348,
          2.207457164594481,
          -1.164956104337694,
          3.7994210913975253,
          -0.9151212325184519,
          -0.8158162295790294,
          1.686689128873518,
          -1.7153453595276777,
          -2.0811516990453547,
          -2.0577099728988664,
          -1.909483450060377,
          0.6251864918732342,
          -1.8388735203825664,
          -2.1329763083978532,
          -2.3644455867367093,
          4.390757636784138,
          1.4563388720248072,
          -1.8137979392487507,
          -1.8812792776086205,
          1.1566090079097315,
          -1.949747434547946,
          -3.50829123566348,
          -1.0115536854329736,
          0.24852165960588735,
          1.3565407217190717,
          1.304565897735206,
          -2.003295550368678,
          -1.2170013233056949,
          3.1089434955563435,
          0.1000138927750867,
          0.467957071323626,
          -1.9748878885493653,
          -1.4792954551841617,
          2.896387053036805,
          1.1648350547171886,
          -0.42035756579903727,
          -2.519602421576835,
          -0.8211411882198705,
          2.4452733756345664,
          -1.8525055346300117,
          1.994302492371819,
          -2.2472344891147755,
          0.7907640218375201,
          0.9307863305834766,
          1.8456816638630045,
          2.459402180536653,
          1.7422522855807718,
          -0.3239164358884704,
          -0.5332690186069894,
          -1.6067448757185416,
          0.559160805916886,
          -2.4510523024055733,
          1.8400104238065509,
          2.5811838641704554,
          0.43785718796382184,
          -1.4035622657276
         ],
         "z": [
          0.5314074245306303,
          0.5329509766513448,
          1.1430038478143207,
          -1.2850092802092679,
          -1.6814255833160505,
          -0.5099148444393193,
          -1.9624216679447284,
          -0.7864681307003039,
          -0.4394684577181392,
          -0.5641413913214038,
          0.5049121420938752,
          -1.8482679488564782,
          3.3122212487503955,
          -0.9921928083067878,
          1.1499317356661636,
          -1.517333673096577,
          -0.1723285885573072,
          0.8563807878936229,
          3.1836707841322034,
          -0.7384564069273079,
          -1.9737071707424767,
          1.0269526728721976,
          -0.4319868684972954,
          0.21459256150628345,
          2.3716794893642557,
          -0.9102884547599326,
          -0.6907337113844361,
          -0.37659973328172197,
          -1.2655267894542517,
          -0.10283593106590469,
          2.1347262681786563,
          -0.5160430380802127,
          0.7260603129876696,
          3.4909797443881847,
          0.39773114788192343,
          2.243208219728233,
          -0.2540233994688492,
          -1.4143239917604797,
          -1.0441410138146388,
          -1.5392047015732817,
          -0.39825796010232106,
          -1.8964129748471277,
          -1.002159534782663,
          -0.8846393802764998,
          -0.8027867904361649,
          -1.9603048783809363,
          -0.70036516918403,
          -0.04668231390659003,
          -0.6480262425133326,
          -0.20787216912666026,
          -1.0786378662916796,
          1.9382770826518225,
          0.4287324490163269,
          -0.8956950148408535,
          -0.5508669007857276,
          -0.5811458230464518,
          1.846995081769105,
          1.3110788229518475,
          7.438216377166718,
          -1.8131387721415069,
          -0.3828289751675464,
          4.612553854509603,
          -1.7260657573381715,
          0.5774454449859475,
          -0.674917290604876,
          -1.7039668538307686,
          0.4493299937482769,
          -0.6536884612973167,
          -0.4097294066542995,
          1.711285255370042,
          -0.9064743547350234,
          -1.4727856335031668,
          -0.651186404422038,
          -0.928538183627837,
          -0.49331795658857763,
          -1.9611156652305641,
          1.196747116040526,
          -1.2133702112049003,
          -0.7202008108573532,
          1.009438409037173,
          -1.0925523734833715,
          1.3242454408143909,
          8.07132987266979,
          -1.9399051061696602,
          2.1786178774067513,
          -2.4666431505776067,
          -2.1652283936795502,
          -0.6361008442867458,
          -1.9270449660851061,
          -0.9495305843202035,
          2.1565026785649137,
          1.2667894926131582,
          -0.3628344612340226,
          -1.9782086903863065,
          -1.0925017902175587,
          -1.0581894961878802,
          0.883932680107509,
          1.1190887729393963,
          -0.3147989305421114,
          1.082370536230389,
          -0.8920153652355275,
          3.939307363441853,
          0.20219186571736836,
          -0.3923275258428308,
          -2.011534508302063,
          6.762964655338839,
          -0.07373378165232737,
          -0.7143522309124722,
          0.14347736018825488,
          3.7480033469505343,
          0.8268747913387838,
          -1.922783087987425,
          -1.0831162392580498,
          1.2534604134264211,
          -0.13355241183641253,
          1.3632067943043022,
          -1.9510570732095316,
          0.5061076718117349,
          0.3933792411176355,
          -2.2726413406313912,
          -0.04280494438195211,
          -1.5543894086692005,
          -0.40394457927384075,
          1.4753100246029143,
          -0.9393295347194908,
          1.7392027573352846,
          2.7201281571901155,
          0.6525663418583817,
          1.6537849441380206,
          -0.3211954301216607,
          -1.9111721549798228,
          1.2541032379684844,
          -1.8079201548647994,
          1.3255097550575028,
          1.5636640979795486,
          -1.4180886311511358,
          0.5784477474351676,
          2.8219832065954837,
          -0.32723427376183867,
          0.4336561404076585,
          6.249096475344134,
          0.3693604875310786,
          5.1768938410176615,
          0.09424944794323908,
          -2.196950344732987,
          0.8276461606151532,
          -0.6026697680696553,
          -0.23536425244736003,
          0.14256030231972888,
          -0.3423252586344052,
          -0.5592752587035998,
          -0.6990050715408217,
          1.5124698358116246,
          -0.28574778254807115,
          -0.7387840663865558,
          -1.0375272926184438,
          0.059676560176825356,
          0.10153271620090691,
          -0.4039635335415232,
          -1.0773661081255312,
          1.5520506032901202,
          -0.25878287308878606,
          -0.7171067085760968,
          -1.6763378241037938,
          -0.886463534332244,
          -0.5159902167529051,
          0.6744609586689133,
          -0.5440164335093772,
          0.42094416723640055,
          6.394114157430919,
          -0.6016988735339776,
          1.7269160538532469,
          1.210555036754953,
          2.2482681801944793,
          0.32341033928780905,
          -0.6736106336121551,
          0.5624763882613101,
          -1.4725590594525022,
          0.277968873302293,
          -0.7076882528302901,
          -1.8010429320197745,
          -0.33345006797601495,
          2.0024915333801623,
          -0.7087072178291037,
          -0.6596684760376431,
          -0.35779178904953185,
          -0.9193617852998174,
          -1.6440028510665476,
          0.7974674613705413,
          1.8132893147680595,
          -0.8105537675755,
          -1.2370881289988034,
          -1.3627929853101979,
          -0.3186038437229593,
          0.5388081593239982,
          -0.4956128504040694,
          1.9539326895112297,
          -1.0622736214137536,
          0.839060822752036,
          -0.7815571635343006,
          -0.5501202227641679,
          0.17335868589889877,
          -1.0442707144962118,
          -0.9783807197787541,
          -0.3149912479013079,
          -2.214871541904832,
          -2.382154697955716,
          -1.191851521227684,
          -1.1766274673008796,
          0.9444968289733591,
          -0.35114749368532905,
          -1.6178282856722679,
          0.3137656853366042,
          -0.17792539561365117,
          0.7173344098746789,
          0.6261699723118058,
          -1.2725047319902962,
          -0.1994588944681312,
          1.8744443390793508,
          3.314788099731294,
          -0.88484296677295,
          -1.4135155401165402,
          1.2202330596418556,
          -1.9097345606338727,
          -1.6211479223022427,
          3.010905162972719,
          -0.5859797461921411,
          -1.1157633909946514,
          0.4049860757198079,
          -1.820789998928513,
          -0.8964942552755659,
          0.7121762286331298,
          -1.6520410963673402,
          -0.4725195145236508,
          -1.2508429140058221,
          -0.3542643033205905,
          0.2441983136385249,
          0.2679270041962869,
          0.4155637837765173,
          -1.2398297200554036,
          -0.7435927123844253,
          -2.1462947081891888,
          -2.2181750269865144,
          -0.6790766921073934,
          0.6236420807403438,
          -1.3530028028685719,
          -0.0712457865361538,
          3.977365289183518,
          -0.9460091519286729,
          -0.6784923290108875,
          1.3921955094504002,
          -1.3834626283404143,
          0.5651655550182665,
          -1.2891394328311123,
          0.880063704916389,
          -0.24194169644488375,
          -0.27088059668071013,
          1.860028498939782,
          -0.6929242709958033,
          -0.7577785016506878,
          -0.3677688309390626,
          -0.6432125569154903,
          -1.5454530317088147,
          1.1921907316760063,
          -0.9547877291732492,
          -1.8079753187820062,
          0.3641899977713846
         ]
        }
       ],
       "layout": {
        "autosize": true,
        "coloraxis": {
         "colorbar": {
          "title": {
           "text": "color"
          }
         },
         "colorscale": [
          [
           0,
           "#0d0887"
          ],
          [
           0.1111111111111111,
           "#46039f"
          ],
          [
           0.2222222222222222,
           "#7201a8"
          ],
          [
           0.3333333333333333,
           "#9c179e"
          ],
          [
           0.4444444444444444,
           "#bd3786"
          ],
          [
           0.5555555555555556,
           "#d8576b"
          ],
          [
           0.6666666666666666,
           "#ed7953"
          ],
          [
           0.7777777777777778,
           "#fb9f3a"
          ],
          [
           0.8888888888888888,
           "#fdca26"
          ],
          [
           1,
           "#f0f921"
          ]
         ]
        },
        "legend": {
         "tracegroupgap": 0
        },
        "margin": {
         "t": 60
        },
        "scene": {
         "aspectmode": "auto",
         "aspectratio": {
          "x": 1.0283283539613681,
          "y": 0.9684823015865601,
          "z": 1.0040989215410743
         },
         "camera": {
          "center": {
           "x": 0.051370408131649434,
           "y": 0.06040444218701501,
           "z": -0.0915973712546537
          },
          "eye": {
           "x": -2.0805682774901966,
           "y": 0.08536366112156665,
           "z": 0.7022624095572563
          },
          "projection": {
           "type": "perspective"
          },
          "up": {
           "x": 0,
           "y": 0,
           "z": 1
          }
         },
         "domain": {
          "x": [
           0,
           1
          ],
          "y": [
           0,
           1
          ]
         },
         "xaxis": {
          "title": {
           "text": "z1"
          },
          "type": "linear"
         },
         "yaxis": {
          "title": {
           "text": "z2"
          },
          "type": "linear"
         },
         "zaxis": {
          "title": {
           "text": "z3"
          },
          "type": "linear"
         }
        },
        "template": {
         "data": {
          "bar": [
           {
            "error_x": {
             "color": "#2a3f5f"
            },
            "error_y": {
             "color": "#2a3f5f"
            },
            "marker": {
             "line": {
              "color": "#E5ECF6",
              "width": 0.5
             }
            },
            "type": "bar"
           }
          ],
          "barpolar": [
           {
            "marker": {
             "line": {
              "color": "#E5ECF6",
              "width": 0.5
             }
            },
            "type": "barpolar"
           }
          ],
          "carpet": [
           {
            "aaxis": {
             "endlinecolor": "#2a3f5f",
             "gridcolor": "white",
             "linecolor": "white",
             "minorgridcolor": "white",
             "startlinecolor": "#2a3f5f"
            },
            "baxis": {
             "endlinecolor": "#2a3f5f",
             "gridcolor": "white",
             "linecolor": "white",
             "minorgridcolor": "white",
             "startlinecolor": "#2a3f5f"
            },
            "type": "carpet"
           }
          ],
          "choropleth": [
           {
            "colorbar": {
             "outlinewidth": 0,
             "ticks": ""
            },
            "type": "choropleth"
           }
          ],
          "contour": [
           {
            "colorbar": {
             "outlinewidth": 0,
             "ticks": ""
            },
            "colorscale": [
             [
              0,
              "#0d0887"
             ],
             [
              0.1111111111111111,
              "#46039f"
             ],
             [
              0.2222222222222222,
              "#7201a8"
             ],
             [
              0.3333333333333333,
              "#9c179e"
             ],
             [
              0.4444444444444444,
              "#bd3786"
             ],
             [
              0.5555555555555556,
              "#d8576b"
             ],
             [
              0.6666666666666666,
              "#ed7953"
             ],
             [
              0.7777777777777778,
              "#fb9f3a"
             ],
             [
              0.8888888888888888,
              "#fdca26"
             ],
             [
              1,
              "#f0f921"
             ]
            ],
            "type": "contour"
           }
          ],
          "contourcarpet": [
           {
            "colorbar": {
             "outlinewidth": 0,
             "ticks": ""
            },
            "type": "contourcarpet"
           }
          ],
          "heatmap": [
           {
            "colorbar": {
             "outlinewidth": 0,
             "ticks": ""
            },
            "colorscale": [
             [
              0,
              "#0d0887"
             ],
             [
              0.1111111111111111,
              "#46039f"
             ],
             [
              0.2222222222222222,
              "#7201a8"
             ],
             [
              0.3333333333333333,
              "#9c179e"
             ],
             [
              0.4444444444444444,
              "#bd3786"
             ],
             [
              0.5555555555555556,
              "#d8576b"
             ],
             [
              0.6666666666666666,
              "#ed7953"
             ],
             [
              0.7777777777777778,
              "#fb9f3a"
             ],
             [
              0.8888888888888888,
              "#fdca26"
             ],
             [
              1,
              "#f0f921"
             ]
            ],
            "type": "heatmap"
           }
          ],
          "heatmapgl": [
           {
            "colorbar": {
             "outlinewidth": 0,
             "ticks": ""
            },
            "colorscale": [
             [
              0,
              "#0d0887"
             ],
             [
              0.1111111111111111,
              "#46039f"
             ],
             [
              0.2222222222222222,
              "#7201a8"
             ],
             [
              0.3333333333333333,
              "#9c179e"
             ],
             [
              0.4444444444444444,
              "#bd3786"
             ],
             [
              0.5555555555555556,
              "#d8576b"
             ],
             [
              0.6666666666666666,
              "#ed7953"
             ],
             [
              0.7777777777777778,
              "#fb9f3a"
             ],
             [
              0.8888888888888888,
              "#fdca26"
             ],
             [
              1,
              "#f0f921"
             ]
            ],
            "type": "heatmapgl"
           }
          ],
          "histogram": [
           {
            "marker": {
             "colorbar": {
              "outlinewidth": 0,
              "ticks": ""
             }
            },
            "type": "histogram"
           }
          ],
          "histogram2d": [
           {
            "colorbar": {
             "outlinewidth": 0,
             "ticks": ""
            },
            "colorscale": [
             [
              0,
              "#0d0887"
             ],
             [
              0.1111111111111111,
              "#46039f"
             ],
             [
              0.2222222222222222,
              "#7201a8"
             ],
             [
              0.3333333333333333,
              "#9c179e"
             ],
             [
              0.4444444444444444,
              "#bd3786"
             ],
             [
              0.5555555555555556,
              "#d8576b"
             ],
             [
              0.6666666666666666,
              "#ed7953"
             ],
             [
              0.7777777777777778,
              "#fb9f3a"
             ],
             [
              0.8888888888888888,
              "#fdca26"
             ],
             [
              1,
              "#f0f921"
             ]
            ],
            "type": "histogram2d"
           }
          ],
          "histogram2dcontour": [
           {
            "colorbar": {
             "outlinewidth": 0,
             "ticks": ""
            },
            "colorscale": [
             [
              0,
              "#0d0887"
             ],
             [
              0.1111111111111111,
              "#46039f"
             ],
             [
              0.2222222222222222,
              "#7201a8"
             ],
             [
              0.3333333333333333,
              "#9c179e"
             ],
             [
              0.4444444444444444,
              "#bd3786"
             ],
             [
              0.5555555555555556,
              "#d8576b"
             ],
             [
              0.6666666666666666,
              "#ed7953"
             ],
             [
              0.7777777777777778,
              "#fb9f3a"
             ],
             [
              0.8888888888888888,
              "#fdca26"
             ],
             [
              1,
              "#f0f921"
             ]
            ],
            "type": "histogram2dcontour"
           }
          ],
          "mesh3d": [
           {
            "colorbar": {
             "outlinewidth": 0,
             "ticks": ""
            },
            "type": "mesh3d"
           }
          ],
          "parcoords": [
           {
            "line": {
             "colorbar": {
              "outlinewidth": 0,
              "ticks": ""
             }
            },
            "type": "parcoords"
           }
          ],
          "pie": [
           {
            "automargin": true,
            "type": "pie"
           }
          ],
          "scatter": [
           {
            "marker": {
             "colorbar": {
              "outlinewidth": 0,
              "ticks": ""
             }
            },
            "type": "scatter"
           }
          ],
          "scatter3d": [
           {
            "line": {
             "colorbar": {
              "outlinewidth": 0,
              "ticks": ""
             }
            },
            "marker": {
             "colorbar": {
              "outlinewidth": 0,
              "ticks": ""
             }
            },
            "type": "scatter3d"
           }
          ],
          "scattercarpet": [
           {
            "marker": {
             "colorbar": {
              "outlinewidth": 0,
              "ticks": ""
             }
            },
            "type": "scattercarpet"
           }
          ],
          "scattergeo": [
           {
            "marker": {
             "colorbar": {
              "outlinewidth": 0,
              "ticks": ""
             }
            },
            "type": "scattergeo"
           }
          ],
          "scattergl": [
           {
            "marker": {
             "colorbar": {
              "outlinewidth": 0,
              "ticks": ""
             }
            },
            "type": "scattergl"
           }
          ],
          "scattermapbox": [
           {
            "marker": {
             "colorbar": {
              "outlinewidth": 0,
              "ticks": ""
             }
            },
            "type": "scattermapbox"
           }
          ],
          "scatterpolar": [
           {
            "marker": {
             "colorbar": {
              "outlinewidth": 0,
              "ticks": ""
             }
            },
            "type": "scatterpolar"
           }
          ],
          "scatterpolargl": [
           {
            "marker": {
             "colorbar": {
              "outlinewidth": 0,
              "ticks": ""
             }
            },
            "type": "scatterpolargl"
           }
          ],
          "scatterternary": [
           {
            "marker": {
             "colorbar": {
              "outlinewidth": 0,
              "ticks": ""
             }
            },
            "type": "scatterternary"
           }
          ],
          "surface": [
           {
            "colorbar": {
             "outlinewidth": 0,
             "ticks": ""
            },
            "colorscale": [
             [
              0,
              "#0d0887"
             ],
             [
              0.1111111111111111,
              "#46039f"
             ],
             [
              0.2222222222222222,
              "#7201a8"
             ],
             [
              0.3333333333333333,
              "#9c179e"
             ],
             [
              0.4444444444444444,
              "#bd3786"
             ],
             [
              0.5555555555555556,
              "#d8576b"
             ],
             [
              0.6666666666666666,
              "#ed7953"
             ],
             [
              0.7777777777777778,
              "#fb9f3a"
             ],
             [
              0.8888888888888888,
              "#fdca26"
             ],
             [
              1,
              "#f0f921"
             ]
            ],
            "type": "surface"
           }
          ],
          "table": [
           {
            "cells": {
             "fill": {
              "color": "#EBF0F8"
             },
             "line": {
              "color": "white"
             }
            },
            "header": {
             "fill": {
              "color": "#C8D4E3"
             },
             "line": {
              "color": "white"
             }
            },
            "type": "table"
           }
          ]
         },
         "layout": {
          "annotationdefaults": {
           "arrowcolor": "#2a3f5f",
           "arrowhead": 0,
           "arrowwidth": 1
          },
          "autotypenumbers": "strict",
          "coloraxis": {
           "colorbar": {
            "outlinewidth": 0,
            "ticks": ""
           }
          },
          "colorscale": {
           "diverging": [
            [
             0,
             "#8e0152"
            ],
            [
             0.1,
             "#c51b7d"
            ],
            [
             0.2,
             "#de77ae"
            ],
            [
             0.3,
             "#f1b6da"
            ],
            [
             0.4,
             "#fde0ef"
            ],
            [
             0.5,
             "#f7f7f7"
            ],
            [
             0.6,
             "#e6f5d0"
            ],
            [
             0.7,
             "#b8e186"
            ],
            [
             0.8,
             "#7fbc41"
            ],
            [
             0.9,
             "#4d9221"
            ],
            [
             1,
             "#276419"
            ]
           ],
           "sequential": [
            [
             0,
             "#0d0887"
            ],
            [
             0.1111111111111111,
             "#46039f"
            ],
            [
             0.2222222222222222,
             "#7201a8"
            ],
            [
             0.3333333333333333,
             "#9c179e"
            ],
            [
             0.4444444444444444,
             "#bd3786"
            ],
            [
             0.5555555555555556,
             "#d8576b"
            ],
            [
             0.6666666666666666,
             "#ed7953"
            ],
            [
             0.7777777777777778,
             "#fb9f3a"
            ],
            [
             0.8888888888888888,
             "#fdca26"
            ],
            [
             1,
             "#f0f921"
            ]
           ],
           "sequentialminus": [
            [
             0,
             "#0d0887"
            ],
            [
             0.1111111111111111,
             "#46039f"
            ],
            [
             0.2222222222222222,
             "#7201a8"
            ],
            [
             0.3333333333333333,
             "#9c179e"
            ],
            [
             0.4444444444444444,
             "#bd3786"
            ],
            [
             0.5555555555555556,
             "#d8576b"
            ],
            [
             0.6666666666666666,
             "#ed7953"
            ],
            [
             0.7777777777777778,
             "#fb9f3a"
            ],
            [
             0.8888888888888888,
             "#fdca26"
            ],
            [
             1,
             "#f0f921"
            ]
           ]
          },
          "colorway": [
           "#636efa",
           "#EF553B",
           "#00cc96",
           "#ab63fa",
           "#FFA15A",
           "#19d3f3",
           "#FF6692",
           "#B6E880",
           "#FF97FF",
           "#FECB52"
          ],
          "font": {
           "color": "#2a3f5f"
          },
          "geo": {
           "bgcolor": "white",
           "lakecolor": "white",
           "landcolor": "#E5ECF6",
           "showlakes": true,
           "showland": true,
           "subunitcolor": "white"
          },
          "hoverlabel": {
           "align": "left"
          },
          "hovermode": "closest",
          "mapbox": {
           "style": "light"
          },
          "paper_bgcolor": "white",
          "plot_bgcolor": "#E5ECF6",
          "polar": {
           "angularaxis": {
            "gridcolor": "white",
            "linecolor": "white",
            "ticks": ""
           },
           "bgcolor": "#E5ECF6",
           "radialaxis": {
            "gridcolor": "white",
            "linecolor": "white",
            "ticks": ""
           }
          },
          "scene": {
           "xaxis": {
            "backgroundcolor": "#E5ECF6",
            "gridcolor": "white",
            "gridwidth": 2,
            "linecolor": "white",
            "showbackground": true,
            "ticks": "",
            "zerolinecolor": "white"
           },
           "yaxis": {
            "backgroundcolor": "#E5ECF6",
            "gridcolor": "white",
            "gridwidth": 2,
            "linecolor": "white",
            "showbackground": true,
            "ticks": "",
            "zerolinecolor": "white"
           },
           "zaxis": {
            "backgroundcolor": "#E5ECF6",
            "gridcolor": "white",
            "gridwidth": 2,
            "linecolor": "white",
            "showbackground": true,
            "ticks": "",
            "zerolinecolor": "white"
           }
          },
          "shapedefaults": {
           "line": {
            "color": "#2a3f5f"
           }
          },
          "ternary": {
           "aaxis": {
            "gridcolor": "white",
            "linecolor": "white",
            "ticks": ""
           },
           "baxis": {
            "gridcolor": "white",
            "linecolor": "white",
            "ticks": ""
           },
           "bgcolor": "#E5ECF6",
           "caxis": {
            "gridcolor": "white",
            "linecolor": "white",
            "ticks": ""
           }
          },
          "title": {
           "x": 0.05
          },
          "xaxis": {
           "automargin": true,
           "gridcolor": "white",
           "linecolor": "white",
           "ticks": "",
           "title": {
            "standoff": 15
           },
           "zerolinecolor": "white",
           "zerolinewidth": 2
          },
          "yaxis": {
           "automargin": true,
           "gridcolor": "white",
           "linecolor": "white",
           "ticks": "",
           "title": {
            "standoff": 15
           },
           "zerolinecolor": "white",
           "zerolinewidth": 2
          }
         }
        }
       }
      },
      "image/png": "[encoded data removed]",
      "text/html": [
       "<div>                            <div id=\"df5647a6-64a7-4a00-8a41-35ae0b7f3d81\" class=\"plotly-graph-div\" style=\"height:525px; width:100%;\"></div>            <script type=\"text/javascript\">                require([\"plotly\"], function(Plotly) {                    window.PLOTLYENV=window.PLOTLYENV || {};                                    if (document.getElementById(\"df5647a6-64a7-4a00-8a41-35ae0b7f3d81\")) {                    Plotly.newPlot(                        \"df5647a6-64a7-4a00-8a41-35ae0b7f3d81\",                        [{\"hovertemplate\": \"z1=%{x}<br>z2=%{y}<br>z3=%{z}<br>color=%{marker.color}<extra></extra>\", \"legendgroup\": \"\", \"marker\": {\"color\": [0.2697325231675852, 0.3104374563282033, 0.21564798630835336, 0.24991150363421355, 0.2806419750018637, 0.2500671232804595, 0.2316310382269369, 0.43373493975903615, 0.29107540752902544, 0.3542803112953669, 0.3334672405547585, 0.3810518975482248, 0.3862401254972268, 0.2887368200544655, 0.23653542242391976, 0.2238331035410432, 0.2970004917226685, 0.15050655111737818, 0.18481138119009347, 0.1679056856614128, 0.2583130346116807, 0.2674465510286406, 0.3023595834176845, 0.3040705967511869, 0.22376009227220292, 0.2813397129186603, 0.2348786885245901, 0.24440052700922266, 0.2996639895099165, 0.16454746117257274, 0.4364515320382419, 0.30241325819309994, 0.3388474360254709, 0.2233981094977959, 0.3398419172050384, 0.2265608106020821, 0.20452212957023733, 0.3591376400184134, 0.3387952235621796, 0.28419595745564835, 0.3252236807006219, 0.22014862956893214, 0.2414544383924628, 0.31561622191011235, 0.1745196045048923, 0.22839149254214444, 0.14408362409694372, 0.2403881632351856, 0.25173398612811104, 0.2949371218988925, 0.3089887640449438, 0.31351334350280713, 0.26699507389162563, 0.2787324566250414, 0.2631272789183207, 0.25182746975590986, 0.2279223367306269, 0.2649777797513529, 0.332763642490913, 0.29462224136001924, 0.3119270118251472, 0.19637526652452025, 0.2619952859799358, 0.13574007220216608, 0.26966966966966965, 0.2224014125014558, 0.2485615650172613, 0.4506172839506172, 0.3985439173320808, 0.23847019122609675, 0.19501742488461904, 0.2770155946635209, 0.16806851849979265, 0.16030534351145034, 0.3239451114922813, 0.24607876609161924, 0.2269993898981268, 0.2521895769923598, 0.2012035040552854, 0.1865583491712942, 0.10415970344261798, 0.2404929037182508, 0.3052858683926645, 0.30852145617246285, 0.24913516616221576, 0.3912839894310847, 0.3195199578341341, 0.30096920341801914, 0.30771173422401304, 0.2956005138086063, 0.2711387828881301, 0.1141990845713716, 0.3160089627500977, 0.3933438195350265, 0.1699604743083004, 0.15807802357684242, 0.385239852398524, 0.2851798784029741, 0.16577329471241475, 0.2936550300701043, 0.3404153862456289, 0.19951786211825706, 0.14806238804665994, 0.290139746208036, 0.3412133891213389, 0.19480846986037675, 0.23666512623437275, 0.2157337096521291, 0.3619824788219849, 0.18873085339168488, 0.1846995647681373, 0.10088925685502054, 0.3565902717338749, 0.3145121247529797, 0.3416547788873039, 0.34416105724695856, 0.29390551749008303, 0.21040776080605286, 0.211550339715874, 0.263075173957992, 0.1888614795442365, 0.20118643712825668, 0.2569210208107936, 0.4249750505386525, 0.2797202797202797, 0.3720058065665608, 0.16992785123127127, 0.2343185033799717, 0.3754226419493995, 0.16186580174634846, 0.19587882682601648, 0.2586980920314253, 0.25277474570868314, 0.316375462599529, 0.24708774179758464, 0.4168434545634484, 0.1251348042715842, 0.25274644460404416, 0.1819563259792886, 0.1602570095481749, 0.255141487552188, 0.2951513366058209, 0.30710319739613257, 0.35494554550259644, 0.05757307351638617, 0.16357267950963222, 0.25374494031905753, 0.3342208753513554, 0.39136381398983977, 0.21584137026676334, 0.4249896288761786, 0.3595961588592121, 0.20376359932977936, 0.23703703703703705, 0.3188747510061385, 0.2857142857142857, 0.3495532856558917, 0.2972749793559042, 0.05973261643537019, 0.2247949493067839, 0.3668104778719841, 0.21409921671018275, 0.4604424596829458, 0.34945462609529065, 0.3348839569659652, 0.3625360662494848, 0.3825761214100471, 0.3378628950395885, 0.2690157882662106, 0.17439146382127374, 0.1539275069704836, 0.09551815047657676, 0.16651276327517125, 0.2569799171907915, 0.1761098188902805, 0.16699553877831158, 0.30711889675736115, 0.3713671681269631, 0.11182001440975063, 0.2801258715369902, 0.33877551020408164, 0.1916503050787808, 0.32190091907644025, 0.10381866223225887, 0.181378373790528, 0.3676549157816791, 0.2915905146097034, 0.16330282129122484, 0.20637721572301007, 0.203267210397331, 0.3240529290769804, 0.20664802065404475, 0.2735553583546484, 0.18965067401072624, 0.2397383656054224, 0.3473104616687844, 0.1882999870456485, 0.16303210750784586, 0.21457858769931668, 0.3414609106308711, 0.3304998492721787, 0.2370429252782194, 0.3129662621088965, 0.28239693004034244, 0.3136404966451369, 0.26962739619322273, 0.3597388777473089, 0.3026734916749799, 0.2780745530798247, 0.30266264339645543, 0.3135883469505653, 0.1997075073123172, 0.1814133809717912, 0.2098051885889336, 0.1443025857414446, 0.25082946250829463, 0.24163892222771, 0.42857142857142855, 0.3232672639503219, 0.3655151141270821, 0.2749711063322754, 0.3640192539109505, 0.2443170452880524, 0.21727702193165604, 0.2755881935194107, 0.2665212278219965, 0.270033089710613, 0.2236644452374827, 0.26347014724124906, 0.36822955794866735, 0.2321836023496981, 0.1789034825401092, 0.18932592211942167, 0.2638791885893436, 0.3110132158590308, 0.16227270487360174, 0.2479274769212026, 0.39925979478540014, 0.230849478390462, 0.2883034869538455, 0.2667857278565186, 0.3721423802663481, 0.2895544378149744, 0.14672628691162812, 0.21340671738043784, 0.2887537993920973, 0.1830964841178332, 0.22420007355645452, 0.2443867939096329, 0.27855903452205216, 0.312268927237077, 0.3717594178439842, 0.2394829614494571, 0.34508842221608177, 0.26845583901658665, 0.3685193150722542, 0.27735309412376496, 0.3928842914847, 0.2553616484440706, 0.3296084975869379, 0.2100056529112493, 0.22496920640506776, 0.13417666263611214, 0.27096620359654555, 0.2564865171085429, 0.2927813100152125, 0.11599552564609936], \"coloraxis\": \"coloraxis\", \"symbol\": \"circle\"}, \"mode\": \"markers\", \"name\": \"\", \"scene\": \"scene\", \"showlegend\": false, \"type\": \"scatter3d\", \"x\": [5.479328957686971, -4.221321432877584, 4.328446235795248, 3.2201474914909203, 1.8204256871334776, -3.1102101928474224, 1.7495494784981833, -2.3064526263972724, 3.6353291271197774, -2.5947922021188505, -3.489717859841443, 1.8281884324495132, -4.856778471288459, 2.3718911916599517, 5.360473286708573, 2.669046880472789, -2.6435525388295917, -2.302214115143719, -2.947107997862162, -3.585608199190863, 2.5451687633711924, -3.0396224348082654, 4.917871972976681, -1.4328785853036738, -2.128269047713953, -2.751208666732975, 2.720503131242538, 4.239354765586911, -1.9050823332551563, 2.9718370901699944, 1.0597323638975091, -2.259362807343345, 1.0521138741158889, 5.529617879063542, -2.958066626935016, 2.052288661930855, -0.9964694276806291, 2.8003345156939536, -2.191619611961397, 3.166425876312709, 2.9937421064140537, 1.6749860863865862, -1.9030113297291225, -2.0629229064045185, -1.612918813978954, 1.7705303616004742, -3.3819398358625308, -1.3666910194883506, -2.9105031821841556, 1.8621003340969327, -2.07253847634465, 1.7196253591735302, -2.6417933730497953, -2.350612380558794, -2.465351631093262, -2.3629170014769048, -3.134391474333781, 2.0965682622518447, -1.687282744269303, 3.069296598769675, -2.8931818611618483, -3.100968555435092, 0.008983667869428991, -3.2234573869929957, -1.7227834155883017, 2.6847551032644765, -2.68533371897663, 1.2128225900547347, -2.7633307765032167, 1.6899217347475555, 0.6798134231183722, 0.9743915074824203, -2.3101088404940113, -2.222968819771377, -1.825563730483576, 0.6973712094711302, 4.051227960588295, 3.8457336094131906, 0.5296234469648015, 2.249386775077629, -2.290654334670377, 2.369963842391202, 3.6494903606558124, 0.45716758256605333, 1.6906199611294312, 0.38328554190821335, 1.4230075321126272, -2.907015830504465, 1.7922029462944247, -1.3017339959197027, -0.5501880740885297, -3.4280779636624263, 0.5264661315983958, 1.1257787241262922, -2.290392425194568, -1.6358966098778065, -2.231017555188953, -3.1532923698461115, -2.7670437314528304, 4.122128634367285, -2.671901464459965, -2.977578108252789, -2.89156514202096, 2.256491006774085, 2.227806268412058, 0.35054555093612744, -2.135521017884607, -2.3778956780265785, 1.6455238378640342, -2.2028307956086977, -2.4899515937892303, 1.961179074742376, -2.4933775560533156, 2.3174556207047066, -0.4030152123675823, -2.6640208652269823, 0.5913924585231343, 5.103319099282206, 0.08929348625083892, 0.8769665971347934, 4.824451560343416, 1.7944400591092031, 1.0458090456577698, 0.7873967120097506, 2.874822375103525, 2.874906831932268, 3.7045489725452905, 2.8086708985574442, 0.42813455765608965, -3.046611310435448, 1.6172087485511606, -1.4338096678521386, 2.373773776817734, 1.846188221230307, 3.6757415263112057, 1.4030061668606781, 0.8465285382124424, 1.87994009248443, -2.5269139464712915, -0.5145650831597471, 1.4803248576450074, -1.7914785979445953, -2.5516052327589938, 2.0323668340311634, 0.612824017484474, 3.3423203904776644, -0.22793394530075411, -2.5016769495114217, -2.2259853202579123, -0.8094786622957785, 1.4068321360236742, -0.9643853041572582, 5.418310060572187, -3.365877893534027, -2.8525319139765477, 2.6724021967542453, 3.175225585008913, -3.025378302819461, -3.0376795278691313, 1.6913780444942301, 1.9352290771491192, -2.0909667732535913, -2.994659562761944, 0.9588597411045091, -2.6895702094765133, 2.4425905970663178, 4.353565484848857, -1.9455994875830074, -2.5578723786339657, -2.8020486769201254, -2.583002315007449, 2.0055813697881297, 2.3157132252010406, 1.8896708714452655, -3.4657291445748304, -2.9597204069913032, -2.7355183539507726, -2.2130397182421455, 0.500319288213155, -2.9281212625273976, 1.0925230641322399, -1.739539794716745, 1.7071362409743465, 1.8280454774012986, 2.4719260951850957, -3.2534603902339674, 3.325888516043792, 2.6716237625830597, 1.7466150338737596, 4.076274925885865, -2.569748657385286, -2.316581729887676, -3.0974289397249026, -2.0500394746566135, 5.935481355515879, -2.899886704058573, 5.2859648292665895, -2.5973966006561677, -3.148954782294645, 0.9227761965647516, 3.1645054021736048, -1.8408513572997143, -2.1922911747198817, -1.7805746053836478, 2.0410518715273067, -0.004351427383307451, 0.25029653687291853, 0.46744979307018636, 2.3319984410675363, -0.036505724624566464, -1.594326447972355, 2.800346238734479, -2.479030251719545, -2.90285646507534, 2.9354776215409575, 2.111564363299799, 2.0007978938521465, -1.932959422923947, -2.255351811775938, -3.354868444121941, 3.368808022174489, 1.2109406370262918, 2.123308262145004, 2.503049911988336, 0.815786718350964, 2.560548659164896, -0.9748801395074248, 3.909090297153757, -2.53613761610411, 1.076316599054821, 2.9482336738678687, 2.7934250001579515, 2.408318474638119, -3.5528373180489563, -1.9546296632786326, -2.064304263086209, 3.4252760679590897, -3.332895858537444, -2.502283038304375, -2.64595071920363, -2.831015114353887, 1.6164858237218938, 0.8908380172090252, -1.1877233134652967, 5.907726902607736, -2.1941764016376886, -1.8148486018200018, 2.350439062311103, 3.122916262212849, -2.3695900847897478, -1.3820776090916822, -2.4475706402667354, 2.284611128339494, -1.788702196971942, 3.499963703621873, -3.5423944075053835, -2.510265325020573, -3.894629081789854, 3.5515353343280402, -2.683519812009043, -2.617804983646716, -3.2658448352392893, 1.8407107331687496, 2.1047985611673345, -2.497025206820438, 2.754640070954812, -1.7798863396864042], \"y\": [3.2314580192412956, 1.648816821762802, 1.2996126087897757, -1.0018644246342676, -1.3990309925992177, 3.382912925619627, -2.2563506968604607, 0.7522234423323559, 0.48042645349314134, -0.39504474520194777, 2.633891892467216, -2.138271729719102, -1.3168840875606491, 3.253123501783278, 2.544268164268143, -2.0404996920427863, -1.4641967023818172, -1.3135968180653355, -1.6263101487972893, 1.6562664129264177, -2.1926399618286485, 0.8753059381310537, 0.3441185151802094, 0.8915808561178067, -0.39316393546550893, 0.4440922048697441, -0.7432276301370477, 0.38496634863846474, -1.1405035169821751, -2.2424187710142993, 1.1022000327943742, -1.818713861160765, 0.5584995002806529, 2.9092735339665228, -1.46342396098611, -1.9740143247701833, 0.5411693219664128, 4.714526600459455, 0.24823577469528957, -0.21057962992075205, 3.471764852492959, -2.0084406885458077, -1.4015863125629693, -0.4976752135013423, 2.5933842311509157, -2.260368341483325, 0.12864065570820027, 2.033719979370795, 2.5568662454107463, 3.9179034840288116, 1.0603165464744049, -0.1852289026147303, 0.26718114693272804, 0.22948321808075367, -0.013772283895831542, 2.9496950004960616, 0.4310497806895335, -0.8408703640611354, -1.5978934471418793, -0.5059600130856801, -0.07709394592073737, -1.7821106515890301, -2.1178270376650112, -1.1771213978200468, -1.4181823518832197, -2.17699500289435, -2.1192317865994355, 0.8099815851952925, 1.4240083636123968, -2.1022073858093724, -1.7649208193343497, 3.426324865554856, -0.8252303967822116, 1.0396795926176623, 2.59037799572119, -1.1537814807769031, 1.589387558684643, -3.35321050565345, -2.413193285578113, 0.12016839101459245, -0.2947222111752207, -2.55384572266115, 0.234818332088434, -1.9640623901615215, -1.8547119934336267, -0.26971096054379745, 1.2647630681487148, 2.558381130257406, -2.142804748429346, 0.851050673973292, -1.3599383332971062, -1.5876233822609174, 2.2202484757255823, -1.8048293247158296, -0.29477985156145275, 1.526310456568253, 1.1450204155728139, 2.886834902453822, -0.6609204929957647, 3.292624964029268, 0.11873984613443861, 2.0176731183889474, -0.9018475428728628, -0.2325259652593723, -2.1399910072783697, -0.13061386516537038, -1.0825767903063845, 2.434639671120235, -1.0321536172397485, 0.21399824010656063, -1.5632035399566482, -2.0220231530825177, 0.10097948993628716, -1.1743373014249, 1.1163268562570452, -1.3547560721591494, 1.615193590879365, 2.7096717664062533, -2.0531373328816795, -1.955785540389299, 0.396752996097395, -2.4408691675045504, -1.6356426022779085, -1.1937169107030066, -0.44528084145587304, 0.4045210485756583, -1.9542264459470726, -1.730738284832987, -1.8194964012171084, -1.8049301908706543, -2.104987822277874, -1.872720212288275, 0.050810309524325754, 2.3555293262257893, -1.4086777651539548, -1.6518600326770494, -2.5266636377586402, -1.3181703227832098, 2.439148081973956, 1.992494040080695, -1.0626808566740595, 0.6134343346154245, -0.5572321912767357, -2.1722868509182867, -1.6315101172685091, 1.6063436941307179, -0.17845772088090212, 2.5013197812927292, -0.09251144249943383, 5.341606192666683, -1.9339211102820597, 0.43675317055404655, 6.655886962982491, -1.0165095951496466, 0.09444482257581444, 0.7725450462067883, -1.9516065648751297, -1.413897843374522, -1.041181446490385, -2.674047307862934, 3.4899723650063676, 4.434891296538265, 2.919713264078742, -0.2586552662548292, 0.112323905645139, 0.3397125903496322, -1.5862675432569022, -1.4491640478737349, 0.33206172189548766, -3.0746634991057604, 1.719927637479591, -0.17164427113338895, -0.8466073056261201, -1.8808962023715297, -1.7140411190743763, -0.3876187884087727, -1.0270103156753922, -0.8095551038894705, -0.7595397729324774, 2.549331726060219, -1.4573051274201854, -0.5273139756676106, -0.6998971856075776, -2.2503635382730227, -2.1413397864322965, -1.154290711756284, -0.9870422000642477, -1.3428079710296408, -1.0922967644510353, 3.2485212112363695, 0.27754377988547746, 0.12611842786769506, -0.7383523065689324, -0.621457506287481, 5.247307038576425, -0.020447009366360742, 2.728603480912301, 0.6521933553436018, 0.07454357134029432, 1.8483362085131876, 2.7764857238964082, -0.6470253922929177, 0.248383570557423, 1.4769215773448512, 2.738276854928059, -0.7255703423857117, -0.02760726297905171, -2.106400358166245, -0.011714215170939117, 4.222656329840357, 4.9173624183486355, 0.9358182140778348, 2.207457164594481, -1.164956104337694, 3.7994210913975253, -0.9151212325184519, -0.8158162295790294, 1.686689128873518, -1.7153453595276777, -2.0811516990453547, -2.0577099728988664, -1.909483450060377, 0.6251864918732342, -1.8388735203825664, -2.1329763083978532, -2.3644455867367093, 4.390757636784138, 1.4563388720248072, -1.8137979392487507, -1.8812792776086205, 1.1566090079097315, -1.949747434547946, -3.50829123566348, -1.0115536854329736, 0.24852165960588735, 1.3565407217190717, 1.304565897735206, -2.003295550368678, -1.2170013233056949, 3.1089434955563435, 0.1000138927750867, 0.467957071323626, -1.9748878885493653, -1.4792954551841617, 2.896387053036805, 1.1648350547171886, -0.42035756579903727, -2.519602421576835, -0.8211411882198705, 2.4452733756345664, -1.8525055346300117, 1.994302492371819, -2.2472344891147755, 0.7907640218375201, 0.9307863305834766, 1.8456816638630045, 2.459402180536653, 1.7422522855807718, -0.3239164358884704, -0.5332690186069894, -1.6067448757185416, 0.559160805916886, -2.4510523024055733, 1.8400104238065509, 2.5811838641704554, 0.43785718796382184, -1.4035622657276], \"z\": [0.5314074245306303, 0.5329509766513448, 1.1430038478143207, -1.2850092802092679, -1.6814255833160505, -0.5099148444393193, -1.9624216679447284, -0.7864681307003039, -0.4394684577181392, -0.5641413913214038, 0.5049121420938752, -1.8482679488564782, 3.3122212487503955, -0.9921928083067878, 1.1499317356661636, -1.517333673096577, -0.1723285885573072, 0.8563807878936229, 3.1836707841322034, -0.7384564069273079, -1.9737071707424767, 1.0269526728721976, -0.4319868684972954, 0.21459256150628345, 2.3716794893642557, -0.9102884547599326, -0.6907337113844361, -0.37659973328172197, -1.2655267894542517, -0.10283593106590469, 2.1347262681786563, -0.5160430380802127, 0.7260603129876696, 3.4909797443881847, 0.39773114788192343, 2.243208219728233, -0.2540233994688492, -1.4143239917604797, -1.0441410138146388, -1.5392047015732817, -0.39825796010232106, -1.8964129748471277, -1.002159534782663, -0.8846393802764998, -0.8027867904361649, -1.9603048783809363, -0.70036516918403, -0.04668231390659003, -0.6480262425133326, -0.20787216912666026, -1.0786378662916796, 1.9382770826518225, 0.4287324490163269, -0.8956950148408535, -0.5508669007857276, -0.5811458230464518, 1.846995081769105, 1.3110788229518475, 7.438216377166718, -1.8131387721415069, -0.3828289751675464, 4.612553854509603, -1.7260657573381715, 0.5774454449859475, -0.674917290604876, -1.7039668538307686, 0.4493299937482769, -0.6536884612973167, -0.4097294066542995, 1.711285255370042, -0.9064743547350234, -1.4727856335031668, -0.651186404422038, -0.928538183627837, -0.49331795658857763, -1.9611156652305641, 1.196747116040526, -1.2133702112049003, -0.7202008108573532, 1.009438409037173, -1.0925523734833715, 1.3242454408143909, 8.07132987266979, -1.9399051061696602, 2.1786178774067513, -2.4666431505776067, -2.1652283936795502, -0.6361008442867458, -1.9270449660851061, -0.9495305843202035, 2.1565026785649137, 1.2667894926131582, -0.3628344612340226, -1.9782086903863065, -1.0925017902175587, -1.0581894961878802, 0.883932680107509, 1.1190887729393963, -0.3147989305421114, 1.082370536230389, -0.8920153652355275, 3.939307363441853, 0.20219186571736836, -0.3923275258428308, -2.011534508302063, 6.762964655338839, -0.07373378165232737, -0.7143522309124722, 0.14347736018825488, 3.7480033469505343, 0.8268747913387838, -1.922783087987425, -1.0831162392580498, 1.2534604134264211, -0.13355241183641253, 1.3632067943043022, -1.9510570732095316, 0.5061076718117349, 0.3933792411176355, -2.2726413406313912, -0.04280494438195211, -1.5543894086692005, -0.40394457927384075, 1.4753100246029143, -0.9393295347194908, 1.7392027573352846, 2.7201281571901155, 0.6525663418583817, 1.6537849441380206, -0.3211954301216607, -1.9111721549798228, 1.2541032379684844, -1.8079201548647994, 1.3255097550575028, 1.5636640979795486, -1.4180886311511358, 0.5784477474351676, 2.8219832065954837, -0.32723427376183867, 0.4336561404076585, 6.249096475344134, 0.3693604875310786, 5.1768938410176615, 0.09424944794323908, -2.196950344732987, 0.8276461606151532, -0.6026697680696553, -0.23536425244736003, 0.14256030231972888, -0.3423252586344052, -0.5592752587035998, -0.6990050715408217, 1.5124698358116246, -0.28574778254807115, -0.7387840663865558, -1.0375272926184438, 0.059676560176825356, 0.10153271620090691, -0.4039635335415232, -1.0773661081255312, 1.5520506032901202, -0.25878287308878606, -0.7171067085760968, -1.6763378241037938, -0.886463534332244, -0.5159902167529051, 0.6744609586689133, -0.5440164335093772, 0.42094416723640055, 6.394114157430919, -0.6016988735339776, 1.7269160538532469, 1.210555036754953, 2.2482681801944793, 0.32341033928780905, -0.6736106336121551, 0.5624763882613101, -1.4725590594525022, 0.277968873302293, -0.7076882528302901, -1.8010429320197745, -0.33345006797601495, 2.0024915333801623, -0.7087072178291037, -0.6596684760376431, -0.35779178904953185, -0.9193617852998174, -1.6440028510665476, 0.7974674613705413, 1.8132893147680595, -0.8105537675755, -1.2370881289988034, -1.3627929853101979, -0.3186038437229593, 0.5388081593239982, -0.4956128504040694, 1.9539326895112297, -1.0622736214137536, 0.839060822752036, -0.7815571635343006, -0.5501202227641679, 0.17335868589889877, -1.0442707144962118, -0.9783807197787541, -0.3149912479013079, -2.214871541904832, -2.382154697955716, -1.191851521227684, -1.1766274673008796, 0.9444968289733591, -0.35114749368532905, -1.6178282856722679, 0.3137656853366042, -0.17792539561365117, 0.7173344098746789, 0.6261699723118058, -1.2725047319902962, -0.1994588944681312, 1.8744443390793508, 3.314788099731294, -0.88484296677295, -1.4135155401165402, 1.2202330596418556, -1.9097345606338727, -1.6211479223022427, 3.010905162972719, -0.5859797461921411, -1.1157633909946514, 0.4049860757198079, -1.820789998928513, -0.8964942552755659, 0.7121762286331298, -1.6520410963673402, -0.4725195145236508, -1.2508429140058221, -0.3542643033205905, 0.2441983136385249, 0.2679270041962869, 0.4155637837765173, -1.2398297200554036, -0.7435927123844253, -2.1462947081891888, -2.2181750269865144, -0.6790766921073934, 0.6236420807403438, -1.3530028028685719, -0.0712457865361538, 3.977365289183518, -0.9460091519286729, -0.6784923290108875, 1.3921955094504002, -1.3834626283404143, 0.5651655550182665, -1.2891394328311123, 0.880063704916389, -0.24194169644488375, -0.27088059668071013, 1.860028498939782, -0.6929242709958033, -0.7577785016506878, -0.3677688309390626, -0.6432125569154903, -1.5454530317088147, 1.1921907316760063, -0.9547877291732492, -1.8079753187820062, 0.3641899977713846]}],                        {\"coloraxis\": {\"colorbar\": {\"title\": {\"text\": \"color\"}}, \"colorscale\": [[0.0, \"#0d0887\"], [0.1111111111111111, \"#46039f\"], [0.2222222222222222, \"#7201a8\"], [0.3333333333333333, \"#9c179e\"], [0.4444444444444444, \"#bd3786\"], [0.5555555555555556, \"#d8576b\"], [0.6666666666666666, \"#ed7953\"], [0.7777777777777778, \"#fb9f3a\"], [0.8888888888888888, \"#fdca26\"], [1.0, \"#f0f921\"]]}, \"legend\": {\"tracegroupgap\": 0}, \"margin\": {\"t\": 60}, \"scene\": {\"domain\": {\"x\": [0.0, 1.0], \"y\": [0.0, 1.0]}, \"xaxis\": {\"title\": {\"text\": \"z1\"}}, \"yaxis\": {\"title\": {\"text\": \"z2\"}}, \"zaxis\": {\"title\": {\"text\": \"z3\"}}}, \"template\": {\"data\": {\"bar\": [{\"error_x\": {\"color\": \"#2a3f5f\"}, \"error_y\": {\"color\": \"#2a3f5f\"}, \"marker\": {\"line\": {\"color\": \"#E5ECF6\", \"width\": 0.5}}, \"type\": \"bar\"}], \"barpolar\": [{\"marker\": {\"line\": {\"color\": \"#E5ECF6\", \"width\": 0.5}}, \"type\": \"barpolar\"}], \"carpet\": [{\"aaxis\": {\"endlinecolor\": \"#2a3f5f\", \"gridcolor\": \"white\", \"linecolor\": \"white\", \"minorgridcolor\": \"white\", \"startlinecolor\": \"#2a3f5f\"}, \"baxis\": {\"endlinecolor\": \"#2a3f5f\", \"gridcolor\": \"white\", \"linecolor\": \"white\", \"minorgridcolor\": \"white\", \"startlinecolor\": \"#2a3f5f\"}, \"type\": \"carpet\"}], \"choropleth\": [{\"colorbar\": {\"outlinewidth\": 0, \"ticks\": \"\"}, \"type\": \"choropleth\"}], \"contour\": [{\"colorbar\": {\"outlinewidth\": 0, \"ticks\": \"\"}, \"colorscale\": [[0.0, \"#0d0887\"], [0.1111111111111111, \"#46039f\"], [0.2222222222222222, \"#7201a8\"], [0.3333333333333333, \"#9c179e\"], [0.4444444444444444, \"#bd3786\"], [0.5555555555555556, \"#d8576b\"], [0.6666666666666666, \"#ed7953\"], [0.7777777777777778, \"#fb9f3a\"], [0.8888888888888888, \"#fdca26\"], [1.0, \"#f0f921\"]], \"type\": \"contour\"}], \"contourcarpet\": [{\"colorbar\": {\"outlinewidth\": 0, \"ticks\": \"\"}, \"type\": \"contourcarpet\"}], \"heatmap\": [{\"colorbar\": {\"outlinewidth\": 0, \"ticks\": \"\"}, \"colorscale\": [[0.0, \"#0d0887\"], [0.1111111111111111, \"#46039f\"], [0.2222222222222222, \"#7201a8\"], [0.3333333333333333, \"#9c179e\"], [0.4444444444444444, \"#bd3786\"], [0.5555555555555556, \"#d8576b\"], [0.6666666666666666, \"#ed7953\"], [0.7777777777777778, \"#fb9f3a\"], [0.8888888888888888, \"#fdca26\"], [1.0, \"#f0f921\"]], \"type\": \"heatmap\"}], \"heatmapgl\": [{\"colorbar\": {\"outlinewidth\": 0, \"ticks\": \"\"}, \"colorscale\": [[0.0, \"#0d0887\"], [0.1111111111111111, \"#46039f\"], [0.2222222222222222, \"#7201a8\"], [0.3333333333333333, \"#9c179e\"], [0.4444444444444444, \"#bd3786\"], [0.5555555555555556, \"#d8576b\"], [0.6666666666666666, \"#ed7953\"], [0.7777777777777778, \"#fb9f3a\"], [0.8888888888888888, \"#fdca26\"], [1.0, \"#f0f921\"]], \"type\": \"heatmapgl\"}], \"histogram\": [{\"marker\": {\"colorbar\": {\"outlinewidth\": 0, \"ticks\": \"\"}}, \"type\": \"histogram\"}], \"histogram2d\": [{\"colorbar\": {\"outlinewidth\": 0, \"ticks\": \"\"}, \"colorscale\": [[0.0, \"#0d0887\"], [0.1111111111111111, \"#46039f\"], [0.2222222222222222, \"#7201a8\"], [0.3333333333333333, \"#9c179e\"], [0.4444444444444444, \"#bd3786\"], [0.5555555555555556, \"#d8576b\"], [0.6666666666666666, \"#ed7953\"], [0.7777777777777778, \"#fb9f3a\"], [0.8888888888888888, \"#fdca26\"], [1.0, \"#f0f921\"]], \"type\": \"histogram2d\"}], \"histogram2dcontour\": [{\"colorbar\": {\"outlinewidth\": 0, \"ticks\": \"\"}, \"colorscale\": [[0.0, \"#0d0887\"], [0.1111111111111111, \"#46039f\"], [0.2222222222222222, \"#7201a8\"], [0.3333333333333333, \"#9c179e\"], [0.4444444444444444, \"#bd3786\"], [0.5555555555555556, \"#d8576b\"], [0.6666666666666666, \"#ed7953\"], [0.7777777777777778, \"#fb9f3a\"], [0.8888888888888888, \"#fdca26\"], [1.0, \"#f0f921\"]], \"type\": \"histogram2dcontour\"}], \"mesh3d\": [{\"colorbar\": {\"outlinewidth\": 0, \"ticks\": \"\"}, \"type\": \"mesh3d\"}], \"parcoords\": [{\"line\": {\"colorbar\": {\"outlinewidth\": 0, \"ticks\": \"\"}}, \"type\": \"parcoords\"}], \"pie\": [{\"automargin\": true, \"type\": \"pie\"}], \"scatter\": [{\"marker\": {\"colorbar\": {\"outlinewidth\": 0, \"ticks\": \"\"}}, \"type\": \"scatter\"}], \"scatter3d\": [{\"line\": {\"colorbar\": {\"outlinewidth\": 0, \"ticks\": \"\"}}, \"marker\": {\"colorbar\": {\"outlinewidth\": 0, \"ticks\": \"\"}}, \"type\": \"scatter3d\"}], \"scattercarpet\": [{\"marker\": {\"colorbar\": {\"outlinewidth\": 0, \"ticks\": \"\"}}, \"type\": \"scattercarpet\"}], \"scattergeo\": [{\"marker\": {\"colorbar\": {\"outlinewidth\": 0, \"ticks\": \"\"}}, \"type\": \"scattergeo\"}], \"scattergl\": [{\"marker\": {\"colorbar\": {\"outlinewidth\": 0, \"ticks\": \"\"}}, \"type\": \"scattergl\"}], \"scattermapbox\": [{\"marker\": {\"colorbar\": {\"outlinewidth\": 0, \"ticks\": \"\"}}, \"type\": \"scattermapbox\"}], \"scatterpolar\": [{\"marker\": {\"colorbar\": {\"outlinewidth\": 0, \"ticks\": \"\"}}, \"type\": \"scatterpolar\"}], \"scatterpolargl\": [{\"marker\": {\"colorbar\": {\"outlinewidth\": 0, \"ticks\": \"\"}}, \"type\": \"scatterpolargl\"}], \"scatterternary\": [{\"marker\": {\"colorbar\": {\"outlinewidth\": 0, \"ticks\": \"\"}}, \"type\": \"scatterternary\"}], \"surface\": [{\"colorbar\": {\"outlinewidth\": 0, \"ticks\": \"\"}, \"colorscale\": [[0.0, \"#0d0887\"], [0.1111111111111111, \"#46039f\"], [0.2222222222222222, \"#7201a8\"], [0.3333333333333333, \"#9c179e\"], [0.4444444444444444, \"#bd3786\"], [0.5555555555555556, \"#d8576b\"], [0.6666666666666666, \"#ed7953\"], [0.7777777777777778, \"#fb9f3a\"], [0.8888888888888888, \"#fdca26\"], [1.0, \"#f0f921\"]], \"type\": \"surface\"}], \"table\": [{\"cells\": {\"fill\": {\"color\": \"#EBF0F8\"}, \"line\": {\"color\": \"white\"}}, \"header\": {\"fill\": {\"color\": \"#C8D4E3\"}, \"line\": {\"color\": \"white\"}}, \"type\": \"table\"}]}, \"layout\": {\"annotationdefaults\": {\"arrowcolor\": \"#2a3f5f\", \"arrowhead\": 0, \"arrowwidth\": 1}, \"autotypenumbers\": \"strict\", \"coloraxis\": {\"colorbar\": {\"outlinewidth\": 0, \"ticks\": \"\"}}, \"colorscale\": {\"diverging\": [[0, \"#8e0152\"], [0.1, \"#c51b7d\"], [0.2, \"#de77ae\"], [0.3, \"#f1b6da\"], [0.4, \"#fde0ef\"], [0.5, \"#f7f7f7\"], [0.6, \"#e6f5d0\"], [0.7, \"#b8e186\"], [0.8, \"#7fbc41\"], [0.9, \"#4d9221\"], [1, \"#276419\"]], \"sequential\": [[0.0, \"#0d0887\"], [0.1111111111111111, \"#46039f\"], [0.2222222222222222, \"#7201a8\"], [0.3333333333333333, \"#9c179e\"], [0.4444444444444444, \"#bd3786\"], [0.5555555555555556, \"#d8576b\"], [0.6666666666666666, \"#ed7953\"], [0.7777777777777778, \"#fb9f3a\"], [0.8888888888888888, \"#fdca26\"], [1.0, \"#f0f921\"]], \"sequentialminus\": [[0.0, \"#0d0887\"], [0.1111111111111111, \"#46039f\"], [0.2222222222222222, \"#7201a8\"], [0.3333333333333333, \"#9c179e\"], [0.4444444444444444, \"#bd3786\"], [0.5555555555555556, \"#d8576b\"], [0.6666666666666666, \"#ed7953\"], [0.7777777777777778, \"#fb9f3a\"], [0.8888888888888888, \"#fdca26\"], [1.0, \"#f0f921\"]]}, \"colorway\": [\"#636efa\", \"#EF553B\", \"#00cc96\", \"#ab63fa\", \"#FFA15A\", \"#19d3f3\", \"#FF6692\", \"#B6E880\", \"#FF97FF\", \"#FECB52\"], \"font\": {\"color\": \"#2a3f5f\"}, \"geo\": {\"bgcolor\": \"white\", \"lakecolor\": \"white\", \"landcolor\": \"#E5ECF6\", \"showlakes\": true, \"showland\": true, \"subunitcolor\": \"white\"}, \"hoverlabel\": {\"align\": \"left\"}, \"hovermode\": \"closest\", \"mapbox\": {\"style\": \"light\"}, \"paper_bgcolor\": \"white\", \"plot_bgcolor\": \"#E5ECF6\", \"polar\": {\"angularaxis\": {\"gridcolor\": \"white\", \"linecolor\": \"white\", \"ticks\": \"\"}, \"bgcolor\": \"#E5ECF6\", \"radialaxis\": {\"gridcolor\": \"white\", \"linecolor\": \"white\", \"ticks\": \"\"}}, \"scene\": {\"xaxis\": {\"backgroundcolor\": \"#E5ECF6\", \"gridcolor\": \"white\", \"gridwidth\": 2, \"linecolor\": \"white\", \"showbackground\": true, \"ticks\": \"\", \"zerolinecolor\": \"white\"}, \"yaxis\": {\"backgroundcolor\": \"#E5ECF6\", \"gridcolor\": \"white\", \"gridwidth\": 2, \"linecolor\": \"white\", \"showbackground\": true, \"ticks\": \"\", \"zerolinecolor\": \"white\"}, \"zaxis\": {\"backgroundcolor\": \"#E5ECF6\", \"gridcolor\": \"white\", \"gridwidth\": 2, \"linecolor\": \"white\", \"showbackground\": true, \"ticks\": \"\", \"zerolinecolor\": \"white\"}}, \"shapedefaults\": {\"line\": {\"color\": \"#2a3f5f\"}}, \"ternary\": {\"aaxis\": {\"gridcolor\": \"white\", \"linecolor\": \"white\", \"ticks\": \"\"}, \"baxis\": {\"gridcolor\": \"white\", \"linecolor\": \"white\", \"ticks\": \"\"}, \"bgcolor\": \"#E5ECF6\", \"caxis\": {\"gridcolor\": \"white\", \"linecolor\": \"white\", \"ticks\": \"\"}}, \"title\": {\"x\": 0.05}, \"xaxis\": {\"automargin\": true, \"gridcolor\": \"white\", \"linecolor\": \"white\", \"ticks\": \"\", \"title\": {\"standoff\": 15}, \"zerolinecolor\": \"white\", \"zerolinewidth\": 2}, \"yaxis\": {\"automargin\": true, \"gridcolor\": \"white\", \"linecolor\": \"white\", \"ticks\": \"\", \"title\": {\"standoff\": 15}, \"zerolinecolor\": \"white\", \"zerolinewidth\": 2}}}},                        {\"responsive\": true}                    ).then(function(){\n",
       "                            \n",
       "var gd = document.getElementById('df5647a6-64a7-4a00-8a41-35ae0b7f3d81');\n",
       "var x = new MutationObserver(function (mutations, observer) {{\n",
       "        var display = window.getComputedStyle(gd).display;\n",
       "        if (!display || display === 'none') {{\n",
       "            console.log([gd, 'removed!']);\n",
       "            Plotly.purge(gd);\n",
       "            observer.disconnect();\n",
       "        }}\n",
       "}});\n",
       "\n",
       "// Listen for the removal of the full notebook cells\n",
       "var notebookContainer = gd.closest('#notebook-container');\n",
       "if (notebookContainer) {{\n",
       "    x.observe(notebookContainer, {childList: true});\n",
       "}}\n",
       "\n",
       "// Listen for the clearing of the current output cell\n",
       "var outputEl = gd.closest('.output');\n",
       "if (outputEl) {{\n",
       "    x.observe(outputEl, {childList: true});\n",
       "}}\n",
       "\n",
       "                        })                };                });            </script>        </div>"
      ]
     },
     "metadata": {},
     "output_type": "display_data"
    }
   ],
   "source": [
    "px.scatter_3d(X_pca, x='z1', y = 'z2', z='z3', color=y1)"
   ]
  },
  {
   "cell_type": "markdown",
   "metadata": {},
   "source": [
    "clearly no visible pattern.\n",
    "\n",
    "---\n",
    "\n",
    "## Regression\n",
    "\n",
    "After each fit, I'll show the residuals between the ground-truth y and the y predicted, just to see if there is any information to be gleaned. "
   ]
  },
  {
   "cell_type": "code",
   "execution_count": 15,
   "metadata": {},
   "outputs": [],
   "source": [
    "# data w/o outliers\n",
    "\n",
    "X_train, X_test, y_train, y_test = train_test_split(X1, y1, test_size= 0.2, random_state=8)"
   ]
  },
  {
   "cell_type": "code",
   "execution_count": 38,
   "metadata": {},
   "outputs": [],
   "source": [
    "fit_results = {}\n",
    "\n",
    "def fit_model(model, name):\n",
    "    model.fit(X_train, y_train)\n",
    "    score_train = model.score(X_train, y_train)\n",
    "    score_test = model.score(X_test, y_test)\n",
    "    rmse = mean_squared_error(y_test, model.predict(X_test), squared=False)\n",
    "    mae = mean_absolute_error(y_test, model.predict(X_test))\n",
    "    fit_results[name] = (score_train, score_test, rmse, mae)\n",
    "    return score_test"
   ]
  },
  {
   "cell_type": "code",
   "execution_count": 39,
   "metadata": {},
   "outputs": [
    {
     "data": {
      "image/png": "[encoded data removed]",
      "text/plain": [
       "<Figure size 432x288 with 1 Axes>"
      ]
     },
     "metadata": {
      "needs_background": "light"
     },
     "output_type": "display_data"
    }
   ],
   "source": [
    "model0 = DummyRegressor()\n",
    "fit_model(model0, 'dummy')\n",
    "plt.scatter(y_test, model0.predict(X_test));"
   ]
  },
  {
   "cell_type": "code",
   "execution_count": 40,
   "metadata": {},
   "outputs": [
    {
     "data": {
      "image/png": "[encoded data removed]",
      "text/plain": [
       "<Figure size 432x288 with 1 Axes>"
      ]
     },
     "metadata": {
      "needs_background": "light"
     },
     "output_type": "display_data"
    }
   ],
   "source": [
    "model1 = RandomForestRegressor(n_jobs=-1, random_state=8)\n",
    "fit_model(model1, 'RFR')\n",
    "plt.scatter(y_test, model1.predict(X_test));"
   ]
  },
  {
   "cell_type": "code",
   "execution_count": 41,
   "metadata": {},
   "outputs": [
    {
     "data": {
      "text/plain": [
       "array([1.02459199e-02, 4.30696139e-03, 4.14090300e-02, 5.75614300e-02,\n",
       "       2.39772288e-02, 2.17783979e-01, 5.65786971e-03, 1.09164389e-03,\n",
       "       1.88582228e-04, 1.04702554e-02, 5.37874662e-03, 6.24755501e-03,\n",
       "       1.53860525e-02, 1.03097593e-02, 4.45659488e-03, 5.72659525e-04,\n",
       "       8.61560081e-03, 5.03281409e-03, 7.55466580e-03, 2.07173074e-02,\n",
       "       1.25303982e-02, 1.09759110e-02, 1.61912546e-01, 2.30147815e-02,\n",
       "       5.64631459e-03, 1.79663809e-03, 3.89648265e-04, 1.60112125e-01,\n",
       "       6.61438554e-03, 5.26835008e-03, 1.51455027e-02, 9.44857176e-03,\n",
       "       1.78943722e-02, 8.41618365e-03, 6.22577759e-03, 8.88845283e-03,\n",
       "       1.44253585e-02, 2.54642168e-03, 5.63188661e-03, 1.51732940e-02,\n",
       "       7.69529001e-03, 2.22382068e-02, 2.10449269e-02])"
      ]
     },
     "execution_count": 41,
     "metadata": {},
     "output_type": "execute_result"
    }
   ],
   "source": [
    "rf_coefs = np.mean([\n",
    "    tree.feature_importances_ for tree in model1.estimators_\n",
    "], axis=0)\n",
    "rf_coefs"
   ]
  },
  {
   "cell_type": "code",
   "execution_count": 42,
   "metadata": {},
   "outputs": [
    {
     "data": {
      "image/png": "[encoded data removed]",
      "text/plain": [
       "<Figure size 432x288 with 1 Axes>"
      ]
     },
     "metadata": {
      "needs_background": "light"
     },
     "output_type": "display_data"
    }
   ],
   "source": [
    "model2 = BaggingRegressor(n_jobs=-1, random_state=8)\n",
    "fit_model(model2, 'bagging')\n",
    "plt.scatter(y_test, model2.predict(X_test));"
   ]
  },
  {
   "cell_type": "code",
   "execution_count": 43,
   "metadata": {},
   "outputs": [
    {
     "data": {
      "text/plain": [
       "0     0.009805\n",
       "1     0.001894\n",
       "2     0.039647\n",
       "3     0.075626\n",
       "4     0.029937\n",
       "5     0.218387\n",
       "6     0.001582\n",
       "7     0.002870\n",
       "8     0.000090\n",
       "9     0.010576\n",
       "10    0.007001\n",
       "11    0.007004\n",
       "12    0.022411\n",
       "13    0.003542\n",
       "14    0.000022\n",
       "15    0.000043\n",
       "16    0.009378\n",
       "17    0.003616\n",
       "18    0.007408\n",
       "19    0.027106\n",
       "20    0.011283\n",
       "21    0.005406\n",
       "22    0.146852\n",
       "23    0.029420\n",
       "24    0.005408\n",
       "25    0.004768\n",
       "26    0.000533\n",
       "27    0.163144\n",
       "28    0.013872\n",
       "29    0.007179\n",
       "30    0.015681\n",
       "31    0.004786\n",
       "32    0.012087\n",
       "33    0.008812\n",
       "34    0.005160\n",
       "35    0.010613\n",
       "36    0.009774\n",
       "37    0.000969\n",
       "38    0.005953\n",
       "39    0.017672\n",
       "40    0.007972\n",
       "41    0.016494\n",
       "42    0.018217\n",
       "dtype: float64"
      ]
     },
     "execution_count": 43,
     "metadata": {},
     "output_type": "execute_result"
    }
   ],
   "source": [
    "bagging_trees_coefs = {}\n",
    "for tree in range(len(model2.estimators_)):\n",
    "    bagging_trees_coefs[tree] = dict(zip(model2.estimators_features_[tree], model2.estimators_[tree].feature_importances_))\n",
    "\n",
    "bagging_trees_coefs = pd.DataFrame(bagging_trees_coefs).sort_index()\n",
    "bagging_coefs = bagging_trees_coefs.mean(axis=1)\n",
    "bagging_coefs"
   ]
  },
  {
   "cell_type": "code",
   "execution_count": 47,
   "metadata": {},
   "outputs": [
    {
     "data": {
      "image/png": "[encoded data removed]",
      "text/plain": [
       "<Figure size 432x288 with 1 Axes>"
      ]
     },
     "metadata": {
      "needs_background": "light"
     },
     "output_type": "display_data"
    }
   ],
   "source": [
    "model3 = GradientBoostingRegressor(min_samples_leaf=5, random_state=8)\n",
    "fit_model(model3, 'GradBoost')\n",
    "plt.scatter(y_test, model3.predict(X_test));"
   ]
  },
  {
   "cell_type": "code",
   "execution_count": 48,
   "metadata": {},
   "outputs": [],
   "source": [
    "gradboost_coefs = np.mean([\n",
    "    tree.feature_importances_ for tree in model1.estimators_\n",
    "], axis=0)"
   ]
  },
  {
   "cell_type": "code",
   "execution_count": 49,
   "metadata": {},
   "outputs": [
    {
     "data": {
      "text/html": [
       "<div>\n",
       "<style scoped>\n",
       "    .dataframe tbody tr th:only-of-type {\n",
       "        vertical-align: middle;\n",
       "    }\n",
       "\n",
       "    .dataframe tbody tr th {\n",
       "        vertical-align: top;\n",
       "    }\n",
       "\n",
       "    .dataframe thead th {\n",
       "        text-align: right;\n",
       "    }\n",
       "</style>\n",
       "<table border=\"1\" class=\"dataframe\">\n",
       "  <thead>\n",
       "    <tr style=\"text-align: right;\">\n",
       "      <th></th>\n",
       "      <th>dummy</th>\n",
       "      <th>RFR</th>\n",
       "      <th>bagging</th>\n",
       "      <th>GradBoost</th>\n",
       "    </tr>\n",
       "  </thead>\n",
       "  <tbody>\n",
       "    <tr>\n",
       "      <th>score_train</th>\n",
       "      <td>0.000000</td>\n",
       "      <td>0.877199</td>\n",
       "      <td>0.818654</td>\n",
       "      <td>0.762934</td>\n",
       "    </tr>\n",
       "    <tr>\n",
       "      <th>score_test</th>\n",
       "      <td>-0.053387</td>\n",
       "      <td>0.112167</td>\n",
       "      <td>0.103615</td>\n",
       "      <td>0.264901</td>\n",
       "    </tr>\n",
       "    <tr>\n",
       "      <th>rmse</th>\n",
       "      <td>0.069744</td>\n",
       "      <td>0.064029</td>\n",
       "      <td>0.064337</td>\n",
       "      <td>0.058262</td>\n",
       "    </tr>\n",
       "    <tr>\n",
       "      <th>mae</th>\n",
       "      <td>0.056825</td>\n",
       "      <td>0.048348</td>\n",
       "      <td>0.048128</td>\n",
       "      <td>0.045675</td>\n",
       "    </tr>\n",
       "  </tbody>\n",
       "</table>\n",
       "</div>"
      ],
      "text/plain": [
       "                dummy       RFR   bagging  GradBoost\n",
       "score_train  0.000000  0.877199  0.818654   0.762934\n",
       "score_test  -0.053387  0.112167  0.103615   0.264901\n",
       "rmse         0.069744  0.064029  0.064337   0.058262\n",
       "mae          0.056825  0.048348  0.048128   0.045675"
      ]
     },
     "execution_count": 49,
     "metadata": {},
     "output_type": "execute_result"
    }
   ],
   "source": [
    "pd.DataFrame(fit_results,index=['score_train', 'score_test', 'rmse', 'mae'])"
   ]
  },
  {
   "cell_type": "markdown",
   "metadata": {},
   "source": [
    "Looks like in each model we have a very decent train fit but the test fit is not great."
   ]
  },
  {
   "cell_type": "markdown",
   "metadata": {},
   "source": [
    "## Random Forest\n",
    "\n",
    "[Hyperparameters](https://scikit-learn.org/stable/modules/generated/sklearn.ensemble.BaggingRegressor.html#sklearn.ensemble.BaggingRegressor) of interest:\n",
    "\n",
    "* **n_estimators**-- how many trees in forest. Seems simple enough to test a few.\n",
    "* **max_samples** -- By default, it's all of the X's in the training set. However, I'm curious to see how decreasing this quantity may impact the residuals of y_preds vs y_test.\n",
    "* **criterion** {“mse”, “mae”}, default=”mse” -- according to the docs, \"The function to measure the quality of a split. Supported criteria are “mse” for the mean squared error, which is equal to variance reduction as feature selection criterion, and “mae” for the mean absolute error.\" I think this may be suggesting that if I have issues with model-variance (overfitting), I may want to change the criterion to MAE.\n",
    "* **max_features** -- this could be an interesting pseudo RFE\n",
    "* **min_impurity_decrease** -- this may be better than looking at max leave nodes if I care more about how much the model is improve, rather than complexity (which may be driving up model complexity). Otherwise, I may want to look at **max_depth**\n",
    "* **ccp_alpha** -- This parameter is used to effectively prune out any highly complex models. I don't really know how to use this but I may study this more if model-variance still seems to be an issue."
   ]
  },
  {
   "cell_type": "code",
   "execution_count": 50,
   "metadata": {},
   "outputs": [],
   "source": [
    "params_rf = {\n",
    "    'n_estimators': [10,100,1000],\n",
    "    'max_samples': [None, 0.66, 0.33],\n",
    "    'min_impurity_decrease': [0.0, 0.05, 0.1]\n",
    "}"
   ]
  },
  {
   "cell_type": "code",
   "execution_count": 51,
   "metadata": {},
   "outputs": [],
   "source": [
    "kf = KFold(n_splits=5, shuffle = True, random_state= 8)"
   ]
  },
  {
   "cell_type": "code",
   "execution_count": 79,
   "metadata": {},
   "outputs": [],
   "source": [
    "model1a = RandomForestRegressor(criterion='mse', random_state=8)"
   ]
  },
  {
   "cell_type": "code",
   "execution_count": 80,
   "metadata": {},
   "outputs": [
    {
     "data": {
      "image/png": "[encoded data removed]",
      "text/plain": [
       "<Figure size 432x288 with 1 Axes>"
      ]
     },
     "metadata": {
      "needs_background": "light"
     },
     "output_type": "display_data"
    }
   ],
   "source": [
    "gs1a = GridSearchCV(estimator=model1a, param_grid=params_rf, cv=kf, n_jobs=-1)\n",
    "fit_model(gs1a, 'GS_RF_MSE')\n",
    "plt.scatter(y_test, gs1a.predict(X_test));"
   ]
  },
  {
   "cell_type": "code",
   "execution_count": 81,
   "metadata": {},
   "outputs": [
    {
     "data": {
      "text/html": [
       "<div>\n",
       "<style scoped>\n",
       "    .dataframe tbody tr th:only-of-type {\n",
       "        vertical-align: middle;\n",
       "    }\n",
       "\n",
       "    .dataframe tbody tr th {\n",
       "        vertical-align: top;\n",
       "    }\n",
       "\n",
       "    .dataframe thead th {\n",
       "        text-align: right;\n",
       "    }\n",
       "</style>\n",
       "<table border=\"1\" class=\"dataframe\">\n",
       "  <thead>\n",
       "    <tr style=\"text-align: right;\">\n",
       "      <th></th>\n",
       "      <th>param_max_samples</th>\n",
       "      <th>param_min_impurity_decrease</th>\n",
       "      <th>param_n_estimators</th>\n",
       "      <th>params</th>\n",
       "      <th>split0_test_score</th>\n",
       "      <th>split1_test_score</th>\n",
       "      <th>split2_test_score</th>\n",
       "      <th>split3_test_score</th>\n",
       "      <th>split4_test_score</th>\n",
       "      <th>mean_test_score</th>\n",
       "      <th>std_test_score</th>\n",
       "      <th>rank_test_score</th>\n",
       "    </tr>\n",
       "  </thead>\n",
       "  <tbody>\n",
       "    <tr>\n",
       "      <th>20</th>\n",
       "      <td>0.33</td>\n",
       "      <td>0</td>\n",
       "      <td>1000</td>\n",
       "      <td>{'max_samples': 0.33, 'min_impurity_decrease':...</td>\n",
       "      <td>0.212362</td>\n",
       "      <td>0.138097</td>\n",
       "      <td>0.136102</td>\n",
       "      <td>0.267847</td>\n",
       "      <td>-0.007611</td>\n",
       "      <td>0.149359</td>\n",
       "      <td>0.092683</td>\n",
       "      <td>1</td>\n",
       "    </tr>\n",
       "    <tr>\n",
       "      <th>19</th>\n",
       "      <td>0.33</td>\n",
       "      <td>0</td>\n",
       "      <td>100</td>\n",
       "      <td>{'max_samples': 0.33, 'min_impurity_decrease':...</td>\n",
       "      <td>0.182018</td>\n",
       "      <td>0.116053</td>\n",
       "      <td>0.147932</td>\n",
       "      <td>0.295356</td>\n",
       "      <td>-0.000747</td>\n",
       "      <td>0.148122</td>\n",
       "      <td>0.095935</td>\n",
       "      <td>2</td>\n",
       "    </tr>\n",
       "    <tr>\n",
       "      <th>11</th>\n",
       "      <td>0.66</td>\n",
       "      <td>0</td>\n",
       "      <td>1000</td>\n",
       "      <td>{'max_samples': 0.66, 'min_impurity_decrease':...</td>\n",
       "      <td>0.099296</td>\n",
       "      <td>0.158949</td>\n",
       "      <td>0.137450</td>\n",
       "      <td>0.264871</td>\n",
       "      <td>-0.080619</td>\n",
       "      <td>0.115989</td>\n",
       "      <td>0.112610</td>\n",
       "      <td>3</td>\n",
       "    </tr>\n",
       "    <tr>\n",
       "      <th>10</th>\n",
       "      <td>0.66</td>\n",
       "      <td>0</td>\n",
       "      <td>100</td>\n",
       "      <td>{'max_samples': 0.66, 'min_impurity_decrease':...</td>\n",
       "      <td>0.090492</td>\n",
       "      <td>0.110327</td>\n",
       "      <td>0.127613</td>\n",
       "      <td>0.258644</td>\n",
       "      <td>-0.041308</td>\n",
       "      <td>0.109154</td>\n",
       "      <td>0.095579</td>\n",
       "      <td>4</td>\n",
       "    </tr>\n",
       "    <tr>\n",
       "      <th>2</th>\n",
       "      <td>None</td>\n",
       "      <td>0</td>\n",
       "      <td>1000</td>\n",
       "      <td>{'max_samples': None, 'min_impurity_decrease':...</td>\n",
       "      <td>0.036060</td>\n",
       "      <td>0.161972</td>\n",
       "      <td>0.120936</td>\n",
       "      <td>0.242111</td>\n",
       "      <td>-0.151386</td>\n",
       "      <td>0.081939</td>\n",
       "      <td>0.134258</td>\n",
       "      <td>5</td>\n",
       "    </tr>\n",
       "  </tbody>\n",
       "</table>\n",
       "</div>"
      ],
      "text/plain": [
       "   param_max_samples param_min_impurity_decrease param_n_estimators  \\\n",
       "20              0.33                           0               1000   \n",
       "19              0.33                           0                100   \n",
       "11              0.66                           0               1000   \n",
       "10              0.66                           0                100   \n",
       "2               None                           0               1000   \n",
       "\n",
       "                                               params  split0_test_score  \\\n",
       "20  {'max_samples': 0.33, 'min_impurity_decrease':...           0.212362   \n",
       "19  {'max_samples': 0.33, 'min_impurity_decrease':...           0.182018   \n",
       "11  {'max_samples': 0.66, 'min_impurity_decrease':...           0.099296   \n",
       "10  {'max_samples': 0.66, 'min_impurity_decrease':...           0.090492   \n",
       "2   {'max_samples': None, 'min_impurity_decrease':...           0.036060   \n",
       "\n",
       "    split1_test_score  split2_test_score  split3_test_score  \\\n",
       "20           0.138097           0.136102           0.267847   \n",
       "19           0.116053           0.147932           0.295356   \n",
       "11           0.158949           0.137450           0.264871   \n",
       "10           0.110327           0.127613           0.258644   \n",
       "2            0.161972           0.120936           0.242111   \n",
       "\n",
       "    split4_test_score  mean_test_score  std_test_score  rank_test_score  \n",
       "20          -0.007611         0.149359        0.092683                1  \n",
       "19          -0.000747         0.148122        0.095935                2  \n",
       "11          -0.080619         0.115989        0.112610                3  \n",
       "10          -0.041308         0.109154        0.095579                4  \n",
       "2           -0.151386         0.081939        0.134258                5  "
      ]
     },
     "execution_count": 81,
     "metadata": {},
     "output_type": "execute_result"
    }
   ],
   "source": [
    "pd.DataFrame(gs1a.cv_results_).sort_values('mean_test_score', ascending=False).iloc[:5,4:]"
   ]
  },
  {
   "cell_type": "code",
   "execution_count": 82,
   "metadata": {},
   "outputs": [
    {
     "data": {
      "text/html": [
       "<div>\n",
       "<style scoped>\n",
       "    .dataframe tbody tr th:only-of-type {\n",
       "        vertical-align: middle;\n",
       "    }\n",
       "\n",
       "    .dataframe tbody tr th {\n",
       "        vertical-align: top;\n",
       "    }\n",
       "\n",
       "    .dataframe thead th {\n",
       "        text-align: right;\n",
       "    }\n",
       "</style>\n",
       "<table border=\"1\" class=\"dataframe\">\n",
       "  <thead>\n",
       "    <tr style=\"text-align: right;\">\n",
       "      <th></th>\n",
       "      <th>dummy</th>\n",
       "      <th>RFR</th>\n",
       "      <th>bagging</th>\n",
       "      <th>GradBoost</th>\n",
       "      <th>GS_RF_MSE</th>\n",
       "      <th>GS_RF_MAE</th>\n",
       "      <th>GS_RF_MAE2</th>\n",
       "      <th>rfr_op</th>\n",
       "    </tr>\n",
       "  </thead>\n",
       "  <tbody>\n",
       "    <tr>\n",
       "      <th>score_train</th>\n",
       "      <td>0.000000</td>\n",
       "      <td>0.877199</td>\n",
       "      <td>0.818654</td>\n",
       "      <td>0.762934</td>\n",
       "      <td>0.574628</td>\n",
       "      <td>0.575958</td>\n",
       "      <td>0.565554</td>\n",
       "      <td>0.574628</td>\n",
       "    </tr>\n",
       "    <tr>\n",
       "      <th>score_test</th>\n",
       "      <td>-0.053387</td>\n",
       "      <td>0.112167</td>\n",
       "      <td>0.103615</td>\n",
       "      <td>0.264901</td>\n",
       "      <td>0.259833</td>\n",
       "      <td>0.241781</td>\n",
       "      <td>0.256861</td>\n",
       "      <td>0.259833</td>\n",
       "    </tr>\n",
       "    <tr>\n",
       "      <th>rmse</th>\n",
       "      <td>0.069744</td>\n",
       "      <td>0.064029</td>\n",
       "      <td>0.064337</td>\n",
       "      <td>0.058262</td>\n",
       "      <td>0.058462</td>\n",
       "      <td>0.059171</td>\n",
       "      <td>0.058579</td>\n",
       "      <td>0.058462</td>\n",
       "    </tr>\n",
       "    <tr>\n",
       "      <th>mae</th>\n",
       "      <td>0.056825</td>\n",
       "      <td>0.048348</td>\n",
       "      <td>0.048128</td>\n",
       "      <td>0.045675</td>\n",
       "      <td>0.044952</td>\n",
       "      <td>0.045210</td>\n",
       "      <td>0.045153</td>\n",
       "      <td>0.044952</td>\n",
       "    </tr>\n",
       "  </tbody>\n",
       "</table>\n",
       "</div>"
      ],
      "text/plain": [
       "                dummy       RFR   bagging  GradBoost  GS_RF_MSE  GS_RF_MAE  \\\n",
       "score_train  0.000000  0.877199  0.818654   0.762934   0.574628   0.575958   \n",
       "score_test  -0.053387  0.112167  0.103615   0.264901   0.259833   0.241781   \n",
       "rmse         0.069744  0.064029  0.064337   0.058262   0.058462   0.059171   \n",
       "mae          0.056825  0.048348  0.048128   0.045675   0.044952   0.045210   \n",
       "\n",
       "             GS_RF_MAE2    rfr_op  \n",
       "score_train    0.565554  0.574628  \n",
       "score_test     0.256861  0.259833  \n",
       "rmse           0.058579  0.058462  \n",
       "mae            0.045153  0.044952  "
      ]
     },
     "execution_count": 82,
     "metadata": {},
     "output_type": "execute_result"
    }
   ],
   "source": [
    "pd.DataFrame(fit_results,index=['score_train', 'score_test', 'rmse', 'mae'])"
   ]
  },
  {
   "cell_type": "code",
   "execution_count": 75,
   "metadata": {},
   "outputs": [],
   "source": [
    "model1b = RandomForestRegressor(criterion='mae', random_state=8)"
   ]
  },
  {
   "cell_type": "code",
   "execution_count": 76,
   "metadata": {},
   "outputs": [
    {
     "data": {
      "image/png": "[encoded data removed]",
      "text/plain": [
       "<Figure size 432x288 with 1 Axes>"
      ]
     },
     "metadata": {
      "needs_background": "light"
     },
     "output_type": "display_data"
    }
   ],
   "source": [
    "gs1b = GridSearchCV(estimator=model1b, param_grid=params_rf, cv=kf, n_jobs=-1)\n",
    "fit_model(gs1b, 'GS_RF_MAE')\n",
    "plt.scatter(y_test, gs1b.predict(X_test));"
   ]
  },
  {
   "cell_type": "code",
   "execution_count": 77,
   "metadata": {},
   "outputs": [
    {
     "data": {
      "text/html": [
       "<div>\n",
       "<style scoped>\n",
       "    .dataframe tbody tr th:only-of-type {\n",
       "        vertical-align: middle;\n",
       "    }\n",
       "\n",
       "    .dataframe tbody tr th {\n",
       "        vertical-align: top;\n",
       "    }\n",
       "\n",
       "    .dataframe thead th {\n",
       "        text-align: right;\n",
       "    }\n",
       "</style>\n",
       "<table border=\"1\" class=\"dataframe\">\n",
       "  <thead>\n",
       "    <tr style=\"text-align: right;\">\n",
       "      <th></th>\n",
       "      <th>param_max_samples</th>\n",
       "      <th>param_min_impurity_decrease</th>\n",
       "      <th>param_n_estimators</th>\n",
       "      <th>params</th>\n",
       "      <th>split0_test_score</th>\n",
       "      <th>split1_test_score</th>\n",
       "      <th>split2_test_score</th>\n",
       "      <th>split3_test_score</th>\n",
       "      <th>split4_test_score</th>\n",
       "      <th>mean_test_score</th>\n",
       "      <th>std_test_score</th>\n",
       "      <th>rank_test_score</th>\n",
       "    </tr>\n",
       "  </thead>\n",
       "  <tbody>\n",
       "    <tr>\n",
       "      <th>19</th>\n",
       "      <td>0.33</td>\n",
       "      <td>0</td>\n",
       "      <td>100</td>\n",
       "      <td>{'max_samples': 0.33, 'min_impurity_decrease':...</td>\n",
       "      <td>0.201949</td>\n",
       "      <td>0.130122</td>\n",
       "      <td>0.119941</td>\n",
       "      <td>0.282433</td>\n",
       "      <td>0.035509</td>\n",
       "      <td>0.153991</td>\n",
       "      <td>0.083144</td>\n",
       "      <td>1</td>\n",
       "    </tr>\n",
       "    <tr>\n",
       "      <th>20</th>\n",
       "      <td>0.33</td>\n",
       "      <td>0</td>\n",
       "      <td>1000</td>\n",
       "      <td>{'max_samples': 0.33, 'min_impurity_decrease':...</td>\n",
       "      <td>0.195951</td>\n",
       "      <td>0.134080</td>\n",
       "      <td>0.138191</td>\n",
       "      <td>0.273402</td>\n",
       "      <td>0.019690</td>\n",
       "      <td>0.152263</td>\n",
       "      <td>0.083292</td>\n",
       "      <td>2</td>\n",
       "    </tr>\n",
       "    <tr>\n",
       "      <th>11</th>\n",
       "      <td>0.66</td>\n",
       "      <td>0</td>\n",
       "      <td>1000</td>\n",
       "      <td>{'max_samples': 0.66, 'min_impurity_decrease':...</td>\n",
       "      <td>0.113241</td>\n",
       "      <td>0.159844</td>\n",
       "      <td>0.141043</td>\n",
       "      <td>0.275288</td>\n",
       "      <td>-0.063674</td>\n",
       "      <td>0.125148</td>\n",
       "      <td>0.109356</td>\n",
       "      <td>3</td>\n",
       "    </tr>\n",
       "    <tr>\n",
       "      <th>10</th>\n",
       "      <td>0.66</td>\n",
       "      <td>0</td>\n",
       "      <td>100</td>\n",
       "      <td>{'max_samples': 0.66, 'min_impurity_decrease':...</td>\n",
       "      <td>0.108142</td>\n",
       "      <td>0.114716</td>\n",
       "      <td>0.166550</td>\n",
       "      <td>0.260632</td>\n",
       "      <td>-0.045479</td>\n",
       "      <td>0.120912</td>\n",
       "      <td>0.099491</td>\n",
       "      <td>4</td>\n",
       "    </tr>\n",
       "    <tr>\n",
       "      <th>2</th>\n",
       "      <td>None</td>\n",
       "      <td>0</td>\n",
       "      <td>1000</td>\n",
       "      <td>{'max_samples': None, 'min_impurity_decrease':...</td>\n",
       "      <td>0.070953</td>\n",
       "      <td>0.173463</td>\n",
       "      <td>0.141232</td>\n",
       "      <td>0.275110</td>\n",
       "      <td>-0.122791</td>\n",
       "      <td>0.107593</td>\n",
       "      <td>0.132629</td>\n",
       "      <td>5</td>\n",
       "    </tr>\n",
       "  </tbody>\n",
       "</table>\n",
       "</div>"
      ],
      "text/plain": [
       "   param_max_samples param_min_impurity_decrease param_n_estimators  \\\n",
       "19              0.33                           0                100   \n",
       "20              0.33                           0               1000   \n",
       "11              0.66                           0               1000   \n",
       "10              0.66                           0                100   \n",
       "2               None                           0               1000   \n",
       "\n",
       "                                               params  split0_test_score  \\\n",
       "19  {'max_samples': 0.33, 'min_impurity_decrease':...           0.201949   \n",
       "20  {'max_samples': 0.33, 'min_impurity_decrease':...           0.195951   \n",
       "11  {'max_samples': 0.66, 'min_impurity_decrease':...           0.113241   \n",
       "10  {'max_samples': 0.66, 'min_impurity_decrease':...           0.108142   \n",
       "2   {'max_samples': None, 'min_impurity_decrease':...           0.070953   \n",
       "\n",
       "    split1_test_score  split2_test_score  split3_test_score  \\\n",
       "19           0.130122           0.119941           0.282433   \n",
       "20           0.134080           0.138191           0.273402   \n",
       "11           0.159844           0.141043           0.275288   \n",
       "10           0.114716           0.166550           0.260632   \n",
       "2            0.173463           0.141232           0.275110   \n",
       "\n",
       "    split4_test_score  mean_test_score  std_test_score  rank_test_score  \n",
       "19           0.035509         0.153991        0.083144                1  \n",
       "20           0.019690         0.152263        0.083292                2  \n",
       "11          -0.063674         0.125148        0.109356                3  \n",
       "10          -0.045479         0.120912        0.099491                4  \n",
       "2           -0.122791         0.107593        0.132629                5  "
      ]
     },
     "execution_count": 77,
     "metadata": {},
     "output_type": "execute_result"
    }
   ],
   "source": [
    "pd.DataFrame(gs1b.cv_results_).sort_values('mean_test_score', ascending=False).iloc[:5,4:]"
   ]
  },
  {
   "cell_type": "code",
   "execution_count": 83,
   "metadata": {},
   "outputs": [
    {
     "data": {
      "text/html": [
       "<div>\n",
       "<style scoped>\n",
       "    .dataframe tbody tr th:only-of-type {\n",
       "        vertical-align: middle;\n",
       "    }\n",
       "\n",
       "    .dataframe tbody tr th {\n",
       "        vertical-align: top;\n",
       "    }\n",
       "\n",
       "    .dataframe thead th {\n",
       "        text-align: right;\n",
       "    }\n",
       "</style>\n",
       "<table border=\"1\" class=\"dataframe\">\n",
       "  <thead>\n",
       "    <tr style=\"text-align: right;\">\n",
       "      <th></th>\n",
       "      <th>dummy</th>\n",
       "      <th>RFR</th>\n",
       "      <th>bagging</th>\n",
       "      <th>GradBoost</th>\n",
       "      <th>GS_RF_MSE</th>\n",
       "      <th>GS_RF_MAE</th>\n",
       "      <th>GS_RF_MAE2</th>\n",
       "      <th>rfr_op</th>\n",
       "    </tr>\n",
       "  </thead>\n",
       "  <tbody>\n",
       "    <tr>\n",
       "      <th>score_train</th>\n",
       "      <td>0.000000</td>\n",
       "      <td>0.877199</td>\n",
       "      <td>0.818654</td>\n",
       "      <td>0.762934</td>\n",
       "      <td>0.574628</td>\n",
       "      <td>0.575958</td>\n",
       "      <td>0.565554</td>\n",
       "      <td>0.574628</td>\n",
       "    </tr>\n",
       "    <tr>\n",
       "      <th>score_test</th>\n",
       "      <td>-0.053387</td>\n",
       "      <td>0.112167</td>\n",
       "      <td>0.103615</td>\n",
       "      <td>0.264901</td>\n",
       "      <td>0.259833</td>\n",
       "      <td>0.241781</td>\n",
       "      <td>0.256861</td>\n",
       "      <td>0.259833</td>\n",
       "    </tr>\n",
       "    <tr>\n",
       "      <th>rmse</th>\n",
       "      <td>0.069744</td>\n",
       "      <td>0.064029</td>\n",
       "      <td>0.064337</td>\n",
       "      <td>0.058262</td>\n",
       "      <td>0.058462</td>\n",
       "      <td>0.059171</td>\n",
       "      <td>0.058579</td>\n",
       "      <td>0.058462</td>\n",
       "    </tr>\n",
       "    <tr>\n",
       "      <th>mae</th>\n",
       "      <td>0.056825</td>\n",
       "      <td>0.048348</td>\n",
       "      <td>0.048128</td>\n",
       "      <td>0.045675</td>\n",
       "      <td>0.044952</td>\n",
       "      <td>0.045210</td>\n",
       "      <td>0.045153</td>\n",
       "      <td>0.044952</td>\n",
       "    </tr>\n",
       "  </tbody>\n",
       "</table>\n",
       "</div>"
      ],
      "text/plain": [
       "                dummy       RFR   bagging  GradBoost  GS_RF_MSE  GS_RF_MAE  \\\n",
       "score_train  0.000000  0.877199  0.818654   0.762934   0.574628   0.575958   \n",
       "score_test  -0.053387  0.112167  0.103615   0.264901   0.259833   0.241781   \n",
       "rmse         0.069744  0.064029  0.064337   0.058262   0.058462   0.059171   \n",
       "mae          0.056825  0.048348  0.048128   0.045675   0.044952   0.045210   \n",
       "\n",
       "             GS_RF_MAE2    rfr_op  \n",
       "score_train    0.565554  0.574628  \n",
       "score_test     0.256861  0.259833  \n",
       "rmse           0.058579  0.058462  \n",
       "mae            0.045153  0.044952  "
      ]
     },
     "execution_count": 83,
     "metadata": {},
     "output_type": "execute_result"
    }
   ],
   "source": [
    "pd.DataFrame(fit_results,index=['score_train', 'score_test', 'rmse', 'mae'])"
   ]
  },
  {
   "cell_type": "markdown",
   "metadata": {},
   "source": [
    "Looks like MSE and MAE is fairly close. Probably means that the MSE isn't being impacted as heavily by the outliers as I feared. So I think I can keep going with MSE as my criteron. Interestingly, in both cases, using a max_samples of 0.33 worked best. I'm thinking this may help with overfitting. Also, more estimators seem to help, not fewer. Playing with the impurity decrease did not help at all. I may do one more grid search looking at some more estimators and switch to max_depth instead of min_impurity_decrease."
   ]
  },
  {
   "cell_type": "code",
   "execution_count": 65,
   "metadata": {},
   "outputs": [],
   "source": [
    "params_rf2 = {\n",
    "    'n_estimators': [100,1000],\n",
    "    'max_samples': [0.33, 0.66, 1],\n",
    "    'max_depth': [5, 10, 20, 50]\n",
    "}"
   ]
  },
  {
   "cell_type": "code",
   "execution_count": 84,
   "metadata": {},
   "outputs": [
    {
     "data": {
      "image/png": "[encoded data removed]",
      "text/plain": [
       "<Figure size 432x288 with 1 Axes>"
      ]
     },
     "metadata": {
      "needs_background": "light"
     },
     "output_type": "display_data"
    }
   ],
   "source": [
    "gs1c = GridSearchCV(estimator=model1a, param_grid=params_rf2, cv=kf, n_jobs=-1)\n",
    "fit_model(gs1c, 'GS_RF_MSE2')\n",
    "plt.scatter(y_test, gs1c.predict(X_test));"
   ]
  },
  {
   "cell_type": "code",
   "execution_count": 85,
   "metadata": {},
   "outputs": [
    {
     "data": {
      "text/html": [
       "<div>\n",
       "<style scoped>\n",
       "    .dataframe tbody tr th:only-of-type {\n",
       "        vertical-align: middle;\n",
       "    }\n",
       "\n",
       "    .dataframe tbody tr th {\n",
       "        vertical-align: top;\n",
       "    }\n",
       "\n",
       "    .dataframe thead th {\n",
       "        text-align: right;\n",
       "    }\n",
       "</style>\n",
       "<table border=\"1\" class=\"dataframe\">\n",
       "  <thead>\n",
       "    <tr style=\"text-align: right;\">\n",
       "      <th></th>\n",
       "      <th>param_max_depth</th>\n",
       "      <th>param_max_samples</th>\n",
       "      <th>param_n_estimators</th>\n",
       "      <th>params</th>\n",
       "      <th>split0_test_score</th>\n",
       "      <th>split1_test_score</th>\n",
       "      <th>split2_test_score</th>\n",
       "      <th>split3_test_score</th>\n",
       "      <th>split4_test_score</th>\n",
       "      <th>mean_test_score</th>\n",
       "      <th>std_test_score</th>\n",
       "      <th>rank_test_score</th>\n",
       "    </tr>\n",
       "  </thead>\n",
       "  <tbody>\n",
       "    <tr>\n",
       "      <th>0</th>\n",
       "      <td>5</td>\n",
       "      <td>0.33</td>\n",
       "      <td>100</td>\n",
       "      <td>{'max_depth': 5, 'max_samples': 0.33, 'n_estim...</td>\n",
       "      <td>0.224798</td>\n",
       "      <td>0.098233</td>\n",
       "      <td>0.118248</td>\n",
       "      <td>0.292398</td>\n",
       "      <td>0.020247</td>\n",
       "      <td>0.150785</td>\n",
       "      <td>0.096325</td>\n",
       "      <td>1</td>\n",
       "    </tr>\n",
       "    <tr>\n",
       "      <th>1</th>\n",
       "      <td>5</td>\n",
       "      <td>0.33</td>\n",
       "      <td>1000</td>\n",
       "      <td>{'max_depth': 5, 'max_samples': 0.33, 'n_estim...</td>\n",
       "      <td>0.215439</td>\n",
       "      <td>0.131678</td>\n",
       "      <td>0.131370</td>\n",
       "      <td>0.256800</td>\n",
       "      <td>0.013519</td>\n",
       "      <td>0.149761</td>\n",
       "      <td>0.083664</td>\n",
       "      <td>2</td>\n",
       "    </tr>\n",
       "    <tr>\n",
       "      <th>7</th>\n",
       "      <td>10</td>\n",
       "      <td>0.33</td>\n",
       "      <td>1000</td>\n",
       "      <td>{'max_depth': 10, 'max_samples': 0.33, 'n_esti...</td>\n",
       "      <td>0.212414</td>\n",
       "      <td>0.137863</td>\n",
       "      <td>0.136125</td>\n",
       "      <td>0.265226</td>\n",
       "      <td>-0.002995</td>\n",
       "      <td>0.149727</td>\n",
       "      <td>0.090465</td>\n",
       "      <td>3</td>\n",
       "    </tr>\n",
       "    <tr>\n",
       "      <th>19</th>\n",
       "      <td>50</td>\n",
       "      <td>0.33</td>\n",
       "      <td>1000</td>\n",
       "      <td>{'max_depth': 50, 'max_samples': 0.33, 'n_esti...</td>\n",
       "      <td>0.212362</td>\n",
       "      <td>0.138097</td>\n",
       "      <td>0.136102</td>\n",
       "      <td>0.267847</td>\n",
       "      <td>-0.007611</td>\n",
       "      <td>0.149359</td>\n",
       "      <td>0.092683</td>\n",
       "      <td>4</td>\n",
       "    </tr>\n",
       "    <tr>\n",
       "      <th>13</th>\n",
       "      <td>20</td>\n",
       "      <td>0.33</td>\n",
       "      <td>1000</td>\n",
       "      <td>{'max_depth': 20, 'max_samples': 0.33, 'n_esti...</td>\n",
       "      <td>0.212362</td>\n",
       "      <td>0.138097</td>\n",
       "      <td>0.136102</td>\n",
       "      <td>0.267847</td>\n",
       "      <td>-0.007611</td>\n",
       "      <td>0.149359</td>\n",
       "      <td>0.092683</td>\n",
       "      <td>4</td>\n",
       "    </tr>\n",
       "  </tbody>\n",
       "</table>\n",
       "</div>"
      ],
      "text/plain": [
       "   param_max_depth param_max_samples param_n_estimators  \\\n",
       "0                5              0.33                100   \n",
       "1                5              0.33               1000   \n",
       "7               10              0.33               1000   \n",
       "19              50              0.33               1000   \n",
       "13              20              0.33               1000   \n",
       "\n",
       "                                               params  split0_test_score  \\\n",
       "0   {'max_depth': 5, 'max_samples': 0.33, 'n_estim...           0.224798   \n",
       "1   {'max_depth': 5, 'max_samples': 0.33, 'n_estim...           0.215439   \n",
       "7   {'max_depth': 10, 'max_samples': 0.33, 'n_esti...           0.212414   \n",
       "19  {'max_depth': 50, 'max_samples': 0.33, 'n_esti...           0.212362   \n",
       "13  {'max_depth': 20, 'max_samples': 0.33, 'n_esti...           0.212362   \n",
       "\n",
       "    split1_test_score  split2_test_score  split3_test_score  \\\n",
       "0            0.098233           0.118248           0.292398   \n",
       "1            0.131678           0.131370           0.256800   \n",
       "7            0.137863           0.136125           0.265226   \n",
       "19           0.138097           0.136102           0.267847   \n",
       "13           0.138097           0.136102           0.267847   \n",
       "\n",
       "    split4_test_score  mean_test_score  std_test_score  rank_test_score  \n",
       "0            0.020247         0.150785        0.096325                1  \n",
       "1            0.013519         0.149761        0.083664                2  \n",
       "7           -0.002995         0.149727        0.090465                3  \n",
       "19          -0.007611         0.149359        0.092683                4  \n",
       "13          -0.007611         0.149359        0.092683                4  "
      ]
     },
     "execution_count": 85,
     "metadata": {},
     "output_type": "execute_result"
    }
   ],
   "source": [
    "pd.DataFrame(gs1c.cv_results_).sort_values('mean_test_score', ascending=False).iloc[:5,4:]"
   ]
  },
  {
   "cell_type": "code",
   "execution_count": 86,
   "metadata": {},
   "outputs": [
    {
     "data": {
      "text/html": [
       "<div>\n",
       "<style scoped>\n",
       "    .dataframe tbody tr th:only-of-type {\n",
       "        vertical-align: middle;\n",
       "    }\n",
       "\n",
       "    .dataframe tbody tr th {\n",
       "        vertical-align: top;\n",
       "    }\n",
       "\n",
       "    .dataframe thead th {\n",
       "        text-align: right;\n",
       "    }\n",
       "</style>\n",
       "<table border=\"1\" class=\"dataframe\">\n",
       "  <thead>\n",
       "    <tr style=\"text-align: right;\">\n",
       "      <th></th>\n",
       "      <th>dummy</th>\n",
       "      <th>RFR</th>\n",
       "      <th>bagging</th>\n",
       "      <th>GradBoost</th>\n",
       "      <th>GS_RF_MSE</th>\n",
       "      <th>GS_RF_MAE</th>\n",
       "      <th>GS_RF_MAE2</th>\n",
       "      <th>rfr_op</th>\n",
       "      <th>GS_RF_MSE2</th>\n",
       "    </tr>\n",
       "  </thead>\n",
       "  <tbody>\n",
       "    <tr>\n",
       "      <th>score_train</th>\n",
       "      <td>0.000000</td>\n",
       "      <td>0.877199</td>\n",
       "      <td>0.818654</td>\n",
       "      <td>0.762934</td>\n",
       "      <td>0.574628</td>\n",
       "      <td>0.575958</td>\n",
       "      <td>0.565554</td>\n",
       "      <td>0.574628</td>\n",
       "      <td>0.501652</td>\n",
       "    </tr>\n",
       "    <tr>\n",
       "      <th>score_test</th>\n",
       "      <td>-0.053387</td>\n",
       "      <td>0.112167</td>\n",
       "      <td>0.103615</td>\n",
       "      <td>0.264901</td>\n",
       "      <td>0.259833</td>\n",
       "      <td>0.241781</td>\n",
       "      <td>0.256861</td>\n",
       "      <td>0.259833</td>\n",
       "      <td>0.206245</td>\n",
       "    </tr>\n",
       "    <tr>\n",
       "      <th>rmse</th>\n",
       "      <td>0.069744</td>\n",
       "      <td>0.064029</td>\n",
       "      <td>0.064337</td>\n",
       "      <td>0.058262</td>\n",
       "      <td>0.058462</td>\n",
       "      <td>0.059171</td>\n",
       "      <td>0.058579</td>\n",
       "      <td>0.058462</td>\n",
       "      <td>0.060542</td>\n",
       "    </tr>\n",
       "    <tr>\n",
       "      <th>mae</th>\n",
       "      <td>0.056825</td>\n",
       "      <td>0.048348</td>\n",
       "      <td>0.048128</td>\n",
       "      <td>0.045675</td>\n",
       "      <td>0.044952</td>\n",
       "      <td>0.045210</td>\n",
       "      <td>0.045153</td>\n",
       "      <td>0.044952</td>\n",
       "      <td>0.046327</td>\n",
       "    </tr>\n",
       "  </tbody>\n",
       "</table>\n",
       "</div>"
      ],
      "text/plain": [
       "                dummy       RFR   bagging  GradBoost  GS_RF_MSE  GS_RF_MAE  \\\n",
       "score_train  0.000000  0.877199  0.818654   0.762934   0.574628   0.575958   \n",
       "score_test  -0.053387  0.112167  0.103615   0.264901   0.259833   0.241781   \n",
       "rmse         0.069744  0.064029  0.064337   0.058262   0.058462   0.059171   \n",
       "mae          0.056825  0.048348  0.048128   0.045675   0.044952   0.045210   \n",
       "\n",
       "             GS_RF_MAE2    rfr_op  GS_RF_MSE2  \n",
       "score_train    0.565554  0.574628    0.501652  \n",
       "score_test     0.256861  0.259833    0.206245  \n",
       "rmse           0.058579  0.058462    0.060542  \n",
       "mae            0.045153  0.044952    0.046327  "
      ]
     },
     "execution_count": 86,
     "metadata": {},
     "output_type": "execute_result"
    }
   ],
   "source": [
    "pd.DataFrame(fit_results,index=['score_train', 'score_test', 'rmse', 'mae'])"
   ]
  },
  {
   "cell_type": "markdown",
   "metadata": {},
   "source": [
    "Hm, so n_estimator truly seems best at 1000, however max_sample did even better at 0.15 which just seem crazy low. Max_depth did best at 10. However, I will say, most of these scores are really close to each other, unlike the previous gridsearch, so I think I'm reaching a capping point. I'm going to run a randomforest with my optimized parameters to see how it does on the full dataset."
   ]
  },
  {
   "cell_type": "code",
   "execution_count": 88,
   "metadata": {},
   "outputs": [
    {
     "data": {
      "text/plain": [
       "0.25983327776226517"
      ]
     },
     "execution_count": 88,
     "metadata": {},
     "output_type": "execute_result"
    }
   ],
   "source": [
    "model1c = RandomForestRegressor(n_estimators= 1000, max_samples=0.33, random_state=8)\n",
    "fit_model(model1c, 'rfr_op')"
   ]
  },
  {
   "cell_type": "code",
   "execution_count": 89,
   "metadata": {},
   "outputs": [],
   "source": [
    "rf_op_coefs = np.mean([\n",
    "    tree.feature_importances_ for tree in model1c.estimators_\n",
    "], axis=0)"
   ]
  },
  {
   "cell_type": "code",
   "execution_count": 90,
   "metadata": {},
   "outputs": [
    {
     "data": {
      "text/html": [
       "<div>\n",
       "<style scoped>\n",
       "    .dataframe tbody tr th:only-of-type {\n",
       "        vertical-align: middle;\n",
       "    }\n",
       "\n",
       "    .dataframe tbody tr th {\n",
       "        vertical-align: top;\n",
       "    }\n",
       "\n",
       "    .dataframe thead th {\n",
       "        text-align: right;\n",
       "    }\n",
       "</style>\n",
       "<table border=\"1\" class=\"dataframe\">\n",
       "  <thead>\n",
       "    <tr style=\"text-align: right;\">\n",
       "      <th></th>\n",
       "      <th>dummy</th>\n",
       "      <th>RFR</th>\n",
       "      <th>bagging</th>\n",
       "      <th>GradBoost</th>\n",
       "      <th>GS_RF_MSE</th>\n",
       "      <th>GS_RF_MAE</th>\n",
       "      <th>GS_RF_MAE2</th>\n",
       "      <th>rfr_op</th>\n",
       "      <th>GS_RF_MSE2</th>\n",
       "    </tr>\n",
       "  </thead>\n",
       "  <tbody>\n",
       "    <tr>\n",
       "      <th>score_train</th>\n",
       "      <td>0.000000</td>\n",
       "      <td>0.877199</td>\n",
       "      <td>0.818654</td>\n",
       "      <td>0.762934</td>\n",
       "      <td>0.574628</td>\n",
       "      <td>0.575958</td>\n",
       "      <td>0.565554</td>\n",
       "      <td>0.574628</td>\n",
       "      <td>0.501652</td>\n",
       "    </tr>\n",
       "    <tr>\n",
       "      <th>score_test</th>\n",
       "      <td>-0.053387</td>\n",
       "      <td>0.112167</td>\n",
       "      <td>0.103615</td>\n",
       "      <td>0.264901</td>\n",
       "      <td>0.259833</td>\n",
       "      <td>0.241781</td>\n",
       "      <td>0.256861</td>\n",
       "      <td>0.259833</td>\n",
       "      <td>0.206245</td>\n",
       "    </tr>\n",
       "    <tr>\n",
       "      <th>rmse</th>\n",
       "      <td>0.069744</td>\n",
       "      <td>0.064029</td>\n",
       "      <td>0.064337</td>\n",
       "      <td>0.058262</td>\n",
       "      <td>0.058462</td>\n",
       "      <td>0.059171</td>\n",
       "      <td>0.058579</td>\n",
       "      <td>0.058462</td>\n",
       "      <td>0.060542</td>\n",
       "    </tr>\n",
       "    <tr>\n",
       "      <th>mae</th>\n",
       "      <td>0.056825</td>\n",
       "      <td>0.048348</td>\n",
       "      <td>0.048128</td>\n",
       "      <td>0.045675</td>\n",
       "      <td>0.044952</td>\n",
       "      <td>0.045210</td>\n",
       "      <td>0.045153</td>\n",
       "      <td>0.044952</td>\n",
       "      <td>0.046327</td>\n",
       "    </tr>\n",
       "  </tbody>\n",
       "</table>\n",
       "</div>"
      ],
      "text/plain": [
       "                dummy       RFR   bagging  GradBoost  GS_RF_MSE  GS_RF_MAE  \\\n",
       "score_train  0.000000  0.877199  0.818654   0.762934   0.574628   0.575958   \n",
       "score_test  -0.053387  0.112167  0.103615   0.264901   0.259833   0.241781   \n",
       "rmse         0.069744  0.064029  0.064337   0.058262   0.058462   0.059171   \n",
       "mae          0.056825  0.048348  0.048128   0.045675   0.044952   0.045210   \n",
       "\n",
       "             GS_RF_MAE2    rfr_op  GS_RF_MSE2  \n",
       "score_train    0.565554  0.574628    0.501652  \n",
       "score_test     0.256861  0.259833    0.206245  \n",
       "rmse           0.058579  0.058462    0.060542  \n",
       "mae            0.045153  0.044952    0.046327  "
      ]
     },
     "execution_count": 90,
     "metadata": {},
     "output_type": "execute_result"
    }
   ],
   "source": [
    "pd.DataFrame(fit_results,index=['score_train', 'score_test', 'rmse', 'mae'])"
   ]
  },
  {
   "cell_type": "code",
   "execution_count": null,
   "metadata": {},
   "outputs": [],
   "source": []
  },
  {
   "cell_type": "markdown",
   "metadata": {},
   "source": [
    "## Bagging\n",
    "\n",
    "[Hyperparameters of interest](https://scikit-learn.org/stable/modules/generated/sklearn.ensemble.BaggingRegressor.html#sklearn.ensemble.BaggingRegressor):\n",
    "* **n_estimators** -- how many weak estimators\n",
    "* **max_samples** -- max samples drawn\n",
    "* **max_features** -- how many samples to look at\n",
    "* **bootstrap_features** -- this one is new, I can bootstrap the features, not just the datapoints\n"
   ]
  },
  {
   "cell_type": "code",
   "execution_count": 91,
   "metadata": {},
   "outputs": [],
   "source": [
    "params_bagging = {\n",
    "    'n_estimators': [100,1000],\n",
    "    'max_samples': [1.0, 0.66, 0.33],\n",
    "    'max_features': [1.0, 0.75, 0.5]\n",
    "}"
   ]
  },
  {
   "cell_type": "code",
   "execution_count": 92,
   "metadata": {},
   "outputs": [],
   "source": [
    "kf = KFold(n_splits=3, shuffle = True, random_state= 8)"
   ]
  },
  {
   "cell_type": "code",
   "execution_count": 94,
   "metadata": {},
   "outputs": [],
   "source": [
    "model2 = BaggingRegressor(random_state=8)"
   ]
  },
  {
   "cell_type": "code",
   "execution_count": 95,
   "metadata": {},
   "outputs": [
    {
     "data": {
      "image/png": "[encoded data removed]",
      "text/plain": [
       "<Figure size 432x288 with 1 Axes>"
      ]
     },
     "metadata": {
      "needs_background": "light"
     },
     "output_type": "display_data"
    }
   ],
   "source": [
    "gs2 = GridSearchCV(estimator=model2, param_grid=params_bagging, cv=kf, n_jobs=-1)\n",
    "fit_model(gs2, 'GS_bagging')\n",
    "plt.scatter(y_test, gs2.predict(X_test));"
   ]
  },
  {
   "cell_type": "code",
   "execution_count": 97,
   "metadata": {},
   "outputs": [
    {
     "data": {
      "text/html": [
       "<div>\n",
       "<style scoped>\n",
       "    .dataframe tbody tr th:only-of-type {\n",
       "        vertical-align: middle;\n",
       "    }\n",
       "\n",
       "    .dataframe tbody tr th {\n",
       "        vertical-align: top;\n",
       "    }\n",
       "\n",
       "    .dataframe thead th {\n",
       "        text-align: right;\n",
       "    }\n",
       "</style>\n",
       "<table border=\"1\" class=\"dataframe\">\n",
       "  <thead>\n",
       "    <tr style=\"text-align: right;\">\n",
       "      <th></th>\n",
       "      <th>param_max_features</th>\n",
       "      <th>param_max_samples</th>\n",
       "      <th>param_n_estimators</th>\n",
       "      <th>params</th>\n",
       "      <th>split0_test_score</th>\n",
       "      <th>split1_test_score</th>\n",
       "      <th>split2_test_score</th>\n",
       "      <th>mean_test_score</th>\n",
       "      <th>std_test_score</th>\n",
       "      <th>rank_test_score</th>\n",
       "    </tr>\n",
       "  </thead>\n",
       "  <tbody>\n",
       "    <tr>\n",
       "      <th>5</th>\n",
       "      <td>1</td>\n",
       "      <td>0.33</td>\n",
       "      <td>1000</td>\n",
       "      <td>{'max_features': 1.0, 'max_samples': 0.33, 'n_...</td>\n",
       "      <td>0.154305</td>\n",
       "      <td>0.254515</td>\n",
       "      <td>0.073314</td>\n",
       "      <td>0.160711</td>\n",
       "      <td>0.074114</td>\n",
       "      <td>1</td>\n",
       "    </tr>\n",
       "    <tr>\n",
       "      <th>11</th>\n",
       "      <td>0.75</td>\n",
       "      <td>0.33</td>\n",
       "      <td>1000</td>\n",
       "      <td>{'max_features': 0.75, 'max_samples': 0.33, 'n...</td>\n",
       "      <td>0.157814</td>\n",
       "      <td>0.233348</td>\n",
       "      <td>0.080070</td>\n",
       "      <td>0.157078</td>\n",
       "      <td>0.062578</td>\n",
       "      <td>2</td>\n",
       "    </tr>\n",
       "    <tr>\n",
       "      <th>10</th>\n",
       "      <td>0.75</td>\n",
       "      <td>0.33</td>\n",
       "      <td>100</td>\n",
       "      <td>{'max_features': 0.75, 'max_samples': 0.33, 'n...</td>\n",
       "      <td>0.115833</td>\n",
       "      <td>0.248914</td>\n",
       "      <td>0.056507</td>\n",
       "      <td>0.140418</td>\n",
       "      <td>0.080451</td>\n",
       "      <td>3</td>\n",
       "    </tr>\n",
       "    <tr>\n",
       "      <th>17</th>\n",
       "      <td>0.5</td>\n",
       "      <td>0.33</td>\n",
       "      <td>1000</td>\n",
       "      <td>{'max_features': 0.5, 'max_samples': 0.33, 'n_...</td>\n",
       "      <td>0.128187</td>\n",
       "      <td>0.201927</td>\n",
       "      <td>0.076832</td>\n",
       "      <td>0.135649</td>\n",
       "      <td>0.051341</td>\n",
       "      <td>4</td>\n",
       "    </tr>\n",
       "    <tr>\n",
       "      <th>4</th>\n",
       "      <td>1</td>\n",
       "      <td>0.33</td>\n",
       "      <td>100</td>\n",
       "      <td>{'max_features': 1.0, 'max_samples': 0.33, 'n_...</td>\n",
       "      <td>0.105414</td>\n",
       "      <td>0.221399</td>\n",
       "      <td>0.040386</td>\n",
       "      <td>0.122400</td>\n",
       "      <td>0.074868</td>\n",
       "      <td>5</td>\n",
       "    </tr>\n",
       "  </tbody>\n",
       "</table>\n",
       "</div>"
      ],
      "text/plain": [
       "   param_max_features param_max_samples param_n_estimators  \\\n",
       "5                   1              0.33               1000   \n",
       "11               0.75              0.33               1000   \n",
       "10               0.75              0.33                100   \n",
       "17                0.5              0.33               1000   \n",
       "4                   1              0.33                100   \n",
       "\n",
       "                                               params  split0_test_score  \\\n",
       "5   {'max_features': 1.0, 'max_samples': 0.33, 'n_...           0.154305   \n",
       "11  {'max_features': 0.75, 'max_samples': 0.33, 'n...           0.157814   \n",
       "10  {'max_features': 0.75, 'max_samples': 0.33, 'n...           0.115833   \n",
       "17  {'max_features': 0.5, 'max_samples': 0.33, 'n_...           0.128187   \n",
       "4   {'max_features': 1.0, 'max_samples': 0.33, 'n_...           0.105414   \n",
       "\n",
       "    split1_test_score  split2_test_score  mean_test_score  std_test_score  \\\n",
       "5            0.254515           0.073314         0.160711        0.074114   \n",
       "11           0.233348           0.080070         0.157078        0.062578   \n",
       "10           0.248914           0.056507         0.140418        0.080451   \n",
       "17           0.201927           0.076832         0.135649        0.051341   \n",
       "4            0.221399           0.040386         0.122400        0.074868   \n",
       "\n",
       "    rank_test_score  \n",
       "5                 1  \n",
       "11                2  \n",
       "10                3  \n",
       "17                4  \n",
       "4                 5  "
      ]
     },
     "execution_count": 97,
     "metadata": {},
     "output_type": "execute_result"
    }
   ],
   "source": [
    "pd.DataFrame(gs2.cv_results_).sort_values('mean_test_score', ascending=False).iloc[:5,4:]"
   ]
  },
  {
   "cell_type": "code",
   "execution_count": 98,
   "metadata": {},
   "outputs": [
    {
     "data": {
      "text/html": [
       "<div>\n",
       "<style scoped>\n",
       "    .dataframe tbody tr th:only-of-type {\n",
       "        vertical-align: middle;\n",
       "    }\n",
       "\n",
       "    .dataframe tbody tr th {\n",
       "        vertical-align: top;\n",
       "    }\n",
       "\n",
       "    .dataframe thead th {\n",
       "        text-align: right;\n",
       "    }\n",
       "</style>\n",
       "<table border=\"1\" class=\"dataframe\">\n",
       "  <thead>\n",
       "    <tr style=\"text-align: right;\">\n",
       "      <th></th>\n",
       "      <th>dummy</th>\n",
       "      <th>RFR</th>\n",
       "      <th>bagging</th>\n",
       "      <th>GradBoost</th>\n",
       "      <th>GS_RF_MSE</th>\n",
       "      <th>GS_RF_MAE</th>\n",
       "      <th>GS_RF_MAE2</th>\n",
       "      <th>rfr_op</th>\n",
       "      <th>GS_RF_MSE2</th>\n",
       "      <th>GS_bagging</th>\n",
       "    </tr>\n",
       "  </thead>\n",
       "  <tbody>\n",
       "    <tr>\n",
       "      <th>score_train</th>\n",
       "      <td>0.000000</td>\n",
       "      <td>0.877199</td>\n",
       "      <td>0.818654</td>\n",
       "      <td>0.762934</td>\n",
       "      <td>0.574628</td>\n",
       "      <td>0.575958</td>\n",
       "      <td>0.565554</td>\n",
       "      <td>0.574628</td>\n",
       "      <td>0.501652</td>\n",
       "      <td>0.572994</td>\n",
       "    </tr>\n",
       "    <tr>\n",
       "      <th>score_test</th>\n",
       "      <td>-0.053387</td>\n",
       "      <td>0.112167</td>\n",
       "      <td>0.103615</td>\n",
       "      <td>0.264901</td>\n",
       "      <td>0.259833</td>\n",
       "      <td>0.241781</td>\n",
       "      <td>0.256861</td>\n",
       "      <td>0.259833</td>\n",
       "      <td>0.206245</td>\n",
       "      <td>0.253086</td>\n",
       "    </tr>\n",
       "    <tr>\n",
       "      <th>rmse</th>\n",
       "      <td>0.069744</td>\n",
       "      <td>0.064029</td>\n",
       "      <td>0.064337</td>\n",
       "      <td>0.058262</td>\n",
       "      <td>0.058462</td>\n",
       "      <td>0.059171</td>\n",
       "      <td>0.058579</td>\n",
       "      <td>0.058462</td>\n",
       "      <td>0.060542</td>\n",
       "      <td>0.058728</td>\n",
       "    </tr>\n",
       "    <tr>\n",
       "      <th>mae</th>\n",
       "      <td>0.056825</td>\n",
       "      <td>0.048348</td>\n",
       "      <td>0.048128</td>\n",
       "      <td>0.045675</td>\n",
       "      <td>0.044952</td>\n",
       "      <td>0.045210</td>\n",
       "      <td>0.045153</td>\n",
       "      <td>0.044952</td>\n",
       "      <td>0.046327</td>\n",
       "      <td>0.045122</td>\n",
       "    </tr>\n",
       "  </tbody>\n",
       "</table>\n",
       "</div>"
      ],
      "text/plain": [
       "                dummy       RFR   bagging  GradBoost  GS_RF_MSE  GS_RF_MAE  \\\n",
       "score_train  0.000000  0.877199  0.818654   0.762934   0.574628   0.575958   \n",
       "score_test  -0.053387  0.112167  0.103615   0.264901   0.259833   0.241781   \n",
       "rmse         0.069744  0.064029  0.064337   0.058262   0.058462   0.059171   \n",
       "mae          0.056825  0.048348  0.048128   0.045675   0.044952   0.045210   \n",
       "\n",
       "             GS_RF_MAE2    rfr_op  GS_RF_MSE2  GS_bagging  \n",
       "score_train    0.565554  0.574628    0.501652    0.572994  \n",
       "score_test     0.256861  0.259833    0.206245    0.253086  \n",
       "rmse           0.058579  0.058462    0.060542    0.058728  \n",
       "mae            0.045153  0.044952    0.046327    0.045122  "
      ]
     },
     "execution_count": 98,
     "metadata": {},
     "output_type": "execute_result"
    }
   ],
   "source": [
    "pd.DataFrame(fit_results,index=['score_train', 'score_test', 'rmse', 'mae'])"
   ]
  },
  {
   "cell_type": "code",
   "execution_count": 101,
   "metadata": {},
   "outputs": [
    {
     "data": {
      "text/plain": [
       "0.25308629360067914"
      ]
     },
     "execution_count": 101,
     "metadata": {},
     "output_type": "execute_result"
    }
   ],
   "source": [
    "model2 = BaggingRegressor(n_estimators= 1000, max_samples = 0.33, random_state=8)\n",
    "fit_model(model2, 'bagging_op')"
   ]
  },
  {
   "cell_type": "code",
   "execution_count": 102,
   "metadata": {},
   "outputs": [
    {
     "data": {
      "text/plain": [
       "0     0.011289\n",
       "1     0.007331\n",
       "2     0.042448\n",
       "3     0.053554\n",
       "4     0.016048\n",
       "5     0.211106\n",
       "6     0.003369\n",
       "7     0.002701\n",
       "8     0.000270\n",
       "9     0.013367\n",
       "10    0.005380\n",
       "11    0.006666\n",
       "12    0.014430\n",
       "13    0.014682\n",
       "14    0.008769\n",
       "15    0.000471\n",
       "16    0.010655\n",
       "17    0.008089\n",
       "18    0.007304\n",
       "19    0.016477\n",
       "20    0.013450\n",
       "21    0.013700\n",
       "22    0.152737\n",
       "23    0.020822\n",
       "24    0.004946\n",
       "25    0.002188\n",
       "26    0.000846\n",
       "27    0.158120\n",
       "28    0.008129\n",
       "29    0.005571\n",
       "30    0.015807\n",
       "31    0.007451\n",
       "32    0.017657\n",
       "33    0.010483\n",
       "34    0.007789\n",
       "35    0.012344\n",
       "36    0.013009\n",
       "37    0.003783\n",
       "38    0.006697\n",
       "39    0.015672\n",
       "40    0.012126\n",
       "41    0.022587\n",
       "42    0.019680\n",
       "dtype: float64"
      ]
     },
     "execution_count": 102,
     "metadata": {},
     "output_type": "execute_result"
    }
   ],
   "source": [
    "bagging_trees_coefs = {}\n",
    "for tree in range(len(model2.estimators_)):\n",
    "    bagging_trees_coefs[tree] = dict(zip(model2.estimators_features_[tree], model2.estimators_[tree].feature_importances_))\n",
    "\n",
    "bagging_trees_coefs = pd.DataFrame(bagging_trees_coefs).sort_index()\n",
    "bagging_op_coefs = bagging_trees_coefs.mean(axis=1)\n",
    "bagging_op_coefs"
   ]
  },
  {
   "cell_type": "code",
   "execution_count": 103,
   "metadata": {},
   "outputs": [
    {
     "data": {
      "text/plain": [
       "1000"
      ]
     },
     "execution_count": 103,
     "metadata": {},
     "output_type": "execute_result"
    }
   ],
   "source": [
    "len(model2.estimators_)"
   ]
  },
  {
   "cell_type": "code",
   "execution_count": 104,
   "metadata": {},
   "outputs": [
    {
     "data": {
      "text/plain": [
       "array([0.00000000e+00, 6.13410740e-03, 4.70170775e-02, 6.85816313e-04,\n",
       "       2.30852097e-05, 1.56343241e-01, 0.00000000e+00, 8.27641155e-04,\n",
       "       0.00000000e+00, 5.21769842e-02, 0.00000000e+00, 2.16452692e-06,\n",
       "       7.93908834e-04, 0.00000000e+00, 0.00000000e+00, 0.00000000e+00,\n",
       "       0.00000000e+00, 3.97010672e-03, 0.00000000e+00, 2.42141743e-02,\n",
       "       3.00951535e-05, 0.00000000e+00, 2.52079699e-01, 0.00000000e+00,\n",
       "       0.00000000e+00, 1.37657451e-03, 0.00000000e+00, 1.53597978e-01,\n",
       "       0.00000000e+00, 7.25387908e-03, 0.00000000e+00, 0.00000000e+00,\n",
       "       4.45202345e-03, 1.69123674e-05, 1.38140047e-02, 1.89291252e-01,\n",
       "       0.00000000e+00, 0.00000000e+00, 0.00000000e+00, 4.21807034e-03,\n",
       "       0.00000000e+00, 7.83820226e-02, 3.29918219e-03])"
      ]
     },
     "execution_count": 104,
     "metadata": {},
     "output_type": "execute_result"
    }
   ],
   "source": [
    "model2.estimators_[0].feature_importances_"
   ]
  },
  {
   "cell_type": "code",
   "execution_count": 105,
   "metadata": {},
   "outputs": [
    {
     "data": {
      "text/html": [
       "<div>\n",
       "<style scoped>\n",
       "    .dataframe tbody tr th:only-of-type {\n",
       "        vertical-align: middle;\n",
       "    }\n",
       "\n",
       "    .dataframe tbody tr th {\n",
       "        vertical-align: top;\n",
       "    }\n",
       "\n",
       "    .dataframe thead th {\n",
       "        text-align: right;\n",
       "    }\n",
       "</style>\n",
       "<table border=\"1\" class=\"dataframe\">\n",
       "  <thead>\n",
       "    <tr style=\"text-align: right;\">\n",
       "      <th></th>\n",
       "      <th>dummy</th>\n",
       "      <th>RFR</th>\n",
       "      <th>bagging</th>\n",
       "      <th>GradBoost</th>\n",
       "      <th>GS_RF_MSE</th>\n",
       "      <th>GS_RF_MAE</th>\n",
       "      <th>GS_RF_MAE2</th>\n",
       "      <th>rfr_op</th>\n",
       "      <th>GS_RF_MSE2</th>\n",
       "      <th>GS_bagging</th>\n",
       "      <th>bagging_op</th>\n",
       "    </tr>\n",
       "  </thead>\n",
       "  <tbody>\n",
       "    <tr>\n",
       "      <th>score_train</th>\n",
       "      <td>0.000000</td>\n",
       "      <td>0.877199</td>\n",
       "      <td>0.818654</td>\n",
       "      <td>0.762934</td>\n",
       "      <td>0.574628</td>\n",
       "      <td>0.575958</td>\n",
       "      <td>0.565554</td>\n",
       "      <td>0.574628</td>\n",
       "      <td>0.501652</td>\n",
       "      <td>0.572994</td>\n",
       "      <td>0.572994</td>\n",
       "    </tr>\n",
       "    <tr>\n",
       "      <th>score_test</th>\n",
       "      <td>-0.053387</td>\n",
       "      <td>0.112167</td>\n",
       "      <td>0.103615</td>\n",
       "      <td>0.264901</td>\n",
       "      <td>0.259833</td>\n",
       "      <td>0.241781</td>\n",
       "      <td>0.256861</td>\n",
       "      <td>0.259833</td>\n",
       "      <td>0.206245</td>\n",
       "      <td>0.253086</td>\n",
       "      <td>0.253086</td>\n",
       "    </tr>\n",
       "    <tr>\n",
       "      <th>rmse</th>\n",
       "      <td>0.069744</td>\n",
       "      <td>0.064029</td>\n",
       "      <td>0.064337</td>\n",
       "      <td>0.058262</td>\n",
       "      <td>0.058462</td>\n",
       "      <td>0.059171</td>\n",
       "      <td>0.058579</td>\n",
       "      <td>0.058462</td>\n",
       "      <td>0.060542</td>\n",
       "      <td>0.058728</td>\n",
       "      <td>0.058728</td>\n",
       "    </tr>\n",
       "    <tr>\n",
       "      <th>mae</th>\n",
       "      <td>0.056825</td>\n",
       "      <td>0.048348</td>\n",
       "      <td>0.048128</td>\n",
       "      <td>0.045675</td>\n",
       "      <td>0.044952</td>\n",
       "      <td>0.045210</td>\n",
       "      <td>0.045153</td>\n",
       "      <td>0.044952</td>\n",
       "      <td>0.046327</td>\n",
       "      <td>0.045122</td>\n",
       "      <td>0.045122</td>\n",
       "    </tr>\n",
       "  </tbody>\n",
       "</table>\n",
       "</div>"
      ],
      "text/plain": [
       "                dummy       RFR   bagging  GradBoost  GS_RF_MSE  GS_RF_MAE  \\\n",
       "score_train  0.000000  0.877199  0.818654   0.762934   0.574628   0.575958   \n",
       "score_test  -0.053387  0.112167  0.103615   0.264901   0.259833   0.241781   \n",
       "rmse         0.069744  0.064029  0.064337   0.058262   0.058462   0.059171   \n",
       "mae          0.056825  0.048348  0.048128   0.045675   0.044952   0.045210   \n",
       "\n",
       "             GS_RF_MAE2    rfr_op  GS_RF_MSE2  GS_bagging  bagging_op  \n",
       "score_train    0.565554  0.574628    0.501652    0.572994    0.572994  \n",
       "score_test     0.256861  0.259833    0.206245    0.253086    0.253086  \n",
       "rmse           0.058579  0.058462    0.060542    0.058728    0.058728  \n",
       "mae            0.045153  0.044952    0.046327    0.045122    0.045122  "
      ]
     },
     "execution_count": 105,
     "metadata": {},
     "output_type": "execute_result"
    }
   ],
   "source": [
    "pd.DataFrame(fit_results,index=['score_train', 'score_test', 'rmse', 'mae'])"
   ]
  },
  {
   "cell_type": "markdown",
   "metadata": {},
   "source": [
    "## Boosting\n",
    "\n",
    "[Hyperparameters of interest](https://scikit-learn.org/stable/modules/generated/sklearn.ensemble.GradientBoostingRegressor.html#sklearn.ensemble.GradientBoostingRegressor):\n",
    "* **learning_rate**, default=0.1 -- According to the docs, \"Learning rate shrinks the contribution of each tree by learning_rate. There is a trade-off between learning_rate and n_estimators.\"\n",
    "* **n_estimators** -- how many weak estimators\n",
    "* **subsample** -- subs samples to be drawn for fitting (sort of like max_samples)\n",
    "* **max_depth** -- default is three but this is a recommended feature to play with\n",
    "* **min_impurity_decrease** --\n",
    "\n",
    "things to try outside of gs\n",
    "* **n_iter_no_change**\n",
    "* **validation_fraction**\n",
    "* **tol**\n"
   ]
  },
  {
   "cell_type": "code",
   "execution_count": 106,
   "metadata": {},
   "outputs": [],
   "source": [
    "params_boosting = {\n",
    "     'n_estimators': [100, 1000],\n",
    "     'subsample': [1.0, 0.66, 0.33],\n",
    "     'max_depth': [3, 5],\n",
    "     'min_samples_leaf': [1,5,10]\n",
    "}"
   ]
  },
  {
   "cell_type": "code",
   "execution_count": 107,
   "metadata": {},
   "outputs": [],
   "source": [
    "kf = KFold(n_splits=3, shuffle = True, random_state= 8)"
   ]
  },
  {
   "cell_type": "code",
   "execution_count": 108,
   "metadata": {},
   "outputs": [],
   "source": [
    "model3 = GradientBoostingRegressor(loss='lad', random_state=8)"
   ]
  },
  {
   "cell_type": "code",
   "execution_count": 109,
   "metadata": {},
   "outputs": [
    {
     "data": {
      "image/png": "[encoded data removed]",
      "text/plain": [
       "<Figure size 432x288 with 1 Axes>"
      ]
     },
     "metadata": {
      "needs_background": "light"
     },
     "output_type": "display_data"
    }
   ],
   "source": [
    "gs3 = GridSearchCV(estimator=model3, param_grid=params_boosting, cv=kf, n_jobs=-1)\n",
    "fit_model(gs3, 'GS_boosting')\n",
    "plt.scatter(y_test, gs3.predict(X_test));"
   ]
  },
  {
   "cell_type": "code",
   "execution_count": 110,
   "metadata": {},
   "outputs": [
    {
     "data": {
      "text/html": [
       "<div>\n",
       "<style scoped>\n",
       "    .dataframe tbody tr th:only-of-type {\n",
       "        vertical-align: middle;\n",
       "    }\n",
       "\n",
       "    .dataframe tbody tr th {\n",
       "        vertical-align: top;\n",
       "    }\n",
       "\n",
       "    .dataframe thead th {\n",
       "        text-align: right;\n",
       "    }\n",
       "</style>\n",
       "<table border=\"1\" class=\"dataframe\">\n",
       "  <thead>\n",
       "    <tr style=\"text-align: right;\">\n",
       "      <th></th>\n",
       "      <th>param_max_depth</th>\n",
       "      <th>param_min_samples_leaf</th>\n",
       "      <th>param_n_estimators</th>\n",
       "      <th>param_subsample</th>\n",
       "      <th>params</th>\n",
       "      <th>split0_test_score</th>\n",
       "      <th>split1_test_score</th>\n",
       "      <th>split2_test_score</th>\n",
       "      <th>mean_test_score</th>\n",
       "      <th>std_test_score</th>\n",
       "      <th>rank_test_score</th>\n",
       "    </tr>\n",
       "  </thead>\n",
       "  <tbody>\n",
       "    <tr>\n",
       "      <th>14</th>\n",
       "      <td>3</td>\n",
       "      <td>10</td>\n",
       "      <td>100</td>\n",
       "      <td>0.33</td>\n",
       "      <td>{'max_depth': 3, 'min_samples_leaf': 10, 'n_es...</td>\n",
       "      <td>0.156001</td>\n",
       "      <td>0.276976</td>\n",
       "      <td>0.025887</td>\n",
       "      <td>0.152955</td>\n",
       "      <td>0.102529</td>\n",
       "      <td>1</td>\n",
       "    </tr>\n",
       "    <tr>\n",
       "      <th>32</th>\n",
       "      <td>5</td>\n",
       "      <td>10</td>\n",
       "      <td>100</td>\n",
       "      <td>0.33</td>\n",
       "      <td>{'max_depth': 5, 'min_samples_leaf': 10, 'n_es...</td>\n",
       "      <td>0.156001</td>\n",
       "      <td>0.276976</td>\n",
       "      <td>0.025887</td>\n",
       "      <td>0.152955</td>\n",
       "      <td>0.102529</td>\n",
       "      <td>1</td>\n",
       "    </tr>\n",
       "    <tr>\n",
       "      <th>31</th>\n",
       "      <td>5</td>\n",
       "      <td>10</td>\n",
       "      <td>100</td>\n",
       "      <td>0.66</td>\n",
       "      <td>{'max_depth': 5, 'min_samples_leaf': 10, 'n_es...</td>\n",
       "      <td>0.127186</td>\n",
       "      <td>0.199549</td>\n",
       "      <td>0.022330</td>\n",
       "      <td>0.116355</td>\n",
       "      <td>0.072754</td>\n",
       "      <td>3</td>\n",
       "    </tr>\n",
       "    <tr>\n",
       "      <th>12</th>\n",
       "      <td>3</td>\n",
       "      <td>10</td>\n",
       "      <td>100</td>\n",
       "      <td>1</td>\n",
       "      <td>{'max_depth': 3, 'min_samples_leaf': 10, 'n_es...</td>\n",
       "      <td>0.114857</td>\n",
       "      <td>0.203676</td>\n",
       "      <td>0.024401</td>\n",
       "      <td>0.114312</td>\n",
       "      <td>0.073190</td>\n",
       "      <td>4</td>\n",
       "    </tr>\n",
       "    <tr>\n",
       "      <th>8</th>\n",
       "      <td>3</td>\n",
       "      <td>5</td>\n",
       "      <td>100</td>\n",
       "      <td>0.33</td>\n",
       "      <td>{'max_depth': 3, 'min_samples_leaf': 5, 'n_est...</td>\n",
       "      <td>0.103095</td>\n",
       "      <td>0.217324</td>\n",
       "      <td>0.011161</td>\n",
       "      <td>0.110527</td>\n",
       "      <td>0.084330</td>\n",
       "      <td>5</td>\n",
       "    </tr>\n",
       "  </tbody>\n",
       "</table>\n",
       "</div>"
      ],
      "text/plain": [
       "   param_max_depth param_min_samples_leaf param_n_estimators param_subsample  \\\n",
       "14               3                     10                100            0.33   \n",
       "32               5                     10                100            0.33   \n",
       "31               5                     10                100            0.66   \n",
       "12               3                     10                100               1   \n",
       "8                3                      5                100            0.33   \n",
       "\n",
       "                                               params  split0_test_score  \\\n",
       "14  {'max_depth': 3, 'min_samples_leaf': 10, 'n_es...           0.156001   \n",
       "32  {'max_depth': 5, 'min_samples_leaf': 10, 'n_es...           0.156001   \n",
       "31  {'max_depth': 5, 'min_samples_leaf': 10, 'n_es...           0.127186   \n",
       "12  {'max_depth': 3, 'min_samples_leaf': 10, 'n_es...           0.114857   \n",
       "8   {'max_depth': 3, 'min_samples_leaf': 5, 'n_est...           0.103095   \n",
       "\n",
       "    split1_test_score  split2_test_score  mean_test_score  std_test_score  \\\n",
       "14           0.276976           0.025887         0.152955        0.102529   \n",
       "32           0.276976           0.025887         0.152955        0.102529   \n",
       "31           0.199549           0.022330         0.116355        0.072754   \n",
       "12           0.203676           0.024401         0.114312        0.073190   \n",
       "8            0.217324           0.011161         0.110527        0.084330   \n",
       "\n",
       "    rank_test_score  \n",
       "14                1  \n",
       "32                1  \n",
       "31                3  \n",
       "12                4  \n",
       "8                 5  "
      ]
     },
     "execution_count": 110,
     "metadata": {},
     "output_type": "execute_result"
    }
   ],
   "source": [
    "pd.DataFrame(gs3.cv_results_).sort_values('mean_test_score', ascending=False).iloc[:5,4:]"
   ]
  },
  {
   "cell_type": "code",
   "execution_count": 111,
   "metadata": {},
   "outputs": [
    {
     "data": {
      "text/html": [
       "<div>\n",
       "<style scoped>\n",
       "    .dataframe tbody tr th:only-of-type {\n",
       "        vertical-align: middle;\n",
       "    }\n",
       "\n",
       "    .dataframe tbody tr th {\n",
       "        vertical-align: top;\n",
       "    }\n",
       "\n",
       "    .dataframe thead th {\n",
       "        text-align: right;\n",
       "    }\n",
       "</style>\n",
       "<table border=\"1\" class=\"dataframe\">\n",
       "  <thead>\n",
       "    <tr style=\"text-align: right;\">\n",
       "      <th></th>\n",
       "      <th>dummy</th>\n",
       "      <th>RFR</th>\n",
       "      <th>bagging</th>\n",
       "      <th>GradBoost</th>\n",
       "      <th>GS_RF_MSE</th>\n",
       "      <th>GS_RF_MAE</th>\n",
       "      <th>GS_RF_MAE2</th>\n",
       "      <th>rfr_op</th>\n",
       "      <th>GS_RF_MSE2</th>\n",
       "      <th>GS_bagging</th>\n",
       "      <th>bagging_op</th>\n",
       "      <th>GS_boosting</th>\n",
       "    </tr>\n",
       "  </thead>\n",
       "  <tbody>\n",
       "    <tr>\n",
       "      <th>score_train</th>\n",
       "      <td>0.000000</td>\n",
       "      <td>0.877199</td>\n",
       "      <td>0.818654</td>\n",
       "      <td>0.762934</td>\n",
       "      <td>0.574628</td>\n",
       "      <td>0.575958</td>\n",
       "      <td>0.565554</td>\n",
       "      <td>0.574628</td>\n",
       "      <td>0.501652</td>\n",
       "      <td>0.572994</td>\n",
       "      <td>0.572994</td>\n",
       "      <td>0.456235</td>\n",
       "    </tr>\n",
       "    <tr>\n",
       "      <th>score_test</th>\n",
       "      <td>-0.053387</td>\n",
       "      <td>0.112167</td>\n",
       "      <td>0.103615</td>\n",
       "      <td>0.264901</td>\n",
       "      <td>0.259833</td>\n",
       "      <td>0.241781</td>\n",
       "      <td>0.256861</td>\n",
       "      <td>0.259833</td>\n",
       "      <td>0.206245</td>\n",
       "      <td>0.253086</td>\n",
       "      <td>0.253086</td>\n",
       "      <td>0.340277</td>\n",
       "    </tr>\n",
       "    <tr>\n",
       "      <th>rmse</th>\n",
       "      <td>0.069744</td>\n",
       "      <td>0.064029</td>\n",
       "      <td>0.064337</td>\n",
       "      <td>0.058262</td>\n",
       "      <td>0.058462</td>\n",
       "      <td>0.059171</td>\n",
       "      <td>0.058579</td>\n",
       "      <td>0.058462</td>\n",
       "      <td>0.060542</td>\n",
       "      <td>0.058728</td>\n",
       "      <td>0.058728</td>\n",
       "      <td>0.055194</td>\n",
       "    </tr>\n",
       "    <tr>\n",
       "      <th>mae</th>\n",
       "      <td>0.056825</td>\n",
       "      <td>0.048348</td>\n",
       "      <td>0.048128</td>\n",
       "      <td>0.045675</td>\n",
       "      <td>0.044952</td>\n",
       "      <td>0.045210</td>\n",
       "      <td>0.045153</td>\n",
       "      <td>0.044952</td>\n",
       "      <td>0.046327</td>\n",
       "      <td>0.045122</td>\n",
       "      <td>0.045122</td>\n",
       "      <td>0.045027</td>\n",
       "    </tr>\n",
       "  </tbody>\n",
       "</table>\n",
       "</div>"
      ],
      "text/plain": [
       "                dummy       RFR   bagging  GradBoost  GS_RF_MSE  GS_RF_MAE  \\\n",
       "score_train  0.000000  0.877199  0.818654   0.762934   0.574628   0.575958   \n",
       "score_test  -0.053387  0.112167  0.103615   0.264901   0.259833   0.241781   \n",
       "rmse         0.069744  0.064029  0.064337   0.058262   0.058462   0.059171   \n",
       "mae          0.056825  0.048348  0.048128   0.045675   0.044952   0.045210   \n",
       "\n",
       "             GS_RF_MAE2    rfr_op  GS_RF_MSE2  GS_bagging  bagging_op  \\\n",
       "score_train    0.565554  0.574628    0.501652    0.572994    0.572994   \n",
       "score_test     0.256861  0.259833    0.206245    0.253086    0.253086   \n",
       "rmse           0.058579  0.058462    0.060542    0.058728    0.058728   \n",
       "mae            0.045153  0.044952    0.046327    0.045122    0.045122   \n",
       "\n",
       "             GS_boosting  \n",
       "score_train     0.456235  \n",
       "score_test      0.340277  \n",
       "rmse            0.055194  \n",
       "mae             0.045027  "
      ]
     },
     "execution_count": 111,
     "metadata": {},
     "output_type": "execute_result"
    }
   ],
   "source": [
    "pd.DataFrame(fit_results,index=['score_train', 'score_test', 'rmse', 'mae'])"
   ]
  },
  {
   "cell_type": "code",
   "execution_count": 115,
   "metadata": {},
   "outputs": [
    {
     "data": {
      "text/plain": [
       "0.34027700046455256"
      ]
     },
     "execution_count": 115,
     "metadata": {},
     "output_type": "execute_result"
    }
   ],
   "source": [
    "model3 = GradientBoostingRegressor(loss='lad', max_depth=3, min_samples_leaf=10, subsample=0.33, random_state=8)\n",
    "fit_model(model3, 'boosting_op')"
   ]
  },
  {
   "cell_type": "code",
   "execution_count": 116,
   "metadata": {},
   "outputs": [],
   "source": [
    "gradboost_op_coefs = model3.feature_importances_"
   ]
  },
  {
   "cell_type": "code",
   "execution_count": 117,
   "metadata": {},
   "outputs": [
    {
     "data": {
      "text/html": [
       "<div>\n",
       "<style scoped>\n",
       "    .dataframe tbody tr th:only-of-type {\n",
       "        vertical-align: middle;\n",
       "    }\n",
       "\n",
       "    .dataframe tbody tr th {\n",
       "        vertical-align: top;\n",
       "    }\n",
       "\n",
       "    .dataframe thead th {\n",
       "        text-align: right;\n",
       "    }\n",
       "</style>\n",
       "<table border=\"1\" class=\"dataframe\">\n",
       "  <thead>\n",
       "    <tr style=\"text-align: right;\">\n",
       "      <th></th>\n",
       "      <th>score_train</th>\n",
       "      <th>score_test</th>\n",
       "      <th>rmse</th>\n",
       "      <th>mae</th>\n",
       "    </tr>\n",
       "  </thead>\n",
       "  <tbody>\n",
       "    <tr>\n",
       "      <th>GS_boosting</th>\n",
       "      <td>0.456235</td>\n",
       "      <td>0.340277</td>\n",
       "      <td>0.055194</td>\n",
       "      <td>0.045027</td>\n",
       "    </tr>\n",
       "    <tr>\n",
       "      <th>boosting_op</th>\n",
       "      <td>0.456235</td>\n",
       "      <td>0.340277</td>\n",
       "      <td>0.055194</td>\n",
       "      <td>0.045027</td>\n",
       "    </tr>\n",
       "    <tr>\n",
       "      <th>GradBoost</th>\n",
       "      <td>0.762934</td>\n",
       "      <td>0.264901</td>\n",
       "      <td>0.058262</td>\n",
       "      <td>0.045675</td>\n",
       "    </tr>\n",
       "    <tr>\n",
       "      <th>GS_RF_MSE</th>\n",
       "      <td>0.574628</td>\n",
       "      <td>0.259833</td>\n",
       "      <td>0.058462</td>\n",
       "      <td>0.044952</td>\n",
       "    </tr>\n",
       "    <tr>\n",
       "      <th>rfr_op</th>\n",
       "      <td>0.574628</td>\n",
       "      <td>0.259833</td>\n",
       "      <td>0.058462</td>\n",
       "      <td>0.044952</td>\n",
       "    </tr>\n",
       "    <tr>\n",
       "      <th>GS_RF_MAE2</th>\n",
       "      <td>0.565554</td>\n",
       "      <td>0.256861</td>\n",
       "      <td>0.058579</td>\n",
       "      <td>0.045153</td>\n",
       "    </tr>\n",
       "    <tr>\n",
       "      <th>GS_bagging</th>\n",
       "      <td>0.572994</td>\n",
       "      <td>0.253086</td>\n",
       "      <td>0.058728</td>\n",
       "      <td>0.045122</td>\n",
       "    </tr>\n",
       "    <tr>\n",
       "      <th>bagging_op</th>\n",
       "      <td>0.572994</td>\n",
       "      <td>0.253086</td>\n",
       "      <td>0.058728</td>\n",
       "      <td>0.045122</td>\n",
       "    </tr>\n",
       "    <tr>\n",
       "      <th>GS_RF_MAE</th>\n",
       "      <td>0.575958</td>\n",
       "      <td>0.241781</td>\n",
       "      <td>0.059171</td>\n",
       "      <td>0.045210</td>\n",
       "    </tr>\n",
       "    <tr>\n",
       "      <th>GS_RF_MSE2</th>\n",
       "      <td>0.501652</td>\n",
       "      <td>0.206245</td>\n",
       "      <td>0.060542</td>\n",
       "      <td>0.046327</td>\n",
       "    </tr>\n",
       "    <tr>\n",
       "      <th>RFR</th>\n",
       "      <td>0.877199</td>\n",
       "      <td>0.112167</td>\n",
       "      <td>0.064029</td>\n",
       "      <td>0.048348</td>\n",
       "    </tr>\n",
       "    <tr>\n",
       "      <th>bagging</th>\n",
       "      <td>0.818654</td>\n",
       "      <td>0.103615</td>\n",
       "      <td>0.064337</td>\n",
       "      <td>0.048128</td>\n",
       "    </tr>\n",
       "    <tr>\n",
       "      <th>dummy</th>\n",
       "      <td>0.000000</td>\n",
       "      <td>-0.053387</td>\n",
       "      <td>0.069744</td>\n",
       "      <td>0.056825</td>\n",
       "    </tr>\n",
       "  </tbody>\n",
       "</table>\n",
       "</div>"
      ],
      "text/plain": [
       "             score_train  score_test      rmse       mae\n",
       "GS_boosting     0.456235    0.340277  0.055194  0.045027\n",
       "boosting_op     0.456235    0.340277  0.055194  0.045027\n",
       "GradBoost       0.762934    0.264901  0.058262  0.045675\n",
       "GS_RF_MSE       0.574628    0.259833  0.058462  0.044952\n",
       "rfr_op          0.574628    0.259833  0.058462  0.044952\n",
       "GS_RF_MAE2      0.565554    0.256861  0.058579  0.045153\n",
       "GS_bagging      0.572994    0.253086  0.058728  0.045122\n",
       "bagging_op      0.572994    0.253086  0.058728  0.045122\n",
       "GS_RF_MAE       0.575958    0.241781  0.059171  0.045210\n",
       "GS_RF_MSE2      0.501652    0.206245  0.060542  0.046327\n",
       "RFR             0.877199    0.112167  0.064029  0.048348\n",
       "bagging         0.818654    0.103615  0.064337  0.048128\n",
       "dummy           0.000000   -0.053387  0.069744  0.056825"
      ]
     },
     "execution_count": 117,
     "metadata": {},
     "output_type": "execute_result"
    }
   ],
   "source": [
    "models_scores = pd.DataFrame(fit_results,index=['score_train', 'score_test', 'rmse', 'mae']).T.sort_values(by='score_test', ascending = False)\n",
    "models_scores"
   ]
  },
  {
   "cell_type": "markdown",
   "metadata": {},
   "source": [
    "## Feature Imporances"
   ]
  },
  {
   "cell_type": "code",
   "execution_count": 118,
   "metadata": {},
   "outputs": [],
   "source": [
    "model_coefs = pd.DataFrame(data={'RFR':rf_coefs, 'RFR_op':rf_op_coefs, 'bagging':list(bagging_coefs), \"bagging_op\":list(bagging_op_coefs), 'gradboost':gradboost_coefs, 'gradboost_op':gradboost_op_coefs},index=X0.columns).round(decimals=3)"
   ]
  },
  {
   "cell_type": "code",
   "execution_count": 120,
   "metadata": {},
   "outputs": [
    {
     "data": {
      "text/html": [
       "<div>\n",
       "<style scoped>\n",
       "    .dataframe tbody tr th:only-of-type {\n",
       "        vertical-align: middle;\n",
       "    }\n",
       "\n",
       "    .dataframe tbody tr th {\n",
       "        vertical-align: top;\n",
       "    }\n",
       "\n",
       "    .dataframe thead th {\n",
       "        text-align: right;\n",
       "    }\n",
       "</style>\n",
       "<table border=\"1\" class=\"dataframe\">\n",
       "  <thead>\n",
       "    <tr style=\"text-align: right;\">\n",
       "      <th></th>\n",
       "      <th>RFR</th>\n",
       "      <th>RFR_op</th>\n",
       "      <th>bagging</th>\n",
       "      <th>bagging_op</th>\n",
       "      <th>gradboost</th>\n",
       "      <th>gradboost_op</th>\n",
       "    </tr>\n",
       "  </thead>\n",
       "  <tbody>\n",
       "    <tr>\n",
       "      <th>Households Served by Municipal Recycling Program</th>\n",
       "      <td>0.160</td>\n",
       "      <td>0.158</td>\n",
       "      <td>0.163</td>\n",
       "      <td>0.158</td>\n",
       "      <td>0.160</td>\n",
       "      <td>0.240</td>\n",
       "    </tr>\n",
       "    <tr>\n",
       "      <th>Tip Fee as of 1/1/2020</th>\n",
       "      <td>0.162</td>\n",
       "      <td>0.153</td>\n",
       "      <td>0.147</td>\n",
       "      <td>0.153</td>\n",
       "      <td>0.162</td>\n",
       "      <td>0.180</td>\n",
       "    </tr>\n",
       "    <tr>\n",
       "      <th>PAYT/ SMART</th>\n",
       "      <td>0.218</td>\n",
       "      <td>0.211</td>\n",
       "      <td>0.218</td>\n",
       "      <td>0.211</td>\n",
       "      <td>0.218</td>\n",
       "      <td>0.094</td>\n",
       "    </tr>\n",
       "    <tr>\n",
       "      <th>What is the annual fee?</th>\n",
       "      <td>0.041</td>\n",
       "      <td>0.043</td>\n",
       "      <td>0.040</td>\n",
       "      <td>0.042</td>\n",
       "      <td>0.041</td>\n",
       "      <td>0.050</td>\n",
       "    </tr>\n",
       "    <tr>\n",
       "      <th>Fee for bulky waste?</th>\n",
       "      <td>0.013</td>\n",
       "      <td>0.014</td>\n",
       "      <td>0.011</td>\n",
       "      <td>0.013</td>\n",
       "      <td>0.013</td>\n",
       "      <td>0.036</td>\n",
       "    </tr>\n",
       "    <tr>\n",
       "      <th>Does trash disposal tonnage include bulky waste?</th>\n",
       "      <td>0.021</td>\n",
       "      <td>0.017</td>\n",
       "      <td>0.027</td>\n",
       "      <td>0.016</td>\n",
       "      <td>0.021</td>\n",
       "      <td>0.031</td>\n",
       "    </tr>\n",
       "    <tr>\n",
       "      <th>Applies to Residential Generators Eligible to be Served by Municipal Program</th>\n",
       "      <td>0.018</td>\n",
       "      <td>0.018</td>\n",
       "      <td>0.012</td>\n",
       "      <td>0.018</td>\n",
       "      <td>0.018</td>\n",
       "      <td>0.029</td>\n",
       "    </tr>\n",
       "    <tr>\n",
       "      <th>Recycling Collection Frequency_Weekly</th>\n",
       "      <td>0.022</td>\n",
       "      <td>0.023</td>\n",
       "      <td>0.016</td>\n",
       "      <td>0.023</td>\n",
       "      <td>0.022</td>\n",
       "      <td>0.028</td>\n",
       "    </tr>\n",
       "    <tr>\n",
       "      <th>Recycle Bin Size Ranking</th>\n",
       "      <td>0.021</td>\n",
       "      <td>0.019</td>\n",
       "      <td>0.018</td>\n",
       "      <td>0.020</td>\n",
       "      <td>0.021</td>\n",
       "      <td>0.027</td>\n",
       "    </tr>\n",
       "    <tr>\n",
       "      <th>Recycling Collection Frequency_Bi-weekly</th>\n",
       "      <td>0.008</td>\n",
       "      <td>0.012</td>\n",
       "      <td>0.008</td>\n",
       "      <td>0.012</td>\n",
       "      <td>0.008</td>\n",
       "      <td>0.024</td>\n",
       "    </tr>\n",
       "    <tr>\n",
       "      <th>What is the transfer station access fee?</th>\n",
       "      <td>0.058</td>\n",
       "      <td>0.053</td>\n",
       "      <td>0.076</td>\n",
       "      <td>0.054</td>\n",
       "      <td>0.058</td>\n",
       "      <td>0.023</td>\n",
       "    </tr>\n",
       "    <tr>\n",
       "      <th>Trash Service Type_Curbside</th>\n",
       "      <td>0.009</td>\n",
       "      <td>0.010</td>\n",
       "      <td>0.009</td>\n",
       "      <td>0.011</td>\n",
       "      <td>0.009</td>\n",
       "      <td>0.021</td>\n",
       "    </tr>\n",
       "    <tr>\n",
       "      <th>Recycling Enforced by Muni</th>\n",
       "      <td>0.009</td>\n",
       "      <td>0.012</td>\n",
       "      <td>0.011</td>\n",
       "      <td>0.012</td>\n",
       "      <td>0.009</td>\n",
       "      <td>0.021</td>\n",
       "    </tr>\n",
       "    <tr>\n",
       "      <th>Carts for Recycling</th>\n",
       "      <td>0.009</td>\n",
       "      <td>0.008</td>\n",
       "      <td>0.005</td>\n",
       "      <td>0.007</td>\n",
       "      <td>0.009</td>\n",
       "      <td>0.020</td>\n",
       "    </tr>\n",
       "    <tr>\n",
       "      <th>SS Recycling</th>\n",
       "      <td>0.015</td>\n",
       "      <td>0.016</td>\n",
       "      <td>0.016</td>\n",
       "      <td>0.016</td>\n",
       "      <td>0.015</td>\n",
       "      <td>0.018</td>\n",
       "    </tr>\n",
       "    <tr>\n",
       "      <th>Business Trash and Recycling Service_Both</th>\n",
       "      <td>0.015</td>\n",
       "      <td>0.014</td>\n",
       "      <td>0.022</td>\n",
       "      <td>0.014</td>\n",
       "      <td>0.015</td>\n",
       "      <td>0.017</td>\n",
       "    </tr>\n",
       "    <tr>\n",
       "      <th>Solid Waste program funded by property tax?</th>\n",
       "      <td>0.010</td>\n",
       "      <td>0.012</td>\n",
       "      <td>0.010</td>\n",
       "      <td>0.011</td>\n",
       "      <td>0.010</td>\n",
       "      <td>0.015</td>\n",
       "    </tr>\n",
       "    <tr>\n",
       "      <th>Private Hauler regulations that require recycling</th>\n",
       "      <td>0.015</td>\n",
       "      <td>0.016</td>\n",
       "      <td>0.018</td>\n",
       "      <td>0.016</td>\n",
       "      <td>0.015</td>\n",
       "      <td>0.014</td>\n",
       "    </tr>\n",
       "    <tr>\n",
       "      <th>School Trash and Recycling Service_Both</th>\n",
       "      <td>0.010</td>\n",
       "      <td>0.013</td>\n",
       "      <td>0.011</td>\n",
       "      <td>0.013</td>\n",
       "      <td>0.010</td>\n",
       "      <td>0.014</td>\n",
       "    </tr>\n",
       "    <tr>\n",
       "      <th>Recycling Service Type_Both</th>\n",
       "      <td>0.005</td>\n",
       "      <td>0.006</td>\n",
       "      <td>0.007</td>\n",
       "      <td>0.006</td>\n",
       "      <td>0.005</td>\n",
       "      <td>0.013</td>\n",
       "    </tr>\n",
       "    <tr>\n",
       "      <th>Maximum # bags/ barrels per week</th>\n",
       "      <td>0.023</td>\n",
       "      <td>0.021</td>\n",
       "      <td>0.029</td>\n",
       "      <td>0.021</td>\n",
       "      <td>0.023</td>\n",
       "      <td>0.012</td>\n",
       "    </tr>\n",
       "    <tr>\n",
       "      <th>Applies to Commercial Generators</th>\n",
       "      <td>0.006</td>\n",
       "      <td>0.008</td>\n",
       "      <td>0.005</td>\n",
       "      <td>0.008</td>\n",
       "      <td>0.006</td>\n",
       "      <td>0.012</td>\n",
       "    </tr>\n",
       "    <tr>\n",
       "      <th>Recycling Enforced by Hauler</th>\n",
       "      <td>0.014</td>\n",
       "      <td>0.013</td>\n",
       "      <td>0.010</td>\n",
       "      <td>0.013</td>\n",
       "      <td>0.014</td>\n",
       "      <td>0.010</td>\n",
       "    </tr>\n",
       "    <tr>\n",
       "      <th>Carts for Trash</th>\n",
       "      <td>0.008</td>\n",
       "      <td>0.007</td>\n",
       "      <td>0.007</td>\n",
       "      <td>0.007</td>\n",
       "      <td>0.008</td>\n",
       "      <td>0.010</td>\n",
       "    </tr>\n",
       "    <tr>\n",
       "      <th>Applies to Residential Generators not Eligible to be Served by the Municipal Program</th>\n",
       "      <td>0.008</td>\n",
       "      <td>0.010</td>\n",
       "      <td>0.009</td>\n",
       "      <td>0.010</td>\n",
       "      <td>0.008</td>\n",
       "      <td>0.010</td>\n",
       "    </tr>\n",
       "    <tr>\n",
       "      <th>Trash Enforced by Hauler</th>\n",
       "      <td>0.002</td>\n",
       "      <td>0.003</td>\n",
       "      <td>0.005</td>\n",
       "      <td>0.002</td>\n",
       "      <td>0.002</td>\n",
       "      <td>0.009</td>\n",
       "    </tr>\n",
       "    <tr>\n",
       "      <th>Solid Waste program funded by transfer station access fee?</th>\n",
       "      <td>0.004</td>\n",
       "      <td>0.008</td>\n",
       "      <td>0.002</td>\n",
       "      <td>0.007</td>\n",
       "      <td>0.004</td>\n",
       "      <td>0.006</td>\n",
       "    </tr>\n",
       "    <tr>\n",
       "      <th>Non-resident Trash and Recycling Service_Both</th>\n",
       "      <td>0.010</td>\n",
       "      <td>0.015</td>\n",
       "      <td>0.004</td>\n",
       "      <td>0.015</td>\n",
       "      <td>0.010</td>\n",
       "      <td>0.005</td>\n",
       "    </tr>\n",
       "    <tr>\n",
       "      <th>Recycling Service Type_Curbside</th>\n",
       "      <td>0.007</td>\n",
       "      <td>0.008</td>\n",
       "      <td>0.014</td>\n",
       "      <td>0.008</td>\n",
       "      <td>0.007</td>\n",
       "      <td>0.004</td>\n",
       "    </tr>\n",
       "    <tr>\n",
       "      <th>Dedicated Mandatory Recycling Enforcement Personnel</th>\n",
       "      <td>0.003</td>\n",
       "      <td>0.003</td>\n",
       "      <td>0.001</td>\n",
       "      <td>0.004</td>\n",
       "      <td>0.003</td>\n",
       "      <td>0.003</td>\n",
       "    </tr>\n",
       "    <tr>\n",
       "      <th>Trash Service Type_Both</th>\n",
       "      <td>0.005</td>\n",
       "      <td>0.008</td>\n",
       "      <td>0.004</td>\n",
       "      <td>0.008</td>\n",
       "      <td>0.005</td>\n",
       "      <td>0.003</td>\n",
       "    </tr>\n",
       "    <tr>\n",
       "      <th>Trash Enforced by Muni</th>\n",
       "      <td>0.006</td>\n",
       "      <td>0.005</td>\n",
       "      <td>0.005</td>\n",
       "      <td>0.005</td>\n",
       "      <td>0.006</td>\n",
       "      <td>0.002</td>\n",
       "    </tr>\n",
       "    <tr>\n",
       "      <th># Hours Enforcement Personnel on Street</th>\n",
       "      <td>0.006</td>\n",
       "      <td>0.006</td>\n",
       "      <td>0.006</td>\n",
       "      <td>0.007</td>\n",
       "      <td>0.006</td>\n",
       "      <td>0.000</td>\n",
       "    </tr>\n",
       "    <tr>\n",
       "      <th>Municipal Buildings Trash and Recycling Service_Both</th>\n",
       "      <td>0.006</td>\n",
       "      <td>0.003</td>\n",
       "      <td>0.002</td>\n",
       "      <td>0.003</td>\n",
       "      <td>0.006</td>\n",
       "      <td>0.000</td>\n",
       "    </tr>\n",
       "    <tr>\n",
       "      <th>What is the per-visit fee?</th>\n",
       "      <td>0.024</td>\n",
       "      <td>0.017</td>\n",
       "      <td>0.030</td>\n",
       "      <td>0.016</td>\n",
       "      <td>0.024</td>\n",
       "      <td>0.000</td>\n",
       "    </tr>\n",
       "    <tr>\n",
       "      <th>School Trash and Recycling Service_Recycling</th>\n",
       "      <td>0.005</td>\n",
       "      <td>0.005</td>\n",
       "      <td>0.007</td>\n",
       "      <td>0.005</td>\n",
       "      <td>0.005</td>\n",
       "      <td>0.000</td>\n",
       "    </tr>\n",
       "    <tr>\n",
       "      <th>Municipal Buildings Trash and Recycling Service_Recycling</th>\n",
       "      <td>0.001</td>\n",
       "      <td>0.003</td>\n",
       "      <td>0.003</td>\n",
       "      <td>0.003</td>\n",
       "      <td>0.001</td>\n",
       "      <td>0.000</td>\n",
       "    </tr>\n",
       "    <tr>\n",
       "      <th>Municipal Buildings Trash and Recycling Service_Trash</th>\n",
       "      <td>0.000</td>\n",
       "      <td>0.000</td>\n",
       "      <td>0.000</td>\n",
       "      <td>0.000</td>\n",
       "      <td>0.000</td>\n",
       "      <td>0.000</td>\n",
       "    </tr>\n",
       "    <tr>\n",
       "      <th>Business Trash and Recycling Service_Recycling</th>\n",
       "      <td>0.006</td>\n",
       "      <td>0.007</td>\n",
       "      <td>0.007</td>\n",
       "      <td>0.007</td>\n",
       "      <td>0.006</td>\n",
       "      <td>0.000</td>\n",
       "    </tr>\n",
       "    <tr>\n",
       "      <th>Dedicated Trash Enforcement Personnel</th>\n",
       "      <td>0.000</td>\n",
       "      <td>0.001</td>\n",
       "      <td>0.001</td>\n",
       "      <td>0.001</td>\n",
       "      <td>0.000</td>\n",
       "      <td>0.000</td>\n",
       "    </tr>\n",
       "    <tr>\n",
       "      <th>Non-resident Trash and Recycling Service_Recycling</th>\n",
       "      <td>0.004</td>\n",
       "      <td>0.009</td>\n",
       "      <td>0.000</td>\n",
       "      <td>0.009</td>\n",
       "      <td>0.004</td>\n",
       "      <td>0.000</td>\n",
       "    </tr>\n",
       "    <tr>\n",
       "      <th>Non-resident Trash and Recycling Service_Trash</th>\n",
       "      <td>0.001</td>\n",
       "      <td>0.000</td>\n",
       "      <td>0.000</td>\n",
       "      <td>0.000</td>\n",
       "      <td>0.001</td>\n",
       "      <td>0.000</td>\n",
       "    </tr>\n",
       "    <tr>\n",
       "      <th>Annual Bulky Waste Limit</th>\n",
       "      <td>0.011</td>\n",
       "      <td>0.014</td>\n",
       "      <td>0.005</td>\n",
       "      <td>0.014</td>\n",
       "      <td>0.011</td>\n",
       "      <td>0.000</td>\n",
       "    </tr>\n",
       "  </tbody>\n",
       "</table>\n",
       "</div>"
      ],
      "text/plain": [
       "                                                      RFR  RFR_op  bagging  \\\n",
       "Households Served by Municipal Recycling Program    0.160   0.158    0.163   \n",
       "Tip Fee as of 1/1/2020                              0.162   0.153    0.147   \n",
       "PAYT/ SMART                                         0.218   0.211    0.218   \n",
       "What is the annual fee?                             0.041   0.043    0.040   \n",
       "Fee for bulky waste?                                0.013   0.014    0.011   \n",
       "Does trash disposal tonnage include bulky waste?    0.021   0.017    0.027   \n",
       "Applies to Residential Generators Eligible to b...  0.018   0.018    0.012   \n",
       "Recycling Collection Frequency_Weekly               0.022   0.023    0.016   \n",
       "Recycle Bin Size Ranking                            0.021   0.019    0.018   \n",
       "Recycling Collection Frequency_Bi-weekly            0.008   0.012    0.008   \n",
       "What is the transfer station access fee?            0.058   0.053    0.076   \n",
       "Trash Service Type_Curbside                         0.009   0.010    0.009   \n",
       "Recycling Enforced by Muni                          0.009   0.012    0.011   \n",
       "Carts for Recycling                                 0.009   0.008    0.005   \n",
       "SS Recycling                                        0.015   0.016    0.016   \n",
       "Business Trash and Recycling Service_Both           0.015   0.014    0.022   \n",
       "Solid Waste program funded by property tax?         0.010   0.012    0.010   \n",
       "Private Hauler regulations that require recycling   0.015   0.016    0.018   \n",
       "School Trash and Recycling Service_Both             0.010   0.013    0.011   \n",
       "Recycling Service Type_Both                         0.005   0.006    0.007   \n",
       "Maximum # bags/ barrels per week                    0.023   0.021    0.029   \n",
       "Applies to Commercial Generators                    0.006   0.008    0.005   \n",
       "Recycling Enforced by Hauler                        0.014   0.013    0.010   \n",
       "Carts for Trash                                     0.008   0.007    0.007   \n",
       "Applies to Residential Generators not Eligible ...  0.008   0.010    0.009   \n",
       "Trash Enforced by Hauler                            0.002   0.003    0.005   \n",
       "Solid Waste program funded by transfer station ...  0.004   0.008    0.002   \n",
       "Non-resident Trash and Recycling Service_Both       0.010   0.015    0.004   \n",
       "Recycling Service Type_Curbside                     0.007   0.008    0.014   \n",
       "Dedicated Mandatory Recycling Enforcement Perso...  0.003   0.003    0.001   \n",
       "Trash Service Type_Both                             0.005   0.008    0.004   \n",
       "Trash Enforced by Muni                              0.006   0.005    0.005   \n",
       "# Hours Enforcement Personnel on Street             0.006   0.006    0.006   \n",
       "Municipal Buildings Trash and Recycling Service...  0.006   0.003    0.002   \n",
       "What is the per-visit fee?                          0.024   0.017    0.030   \n",
       "School Trash and Recycling Service_Recycling        0.005   0.005    0.007   \n",
       "Municipal Buildings Trash and Recycling Service...  0.001   0.003    0.003   \n",
       "Municipal Buildings Trash and Recycling Service...  0.000   0.000    0.000   \n",
       "Business Trash and Recycling Service_Recycling      0.006   0.007    0.007   \n",
       "Dedicated Trash Enforcement Personnel               0.000   0.001    0.001   \n",
       "Non-resident Trash and Recycling Service_Recycling  0.004   0.009    0.000   \n",
       "Non-resident Trash and Recycling Service_Trash      0.001   0.000    0.000   \n",
       "Annual Bulky Waste Limit                            0.011   0.014    0.005   \n",
       "\n",
       "                                                    bagging_op  gradboost  \\\n",
       "Households Served by Municipal Recycling Program         0.158      0.160   \n",
       "Tip Fee as of 1/1/2020                                   0.153      0.162   \n",
       "PAYT/ SMART                                              0.211      0.218   \n",
       "What is the annual fee?                                  0.042      0.041   \n",
       "Fee for bulky waste?                                     0.013      0.013   \n",
       "Does trash disposal tonnage include bulky waste?         0.016      0.021   \n",
       "Applies to Residential Generators Eligible to b...       0.018      0.018   \n",
       "Recycling Collection Frequency_Weekly                    0.023      0.022   \n",
       "Recycle Bin Size Ranking                                 0.020      0.021   \n",
       "Recycling Collection Frequency_Bi-weekly                 0.012      0.008   \n",
       "What is the transfer station access fee?                 0.054      0.058   \n",
       "Trash Service Type_Curbside                              0.011      0.009   \n",
       "Recycling Enforced by Muni                               0.012      0.009   \n",
       "Carts for Recycling                                      0.007      0.009   \n",
       "SS Recycling                                             0.016      0.015   \n",
       "Business Trash and Recycling Service_Both                0.014      0.015   \n",
       "Solid Waste program funded by property tax?              0.011      0.010   \n",
       "Private Hauler regulations that require recycling        0.016      0.015   \n",
       "School Trash and Recycling Service_Both                  0.013      0.010   \n",
       "Recycling Service Type_Both                              0.006      0.005   \n",
       "Maximum # bags/ barrels per week                         0.021      0.023   \n",
       "Applies to Commercial Generators                         0.008      0.006   \n",
       "Recycling Enforced by Hauler                             0.013      0.014   \n",
       "Carts for Trash                                          0.007      0.008   \n",
       "Applies to Residential Generators not Eligible ...       0.010      0.008   \n",
       "Trash Enforced by Hauler                                 0.002      0.002   \n",
       "Solid Waste program funded by transfer station ...       0.007      0.004   \n",
       "Non-resident Trash and Recycling Service_Both            0.015      0.010   \n",
       "Recycling Service Type_Curbside                          0.008      0.007   \n",
       "Dedicated Mandatory Recycling Enforcement Perso...       0.004      0.003   \n",
       "Trash Service Type_Both                                  0.008      0.005   \n",
       "Trash Enforced by Muni                                   0.005      0.006   \n",
       "# Hours Enforcement Personnel on Street                  0.007      0.006   \n",
       "Municipal Buildings Trash and Recycling Service...       0.003      0.006   \n",
       "What is the per-visit fee?                               0.016      0.024   \n",
       "School Trash and Recycling Service_Recycling             0.005      0.005   \n",
       "Municipal Buildings Trash and Recycling Service...       0.003      0.001   \n",
       "Municipal Buildings Trash and Recycling Service...       0.000      0.000   \n",
       "Business Trash and Recycling Service_Recycling           0.007      0.006   \n",
       "Dedicated Trash Enforcement Personnel                    0.001      0.000   \n",
       "Non-resident Trash and Recycling Service_Recycling       0.009      0.004   \n",
       "Non-resident Trash and Recycling Service_Trash           0.000      0.001   \n",
       "Annual Bulky Waste Limit                                 0.014      0.011   \n",
       "\n",
       "                                                    gradboost_op  \n",
       "Households Served by Municipal Recycling Program           0.240  \n",
       "Tip Fee as of 1/1/2020                                     0.180  \n",
       "PAYT/ SMART                                                0.094  \n",
       "What is the annual fee?                                    0.050  \n",
       "Fee for bulky waste?                                       0.036  \n",
       "Does trash disposal tonnage include bulky waste?           0.031  \n",
       "Applies to Residential Generators Eligible to b...         0.029  \n",
       "Recycling Collection Frequency_Weekly                      0.028  \n",
       "Recycle Bin Size Ranking                                   0.027  \n",
       "Recycling Collection Frequency_Bi-weekly                   0.024  \n",
       "What is the transfer station access fee?                   0.023  \n",
       "Trash Service Type_Curbside                                0.021  \n",
       "Recycling Enforced by Muni                                 0.021  \n",
       "Carts for Recycling                                        0.020  \n",
       "SS Recycling                                               0.018  \n",
       "Business Trash and Recycling Service_Both                  0.017  \n",
       "Solid Waste program funded by property tax?                0.015  \n",
       "Private Hauler regulations that require recycling          0.014  \n",
       "School Trash and Recycling Service_Both                    0.014  \n",
       "Recycling Service Type_Both                                0.013  \n",
       "Maximum # bags/ barrels per week                           0.012  \n",
       "Applies to Commercial Generators                           0.012  \n",
       "Recycling Enforced by Hauler                               0.010  \n",
       "Carts for Trash                                            0.010  \n",
       "Applies to Residential Generators not Eligible ...         0.010  \n",
       "Trash Enforced by Hauler                                   0.009  \n",
       "Solid Waste program funded by transfer station ...         0.006  \n",
       "Non-resident Trash and Recycling Service_Both              0.005  \n",
       "Recycling Service Type_Curbside                            0.004  \n",
       "Dedicated Mandatory Recycling Enforcement Perso...         0.003  \n",
       "Trash Service Type_Both                                    0.003  \n",
       "Trash Enforced by Muni                                     0.002  \n",
       "# Hours Enforcement Personnel on Street                    0.000  \n",
       "Municipal Buildings Trash and Recycling Service...         0.000  \n",
       "What is the per-visit fee?                                 0.000  \n",
       "School Trash and Recycling Service_Recycling               0.000  \n",
       "Municipal Buildings Trash and Recycling Service...         0.000  \n",
       "Municipal Buildings Trash and Recycling Service...         0.000  \n",
       "Business Trash and Recycling Service_Recycling             0.000  \n",
       "Dedicated Trash Enforcement Personnel                      0.000  \n",
       "Non-resident Trash and Recycling Service_Recycling         0.000  \n",
       "Non-resident Trash and Recycling Service_Trash             0.000  \n",
       "Annual Bulky Waste Limit                                   0.000  "
      ]
     },
     "execution_count": 120,
     "metadata": {},
     "output_type": "execute_result"
    }
   ],
   "source": [
    "model_coefs = model_coefs.sort_values(by='gradboost_op', ascending=False)\n",
    "model_coefs"
   ]
  },
  {
   "cell_type": "markdown",
   "metadata": {},
   "source": [
    "## Next Steps:\n",
    "\n",
    "Part 4 will go over a similar approach but within each cluster derived in Part 2."
   ]
  },
  {
   "cell_type": "code",
   "execution_count": 121,
   "metadata": {},
   "outputs": [],
   "source": [
    "# # For saving files\n",
    "\n",
    "# model_coefs.to_csv('data/baseline_models_coefs2.csv', index=True)\n",
    "# models_scores.to_csv('data/baseline_models_scores2.csv', index=True)"
   ]
  },
  {
   "cell_type": "code",
   "execution_count": null,
   "metadata": {},
   "outputs": [],
   "source": []
  }
 ],
 "metadata": {
  "kernelspec": {
   "display_name": "Python 3",
   "language": "python",
   "name": "python3"
  },
  "language_info": {
   "codemirror_mode": {
    "name": "ipython",
    "version": 3
   },
   "file_extension": ".py",
   "mimetype": "text/x-python",
   "name": "python",
   "nbconvert_exporter": "python",
   "pygments_lexer": "ipython3",
   "version": "3.8.3"
  }
 },
 "nbformat": 4,
 "nbformat_minor": 4
}
