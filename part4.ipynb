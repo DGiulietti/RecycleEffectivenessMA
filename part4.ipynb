{
 "cells": [
  {
   "cell_type": "markdown",
   "metadata": {},
   "source": [
    "# Recycling Effectiveness in MA\n",
    "\n",
    "### *Part 4: Assessing & Selecting Clustering Scheme and Comparing the Predictive Models of the Population & the Clusters*\n"
   ]
  },
  {
   "cell_type": "code",
   "execution_count": 43,
   "metadata": {},
   "outputs": [],
   "source": [
    "import numpy as np\n",
    "import pandas as pd\n",
    "import plotly.graph_objects as go\n",
    "from plotly.graph_objs import *"
   ]
  },
  {
   "cell_type": "markdown",
   "metadata": {},
   "source": [
    "## Import and Inspection of Data"
   ]
  },
  {
   "cell_type": "code",
   "execution_count": 44,
   "metadata": {},
   "outputs": [],
   "source": [
    "# Import summary data for municipal waste tonnages in 2019\n",
    "\n",
    "tonnages19 = pd.read_csv('data/MA_MSW_Collection_Data/musum19.csv', index_col='Municipality Name')"
   ]
  },
  {
   "cell_type": "code",
   "execution_count": 45,
   "metadata": {},
   "outputs": [
    {
     "data": {
      "text/html": [
       "<div>\n",
       "<style scoped>\n",
       "    .dataframe tbody tr th:only-of-type {\n",
       "        vertical-align: middle;\n",
       "    }\n",
       "\n",
       "    .dataframe tbody tr th {\n",
       "        vertical-align: top;\n",
       "    }\n",
       "\n",
       "    .dataframe thead th {\n",
       "        text-align: right;\n",
       "    }\n",
       "</style>\n",
       "<table border=\"1\" class=\"dataframe\">\n",
       "  <thead>\n",
       "    <tr style=\"text-align: right;\">\n",
       "      <th></th>\n",
       "      <th>tot_households</th>\n",
       "      <th>stream_type</th>\n",
       "      <th>tons_ss_recyclables</th>\n",
       "      <th>tons_ms_recyclables</th>\n",
       "      <th>tons_recyclables_total</th>\n",
       "      <th>hh_served_by_mu_recycle</th>\n",
       "      <th>tons_recyclables/hh</th>\n",
       "      <th>hh_served_by_mu_trash</th>\n",
       "      <th>tons_trash_total</th>\n",
       "      <th>tons_trash/hh</th>\n",
       "      <th>%recycle/hh</th>\n",
       "      <th>total_waste/hh</th>\n",
       "    </tr>\n",
       "    <tr>\n",
       "      <th>Municipality Name</th>\n",
       "      <th></th>\n",
       "      <th></th>\n",
       "      <th></th>\n",
       "      <th></th>\n",
       "      <th></th>\n",
       "      <th></th>\n",
       "      <th></th>\n",
       "      <th></th>\n",
       "      <th></th>\n",
       "      <th></th>\n",
       "      <th></th>\n",
       "      <th></th>\n",
       "    </tr>\n",
       "  </thead>\n",
       "  <tbody>\n",
       "    <tr>\n",
       "      <th>Abington</th>\n",
       "      <td>6558.0</td>\n",
       "      <td>ss</td>\n",
       "      <td>1413.42</td>\n",
       "      <td>0.00</td>\n",
       "      <td>1413.42</td>\n",
       "      <td>4486.0</td>\n",
       "      <td>0.315074</td>\n",
       "      <td>4486.0</td>\n",
       "      <td>3826.66</td>\n",
       "      <td>0.853023</td>\n",
       "      <td>0.269733</td>\n",
       "      <td>1.168096</td>\n",
       "    </tr>\n",
       "    <tr>\n",
       "      <th>Acton</th>\n",
       "      <td>9800.0</td>\n",
       "      <td>ms</td>\n",
       "      <td>0.00</td>\n",
       "      <td>1090.31</td>\n",
       "      <td>1090.31</td>\n",
       "      <td>4335.0</td>\n",
       "      <td>0.251513</td>\n",
       "      <td>3846.0</td>\n",
       "      <td>2148.67</td>\n",
       "      <td>0.558677</td>\n",
       "      <td>0.310437</td>\n",
       "      <td>0.810190</td>\n",
       "    </tr>\n",
       "    <tr>\n",
       "      <th>Acushnet</th>\n",
       "      <td>4304.0</td>\n",
       "      <td>ss+</td>\n",
       "      <td>879.50</td>\n",
       "      <td>68.04</td>\n",
       "      <td>947.54</td>\n",
       "      <td>3591.0</td>\n",
       "      <td>0.263865</td>\n",
       "      <td>3591.0</td>\n",
       "      <td>3446.38</td>\n",
       "      <td>0.959727</td>\n",
       "      <td>0.215648</td>\n",
       "      <td>1.223592</td>\n",
       "    </tr>\n",
       "    <tr>\n",
       "      <th>Adams</th>\n",
       "      <td>3867.0</td>\n",
       "      <td>ms</td>\n",
       "      <td>0.00</td>\n",
       "      <td>139.61</td>\n",
       "      <td>139.61</td>\n",
       "      <td>664.0</td>\n",
       "      <td>0.210256</td>\n",
       "      <td>664.0</td>\n",
       "      <td>134.47</td>\n",
       "      <td>0.202515</td>\n",
       "      <td>0.509377</td>\n",
       "      <td>0.412771</td>\n",
       "    </tr>\n",
       "    <tr>\n",
       "      <th>Agawam</th>\n",
       "      <td>12031.0</td>\n",
       "      <td>ss</td>\n",
       "      <td>2238.00</td>\n",
       "      <td>0.00</td>\n",
       "      <td>2238.00</td>\n",
       "      <td>8879.0</td>\n",
       "      <td>0.252055</td>\n",
       "      <td>8879.0</td>\n",
       "      <td>6717.17</td>\n",
       "      <td>0.756523</td>\n",
       "      <td>0.249912</td>\n",
       "      <td>1.008579</td>\n",
       "    </tr>\n",
       "  </tbody>\n",
       "</table>\n",
       "</div>"
      ],
      "text/plain": [
       "                   tot_households stream_type  tons_ss_recyclables  \\\n",
       "Municipality Name                                                    \n",
       "Abington                   6558.0          ss              1413.42   \n",
       "Acton                      9800.0          ms                 0.00   \n",
       "Acushnet                   4304.0         ss+               879.50   \n",
       "Adams                      3867.0          ms                 0.00   \n",
       "Agawam                    12031.0          ss              2238.00   \n",
       "\n",
       "                   tons_ms_recyclables  tons_recyclables_total  \\\n",
       "Municipality Name                                                \n",
       "Abington                          0.00                 1413.42   \n",
       "Acton                          1090.31                 1090.31   \n",
       "Acushnet                         68.04                  947.54   \n",
       "Adams                           139.61                  139.61   \n",
       "Agawam                            0.00                 2238.00   \n",
       "\n",
       "                   hh_served_by_mu_recycle  tons_recyclables/hh  \\\n",
       "Municipality Name                                                 \n",
       "Abington                            4486.0             0.315074   \n",
       "Acton                               4335.0             0.251513   \n",
       "Acushnet                            3591.0             0.263865   \n",
       "Adams                                664.0             0.210256   \n",
       "Agawam                              8879.0             0.252055   \n",
       "\n",
       "                   hh_served_by_mu_trash  tons_trash_total  tons_trash/hh  \\\n",
       "Municipality Name                                                           \n",
       "Abington                          4486.0           3826.66       0.853023   \n",
       "Acton                             3846.0           2148.67       0.558677   \n",
       "Acushnet                          3591.0           3446.38       0.959727   \n",
       "Adams                              664.0            134.47       0.202515   \n",
       "Agawam                            8879.0           6717.17       0.756523   \n",
       "\n",
       "                   %recycle/hh  total_waste/hh  \n",
       "Municipality Name                               \n",
       "Abington              0.269733        1.168096  \n",
       "Acton                 0.310437        0.810190  \n",
       "Acushnet              0.215648        1.223592  \n",
       "Adams                 0.509377        0.412771  \n",
       "Agawam                0.249912        1.008579  "
      ]
     },
     "execution_count": 45,
     "metadata": {},
     "output_type": "execute_result"
    }
   ],
   "source": [
    "tonnages19.head(5)"
   ]
  },
  {
   "cell_type": "code",
   "execution_count": 46,
   "metadata": {},
   "outputs": [
    {
     "data": {
      "text/plain": [
       "(277, 12)"
      ]
     },
     "execution_count": 46,
     "metadata": {},
     "output_type": "execute_result"
    }
   ],
   "source": [
    "tonnages19.shape"
   ]
  },
  {
   "cell_type": "code",
   "execution_count": 47,
   "metadata": {},
   "outputs": [
    {
     "name": "stdout",
     "output_type": "stream",
     "text": [
      "<class 'pandas.core.frame.DataFrame'>\n",
      "Index: 277 entries, Abington to Yarmouth\n",
      "Data columns (total 12 columns):\n",
      " #   Column                   Non-Null Count  Dtype  \n",
      "---  ------                   --------------  -----  \n",
      " 0   tot_households           277 non-null    float64\n",
      " 1   stream_type              277 non-null    object \n",
      " 2   tons_ss_recyclables      277 non-null    float64\n",
      " 3   tons_ms_recyclables      277 non-null    float64\n",
      " 4   tons_recyclables_total   277 non-null    float64\n",
      " 5   hh_served_by_mu_recycle  277 non-null    float64\n",
      " 6   tons_recyclables/hh      277 non-null    float64\n",
      " 7   hh_served_by_mu_trash    271 non-null    float64\n",
      " 8   tons_trash_total         271 non-null    float64\n",
      " 9   tons_trash/hh            271 non-null    float64\n",
      " 10  %recycle/hh              271 non-null    float64\n",
      " 11  total_waste/hh           271 non-null    float64\n",
      "dtypes: float64(11), object(1)\n",
      "memory usage: 28.1+ KB\n"
     ]
    }
   ],
   "source": [
    "tonnages19.info()"
   ]
  },
  {
   "cell_type": "code",
   "execution_count": 48,
   "metadata": {},
   "outputs": [],
   "source": [
    "# import clustering data\n",
    "\n",
    "cluster = pd.read_csv('data/cluster_Data.csv', index_col='municipality')"
   ]
  },
  {
   "cell_type": "code",
   "execution_count": 49,
   "metadata": {},
   "outputs": [
    {
     "data": {
      "text/html": [
       "<div>\n",
       "<style scoped>\n",
       "    .dataframe tbody tr th:only-of-type {\n",
       "        vertical-align: middle;\n",
       "    }\n",
       "\n",
       "    .dataframe tbody tr th {\n",
       "        vertical-align: top;\n",
       "    }\n",
       "\n",
       "    .dataframe thead th {\n",
       "        text-align: right;\n",
       "    }\n",
       "</style>\n",
       "<table border=\"1\" class=\"dataframe\">\n",
       "  <thead>\n",
       "    <tr style=\"text-align: right;\">\n",
       "      <th></th>\n",
       "      <th>km_label</th>\n",
       "      <th>km_trimmed_label</th>\n",
       "      <th>km_s_label</th>\n",
       "      <th>hc_label</th>\n",
       "      <th>hc_s_label</th>\n",
       "      <th>hc_n5_label</th>\n",
       "      <th>km_n4_label</th>\n",
       "      <th>km_n5_label</th>\n",
       "    </tr>\n",
       "    <tr>\n",
       "      <th>municipality</th>\n",
       "      <th></th>\n",
       "      <th></th>\n",
       "      <th></th>\n",
       "      <th></th>\n",
       "      <th></th>\n",
       "      <th></th>\n",
       "      <th></th>\n",
       "      <th></th>\n",
       "    </tr>\n",
       "  </thead>\n",
       "  <tbody>\n",
       "    <tr>\n",
       "      <th>Sharon</th>\n",
       "      <td>5</td>\n",
       "      <td>4</td>\n",
       "      <td>3</td>\n",
       "      <td>2</td>\n",
       "      <td>3</td>\n",
       "      <td>0</td>\n",
       "      <td>2</td>\n",
       "      <td>4</td>\n",
       "    </tr>\n",
       "    <tr>\n",
       "      <th>Southbridge</th>\n",
       "      <td>0</td>\n",
       "      <td>2</td>\n",
       "      <td>2</td>\n",
       "      <td>0</td>\n",
       "      <td>0</td>\n",
       "      <td>4</td>\n",
       "      <td>0</td>\n",
       "      <td>0</td>\n",
       "    </tr>\n",
       "    <tr>\n",
       "      <th>Sandwich</th>\n",
       "      <td>2</td>\n",
       "      <td>0</td>\n",
       "      <td>0</td>\n",
       "      <td>0</td>\n",
       "      <td>2</td>\n",
       "      <td>2</td>\n",
       "      <td>0</td>\n",
       "      <td>1</td>\n",
       "    </tr>\n",
       "    <tr>\n",
       "      <th>Shirley</th>\n",
       "      <td>0</td>\n",
       "      <td>2</td>\n",
       "      <td>1</td>\n",
       "      <td>0</td>\n",
       "      <td>0</td>\n",
       "      <td>4</td>\n",
       "      <td>0</td>\n",
       "      <td>0</td>\n",
       "    </tr>\n",
       "    <tr>\n",
       "      <th>Franklin</th>\n",
       "      <td>5</td>\n",
       "      <td>0</td>\n",
       "      <td>3</td>\n",
       "      <td>2</td>\n",
       "      <td>0</td>\n",
       "      <td>0</td>\n",
       "      <td>2</td>\n",
       "      <td>1</td>\n",
       "    </tr>\n",
       "  </tbody>\n",
       "</table>\n",
       "</div>"
      ],
      "text/plain": [
       "              km_label  km_trimmed_label  km_s_label  hc_label  hc_s_label  \\\n",
       "municipality                                                                 \n",
       "Sharon               5                 4           3         2           3   \n",
       "Southbridge          0                 2           2         0           0   \n",
       "Sandwich             2                 0           0         0           2   \n",
       "Shirley              0                 2           1         0           0   \n",
       "Franklin             5                 0           3         2           0   \n",
       "\n",
       "              hc_n5_label  km_n4_label  km_n5_label  \n",
       "municipality                                         \n",
       "Sharon                  0            2            4  \n",
       "Southbridge             4            0            0  \n",
       "Sandwich                2            0            1  \n",
       "Shirley                 4            0            0  \n",
       "Franklin                0            2            1  "
      ]
     },
     "execution_count": 49,
     "metadata": {},
     "output_type": "execute_result"
    }
   ],
   "source": [
    "cluster_labels = cluster.loc[:,'km_label':]\n",
    "cluster_labels.head()"
   ]
  },
  {
   "cell_type": "code",
   "execution_count": 50,
   "metadata": {},
   "outputs": [
    {
     "data": {
      "text/plain": [
       "(271, 8)"
      ]
     },
     "execution_count": 50,
     "metadata": {},
     "output_type": "execute_result"
    }
   ],
   "source": [
    "cluster_labels.shape"
   ]
  },
  {
   "cell_type": "markdown",
   "metadata": {},
   "source": [
    "background on different clustering schema:\n",
    "* `km_label` -- un-trimmed, un-scaled, n = 6\n",
    "* `km_trimmed_label` -- trimmed, un-scaled, n = 6\n",
    "* `km_s_label` -- trimmed, scaled, n = 6\n",
    "* `hc_label` -- trimmed, un-scaled, n = 4\n",
    "* `hc_s_label` -- trimmed, scaled, n = 4\n",
    "* `hc_n5_label` -- trimmed, un-scaled, n = 5\n",
    "* `km_n4_label` -- trimmed, un-scaled, n = 4\n",
    "* `km_n5_label` -- trimmed, un-scaled, n = 5"
   ]
  },
  {
   "cell_type": "markdown",
   "metadata": {},
   "source": [
    "## EDA on Recycling for 2019 by Label"
   ]
  },
  {
   "cell_type": "code",
   "execution_count": 51,
   "metadata": {},
   "outputs": [],
   "source": [
    "import matplotlib.pyplot as plt"
   ]
  },
  {
   "cell_type": "markdown",
   "metadata": {},
   "source": [
    "### Hierarchial"
   ]
  },
  {
   "cell_type": "code",
   "execution_count": 52,
   "metadata": {},
   "outputs": [],
   "source": [
    "waste_w_labels = tonnages19.merge(cluster_labels, left_index=True, right_index=True)"
   ]
  },
  {
   "cell_type": "code",
   "execution_count": 53,
   "metadata": {},
   "outputs": [],
   "source": [
    "hc_label0 = waste_w_labels[waste_w_labels['hc_label'] == 0]\n",
    "hc_label1 = waste_w_labels[waste_w_labels['hc_label'] == 1]\n",
    "hc_label2 = waste_w_labels[waste_w_labels['hc_label'] == 2]\n",
    "hc_label3 = waste_w_labels[waste_w_labels['hc_label'] == 3]"
   ]
  },
  {
   "cell_type": "code",
   "execution_count": 54,
   "metadata": {},
   "outputs": [],
   "source": [
    "hc_s_label0 = waste_w_labels[waste_w_labels['hc_s_label'] == 0]\n",
    "hc_s_label1 = waste_w_labels[waste_w_labels['hc_s_label'] == 1]\n",
    "hc_s_label2 = waste_w_labels[waste_w_labels['hc_s_label'] == 2]\n",
    "hc_s_label3 = waste_w_labels[waste_w_labels['hc_s_label'] == 3]"
   ]
  },
  {
   "cell_type": "code",
   "execution_count": 55,
   "metadata": {},
   "outputs": [],
   "source": [
    "hc_n5_label0 = waste_w_labels[waste_w_labels['hc_n5_label'] == 0]\n",
    "hc_n5_label1 = waste_w_labels[waste_w_labels['hc_n5_label'] == 1]\n",
    "hc_n5_label2 = waste_w_labels[waste_w_labels['hc_n5_label'] == 2]\n",
    "hc_n5_label3 = waste_w_labels[waste_w_labels['hc_n5_label'] == 3]\n",
    "hc_n5_label4 = waste_w_labels[waste_w_labels['hc_n5_label'] == 4]"
   ]
  },
  {
   "cell_type": "code",
   "execution_count": 56,
   "metadata": {},
   "outputs": [
    {
     "data": {
      "text/plain": [
       "Index(['tot_households', 'stream_type', 'tons_ss_recyclables',\n",
       "       'tons_ms_recyclables', 'tons_recyclables_total',\n",
       "       'hh_served_by_mu_recycle', 'tons_recyclables/hh',\n",
       "       'hh_served_by_mu_trash', 'tons_trash_total', 'tons_trash/hh',\n",
       "       '%recycle/hh', 'total_waste/hh', 'km_label', 'km_trimmed_label',\n",
       "       'km_s_label', 'hc_label', 'hc_s_label', 'hc_n5_label', 'km_n4_label',\n",
       "       'km_n5_label'],\n",
       "      dtype='object')"
      ]
     },
     "execution_count": 56,
     "metadata": {},
     "output_type": "execute_result"
    }
   ],
   "source": [
    "waste_w_labels.columns"
   ]
  },
  {
   "cell_type": "code",
   "execution_count": 57,
   "metadata": {},
   "outputs": [
    {
     "data": {
      "application/vnd.plotly.v1+json": {
       "config": {
        "plotlyServerURL": "https://plot.ly"
       },
       "data": [
        {
         "marker": {
          "color": "#FF4136"
         },
         "name": "label 2",
         "orientation": "h",
         "type": "box",
         "x": [
          0.2515132641291811,
          0.2998501935701061,
          0.3034605146406389,
          0.2740468909276249,
          0.13733333333333336,
          0.3596077006901562,
          0.31167592197066785,
          0.35879375,
          0.2532580145199445,
          0.22032520325203253,
          0.758978947368421,
          0.2989347536617843,
          0.2635379061371841,
          0.3162504658963847,
          0.3343716433941998,
          0.3507663359562094,
          0.188834,
          0.2749887976101569,
          0.22039341629867526,
          0.3545652173913044,
          0.3476931142957008,
          0.24780134505949306,
          0.3084117321527393,
          0.29454282616552224,
          0.265,
          0.3435581299131154,
          0.2927829014785536,
          0.31840999999999997,
          0.2561111111111111,
          0.33818269000239753,
          0.18684991974317816,
          0.3702133105802048,
          0.4334415522953148,
          0.4770985230884278,
          0.3389830508474576,
          0.4088028169014085,
          0.08954372623574146,
          0.3518702520197757,
          0.26475548060708265,
          0.3837497833997574,
          0.3986111111111112,
          0.23625,
          0.2573363178511472,
          0.3278127853881279,
          0.3176569920844327,
          0.16638023630504833,
          0.3978512396694215,
          0.3068205128205129,
          0.3781571175428234,
          0.33056614044637994,
          0.2892738952696126,
          0.3152223320158103
         ]
        },
        {
         "marker": {
          "color": "#AA22AA"
         },
         "name": "label 0",
         "orientation": "h",
         "type": "box",
         "x": [
          0.3150735621934909,
          0.26386521860206075,
          0.21025602409638552,
          0.2520554116454556,
          0.31333795734350617,
          0.25661804430037816,
          0.33189724199288256,
          0.21178260869565216,
          0.4111320754716981,
          0.3150822669104205,
          0.2725847292559408,
          0.3685051903114187,
          0.2745454545454546,
          0.17375000000000002,
          0.05916245081506465,
          0.2735148514851485,
          0.2677132146204311,
          0.2255813953488372,
          0.2352,
          0.3008034200633891,
          0.21686666666666668,
          0.7447928703134604,
          0.3178740970072239,
          0.309972042803432,
          0.24150470219435735,
          0.21989655172413794,
          0.1844193548387097,
          0.252312642445368,
          0.16343181818181818,
          0.34385443037974683,
          0.11918562874251498,
          0.29885321100917434,
          0.2339336492890995,
          0.12222222222222222,
          0.2293603313391625,
          0.15641860465116278,
          0.2862037037037037,
          0.21578754578754575,
          0.32456756756756755,
          0.2927004001548987,
          0.2604680682268941,
          0.33182917515274946,
          0.21391040242976456,
          0.13099132413596928,
          0.24026068066618395,
          0.14596273291925466,
          0.2656660412757973,
          0.24742268041237114,
          0.3155935988090808,
          0.1323003194888179,
          0.2596226080793763,
          0.2210800744878957,
          0.3,
          0.2303170731707317,
          0.20803056027164685,
          0.241594700686948,
          0.13806000000000002,
          0.16246445497630332,
          0.3229033631332482,
          0.22273336378864014,
          0.22894324853228964,
          0.2453167315175097,
          0.25852216748768475,
          0.3485010752688172,
          0.16364444444444445,
          0.26512175962293794,
          0.08777125351033953,
          0.10543969849246232,
          0.36615,
          0.261,
          0.16102328099621008,
          0.18357142857142855,
          0.12323636363636364,
          0.3109180327868853,
          0.2282756598240469,
          0.2019077568134172,
          0.32654062439402753,
          0.20597014925373133,
          0.15772058823529414,
          0.051187594553706514,
          0.03345413994981879,
          0.2245053272450533,
          0.1942160476325489,
          0.18288007554296504,
          0.10862504511006857,
          0.34095722151630664,
          0.15215622457282346,
          0.2266562047320135,
          0.2596294216732173,
          0.2845708376421924,
          0.2586549239391513,
          0.18687861271676298,
          0.36666666666666653,
          0.20693133047210305,
          0.2316245487364621,
          0.044520547945205484,
          0.1576637407157326,
          0.18775181922635006,
          0.1782702702702703,
          0.13719178082191782,
          0.35365235035508963,
          0.27507163323782235,
          0.2971212121212121,
          0.2734254992319509,
          0.045961610137905326,
          0.2935452793834297,
          0.30301587301587296,
          0.1478809738503156,
          0.2735968781812012,
          0.2097393412810669,
          0.2385180722891566,
          0.4136033229491173,
          0.1321695760598504,
          0.2229645635263613,
          0.13673202614379085,
          0.120075,
          0.2768344898863133,
          0.1247676056338028,
          0.3104109589041096,
          0.2987234042553191,
          0.20267857142857146,
          0.3555449785816278,
          0.16202270977675134,
          0.6115843270868825,
          0.33553464499572283,
          0.2910394265232975,
          0.22406563354603465,
          0.3175873015873016,
          0.22337209302325586,
          0.2794933333333333,
          0.15576190476190474,
          0.32669322709163345,
          0.24065654258963234,
          0.1164367816091954,
          0.3053126792885829,
          0.21,
          0.21621153846153848,
          0.20721387881926465,
          0.24305128205128204,
          0.20681176470588236,
          0.2402567431126497,
          0.20708923076923075,
          0.303373253493014,
          0.18657962653711854,
          0.2222767419038273,
          0.1883243823845328,
          0.28186567164179105,
          0.167375132837407,
          0.1975,
          0.3080040080160321,
          0.29802955665024633,
          0.277348846459825,
          0.22663188405797105,
          0.12260454002389487,
          0.2850343733474352,
          0.23829268292682926,
          0.3455254237288136,
          0.30395136778115506,
          0.23464881593110876,
          0.007788821899951116,
          0.2941522491349481,
          0.16473333333333334,
          0.2558285714285714,
          0.15286793593230585,
          0.19666666666666668,
          0.2393225806451613,
          0.1862973121228744,
          0.2250316027088036,
          0.2235294117647059,
          0.2482,
          0.27025125628140706,
          0.16085369936391028,
          0.23555849655902594,
          0.21719565217391304,
          0.2726336041043181,
          0.24330513595166164,
          0.2503990610328639,
          0.28251875669882104,
          0.3054440961337513,
          0.13112820512820514,
          0.18431850533807828,
          0.2501381215469613,
          0.11722370107463274
         ]
        },
        {
         "marker": {
          "color": "#FF851B"
         },
         "name": "label 1",
         "orientation": "h",
         "type": "box",
         "x": [
          0.24439958643099804,
          0.2909308379652431,
          0.17871186440677966,
          0.2837148514851485,
          0.27757172053591705,
          0.3516904583020285,
          0.1918695749440716,
          0.2332879325878425,
          0.2615558060879369,
          0.20824444444444445,
          0.30271434042786016,
          0.3943042813455658,
          0.18633165829145729,
          0.1601551351102518,
          0.2547448,
          0.23467074074074076,
          0.23608187134502925,
          0.2484166666666667,
          0.2683897435897436,
          0.17223397044869188,
          0.2119835687201187,
          0.3339621052631579,
          0.2369942857142857,
          0.10956683027051707,
          0.10326511111111113,
          0.23030498976182776,
          0.1656234109133581,
          0.2287402985074627,
          0.2622373333333333,
          0.1695125,
          0.2350227446971633,
          0.2640672926447574,
          0.1893638170974155,
          0.2811071996366114,
          0.15357567164179106
         ]
        },
        {
         "marker": {
          "color": "#3D9970"
         },
         "name": "label 3",
         "orientation": "h",
         "type": "box",
         "x": [
          0.1425
         ]
        }
       ],
       "layout": {
        "autosize": true,
        "boxgap": 0.1,
        "boxmode": "overlay",
        "template": {
         "data": {
          "bar": [
           {
            "error_x": {
             "color": "#2a3f5f"
            },
            "error_y": {
             "color": "#2a3f5f"
            },
            "marker": {
             "line": {
              "color": "#E5ECF6",
              "width": 0.5
             }
            },
            "type": "bar"
           }
          ],
          "barpolar": [
           {
            "marker": {
             "line": {
              "color": "#E5ECF6",
              "width": 0.5
             }
            },
            "type": "barpolar"
           }
          ],
          "carpet": [
           {
            "aaxis": {
             "endlinecolor": "#2a3f5f",
             "gridcolor": "white",
             "linecolor": "white",
             "minorgridcolor": "white",
             "startlinecolor": "#2a3f5f"
            },
            "baxis": {
             "endlinecolor": "#2a3f5f",
             "gridcolor": "white",
             "linecolor": "white",
             "minorgridcolor": "white",
             "startlinecolor": "#2a3f5f"
            },
            "type": "carpet"
           }
          ],
          "choropleth": [
           {
            "colorbar": {
             "outlinewidth": 0,
             "ticks": ""
            },
            "type": "choropleth"
           }
          ],
          "contour": [
           {
            "colorbar": {
             "outlinewidth": 0,
             "ticks": ""
            },
            "colorscale": [
             [
              0,
              "#0d0887"
             ],
             [
              0.1111111111111111,
              "#46039f"
             ],
             [
              0.2222222222222222,
              "#7201a8"
             ],
             [
              0.3333333333333333,
              "#9c179e"
             ],
             [
              0.4444444444444444,
              "#bd3786"
             ],
             [
              0.5555555555555556,
              "#d8576b"
             ],
             [
              0.6666666666666666,
              "#ed7953"
             ],
             [
              0.7777777777777778,
              "#fb9f3a"
             ],
             [
              0.8888888888888888,
              "#fdca26"
             ],
             [
              1,
              "#f0f921"
             ]
            ],
            "type": "contour"
           }
          ],
          "contourcarpet": [
           {
            "colorbar": {
             "outlinewidth": 0,
             "ticks": ""
            },
            "type": "contourcarpet"
           }
          ],
          "heatmap": [
           {
            "colorbar": {
             "outlinewidth": 0,
             "ticks": ""
            },
            "colorscale": [
             [
              0,
              "#0d0887"
             ],
             [
              0.1111111111111111,
              "#46039f"
             ],
             [
              0.2222222222222222,
              "#7201a8"
             ],
             [
              0.3333333333333333,
              "#9c179e"
             ],
             [
              0.4444444444444444,
              "#bd3786"
             ],
             [
              0.5555555555555556,
              "#d8576b"
             ],
             [
              0.6666666666666666,
              "#ed7953"
             ],
             [
              0.7777777777777778,
              "#fb9f3a"
             ],
             [
              0.8888888888888888,
              "#fdca26"
             ],
             [
              1,
              "#f0f921"
             ]
            ],
            "type": "heatmap"
           }
          ],
          "heatmapgl": [
           {
            "colorbar": {
             "outlinewidth": 0,
             "ticks": ""
            },
            "colorscale": [
             [
              0,
              "#0d0887"
             ],
             [
              0.1111111111111111,
              "#46039f"
             ],
             [
              0.2222222222222222,
              "#7201a8"
             ],
             [
              0.3333333333333333,
              "#9c179e"
             ],
             [
              0.4444444444444444,
              "#bd3786"
             ],
             [
              0.5555555555555556,
              "#d8576b"
             ],
             [
              0.6666666666666666,
              "#ed7953"
             ],
             [
              0.7777777777777778,
              "#fb9f3a"
             ],
             [
              0.8888888888888888,
              "#fdca26"
             ],
             [
              1,
              "#f0f921"
             ]
            ],
            "type": "heatmapgl"
           }
          ],
          "histogram": [
           {
            "marker": {
             "colorbar": {
              "outlinewidth": 0,
              "ticks": ""
             }
            },
            "type": "histogram"
           }
          ],
          "histogram2d": [
           {
            "colorbar": {
             "outlinewidth": 0,
             "ticks": ""
            },
            "colorscale": [
             [
              0,
              "#0d0887"
             ],
             [
              0.1111111111111111,
              "#46039f"
             ],
             [
              0.2222222222222222,
              "#7201a8"
             ],
             [
              0.3333333333333333,
              "#9c179e"
             ],
             [
              0.4444444444444444,
              "#bd3786"
             ],
             [
              0.5555555555555556,
              "#d8576b"
             ],
             [
              0.6666666666666666,
              "#ed7953"
             ],
             [
              0.7777777777777778,
              "#fb9f3a"
             ],
             [
              0.8888888888888888,
              "#fdca26"
             ],
             [
              1,
              "#f0f921"
             ]
            ],
            "type": "histogram2d"
           }
          ],
          "histogram2dcontour": [
           {
            "colorbar": {
             "outlinewidth": 0,
             "ticks": ""
            },
            "colorscale": [
             [
              0,
              "#0d0887"
             ],
             [
              0.1111111111111111,
              "#46039f"
             ],
             [
              0.2222222222222222,
              "#7201a8"
             ],
             [
              0.3333333333333333,
              "#9c179e"
             ],
             [
              0.4444444444444444,
              "#bd3786"
             ],
             [
              0.5555555555555556,
              "#d8576b"
             ],
             [
              0.6666666666666666,
              "#ed7953"
             ],
             [
              0.7777777777777778,
              "#fb9f3a"
             ],
             [
              0.8888888888888888,
              "#fdca26"
             ],
             [
              1,
              "#f0f921"
             ]
            ],
            "type": "histogram2dcontour"
           }
          ],
          "mesh3d": [
           {
            "colorbar": {
             "outlinewidth": 0,
             "ticks": ""
            },
            "type": "mesh3d"
           }
          ],
          "parcoords": [
           {
            "line": {
             "colorbar": {
              "outlinewidth": 0,
              "ticks": ""
             }
            },
            "type": "parcoords"
           }
          ],
          "pie": [
           {
            "automargin": true,
            "type": "pie"
           }
          ],
          "scatter": [
           {
            "marker": {
             "colorbar": {
              "outlinewidth": 0,
              "ticks": ""
             }
            },
            "type": "scatter"
           }
          ],
          "scatter3d": [
           {
            "line": {
             "colorbar": {
              "outlinewidth": 0,
              "ticks": ""
             }
            },
            "marker": {
             "colorbar": {
              "outlinewidth": 0,
              "ticks": ""
             }
            },
            "type": "scatter3d"
           }
          ],
          "scattercarpet": [
           {
            "marker": {
             "colorbar": {
              "outlinewidth": 0,
              "ticks": ""
             }
            },
            "type": "scattercarpet"
           }
          ],
          "scattergeo": [
           {
            "marker": {
             "colorbar": {
              "outlinewidth": 0,
              "ticks": ""
             }
            },
            "type": "scattergeo"
           }
          ],
          "scattergl": [
           {
            "marker": {
             "colorbar": {
              "outlinewidth": 0,
              "ticks": ""
             }
            },
            "type": "scattergl"
           }
          ],
          "scattermapbox": [
           {
            "marker": {
             "colorbar": {
              "outlinewidth": 0,
              "ticks": ""
             }
            },
            "type": "scattermapbox"
           }
          ],
          "scatterpolar": [
           {
            "marker": {
             "colorbar": {
              "outlinewidth": 0,
              "ticks": ""
             }
            },
            "type": "scatterpolar"
           }
          ],
          "scatterpolargl": [
           {
            "marker": {
             "colorbar": {
              "outlinewidth": 0,
              "ticks": ""
             }
            },
            "type": "scatterpolargl"
           }
          ],
          "scatterternary": [
           {
            "marker": {
             "colorbar": {
              "outlinewidth": 0,
              "ticks": ""
             }
            },
            "type": "scatterternary"
           }
          ],
          "surface": [
           {
            "colorbar": {
             "outlinewidth": 0,
             "ticks": ""
            },
            "colorscale": [
             [
              0,
              "#0d0887"
             ],
             [
              0.1111111111111111,
              "#46039f"
             ],
             [
              0.2222222222222222,
              "#7201a8"
             ],
             [
              0.3333333333333333,
              "#9c179e"
             ],
             [
              0.4444444444444444,
              "#bd3786"
             ],
             [
              0.5555555555555556,
              "#d8576b"
             ],
             [
              0.6666666666666666,
              "#ed7953"
             ],
             [
              0.7777777777777778,
              "#fb9f3a"
             ],
             [
              0.8888888888888888,
              "#fdca26"
             ],
             [
              1,
              "#f0f921"
             ]
            ],
            "type": "surface"
           }
          ],
          "table": [
           {
            "cells": {
             "fill": {
              "color": "#EBF0F8"
             },
             "line": {
              "color": "white"
             }
            },
            "header": {
             "fill": {
              "color": "#C8D4E3"
             },
             "line": {
              "color": "white"
             }
            },
            "type": "table"
           }
          ]
         },
         "layout": {
          "annotationdefaults": {
           "arrowcolor": "#2a3f5f",
           "arrowhead": 0,
           "arrowwidth": 1
          },
          "autotypenumbers": "strict",
          "coloraxis": {
           "colorbar": {
            "outlinewidth": 0,
            "ticks": ""
           }
          },
          "colorscale": {
           "diverging": [
            [
             0,
             "#8e0152"
            ],
            [
             0.1,
             "#c51b7d"
            ],
            [
             0.2,
             "#de77ae"
            ],
            [
             0.3,
             "#f1b6da"
            ],
            [
             0.4,
             "#fde0ef"
            ],
            [
             0.5,
             "#f7f7f7"
            ],
            [
             0.6,
             "#e6f5d0"
            ],
            [
             0.7,
             "#b8e186"
            ],
            [
             0.8,
             "#7fbc41"
            ],
            [
             0.9,
             "#4d9221"
            ],
            [
             1,
             "#276419"
            ]
           ],
           "sequential": [
            [
             0,
             "#0d0887"
            ],
            [
             0.1111111111111111,
             "#46039f"
            ],
            [
             0.2222222222222222,
             "#7201a8"
            ],
            [
             0.3333333333333333,
             "#9c179e"
            ],
            [
             0.4444444444444444,
             "#bd3786"
            ],
            [
             0.5555555555555556,
             "#d8576b"
            ],
            [
             0.6666666666666666,
             "#ed7953"
            ],
            [
             0.7777777777777778,
             "#fb9f3a"
            ],
            [
             0.8888888888888888,
             "#fdca26"
            ],
            [
             1,
             "#f0f921"
            ]
           ],
           "sequentialminus": [
            [
             0,
             "#0d0887"
            ],
            [
             0.1111111111111111,
             "#46039f"
            ],
            [
             0.2222222222222222,
             "#7201a8"
            ],
            [
             0.3333333333333333,
             "#9c179e"
            ],
            [
             0.4444444444444444,
             "#bd3786"
            ],
            [
             0.5555555555555556,
             "#d8576b"
            ],
            [
             0.6666666666666666,
             "#ed7953"
            ],
            [
             0.7777777777777778,
             "#fb9f3a"
            ],
            [
             0.8888888888888888,
             "#fdca26"
            ],
            [
             1,
             "#f0f921"
            ]
           ]
          },
          "colorway": [
           "#636efa",
           "#EF553B",
           "#00cc96",
           "#ab63fa",
           "#FFA15A",
           "#19d3f3",
           "#FF6692",
           "#B6E880",
           "#FF97FF",
           "#FECB52"
          ],
          "font": {
           "color": "#2a3f5f"
          },
          "geo": {
           "bgcolor": "white",
           "lakecolor": "white",
           "landcolor": "#E5ECF6",
           "showlakes": true,
           "showland": true,
           "subunitcolor": "white"
          },
          "hoverlabel": {
           "align": "left"
          },
          "hovermode": "closest",
          "mapbox": {
           "style": "light"
          },
          "paper_bgcolor": "white",
          "plot_bgcolor": "#E5ECF6",
          "polar": {
           "angularaxis": {
            "gridcolor": "white",
            "linecolor": "white",
            "ticks": ""
           },
           "bgcolor": "#E5ECF6",
           "radialaxis": {
            "gridcolor": "white",
            "linecolor": "white",
            "ticks": ""
           }
          },
          "scene": {
           "xaxis": {
            "backgroundcolor": "#E5ECF6",
            "gridcolor": "white",
            "gridwidth": 2,
            "linecolor": "white",
            "showbackground": true,
            "ticks": "",
            "zerolinecolor": "white"
           },
           "yaxis": {
            "backgroundcolor": "#E5ECF6",
            "gridcolor": "white",
            "gridwidth": 2,
            "linecolor": "white",
            "showbackground": true,
            "ticks": "",
            "zerolinecolor": "white"
           },
           "zaxis": {
            "backgroundcolor": "#E5ECF6",
            "gridcolor": "white",
            "gridwidth": 2,
            "linecolor": "white",
            "showbackground": true,
            "ticks": "",
            "zerolinecolor": "white"
           }
          },
          "shapedefaults": {
           "line": {
            "color": "#2a3f5f"
           }
          },
          "ternary": {
           "aaxis": {
            "gridcolor": "white",
            "linecolor": "white",
            "ticks": ""
           },
           "baxis": {
            "gridcolor": "white",
            "linecolor": "white",
            "ticks": ""
           },
           "bgcolor": "#E5ECF6",
           "caxis": {
            "gridcolor": "white",
            "linecolor": "white",
            "ticks": ""
           }
          },
          "title": {
           "x": 0.05
          },
          "xaxis": {
           "automargin": true,
           "gridcolor": "white",
           "linecolor": "white",
           "ticks": "",
           "title": {
            "standoff": 15
           },
           "zerolinecolor": "white",
           "zerolinewidth": 2
          },
          "yaxis": {
           "automargin": true,
           "gridcolor": "white",
           "linecolor": "white",
           "ticks": "",
           "title": {
            "standoff": 15
           },
           "zerolinecolor": "white",
           "zerolinewidth": 2
          }
         }
        },
        "xaxis": {
         "autorange": true,
         "range": [
          -0.03394396284829721,
          0.8007117321166694
         ],
         "title": {
          "text": "Hierarchial (HC): tons recycling per household by label"
         },
         "type": "linear",
         "zeroline": false
        },
        "yaxis": {
         "autorange": true,
         "range": [
          -0.5,
          3.5
         ],
         "type": "category"
        }
       }
      },
      "image/png": "[encoded data removed]",
      "text/html": [
       "<div>                            <div id=\"5cf24a02-3d9e-4557-be8f-8b5f4669ea57\" class=\"plotly-graph-div\" style=\"height:600px; width:100%;\"></div>            <script type=\"text/javascript\">                require([\"plotly\"], function(Plotly) {                    window.PLOTLYENV=window.PLOTLYENV || {};                                    if (document.getElementById(\"5cf24a02-3d9e-4557-be8f-8b5f4669ea57\")) {                    Plotly.newPlot(                        \"5cf24a02-3d9e-4557-be8f-8b5f4669ea57\",                        [{\"marker\": {\"color\": \"#FF4136\"}, \"name\": \"label 2\", \"orientation\": \"h\", \"type\": \"box\", \"x\": [0.2515132641291811, 0.2998501935701061, 0.3034605146406389, 0.2740468909276249, 0.13733333333333336, 0.3596077006901562, 0.31167592197066785, 0.35879375, 0.2532580145199445, 0.22032520325203253, 0.758978947368421, 0.2989347536617843, 0.2635379061371841, 0.3162504658963847, 0.3343716433941998, 0.3507663359562094, 0.188834, 0.2749887976101569, 0.22039341629867526, 0.3545652173913044, 0.3476931142957008, 0.24780134505949306, 0.3084117321527393, 0.29454282616552224, 0.265, 0.3435581299131154, 0.2927829014785536, 0.31840999999999997, 0.2561111111111111, 0.33818269000239753, 0.18684991974317816, 0.3702133105802048, 0.4334415522953148, 0.4770985230884278, 0.3389830508474576, 0.4088028169014085, 0.08954372623574146, 0.3518702520197757, 0.26475548060708265, 0.3837497833997574, 0.3986111111111112, 0.23625, 0.2573363178511472, 0.3278127853881279, 0.3176569920844327, 0.16638023630504833, 0.3978512396694215, 0.3068205128205129, 0.3781571175428234, 0.33056614044637994, 0.2892738952696126, 0.3152223320158103]}, {\"marker\": {\"color\": \"#AA22AA\"}, \"name\": \"label 0\", \"orientation\": \"h\", \"type\": \"box\", \"x\": [0.3150735621934909, 0.26386521860206075, 0.21025602409638552, 0.2520554116454556, 0.31333795734350617, 0.25661804430037816, 0.33189724199288256, 0.21178260869565216, 0.4111320754716981, 0.3150822669104205, 0.2725847292559408, 0.3685051903114187, 0.2745454545454546, 0.17375000000000002, 0.05916245081506465, 0.2735148514851485, 0.2677132146204311, 0.2255813953488372, 0.2352, 0.3008034200633891, 0.21686666666666668, 0.7447928703134604, 0.3178740970072239, 0.309972042803432, 0.24150470219435735, 0.21989655172413794, 0.1844193548387097, 0.252312642445368, 0.16343181818181818, 0.34385443037974683, 0.11918562874251498, 0.29885321100917434, 0.2339336492890995, 0.12222222222222222, 0.2293603313391625, 0.15641860465116278, 0.2862037037037037, 0.21578754578754575, 0.32456756756756755, 0.2927004001548987, 0.2604680682268941, 0.33182917515274946, 0.21391040242976456, 0.13099132413596928, 0.24026068066618395, 0.14596273291925466, 0.2656660412757973, 0.24742268041237114, 0.3155935988090808, 0.1323003194888179, 0.2596226080793763, 0.2210800744878957, 0.3, 0.2303170731707317, 0.20803056027164685, 0.241594700686948, 0.13806000000000002, 0.16246445497630332, 0.3229033631332482, 0.22273336378864014, 0.22894324853228964, 0.2453167315175097, 0.25852216748768475, 0.3485010752688172, 0.16364444444444445, 0.26512175962293794, 0.08777125351033953, 0.10543969849246232, 0.36615, 0.261, 0.16102328099621008, 0.18357142857142855, 0.12323636363636364, 0.3109180327868853, 0.2282756598240469, 0.2019077568134172, 0.32654062439402753, 0.20597014925373133, 0.15772058823529414, 0.051187594553706514, 0.03345413994981879, 0.2245053272450533, 0.1942160476325489, 0.18288007554296504, 0.10862504511006857, 0.34095722151630664, 0.15215622457282346, 0.2266562047320135, 0.2596294216732173, 0.2845708376421924, 0.2586549239391513, 0.18687861271676298, 0.36666666666666653, 0.20693133047210305, 0.2316245487364621, 0.044520547945205484, 0.1576637407157326, 0.18775181922635006, 0.1782702702702703, 0.13719178082191782, 0.35365235035508963, 0.27507163323782235, 0.2971212121212121, 0.2734254992319509, 0.045961610137905326, 0.2935452793834297, 0.30301587301587296, 0.1478809738503156, 0.2735968781812012, 0.2097393412810669, 0.2385180722891566, 0.4136033229491173, 0.1321695760598504, 0.2229645635263613, 0.13673202614379085, 0.120075, 0.2768344898863133, 0.1247676056338028, 0.3104109589041096, 0.2987234042553191, 0.20267857142857146, 0.3555449785816278, 0.16202270977675134, 0.6115843270868825, 0.33553464499572283, 0.2910394265232975, 0.22406563354603465, 0.3175873015873016, 0.22337209302325586, 0.2794933333333333, 0.15576190476190474, 0.32669322709163345, 0.24065654258963234, 0.1164367816091954, 0.3053126792885829, 0.21, 0.21621153846153848, 0.20721387881926465, 0.24305128205128204, 0.20681176470588236, 0.2402567431126497, 0.20708923076923075, 0.303373253493014, 0.18657962653711854, 0.2222767419038273, 0.1883243823845328, 0.28186567164179105, 0.167375132837407, 0.1975, 0.3080040080160321, 0.29802955665024633, 0.277348846459825, 0.22663188405797105, 0.12260454002389487, 0.2850343733474352, 0.23829268292682926, 0.3455254237288136, 0.30395136778115506, 0.23464881593110876, 0.007788821899951116, 0.2941522491349481, 0.16473333333333334, 0.2558285714285714, 0.15286793593230585, 0.19666666666666668, 0.2393225806451613, 0.1862973121228744, 0.2250316027088036, 0.2235294117647059, 0.2482, 0.27025125628140706, 0.16085369936391028, 0.23555849655902594, 0.21719565217391304, 0.2726336041043181, 0.24330513595166164, 0.2503990610328639, 0.28251875669882104, 0.3054440961337513, 0.13112820512820514, 0.18431850533807828, 0.2501381215469613, 0.11722370107463274]}, {\"marker\": {\"color\": \"#FF851B\"}, \"name\": \"label 1\", \"orientation\": \"h\", \"type\": \"box\", \"x\": [0.24439958643099804, 0.2909308379652431, 0.17871186440677966, 0.2837148514851485, 0.27757172053591705, 0.3516904583020285, 0.1918695749440716, 0.2332879325878425, 0.2615558060879369, 0.20824444444444445, 0.30271434042786016, 0.3943042813455658, 0.18633165829145729, 0.1601551351102518, 0.2547448, 0.23467074074074076, 0.23608187134502925, 0.2484166666666667, 0.2683897435897436, 0.17223397044869188, 0.2119835687201187, 0.3339621052631579, 0.2369942857142857, 0.10956683027051707, 0.10326511111111113, 0.23030498976182776, 0.1656234109133581, 0.2287402985074627, 0.2622373333333333, 0.1695125, 0.2350227446971633, 0.2640672926447574, 0.1893638170974155, 0.2811071996366114, 0.15357567164179106]}, {\"marker\": {\"color\": \"#3D9970\"}, \"name\": \"label 3\", \"orientation\": \"h\", \"type\": \"box\", \"x\": [0.1425]}],                        {\"boxgap\": 0.1, \"boxmode\": \"overlay\", \"height\": 600, \"template\": {\"data\": {\"bar\": [{\"error_x\": {\"color\": \"#2a3f5f\"}, \"error_y\": {\"color\": \"#2a3f5f\"}, \"marker\": {\"line\": {\"color\": \"#E5ECF6\", \"width\": 0.5}}, \"type\": \"bar\"}], \"barpolar\": [{\"marker\": {\"line\": {\"color\": \"#E5ECF6\", \"width\": 0.5}}, \"type\": \"barpolar\"}], \"carpet\": [{\"aaxis\": {\"endlinecolor\": \"#2a3f5f\", \"gridcolor\": \"white\", \"linecolor\": \"white\", \"minorgridcolor\": \"white\", \"startlinecolor\": \"#2a3f5f\"}, \"baxis\": {\"endlinecolor\": \"#2a3f5f\", \"gridcolor\": \"white\", \"linecolor\": \"white\", \"minorgridcolor\": \"white\", \"startlinecolor\": \"#2a3f5f\"}, \"type\": \"carpet\"}], \"choropleth\": [{\"colorbar\": {\"outlinewidth\": 0, \"ticks\": \"\"}, \"type\": \"choropleth\"}], \"contour\": [{\"colorbar\": {\"outlinewidth\": 0, \"ticks\": \"\"}, \"colorscale\": [[0.0, \"#0d0887\"], [0.1111111111111111, \"#46039f\"], [0.2222222222222222, \"#7201a8\"], [0.3333333333333333, \"#9c179e\"], [0.4444444444444444, \"#bd3786\"], [0.5555555555555556, \"#d8576b\"], [0.6666666666666666, \"#ed7953\"], [0.7777777777777778, \"#fb9f3a\"], [0.8888888888888888, \"#fdca26\"], [1.0, \"#f0f921\"]], \"type\": \"contour\"}], \"contourcarpet\": [{\"colorbar\": {\"outlinewidth\": 0, \"ticks\": \"\"}, \"type\": \"contourcarpet\"}], \"heatmap\": [{\"colorbar\": {\"outlinewidth\": 0, \"ticks\": \"\"}, \"colorscale\": [[0.0, \"#0d0887\"], [0.1111111111111111, \"#46039f\"], [0.2222222222222222, \"#7201a8\"], [0.3333333333333333, \"#9c179e\"], [0.4444444444444444, \"#bd3786\"], [0.5555555555555556, \"#d8576b\"], [0.6666666666666666, \"#ed7953\"], [0.7777777777777778, \"#fb9f3a\"], [0.8888888888888888, \"#fdca26\"], [1.0, \"#f0f921\"]], \"type\": \"heatmap\"}], \"heatmapgl\": [{\"colorbar\": {\"outlinewidth\": 0, \"ticks\": \"\"}, \"colorscale\": [[0.0, \"#0d0887\"], [0.1111111111111111, \"#46039f\"], [0.2222222222222222, \"#7201a8\"], [0.3333333333333333, \"#9c179e\"], [0.4444444444444444, \"#bd3786\"], [0.5555555555555556, \"#d8576b\"], [0.6666666666666666, \"#ed7953\"], [0.7777777777777778, \"#fb9f3a\"], [0.8888888888888888, \"#fdca26\"], [1.0, \"#f0f921\"]], \"type\": \"heatmapgl\"}], \"histogram\": [{\"marker\": {\"colorbar\": {\"outlinewidth\": 0, \"ticks\": \"\"}}, \"type\": \"histogram\"}], \"histogram2d\": [{\"colorbar\": {\"outlinewidth\": 0, \"ticks\": \"\"}, \"colorscale\": [[0.0, \"#0d0887\"], [0.1111111111111111, \"#46039f\"], [0.2222222222222222, \"#7201a8\"], [0.3333333333333333, \"#9c179e\"], [0.4444444444444444, \"#bd3786\"], [0.5555555555555556, \"#d8576b\"], [0.6666666666666666, \"#ed7953\"], [0.7777777777777778, \"#fb9f3a\"], [0.8888888888888888, \"#fdca26\"], [1.0, \"#f0f921\"]], \"type\": \"histogram2d\"}], \"histogram2dcontour\": [{\"colorbar\": {\"outlinewidth\": 0, \"ticks\": \"\"}, \"colorscale\": [[0.0, \"#0d0887\"], [0.1111111111111111, \"#46039f\"], [0.2222222222222222, \"#7201a8\"], [0.3333333333333333, \"#9c179e\"], [0.4444444444444444, \"#bd3786\"], [0.5555555555555556, \"#d8576b\"], [0.6666666666666666, \"#ed7953\"], [0.7777777777777778, \"#fb9f3a\"], [0.8888888888888888, \"#fdca26\"], [1.0, \"#f0f921\"]], \"type\": \"histogram2dcontour\"}], \"mesh3d\": [{\"colorbar\": {\"outlinewidth\": 0, \"ticks\": \"\"}, \"type\": \"mesh3d\"}], \"parcoords\": [{\"line\": {\"colorbar\": {\"outlinewidth\": 0, \"ticks\": \"\"}}, \"type\": \"parcoords\"}], \"pie\": [{\"automargin\": true, \"type\": \"pie\"}], \"scatter\": [{\"marker\": {\"colorbar\": {\"outlinewidth\": 0, \"ticks\": \"\"}}, \"type\": \"scatter\"}], \"scatter3d\": [{\"line\": {\"colorbar\": {\"outlinewidth\": 0, \"ticks\": \"\"}}, \"marker\": {\"colorbar\": {\"outlinewidth\": 0, \"ticks\": \"\"}}, \"type\": \"scatter3d\"}], \"scattercarpet\": [{\"marker\": {\"colorbar\": {\"outlinewidth\": 0, \"ticks\": \"\"}}, \"type\": \"scattercarpet\"}], \"scattergeo\": [{\"marker\": {\"colorbar\": {\"outlinewidth\": 0, \"ticks\": \"\"}}, \"type\": \"scattergeo\"}], \"scattergl\": [{\"marker\": {\"colorbar\": {\"outlinewidth\": 0, \"ticks\": \"\"}}, \"type\": \"scattergl\"}], \"scattermapbox\": [{\"marker\": {\"colorbar\": {\"outlinewidth\": 0, \"ticks\": \"\"}}, \"type\": \"scattermapbox\"}], \"scatterpolar\": [{\"marker\": {\"colorbar\": {\"outlinewidth\": 0, \"ticks\": \"\"}}, \"type\": \"scatterpolar\"}], \"scatterpolargl\": [{\"marker\": {\"colorbar\": {\"outlinewidth\": 0, \"ticks\": \"\"}}, \"type\": \"scatterpolargl\"}], \"scatterternary\": [{\"marker\": {\"colorbar\": {\"outlinewidth\": 0, \"ticks\": \"\"}}, \"type\": \"scatterternary\"}], \"surface\": [{\"colorbar\": {\"outlinewidth\": 0, \"ticks\": \"\"}, \"colorscale\": [[0.0, \"#0d0887\"], [0.1111111111111111, \"#46039f\"], [0.2222222222222222, \"#7201a8\"], [0.3333333333333333, \"#9c179e\"], [0.4444444444444444, \"#bd3786\"], [0.5555555555555556, \"#d8576b\"], [0.6666666666666666, \"#ed7953\"], [0.7777777777777778, \"#fb9f3a\"], [0.8888888888888888, \"#fdca26\"], [1.0, \"#f0f921\"]], \"type\": \"surface\"}], \"table\": [{\"cells\": {\"fill\": {\"color\": \"#EBF0F8\"}, \"line\": {\"color\": \"white\"}}, \"header\": {\"fill\": {\"color\": \"#C8D4E3\"}, \"line\": {\"color\": \"white\"}}, \"type\": \"table\"}]}, \"layout\": {\"annotationdefaults\": {\"arrowcolor\": \"#2a3f5f\", \"arrowhead\": 0, \"arrowwidth\": 1}, \"autotypenumbers\": \"strict\", \"coloraxis\": {\"colorbar\": {\"outlinewidth\": 0, \"ticks\": \"\"}}, \"colorscale\": {\"diverging\": [[0, \"#8e0152\"], [0.1, \"#c51b7d\"], [0.2, \"#de77ae\"], [0.3, \"#f1b6da\"], [0.4, \"#fde0ef\"], [0.5, \"#f7f7f7\"], [0.6, \"#e6f5d0\"], [0.7, \"#b8e186\"], [0.8, \"#7fbc41\"], [0.9, \"#4d9221\"], [1, \"#276419\"]], \"sequential\": [[0.0, \"#0d0887\"], [0.1111111111111111, \"#46039f\"], [0.2222222222222222, \"#7201a8\"], [0.3333333333333333, \"#9c179e\"], [0.4444444444444444, \"#bd3786\"], [0.5555555555555556, \"#d8576b\"], [0.6666666666666666, \"#ed7953\"], [0.7777777777777778, \"#fb9f3a\"], [0.8888888888888888, \"#fdca26\"], [1.0, \"#f0f921\"]], \"sequentialminus\": [[0.0, \"#0d0887\"], [0.1111111111111111, \"#46039f\"], [0.2222222222222222, \"#7201a8\"], [0.3333333333333333, \"#9c179e\"], [0.4444444444444444, \"#bd3786\"], [0.5555555555555556, \"#d8576b\"], [0.6666666666666666, \"#ed7953\"], [0.7777777777777778, \"#fb9f3a\"], [0.8888888888888888, \"#fdca26\"], [1.0, \"#f0f921\"]]}, \"colorway\": [\"#636efa\", \"#EF553B\", \"#00cc96\", \"#ab63fa\", \"#FFA15A\", \"#19d3f3\", \"#FF6692\", \"#B6E880\", \"#FF97FF\", \"#FECB52\"], \"font\": {\"color\": \"#2a3f5f\"}, \"geo\": {\"bgcolor\": \"white\", \"lakecolor\": \"white\", \"landcolor\": \"#E5ECF6\", \"showlakes\": true, \"showland\": true, \"subunitcolor\": \"white\"}, \"hoverlabel\": {\"align\": \"left\"}, \"hovermode\": \"closest\", \"mapbox\": {\"style\": \"light\"}, \"paper_bgcolor\": \"white\", \"plot_bgcolor\": \"#E5ECF6\", \"polar\": {\"angularaxis\": {\"gridcolor\": \"white\", \"linecolor\": \"white\", \"ticks\": \"\"}, \"bgcolor\": \"#E5ECF6\", \"radialaxis\": {\"gridcolor\": \"white\", \"linecolor\": \"white\", \"ticks\": \"\"}}, \"scene\": {\"xaxis\": {\"backgroundcolor\": \"#E5ECF6\", \"gridcolor\": \"white\", \"gridwidth\": 2, \"linecolor\": \"white\", \"showbackground\": true, \"ticks\": \"\", \"zerolinecolor\": \"white\"}, \"yaxis\": {\"backgroundcolor\": \"#E5ECF6\", \"gridcolor\": \"white\", \"gridwidth\": 2, \"linecolor\": \"white\", \"showbackground\": true, \"ticks\": \"\", \"zerolinecolor\": \"white\"}, \"zaxis\": {\"backgroundcolor\": \"#E5ECF6\", \"gridcolor\": \"white\", \"gridwidth\": 2, \"linecolor\": \"white\", \"showbackground\": true, \"ticks\": \"\", \"zerolinecolor\": \"white\"}}, \"shapedefaults\": {\"line\": {\"color\": \"#2a3f5f\"}}, \"ternary\": {\"aaxis\": {\"gridcolor\": \"white\", \"linecolor\": \"white\", \"ticks\": \"\"}, \"baxis\": {\"gridcolor\": \"white\", \"linecolor\": \"white\", \"ticks\": \"\"}, \"bgcolor\": \"#E5ECF6\", \"caxis\": {\"gridcolor\": \"white\", \"linecolor\": \"white\", \"ticks\": \"\"}}, \"title\": {\"x\": 0.05}, \"xaxis\": {\"automargin\": true, \"gridcolor\": \"white\", \"linecolor\": \"white\", \"ticks\": \"\", \"title\": {\"standoff\": 15}, \"zerolinecolor\": \"white\", \"zerolinewidth\": 2}, \"yaxis\": {\"automargin\": true, \"gridcolor\": \"white\", \"linecolor\": \"white\", \"ticks\": \"\", \"title\": {\"standoff\": 15}, \"zerolinecolor\": \"white\", \"zerolinewidth\": 2}}}, \"xaxis\": {\"title\": {\"text\": \"Hierarchial (HC): tons recycling per household by label\"}, \"zeroline\": false}},                        {\"responsive\": true}                    ).then(function(){\n",
       "                            \n",
       "var gd = document.getElementById('5cf24a02-3d9e-4557-be8f-8b5f4669ea57');\n",
       "var x = new MutationObserver(function (mutations, observer) {{\n",
       "        var display = window.getComputedStyle(gd).display;\n",
       "        if (!display || display === 'none') {{\n",
       "            console.log([gd, 'removed!']);\n",
       "            Plotly.purge(gd);\n",
       "            observer.disconnect();\n",
       "        }}\n",
       "}});\n",
       "\n",
       "// Listen for the removal of the full notebook cells\n",
       "var notebookContainer = gd.closest('#notebook-container');\n",
       "if (notebookContainer) {{\n",
       "    x.observe(notebookContainer, {childList: true});\n",
       "}}\n",
       "\n",
       "// Listen for the clearing of the current output cell\n",
       "var outputEl = gd.closest('.output');\n",
       "if (outputEl) {{\n",
       "    x.observe(outputEl, {childList: true});\n",
       "}}\n",
       "\n",
       "                        })                };                });            </script>        </div>"
      ]
     },
     "metadata": {},
     "output_type": "display_data"
    }
   ],
   "source": [
    "layout = Layout(\n",
    "    boxgap=0.1,\n",
    "    height = 600\n",
    ")\n",
    "fig = go.Figure(layout=layout)\n",
    "\n",
    "\n",
    "fig.add_trace(go.Box(\n",
    "    x=hc_label2['tons_recyclables/hh'],\n",
    "    name='label 2',\n",
    "    marker_color='#FF4136'\n",
    "))\n",
    "fig.add_trace(go.Box(\n",
    "    x=hc_label0['tons_recyclables/hh'],\n",
    "    name='label 0',\n",
    "    marker_color='#AA22AA'\n",
    "))\n",
    "fig.add_trace(go.Box(\n",
    "    x=hc_label1['tons_recyclables/hh'],\n",
    "    name='label 1',\n",
    "    marker_color='#FF851B'\n",
    "))\n",
    "fig.add_trace(go.Box(\n",
    "    x=hc_label3['tons_recyclables/hh'],\n",
    "    name='label 3',\n",
    "    marker_color='#3D9970'\n",
    "))\n",
    "\n",
    "\n",
    "fig.update_layout(\n",
    "    xaxis=dict(title='Hierarchial (HC): tons recycling per household by label', zeroline=False),\n",
    "    boxmode='overlay'\n",
    ")\n",
    "\n",
    "fig.update_traces(orientation='h') # horizontal box plots\n",
    "\n",
    "fig.show()"
   ]
  },
  {
   "cell_type": "code",
   "execution_count": 58,
   "metadata": {
    "jupyter": {
     "source_hidden": true
    }
   },
   "outputs": [
    {
     "data": {
      "application/vnd.plotly.v1+json": {
       "config": {
        "plotlyServerURL": "https://plot.ly"
       },
       "data": [
        {
         "marker": {
          "color": "#3D9970"
         },
         "name": "label 3",
         "orientation": "h",
         "type": "box",
         "x": [
          0.3542803112953669,
          0.23653542242391976,
          0.6344222330570454,
          0.2996639895099165,
          0.3388474360254709,
          0.2414544383924628,
          0.26699507389162563,
          0.5111538052265451,
          0.13574007220216608,
          0.26966966966966965,
          0.4506172839506172,
          0.3985439173320808,
          0.23847019122609675,
          0.2770155946635209,
          0.2956005138086063,
          0.3160089627500977,
          0.3933438195350265,
          0.6861238639557763,
          0.15807802357684242,
          0.385239852398524,
          0.2851798784029741,
          0.19951786211825706,
          0.290139746208036,
          0.3412133891213389,
          0.18873085339168488,
          0.1846995647681373,
          0.3145121247529797,
          0.34416105724695856,
          0.29390551749008303,
          0.263075173957992,
          0.20118643712825668,
          0.4249750505386525,
          0.3720058065665608,
          0.16992785123127127,
          0.2586980920314253,
          0.316375462599529,
          0.4168434545634484,
          0.25274644460404416,
          0.2951513366058209,
          0.30710319739613257,
          0.16357267950963222,
          0.3595961588592121,
          0.2972749793559042,
          0.34945462609529065,
          0.3625360662494848,
          0.09551815047657676,
          0.2569799171907915,
          0.20637721572301007,
          0.18965067401072624,
          0.21457858769931668,
          0.3414609106308711,
          0.3304998492721787,
          0.28239693004034244,
          0.3135883469505653,
          0.25082946250829463,
          0.3232672639503219,
          0.3655151141270821,
          0.2755881935194107,
          0.39925979478540014,
          0.230849478390462,
          0.3721423802663481,
          0.2895544378149744,
          0.14672628691162812,
          0.24438679390963286,
          null,
          0.312268927237077,
          0.3685193150722542,
          0.2100056529112493,
          0.2927813100152125
         ]
        },
        {
         "marker": {
          "color": "#FF4136"
         },
         "name": "label 2",
         "orientation": "h",
         "type": "box",
         "x": [
          0.21564798630835336,
          0.3334672405547585,
          0.15050655111737818,
          0.18481138119009347,
          0.1679056856614128,
          0.3040705967511869,
          0.2813397129186603,
          0.4364515320382419,
          0.3398419172050384,
          0.3387952235621796,
          0.31561622191011235,
          0.1745196045048923,
          0.14408362409694372,
          0.2403881632351856,
          0.25173398612811104,
          0.3089887640449438,
          0.2787324566250414,
          0.2631272789183207,
          0.25182746975590986,
          0.2279223367306269,
          0.332763642490913,
          0.19637526652452025,
          0.2619952859799358,
          0.19501742488461904,
          0.16806851849979265,
          0.16030534351145034,
          0.3239451114922813,
          0.2269993898981268,
          0.2012035040552854,
          0.30852145617246285,
          0.3912839894310847,
          0.3195199578341341,
          0.30096920341801914,
          0.1141990845713716,
          0.16577329471241475,
          0.3404153862456289,
          0.14806238804665994,
          null,
          0.3565902717338749,
          0.211550339715874,
          0.16186580174634846,
          0.1819563259792886,
          0.25374494031905753,
          0.3342208753513554,
          0.39136381398983977,
          0.21584137026676334,
          0.23703703703703705,
          0.3188747510061385,
          0.3348839569659652,
          0.3378628950395885,
          0.17439146382127374,
          0.1539275069704836,
          0.30711889675736115,
          0.2801258715369902,
          0.32190091907644025,
          0.3240529290769804,
          0.20664802065404475,
          0.2735553583546484,
          0.3473104616687844,
          0.1882999870456485,
          0.16303210750784586,
          0.2370429252782194,
          0.3129662621088965,
          0.3597388777473089,
          0.3026734916749799,
          0.1814133809717912,
          0.3640192539109505,
          0.270033089710613,
          0.26347014724124906,
          0.36822955794866735,
          null,
          0.3110132158590308,
          0.2883034869538455,
          0.2667857278565186,
          0.2887537993920973,
          0.3717594178439842,
          0.34508842221608177,
          0.27735309412376496,
          0.22496920640506776,
          0.2564865171085429,
          0.11599552564609936
         ]
        },
        {
         "marker": {
          "color": "#FF851B"
         },
         "name": "label 1",
         "orientation": "h",
         "type": "box",
         "x": [
          0.2500671232804595,
          0.29107540752902544,
          0.3023595834176845,
          0.16454746117257274,
          0.2265608106020821,
          0.3591376400184134,
          0.3252236807006219,
          0.3119270118251472,
          0.2521895769923598,
          0.19480846986037675,
          0.10088925685502054,
          0.21040776080605286,
          0.18886147954423652,
          0.2569210208107936,
          0.25277474570868314,
          0.20376359932977936,
          0.3495532856558917,
          0.4604424596829458,
          0.10381866223225887,
          0.18137837379052796,
          0.16330282129122484,
          0.2780745530798247,
          0.1443025857414446,
          0.2479274769212026,
          0.3928842914847,
          0.27096620359654555
         ]
        },
        {
         "marker": {
          "color": "#AA22AA"
         },
         "name": "label 0",
         "orientation": "h",
         "type": "box",
         "x": [
          0.2697325231675852,
          0.3104374563282033,
          0.5093768242848803,
          0.24991150363421355,
          0.2806419750018637,
          0.23163103822693695,
          0.3810518975482248,
          0.3862401254972268,
          0.2887368200544655,
          0.2238331035410432,
          0.2970004917226685,
          0.2583130346116807,
          0.2674465510286406,
          0.22376009227220295,
          0.2348786885245901,
          0.24440052700922266,
          0.30241325819309994,
          0.2233981094977959,
          0.20452212957023733,
          0.28419595745564835,
          0.22014862956893214,
          0.22839149254214444,
          0.2949371218988925,
          0.31351334350280713,
          0.2649777797513529,
          0.29462224136001924,
          0.2224014125014558,
          0.24856156501726126,
          0.24607876609161924,
          0.1865583491712942,
          0.10415970344261798,
          0.2404929037182508,
          0.3052858683926645,
          0.24913516616221576,
          0.30771173422401304,
          0.2711387828881301,
          0.2936550300701043,
          0.23666512623437275,
          0.2157337096521291,
          0.3619824788219849,
          null,
          0.3416547788873039,
          0.2797202797202797,
          0.2343185033799717,
          0.3754226419493995,
          0.19587882682601648,
          0.24708774179758464,
          0.1251348042715842,
          0.1602570095481749,
          0.255141487552188,
          0.35494554550259644,
          0.05757307351638617,
          0.4249896288761786,
          0.2857142857142857,
          0.05973261643537019,
          0.2247949493067839,
          0.3668104778719841,
          0.21409921671018275,
          0.3825761214100471,
          0.2690157882662106,
          0.16651276327517125,
          0.1761098188902805,
          0.3713671681269631,
          0.11182001440975063,
          0.33877551020408164,
          0.1916503050787808,
          0.3676549157816791,
          0.2915905146097034,
          0.203267210397331,
          0.23973836560542236,
          0.31364049664513693,
          0.26962739619322273,
          0.30266264339645543,
          0.1997075073123172,
          0.2098051885889336,
          0.24163892222771,
          0.42857142857142855,
          0.2749711063322754,
          0.2443170452880524,
          0.21727702193165604,
          0.2665212278219965,
          0.2236644452374827,
          0.2321836023496981,
          0.1789034825401092,
          0.18932592211942167,
          0.2638791885893436,
          0.21340671738043784,
          0.1830964841178332,
          0.22420007355645455,
          0.27855903452205216,
          0.2394829614494571,
          0.26845583901658665,
          0.2553616484440706,
          0.3296084975869379,
          0.13417666263611214
         ]
        }
       ],
       "layout": {
        "autosize": true,
        "boxgap": 0.1,
        "boxmode": "overlay",
        "template": {
         "data": {
          "bar": [
           {
            "error_x": {
             "color": "#2a3f5f"
            },
            "error_y": {
             "color": "#2a3f5f"
            },
            "marker": {
             "line": {
              "color": "#E5ECF6",
              "width": 0.5
             }
            },
            "type": "bar"
           }
          ],
          "barpolar": [
           {
            "marker": {
             "line": {
              "color": "#E5ECF6",
              "width": 0.5
             }
            },
            "type": "barpolar"
           }
          ],
          "carpet": [
           {
            "aaxis": {
             "endlinecolor": "#2a3f5f",
             "gridcolor": "white",
             "linecolor": "white",
             "minorgridcolor": "white",
             "startlinecolor": "#2a3f5f"
            },
            "baxis": {
             "endlinecolor": "#2a3f5f",
             "gridcolor": "white",
             "linecolor": "white",
             "minorgridcolor": "white",
             "startlinecolor": "#2a3f5f"
            },
            "type": "carpet"
           }
          ],
          "choropleth": [
           {
            "colorbar": {
             "outlinewidth": 0,
             "ticks": ""
            },
            "type": "choropleth"
           }
          ],
          "contour": [
           {
            "colorbar": {
             "outlinewidth": 0,
             "ticks": ""
            },
            "colorscale": [
             [
              0,
              "#0d0887"
             ],
             [
              0.1111111111111111,
              "#46039f"
             ],
             [
              0.2222222222222222,
              "#7201a8"
             ],
             [
              0.3333333333333333,
              "#9c179e"
             ],
             [
              0.4444444444444444,
              "#bd3786"
             ],
             [
              0.5555555555555556,
              "#d8576b"
             ],
             [
              0.6666666666666666,
              "#ed7953"
             ],
             [
              0.7777777777777778,
              "#fb9f3a"
             ],
             [
              0.8888888888888888,
              "#fdca26"
             ],
             [
              1,
              "#f0f921"
             ]
            ],
            "type": "contour"
           }
          ],
          "contourcarpet": [
           {
            "colorbar": {
             "outlinewidth": 0,
             "ticks": ""
            },
            "type": "contourcarpet"
           }
          ],
          "heatmap": [
           {
            "colorbar": {
             "outlinewidth": 0,
             "ticks": ""
            },
            "colorscale": [
             [
              0,
              "#0d0887"
             ],
             [
              0.1111111111111111,
              "#46039f"
             ],
             [
              0.2222222222222222,
              "#7201a8"
             ],
             [
              0.3333333333333333,
              "#9c179e"
             ],
             [
              0.4444444444444444,
              "#bd3786"
             ],
             [
              0.5555555555555556,
              "#d8576b"
             ],
             [
              0.6666666666666666,
              "#ed7953"
             ],
             [
              0.7777777777777778,
              "#fb9f3a"
             ],
             [
              0.8888888888888888,
              "#fdca26"
             ],
             [
              1,
              "#f0f921"
             ]
            ],
            "type": "heatmap"
           }
          ],
          "heatmapgl": [
           {
            "colorbar": {
             "outlinewidth": 0,
             "ticks": ""
            },
            "colorscale": [
             [
              0,
              "#0d0887"
             ],
             [
              0.1111111111111111,
              "#46039f"
             ],
             [
              0.2222222222222222,
              "#7201a8"
             ],
             [
              0.3333333333333333,
              "#9c179e"
             ],
             [
              0.4444444444444444,
              "#bd3786"
             ],
             [
              0.5555555555555556,
              "#d8576b"
             ],
             [
              0.6666666666666666,
              "#ed7953"
             ],
             [
              0.7777777777777778,
              "#fb9f3a"
             ],
             [
              0.8888888888888888,
              "#fdca26"
             ],
             [
              1,
              "#f0f921"
             ]
            ],
            "type": "heatmapgl"
           }
          ],
          "histogram": [
           {
            "marker": {
             "colorbar": {
              "outlinewidth": 0,
              "ticks": ""
             }
            },
            "type": "histogram"
           }
          ],
          "histogram2d": [
           {
            "colorbar": {
             "outlinewidth": 0,
             "ticks": ""
            },
            "colorscale": [
             [
              0,
              "#0d0887"
             ],
             [
              0.1111111111111111,
              "#46039f"
             ],
             [
              0.2222222222222222,
              "#7201a8"
             ],
             [
              0.3333333333333333,
              "#9c179e"
             ],
             [
              0.4444444444444444,
              "#bd3786"
             ],
             [
              0.5555555555555556,
              "#d8576b"
             ],
             [
              0.6666666666666666,
              "#ed7953"
             ],
             [
              0.7777777777777778,
              "#fb9f3a"
             ],
             [
              0.8888888888888888,
              "#fdca26"
             ],
             [
              1,
              "#f0f921"
             ]
            ],
            "type": "histogram2d"
           }
          ],
          "histogram2dcontour": [
           {
            "colorbar": {
             "outlinewidth": 0,
             "ticks": ""
            },
            "colorscale": [
             [
              0,
              "#0d0887"
             ],
             [
              0.1111111111111111,
              "#46039f"
             ],
             [
              0.2222222222222222,
              "#7201a8"
             ],
             [
              0.3333333333333333,
              "#9c179e"
             ],
             [
              0.4444444444444444,
              "#bd3786"
             ],
             [
              0.5555555555555556,
              "#d8576b"
             ],
             [
              0.6666666666666666,
              "#ed7953"
             ],
             [
              0.7777777777777778,
              "#fb9f3a"
             ],
             [
              0.8888888888888888,
              "#fdca26"
             ],
             [
              1,
              "#f0f921"
             ]
            ],
            "type": "histogram2dcontour"
           }
          ],
          "mesh3d": [
           {
            "colorbar": {
             "outlinewidth": 0,
             "ticks": ""
            },
            "type": "mesh3d"
           }
          ],
          "parcoords": [
           {
            "line": {
             "colorbar": {
              "outlinewidth": 0,
              "ticks": ""
             }
            },
            "type": "parcoords"
           }
          ],
          "pie": [
           {
            "automargin": true,
            "type": "pie"
           }
          ],
          "scatter": [
           {
            "marker": {
             "colorbar": {
              "outlinewidth": 0,
              "ticks": ""
             }
            },
            "type": "scatter"
           }
          ],
          "scatter3d": [
           {
            "line": {
             "colorbar": {
              "outlinewidth": 0,
              "ticks": ""
             }
            },
            "marker": {
             "colorbar": {
              "outlinewidth": 0,
              "ticks": ""
             }
            },
            "type": "scatter3d"
           }
          ],
          "scattercarpet": [
           {
            "marker": {
             "colorbar": {
              "outlinewidth": 0,
              "ticks": ""
             }
            },
            "type": "scattercarpet"
           }
          ],
          "scattergeo": [
           {
            "marker": {
             "colorbar": {
              "outlinewidth": 0,
              "ticks": ""
             }
            },
            "type": "scattergeo"
           }
          ],
          "scattergl": [
           {
            "marker": {
             "colorbar": {
              "outlinewidth": 0,
              "ticks": ""
             }
            },
            "type": "scattergl"
           }
          ],
          "scattermapbox": [
           {
            "marker": {
             "colorbar": {
              "outlinewidth": 0,
              "ticks": ""
             }
            },
            "type": "scattermapbox"
           }
          ],
          "scatterpolar": [
           {
            "marker": {
             "colorbar": {
              "outlinewidth": 0,
              "ticks": ""
             }
            },
            "type": "scatterpolar"
           }
          ],
          "scatterpolargl": [
           {
            "marker": {
             "colorbar": {
              "outlinewidth": 0,
              "ticks": ""
             }
            },
            "type": "scatterpolargl"
           }
          ],
          "scatterternary": [
           {
            "marker": {
             "colorbar": {
              "outlinewidth": 0,
              "ticks": ""
             }
            },
            "type": "scatterternary"
           }
          ],
          "surface": [
           {
            "colorbar": {
             "outlinewidth": 0,
             "ticks": ""
            },
            "colorscale": [
             [
              0,
              "#0d0887"
             ],
             [
              0.1111111111111111,
              "#46039f"
             ],
             [
              0.2222222222222222,
              "#7201a8"
             ],
             [
              0.3333333333333333,
              "#9c179e"
             ],
             [
              0.4444444444444444,
              "#bd3786"
             ],
             [
              0.5555555555555556,
              "#d8576b"
             ],
             [
              0.6666666666666666,
              "#ed7953"
             ],
             [
              0.7777777777777778,
              "#fb9f3a"
             ],
             [
              0.8888888888888888,
              "#fdca26"
             ],
             [
              1,
              "#f0f921"
             ]
            ],
            "type": "surface"
           }
          ],
          "table": [
           {
            "cells": {
             "fill": {
              "color": "#EBF0F8"
             },
             "line": {
              "color": "white"
             }
            },
            "header": {
             "fill": {
              "color": "#C8D4E3"
             },
             "line": {
              "color": "white"
             }
            },
            "type": "table"
           }
          ]
         },
         "layout": {
          "annotationdefaults": {
           "arrowcolor": "#2a3f5f",
           "arrowhead": 0,
           "arrowwidth": 1
          },
          "autotypenumbers": "strict",
          "coloraxis": {
           "colorbar": {
            "outlinewidth": 0,
            "ticks": ""
           }
          },
          "colorscale": {
           "diverging": [
            [
             0,
             "#8e0152"
            ],
            [
             0.1,
             "#c51b7d"
            ],
            [
             0.2,
             "#de77ae"
            ],
            [
             0.3,
             "#f1b6da"
            ],
            [
             0.4,
             "#fde0ef"
            ],
            [
             0.5,
             "#f7f7f7"
            ],
            [
             0.6,
             "#e6f5d0"
            ],
            [
             0.7,
             "#b8e186"
            ],
            [
             0.8,
             "#7fbc41"
            ],
            [
             0.9,
             "#4d9221"
            ],
            [
             1,
             "#276419"
            ]
           ],
           "sequential": [
            [
             0,
             "#0d0887"
            ],
            [
             0.1111111111111111,
             "#46039f"
            ],
            [
             0.2222222222222222,
             "#7201a8"
            ],
            [
             0.3333333333333333,
             "#9c179e"
            ],
            [
             0.4444444444444444,
             "#bd3786"
            ],
            [
             0.5555555555555556,
             "#d8576b"
            ],
            [
             0.6666666666666666,
             "#ed7953"
            ],
            [
             0.7777777777777778,
             "#fb9f3a"
            ],
            [
             0.8888888888888888,
             "#fdca26"
            ],
            [
             1,
             "#f0f921"
            ]
           ],
           "sequentialminus": [
            [
             0,
             "#0d0887"
            ],
            [
             0.1111111111111111,
             "#46039f"
            ],
            [
             0.2222222222222222,
             "#7201a8"
            ],
            [
             0.3333333333333333,
             "#9c179e"
            ],
            [
             0.4444444444444444,
             "#bd3786"
            ],
            [
             0.5555555555555556,
             "#d8576b"
            ],
            [
             0.6666666666666666,
             "#ed7953"
            ],
            [
             0.7777777777777778,
             "#fb9f3a"
            ],
            [
             0.8888888888888888,
             "#fdca26"
            ],
            [
             1,
             "#f0f921"
            ]
           ]
          },
          "colorway": [
           "#636efa",
           "#EF553B",
           "#00cc96",
           "#ab63fa",
           "#FFA15A",
           "#19d3f3",
           "#FF6692",
           "#B6E880",
           "#FF97FF",
           "#FECB52"
          ],
          "font": {
           "color": "#2a3f5f"
          },
          "geo": {
           "bgcolor": "white",
           "lakecolor": "white",
           "landcolor": "#E5ECF6",
           "showlakes": true,
           "showland": true,
           "subunitcolor": "white"
          },
          "hoverlabel": {
           "align": "left"
          },
          "hovermode": "closest",
          "mapbox": {
           "style": "light"
          },
          "paper_bgcolor": "white",
          "plot_bgcolor": "#E5ECF6",
          "polar": {
           "angularaxis": {
            "gridcolor": "white",
            "linecolor": "white",
            "ticks": ""
           },
           "bgcolor": "#E5ECF6",
           "radialaxis": {
            "gridcolor": "white",
            "linecolor": "white",
            "ticks": ""
           }
          },
          "scene": {
           "xaxis": {
            "backgroundcolor": "#E5ECF6",
            "gridcolor": "white",
            "gridwidth": 2,
            "linecolor": "white",
            "showbackground": true,
            "ticks": "",
            "zerolinecolor": "white"
           },
           "yaxis": {
            "backgroundcolor": "#E5ECF6",
            "gridcolor": "white",
            "gridwidth": 2,
            "linecolor": "white",
            "showbackground": true,
            "ticks": "",
            "zerolinecolor": "white"
           },
           "zaxis": {
            "backgroundcolor": "#E5ECF6",
            "gridcolor": "white",
            "gridwidth": 2,
            "linecolor": "white",
            "showbackground": true,
            "ticks": "",
            "zerolinecolor": "white"
           }
          },
          "shapedefaults": {
           "line": {
            "color": "#2a3f5f"
           }
          },
          "ternary": {
           "aaxis": {
            "gridcolor": "white",
            "linecolor": "white",
            "ticks": ""
           },
           "baxis": {
            "gridcolor": "white",
            "linecolor": "white",
            "ticks": ""
           },
           "bgcolor": "#E5ECF6",
           "caxis": {
            "gridcolor": "white",
            "linecolor": "white",
            "ticks": ""
           }
          },
          "title": {
           "x": 0.05
          },
          "xaxis": {
           "automargin": true,
           "gridcolor": "white",
           "linecolor": "white",
           "ticks": "",
           "title": {
            "standoff": 15
           },
           "zerolinecolor": "white",
           "zerolinewidth": 2
          },
          "yaxis": {
           "automargin": true,
           "gridcolor": "white",
           "linecolor": "white",
           "ticks": "",
           "title": {
            "standoff": 15
           },
           "zerolinecolor": "white",
           "zerolinewidth": 2
          }
         }
        },
        "xaxis": {
         "autorange": true,
         "range": [
          0.022653585158642284,
          0.7210433523135202
         ],
         "title": {
          "text": "Hierarchial (HC_S): percent recycling per household by label"
         },
         "type": "linear",
         "zeroline": false
        },
        "yaxis": {
         "autorange": true,
         "range": [
          -0.5,
          3.5
         ],
         "type": "category"
        }
       }
      },
      "image/png": "[encoded data removed]",
      "text/html": [
       "<div>                            <div id=\"f2c060a4-608f-433f-b35e-7d4f6209cfc5\" class=\"plotly-graph-div\" style=\"height:600px; width:100%;\"></div>            <script type=\"text/javascript\">                require([\"plotly\"], function(Plotly) {                    window.PLOTLYENV=window.PLOTLYENV || {};                                    if (document.getElementById(\"f2c060a4-608f-433f-b35e-7d4f6209cfc5\")) {                    Plotly.newPlot(                        \"f2c060a4-608f-433f-b35e-7d4f6209cfc5\",                        [{\"marker\": {\"color\": \"#3D9970\"}, \"name\": \"label 3\", \"orientation\": \"h\", \"type\": \"box\", \"x\": [0.3542803112953669, 0.23653542242391976, 0.6344222330570454, 0.2996639895099165, 0.3388474360254709, 0.2414544383924628, 0.26699507389162563, 0.5111538052265451, 0.13574007220216608, 0.26966966966966965, 0.4506172839506172, 0.3985439173320808, 0.23847019122609675, 0.2770155946635209, 0.2956005138086063, 0.3160089627500977, 0.3933438195350265, 0.6861238639557763, 0.15807802357684242, 0.385239852398524, 0.2851798784029741, 0.19951786211825706, 0.290139746208036, 0.3412133891213389, 0.18873085339168488, 0.1846995647681373, 0.3145121247529797, 0.34416105724695856, 0.29390551749008303, 0.263075173957992, 0.20118643712825668, 0.4249750505386525, 0.3720058065665608, 0.16992785123127127, 0.2586980920314253, 0.316375462599529, 0.4168434545634484, 0.25274644460404416, 0.2951513366058209, 0.30710319739613257, 0.16357267950963222, 0.3595961588592121, 0.2972749793559042, 0.34945462609529065, 0.3625360662494848, 0.09551815047657676, 0.2569799171907915, 0.20637721572301007, 0.18965067401072624, 0.21457858769931668, 0.3414609106308711, 0.3304998492721787, 0.28239693004034244, 0.3135883469505653, 0.25082946250829463, 0.3232672639503219, 0.3655151141270821, 0.2755881935194107, 0.39925979478540014, 0.230849478390462, 0.3721423802663481, 0.2895544378149744, 0.14672628691162812, 0.24438679390963286, null, 0.312268927237077, 0.3685193150722542, 0.2100056529112493, 0.2927813100152125]}, {\"marker\": {\"color\": \"#FF4136\"}, \"name\": \"label 2\", \"orientation\": \"h\", \"type\": \"box\", \"x\": [0.21564798630835336, 0.3334672405547585, 0.15050655111737818, 0.18481138119009347, 0.1679056856614128, 0.3040705967511869, 0.2813397129186603, 0.4364515320382419, 0.3398419172050384, 0.3387952235621796, 0.31561622191011235, 0.1745196045048923, 0.14408362409694372, 0.2403881632351856, 0.25173398612811104, 0.3089887640449438, 0.2787324566250414, 0.2631272789183207, 0.25182746975590986, 0.2279223367306269, 0.332763642490913, 0.19637526652452025, 0.2619952859799358, 0.19501742488461904, 0.16806851849979265, 0.16030534351145034, 0.3239451114922813, 0.2269993898981268, 0.2012035040552854, 0.30852145617246285, 0.3912839894310847, 0.3195199578341341, 0.30096920341801914, 0.1141990845713716, 0.16577329471241475, 0.3404153862456289, 0.14806238804665994, null, 0.3565902717338749, 0.211550339715874, 0.16186580174634846, 0.1819563259792886, 0.25374494031905753, 0.3342208753513554, 0.39136381398983977, 0.21584137026676334, 0.23703703703703705, 0.3188747510061385, 0.3348839569659652, 0.3378628950395885, 0.17439146382127374, 0.1539275069704836, 0.30711889675736115, 0.2801258715369902, 0.32190091907644025, 0.3240529290769804, 0.20664802065404475, 0.2735553583546484, 0.3473104616687844, 0.1882999870456485, 0.16303210750784586, 0.2370429252782194, 0.3129662621088965, 0.3597388777473089, 0.3026734916749799, 0.1814133809717912, 0.3640192539109505, 0.270033089710613, 0.26347014724124906, 0.36822955794866735, null, 0.3110132158590308, 0.2883034869538455, 0.2667857278565186, 0.2887537993920973, 0.3717594178439842, 0.34508842221608177, 0.27735309412376496, 0.22496920640506776, 0.2564865171085429, 0.11599552564609936]}, {\"marker\": {\"color\": \"#FF851B\"}, \"name\": \"label 1\", \"orientation\": \"h\", \"type\": \"box\", \"x\": [0.2500671232804595, 0.29107540752902544, 0.3023595834176845, 0.16454746117257274, 0.2265608106020821, 0.3591376400184134, 0.3252236807006219, 0.3119270118251472, 0.2521895769923598, 0.19480846986037675, 0.10088925685502054, 0.21040776080605286, 0.18886147954423652, 0.2569210208107936, 0.25277474570868314, 0.20376359932977936, 0.3495532856558917, 0.4604424596829458, 0.10381866223225887, 0.18137837379052796, 0.16330282129122484, 0.2780745530798247, 0.1443025857414446, 0.2479274769212026, 0.3928842914847, 0.27096620359654555]}, {\"marker\": {\"color\": \"#AA22AA\"}, \"name\": \"label 0\", \"orientation\": \"h\", \"type\": \"box\", \"x\": [0.2697325231675852, 0.3104374563282033, 0.5093768242848803, 0.24991150363421355, 0.2806419750018637, 0.23163103822693695, 0.3810518975482248, 0.3862401254972268, 0.2887368200544655, 0.2238331035410432, 0.2970004917226685, 0.2583130346116807, 0.2674465510286406, 0.22376009227220295, 0.2348786885245901, 0.24440052700922266, 0.30241325819309994, 0.2233981094977959, 0.20452212957023733, 0.28419595745564835, 0.22014862956893214, 0.22839149254214444, 0.2949371218988925, 0.31351334350280713, 0.2649777797513529, 0.29462224136001924, 0.2224014125014558, 0.24856156501726126, 0.24607876609161924, 0.1865583491712942, 0.10415970344261798, 0.2404929037182508, 0.3052858683926645, 0.24913516616221576, 0.30771173422401304, 0.2711387828881301, 0.2936550300701043, 0.23666512623437275, 0.2157337096521291, 0.3619824788219849, null, 0.3416547788873039, 0.2797202797202797, 0.2343185033799717, 0.3754226419493995, 0.19587882682601648, 0.24708774179758464, 0.1251348042715842, 0.1602570095481749, 0.255141487552188, 0.35494554550259644, 0.05757307351638617, 0.4249896288761786, 0.2857142857142857, 0.05973261643537019, 0.2247949493067839, 0.3668104778719841, 0.21409921671018275, 0.3825761214100471, 0.2690157882662106, 0.16651276327517125, 0.1761098188902805, 0.3713671681269631, 0.11182001440975063, 0.33877551020408164, 0.1916503050787808, 0.3676549157816791, 0.2915905146097034, 0.203267210397331, 0.23973836560542236, 0.31364049664513693, 0.26962739619322273, 0.30266264339645543, 0.1997075073123172, 0.2098051885889336, 0.24163892222771, 0.42857142857142855, 0.2749711063322754, 0.2443170452880524, 0.21727702193165604, 0.2665212278219965, 0.2236644452374827, 0.2321836023496981, 0.1789034825401092, 0.18932592211942167, 0.2638791885893436, 0.21340671738043784, 0.1830964841178332, 0.22420007355645455, 0.27855903452205216, 0.2394829614494571, 0.26845583901658665, 0.2553616484440706, 0.3296084975869379, 0.13417666263611214]}],                        {\"boxgap\": 0.1, \"boxmode\": \"overlay\", \"height\": 600, \"template\": {\"data\": {\"bar\": [{\"error_x\": {\"color\": \"#2a3f5f\"}, \"error_y\": {\"color\": \"#2a3f5f\"}, \"marker\": {\"line\": {\"color\": \"#E5ECF6\", \"width\": 0.5}}, \"type\": \"bar\"}], \"barpolar\": [{\"marker\": {\"line\": {\"color\": \"#E5ECF6\", \"width\": 0.5}}, \"type\": \"barpolar\"}], \"carpet\": [{\"aaxis\": {\"endlinecolor\": \"#2a3f5f\", \"gridcolor\": \"white\", \"linecolor\": \"white\", \"minorgridcolor\": \"white\", \"startlinecolor\": \"#2a3f5f\"}, \"baxis\": {\"endlinecolor\": \"#2a3f5f\", \"gridcolor\": \"white\", \"linecolor\": \"white\", \"minorgridcolor\": \"white\", \"startlinecolor\": \"#2a3f5f\"}, \"type\": \"carpet\"}], \"choropleth\": [{\"colorbar\": {\"outlinewidth\": 0, \"ticks\": \"\"}, \"type\": \"choropleth\"}], \"contour\": [{\"colorbar\": {\"outlinewidth\": 0, \"ticks\": \"\"}, \"colorscale\": [[0.0, \"#0d0887\"], [0.1111111111111111, \"#46039f\"], [0.2222222222222222, \"#7201a8\"], [0.3333333333333333, \"#9c179e\"], [0.4444444444444444, \"#bd3786\"], [0.5555555555555556, \"#d8576b\"], [0.6666666666666666, \"#ed7953\"], [0.7777777777777778, \"#fb9f3a\"], [0.8888888888888888, \"#fdca26\"], [1.0, \"#f0f921\"]], \"type\": \"contour\"}], \"contourcarpet\": [{\"colorbar\": {\"outlinewidth\": 0, \"ticks\": \"\"}, \"type\": \"contourcarpet\"}], \"heatmap\": [{\"colorbar\": {\"outlinewidth\": 0, \"ticks\": \"\"}, \"colorscale\": [[0.0, \"#0d0887\"], [0.1111111111111111, \"#46039f\"], [0.2222222222222222, \"#7201a8\"], [0.3333333333333333, \"#9c179e\"], [0.4444444444444444, \"#bd3786\"], [0.5555555555555556, \"#d8576b\"], [0.6666666666666666, \"#ed7953\"], [0.7777777777777778, \"#fb9f3a\"], [0.8888888888888888, \"#fdca26\"], [1.0, \"#f0f921\"]], \"type\": \"heatmap\"}], \"heatmapgl\": [{\"colorbar\": {\"outlinewidth\": 0, \"ticks\": \"\"}, \"colorscale\": [[0.0, \"#0d0887\"], [0.1111111111111111, \"#46039f\"], [0.2222222222222222, \"#7201a8\"], [0.3333333333333333, \"#9c179e\"], [0.4444444444444444, \"#bd3786\"], [0.5555555555555556, \"#d8576b\"], [0.6666666666666666, \"#ed7953\"], [0.7777777777777778, \"#fb9f3a\"], [0.8888888888888888, \"#fdca26\"], [1.0, \"#f0f921\"]], \"type\": \"heatmapgl\"}], \"histogram\": [{\"marker\": {\"colorbar\": {\"outlinewidth\": 0, \"ticks\": \"\"}}, \"type\": \"histogram\"}], \"histogram2d\": [{\"colorbar\": {\"outlinewidth\": 0, \"ticks\": \"\"}, \"colorscale\": [[0.0, \"#0d0887\"], [0.1111111111111111, \"#46039f\"], [0.2222222222222222, \"#7201a8\"], [0.3333333333333333, \"#9c179e\"], [0.4444444444444444, \"#bd3786\"], [0.5555555555555556, \"#d8576b\"], [0.6666666666666666, \"#ed7953\"], [0.7777777777777778, \"#fb9f3a\"], [0.8888888888888888, \"#fdca26\"], [1.0, \"#f0f921\"]], \"type\": \"histogram2d\"}], \"histogram2dcontour\": [{\"colorbar\": {\"outlinewidth\": 0, \"ticks\": \"\"}, \"colorscale\": [[0.0, \"#0d0887\"], [0.1111111111111111, \"#46039f\"], [0.2222222222222222, \"#7201a8\"], [0.3333333333333333, \"#9c179e\"], [0.4444444444444444, \"#bd3786\"], [0.5555555555555556, \"#d8576b\"], [0.6666666666666666, \"#ed7953\"], [0.7777777777777778, \"#fb9f3a\"], [0.8888888888888888, \"#fdca26\"], [1.0, \"#f0f921\"]], \"type\": \"histogram2dcontour\"}], \"mesh3d\": [{\"colorbar\": {\"outlinewidth\": 0, \"ticks\": \"\"}, \"type\": \"mesh3d\"}], \"parcoords\": [{\"line\": {\"colorbar\": {\"outlinewidth\": 0, \"ticks\": \"\"}}, \"type\": \"parcoords\"}], \"pie\": [{\"automargin\": true, \"type\": \"pie\"}], \"scatter\": [{\"marker\": {\"colorbar\": {\"outlinewidth\": 0, \"ticks\": \"\"}}, \"type\": \"scatter\"}], \"scatter3d\": [{\"line\": {\"colorbar\": {\"outlinewidth\": 0, \"ticks\": \"\"}}, \"marker\": {\"colorbar\": {\"outlinewidth\": 0, \"ticks\": \"\"}}, \"type\": \"scatter3d\"}], \"scattercarpet\": [{\"marker\": {\"colorbar\": {\"outlinewidth\": 0, \"ticks\": \"\"}}, \"type\": \"scattercarpet\"}], \"scattergeo\": [{\"marker\": {\"colorbar\": {\"outlinewidth\": 0, \"ticks\": \"\"}}, \"type\": \"scattergeo\"}], \"scattergl\": [{\"marker\": {\"colorbar\": {\"outlinewidth\": 0, \"ticks\": \"\"}}, \"type\": \"scattergl\"}], \"scattermapbox\": [{\"marker\": {\"colorbar\": {\"outlinewidth\": 0, \"ticks\": \"\"}}, \"type\": \"scattermapbox\"}], \"scatterpolar\": [{\"marker\": {\"colorbar\": {\"outlinewidth\": 0, \"ticks\": \"\"}}, \"type\": \"scatterpolar\"}], \"scatterpolargl\": [{\"marker\": {\"colorbar\": {\"outlinewidth\": 0, \"ticks\": \"\"}}, \"type\": \"scatterpolargl\"}], \"scatterternary\": [{\"marker\": {\"colorbar\": {\"outlinewidth\": 0, \"ticks\": \"\"}}, \"type\": \"scatterternary\"}], \"surface\": [{\"colorbar\": {\"outlinewidth\": 0, \"ticks\": \"\"}, \"colorscale\": [[0.0, \"#0d0887\"], [0.1111111111111111, \"#46039f\"], [0.2222222222222222, \"#7201a8\"], [0.3333333333333333, \"#9c179e\"], [0.4444444444444444, \"#bd3786\"], [0.5555555555555556, \"#d8576b\"], [0.6666666666666666, \"#ed7953\"], [0.7777777777777778, \"#fb9f3a\"], [0.8888888888888888, \"#fdca26\"], [1.0, \"#f0f921\"]], \"type\": \"surface\"}], \"table\": [{\"cells\": {\"fill\": {\"color\": \"#EBF0F8\"}, \"line\": {\"color\": \"white\"}}, \"header\": {\"fill\": {\"color\": \"#C8D4E3\"}, \"line\": {\"color\": \"white\"}}, \"type\": \"table\"}]}, \"layout\": {\"annotationdefaults\": {\"arrowcolor\": \"#2a3f5f\", \"arrowhead\": 0, \"arrowwidth\": 1}, \"autotypenumbers\": \"strict\", \"coloraxis\": {\"colorbar\": {\"outlinewidth\": 0, \"ticks\": \"\"}}, \"colorscale\": {\"diverging\": [[0, \"#8e0152\"], [0.1, \"#c51b7d\"], [0.2, \"#de77ae\"], [0.3, \"#f1b6da\"], [0.4, \"#fde0ef\"], [0.5, \"#f7f7f7\"], [0.6, \"#e6f5d0\"], [0.7, \"#b8e186\"], [0.8, \"#7fbc41\"], [0.9, \"#4d9221\"], [1, \"#276419\"]], \"sequential\": [[0.0, \"#0d0887\"], [0.1111111111111111, \"#46039f\"], [0.2222222222222222, \"#7201a8\"], [0.3333333333333333, \"#9c179e\"], [0.4444444444444444, \"#bd3786\"], [0.5555555555555556, \"#d8576b\"], [0.6666666666666666, \"#ed7953\"], [0.7777777777777778, \"#fb9f3a\"], [0.8888888888888888, \"#fdca26\"], [1.0, \"#f0f921\"]], \"sequentialminus\": [[0.0, \"#0d0887\"], [0.1111111111111111, \"#46039f\"], [0.2222222222222222, \"#7201a8\"], [0.3333333333333333, \"#9c179e\"], [0.4444444444444444, \"#bd3786\"], [0.5555555555555556, \"#d8576b\"], [0.6666666666666666, \"#ed7953\"], [0.7777777777777778, \"#fb9f3a\"], [0.8888888888888888, \"#fdca26\"], [1.0, \"#f0f921\"]]}, \"colorway\": [\"#636efa\", \"#EF553B\", \"#00cc96\", \"#ab63fa\", \"#FFA15A\", \"#19d3f3\", \"#FF6692\", \"#B6E880\", \"#FF97FF\", \"#FECB52\"], \"font\": {\"color\": \"#2a3f5f\"}, \"geo\": {\"bgcolor\": \"white\", \"lakecolor\": \"white\", \"landcolor\": \"#E5ECF6\", \"showlakes\": true, \"showland\": true, \"subunitcolor\": \"white\"}, \"hoverlabel\": {\"align\": \"left\"}, \"hovermode\": \"closest\", \"mapbox\": {\"style\": \"light\"}, \"paper_bgcolor\": \"white\", \"plot_bgcolor\": \"#E5ECF6\", \"polar\": {\"angularaxis\": {\"gridcolor\": \"white\", \"linecolor\": \"white\", \"ticks\": \"\"}, \"bgcolor\": \"#E5ECF6\", \"radialaxis\": {\"gridcolor\": \"white\", \"linecolor\": \"white\", \"ticks\": \"\"}}, \"scene\": {\"xaxis\": {\"backgroundcolor\": \"#E5ECF6\", \"gridcolor\": \"white\", \"gridwidth\": 2, \"linecolor\": \"white\", \"showbackground\": true, \"ticks\": \"\", \"zerolinecolor\": \"white\"}, \"yaxis\": {\"backgroundcolor\": \"#E5ECF6\", \"gridcolor\": \"white\", \"gridwidth\": 2, \"linecolor\": \"white\", \"showbackground\": true, \"ticks\": \"\", \"zerolinecolor\": \"white\"}, \"zaxis\": {\"backgroundcolor\": \"#E5ECF6\", \"gridcolor\": \"white\", \"gridwidth\": 2, \"linecolor\": \"white\", \"showbackground\": true, \"ticks\": \"\", \"zerolinecolor\": \"white\"}}, \"shapedefaults\": {\"line\": {\"color\": \"#2a3f5f\"}}, \"ternary\": {\"aaxis\": {\"gridcolor\": \"white\", \"linecolor\": \"white\", \"ticks\": \"\"}, \"baxis\": {\"gridcolor\": \"white\", \"linecolor\": \"white\", \"ticks\": \"\"}, \"bgcolor\": \"#E5ECF6\", \"caxis\": {\"gridcolor\": \"white\", \"linecolor\": \"white\", \"ticks\": \"\"}}, \"title\": {\"x\": 0.05}, \"xaxis\": {\"automargin\": true, \"gridcolor\": \"white\", \"linecolor\": \"white\", \"ticks\": \"\", \"title\": {\"standoff\": 15}, \"zerolinecolor\": \"white\", \"zerolinewidth\": 2}, \"yaxis\": {\"automargin\": true, \"gridcolor\": \"white\", \"linecolor\": \"white\", \"ticks\": \"\", \"title\": {\"standoff\": 15}, \"zerolinecolor\": \"white\", \"zerolinewidth\": 2}}}, \"xaxis\": {\"title\": {\"text\": \"Hierarchial (HC_S): percent recycling per household by label\"}, \"zeroline\": false}},                        {\"responsive\": true}                    ).then(function(){\n",
       "                            \n",
       "var gd = document.getElementById('f2c060a4-608f-433f-b35e-7d4f6209cfc5');\n",
       "var x = new MutationObserver(function (mutations, observer) {{\n",
       "        var display = window.getComputedStyle(gd).display;\n",
       "        if (!display || display === 'none') {{\n",
       "            console.log([gd, 'removed!']);\n",
       "            Plotly.purge(gd);\n",
       "            observer.disconnect();\n",
       "        }}\n",
       "}});\n",
       "\n",
       "// Listen for the removal of the full notebook cells\n",
       "var notebookContainer = gd.closest('#notebook-container');\n",
       "if (notebookContainer) {{\n",
       "    x.observe(notebookContainer, {childList: true});\n",
       "}}\n",
       "\n",
       "// Listen for the clearing of the current output cell\n",
       "var outputEl = gd.closest('.output');\n",
       "if (outputEl) {{\n",
       "    x.observe(outputEl, {childList: true});\n",
       "}}\n",
       "\n",
       "                        })                };                });            </script>        </div>"
      ]
     },
     "metadata": {},
     "output_type": "display_data"
    }
   ],
   "source": [
    "layout = Layout(\n",
    "    boxgap=0.1,\n",
    "    height = 600\n",
    ")\n",
    "fig = go.Figure(layout=layout)\n",
    "\n",
    "\n",
    "\n",
    "fig.add_trace(go.Box(\n",
    "    x=hc_s_label3['%recycle/hh'],\n",
    "    name='label 3',\n",
    "    marker_color='#3D9970'\n",
    "))\n",
    "fig.add_trace(go.Box(\n",
    "    x=hc_s_label2['%recycle/hh'],\n",
    "    name='label 2',\n",
    "    marker_color='#FF4136'\n",
    "))\n",
    "fig.add_trace(go.Box(\n",
    "    x=hc_s_label1['%recycle/hh'],\n",
    "    name='label 1',\n",
    "    marker_color='#FF851B'\n",
    "))\n",
    "fig.add_trace(go.Box(\n",
    "    x=hc_s_label0['%recycle/hh'],\n",
    "    name='label 0',\n",
    "    marker_color='#AA22AA'\n",
    "))\n",
    "\n",
    "fig.update_layout(\n",
    "    xaxis=dict(title='Hierarchial (HC_S): percent recycling per household by label', zeroline=False),\n",
    "    boxmode='overlay'\n",
    ")\n",
    "\n",
    "fig.update_traces(orientation='h') # horizontal box plots\n",
    "\n",
    "fig.show()"
   ]
  },
  {
   "cell_type": "code",
   "execution_count": 59,
   "metadata": {
    "jupyter": {
     "source_hidden": true
    }
   },
   "outputs": [
    {
     "data": {
      "application/vnd.plotly.v1+json": {
       "config": {
        "plotlyServerURL": "https://plot.ly"
       },
       "data": [
        {
         "marker": {
          "color": "#AA22AA"
         },
         "name": "label 0",
         "orientation": "h",
         "type": "box",
         "x": [
          0.3104374563282033,
          0.3810518975482248,
          0.2583130346116807,
          0.3023595834176845,
          0.2996639895099165,
          0.3388474360254709,
          0.28419595745564835,
          0.2414544383924628,
          0.22839149254214444,
          0.26699507389162563,
          0.5111538052265451,
          0.26966966966966965,
          0.4506172839506172,
          0.3985439173320808,
          0.3052858683926645,
          0.3933438195350265,
          0.15807802357684242,
          0.2851798784029741,
          0.19951786211825706,
          0.3412133891213389,
          0.3145121247529797,
          0.3416547788873039,
          0.34416105724695856,
          0.29390551749008303,
          0.20118643712825668,
          0.4249750505386525,
          0.2797202797202797,
          0.3720058065665608,
          0.2586980920314253,
          0.316375462599529,
          0.1602570095481749,
          0.35494554550259644,
          0.4249896288761786,
          0.3595961588592121,
          0.2972749793559042,
          0.3625360662494848,
          0.09551815047657676,
          0.2915905146097034,
          0.21457858769931668,
          0.3304998492721787,
          0.28239693004034244,
          0.25082946250829463,
          0.3232672639503219,
          0.2755881935194107,
          0.39925979478540014,
          0.230849478390462,
          0.3721423802663481,
          0.24438679390963286,
          0.312268927237077,
          0.2553616484440706,
          0.2100056529112493,
          0.2927813100152125
         ]
        },
        {
         "marker": {
          "color": "#FF4136"
         },
         "name": "label 2",
         "orientation": "h",
         "type": "box",
         "x": [
          0.2697325231675852,
          0.21564798630835336,
          0.24991150363421355,
          0.2806419750018637,
          0.2500671232804595,
          0.23163103822693695,
          0.3542803112953669,
          0.23653542242391976,
          0.2238331035410432,
          0.2674465510286406,
          0.3040705967511869,
          0.22376009227220295,
          0.24440052700922266,
          0.6344222330570454,
          0.30241325819309994,
          0.2233981094977959,
          0.22014862956893214,
          0.1745196045048923,
          0.14408362409694372,
          0.3089887640449438,
          0.2631272789183207,
          0.2649777797513529,
          0.332763642490913,
          0.29462224136001924,
          0.3119270118251472,
          0.19637526652452025,
          0.2619952859799358,
          0.13574007220216608,
          0.2224014125014558,
          0.23847019122609675,
          0.2770155946635209,
          0.2269993898981268,
          0.30852145617246285,
          0.3195199578341341,
          0.30771173422401304,
          0.2956005138086063,
          0.3160089627500977,
          0.6861238639557763,
          0.385239852398524,
          0.16577329471241475,
          0.290139746208036,
          0.23666512623437275,
          0.18873085339168488,
          0.1846995647681373,
          null,
          0.3565902717338749,
          0.211550339715874,
          0.263075173957992,
          0.16992785123127127,
          0.3754226419493995,
          0.16186580174634846,
          0.19587882682601648,
          0.24708774179758464,
          0.4168434545634484,
          0.25274644460404416,
          0.255141487552188,
          0.2951513366058209,
          0.30710319739613257,
          0.16357267950963222,
          0.25374494031905753,
          0.3342208753513554,
          0.21584137026676334,
          0.2857142857142857,
          0.2247949493067839,
          0.3668104778719841,
          0.4604424596829458,
          0.34945462609529065,
          0.3348839569659652,
          0.3825761214100471,
          0.1539275069704836,
          0.2569799171907915,
          0.1761098188902805,
          0.33877551020408164,
          0.3676549157816791,
          0.20637721572301007,
          0.203267210397331,
          0.3240529290769804,
          0.3473104616687844,
          0.1882999870456485,
          0.3414609106308711,
          0.2370429252782194,
          0.26962739619322273,
          0.3597388777473089,
          0.3026734916749799,
          0.30266264339645543,
          0.3135883469505653,
          0.24163892222771,
          0.42857142857142855,
          0.3655151141270821,
          0.2749711063322754,
          0.3640192539109505,
          0.21727702193165604,
          0.2236644452374827,
          0.36822955794866735,
          0.2321836023496981,
          0.1789034825401092,
          0.2479274769212026,
          0.2895544378149744,
          0.14672628691162812,
          0.21340671738043784,
          0.2887537993920973,
          0.1830964841178332,
          0.27855903452205216,
          null,
          0.3717594178439842,
          0.34508842221608177,
          0.26845583901658665,
          0.3685193150722542,
          0.27735309412376496,
          0.3928842914847,
          0.22496920640506776,
          0.13417666263611214,
          0.2564865171085429,
          0.11599552564609936
         ]
        },
        {
         "marker": {
          "color": "#1199ee"
         },
         "name": "label 4",
         "orientation": "h",
         "type": "box",
         "x": [
          0.5093768242848803,
          0.3334672405547585,
          0.3862401254972268,
          0.2970004917226685,
          0.18481138119009347,
          0.1679056856614128,
          0.2813397129186603,
          0.4364515320382419,
          0.3398419172050384,
          0.20452212957023733,
          0.3387952235621796,
          0.31561622191011235,
          0.2403881632351856,
          0.25173398612811104,
          0.31351334350280713,
          0.2787324566250414,
          0.25182746975590986,
          0.2279223367306269,
          0.24856156501726126,
          0.19501742488461904,
          0.16806851849979265,
          0.16030534351145034,
          0.3239451114922813,
          0.24607876609161924,
          0.2012035040552854,
          0.10415970344261798,
          0.24913516616221576,
          0.3912839894310847,
          0.30096920341801914,
          0.2711387828881301,
          0.1141990845713716,
          0.3404153862456289,
          0.14806238804665994,
          0.2157337096521291,
          0.3619824788219849,
          null,
          0.1819563259792886,
          0.05757307351638617,
          0.39136381398983977,
          0.23703703703703705,
          0.3188747510061385,
          0.05973261643537019,
          0.21409921671018275,
          0.3378628950395885,
          0.2690157882662106,
          0.17439146382127374,
          0.30711889675736115,
          0.3713671681269631,
          0.2801258715369902,
          0.1916503050787808,
          0.32190091907644025,
          0.20664802065404475,
          0.2735553583546484,
          0.18965067401072624,
          0.16303210750784586,
          0.3129662621088965,
          0.31364049664513693,
          0.1997075073123172,
          0.1814133809717912,
          0.2098051885889336,
          0.2665212278219965,
          0.270033089710613,
          0.26347014724124906,
          null,
          0.2638791885893436,
          0.3110132158590308,
          0.2883034869538455,
          0.2667857278565186,
          0.3296084975869379
         ]
        },
        {
         "marker": {
          "color": "#FF851B"
         },
         "name": "label 1",
         "orientation": "h",
         "type": "box",
         "x": [
          0.29107540752902544,
          0.2887368200544655,
          0.15050655111737818,
          0.2348786885245901,
          0.2265608106020821,
          0.3591376400184134,
          0.3252236807006219,
          0.2949371218988925,
          0.2521895769923598,
          0.1865583491712942,
          0.2404929037182508,
          0.2936550300701043,
          0.19480846986037675,
          0.10088925685502054,
          0.21040776080605286,
          0.18886147954423652,
          0.2569210208107936,
          0.2343185033799717,
          0.25277474570868314,
          0.1251348042715842,
          0.20376359932977936,
          0.3495532856558917,
          0.16651276327517125,
          0.11182001440975063,
          0.10381866223225887,
          0.18137837379052796,
          0.16330282129122484,
          0.23973836560542236,
          0.2780745530798247,
          0.1443025857414446,
          0.2443170452880524,
          0.18932592211942167,
          0.22420007355645455,
          0.2394829614494571,
          0.27096620359654555
         ]
        },
        {
         "marker": {
          "color": "#3D9970"
         },
         "name": "label 3",
         "orientation": "h",
         "type": "box",
         "x": [
          0.16454746117257274
         ]
        }
       ],
       "layout": {
        "autosize": true,
        "boxgap": 0.1,
        "boxmode": "overlay",
        "template": {
         "data": {
          "bar": [
           {
            "error_x": {
             "color": "#2a3f5f"
            },
            "error_y": {
             "color": "#2a3f5f"
            },
            "marker": {
             "line": {
              "color": "#E5ECF6",
              "width": 0.5
             }
            },
            "type": "bar"
           }
          ],
          "barpolar": [
           {
            "marker": {
             "line": {
              "color": "#E5ECF6",
              "width": 0.5
             }
            },
            "type": "barpolar"
           }
          ],
          "carpet": [
           {
            "aaxis": {
             "endlinecolor": "#2a3f5f",
             "gridcolor": "white",
             "linecolor": "white",
             "minorgridcolor": "white",
             "startlinecolor": "#2a3f5f"
            },
            "baxis": {
             "endlinecolor": "#2a3f5f",
             "gridcolor": "white",
             "linecolor": "white",
             "minorgridcolor": "white",
             "startlinecolor": "#2a3f5f"
            },
            "type": "carpet"
           }
          ],
          "choropleth": [
           {
            "colorbar": {
             "outlinewidth": 0,
             "ticks": ""
            },
            "type": "choropleth"
           }
          ],
          "contour": [
           {
            "colorbar": {
             "outlinewidth": 0,
             "ticks": ""
            },
            "colorscale": [
             [
              0,
              "#0d0887"
             ],
             [
              0.1111111111111111,
              "#46039f"
             ],
             [
              0.2222222222222222,
              "#7201a8"
             ],
             [
              0.3333333333333333,
              "#9c179e"
             ],
             [
              0.4444444444444444,
              "#bd3786"
             ],
             [
              0.5555555555555556,
              "#d8576b"
             ],
             [
              0.6666666666666666,
              "#ed7953"
             ],
             [
              0.7777777777777778,
              "#fb9f3a"
             ],
             [
              0.8888888888888888,
              "#fdca26"
             ],
             [
              1,
              "#f0f921"
             ]
            ],
            "type": "contour"
           }
          ],
          "contourcarpet": [
           {
            "colorbar": {
             "outlinewidth": 0,
             "ticks": ""
            },
            "type": "contourcarpet"
           }
          ],
          "heatmap": [
           {
            "colorbar": {
             "outlinewidth": 0,
             "ticks": ""
            },
            "colorscale": [
             [
              0,
              "#0d0887"
             ],
             [
              0.1111111111111111,
              "#46039f"
             ],
             [
              0.2222222222222222,
              "#7201a8"
             ],
             [
              0.3333333333333333,
              "#9c179e"
             ],
             [
              0.4444444444444444,
              "#bd3786"
             ],
             [
              0.5555555555555556,
              "#d8576b"
             ],
             [
              0.6666666666666666,
              "#ed7953"
             ],
             [
              0.7777777777777778,
              "#fb9f3a"
             ],
             [
              0.8888888888888888,
              "#fdca26"
             ],
             [
              1,
              "#f0f921"
             ]
            ],
            "type": "heatmap"
           }
          ],
          "heatmapgl": [
           {
            "colorbar": {
             "outlinewidth": 0,
             "ticks": ""
            },
            "colorscale": [
             [
              0,
              "#0d0887"
             ],
             [
              0.1111111111111111,
              "#46039f"
             ],
             [
              0.2222222222222222,
              "#7201a8"
             ],
             [
              0.3333333333333333,
              "#9c179e"
             ],
             [
              0.4444444444444444,
              "#bd3786"
             ],
             [
              0.5555555555555556,
              "#d8576b"
             ],
             [
              0.6666666666666666,
              "#ed7953"
             ],
             [
              0.7777777777777778,
              "#fb9f3a"
             ],
             [
              0.8888888888888888,
              "#fdca26"
             ],
             [
              1,
              "#f0f921"
             ]
            ],
            "type": "heatmapgl"
           }
          ],
          "histogram": [
           {
            "marker": {
             "colorbar": {
              "outlinewidth": 0,
              "ticks": ""
             }
            },
            "type": "histogram"
           }
          ],
          "histogram2d": [
           {
            "colorbar": {
             "outlinewidth": 0,
             "ticks": ""
            },
            "colorscale": [
             [
              0,
              "#0d0887"
             ],
             [
              0.1111111111111111,
              "#46039f"
             ],
             [
              0.2222222222222222,
              "#7201a8"
             ],
             [
              0.3333333333333333,
              "#9c179e"
             ],
             [
              0.4444444444444444,
              "#bd3786"
             ],
             [
              0.5555555555555556,
              "#d8576b"
             ],
             [
              0.6666666666666666,
              "#ed7953"
             ],
             [
              0.7777777777777778,
              "#fb9f3a"
             ],
             [
              0.8888888888888888,
              "#fdca26"
             ],
             [
              1,
              "#f0f921"
             ]
            ],
            "type": "histogram2d"
           }
          ],
          "histogram2dcontour": [
           {
            "colorbar": {
             "outlinewidth": 0,
             "ticks": ""
            },
            "colorscale": [
             [
              0,
              "#0d0887"
             ],
             [
              0.1111111111111111,
              "#46039f"
             ],
             [
              0.2222222222222222,
              "#7201a8"
             ],
             [
              0.3333333333333333,
              "#9c179e"
             ],
             [
              0.4444444444444444,
              "#bd3786"
             ],
             [
              0.5555555555555556,
              "#d8576b"
             ],
             [
              0.6666666666666666,
              "#ed7953"
             ],
             [
              0.7777777777777778,
              "#fb9f3a"
             ],
             [
              0.8888888888888888,
              "#fdca26"
             ],
             [
              1,
              "#f0f921"
             ]
            ],
            "type": "histogram2dcontour"
           }
          ],
          "mesh3d": [
           {
            "colorbar": {
             "outlinewidth": 0,
             "ticks": ""
            },
            "type": "mesh3d"
           }
          ],
          "parcoords": [
           {
            "line": {
             "colorbar": {
              "outlinewidth": 0,
              "ticks": ""
             }
            },
            "type": "parcoords"
           }
          ],
          "pie": [
           {
            "automargin": true,
            "type": "pie"
           }
          ],
          "scatter": [
           {
            "marker": {
             "colorbar": {
              "outlinewidth": 0,
              "ticks": ""
             }
            },
            "type": "scatter"
           }
          ],
          "scatter3d": [
           {
            "line": {
             "colorbar": {
              "outlinewidth": 0,
              "ticks": ""
             }
            },
            "marker": {
             "colorbar": {
              "outlinewidth": 0,
              "ticks": ""
             }
            },
            "type": "scatter3d"
           }
          ],
          "scattercarpet": [
           {
            "marker": {
             "colorbar": {
              "outlinewidth": 0,
              "ticks": ""
             }
            },
            "type": "scattercarpet"
           }
          ],
          "scattergeo": [
           {
            "marker": {
             "colorbar": {
              "outlinewidth": 0,
              "ticks": ""
             }
            },
            "type": "scattergeo"
           }
          ],
          "scattergl": [
           {
            "marker": {
             "colorbar": {
              "outlinewidth": 0,
              "ticks": ""
             }
            },
            "type": "scattergl"
           }
          ],
          "scattermapbox": [
           {
            "marker": {
             "colorbar": {
              "outlinewidth": 0,
              "ticks": ""
             }
            },
            "type": "scattermapbox"
           }
          ],
          "scatterpolar": [
           {
            "marker": {
             "colorbar": {
              "outlinewidth": 0,
              "ticks": ""
             }
            },
            "type": "scatterpolar"
           }
          ],
          "scatterpolargl": [
           {
            "marker": {
             "colorbar": {
              "outlinewidth": 0,
              "ticks": ""
             }
            },
            "type": "scatterpolargl"
           }
          ],
          "scatterternary": [
           {
            "marker": {
             "colorbar": {
              "outlinewidth": 0,
              "ticks": ""
             }
            },
            "type": "scatterternary"
           }
          ],
          "surface": [
           {
            "colorbar": {
             "outlinewidth": 0,
             "ticks": ""
            },
            "colorscale": [
             [
              0,
              "#0d0887"
             ],
             [
              0.1111111111111111,
              "#46039f"
             ],
             [
              0.2222222222222222,
              "#7201a8"
             ],
             [
              0.3333333333333333,
              "#9c179e"
             ],
             [
              0.4444444444444444,
              "#bd3786"
             ],
             [
              0.5555555555555556,
              "#d8576b"
             ],
             [
              0.6666666666666666,
              "#ed7953"
             ],
             [
              0.7777777777777778,
              "#fb9f3a"
             ],
             [
              0.8888888888888888,
              "#fdca26"
             ],
             [
              1,
              "#f0f921"
             ]
            ],
            "type": "surface"
           }
          ],
          "table": [
           {
            "cells": {
             "fill": {
              "color": "#EBF0F8"
             },
             "line": {
              "color": "white"
             }
            },
            "header": {
             "fill": {
              "color": "#C8D4E3"
             },
             "line": {
              "color": "white"
             }
            },
            "type": "table"
           }
          ]
         },
         "layout": {
          "annotationdefaults": {
           "arrowcolor": "#2a3f5f",
           "arrowhead": 0,
           "arrowwidth": 1
          },
          "autotypenumbers": "strict",
          "coloraxis": {
           "colorbar": {
            "outlinewidth": 0,
            "ticks": ""
           }
          },
          "colorscale": {
           "diverging": [
            [
             0,
             "#8e0152"
            ],
            [
             0.1,
             "#c51b7d"
            ],
            [
             0.2,
             "#de77ae"
            ],
            [
             0.3,
             "#f1b6da"
            ],
            [
             0.4,
             "#fde0ef"
            ],
            [
             0.5,
             "#f7f7f7"
            ],
            [
             0.6,
             "#e6f5d0"
            ],
            [
             0.7,
             "#b8e186"
            ],
            [
             0.8,
             "#7fbc41"
            ],
            [
             0.9,
             "#4d9221"
            ],
            [
             1,
             "#276419"
            ]
           ],
           "sequential": [
            [
             0,
             "#0d0887"
            ],
            [
             0.1111111111111111,
             "#46039f"
            ],
            [
             0.2222222222222222,
             "#7201a8"
            ],
            [
             0.3333333333333333,
             "#9c179e"
            ],
            [
             0.4444444444444444,
             "#bd3786"
            ],
            [
             0.5555555555555556,
             "#d8576b"
            ],
            [
             0.6666666666666666,
             "#ed7953"
            ],
            [
             0.7777777777777778,
             "#fb9f3a"
            ],
            [
             0.8888888888888888,
             "#fdca26"
            ],
            [
             1,
             "#f0f921"
            ]
           ],
           "sequentialminus": [
            [
             0,
             "#0d0887"
            ],
            [
             0.1111111111111111,
             "#46039f"
            ],
            [
             0.2222222222222222,
             "#7201a8"
            ],
            [
             0.3333333333333333,
             "#9c179e"
            ],
            [
             0.4444444444444444,
             "#bd3786"
            ],
            [
             0.5555555555555556,
             "#d8576b"
            ],
            [
             0.6666666666666666,
             "#ed7953"
            ],
            [
             0.7777777777777778,
             "#fb9f3a"
            ],
            [
             0.8888888888888888,
             "#fdca26"
            ],
            [
             1,
             "#f0f921"
            ]
           ]
          },
          "colorway": [
           "#636efa",
           "#EF553B",
           "#00cc96",
           "#ab63fa",
           "#FFA15A",
           "#19d3f3",
           "#FF6692",
           "#B6E880",
           "#FF97FF",
           "#FECB52"
          ],
          "font": {
           "color": "#2a3f5f"
          },
          "geo": {
           "bgcolor": "white",
           "lakecolor": "white",
           "landcolor": "#E5ECF6",
           "showlakes": true,
           "showland": true,
           "subunitcolor": "white"
          },
          "hoverlabel": {
           "align": "left"
          },
          "hovermode": "closest",
          "mapbox": {
           "style": "light"
          },
          "paper_bgcolor": "white",
          "plot_bgcolor": "#E5ECF6",
          "polar": {
           "angularaxis": {
            "gridcolor": "white",
            "linecolor": "white",
            "ticks": ""
           },
           "bgcolor": "#E5ECF6",
           "radialaxis": {
            "gridcolor": "white",
            "linecolor": "white",
            "ticks": ""
           }
          },
          "scene": {
           "xaxis": {
            "backgroundcolor": "#E5ECF6",
            "gridcolor": "white",
            "gridwidth": 2,
            "linecolor": "white",
            "showbackground": true,
            "ticks": "",
            "zerolinecolor": "white"
           },
           "yaxis": {
            "backgroundcolor": "#E5ECF6",
            "gridcolor": "white",
            "gridwidth": 2,
            "linecolor": "white",
            "showbackground": true,
            "ticks": "",
            "zerolinecolor": "white"
           },
           "zaxis": {
            "backgroundcolor": "#E5ECF6",
            "gridcolor": "white",
            "gridwidth": 2,
            "linecolor": "white",
            "showbackground": true,
            "ticks": "",
            "zerolinecolor": "white"
           }
          },
          "shapedefaults": {
           "line": {
            "color": "#2a3f5f"
           }
          },
          "ternary": {
           "aaxis": {
            "gridcolor": "white",
            "linecolor": "white",
            "ticks": ""
           },
           "baxis": {
            "gridcolor": "white",
            "linecolor": "white",
            "ticks": ""
           },
           "bgcolor": "#E5ECF6",
           "caxis": {
            "gridcolor": "white",
            "linecolor": "white",
            "ticks": ""
           }
          },
          "title": {
           "x": 0.05
          },
          "xaxis": {
           "automargin": true,
           "gridcolor": "white",
           "linecolor": "white",
           "ticks": "",
           "title": {
            "standoff": 15
           },
           "zerolinecolor": "white",
           "zerolinewidth": 2
          },
          "yaxis": {
           "automargin": true,
           "gridcolor": "white",
           "linecolor": "white",
           "ticks": "",
           "title": {
            "standoff": 15
           },
           "zerolinecolor": "white",
           "zerolinewidth": 2
          }
         }
        },
        "xaxis": {
         "autorange": true,
         "range": [
          0.022653585158642284,
          0.7210433523135202
         ],
         "title": {
          "text": "Hierarchial (HC_n5): percent recycling per household by label"
         },
         "type": "linear",
         "zeroline": false
        },
        "yaxis": {
         "autorange": true,
         "range": [
          -0.5,
          4.5
         ],
         "type": "category"
        }
       }
      },
      "image/png": "[encoded data removed]",
      "text/html": [
       "<div>                            <div id=\"84ff7ead-5e7c-4e62-b880-6da41285802d\" class=\"plotly-graph-div\" style=\"height:600px; width:100%;\"></div>            <script type=\"text/javascript\">                require([\"plotly\"], function(Plotly) {                    window.PLOTLYENV=window.PLOTLYENV || {};                                    if (document.getElementById(\"84ff7ead-5e7c-4e62-b880-6da41285802d\")) {                    Plotly.newPlot(                        \"84ff7ead-5e7c-4e62-b880-6da41285802d\",                        [{\"marker\": {\"color\": \"#AA22AA\"}, \"name\": \"label 0\", \"orientation\": \"h\", \"type\": \"box\", \"x\": [0.3104374563282033, 0.3810518975482248, 0.2583130346116807, 0.3023595834176845, 0.2996639895099165, 0.3388474360254709, 0.28419595745564835, 0.2414544383924628, 0.22839149254214444, 0.26699507389162563, 0.5111538052265451, 0.26966966966966965, 0.4506172839506172, 0.3985439173320808, 0.3052858683926645, 0.3933438195350265, 0.15807802357684242, 0.2851798784029741, 0.19951786211825706, 0.3412133891213389, 0.3145121247529797, 0.3416547788873039, 0.34416105724695856, 0.29390551749008303, 0.20118643712825668, 0.4249750505386525, 0.2797202797202797, 0.3720058065665608, 0.2586980920314253, 0.316375462599529, 0.1602570095481749, 0.35494554550259644, 0.4249896288761786, 0.3595961588592121, 0.2972749793559042, 0.3625360662494848, 0.09551815047657676, 0.2915905146097034, 0.21457858769931668, 0.3304998492721787, 0.28239693004034244, 0.25082946250829463, 0.3232672639503219, 0.2755881935194107, 0.39925979478540014, 0.230849478390462, 0.3721423802663481, 0.24438679390963286, 0.312268927237077, 0.2553616484440706, 0.2100056529112493, 0.2927813100152125]}, {\"marker\": {\"color\": \"#FF4136\"}, \"name\": \"label 2\", \"orientation\": \"h\", \"type\": \"box\", \"x\": [0.2697325231675852, 0.21564798630835336, 0.24991150363421355, 0.2806419750018637, 0.2500671232804595, 0.23163103822693695, 0.3542803112953669, 0.23653542242391976, 0.2238331035410432, 0.2674465510286406, 0.3040705967511869, 0.22376009227220295, 0.24440052700922266, 0.6344222330570454, 0.30241325819309994, 0.2233981094977959, 0.22014862956893214, 0.1745196045048923, 0.14408362409694372, 0.3089887640449438, 0.2631272789183207, 0.2649777797513529, 0.332763642490913, 0.29462224136001924, 0.3119270118251472, 0.19637526652452025, 0.2619952859799358, 0.13574007220216608, 0.2224014125014558, 0.23847019122609675, 0.2770155946635209, 0.2269993898981268, 0.30852145617246285, 0.3195199578341341, 0.30771173422401304, 0.2956005138086063, 0.3160089627500977, 0.6861238639557763, 0.385239852398524, 0.16577329471241475, 0.290139746208036, 0.23666512623437275, 0.18873085339168488, 0.1846995647681373, null, 0.3565902717338749, 0.211550339715874, 0.263075173957992, 0.16992785123127127, 0.3754226419493995, 0.16186580174634846, 0.19587882682601648, 0.24708774179758464, 0.4168434545634484, 0.25274644460404416, 0.255141487552188, 0.2951513366058209, 0.30710319739613257, 0.16357267950963222, 0.25374494031905753, 0.3342208753513554, 0.21584137026676334, 0.2857142857142857, 0.2247949493067839, 0.3668104778719841, 0.4604424596829458, 0.34945462609529065, 0.3348839569659652, 0.3825761214100471, 0.1539275069704836, 0.2569799171907915, 0.1761098188902805, 0.33877551020408164, 0.3676549157816791, 0.20637721572301007, 0.203267210397331, 0.3240529290769804, 0.3473104616687844, 0.1882999870456485, 0.3414609106308711, 0.2370429252782194, 0.26962739619322273, 0.3597388777473089, 0.3026734916749799, 0.30266264339645543, 0.3135883469505653, 0.24163892222771, 0.42857142857142855, 0.3655151141270821, 0.2749711063322754, 0.3640192539109505, 0.21727702193165604, 0.2236644452374827, 0.36822955794866735, 0.2321836023496981, 0.1789034825401092, 0.2479274769212026, 0.2895544378149744, 0.14672628691162812, 0.21340671738043784, 0.2887537993920973, 0.1830964841178332, 0.27855903452205216, null, 0.3717594178439842, 0.34508842221608177, 0.26845583901658665, 0.3685193150722542, 0.27735309412376496, 0.3928842914847, 0.22496920640506776, 0.13417666263611214, 0.2564865171085429, 0.11599552564609936]}, {\"marker\": {\"color\": \"#1199ee\"}, \"name\": \"label 4\", \"orientation\": \"h\", \"type\": \"box\", \"x\": [0.5093768242848803, 0.3334672405547585, 0.3862401254972268, 0.2970004917226685, 0.18481138119009347, 0.1679056856614128, 0.2813397129186603, 0.4364515320382419, 0.3398419172050384, 0.20452212957023733, 0.3387952235621796, 0.31561622191011235, 0.2403881632351856, 0.25173398612811104, 0.31351334350280713, 0.2787324566250414, 0.25182746975590986, 0.2279223367306269, 0.24856156501726126, 0.19501742488461904, 0.16806851849979265, 0.16030534351145034, 0.3239451114922813, 0.24607876609161924, 0.2012035040552854, 0.10415970344261798, 0.24913516616221576, 0.3912839894310847, 0.30096920341801914, 0.2711387828881301, 0.1141990845713716, 0.3404153862456289, 0.14806238804665994, 0.2157337096521291, 0.3619824788219849, null, 0.1819563259792886, 0.05757307351638617, 0.39136381398983977, 0.23703703703703705, 0.3188747510061385, 0.05973261643537019, 0.21409921671018275, 0.3378628950395885, 0.2690157882662106, 0.17439146382127374, 0.30711889675736115, 0.3713671681269631, 0.2801258715369902, 0.1916503050787808, 0.32190091907644025, 0.20664802065404475, 0.2735553583546484, 0.18965067401072624, 0.16303210750784586, 0.3129662621088965, 0.31364049664513693, 0.1997075073123172, 0.1814133809717912, 0.2098051885889336, 0.2665212278219965, 0.270033089710613, 0.26347014724124906, null, 0.2638791885893436, 0.3110132158590308, 0.2883034869538455, 0.2667857278565186, 0.3296084975869379]}, {\"marker\": {\"color\": \"#FF851B\"}, \"name\": \"label 1\", \"orientation\": \"h\", \"type\": \"box\", \"x\": [0.29107540752902544, 0.2887368200544655, 0.15050655111737818, 0.2348786885245901, 0.2265608106020821, 0.3591376400184134, 0.3252236807006219, 0.2949371218988925, 0.2521895769923598, 0.1865583491712942, 0.2404929037182508, 0.2936550300701043, 0.19480846986037675, 0.10088925685502054, 0.21040776080605286, 0.18886147954423652, 0.2569210208107936, 0.2343185033799717, 0.25277474570868314, 0.1251348042715842, 0.20376359932977936, 0.3495532856558917, 0.16651276327517125, 0.11182001440975063, 0.10381866223225887, 0.18137837379052796, 0.16330282129122484, 0.23973836560542236, 0.2780745530798247, 0.1443025857414446, 0.2443170452880524, 0.18932592211942167, 0.22420007355645455, 0.2394829614494571, 0.27096620359654555]}, {\"marker\": {\"color\": \"#3D9970\"}, \"name\": \"label 3\", \"orientation\": \"h\", \"type\": \"box\", \"x\": [0.16454746117257274]}],                        {\"boxgap\": 0.1, \"boxmode\": \"overlay\", \"height\": 600, \"template\": {\"data\": {\"bar\": [{\"error_x\": {\"color\": \"#2a3f5f\"}, \"error_y\": {\"color\": \"#2a3f5f\"}, \"marker\": {\"line\": {\"color\": \"#E5ECF6\", \"width\": 0.5}}, \"type\": \"bar\"}], \"barpolar\": [{\"marker\": {\"line\": {\"color\": \"#E5ECF6\", \"width\": 0.5}}, \"type\": \"barpolar\"}], \"carpet\": [{\"aaxis\": {\"endlinecolor\": \"#2a3f5f\", \"gridcolor\": \"white\", \"linecolor\": \"white\", \"minorgridcolor\": \"white\", \"startlinecolor\": \"#2a3f5f\"}, \"baxis\": {\"endlinecolor\": \"#2a3f5f\", \"gridcolor\": \"white\", \"linecolor\": \"white\", \"minorgridcolor\": \"white\", \"startlinecolor\": \"#2a3f5f\"}, \"type\": \"carpet\"}], \"choropleth\": [{\"colorbar\": {\"outlinewidth\": 0, \"ticks\": \"\"}, \"type\": \"choropleth\"}], \"contour\": [{\"colorbar\": {\"outlinewidth\": 0, \"ticks\": \"\"}, \"colorscale\": [[0.0, \"#0d0887\"], [0.1111111111111111, \"#46039f\"], [0.2222222222222222, \"#7201a8\"], [0.3333333333333333, \"#9c179e\"], [0.4444444444444444, \"#bd3786\"], [0.5555555555555556, \"#d8576b\"], [0.6666666666666666, \"#ed7953\"], [0.7777777777777778, \"#fb9f3a\"], [0.8888888888888888, \"#fdca26\"], [1.0, \"#f0f921\"]], \"type\": \"contour\"}], \"contourcarpet\": [{\"colorbar\": {\"outlinewidth\": 0, \"ticks\": \"\"}, \"type\": \"contourcarpet\"}], \"heatmap\": [{\"colorbar\": {\"outlinewidth\": 0, \"ticks\": \"\"}, \"colorscale\": [[0.0, \"#0d0887\"], [0.1111111111111111, \"#46039f\"], [0.2222222222222222, \"#7201a8\"], [0.3333333333333333, \"#9c179e\"], [0.4444444444444444, \"#bd3786\"], [0.5555555555555556, \"#d8576b\"], [0.6666666666666666, \"#ed7953\"], [0.7777777777777778, \"#fb9f3a\"], [0.8888888888888888, \"#fdca26\"], [1.0, \"#f0f921\"]], \"type\": \"heatmap\"}], \"heatmapgl\": [{\"colorbar\": {\"outlinewidth\": 0, \"ticks\": \"\"}, \"colorscale\": [[0.0, \"#0d0887\"], [0.1111111111111111, \"#46039f\"], [0.2222222222222222, \"#7201a8\"], [0.3333333333333333, \"#9c179e\"], [0.4444444444444444, \"#bd3786\"], [0.5555555555555556, \"#d8576b\"], [0.6666666666666666, \"#ed7953\"], [0.7777777777777778, \"#fb9f3a\"], [0.8888888888888888, \"#fdca26\"], [1.0, \"#f0f921\"]], \"type\": \"heatmapgl\"}], \"histogram\": [{\"marker\": {\"colorbar\": {\"outlinewidth\": 0, \"ticks\": \"\"}}, \"type\": \"histogram\"}], \"histogram2d\": [{\"colorbar\": {\"outlinewidth\": 0, \"ticks\": \"\"}, \"colorscale\": [[0.0, \"#0d0887\"], [0.1111111111111111, \"#46039f\"], [0.2222222222222222, \"#7201a8\"], [0.3333333333333333, \"#9c179e\"], [0.4444444444444444, \"#bd3786\"], [0.5555555555555556, \"#d8576b\"], [0.6666666666666666, \"#ed7953\"], [0.7777777777777778, \"#fb9f3a\"], [0.8888888888888888, \"#fdca26\"], [1.0, \"#f0f921\"]], \"type\": \"histogram2d\"}], \"histogram2dcontour\": [{\"colorbar\": {\"outlinewidth\": 0, \"ticks\": \"\"}, \"colorscale\": [[0.0, \"#0d0887\"], [0.1111111111111111, \"#46039f\"], [0.2222222222222222, \"#7201a8\"], [0.3333333333333333, \"#9c179e\"], [0.4444444444444444, \"#bd3786\"], [0.5555555555555556, \"#d8576b\"], [0.6666666666666666, \"#ed7953\"], [0.7777777777777778, \"#fb9f3a\"], [0.8888888888888888, \"#fdca26\"], [1.0, \"#f0f921\"]], \"type\": \"histogram2dcontour\"}], \"mesh3d\": [{\"colorbar\": {\"outlinewidth\": 0, \"ticks\": \"\"}, \"type\": \"mesh3d\"}], \"parcoords\": [{\"line\": {\"colorbar\": {\"outlinewidth\": 0, \"ticks\": \"\"}}, \"type\": \"parcoords\"}], \"pie\": [{\"automargin\": true, \"type\": \"pie\"}], \"scatter\": [{\"marker\": {\"colorbar\": {\"outlinewidth\": 0, \"ticks\": \"\"}}, \"type\": \"scatter\"}], \"scatter3d\": [{\"line\": {\"colorbar\": {\"outlinewidth\": 0, \"ticks\": \"\"}}, \"marker\": {\"colorbar\": {\"outlinewidth\": 0, \"ticks\": \"\"}}, \"type\": \"scatter3d\"}], \"scattercarpet\": [{\"marker\": {\"colorbar\": {\"outlinewidth\": 0, \"ticks\": \"\"}}, \"type\": \"scattercarpet\"}], \"scattergeo\": [{\"marker\": {\"colorbar\": {\"outlinewidth\": 0, \"ticks\": \"\"}}, \"type\": \"scattergeo\"}], \"scattergl\": [{\"marker\": {\"colorbar\": {\"outlinewidth\": 0, \"ticks\": \"\"}}, \"type\": \"scattergl\"}], \"scattermapbox\": [{\"marker\": {\"colorbar\": {\"outlinewidth\": 0, \"ticks\": \"\"}}, \"type\": \"scattermapbox\"}], \"scatterpolar\": [{\"marker\": {\"colorbar\": {\"outlinewidth\": 0, \"ticks\": \"\"}}, \"type\": \"scatterpolar\"}], \"scatterpolargl\": [{\"marker\": {\"colorbar\": {\"outlinewidth\": 0, \"ticks\": \"\"}}, \"type\": \"scatterpolargl\"}], \"scatterternary\": [{\"marker\": {\"colorbar\": {\"outlinewidth\": 0, \"ticks\": \"\"}}, \"type\": \"scatterternary\"}], \"surface\": [{\"colorbar\": {\"outlinewidth\": 0, \"ticks\": \"\"}, \"colorscale\": [[0.0, \"#0d0887\"], [0.1111111111111111, \"#46039f\"], [0.2222222222222222, \"#7201a8\"], [0.3333333333333333, \"#9c179e\"], [0.4444444444444444, \"#bd3786\"], [0.5555555555555556, \"#d8576b\"], [0.6666666666666666, \"#ed7953\"], [0.7777777777777778, \"#fb9f3a\"], [0.8888888888888888, \"#fdca26\"], [1.0, \"#f0f921\"]], \"type\": \"surface\"}], \"table\": [{\"cells\": {\"fill\": {\"color\": \"#EBF0F8\"}, \"line\": {\"color\": \"white\"}}, \"header\": {\"fill\": {\"color\": \"#C8D4E3\"}, \"line\": {\"color\": \"white\"}}, \"type\": \"table\"}]}, \"layout\": {\"annotationdefaults\": {\"arrowcolor\": \"#2a3f5f\", \"arrowhead\": 0, \"arrowwidth\": 1}, \"autotypenumbers\": \"strict\", \"coloraxis\": {\"colorbar\": {\"outlinewidth\": 0, \"ticks\": \"\"}}, \"colorscale\": {\"diverging\": [[0, \"#8e0152\"], [0.1, \"#c51b7d\"], [0.2, \"#de77ae\"], [0.3, \"#f1b6da\"], [0.4, \"#fde0ef\"], [0.5, \"#f7f7f7\"], [0.6, \"#e6f5d0\"], [0.7, \"#b8e186\"], [0.8, \"#7fbc41\"], [0.9, \"#4d9221\"], [1, \"#276419\"]], \"sequential\": [[0.0, \"#0d0887\"], [0.1111111111111111, \"#46039f\"], [0.2222222222222222, \"#7201a8\"], [0.3333333333333333, \"#9c179e\"], [0.4444444444444444, \"#bd3786\"], [0.5555555555555556, \"#d8576b\"], [0.6666666666666666, \"#ed7953\"], [0.7777777777777778, \"#fb9f3a\"], [0.8888888888888888, \"#fdca26\"], [1.0, \"#f0f921\"]], \"sequentialminus\": [[0.0, \"#0d0887\"], [0.1111111111111111, \"#46039f\"], [0.2222222222222222, \"#7201a8\"], [0.3333333333333333, \"#9c179e\"], [0.4444444444444444, \"#bd3786\"], [0.5555555555555556, \"#d8576b\"], [0.6666666666666666, \"#ed7953\"], [0.7777777777777778, \"#fb9f3a\"], [0.8888888888888888, \"#fdca26\"], [1.0, \"#f0f921\"]]}, \"colorway\": [\"#636efa\", \"#EF553B\", \"#00cc96\", \"#ab63fa\", \"#FFA15A\", \"#19d3f3\", \"#FF6692\", \"#B6E880\", \"#FF97FF\", \"#FECB52\"], \"font\": {\"color\": \"#2a3f5f\"}, \"geo\": {\"bgcolor\": \"white\", \"lakecolor\": \"white\", \"landcolor\": \"#E5ECF6\", \"showlakes\": true, \"showland\": true, \"subunitcolor\": \"white\"}, \"hoverlabel\": {\"align\": \"left\"}, \"hovermode\": \"closest\", \"mapbox\": {\"style\": \"light\"}, \"paper_bgcolor\": \"white\", \"plot_bgcolor\": \"#E5ECF6\", \"polar\": {\"angularaxis\": {\"gridcolor\": \"white\", \"linecolor\": \"white\", \"ticks\": \"\"}, \"bgcolor\": \"#E5ECF6\", \"radialaxis\": {\"gridcolor\": \"white\", \"linecolor\": \"white\", \"ticks\": \"\"}}, \"scene\": {\"xaxis\": {\"backgroundcolor\": \"#E5ECF6\", \"gridcolor\": \"white\", \"gridwidth\": 2, \"linecolor\": \"white\", \"showbackground\": true, \"ticks\": \"\", \"zerolinecolor\": \"white\"}, \"yaxis\": {\"backgroundcolor\": \"#E5ECF6\", \"gridcolor\": \"white\", \"gridwidth\": 2, \"linecolor\": \"white\", \"showbackground\": true, \"ticks\": \"\", \"zerolinecolor\": \"white\"}, \"zaxis\": {\"backgroundcolor\": \"#E5ECF6\", \"gridcolor\": \"white\", \"gridwidth\": 2, \"linecolor\": \"white\", \"showbackground\": true, \"ticks\": \"\", \"zerolinecolor\": \"white\"}}, \"shapedefaults\": {\"line\": {\"color\": \"#2a3f5f\"}}, \"ternary\": {\"aaxis\": {\"gridcolor\": \"white\", \"linecolor\": \"white\", \"ticks\": \"\"}, \"baxis\": {\"gridcolor\": \"white\", \"linecolor\": \"white\", \"ticks\": \"\"}, \"bgcolor\": \"#E5ECF6\", \"caxis\": {\"gridcolor\": \"white\", \"linecolor\": \"white\", \"ticks\": \"\"}}, \"title\": {\"x\": 0.05}, \"xaxis\": {\"automargin\": true, \"gridcolor\": \"white\", \"linecolor\": \"white\", \"ticks\": \"\", \"title\": {\"standoff\": 15}, \"zerolinecolor\": \"white\", \"zerolinewidth\": 2}, \"yaxis\": {\"automargin\": true, \"gridcolor\": \"white\", \"linecolor\": \"white\", \"ticks\": \"\", \"title\": {\"standoff\": 15}, \"zerolinecolor\": \"white\", \"zerolinewidth\": 2}}}, \"xaxis\": {\"title\": {\"text\": \"Hierarchial (HC_n5): percent recycling per household by label\"}, \"zeroline\": false}},                        {\"responsive\": true}                    ).then(function(){\n",
       "                            \n",
       "var gd = document.getElementById('84ff7ead-5e7c-4e62-b880-6da41285802d');\n",
       "var x = new MutationObserver(function (mutations, observer) {{\n",
       "        var display = window.getComputedStyle(gd).display;\n",
       "        if (!display || display === 'none') {{\n",
       "            console.log([gd, 'removed!']);\n",
       "            Plotly.purge(gd);\n",
       "            observer.disconnect();\n",
       "        }}\n",
       "}});\n",
       "\n",
       "// Listen for the removal of the full notebook cells\n",
       "var notebookContainer = gd.closest('#notebook-container');\n",
       "if (notebookContainer) {{\n",
       "    x.observe(notebookContainer, {childList: true});\n",
       "}}\n",
       "\n",
       "// Listen for the clearing of the current output cell\n",
       "var outputEl = gd.closest('.output');\n",
       "if (outputEl) {{\n",
       "    x.observe(outputEl, {childList: true});\n",
       "}}\n",
       "\n",
       "                        })                };                });            </script>        </div>"
      ]
     },
     "metadata": {},
     "output_type": "display_data"
    }
   ],
   "source": [
    "layout = Layout(\n",
    "    boxgap=0.1,\n",
    "    height = 600\n",
    ")\n",
    "fig = go.Figure(layout=layout)\n",
    "\n",
    "fig.add_trace(go.Box(\n",
    "    x=hc_n5_label0['%recycle/hh'],\n",
    "    name='label 0',\n",
    "    marker_color='#AA22AA'\n",
    "))\n",
    "fig.add_trace(go.Box(\n",
    "    x=hc_n5_label2['%recycle/hh'],\n",
    "    name='label 2',\n",
    "    marker_color='#FF4136'\n",
    "))\n",
    "fig.add_trace(go.Box(\n",
    "    x=hc_n5_label4['%recycle/hh'],\n",
    "    name='label 4',\n",
    "    marker_color='#1199ee'\n",
    "))\n",
    "fig.add_trace(go.Box(\n",
    "    x=hc_n5_label1['%recycle/hh'],\n",
    "    name='label 1',\n",
    "    marker_color='#FF851B'\n",
    "))\n",
    "fig.add_trace(go.Box(\n",
    "    x=hc_n5_label3['%recycle/hh'],\n",
    "    name='label 3',\n",
    "    marker_color='#3D9970'\n",
    "))\n",
    "\n",
    "\n",
    "fig.update_layout(\n",
    "    xaxis=dict(title='Hierarchial (HC_n5): percent recycling per household by label', zeroline=False),\n",
    "    boxmode='overlay'\n",
    ")\n",
    "\n",
    "fig.update_traces(orientation='h') # horizontal box plots\n",
    "\n",
    "fig.show()"
   ]
  },
  {
   "cell_type": "markdown",
   "metadata": {},
   "source": [
    "The HC-scaled schema seems the least helpful; the medians are very close together (within 0.05 of each other) and even the fences are not very distingishable (they may span different lengths but label 3's fence spans the areas of all the other labels). The HC-n4 and HC-n5 schemes have better seperations in the medians. Not sure which is better--n4 or n5--because the trends of fences are fairly similar.\n",
    "\n",
    "Note: the one solo label (label 3) in these two schemems is Boston."
   ]
  },
  {
   "cell_type": "markdown",
   "metadata": {},
   "source": [
    "### kMeans"
   ]
  },
  {
   "cell_type": "markdown",
   "metadata": {},
   "source": [
    "KM clustering schema:\n",
    "* `km_label` -- un-trimmed, un-scaled, n = 6\n",
    "* `km_trimmed_label` -- trimmed, un-scaled, n = 6\n",
    "* `km_s_label` -- trimmed, scaled, n = 6\n",
    "* `km_n4_label` -- trimmed, un-scaled, n = 4\n",
    "* `km_n5_label` -- trimmed, un-scaled, n = 5"
   ]
  },
  {
   "cell_type": "code",
   "execution_count": 60,
   "metadata": {},
   "outputs": [],
   "source": [
    "km_label0 = waste_w_labels[waste_w_labels['km_label'] == 0]\n",
    "km_label1 = waste_w_labels[waste_w_labels['km_label'] == 1]\n",
    "km_label2 = waste_w_labels[waste_w_labels['km_label'] == 2]\n",
    "km_label3 = waste_w_labels[waste_w_labels['km_label'] == 3]\n",
    "km_label4 = waste_w_labels[waste_w_labels['km_label'] == 4]\n",
    "km_label5 = waste_w_labels[waste_w_labels['km_label'] == 5]"
   ]
  },
  {
   "cell_type": "code",
   "execution_count": 61,
   "metadata": {},
   "outputs": [],
   "source": [
    "km_trimmed_label0 = waste_w_labels[waste_w_labels['km_trimmed_label'] == 0]\n",
    "km_trimmed_label1 = waste_w_labels[waste_w_labels['km_trimmed_label'] == 1]\n",
    "km_trimmed_label2 = waste_w_labels[waste_w_labels['km_trimmed_label'] == 2]\n",
    "km_trimmed_label3 = waste_w_labels[waste_w_labels['km_trimmed_label'] == 3]\n",
    "km_trimmed_label4 = waste_w_labels[waste_w_labels['km_trimmed_label'] == 4]\n",
    "km_trimmed_label5 = waste_w_labels[waste_w_labels['km_trimmed_label'] == 5]"
   ]
  },
  {
   "cell_type": "code",
   "execution_count": 62,
   "metadata": {},
   "outputs": [],
   "source": [
    "km_s_label0 = waste_w_labels[waste_w_labels['km_s_label'] == 0]\n",
    "km_s_label1 = waste_w_labels[waste_w_labels['km_s_label'] == 1]\n",
    "km_s_label2 = waste_w_labels[waste_w_labels['km_s_label'] == 2]\n",
    "km_s_label3 = waste_w_labels[waste_w_labels['km_s_label'] == 3]\n",
    "km_s_label4 = waste_w_labels[waste_w_labels['km_s_label'] == 4]\n",
    "km_s_label5 = waste_w_labels[waste_w_labels['km_s_label'] == 5]"
   ]
  },
  {
   "cell_type": "code",
   "execution_count": 63,
   "metadata": {},
   "outputs": [],
   "source": [
    "km_n4_label0 = waste_w_labels[waste_w_labels['km_n4_label'] == 0]\n",
    "km_n4_label1 = waste_w_labels[waste_w_labels['km_n4_label'] == 1]\n",
    "km_n4_label2 = waste_w_labels[waste_w_labels['km_n4_label'] == 2]\n",
    "km_n4_label3 = waste_w_labels[waste_w_labels['km_n4_label'] == 3]"
   ]
  },
  {
   "cell_type": "code",
   "execution_count": 64,
   "metadata": {},
   "outputs": [],
   "source": [
    "km_n5_label0 = waste_w_labels[waste_w_labels['km_n5_label'] == 0]\n",
    "km_n5_label1 = waste_w_labels[waste_w_labels['km_n5_label'] == 1]\n",
    "km_n5_label2 = waste_w_labels[waste_w_labels['km_n5_label'] == 2]\n",
    "km_n5_label3 = waste_w_labels[waste_w_labels['km_n5_label'] == 3]\n",
    "km_n5_label4 = waste_w_labels[waste_w_labels['km_n5_label'] == 4]"
   ]
  },
  {
   "cell_type": "code",
   "execution_count": 65,
   "metadata": {
    "jupyter": {
     "source_hidden": true
    }
   },
   "outputs": [
    {
     "data": {
      "application/vnd.plotly.v1+json": {
       "config": {
        "plotlyServerURL": "https://plot.ly"
       },
       "data": [
        {
         "marker": {
          "color": "#3D9970"
         },
         "name": "km label 3",
         "orientation": "h",
         "type": "box",
         "x": [
          0.2996639895099165,
          0.3388474360254709,
          0.2414544383924628,
          0.26699507389162563,
          0.5111538052265451,
          0.26966966966966965,
          0.3985439173320808,
          0.2851798784029741,
          0.19951786211825706,
          0.3145121247529797,
          0.3416547788873039,
          0.3595961588592121,
          0.3495532856558917,
          0.28239693004034244,
          0.3232672639503219,
          0.39925979478540014,
          0.230849478390462,
          0.312268927237077,
          0.2100056529112493
         ]
        },
        {
         "marker": {
          "color": "#1199ee"
         },
         "name": "km label 5",
         "orientation": "h",
         "type": "box",
         "x": [
          0.3104374563282033,
          0.29107540752902544,
          0.3810518975482248,
          0.2583130346116807,
          0.3023595834176845,
          0.30241325819309994,
          0.3591376400184134,
          0.28419595745564835,
          0.22014862956893214,
          0.22839149254214444,
          0.3089887640449438,
          0.4506172839506172,
          0.3052858683926645,
          0.30771173422401304,
          0.3933438195350265,
          0.15807802357684242,
          0.3412133891213389,
          0.34416105724695856,
          0.29390551749008303,
          0.20118643712825668,
          0.4249750505386525,
          0.2797202797202797,
          0.3720058065665608,
          0.2586980920314253,
          0.316375462599529,
          0.24708774179758464,
          0.1602570095481749,
          0.35494554550259644,
          0.21584137026676334,
          0.4249896288761786,
          0.2857142857142857,
          0.2972749793559042,
          0.2247949493067839,
          0.34945462609529065,
          0.3625360662494848,
          0.09551815047657676,
          0.2915905146097034,
          0.21457858769931668,
          0.3304998492721787,
          0.26962739619322273,
          0.25082946250829463,
          0.2749711063322754,
          0.2755881935194107,
          0.2236644452374827,
          0.3721423802663481,
          0.24438679390963286,
          0.3685193150722542,
          0.2553616484440706,
          0.2927813100152125
         ]
        },
        {
         "marker": {
          "color": "#FF4136"
         },
         "name": "km label 2",
         "orientation": "h",
         "type": "box",
         "x": [
          0.2697325231675852,
          0.21564798630835336,
          0.2806419750018637,
          0.23163103822693695,
          0.3542803112953669,
          0.23653542242391976,
          0.2238331035410432,
          0.2674465510286406,
          0.3040705967511869,
          0.22376009227220295,
          0.2348786885245901,
          0.24440052700922266,
          0.6344222330570454,
          0.2233981094977959,
          0.1745196045048923,
          0.2631272789183207,
          0.2649777797513529,
          0.332763642490913,
          0.29462224136001924,
          0.3119270118251472,
          0.19637526652452025,
          0.2619952859799358,
          0.13574007220216608,
          0.2224014125014558,
          0.23847019122609675,
          0.2770155946635209,
          0.30852145617246285,
          0.3195199578341341,
          0.2956005138086063,
          0.1141990845713716,
          0.3160089627500977,
          0.6861238639557763,
          0.385239852398524,
          0.290139746208036,
          0.23666512623437275,
          0.18873085339168488,
          0.1846995647681373,
          null,
          0.3565902717338749,
          0.263075173957992,
          0.16992785123127127,
          0.2343185033799717,
          0.3754226419493995,
          0.16186580174634846,
          0.19587882682601648,
          0.4168434545634484,
          0.25274644460404416,
          0.255141487552188,
          0.2951513366058209,
          0.30710319739613257,
          0.16357267950963222,
          0.3342208753513554,
          0.23703703703703705,
          0.3668104778719841,
          0.3348839569659652,
          0.3825761214100471,
          0.1539275069704836,
          0.2569799171907915,
          0.1761098188902805,
          0.30711889675736115,
          0.33877551020408164,
          0.18137837379052796,
          0.3676549157816791,
          0.20637721572301007,
          0.203267210397331,
          0.3240529290769804,
          0.3473104616687844,
          0.1882999870456485,
          0.3414609106308711,
          0.2370429252782194,
          0.3026734916749799,
          0.3135883469505653,
          0.24163892222771,
          0.42857142857142855,
          0.3655151141270821,
          0.3640192539109505,
          0.21727702193165604,
          0.26347014724124906,
          0.36822955794866735,
          0.2321836023496981,
          0.1789034825401092,
          0.2479274769212026,
          0.2895544378149744,
          0.14672628691162812,
          0.2887537993920973,
          0.1830964841178332,
          null,
          0.3717594178439842,
          0.34508842221608177,
          0.26845583901658665,
          0.27735309412376496,
          0.3928842914847,
          0.22496920640506776,
          0.13417666263611214
         ]
        },
        {
         "marker": {
          "color": "#AA22AA"
         },
         "name": "km label 0",
         "orientation": "h",
         "type": "box",
         "x": [
          0.5093768242848803,
          0.24991150363421355,
          0.2500671232804595,
          0.3334672405547585,
          0.3862401254972268,
          0.2970004917226685,
          0.18481138119009347,
          0.1679056856614128,
          0.2813397129186603,
          0.4364515320382419,
          0.3398419172050384,
          0.20452212957023733,
          0.3387952235621796,
          0.31561622191011235,
          0.14408362409694372,
          0.2403881632351856,
          0.25173398612811104,
          0.31351334350280713,
          0.2787324566250414,
          0.25182746975590986,
          0.2279223367306269,
          0.24856156501726126,
          0.19501742488461904,
          0.16806851849979265,
          0.16030534351145034,
          0.3239451114922813,
          0.24607876609161924,
          0.2269993898981268,
          0.2012035040552854,
          0.1865583491712942,
          0.10415970344261798,
          0.24913516616221576,
          0.3912839894310847,
          0.30096920341801914,
          0.2711387828881301,
          0.16577329471241475,
          0.3404153862456289,
          0.14806238804665994,
          0.19480846986037675,
          0.2157337096521291,
          0.3619824788219849,
          null,
          0.211550339715874,
          0.1819563259792886,
          0.05757307351638617,
          0.25374494031905753,
          0.39136381398983977,
          0.3188747510061385,
          0.05973261643537019,
          0.21409921671018275,
          0.4604424596829458,
          0.3378628950395885,
          0.2690157882662106,
          0.17439146382127374,
          0.3713671681269631,
          0.11182001440975063,
          0.2801258715369902,
          0.1916503050787808,
          0.32190091907644025,
          0.20664802065404475,
          0.2735553583546484,
          0.18965067401072624,
          0.16303210750784586,
          0.3129662621088965,
          0.31364049664513693,
          0.3597388777473089,
          0.30266264339645543,
          0.1997075073123172,
          0.1814133809717912,
          0.2098051885889336,
          0.2665212278219965,
          0.270033089710613,
          null,
          0.2638791885893436,
          0.3110132158590308,
          0.2883034869538455,
          0.2667857278565186,
          0.21340671738043784,
          0.22420007355645455,
          0.27855903452205216,
          0.3296084975869379,
          0.2564865171085429,
          0.11599552564609936
         ]
        },
        {
         "marker": {
          "color": "#ffaa00"
         },
         "name": "km label 4",
         "orientation": "h",
         "type": "box",
         "x": [
          0.2887368200544655,
          0.15050655111737818,
          0.2265608106020821,
          0.3252236807006219,
          0.2949371218988925,
          0.2521895769923598,
          0.2404929037182508,
          0.2936550300701043,
          0.10088925685502054,
          0.21040776080605286,
          0.18886147954423652,
          0.2569210208107936,
          0.25277474570868314,
          0.1251348042715842,
          0.20376359932977936,
          0.16651276327517125,
          0.10381866223225887,
          0.16330282129122484,
          0.23973836560542236,
          0.2780745530798247,
          0.1443025857414446,
          0.2443170452880524,
          0.18932592211942167,
          0.2394829614494571,
          0.27096620359654555
         ]
        },
        {
         "marker": {
          "color": "#FF851B"
         },
         "name": "km label 1",
         "orientation": "h",
         "type": "box",
         "x": [
          0.16454746117257274
         ]
        }
       ],
       "layout": {
        "autosize": true,
        "boxgap": 0.1,
        "boxmode": "overlay",
        "template": {
         "data": {
          "bar": [
           {
            "error_x": {
             "color": "#2a3f5f"
            },
            "error_y": {
             "color": "#2a3f5f"
            },
            "marker": {
             "line": {
              "color": "#E5ECF6",
              "width": 0.5
             }
            },
            "type": "bar"
           }
          ],
          "barpolar": [
           {
            "marker": {
             "line": {
              "color": "#E5ECF6",
              "width": 0.5
             }
            },
            "type": "barpolar"
           }
          ],
          "carpet": [
           {
            "aaxis": {
             "endlinecolor": "#2a3f5f",
             "gridcolor": "white",
             "linecolor": "white",
             "minorgridcolor": "white",
             "startlinecolor": "#2a3f5f"
            },
            "baxis": {
             "endlinecolor": "#2a3f5f",
             "gridcolor": "white",
             "linecolor": "white",
             "minorgridcolor": "white",
             "startlinecolor": "#2a3f5f"
            },
            "type": "carpet"
           }
          ],
          "choropleth": [
           {
            "colorbar": {
             "outlinewidth": 0,
             "ticks": ""
            },
            "type": "choropleth"
           }
          ],
          "contour": [
           {
            "colorbar": {
             "outlinewidth": 0,
             "ticks": ""
            },
            "colorscale": [
             [
              0,
              "#0d0887"
             ],
             [
              0.1111111111111111,
              "#46039f"
             ],
             [
              0.2222222222222222,
              "#7201a8"
             ],
             [
              0.3333333333333333,
              "#9c179e"
             ],
             [
              0.4444444444444444,
              "#bd3786"
             ],
             [
              0.5555555555555556,
              "#d8576b"
             ],
             [
              0.6666666666666666,
              "#ed7953"
             ],
             [
              0.7777777777777778,
              "#fb9f3a"
             ],
             [
              0.8888888888888888,
              "#fdca26"
             ],
             [
              1,
              "#f0f921"
             ]
            ],
            "type": "contour"
           }
          ],
          "contourcarpet": [
           {
            "colorbar": {
             "outlinewidth": 0,
             "ticks": ""
            },
            "type": "contourcarpet"
           }
          ],
          "heatmap": [
           {
            "colorbar": {
             "outlinewidth": 0,
             "ticks": ""
            },
            "colorscale": [
             [
              0,
              "#0d0887"
             ],
             [
              0.1111111111111111,
              "#46039f"
             ],
             [
              0.2222222222222222,
              "#7201a8"
             ],
             [
              0.3333333333333333,
              "#9c179e"
             ],
             [
              0.4444444444444444,
              "#bd3786"
             ],
             [
              0.5555555555555556,
              "#d8576b"
             ],
             [
              0.6666666666666666,
              "#ed7953"
             ],
             [
              0.7777777777777778,
              "#fb9f3a"
             ],
             [
              0.8888888888888888,
              "#fdca26"
             ],
             [
              1,
              "#f0f921"
             ]
            ],
            "type": "heatmap"
           }
          ],
          "heatmapgl": [
           {
            "colorbar": {
             "outlinewidth": 0,
             "ticks": ""
            },
            "colorscale": [
             [
              0,
              "#0d0887"
             ],
             [
              0.1111111111111111,
              "#46039f"
             ],
             [
              0.2222222222222222,
              "#7201a8"
             ],
             [
              0.3333333333333333,
              "#9c179e"
             ],
             [
              0.4444444444444444,
              "#bd3786"
             ],
             [
              0.5555555555555556,
              "#d8576b"
             ],
             [
              0.6666666666666666,
              "#ed7953"
             ],
             [
              0.7777777777777778,
              "#fb9f3a"
             ],
             [
              0.8888888888888888,
              "#fdca26"
             ],
             [
              1,
              "#f0f921"
             ]
            ],
            "type": "heatmapgl"
           }
          ],
          "histogram": [
           {
            "marker": {
             "colorbar": {
              "outlinewidth": 0,
              "ticks": ""
             }
            },
            "type": "histogram"
           }
          ],
          "histogram2d": [
           {
            "colorbar": {
             "outlinewidth": 0,
             "ticks": ""
            },
            "colorscale": [
             [
              0,
              "#0d0887"
             ],
             [
              0.1111111111111111,
              "#46039f"
             ],
             [
              0.2222222222222222,
              "#7201a8"
             ],
             [
              0.3333333333333333,
              "#9c179e"
             ],
             [
              0.4444444444444444,
              "#bd3786"
             ],
             [
              0.5555555555555556,
              "#d8576b"
             ],
             [
              0.6666666666666666,
              "#ed7953"
             ],
             [
              0.7777777777777778,
              "#fb9f3a"
             ],
             [
              0.8888888888888888,
              "#fdca26"
             ],
             [
              1,
              "#f0f921"
             ]
            ],
            "type": "histogram2d"
           }
          ],
          "histogram2dcontour": [
           {
            "colorbar": {
             "outlinewidth": 0,
             "ticks": ""
            },
            "colorscale": [
             [
              0,
              "#0d0887"
             ],
             [
              0.1111111111111111,
              "#46039f"
             ],
             [
              0.2222222222222222,
              "#7201a8"
             ],
             [
              0.3333333333333333,
              "#9c179e"
             ],
             [
              0.4444444444444444,
              "#bd3786"
             ],
             [
              0.5555555555555556,
              "#d8576b"
             ],
             [
              0.6666666666666666,
              "#ed7953"
             ],
             [
              0.7777777777777778,
              "#fb9f3a"
             ],
             [
              0.8888888888888888,
              "#fdca26"
             ],
             [
              1,
              "#f0f921"
             ]
            ],
            "type": "histogram2dcontour"
           }
          ],
          "mesh3d": [
           {
            "colorbar": {
             "outlinewidth": 0,
             "ticks": ""
            },
            "type": "mesh3d"
           }
          ],
          "parcoords": [
           {
            "line": {
             "colorbar": {
              "outlinewidth": 0,
              "ticks": ""
             }
            },
            "type": "parcoords"
           }
          ],
          "pie": [
           {
            "automargin": true,
            "type": "pie"
           }
          ],
          "scatter": [
           {
            "marker": {
             "colorbar": {
              "outlinewidth": 0,
              "ticks": ""
             }
            },
            "type": "scatter"
           }
          ],
          "scatter3d": [
           {
            "line": {
             "colorbar": {
              "outlinewidth": 0,
              "ticks": ""
             }
            },
            "marker": {
             "colorbar": {
              "outlinewidth": 0,
              "ticks": ""
             }
            },
            "type": "scatter3d"
           }
          ],
          "scattercarpet": [
           {
            "marker": {
             "colorbar": {
              "outlinewidth": 0,
              "ticks": ""
             }
            },
            "type": "scattercarpet"
           }
          ],
          "scattergeo": [
           {
            "marker": {
             "colorbar": {
              "outlinewidth": 0,
              "ticks": ""
             }
            },
            "type": "scattergeo"
           }
          ],
          "scattergl": [
           {
            "marker": {
             "colorbar": {
              "outlinewidth": 0,
              "ticks": ""
             }
            },
            "type": "scattergl"
           }
          ],
          "scattermapbox": [
           {
            "marker": {
             "colorbar": {
              "outlinewidth": 0,
              "ticks": ""
             }
            },
            "type": "scattermapbox"
           }
          ],
          "scatterpolar": [
           {
            "marker": {
             "colorbar": {
              "outlinewidth": 0,
              "ticks": ""
             }
            },
            "type": "scatterpolar"
           }
          ],
          "scatterpolargl": [
           {
            "marker": {
             "colorbar": {
              "outlinewidth": 0,
              "ticks": ""
             }
            },
            "type": "scatterpolargl"
           }
          ],
          "scatterternary": [
           {
            "marker": {
             "colorbar": {
              "outlinewidth": 0,
              "ticks": ""
             }
            },
            "type": "scatterternary"
           }
          ],
          "surface": [
           {
            "colorbar": {
             "outlinewidth": 0,
             "ticks": ""
            },
            "colorscale": [
             [
              0,
              "#0d0887"
             ],
             [
              0.1111111111111111,
              "#46039f"
             ],
             [
              0.2222222222222222,
              "#7201a8"
             ],
             [
              0.3333333333333333,
              "#9c179e"
             ],
             [
              0.4444444444444444,
              "#bd3786"
             ],
             [
              0.5555555555555556,
              "#d8576b"
             ],
             [
              0.6666666666666666,
              "#ed7953"
             ],
             [
              0.7777777777777778,
              "#fb9f3a"
             ],
             [
              0.8888888888888888,
              "#fdca26"
             ],
             [
              1,
              "#f0f921"
             ]
            ],
            "type": "surface"
           }
          ],
          "table": [
           {
            "cells": {
             "fill": {
              "color": "#EBF0F8"
             },
             "line": {
              "color": "white"
             }
            },
            "header": {
             "fill": {
              "color": "#C8D4E3"
             },
             "line": {
              "color": "white"
             }
            },
            "type": "table"
           }
          ]
         },
         "layout": {
          "annotationdefaults": {
           "arrowcolor": "#2a3f5f",
           "arrowhead": 0,
           "arrowwidth": 1
          },
          "autotypenumbers": "strict",
          "coloraxis": {
           "colorbar": {
            "outlinewidth": 0,
            "ticks": ""
           }
          },
          "colorscale": {
           "diverging": [
            [
             0,
             "#8e0152"
            ],
            [
             0.1,
             "#c51b7d"
            ],
            [
             0.2,
             "#de77ae"
            ],
            [
             0.3,
             "#f1b6da"
            ],
            [
             0.4,
             "#fde0ef"
            ],
            [
             0.5,
             "#f7f7f7"
            ],
            [
             0.6,
             "#e6f5d0"
            ],
            [
             0.7,
             "#b8e186"
            ],
            [
             0.8,
             "#7fbc41"
            ],
            [
             0.9,
             "#4d9221"
            ],
            [
             1,
             "#276419"
            ]
           ],
           "sequential": [
            [
             0,
             "#0d0887"
            ],
            [
             0.1111111111111111,
             "#46039f"
            ],
            [
             0.2222222222222222,
             "#7201a8"
            ],
            [
             0.3333333333333333,
             "#9c179e"
            ],
            [
             0.4444444444444444,
             "#bd3786"
            ],
            [
             0.5555555555555556,
             "#d8576b"
            ],
            [
             0.6666666666666666,
             "#ed7953"
            ],
            [
             0.7777777777777778,
             "#fb9f3a"
            ],
            [
             0.8888888888888888,
             "#fdca26"
            ],
            [
             1,
             "#f0f921"
            ]
           ],
           "sequentialminus": [
            [
             0,
             "#0d0887"
            ],
            [
             0.1111111111111111,
             "#46039f"
            ],
            [
             0.2222222222222222,
             "#7201a8"
            ],
            [
             0.3333333333333333,
             "#9c179e"
            ],
            [
             0.4444444444444444,
             "#bd3786"
            ],
            [
             0.5555555555555556,
             "#d8576b"
            ],
            [
             0.6666666666666666,
             "#ed7953"
            ],
            [
             0.7777777777777778,
             "#fb9f3a"
            ],
            [
             0.8888888888888888,
             "#fdca26"
            ],
            [
             1,
             "#f0f921"
            ]
           ]
          },
          "colorway": [
           "#636efa",
           "#EF553B",
           "#00cc96",
           "#ab63fa",
           "#FFA15A",
           "#19d3f3",
           "#FF6692",
           "#B6E880",
           "#FF97FF",
           "#FECB52"
          ],
          "font": {
           "color": "#2a3f5f"
          },
          "geo": {
           "bgcolor": "white",
           "lakecolor": "white",
           "landcolor": "#E5ECF6",
           "showlakes": true,
           "showland": true,
           "subunitcolor": "white"
          },
          "hoverlabel": {
           "align": "left"
          },
          "hovermode": "closest",
          "mapbox": {
           "style": "light"
          },
          "paper_bgcolor": "white",
          "plot_bgcolor": "#E5ECF6",
          "polar": {
           "angularaxis": {
            "gridcolor": "white",
            "linecolor": "white",
            "ticks": ""
           },
           "bgcolor": "#E5ECF6",
           "radialaxis": {
            "gridcolor": "white",
            "linecolor": "white",
            "ticks": ""
           }
          },
          "scene": {
           "xaxis": {
            "backgroundcolor": "#E5ECF6",
            "gridcolor": "white",
            "gridwidth": 2,
            "linecolor": "white",
            "showbackground": true,
            "ticks": "",
            "zerolinecolor": "white"
           },
           "yaxis": {
            "backgroundcolor": "#E5ECF6",
            "gridcolor": "white",
            "gridwidth": 2,
            "linecolor": "white",
            "showbackground": true,
            "ticks": "",
            "zerolinecolor": "white"
           },
           "zaxis": {
            "backgroundcolor": "#E5ECF6",
            "gridcolor": "white",
            "gridwidth": 2,
            "linecolor": "white",
            "showbackground": true,
            "ticks": "",
            "zerolinecolor": "white"
           }
          },
          "shapedefaults": {
           "line": {
            "color": "#2a3f5f"
           }
          },
          "ternary": {
           "aaxis": {
            "gridcolor": "white",
            "linecolor": "white",
            "ticks": ""
           },
           "baxis": {
            "gridcolor": "white",
            "linecolor": "white",
            "ticks": ""
           },
           "bgcolor": "#E5ECF6",
           "caxis": {
            "gridcolor": "white",
            "linecolor": "white",
            "ticks": ""
           }
          },
          "title": {
           "x": 0.05
          },
          "xaxis": {
           "automargin": true,
           "gridcolor": "white",
           "linecolor": "white",
           "ticks": "",
           "title": {
            "standoff": 15
           },
           "zerolinecolor": "white",
           "zerolinewidth": 2
          },
          "yaxis": {
           "automargin": true,
           "gridcolor": "white",
           "linecolor": "white",
           "ticks": "",
           "title": {
            "standoff": 15
           },
           "zerolinecolor": "white",
           "zerolinewidth": 2
          }
         }
        },
        "xaxis": {
         "autorange": true,
         "range": [
          0.022653585158642277,
          0.7210433523135202
         ],
         "title": {
          "text": "KMeans (KM): percent recycling per household by label"
         },
         "type": "linear",
         "zeroline": false
        },
        "yaxis": {
         "autorange": true,
         "range": [
          -0.5,
          5.5
         ],
         "type": "category"
        }
       }
      },
      "image/png": "[encoded data removed]",
      "text/html": [
       "<div>                            <div id=\"285b6410-9c0e-48a6-978c-a41a63907d17\" class=\"plotly-graph-div\" style=\"height:600px; width:100%;\"></div>            <script type=\"text/javascript\">                require([\"plotly\"], function(Plotly) {                    window.PLOTLYENV=window.PLOTLYENV || {};                                    if (document.getElementById(\"285b6410-9c0e-48a6-978c-a41a63907d17\")) {                    Plotly.newPlot(                        \"285b6410-9c0e-48a6-978c-a41a63907d17\",                        [{\"marker\": {\"color\": \"#3D9970\"}, \"name\": \"km label 3\", \"orientation\": \"h\", \"type\": \"box\", \"x\": [0.2996639895099165, 0.3388474360254709, 0.2414544383924628, 0.26699507389162563, 0.5111538052265451, 0.26966966966966965, 0.3985439173320808, 0.2851798784029741, 0.19951786211825706, 0.3145121247529797, 0.3416547788873039, 0.3595961588592121, 0.3495532856558917, 0.28239693004034244, 0.3232672639503219, 0.39925979478540014, 0.230849478390462, 0.312268927237077, 0.2100056529112493]}, {\"marker\": {\"color\": \"#1199ee\"}, \"name\": \"km label 5\", \"orientation\": \"h\", \"type\": \"box\", \"x\": [0.3104374563282033, 0.29107540752902544, 0.3810518975482248, 0.2583130346116807, 0.3023595834176845, 0.30241325819309994, 0.3591376400184134, 0.28419595745564835, 0.22014862956893214, 0.22839149254214444, 0.3089887640449438, 0.4506172839506172, 0.3052858683926645, 0.30771173422401304, 0.3933438195350265, 0.15807802357684242, 0.3412133891213389, 0.34416105724695856, 0.29390551749008303, 0.20118643712825668, 0.4249750505386525, 0.2797202797202797, 0.3720058065665608, 0.2586980920314253, 0.316375462599529, 0.24708774179758464, 0.1602570095481749, 0.35494554550259644, 0.21584137026676334, 0.4249896288761786, 0.2857142857142857, 0.2972749793559042, 0.2247949493067839, 0.34945462609529065, 0.3625360662494848, 0.09551815047657676, 0.2915905146097034, 0.21457858769931668, 0.3304998492721787, 0.26962739619322273, 0.25082946250829463, 0.2749711063322754, 0.2755881935194107, 0.2236644452374827, 0.3721423802663481, 0.24438679390963286, 0.3685193150722542, 0.2553616484440706, 0.2927813100152125]}, {\"marker\": {\"color\": \"#FF4136\"}, \"name\": \"km label 2\", \"orientation\": \"h\", \"type\": \"box\", \"x\": [0.2697325231675852, 0.21564798630835336, 0.2806419750018637, 0.23163103822693695, 0.3542803112953669, 0.23653542242391976, 0.2238331035410432, 0.2674465510286406, 0.3040705967511869, 0.22376009227220295, 0.2348786885245901, 0.24440052700922266, 0.6344222330570454, 0.2233981094977959, 0.1745196045048923, 0.2631272789183207, 0.2649777797513529, 0.332763642490913, 0.29462224136001924, 0.3119270118251472, 0.19637526652452025, 0.2619952859799358, 0.13574007220216608, 0.2224014125014558, 0.23847019122609675, 0.2770155946635209, 0.30852145617246285, 0.3195199578341341, 0.2956005138086063, 0.1141990845713716, 0.3160089627500977, 0.6861238639557763, 0.385239852398524, 0.290139746208036, 0.23666512623437275, 0.18873085339168488, 0.1846995647681373, null, 0.3565902717338749, 0.263075173957992, 0.16992785123127127, 0.2343185033799717, 0.3754226419493995, 0.16186580174634846, 0.19587882682601648, 0.4168434545634484, 0.25274644460404416, 0.255141487552188, 0.2951513366058209, 0.30710319739613257, 0.16357267950963222, 0.3342208753513554, 0.23703703703703705, 0.3668104778719841, 0.3348839569659652, 0.3825761214100471, 0.1539275069704836, 0.2569799171907915, 0.1761098188902805, 0.30711889675736115, 0.33877551020408164, 0.18137837379052796, 0.3676549157816791, 0.20637721572301007, 0.203267210397331, 0.3240529290769804, 0.3473104616687844, 0.1882999870456485, 0.3414609106308711, 0.2370429252782194, 0.3026734916749799, 0.3135883469505653, 0.24163892222771, 0.42857142857142855, 0.3655151141270821, 0.3640192539109505, 0.21727702193165604, 0.26347014724124906, 0.36822955794866735, 0.2321836023496981, 0.1789034825401092, 0.2479274769212026, 0.2895544378149744, 0.14672628691162812, 0.2887537993920973, 0.1830964841178332, null, 0.3717594178439842, 0.34508842221608177, 0.26845583901658665, 0.27735309412376496, 0.3928842914847, 0.22496920640506776, 0.13417666263611214]}, {\"marker\": {\"color\": \"#AA22AA\"}, \"name\": \"km label 0\", \"orientation\": \"h\", \"type\": \"box\", \"x\": [0.5093768242848803, 0.24991150363421355, 0.2500671232804595, 0.3334672405547585, 0.3862401254972268, 0.2970004917226685, 0.18481138119009347, 0.1679056856614128, 0.2813397129186603, 0.4364515320382419, 0.3398419172050384, 0.20452212957023733, 0.3387952235621796, 0.31561622191011235, 0.14408362409694372, 0.2403881632351856, 0.25173398612811104, 0.31351334350280713, 0.2787324566250414, 0.25182746975590986, 0.2279223367306269, 0.24856156501726126, 0.19501742488461904, 0.16806851849979265, 0.16030534351145034, 0.3239451114922813, 0.24607876609161924, 0.2269993898981268, 0.2012035040552854, 0.1865583491712942, 0.10415970344261798, 0.24913516616221576, 0.3912839894310847, 0.30096920341801914, 0.2711387828881301, 0.16577329471241475, 0.3404153862456289, 0.14806238804665994, 0.19480846986037675, 0.2157337096521291, 0.3619824788219849, null, 0.211550339715874, 0.1819563259792886, 0.05757307351638617, 0.25374494031905753, 0.39136381398983977, 0.3188747510061385, 0.05973261643537019, 0.21409921671018275, 0.4604424596829458, 0.3378628950395885, 0.2690157882662106, 0.17439146382127374, 0.3713671681269631, 0.11182001440975063, 0.2801258715369902, 0.1916503050787808, 0.32190091907644025, 0.20664802065404475, 0.2735553583546484, 0.18965067401072624, 0.16303210750784586, 0.3129662621088965, 0.31364049664513693, 0.3597388777473089, 0.30266264339645543, 0.1997075073123172, 0.1814133809717912, 0.2098051885889336, 0.2665212278219965, 0.270033089710613, null, 0.2638791885893436, 0.3110132158590308, 0.2883034869538455, 0.2667857278565186, 0.21340671738043784, 0.22420007355645455, 0.27855903452205216, 0.3296084975869379, 0.2564865171085429, 0.11599552564609936]}, {\"marker\": {\"color\": \"#ffaa00\"}, \"name\": \"km label 4\", \"orientation\": \"h\", \"type\": \"box\", \"x\": [0.2887368200544655, 0.15050655111737818, 0.2265608106020821, 0.3252236807006219, 0.2949371218988925, 0.2521895769923598, 0.2404929037182508, 0.2936550300701043, 0.10088925685502054, 0.21040776080605286, 0.18886147954423652, 0.2569210208107936, 0.25277474570868314, 0.1251348042715842, 0.20376359932977936, 0.16651276327517125, 0.10381866223225887, 0.16330282129122484, 0.23973836560542236, 0.2780745530798247, 0.1443025857414446, 0.2443170452880524, 0.18932592211942167, 0.2394829614494571, 0.27096620359654555]}, {\"marker\": {\"color\": \"#FF851B\"}, \"name\": \"km label 1\", \"orientation\": \"h\", \"type\": \"box\", \"x\": [0.16454746117257274]}],                        {\"boxgap\": 0.1, \"boxmode\": \"overlay\", \"height\": 600, \"template\": {\"data\": {\"bar\": [{\"error_x\": {\"color\": \"#2a3f5f\"}, \"error_y\": {\"color\": \"#2a3f5f\"}, \"marker\": {\"line\": {\"color\": \"#E5ECF6\", \"width\": 0.5}}, \"type\": \"bar\"}], \"barpolar\": [{\"marker\": {\"line\": {\"color\": \"#E5ECF6\", \"width\": 0.5}}, \"type\": \"barpolar\"}], \"carpet\": [{\"aaxis\": {\"endlinecolor\": \"#2a3f5f\", \"gridcolor\": \"white\", \"linecolor\": \"white\", \"minorgridcolor\": \"white\", \"startlinecolor\": \"#2a3f5f\"}, \"baxis\": {\"endlinecolor\": \"#2a3f5f\", \"gridcolor\": \"white\", \"linecolor\": \"white\", \"minorgridcolor\": \"white\", \"startlinecolor\": \"#2a3f5f\"}, \"type\": \"carpet\"}], \"choropleth\": [{\"colorbar\": {\"outlinewidth\": 0, \"ticks\": \"\"}, \"type\": \"choropleth\"}], \"contour\": [{\"colorbar\": {\"outlinewidth\": 0, \"ticks\": \"\"}, \"colorscale\": [[0.0, \"#0d0887\"], [0.1111111111111111, \"#46039f\"], [0.2222222222222222, \"#7201a8\"], [0.3333333333333333, \"#9c179e\"], [0.4444444444444444, \"#bd3786\"], [0.5555555555555556, \"#d8576b\"], [0.6666666666666666, \"#ed7953\"], [0.7777777777777778, \"#fb9f3a\"], [0.8888888888888888, \"#fdca26\"], [1.0, \"#f0f921\"]], \"type\": \"contour\"}], \"contourcarpet\": [{\"colorbar\": {\"outlinewidth\": 0, \"ticks\": \"\"}, \"type\": \"contourcarpet\"}], \"heatmap\": [{\"colorbar\": {\"outlinewidth\": 0, \"ticks\": \"\"}, \"colorscale\": [[0.0, \"#0d0887\"], [0.1111111111111111, \"#46039f\"], [0.2222222222222222, \"#7201a8\"], [0.3333333333333333, \"#9c179e\"], [0.4444444444444444, \"#bd3786\"], [0.5555555555555556, \"#d8576b\"], [0.6666666666666666, \"#ed7953\"], [0.7777777777777778, \"#fb9f3a\"], [0.8888888888888888, \"#fdca26\"], [1.0, \"#f0f921\"]], \"type\": \"heatmap\"}], \"heatmapgl\": [{\"colorbar\": {\"outlinewidth\": 0, \"ticks\": \"\"}, \"colorscale\": [[0.0, \"#0d0887\"], [0.1111111111111111, \"#46039f\"], [0.2222222222222222, \"#7201a8\"], [0.3333333333333333, \"#9c179e\"], [0.4444444444444444, \"#bd3786\"], [0.5555555555555556, \"#d8576b\"], [0.6666666666666666, \"#ed7953\"], [0.7777777777777778, \"#fb9f3a\"], [0.8888888888888888, \"#fdca26\"], [1.0, \"#f0f921\"]], \"type\": \"heatmapgl\"}], \"histogram\": [{\"marker\": {\"colorbar\": {\"outlinewidth\": 0, \"ticks\": \"\"}}, \"type\": \"histogram\"}], \"histogram2d\": [{\"colorbar\": {\"outlinewidth\": 0, \"ticks\": \"\"}, \"colorscale\": [[0.0, \"#0d0887\"], [0.1111111111111111, \"#46039f\"], [0.2222222222222222, \"#7201a8\"], [0.3333333333333333, \"#9c179e\"], [0.4444444444444444, \"#bd3786\"], [0.5555555555555556, \"#d8576b\"], [0.6666666666666666, \"#ed7953\"], [0.7777777777777778, \"#fb9f3a\"], [0.8888888888888888, \"#fdca26\"], [1.0, \"#f0f921\"]], \"type\": \"histogram2d\"}], \"histogram2dcontour\": [{\"colorbar\": {\"outlinewidth\": 0, \"ticks\": \"\"}, \"colorscale\": [[0.0, \"#0d0887\"], [0.1111111111111111, \"#46039f\"], [0.2222222222222222, \"#7201a8\"], [0.3333333333333333, \"#9c179e\"], [0.4444444444444444, \"#bd3786\"], [0.5555555555555556, \"#d8576b\"], [0.6666666666666666, \"#ed7953\"], [0.7777777777777778, \"#fb9f3a\"], [0.8888888888888888, \"#fdca26\"], [1.0, \"#f0f921\"]], \"type\": \"histogram2dcontour\"}], \"mesh3d\": [{\"colorbar\": {\"outlinewidth\": 0, \"ticks\": \"\"}, \"type\": \"mesh3d\"}], \"parcoords\": [{\"line\": {\"colorbar\": {\"outlinewidth\": 0, \"ticks\": \"\"}}, \"type\": \"parcoords\"}], \"pie\": [{\"automargin\": true, \"type\": \"pie\"}], \"scatter\": [{\"marker\": {\"colorbar\": {\"outlinewidth\": 0, \"ticks\": \"\"}}, \"type\": \"scatter\"}], \"scatter3d\": [{\"line\": {\"colorbar\": {\"outlinewidth\": 0, \"ticks\": \"\"}}, \"marker\": {\"colorbar\": {\"outlinewidth\": 0, \"ticks\": \"\"}}, \"type\": \"scatter3d\"}], \"scattercarpet\": [{\"marker\": {\"colorbar\": {\"outlinewidth\": 0, \"ticks\": \"\"}}, \"type\": \"scattercarpet\"}], \"scattergeo\": [{\"marker\": {\"colorbar\": {\"outlinewidth\": 0, \"ticks\": \"\"}}, \"type\": \"scattergeo\"}], \"scattergl\": [{\"marker\": {\"colorbar\": {\"outlinewidth\": 0, \"ticks\": \"\"}}, \"type\": \"scattergl\"}], \"scattermapbox\": [{\"marker\": {\"colorbar\": {\"outlinewidth\": 0, \"ticks\": \"\"}}, \"type\": \"scattermapbox\"}], \"scatterpolar\": [{\"marker\": {\"colorbar\": {\"outlinewidth\": 0, \"ticks\": \"\"}}, \"type\": \"scatterpolar\"}], \"scatterpolargl\": [{\"marker\": {\"colorbar\": {\"outlinewidth\": 0, \"ticks\": \"\"}}, \"type\": \"scatterpolargl\"}], \"scatterternary\": [{\"marker\": {\"colorbar\": {\"outlinewidth\": 0, \"ticks\": \"\"}}, \"type\": \"scatterternary\"}], \"surface\": [{\"colorbar\": {\"outlinewidth\": 0, \"ticks\": \"\"}, \"colorscale\": [[0.0, \"#0d0887\"], [0.1111111111111111, \"#46039f\"], [0.2222222222222222, \"#7201a8\"], [0.3333333333333333, \"#9c179e\"], [0.4444444444444444, \"#bd3786\"], [0.5555555555555556, \"#d8576b\"], [0.6666666666666666, \"#ed7953\"], [0.7777777777777778, \"#fb9f3a\"], [0.8888888888888888, \"#fdca26\"], [1.0, \"#f0f921\"]], \"type\": \"surface\"}], \"table\": [{\"cells\": {\"fill\": {\"color\": \"#EBF0F8\"}, \"line\": {\"color\": \"white\"}}, \"header\": {\"fill\": {\"color\": \"#C8D4E3\"}, \"line\": {\"color\": \"white\"}}, \"type\": \"table\"}]}, \"layout\": {\"annotationdefaults\": {\"arrowcolor\": \"#2a3f5f\", \"arrowhead\": 0, \"arrowwidth\": 1}, \"autotypenumbers\": \"strict\", \"coloraxis\": {\"colorbar\": {\"outlinewidth\": 0, \"ticks\": \"\"}}, \"colorscale\": {\"diverging\": [[0, \"#8e0152\"], [0.1, \"#c51b7d\"], [0.2, \"#de77ae\"], [0.3, \"#f1b6da\"], [0.4, \"#fde0ef\"], [0.5, \"#f7f7f7\"], [0.6, \"#e6f5d0\"], [0.7, \"#b8e186\"], [0.8, \"#7fbc41\"], [0.9, \"#4d9221\"], [1, \"#276419\"]], \"sequential\": [[0.0, \"#0d0887\"], [0.1111111111111111, \"#46039f\"], [0.2222222222222222, \"#7201a8\"], [0.3333333333333333, \"#9c179e\"], [0.4444444444444444, \"#bd3786\"], [0.5555555555555556, \"#d8576b\"], [0.6666666666666666, \"#ed7953\"], [0.7777777777777778, \"#fb9f3a\"], [0.8888888888888888, \"#fdca26\"], [1.0, \"#f0f921\"]], \"sequentialminus\": [[0.0, \"#0d0887\"], [0.1111111111111111, \"#46039f\"], [0.2222222222222222, \"#7201a8\"], [0.3333333333333333, \"#9c179e\"], [0.4444444444444444, \"#bd3786\"], [0.5555555555555556, \"#d8576b\"], [0.6666666666666666, \"#ed7953\"], [0.7777777777777778, \"#fb9f3a\"], [0.8888888888888888, \"#fdca26\"], [1.0, \"#f0f921\"]]}, \"colorway\": [\"#636efa\", \"#EF553B\", \"#00cc96\", \"#ab63fa\", \"#FFA15A\", \"#19d3f3\", \"#FF6692\", \"#B6E880\", \"#FF97FF\", \"#FECB52\"], \"font\": {\"color\": \"#2a3f5f\"}, \"geo\": {\"bgcolor\": \"white\", \"lakecolor\": \"white\", \"landcolor\": \"#E5ECF6\", \"showlakes\": true, \"showland\": true, \"subunitcolor\": \"white\"}, \"hoverlabel\": {\"align\": \"left\"}, \"hovermode\": \"closest\", \"mapbox\": {\"style\": \"light\"}, \"paper_bgcolor\": \"white\", \"plot_bgcolor\": \"#E5ECF6\", \"polar\": {\"angularaxis\": {\"gridcolor\": \"white\", \"linecolor\": \"white\", \"ticks\": \"\"}, \"bgcolor\": \"#E5ECF6\", \"radialaxis\": {\"gridcolor\": \"white\", \"linecolor\": \"white\", \"ticks\": \"\"}}, \"scene\": {\"xaxis\": {\"backgroundcolor\": \"#E5ECF6\", \"gridcolor\": \"white\", \"gridwidth\": 2, \"linecolor\": \"white\", \"showbackground\": true, \"ticks\": \"\", \"zerolinecolor\": \"white\"}, \"yaxis\": {\"backgroundcolor\": \"#E5ECF6\", \"gridcolor\": \"white\", \"gridwidth\": 2, \"linecolor\": \"white\", \"showbackground\": true, \"ticks\": \"\", \"zerolinecolor\": \"white\"}, \"zaxis\": {\"backgroundcolor\": \"#E5ECF6\", \"gridcolor\": \"white\", \"gridwidth\": 2, \"linecolor\": \"white\", \"showbackground\": true, \"ticks\": \"\", \"zerolinecolor\": \"white\"}}, \"shapedefaults\": {\"line\": {\"color\": \"#2a3f5f\"}}, \"ternary\": {\"aaxis\": {\"gridcolor\": \"white\", \"linecolor\": \"white\", \"ticks\": \"\"}, \"baxis\": {\"gridcolor\": \"white\", \"linecolor\": \"white\", \"ticks\": \"\"}, \"bgcolor\": \"#E5ECF6\", \"caxis\": {\"gridcolor\": \"white\", \"linecolor\": \"white\", \"ticks\": \"\"}}, \"title\": {\"x\": 0.05}, \"xaxis\": {\"automargin\": true, \"gridcolor\": \"white\", \"linecolor\": \"white\", \"ticks\": \"\", \"title\": {\"standoff\": 15}, \"zerolinecolor\": \"white\", \"zerolinewidth\": 2}, \"yaxis\": {\"automargin\": true, \"gridcolor\": \"white\", \"linecolor\": \"white\", \"ticks\": \"\", \"title\": {\"standoff\": 15}, \"zerolinecolor\": \"white\", \"zerolinewidth\": 2}}}, \"xaxis\": {\"title\": {\"text\": \"KMeans (KM): percent recycling per household by label\"}, \"zeroline\": false}},                        {\"responsive\": true}                    ).then(function(){\n",
       "                            \n",
       "var gd = document.getElementById('285b6410-9c0e-48a6-978c-a41a63907d17');\n",
       "var x = new MutationObserver(function (mutations, observer) {{\n",
       "        var display = window.getComputedStyle(gd).display;\n",
       "        if (!display || display === 'none') {{\n",
       "            console.log([gd, 'removed!']);\n",
       "            Plotly.purge(gd);\n",
       "            observer.disconnect();\n",
       "        }}\n",
       "}});\n",
       "\n",
       "// Listen for the removal of the full notebook cells\n",
       "var notebookContainer = gd.closest('#notebook-container');\n",
       "if (notebookContainer) {{\n",
       "    x.observe(notebookContainer, {childList: true});\n",
       "}}\n",
       "\n",
       "// Listen for the clearing of the current output cell\n",
       "var outputEl = gd.closest('.output');\n",
       "if (outputEl) {{\n",
       "    x.observe(outputEl, {childList: true});\n",
       "}}\n",
       "\n",
       "                        })                };                });            </script>        </div>"
      ]
     },
     "metadata": {},
     "output_type": "display_data"
    }
   ],
   "source": [
    "layout = Layout(\n",
    "    boxgap=0.1,\n",
    "    height = 600\n",
    ")\n",
    "fig = go.Figure(layout=layout)\n",
    "\n",
    "fig.add_trace(go.Box(\n",
    "    x=km_label3['%recycle/hh'],\n",
    "    name='km label 3',\n",
    "    marker_color='#3D9970'\n",
    "))\n",
    "\n",
    "fig.add_trace(go.Box(\n",
    "    x=km_label5['%recycle/hh'],\n",
    "    name='km label 5',\n",
    "    marker_color='#1199ee'\n",
    "))\n",
    "fig.add_trace(go.Box(\n",
    "    x=km_label2['%recycle/hh'],\n",
    "    name='km label 2',\n",
    "    marker_color='#FF4136'\n",
    "))\n",
    "fig.add_trace(go.Box(\n",
    "    x=km_label0['%recycle/hh'],\n",
    "    name='km label 0',\n",
    "    marker_color='#AA22AA'\n",
    "))\n",
    "fig.add_trace(go.Box(\n",
    "    x=km_label4['%recycle/hh'],\n",
    "    name='km label 4',\n",
    "    marker_color='#ffaa00'\n",
    "))\n",
    "fig.add_trace(go.Box(\n",
    "    x=km_label1['%recycle/hh'],\n",
    "    name='km label 1',\n",
    "    marker_color='#FF851B'\n",
    "))\n",
    "\n",
    "fig.update_layout(\n",
    "    xaxis=dict(title='KMeans (KM): percent recycling per household by label', zeroline=False),\n",
    "    boxmode='overlay'\n",
    ")\n",
    "\n",
    "fig.update_traces(orientation='h') # horizontal box plots\n",
    "\n",
    "fig.show()"
   ]
  },
  {
   "cell_type": "code",
   "execution_count": 66,
   "metadata": {
    "jupyter": {
     "source_hidden": true
    }
   },
   "outputs": [
    {
     "data": {
      "application/vnd.plotly.v1+json": {
       "config": {
        "plotlyServerURL": "https://plot.ly"
       },
       "data": [
        {
         "marker": {
          "color": "#ffaa00"
         },
         "name": "km label 4",
         "orientation": "h",
         "type": "box",
         "x": [
          0.2996639895099165,
          0.3388474360254709,
          0.2414544383924628,
          0.26699507389162563,
          0.5111538052265451,
          0.26966966966966965,
          0.3985439173320808,
          0.2851798784029741,
          0.19951786211825706,
          0.3145121247529797,
          0.4249750505386525,
          0.3595961588592121,
          0.3495532856558917,
          0.2972749793559042,
          0.3625360662494848,
          0.3304998492721787,
          0.28239693004034244,
          0.3232672639503219,
          0.39925979478540014,
          0.230849478390462,
          0.24438679390963286,
          0.312268927237077,
          0.2100056529112493
         ]
        },
        {
         "marker": {
          "color": "#AA22AA"
         },
         "name": "km label 0",
         "orientation": "h",
         "type": "box",
         "x": [
          0.2697325231675852,
          0.3104374563282033,
          0.23163103822693695,
          0.3542803112953669,
          0.3810518975482248,
          0.2583130346116807,
          0.3023595834176845,
          0.3040705967511869,
          0.22376009227220295,
          0.24440052700922266,
          0.30241325819309994,
          0.28419595745564835,
          0.22014862956893214,
          0.22839149254214444,
          0.3089887640449438,
          0.2631272789183207,
          0.29462224136001924,
          0.2619952859799358,
          0.13574007220216608,
          0.4506172839506172,
          0.3052858683926645,
          0.30771173422401304,
          0.3160089627500977,
          0.3933438195350265,
          0.15807802357684242,
          0.385239852398524,
          0.290139746208036,
          0.3412133891213389,
          0.1846995647681373,
          0.3416547788873039,
          0.34416105724695856,
          0.29390551749008303,
          0.263075173957992,
          0.20118643712825668,
          0.2797202797202797,
          0.3720058065665608,
          0.19587882682601648,
          0.2586980920314253,
          0.316375462599529,
          0.24708774179758464,
          0.1602570095481749,
          0.30710319739613257,
          0.35494554550259644,
          0.21584137026676334,
          0.4249896288761786,
          0.2857142857142857,
          0.2247949493067839,
          0.34945462609529065,
          0.09551815047657676,
          0.2569799171907915,
          0.33877551020408164,
          0.3676549157816791,
          0.2915905146097034,
          0.20637721572301007,
          0.3473104616687844,
          0.21457858769931668,
          0.2370429252782194,
          0.26962739619322273,
          0.3135883469505653,
          0.25082946250829463,
          0.24163892222771,
          0.42857142857142855,
          0.3655151141270821,
          0.2749711063322754,
          0.21727702193165604,
          0.2755881935194107,
          0.2236644452374827,
          0.2321836023496981,
          0.1789034825401092,
          0.3721423802663481,
          0.14672628691162812,
          0.2887537993920973,
          null,
          0.3685193150722542,
          0.2553616484440706,
          0.2927813100152125
         ]
        },
        {
         "marker": {
          "color": "#FF4136"
         },
         "name": "km label 2",
         "orientation": "h",
         "type": "box",
         "x": [
          0.21564798630835336,
          0.5093768242848803,
          0.2806419750018637,
          0.3334672405547585,
          0.3862401254972268,
          0.23653542242391976,
          0.2238331035410432,
          0.2970004917226685,
          0.18481138119009347,
          0.1679056856614128,
          0.2674465510286406,
          0.2813397129186603,
          0.6344222330570454,
          0.4364515320382419,
          0.3398419172050384,
          0.20452212957023733,
          0.3387952235621796,
          0.31561622191011235,
          0.1745196045048923,
          0.14408362409694372,
          0.2403881632351856,
          0.25173398612811104,
          0.31351334350280713,
          0.2787324566250414,
          0.25182746975590986,
          0.2279223367306269,
          0.332763642490913,
          0.3119270118251472,
          0.19637526652452025,
          0.24856156501726126,
          0.23847019122609675,
          0.19501742488461904,
          0.2770155946635209,
          0.16806851849979265,
          0.16030534351145034,
          0.3239451114922813,
          0.24607876609161924,
          0.2269993898981268,
          0.2012035040552854,
          0.10415970344261798,
          0.30852145617246285,
          0.24913516616221576,
          0.3912839894310847,
          0.30096920341801914,
          0.2956005138086063,
          0.2711387828881301,
          0.1141990845713716,
          0.6861238639557763,
          0.16577329471241475,
          0.3404153862456289,
          0.14806238804665994,
          0.23666512623437275,
          0.2157337096521291,
          0.3619824788219849,
          0.18873085339168488,
          null,
          null,
          0.3565902717338749,
          0.211550339715874,
          0.16992785123127127,
          0.3754226419493995,
          0.16186580174634846,
          0.4168434545634484,
          0.1819563259792886,
          0.2951513366058209,
          0.05757307351638617,
          0.16357267950963222,
          0.25374494031905753,
          0.3342208753513554,
          0.39136381398983977,
          0.23703703703703705,
          0.3188747510061385,
          0.05973261643537019,
          0.21409921671018275,
          0.3348839569659652,
          0.3378628950395885,
          0.2690157882662106,
          0.17439146382127374,
          0.1539275069704836,
          0.1761098188902805,
          0.30711889675736115,
          0.3713671681269631,
          0.2801258715369902,
          0.1916503050787808,
          0.32190091907644025,
          0.203267210397331,
          0.3240529290769804,
          0.20664802065404475,
          0.2735553583546484,
          0.18965067401072624,
          0.16303210750784586,
          0.3414609106308711,
          0.3129662621088965,
          0.31364049664513693,
          0.3597388777473089,
          0.3026734916749799,
          0.30266264339645543,
          0.1997075073123172,
          0.1814133809717912,
          0.2098051885889336,
          0.3640192539109505,
          0.2665212278219965,
          0.270033089710613,
          0.26347014724124906,
          0.36822955794866735,
          null,
          0.2638791885893436,
          0.3110132158590308,
          0.2883034869538455,
          0.2667857278565186,
          0.2895544378149744,
          0.21340671738043784,
          0.1830964841178332,
          0.27855903452205216,
          0.3717594178439842,
          0.34508842221608177,
          0.26845583901658665,
          0.27735309412376496,
          0.3928842914847,
          0.3296084975869379,
          0.22496920640506776,
          0.2564865171085429,
          0.11599552564609936
         ]
        },
        {
         "marker": {
          "color": "#1199ee"
         },
         "name": "km label 5",
         "orientation": "h",
         "type": "box",
         "x": [
          0.24991150363421355,
          0.2500671232804595,
          0.29107540752902544,
          0.2887368200544655,
          0.15050655111737818,
          0.2348786885245901,
          0.2233981094977959,
          0.3591376400184134,
          0.2949371218988925,
          0.2649777797513529,
          0.2224014125014558,
          0.1865583491712942,
          0.2404929037182508,
          0.3195199578341341,
          0.2936550300701043,
          0.19480846986037675,
          0.2569210208107936,
          0.2343185033799717,
          0.25277474570868314,
          0.1251348042715842,
          0.25274644460404416,
          0.255141487552188,
          0.3668104778719841,
          0.4604424596829458,
          0.3825761214100471,
          0.16651276327517125,
          0.11182001440975063,
          0.18137837379052796,
          0.16330282129122484,
          0.23973836560542236,
          0.1882999870456485,
          0.2780745530798247,
          0.2443170452880524,
          0.18932592211942167,
          0.2479274769212026,
          0.22420007355645455,
          0.2394829614494571,
          0.13417666263611214
         ]
        },
        {
         "marker": {
          "color": "#3D9970"
         },
         "name": "km label 3",
         "orientation": "h",
         "type": "box",
         "x": [
          0.2265608106020821,
          0.3252236807006219,
          0.2521895769923598,
          0.10088925685502054,
          0.21040776080605286,
          0.18886147954423652,
          0.20376359932977936,
          0.10381866223225887,
          0.1443025857414446,
          0.27096620359654555
         ]
        },
        {
         "marker": {
          "color": "#FF851B"
         },
         "name": "km label 1",
         "orientation": "h",
         "type": "box",
         "x": [
          0.16454746117257274
         ]
        }
       ],
       "layout": {
        "autosize": true,
        "boxgap": 0.1,
        "boxmode": "overlay",
        "template": {
         "data": {
          "bar": [
           {
            "error_x": {
             "color": "#2a3f5f"
            },
            "error_y": {
             "color": "#2a3f5f"
            },
            "marker": {
             "line": {
              "color": "#E5ECF6",
              "width": 0.5
             }
            },
            "type": "bar"
           }
          ],
          "barpolar": [
           {
            "marker": {
             "line": {
              "color": "#E5ECF6",
              "width": 0.5
             }
            },
            "type": "barpolar"
           }
          ],
          "carpet": [
           {
            "aaxis": {
             "endlinecolor": "#2a3f5f",
             "gridcolor": "white",
             "linecolor": "white",
             "minorgridcolor": "white",
             "startlinecolor": "#2a3f5f"
            },
            "baxis": {
             "endlinecolor": "#2a3f5f",
             "gridcolor": "white",
             "linecolor": "white",
             "minorgridcolor": "white",
             "startlinecolor": "#2a3f5f"
            },
            "type": "carpet"
           }
          ],
          "choropleth": [
           {
            "colorbar": {
             "outlinewidth": 0,
             "ticks": ""
            },
            "type": "choropleth"
           }
          ],
          "contour": [
           {
            "colorbar": {
             "outlinewidth": 0,
             "ticks": ""
            },
            "colorscale": [
             [
              0,
              "#0d0887"
             ],
             [
              0.1111111111111111,
              "#46039f"
             ],
             [
              0.2222222222222222,
              "#7201a8"
             ],
             [
              0.3333333333333333,
              "#9c179e"
             ],
             [
              0.4444444444444444,
              "#bd3786"
             ],
             [
              0.5555555555555556,
              "#d8576b"
             ],
             [
              0.6666666666666666,
              "#ed7953"
             ],
             [
              0.7777777777777778,
              "#fb9f3a"
             ],
             [
              0.8888888888888888,
              "#fdca26"
             ],
             [
              1,
              "#f0f921"
             ]
            ],
            "type": "contour"
           }
          ],
          "contourcarpet": [
           {
            "colorbar": {
             "outlinewidth": 0,
             "ticks": ""
            },
            "type": "contourcarpet"
           }
          ],
          "heatmap": [
           {
            "colorbar": {
             "outlinewidth": 0,
             "ticks": ""
            },
            "colorscale": [
             [
              0,
              "#0d0887"
             ],
             [
              0.1111111111111111,
              "#46039f"
             ],
             [
              0.2222222222222222,
              "#7201a8"
             ],
             [
              0.3333333333333333,
              "#9c179e"
             ],
             [
              0.4444444444444444,
              "#bd3786"
             ],
             [
              0.5555555555555556,
              "#d8576b"
             ],
             [
              0.6666666666666666,
              "#ed7953"
             ],
             [
              0.7777777777777778,
              "#fb9f3a"
             ],
             [
              0.8888888888888888,
              "#fdca26"
             ],
             [
              1,
              "#f0f921"
             ]
            ],
            "type": "heatmap"
           }
          ],
          "heatmapgl": [
           {
            "colorbar": {
             "outlinewidth": 0,
             "ticks": ""
            },
            "colorscale": [
             [
              0,
              "#0d0887"
             ],
             [
              0.1111111111111111,
              "#46039f"
             ],
             [
              0.2222222222222222,
              "#7201a8"
             ],
             [
              0.3333333333333333,
              "#9c179e"
             ],
             [
              0.4444444444444444,
              "#bd3786"
             ],
             [
              0.5555555555555556,
              "#d8576b"
             ],
             [
              0.6666666666666666,
              "#ed7953"
             ],
             [
              0.7777777777777778,
              "#fb9f3a"
             ],
             [
              0.8888888888888888,
              "#fdca26"
             ],
             [
              1,
              "#f0f921"
             ]
            ],
            "type": "heatmapgl"
           }
          ],
          "histogram": [
           {
            "marker": {
             "colorbar": {
              "outlinewidth": 0,
              "ticks": ""
             }
            },
            "type": "histogram"
           }
          ],
          "histogram2d": [
           {
            "colorbar": {
             "outlinewidth": 0,
             "ticks": ""
            },
            "colorscale": [
             [
              0,
              "#0d0887"
             ],
             [
              0.1111111111111111,
              "#46039f"
             ],
             [
              0.2222222222222222,
              "#7201a8"
             ],
             [
              0.3333333333333333,
              "#9c179e"
             ],
             [
              0.4444444444444444,
              "#bd3786"
             ],
             [
              0.5555555555555556,
              "#d8576b"
             ],
             [
              0.6666666666666666,
              "#ed7953"
             ],
             [
              0.7777777777777778,
              "#fb9f3a"
             ],
             [
              0.8888888888888888,
              "#fdca26"
             ],
             [
              1,
              "#f0f921"
             ]
            ],
            "type": "histogram2d"
           }
          ],
          "histogram2dcontour": [
           {
            "colorbar": {
             "outlinewidth": 0,
             "ticks": ""
            },
            "colorscale": [
             [
              0,
              "#0d0887"
             ],
             [
              0.1111111111111111,
              "#46039f"
             ],
             [
              0.2222222222222222,
              "#7201a8"
             ],
             [
              0.3333333333333333,
              "#9c179e"
             ],
             [
              0.4444444444444444,
              "#bd3786"
             ],
             [
              0.5555555555555556,
              "#d8576b"
             ],
             [
              0.6666666666666666,
              "#ed7953"
             ],
             [
              0.7777777777777778,
              "#fb9f3a"
             ],
             [
              0.8888888888888888,
              "#fdca26"
             ],
             [
              1,
              "#f0f921"
             ]
            ],
            "type": "histogram2dcontour"
           }
          ],
          "mesh3d": [
           {
            "colorbar": {
             "outlinewidth": 0,
             "ticks": ""
            },
            "type": "mesh3d"
           }
          ],
          "parcoords": [
           {
            "line": {
             "colorbar": {
              "outlinewidth": 0,
              "ticks": ""
             }
            },
            "type": "parcoords"
           }
          ],
          "pie": [
           {
            "automargin": true,
            "type": "pie"
           }
          ],
          "scatter": [
           {
            "marker": {
             "colorbar": {
              "outlinewidth": 0,
              "ticks": ""
             }
            },
            "type": "scatter"
           }
          ],
          "scatter3d": [
           {
            "line": {
             "colorbar": {
              "outlinewidth": 0,
              "ticks": ""
             }
            },
            "marker": {
             "colorbar": {
              "outlinewidth": 0,
              "ticks": ""
             }
            },
            "type": "scatter3d"
           }
          ],
          "scattercarpet": [
           {
            "marker": {
             "colorbar": {
              "outlinewidth": 0,
              "ticks": ""
             }
            },
            "type": "scattercarpet"
           }
          ],
          "scattergeo": [
           {
            "marker": {
             "colorbar": {
              "outlinewidth": 0,
              "ticks": ""
             }
            },
            "type": "scattergeo"
           }
          ],
          "scattergl": [
           {
            "marker": {
             "colorbar": {
              "outlinewidth": 0,
              "ticks": ""
             }
            },
            "type": "scattergl"
           }
          ],
          "scattermapbox": [
           {
            "marker": {
             "colorbar": {
              "outlinewidth": 0,
              "ticks": ""
             }
            },
            "type": "scattermapbox"
           }
          ],
          "scatterpolar": [
           {
            "marker": {
             "colorbar": {
              "outlinewidth": 0,
              "ticks": ""
             }
            },
            "type": "scatterpolar"
           }
          ],
          "scatterpolargl": [
           {
            "marker": {
             "colorbar": {
              "outlinewidth": 0,
              "ticks": ""
             }
            },
            "type": "scatterpolargl"
           }
          ],
          "scatterternary": [
           {
            "marker": {
             "colorbar": {
              "outlinewidth": 0,
              "ticks": ""
             }
            },
            "type": "scatterternary"
           }
          ],
          "surface": [
           {
            "colorbar": {
             "outlinewidth": 0,
             "ticks": ""
            },
            "colorscale": [
             [
              0,
              "#0d0887"
             ],
             [
              0.1111111111111111,
              "#46039f"
             ],
             [
              0.2222222222222222,
              "#7201a8"
             ],
             [
              0.3333333333333333,
              "#9c179e"
             ],
             [
              0.4444444444444444,
              "#bd3786"
             ],
             [
              0.5555555555555556,
              "#d8576b"
             ],
             [
              0.6666666666666666,
              "#ed7953"
             ],
             [
              0.7777777777777778,
              "#fb9f3a"
             ],
             [
              0.8888888888888888,
              "#fdca26"
             ],
             [
              1,
              "#f0f921"
             ]
            ],
            "type": "surface"
           }
          ],
          "table": [
           {
            "cells": {
             "fill": {
              "color": "#EBF0F8"
             },
             "line": {
              "color": "white"
             }
            },
            "header": {
             "fill": {
              "color": "#C8D4E3"
             },
             "line": {
              "color": "white"
             }
            },
            "type": "table"
           }
          ]
         },
         "layout": {
          "annotationdefaults": {
           "arrowcolor": "#2a3f5f",
           "arrowhead": 0,
           "arrowwidth": 1
          },
          "autotypenumbers": "strict",
          "coloraxis": {
           "colorbar": {
            "outlinewidth": 0,
            "ticks": ""
           }
          },
          "colorscale": {
           "diverging": [
            [
             0,
             "#8e0152"
            ],
            [
             0.1,
             "#c51b7d"
            ],
            [
             0.2,
             "#de77ae"
            ],
            [
             0.3,
             "#f1b6da"
            ],
            [
             0.4,
             "#fde0ef"
            ],
            [
             0.5,
             "#f7f7f7"
            ],
            [
             0.6,
             "#e6f5d0"
            ],
            [
             0.7,
             "#b8e186"
            ],
            [
             0.8,
             "#7fbc41"
            ],
            [
             0.9,
             "#4d9221"
            ],
            [
             1,
             "#276419"
            ]
           ],
           "sequential": [
            [
             0,
             "#0d0887"
            ],
            [
             0.1111111111111111,
             "#46039f"
            ],
            [
             0.2222222222222222,
             "#7201a8"
            ],
            [
             0.3333333333333333,
             "#9c179e"
            ],
            [
             0.4444444444444444,
             "#bd3786"
            ],
            [
             0.5555555555555556,
             "#d8576b"
            ],
            [
             0.6666666666666666,
             "#ed7953"
            ],
            [
             0.7777777777777778,
             "#fb9f3a"
            ],
            [
             0.8888888888888888,
             "#fdca26"
            ],
            [
             1,
             "#f0f921"
            ]
           ],
           "sequentialminus": [
            [
             0,
             "#0d0887"
            ],
            [
             0.1111111111111111,
             "#46039f"
            ],
            [
             0.2222222222222222,
             "#7201a8"
            ],
            [
             0.3333333333333333,
             "#9c179e"
            ],
            [
             0.4444444444444444,
             "#bd3786"
            ],
            [
             0.5555555555555556,
             "#d8576b"
            ],
            [
             0.6666666666666666,
             "#ed7953"
            ],
            [
             0.7777777777777778,
             "#fb9f3a"
            ],
            [
             0.8888888888888888,
             "#fdca26"
            ],
            [
             1,
             "#f0f921"
            ]
           ]
          },
          "colorway": [
           "#636efa",
           "#EF553B",
           "#00cc96",
           "#ab63fa",
           "#FFA15A",
           "#19d3f3",
           "#FF6692",
           "#B6E880",
           "#FF97FF",
           "#FECB52"
          ],
          "font": {
           "color": "#2a3f5f"
          },
          "geo": {
           "bgcolor": "white",
           "lakecolor": "white",
           "landcolor": "#E5ECF6",
           "showlakes": true,
           "showland": true,
           "subunitcolor": "white"
          },
          "hoverlabel": {
           "align": "left"
          },
          "hovermode": "closest",
          "mapbox": {
           "style": "light"
          },
          "paper_bgcolor": "white",
          "plot_bgcolor": "#E5ECF6",
          "polar": {
           "angularaxis": {
            "gridcolor": "white",
            "linecolor": "white",
            "ticks": ""
           },
           "bgcolor": "#E5ECF6",
           "radialaxis": {
            "gridcolor": "white",
            "linecolor": "white",
            "ticks": ""
           }
          },
          "scene": {
           "xaxis": {
            "backgroundcolor": "#E5ECF6",
            "gridcolor": "white",
            "gridwidth": 2,
            "linecolor": "white",
            "showbackground": true,
            "ticks": "",
            "zerolinecolor": "white"
           },
           "yaxis": {
            "backgroundcolor": "#E5ECF6",
            "gridcolor": "white",
            "gridwidth": 2,
            "linecolor": "white",
            "showbackground": true,
            "ticks": "",
            "zerolinecolor": "white"
           },
           "zaxis": {
            "backgroundcolor": "#E5ECF6",
            "gridcolor": "white",
            "gridwidth": 2,
            "linecolor": "white",
            "showbackground": true,
            "ticks": "",
            "zerolinecolor": "white"
           }
          },
          "shapedefaults": {
           "line": {
            "color": "#2a3f5f"
           }
          },
          "ternary": {
           "aaxis": {
            "gridcolor": "white",
            "linecolor": "white",
            "ticks": ""
           },
           "baxis": {
            "gridcolor": "white",
            "linecolor": "white",
            "ticks": ""
           },
           "bgcolor": "#E5ECF6",
           "caxis": {
            "gridcolor": "white",
            "linecolor": "white",
            "ticks": ""
           }
          },
          "title": {
           "x": 0.05
          },
          "xaxis": {
           "automargin": true,
           "gridcolor": "white",
           "linecolor": "white",
           "ticks": "",
           "title": {
            "standoff": 15
           },
           "zerolinecolor": "white",
           "zerolinewidth": 2
          },
          "yaxis": {
           "automargin": true,
           "gridcolor": "white",
           "linecolor": "white",
           "ticks": "",
           "title": {
            "standoff": 15
           },
           "zerolinecolor": "white",
           "zerolinewidth": 2
          }
         }
        },
        "xaxis": {
         "autorange": true,
         "range": [
          0.022653585158642277,
          0.7210433523135202
         ],
         "title": {
          "text": "KMeans (KM-trimmed): percent recycling per household by label"
         },
         "type": "linear",
         "zeroline": false
        },
        "yaxis": {
         "autorange": true,
         "range": [
          -0.5,
          5.5
         ],
         "type": "category"
        }
       }
      },
      "image/png": "[encoded data removed]",
      "text/html": [
       "<div>                            <div id=\"92074cae-c098-49de-993a-a617844ae3b8\" class=\"plotly-graph-div\" style=\"height:600px; width:100%;\"></div>            <script type=\"text/javascript\">                require([\"plotly\"], function(Plotly) {                    window.PLOTLYENV=window.PLOTLYENV || {};                                    if (document.getElementById(\"92074cae-c098-49de-993a-a617844ae3b8\")) {                    Plotly.newPlot(                        \"92074cae-c098-49de-993a-a617844ae3b8\",                        [{\"marker\": {\"color\": \"#ffaa00\"}, \"name\": \"km label 4\", \"orientation\": \"h\", \"type\": \"box\", \"x\": [0.2996639895099165, 0.3388474360254709, 0.2414544383924628, 0.26699507389162563, 0.5111538052265451, 0.26966966966966965, 0.3985439173320808, 0.2851798784029741, 0.19951786211825706, 0.3145121247529797, 0.4249750505386525, 0.3595961588592121, 0.3495532856558917, 0.2972749793559042, 0.3625360662494848, 0.3304998492721787, 0.28239693004034244, 0.3232672639503219, 0.39925979478540014, 0.230849478390462, 0.24438679390963286, 0.312268927237077, 0.2100056529112493]}, {\"marker\": {\"color\": \"#AA22AA\"}, \"name\": \"km label 0\", \"orientation\": \"h\", \"type\": \"box\", \"x\": [0.2697325231675852, 0.3104374563282033, 0.23163103822693695, 0.3542803112953669, 0.3810518975482248, 0.2583130346116807, 0.3023595834176845, 0.3040705967511869, 0.22376009227220295, 0.24440052700922266, 0.30241325819309994, 0.28419595745564835, 0.22014862956893214, 0.22839149254214444, 0.3089887640449438, 0.2631272789183207, 0.29462224136001924, 0.2619952859799358, 0.13574007220216608, 0.4506172839506172, 0.3052858683926645, 0.30771173422401304, 0.3160089627500977, 0.3933438195350265, 0.15807802357684242, 0.385239852398524, 0.290139746208036, 0.3412133891213389, 0.1846995647681373, 0.3416547788873039, 0.34416105724695856, 0.29390551749008303, 0.263075173957992, 0.20118643712825668, 0.2797202797202797, 0.3720058065665608, 0.19587882682601648, 0.2586980920314253, 0.316375462599529, 0.24708774179758464, 0.1602570095481749, 0.30710319739613257, 0.35494554550259644, 0.21584137026676334, 0.4249896288761786, 0.2857142857142857, 0.2247949493067839, 0.34945462609529065, 0.09551815047657676, 0.2569799171907915, 0.33877551020408164, 0.3676549157816791, 0.2915905146097034, 0.20637721572301007, 0.3473104616687844, 0.21457858769931668, 0.2370429252782194, 0.26962739619322273, 0.3135883469505653, 0.25082946250829463, 0.24163892222771, 0.42857142857142855, 0.3655151141270821, 0.2749711063322754, 0.21727702193165604, 0.2755881935194107, 0.2236644452374827, 0.2321836023496981, 0.1789034825401092, 0.3721423802663481, 0.14672628691162812, 0.2887537993920973, null, 0.3685193150722542, 0.2553616484440706, 0.2927813100152125]}, {\"marker\": {\"color\": \"#FF4136\"}, \"name\": \"km label 2\", \"orientation\": \"h\", \"type\": \"box\", \"x\": [0.21564798630835336, 0.5093768242848803, 0.2806419750018637, 0.3334672405547585, 0.3862401254972268, 0.23653542242391976, 0.2238331035410432, 0.2970004917226685, 0.18481138119009347, 0.1679056856614128, 0.2674465510286406, 0.2813397129186603, 0.6344222330570454, 0.4364515320382419, 0.3398419172050384, 0.20452212957023733, 0.3387952235621796, 0.31561622191011235, 0.1745196045048923, 0.14408362409694372, 0.2403881632351856, 0.25173398612811104, 0.31351334350280713, 0.2787324566250414, 0.25182746975590986, 0.2279223367306269, 0.332763642490913, 0.3119270118251472, 0.19637526652452025, 0.24856156501726126, 0.23847019122609675, 0.19501742488461904, 0.2770155946635209, 0.16806851849979265, 0.16030534351145034, 0.3239451114922813, 0.24607876609161924, 0.2269993898981268, 0.2012035040552854, 0.10415970344261798, 0.30852145617246285, 0.24913516616221576, 0.3912839894310847, 0.30096920341801914, 0.2956005138086063, 0.2711387828881301, 0.1141990845713716, 0.6861238639557763, 0.16577329471241475, 0.3404153862456289, 0.14806238804665994, 0.23666512623437275, 0.2157337096521291, 0.3619824788219849, 0.18873085339168488, null, null, 0.3565902717338749, 0.211550339715874, 0.16992785123127127, 0.3754226419493995, 0.16186580174634846, 0.4168434545634484, 0.1819563259792886, 0.2951513366058209, 0.05757307351638617, 0.16357267950963222, 0.25374494031905753, 0.3342208753513554, 0.39136381398983977, 0.23703703703703705, 0.3188747510061385, 0.05973261643537019, 0.21409921671018275, 0.3348839569659652, 0.3378628950395885, 0.2690157882662106, 0.17439146382127374, 0.1539275069704836, 0.1761098188902805, 0.30711889675736115, 0.3713671681269631, 0.2801258715369902, 0.1916503050787808, 0.32190091907644025, 0.203267210397331, 0.3240529290769804, 0.20664802065404475, 0.2735553583546484, 0.18965067401072624, 0.16303210750784586, 0.3414609106308711, 0.3129662621088965, 0.31364049664513693, 0.3597388777473089, 0.3026734916749799, 0.30266264339645543, 0.1997075073123172, 0.1814133809717912, 0.2098051885889336, 0.3640192539109505, 0.2665212278219965, 0.270033089710613, 0.26347014724124906, 0.36822955794866735, null, 0.2638791885893436, 0.3110132158590308, 0.2883034869538455, 0.2667857278565186, 0.2895544378149744, 0.21340671738043784, 0.1830964841178332, 0.27855903452205216, 0.3717594178439842, 0.34508842221608177, 0.26845583901658665, 0.27735309412376496, 0.3928842914847, 0.3296084975869379, 0.22496920640506776, 0.2564865171085429, 0.11599552564609936]}, {\"marker\": {\"color\": \"#1199ee\"}, \"name\": \"km label 5\", \"orientation\": \"h\", \"type\": \"box\", \"x\": [0.24991150363421355, 0.2500671232804595, 0.29107540752902544, 0.2887368200544655, 0.15050655111737818, 0.2348786885245901, 0.2233981094977959, 0.3591376400184134, 0.2949371218988925, 0.2649777797513529, 0.2224014125014558, 0.1865583491712942, 0.2404929037182508, 0.3195199578341341, 0.2936550300701043, 0.19480846986037675, 0.2569210208107936, 0.2343185033799717, 0.25277474570868314, 0.1251348042715842, 0.25274644460404416, 0.255141487552188, 0.3668104778719841, 0.4604424596829458, 0.3825761214100471, 0.16651276327517125, 0.11182001440975063, 0.18137837379052796, 0.16330282129122484, 0.23973836560542236, 0.1882999870456485, 0.2780745530798247, 0.2443170452880524, 0.18932592211942167, 0.2479274769212026, 0.22420007355645455, 0.2394829614494571, 0.13417666263611214]}, {\"marker\": {\"color\": \"#3D9970\"}, \"name\": \"km label 3\", \"orientation\": \"h\", \"type\": \"box\", \"x\": [0.2265608106020821, 0.3252236807006219, 0.2521895769923598, 0.10088925685502054, 0.21040776080605286, 0.18886147954423652, 0.20376359932977936, 0.10381866223225887, 0.1443025857414446, 0.27096620359654555]}, {\"marker\": {\"color\": \"#FF851B\"}, \"name\": \"km label 1\", \"orientation\": \"h\", \"type\": \"box\", \"x\": [0.16454746117257274]}],                        {\"boxgap\": 0.1, \"boxmode\": \"overlay\", \"height\": 600, \"template\": {\"data\": {\"bar\": [{\"error_x\": {\"color\": \"#2a3f5f\"}, \"error_y\": {\"color\": \"#2a3f5f\"}, \"marker\": {\"line\": {\"color\": \"#E5ECF6\", \"width\": 0.5}}, \"type\": \"bar\"}], \"barpolar\": [{\"marker\": {\"line\": {\"color\": \"#E5ECF6\", \"width\": 0.5}}, \"type\": \"barpolar\"}], \"carpet\": [{\"aaxis\": {\"endlinecolor\": \"#2a3f5f\", \"gridcolor\": \"white\", \"linecolor\": \"white\", \"minorgridcolor\": \"white\", \"startlinecolor\": \"#2a3f5f\"}, \"baxis\": {\"endlinecolor\": \"#2a3f5f\", \"gridcolor\": \"white\", \"linecolor\": \"white\", \"minorgridcolor\": \"white\", \"startlinecolor\": \"#2a3f5f\"}, \"type\": \"carpet\"}], \"choropleth\": [{\"colorbar\": {\"outlinewidth\": 0, \"ticks\": \"\"}, \"type\": \"choropleth\"}], \"contour\": [{\"colorbar\": {\"outlinewidth\": 0, \"ticks\": \"\"}, \"colorscale\": [[0.0, \"#0d0887\"], [0.1111111111111111, \"#46039f\"], [0.2222222222222222, \"#7201a8\"], [0.3333333333333333, \"#9c179e\"], [0.4444444444444444, \"#bd3786\"], [0.5555555555555556, \"#d8576b\"], [0.6666666666666666, \"#ed7953\"], [0.7777777777777778, \"#fb9f3a\"], [0.8888888888888888, \"#fdca26\"], [1.0, \"#f0f921\"]], \"type\": \"contour\"}], \"contourcarpet\": [{\"colorbar\": {\"outlinewidth\": 0, \"ticks\": \"\"}, \"type\": \"contourcarpet\"}], \"heatmap\": [{\"colorbar\": {\"outlinewidth\": 0, \"ticks\": \"\"}, \"colorscale\": [[0.0, \"#0d0887\"], [0.1111111111111111, \"#46039f\"], [0.2222222222222222, \"#7201a8\"], [0.3333333333333333, \"#9c179e\"], [0.4444444444444444, \"#bd3786\"], [0.5555555555555556, \"#d8576b\"], [0.6666666666666666, \"#ed7953\"], [0.7777777777777778, \"#fb9f3a\"], [0.8888888888888888, \"#fdca26\"], [1.0, \"#f0f921\"]], \"type\": \"heatmap\"}], \"heatmapgl\": [{\"colorbar\": {\"outlinewidth\": 0, \"ticks\": \"\"}, \"colorscale\": [[0.0, \"#0d0887\"], [0.1111111111111111, \"#46039f\"], [0.2222222222222222, \"#7201a8\"], [0.3333333333333333, \"#9c179e\"], [0.4444444444444444, \"#bd3786\"], [0.5555555555555556, \"#d8576b\"], [0.6666666666666666, \"#ed7953\"], [0.7777777777777778, \"#fb9f3a\"], [0.8888888888888888, \"#fdca26\"], [1.0, \"#f0f921\"]], \"type\": \"heatmapgl\"}], \"histogram\": [{\"marker\": {\"colorbar\": {\"outlinewidth\": 0, \"ticks\": \"\"}}, \"type\": \"histogram\"}], \"histogram2d\": [{\"colorbar\": {\"outlinewidth\": 0, \"ticks\": \"\"}, \"colorscale\": [[0.0, \"#0d0887\"], [0.1111111111111111, \"#46039f\"], [0.2222222222222222, \"#7201a8\"], [0.3333333333333333, \"#9c179e\"], [0.4444444444444444, \"#bd3786\"], [0.5555555555555556, \"#d8576b\"], [0.6666666666666666, \"#ed7953\"], [0.7777777777777778, \"#fb9f3a\"], [0.8888888888888888, \"#fdca26\"], [1.0, \"#f0f921\"]], \"type\": \"histogram2d\"}], \"histogram2dcontour\": [{\"colorbar\": {\"outlinewidth\": 0, \"ticks\": \"\"}, \"colorscale\": [[0.0, \"#0d0887\"], [0.1111111111111111, \"#46039f\"], [0.2222222222222222, \"#7201a8\"], [0.3333333333333333, \"#9c179e\"], [0.4444444444444444, \"#bd3786\"], [0.5555555555555556, \"#d8576b\"], [0.6666666666666666, \"#ed7953\"], [0.7777777777777778, \"#fb9f3a\"], [0.8888888888888888, \"#fdca26\"], [1.0, \"#f0f921\"]], \"type\": \"histogram2dcontour\"}], \"mesh3d\": [{\"colorbar\": {\"outlinewidth\": 0, \"ticks\": \"\"}, \"type\": \"mesh3d\"}], \"parcoords\": [{\"line\": {\"colorbar\": {\"outlinewidth\": 0, \"ticks\": \"\"}}, \"type\": \"parcoords\"}], \"pie\": [{\"automargin\": true, \"type\": \"pie\"}], \"scatter\": [{\"marker\": {\"colorbar\": {\"outlinewidth\": 0, \"ticks\": \"\"}}, \"type\": \"scatter\"}], \"scatter3d\": [{\"line\": {\"colorbar\": {\"outlinewidth\": 0, \"ticks\": \"\"}}, \"marker\": {\"colorbar\": {\"outlinewidth\": 0, \"ticks\": \"\"}}, \"type\": \"scatter3d\"}], \"scattercarpet\": [{\"marker\": {\"colorbar\": {\"outlinewidth\": 0, \"ticks\": \"\"}}, \"type\": \"scattercarpet\"}], \"scattergeo\": [{\"marker\": {\"colorbar\": {\"outlinewidth\": 0, \"ticks\": \"\"}}, \"type\": \"scattergeo\"}], \"scattergl\": [{\"marker\": {\"colorbar\": {\"outlinewidth\": 0, \"ticks\": \"\"}}, \"type\": \"scattergl\"}], \"scattermapbox\": [{\"marker\": {\"colorbar\": {\"outlinewidth\": 0, \"ticks\": \"\"}}, \"type\": \"scattermapbox\"}], \"scatterpolar\": [{\"marker\": {\"colorbar\": {\"outlinewidth\": 0, \"ticks\": \"\"}}, \"type\": \"scatterpolar\"}], \"scatterpolargl\": [{\"marker\": {\"colorbar\": {\"outlinewidth\": 0, \"ticks\": \"\"}}, \"type\": \"scatterpolargl\"}], \"scatterternary\": [{\"marker\": {\"colorbar\": {\"outlinewidth\": 0, \"ticks\": \"\"}}, \"type\": \"scatterternary\"}], \"surface\": [{\"colorbar\": {\"outlinewidth\": 0, \"ticks\": \"\"}, \"colorscale\": [[0.0, \"#0d0887\"], [0.1111111111111111, \"#46039f\"], [0.2222222222222222, \"#7201a8\"], [0.3333333333333333, \"#9c179e\"], [0.4444444444444444, \"#bd3786\"], [0.5555555555555556, \"#d8576b\"], [0.6666666666666666, \"#ed7953\"], [0.7777777777777778, \"#fb9f3a\"], [0.8888888888888888, \"#fdca26\"], [1.0, \"#f0f921\"]], \"type\": \"surface\"}], \"table\": [{\"cells\": {\"fill\": {\"color\": \"#EBF0F8\"}, \"line\": {\"color\": \"white\"}}, \"header\": {\"fill\": {\"color\": \"#C8D4E3\"}, \"line\": {\"color\": \"white\"}}, \"type\": \"table\"}]}, \"layout\": {\"annotationdefaults\": {\"arrowcolor\": \"#2a3f5f\", \"arrowhead\": 0, \"arrowwidth\": 1}, \"autotypenumbers\": \"strict\", \"coloraxis\": {\"colorbar\": {\"outlinewidth\": 0, \"ticks\": \"\"}}, \"colorscale\": {\"diverging\": [[0, \"#8e0152\"], [0.1, \"#c51b7d\"], [0.2, \"#de77ae\"], [0.3, \"#f1b6da\"], [0.4, \"#fde0ef\"], [0.5, \"#f7f7f7\"], [0.6, \"#e6f5d0\"], [0.7, \"#b8e186\"], [0.8, \"#7fbc41\"], [0.9, \"#4d9221\"], [1, \"#276419\"]], \"sequential\": [[0.0, \"#0d0887\"], [0.1111111111111111, \"#46039f\"], [0.2222222222222222, \"#7201a8\"], [0.3333333333333333, \"#9c179e\"], [0.4444444444444444, \"#bd3786\"], [0.5555555555555556, \"#d8576b\"], [0.6666666666666666, \"#ed7953\"], [0.7777777777777778, \"#fb9f3a\"], [0.8888888888888888, \"#fdca26\"], [1.0, \"#f0f921\"]], \"sequentialminus\": [[0.0, \"#0d0887\"], [0.1111111111111111, \"#46039f\"], [0.2222222222222222, \"#7201a8\"], [0.3333333333333333, \"#9c179e\"], [0.4444444444444444, \"#bd3786\"], [0.5555555555555556, \"#d8576b\"], [0.6666666666666666, \"#ed7953\"], [0.7777777777777778, \"#fb9f3a\"], [0.8888888888888888, \"#fdca26\"], [1.0, \"#f0f921\"]]}, \"colorway\": [\"#636efa\", \"#EF553B\", \"#00cc96\", \"#ab63fa\", \"#FFA15A\", \"#19d3f3\", \"#FF6692\", \"#B6E880\", \"#FF97FF\", \"#FECB52\"], \"font\": {\"color\": \"#2a3f5f\"}, \"geo\": {\"bgcolor\": \"white\", \"lakecolor\": \"white\", \"landcolor\": \"#E5ECF6\", \"showlakes\": true, \"showland\": true, \"subunitcolor\": \"white\"}, \"hoverlabel\": {\"align\": \"left\"}, \"hovermode\": \"closest\", \"mapbox\": {\"style\": \"light\"}, \"paper_bgcolor\": \"white\", \"plot_bgcolor\": \"#E5ECF6\", \"polar\": {\"angularaxis\": {\"gridcolor\": \"white\", \"linecolor\": \"white\", \"ticks\": \"\"}, \"bgcolor\": \"#E5ECF6\", \"radialaxis\": {\"gridcolor\": \"white\", \"linecolor\": \"white\", \"ticks\": \"\"}}, \"scene\": {\"xaxis\": {\"backgroundcolor\": \"#E5ECF6\", \"gridcolor\": \"white\", \"gridwidth\": 2, \"linecolor\": \"white\", \"showbackground\": true, \"ticks\": \"\", \"zerolinecolor\": \"white\"}, \"yaxis\": {\"backgroundcolor\": \"#E5ECF6\", \"gridcolor\": \"white\", \"gridwidth\": 2, \"linecolor\": \"white\", \"showbackground\": true, \"ticks\": \"\", \"zerolinecolor\": \"white\"}, \"zaxis\": {\"backgroundcolor\": \"#E5ECF6\", \"gridcolor\": \"white\", \"gridwidth\": 2, \"linecolor\": \"white\", \"showbackground\": true, \"ticks\": \"\", \"zerolinecolor\": \"white\"}}, \"shapedefaults\": {\"line\": {\"color\": \"#2a3f5f\"}}, \"ternary\": {\"aaxis\": {\"gridcolor\": \"white\", \"linecolor\": \"white\", \"ticks\": \"\"}, \"baxis\": {\"gridcolor\": \"white\", \"linecolor\": \"white\", \"ticks\": \"\"}, \"bgcolor\": \"#E5ECF6\", \"caxis\": {\"gridcolor\": \"white\", \"linecolor\": \"white\", \"ticks\": \"\"}}, \"title\": {\"x\": 0.05}, \"xaxis\": {\"automargin\": true, \"gridcolor\": \"white\", \"linecolor\": \"white\", \"ticks\": \"\", \"title\": {\"standoff\": 15}, \"zerolinecolor\": \"white\", \"zerolinewidth\": 2}, \"yaxis\": {\"automargin\": true, \"gridcolor\": \"white\", \"linecolor\": \"white\", \"ticks\": \"\", \"title\": {\"standoff\": 15}, \"zerolinecolor\": \"white\", \"zerolinewidth\": 2}}}, \"xaxis\": {\"title\": {\"text\": \"KMeans (KM-trimmed): percent recycling per household by label\"}, \"zeroline\": false}},                        {\"responsive\": true}                    ).then(function(){\n",
       "                            \n",
       "var gd = document.getElementById('92074cae-c098-49de-993a-a617844ae3b8');\n",
       "var x = new MutationObserver(function (mutations, observer) {{\n",
       "        var display = window.getComputedStyle(gd).display;\n",
       "        if (!display || display === 'none') {{\n",
       "            console.log([gd, 'removed!']);\n",
       "            Plotly.purge(gd);\n",
       "            observer.disconnect();\n",
       "        }}\n",
       "}});\n",
       "\n",
       "// Listen for the removal of the full notebook cells\n",
       "var notebookContainer = gd.closest('#notebook-container');\n",
       "if (notebookContainer) {{\n",
       "    x.observe(notebookContainer, {childList: true});\n",
       "}}\n",
       "\n",
       "// Listen for the clearing of the current output cell\n",
       "var outputEl = gd.closest('.output');\n",
       "if (outputEl) {{\n",
       "    x.observe(outputEl, {childList: true});\n",
       "}}\n",
       "\n",
       "                        })                };                });            </script>        </div>"
      ]
     },
     "metadata": {},
     "output_type": "display_data"
    }
   ],
   "source": [
    "layout = Layout(\n",
    "    boxgap=0.1,\n",
    "    height = 600\n",
    ")\n",
    "fig = go.Figure(layout=layout)\n",
    "\n",
    "fig.add_trace(go.Box(\n",
    "    x=km_trimmed_label4['%recycle/hh'],\n",
    "    name='km label 4',\n",
    "    marker_color='#ffaa00'\n",
    "))\n",
    "fig.add_trace(go.Box(\n",
    "    x=km_trimmed_label0['%recycle/hh'],\n",
    "    name='km label 0',\n",
    "    marker_color='#AA22AA'\n",
    "))\n",
    "fig.add_trace(go.Box(\n",
    "    x=km_trimmed_label2['%recycle/hh'],\n",
    "    name='km label 2',\n",
    "    marker_color='#FF4136'\n",
    "))\n",
    "fig.add_trace(go.Box(\n",
    "    x=km_trimmed_label5['%recycle/hh'],\n",
    "    name='km label 5',\n",
    "    marker_color='#1199ee'\n",
    "))\n",
    "fig.add_trace(go.Box(\n",
    "    x=km_trimmed_label3['%recycle/hh'],\n",
    "    name='km label 3',\n",
    "    marker_color='#3D9970'\n",
    "))\n",
    "fig.add_trace(go.Box(\n",
    "    x=km_trimmed_label1['%recycle/hh'],\n",
    "    name='km label 1',\n",
    "    marker_color='#FF851B'\n",
    "))\n",
    "\n",
    "fig.update_layout(\n",
    "    xaxis=dict(title='KMeans (KM-trimmed): percent recycling per household by label', zeroline=False),\n",
    "    boxmode='overlay'\n",
    ")\n",
    "\n",
    "fig.update_traces(orientation='h') # horizontal box plots\n",
    "\n",
    "fig.show()"
   ]
  },
  {
   "cell_type": "code",
   "execution_count": 67,
   "metadata": {
    "jupyter": {
     "source_hidden": true
    }
   },
   "outputs": [
    {
     "data": {
      "application/vnd.plotly.v1+json": {
       "config": {
        "plotlyServerURL": "https://plot.ly"
       },
       "data": [
        {
         "marker": {
          "color": "#ffaa00"
         },
         "name": "km label 4",
         "orientation": "h",
         "type": "box",
         "x": [
          0.3387952235621796,
          0.3089887640449438,
          0.1141990845713716,
          0.39136381398983977
         ]
        },
        {
         "marker": {
          "color": "#3D9970"
         },
         "name": "km label 3",
         "orientation": "h",
         "type": "box",
         "x": [
          0.3542803112953669,
          0.3810518975482248,
          0.23653542242391976,
          0.3040705967511869,
          0.22376009227220295,
          0.24440052700922266,
          0.2996639895099165,
          0.3388474360254709,
          0.2414544383924628,
          0.22839149254214444,
          0.26699507389162563,
          0.5111538052265451,
          0.2619952859799358,
          0.13574007220216608,
          0.26966966966966965,
          0.4506172839506172,
          0.3985439173320808,
          0.23847019122609675,
          0.2770155946635209,
          0.3052858683926645,
          0.30771173422401304,
          0.3160089627500977,
          0.3933438195350265,
          0.6861238639557763,
          0.15807802357684242,
          0.385239852398524,
          0.2851798784029741,
          0.19951786211825706,
          0.290139746208036,
          0.3412133891213389,
          0.18873085339168488,
          0.1846995647681373,
          0.3416547788873039,
          0.34416105724695856,
          0.29390551749008303,
          0.263075173957992,
          0.20118643712825668,
          0.4249750505386525,
          0.2797202797202797,
          0.3720058065665608,
          0.2586980920314253,
          0.316375462599529,
          0.4168434545634484,
          0.1602570095481749,
          0.30710319739613257,
          0.16357267950963222,
          0.3595961588592121,
          0.2972749793559042,
          0.34945462609529065,
          0.3625360662494848,
          0.09551815047657676,
          0.2569799171907915,
          0.3676549157816791,
          0.2915905146097034,
          0.20637721572301007,
          0.21457858769931668,
          0.3414609106308711,
          0.3304998492721787,
          0.28239693004034244,
          0.3135883469505653,
          0.1814133809717912,
          0.25082946250829463,
          0.42857142857142855,
          0.3232672639503219,
          0.3655151141270821,
          0.2749711063322754,
          0.21727702193165604,
          0.2755881935194107,
          0.2665212278219965,
          0.2236644452374827,
          0.39925979478540014,
          0.230849478390462,
          0.3721423802663481,
          0.14672628691162812,
          0.24438679390963286,
          null,
          0.312268927237077,
          0.3685193150722542,
          0.2553616484440706,
          0.2100056529112493,
          0.2927813100152125
         ]
        },
        {
         "marker": {
          "color": "#AA22AA"
         },
         "name": "km label 0",
         "orientation": "h",
         "type": "box",
         "x": [
          0.21564798630835336,
          0.3334672405547585,
          0.15050655111737818,
          0.1679056856614128,
          0.2813397129186603,
          0.6344222330570454,
          0.4364515320382419,
          0.3398419172050384,
          0.31561622191011235,
          0.1745196045048923,
          0.14408362409694372,
          0.25173398612811104,
          0.2787324566250414,
          0.2631272789183207,
          0.25182746975590986,
          0.19637526652452025,
          0.19501742488461904,
          0.16806851849979265,
          0.16030534351145034,
          0.3239451114922813,
          0.2012035040552854,
          0.30852145617246285,
          0.3912839894310847,
          0.30096920341801914,
          0.2956005138086063,
          0.16577329471241475,
          0.3404153862456289,
          0.14806238804665994,
          null,
          0.3565902717338749,
          0.16992785123127127,
          0.16186580174634846,
          0.1819563259792886,
          0.05757307351638617,
          0.25374494031905753,
          0.3342208753513554,
          0.21584137026676334,
          0.23703703703703705,
          0.3188747510061385,
          0.3348839569659652,
          0.3378628950395885,
          0.1539275069704836,
          0.30711889675736115,
          0.2801258715369902,
          0.3240529290769804,
          0.20664802065404475,
          0.2735553583546484,
          0.3473104616687844,
          0.16303210750784586,
          0.2370429252782194,
          0.3129662621088965,
          0.3597388777473089,
          0.3026734916749799,
          0.3640192539109505,
          0.270033089710613,
          0.26347014724124906,
          null,
          0.3110132158590308,
          0.2883034869538455,
          0.2667857278565186,
          0.2887537993920973,
          0.3717594178439842,
          0.34508842221608177,
          0.27735309412376496,
          0.22496920640506776,
          0.2564865171085429,
          0.11599552564609936
         ]
        },
        {
         "marker": {
          "color": "#1199ee"
         },
         "name": "km label 5",
         "orientation": "h",
         "type": "box",
         "x": [
          0.3104374563282033,
          0.2500671232804595,
          0.23163103822693695,
          0.29107540752902544,
          0.2583130346116807,
          0.3023595834176845,
          0.30241325819309994,
          0.2233981094977959,
          0.3591376400184134,
          0.28419595745564835,
          0.3252236807006219,
          0.22014862956893214,
          0.29462224136001924,
          0.2404929037182508,
          0.3145121247529797,
          0.2569210208107936,
          0.2343185033799717,
          0.25277474570868314,
          0.24708774179758464,
          0.35494554550259644,
          0.4249896288761786,
          0.3495532856558917,
          0.4604424596829458,
          0.3825761214100471,
          0.17439146382127374,
          0.32190091907644025,
          0.10381866223225887,
          0.18137837379052796,
          0.23973836560542236,
          0.26962739619322273,
          0.2780745530798247,
          0.24163892222771,
          0.18932592211942167,
          0.2479274769212026,
          0.1830964841178332,
          0.2394829614494571,
          0.3928842914847,
          0.13417666263611214
         ]
        },
        {
         "marker": {
          "color": "#FF851B"
         },
         "name": "km label 1",
         "orientation": "h",
         "type": "box",
         "x": [
          0.2697325231675852,
          0.5093768242848803,
          0.24991150363421355,
          0.2806419750018637,
          0.3862401254972268,
          0.2887368200544655,
          0.2238331035410432,
          0.2970004917226685,
          0.18481138119009347,
          0.2674465510286406,
          0.2348786885245901,
          0.20452212957023733,
          0.2403881632351856,
          0.2949371218988925,
          0.31351334350280713,
          0.2279223367306269,
          0.2649777797513529,
          0.332763642490913,
          0.2224014125014558,
          0.24856156501726126,
          0.24607876609161924,
          0.2269993898981268,
          0.10415970344261798,
          0.24913516616221576,
          0.3195199578341341,
          0.2711387828881301,
          0.2936550300701043,
          0.23666512623437275,
          0.2157337096521291,
          0.3619824788219849,
          null,
          0.211550339715874,
          0.3754226419493995,
          0.19587882682601648,
          0.1251348042715842,
          0.25274644460404416,
          0.255141487552188,
          0.2951513366058209,
          0.2857142857142857,
          0.05973261643537019,
          0.2247949493067839,
          0.3668104778719841,
          0.21409921671018275,
          0.2690157882662106,
          0.16651276327517125,
          0.1761098188902805,
          0.3713671681269631,
          0.11182001440975063,
          0.33877551020408164,
          0.1916503050787808,
          0.203267210397331,
          0.18965067401072624,
          0.1882999870456485,
          0.31364049664513693,
          0.30266264339645543,
          0.2098051885889336,
          0.2443170452880524,
          0.36822955794866735,
          0.2321836023496981,
          0.1789034825401092,
          0.2638791885893436,
          0.2895544378149744,
          0.21340671738043784,
          0.22420007355645455,
          0.27855903452205216,
          0.26845583901658665,
          0.3296084975869379
         ]
        },
        {
         "marker": {
          "color": "#FF4136"
         },
         "name": "km label 2",
         "orientation": "h",
         "type": "box",
         "x": [
          0.16454746117257274,
          0.2265608106020821,
          0.3119270118251472,
          0.2521895769923598,
          0.1865583491712942,
          0.19480846986037675,
          0.10088925685502054,
          0.21040776080605286,
          0.18886147954423652,
          0.20376359932977936,
          0.16330282129122484,
          0.1997075073123172,
          0.1443025857414446,
          0.27096620359654555
         ]
        }
       ],
       "layout": {
        "autosize": true,
        "boxgap": 0.1,
        "boxmode": "overlay",
        "template": {
         "data": {
          "bar": [
           {
            "error_x": {
             "color": "#2a3f5f"
            },
            "error_y": {
             "color": "#2a3f5f"
            },
            "marker": {
             "line": {
              "color": "#E5ECF6",
              "width": 0.5
             }
            },
            "type": "bar"
           }
          ],
          "barpolar": [
           {
            "marker": {
             "line": {
              "color": "#E5ECF6",
              "width": 0.5
             }
            },
            "type": "barpolar"
           }
          ],
          "carpet": [
           {
            "aaxis": {
             "endlinecolor": "#2a3f5f",
             "gridcolor": "white",
             "linecolor": "white",
             "minorgridcolor": "white",
             "startlinecolor": "#2a3f5f"
            },
            "baxis": {
             "endlinecolor": "#2a3f5f",
             "gridcolor": "white",
             "linecolor": "white",
             "minorgridcolor": "white",
             "startlinecolor": "#2a3f5f"
            },
            "type": "carpet"
           }
          ],
          "choropleth": [
           {
            "colorbar": {
             "outlinewidth": 0,
             "ticks": ""
            },
            "type": "choropleth"
           }
          ],
          "contour": [
           {
            "colorbar": {
             "outlinewidth": 0,
             "ticks": ""
            },
            "colorscale": [
             [
              0,
              "#0d0887"
             ],
             [
              0.1111111111111111,
              "#46039f"
             ],
             [
              0.2222222222222222,
              "#7201a8"
             ],
             [
              0.3333333333333333,
              "#9c179e"
             ],
             [
              0.4444444444444444,
              "#bd3786"
             ],
             [
              0.5555555555555556,
              "#d8576b"
             ],
             [
              0.6666666666666666,
              "#ed7953"
             ],
             [
              0.7777777777777778,
              "#fb9f3a"
             ],
             [
              0.8888888888888888,
              "#fdca26"
             ],
             [
              1,
              "#f0f921"
             ]
            ],
            "type": "contour"
           }
          ],
          "contourcarpet": [
           {
            "colorbar": {
             "outlinewidth": 0,
             "ticks": ""
            },
            "type": "contourcarpet"
           }
          ],
          "heatmap": [
           {
            "colorbar": {
             "outlinewidth": 0,
             "ticks": ""
            },
            "colorscale": [
             [
              0,
              "#0d0887"
             ],
             [
              0.1111111111111111,
              "#46039f"
             ],
             [
              0.2222222222222222,
              "#7201a8"
             ],
             [
              0.3333333333333333,
              "#9c179e"
             ],
             [
              0.4444444444444444,
              "#bd3786"
             ],
             [
              0.5555555555555556,
              "#d8576b"
             ],
             [
              0.6666666666666666,
              "#ed7953"
             ],
             [
              0.7777777777777778,
              "#fb9f3a"
             ],
             [
              0.8888888888888888,
              "#fdca26"
             ],
             [
              1,
              "#f0f921"
             ]
            ],
            "type": "heatmap"
           }
          ],
          "heatmapgl": [
           {
            "colorbar": {
             "outlinewidth": 0,
             "ticks": ""
            },
            "colorscale": [
             [
              0,
              "#0d0887"
             ],
             [
              0.1111111111111111,
              "#46039f"
             ],
             [
              0.2222222222222222,
              "#7201a8"
             ],
             [
              0.3333333333333333,
              "#9c179e"
             ],
             [
              0.4444444444444444,
              "#bd3786"
             ],
             [
              0.5555555555555556,
              "#d8576b"
             ],
             [
              0.6666666666666666,
              "#ed7953"
             ],
             [
              0.7777777777777778,
              "#fb9f3a"
             ],
             [
              0.8888888888888888,
              "#fdca26"
             ],
             [
              1,
              "#f0f921"
             ]
            ],
            "type": "heatmapgl"
           }
          ],
          "histogram": [
           {
            "marker": {
             "colorbar": {
              "outlinewidth": 0,
              "ticks": ""
             }
            },
            "type": "histogram"
           }
          ],
          "histogram2d": [
           {
            "colorbar": {
             "outlinewidth": 0,
             "ticks": ""
            },
            "colorscale": [
             [
              0,
              "#0d0887"
             ],
             [
              0.1111111111111111,
              "#46039f"
             ],
             [
              0.2222222222222222,
              "#7201a8"
             ],
             [
              0.3333333333333333,
              "#9c179e"
             ],
             [
              0.4444444444444444,
              "#bd3786"
             ],
             [
              0.5555555555555556,
              "#d8576b"
             ],
             [
              0.6666666666666666,
              "#ed7953"
             ],
             [
              0.7777777777777778,
              "#fb9f3a"
             ],
             [
              0.8888888888888888,
              "#fdca26"
             ],
             [
              1,
              "#f0f921"
             ]
            ],
            "type": "histogram2d"
           }
          ],
          "histogram2dcontour": [
           {
            "colorbar": {
             "outlinewidth": 0,
             "ticks": ""
            },
            "colorscale": [
             [
              0,
              "#0d0887"
             ],
             [
              0.1111111111111111,
              "#46039f"
             ],
             [
              0.2222222222222222,
              "#7201a8"
             ],
             [
              0.3333333333333333,
              "#9c179e"
             ],
             [
              0.4444444444444444,
              "#bd3786"
             ],
             [
              0.5555555555555556,
              "#d8576b"
             ],
             [
              0.6666666666666666,
              "#ed7953"
             ],
             [
              0.7777777777777778,
              "#fb9f3a"
             ],
             [
              0.8888888888888888,
              "#fdca26"
             ],
             [
              1,
              "#f0f921"
             ]
            ],
            "type": "histogram2dcontour"
           }
          ],
          "mesh3d": [
           {
            "colorbar": {
             "outlinewidth": 0,
             "ticks": ""
            },
            "type": "mesh3d"
           }
          ],
          "parcoords": [
           {
            "line": {
             "colorbar": {
              "outlinewidth": 0,
              "ticks": ""
             }
            },
            "type": "parcoords"
           }
          ],
          "pie": [
           {
            "automargin": true,
            "type": "pie"
           }
          ],
          "scatter": [
           {
            "marker": {
             "colorbar": {
              "outlinewidth": 0,
              "ticks": ""
             }
            },
            "type": "scatter"
           }
          ],
          "scatter3d": [
           {
            "line": {
             "colorbar": {
              "outlinewidth": 0,
              "ticks": ""
             }
            },
            "marker": {
             "colorbar": {
              "outlinewidth": 0,
              "ticks": ""
             }
            },
            "type": "scatter3d"
           }
          ],
          "scattercarpet": [
           {
            "marker": {
             "colorbar": {
              "outlinewidth": 0,
              "ticks": ""
             }
            },
            "type": "scattercarpet"
           }
          ],
          "scattergeo": [
           {
            "marker": {
             "colorbar": {
              "outlinewidth": 0,
              "ticks": ""
             }
            },
            "type": "scattergeo"
           }
          ],
          "scattergl": [
           {
            "marker": {
             "colorbar": {
              "outlinewidth": 0,
              "ticks": ""
             }
            },
            "type": "scattergl"
           }
          ],
          "scattermapbox": [
           {
            "marker": {
             "colorbar": {
              "outlinewidth": 0,
              "ticks": ""
             }
            },
            "type": "scattermapbox"
           }
          ],
          "scatterpolar": [
           {
            "marker": {
             "colorbar": {
              "outlinewidth": 0,
              "ticks": ""
             }
            },
            "type": "scatterpolar"
           }
          ],
          "scatterpolargl": [
           {
            "marker": {
             "colorbar": {
              "outlinewidth": 0,
              "ticks": ""
             }
            },
            "type": "scatterpolargl"
           }
          ],
          "scatterternary": [
           {
            "marker": {
             "colorbar": {
              "outlinewidth": 0,
              "ticks": ""
             }
            },
            "type": "scatterternary"
           }
          ],
          "surface": [
           {
            "colorbar": {
             "outlinewidth": 0,
             "ticks": ""
            },
            "colorscale": [
             [
              0,
              "#0d0887"
             ],
             [
              0.1111111111111111,
              "#46039f"
             ],
             [
              0.2222222222222222,
              "#7201a8"
             ],
             [
              0.3333333333333333,
              "#9c179e"
             ],
             [
              0.4444444444444444,
              "#bd3786"
             ],
             [
              0.5555555555555556,
              "#d8576b"
             ],
             [
              0.6666666666666666,
              "#ed7953"
             ],
             [
              0.7777777777777778,
              "#fb9f3a"
             ],
             [
              0.8888888888888888,
              "#fdca26"
             ],
             [
              1,
              "#f0f921"
             ]
            ],
            "type": "surface"
           }
          ],
          "table": [
           {
            "cells": {
             "fill": {
              "color": "#EBF0F8"
             },
             "line": {
              "color": "white"
             }
            },
            "header": {
             "fill": {
              "color": "#C8D4E3"
             },
             "line": {
              "color": "white"
             }
            },
            "type": "table"
           }
          ]
         },
         "layout": {
          "annotationdefaults": {
           "arrowcolor": "#2a3f5f",
           "arrowhead": 0,
           "arrowwidth": 1
          },
          "autotypenumbers": "strict",
          "coloraxis": {
           "colorbar": {
            "outlinewidth": 0,
            "ticks": ""
           }
          },
          "colorscale": {
           "diverging": [
            [
             0,
             "#8e0152"
            ],
            [
             0.1,
             "#c51b7d"
            ],
            [
             0.2,
             "#de77ae"
            ],
            [
             0.3,
             "#f1b6da"
            ],
            [
             0.4,
             "#fde0ef"
            ],
            [
             0.5,
             "#f7f7f7"
            ],
            [
             0.6,
             "#e6f5d0"
            ],
            [
             0.7,
             "#b8e186"
            ],
            [
             0.8,
             "#7fbc41"
            ],
            [
             0.9,
             "#4d9221"
            ],
            [
             1,
             "#276419"
            ]
           ],
           "sequential": [
            [
             0,
             "#0d0887"
            ],
            [
             0.1111111111111111,
             "#46039f"
            ],
            [
             0.2222222222222222,
             "#7201a8"
            ],
            [
             0.3333333333333333,
             "#9c179e"
            ],
            [
             0.4444444444444444,
             "#bd3786"
            ],
            [
             0.5555555555555556,
             "#d8576b"
            ],
            [
             0.6666666666666666,
             "#ed7953"
            ],
            [
             0.7777777777777778,
             "#fb9f3a"
            ],
            [
             0.8888888888888888,
             "#fdca26"
            ],
            [
             1,
             "#f0f921"
            ]
           ],
           "sequentialminus": [
            [
             0,
             "#0d0887"
            ],
            [
             0.1111111111111111,
             "#46039f"
            ],
            [
             0.2222222222222222,
             "#7201a8"
            ],
            [
             0.3333333333333333,
             "#9c179e"
            ],
            [
             0.4444444444444444,
             "#bd3786"
            ],
            [
             0.5555555555555556,
             "#d8576b"
            ],
            [
             0.6666666666666666,
             "#ed7953"
            ],
            [
             0.7777777777777778,
             "#fb9f3a"
            ],
            [
             0.8888888888888888,
             "#fdca26"
            ],
            [
             1,
             "#f0f921"
            ]
           ]
          },
          "colorway": [
           "#636efa",
           "#EF553B",
           "#00cc96",
           "#ab63fa",
           "#FFA15A",
           "#19d3f3",
           "#FF6692",
           "#B6E880",
           "#FF97FF",
           "#FECB52"
          ],
          "font": {
           "color": "#2a3f5f"
          },
          "geo": {
           "bgcolor": "white",
           "lakecolor": "white",
           "landcolor": "#E5ECF6",
           "showlakes": true,
           "showland": true,
           "subunitcolor": "white"
          },
          "hoverlabel": {
           "align": "left"
          },
          "hovermode": "closest",
          "mapbox": {
           "style": "light"
          },
          "paper_bgcolor": "white",
          "plot_bgcolor": "#E5ECF6",
          "polar": {
           "angularaxis": {
            "gridcolor": "white",
            "linecolor": "white",
            "ticks": ""
           },
           "bgcolor": "#E5ECF6",
           "radialaxis": {
            "gridcolor": "white",
            "linecolor": "white",
            "ticks": ""
           }
          },
          "scene": {
           "xaxis": {
            "backgroundcolor": "#E5ECF6",
            "gridcolor": "white",
            "gridwidth": 2,
            "linecolor": "white",
            "showbackground": true,
            "ticks": "",
            "zerolinecolor": "white"
           },
           "yaxis": {
            "backgroundcolor": "#E5ECF6",
            "gridcolor": "white",
            "gridwidth": 2,
            "linecolor": "white",
            "showbackground": true,
            "ticks": "",
            "zerolinecolor": "white"
           },
           "zaxis": {
            "backgroundcolor": "#E5ECF6",
            "gridcolor": "white",
            "gridwidth": 2,
            "linecolor": "white",
            "showbackground": true,
            "ticks": "",
            "zerolinecolor": "white"
           }
          },
          "shapedefaults": {
           "line": {
            "color": "#2a3f5f"
           }
          },
          "ternary": {
           "aaxis": {
            "gridcolor": "white",
            "linecolor": "white",
            "ticks": ""
           },
           "baxis": {
            "gridcolor": "white",
            "linecolor": "white",
            "ticks": ""
           },
           "bgcolor": "#E5ECF6",
           "caxis": {
            "gridcolor": "white",
            "linecolor": "white",
            "ticks": ""
           }
          },
          "title": {
           "x": 0.05
          },
          "xaxis": {
           "automargin": true,
           "gridcolor": "white",
           "linecolor": "white",
           "ticks": "",
           "title": {
            "standoff": 15
           },
           "zerolinecolor": "white",
           "zerolinewidth": 2
          },
          "yaxis": {
           "automargin": true,
           "gridcolor": "white",
           "linecolor": "white",
           "ticks": "",
           "title": {
            "standoff": 15
           },
           "zerolinecolor": "white",
           "zerolinewidth": 2
          }
         }
        },
        "xaxis": {
         "autorange": true,
         "range": [
          0.022653585158642277,
          0.7210433523135202
         ],
         "title": {
          "text": "KMeans (KM-scaled): percent recycling per household by label"
         },
         "type": "linear",
         "zeroline": false
        },
        "yaxis": {
         "autorange": true,
         "range": [
          -0.5,
          5.5
         ],
         "type": "category"
        }
       }
      },
      "image/png": "[encoded data removed]",
      "text/html": [
       "<div>                            <div id=\"4bf10f85-42a1-4c9e-bcd2-76499a0aa15c\" class=\"plotly-graph-div\" style=\"height:600px; width:100%;\"></div>            <script type=\"text/javascript\">                require([\"plotly\"], function(Plotly) {                    window.PLOTLYENV=window.PLOTLYENV || {};                                    if (document.getElementById(\"4bf10f85-42a1-4c9e-bcd2-76499a0aa15c\")) {                    Plotly.newPlot(                        \"4bf10f85-42a1-4c9e-bcd2-76499a0aa15c\",                        [{\"marker\": {\"color\": \"#ffaa00\"}, \"name\": \"km label 4\", \"orientation\": \"h\", \"type\": \"box\", \"x\": [0.3387952235621796, 0.3089887640449438, 0.1141990845713716, 0.39136381398983977]}, {\"marker\": {\"color\": \"#3D9970\"}, \"name\": \"km label 3\", \"orientation\": \"h\", \"type\": \"box\", \"x\": [0.3542803112953669, 0.3810518975482248, 0.23653542242391976, 0.3040705967511869, 0.22376009227220295, 0.24440052700922266, 0.2996639895099165, 0.3388474360254709, 0.2414544383924628, 0.22839149254214444, 0.26699507389162563, 0.5111538052265451, 0.2619952859799358, 0.13574007220216608, 0.26966966966966965, 0.4506172839506172, 0.3985439173320808, 0.23847019122609675, 0.2770155946635209, 0.3052858683926645, 0.30771173422401304, 0.3160089627500977, 0.3933438195350265, 0.6861238639557763, 0.15807802357684242, 0.385239852398524, 0.2851798784029741, 0.19951786211825706, 0.290139746208036, 0.3412133891213389, 0.18873085339168488, 0.1846995647681373, 0.3416547788873039, 0.34416105724695856, 0.29390551749008303, 0.263075173957992, 0.20118643712825668, 0.4249750505386525, 0.2797202797202797, 0.3720058065665608, 0.2586980920314253, 0.316375462599529, 0.4168434545634484, 0.1602570095481749, 0.30710319739613257, 0.16357267950963222, 0.3595961588592121, 0.2972749793559042, 0.34945462609529065, 0.3625360662494848, 0.09551815047657676, 0.2569799171907915, 0.3676549157816791, 0.2915905146097034, 0.20637721572301007, 0.21457858769931668, 0.3414609106308711, 0.3304998492721787, 0.28239693004034244, 0.3135883469505653, 0.1814133809717912, 0.25082946250829463, 0.42857142857142855, 0.3232672639503219, 0.3655151141270821, 0.2749711063322754, 0.21727702193165604, 0.2755881935194107, 0.2665212278219965, 0.2236644452374827, 0.39925979478540014, 0.230849478390462, 0.3721423802663481, 0.14672628691162812, 0.24438679390963286, null, 0.312268927237077, 0.3685193150722542, 0.2553616484440706, 0.2100056529112493, 0.2927813100152125]}, {\"marker\": {\"color\": \"#AA22AA\"}, \"name\": \"km label 0\", \"orientation\": \"h\", \"type\": \"box\", \"x\": [0.21564798630835336, 0.3334672405547585, 0.15050655111737818, 0.1679056856614128, 0.2813397129186603, 0.6344222330570454, 0.4364515320382419, 0.3398419172050384, 0.31561622191011235, 0.1745196045048923, 0.14408362409694372, 0.25173398612811104, 0.2787324566250414, 0.2631272789183207, 0.25182746975590986, 0.19637526652452025, 0.19501742488461904, 0.16806851849979265, 0.16030534351145034, 0.3239451114922813, 0.2012035040552854, 0.30852145617246285, 0.3912839894310847, 0.30096920341801914, 0.2956005138086063, 0.16577329471241475, 0.3404153862456289, 0.14806238804665994, null, 0.3565902717338749, 0.16992785123127127, 0.16186580174634846, 0.1819563259792886, 0.05757307351638617, 0.25374494031905753, 0.3342208753513554, 0.21584137026676334, 0.23703703703703705, 0.3188747510061385, 0.3348839569659652, 0.3378628950395885, 0.1539275069704836, 0.30711889675736115, 0.2801258715369902, 0.3240529290769804, 0.20664802065404475, 0.2735553583546484, 0.3473104616687844, 0.16303210750784586, 0.2370429252782194, 0.3129662621088965, 0.3597388777473089, 0.3026734916749799, 0.3640192539109505, 0.270033089710613, 0.26347014724124906, null, 0.3110132158590308, 0.2883034869538455, 0.2667857278565186, 0.2887537993920973, 0.3717594178439842, 0.34508842221608177, 0.27735309412376496, 0.22496920640506776, 0.2564865171085429, 0.11599552564609936]}, {\"marker\": {\"color\": \"#1199ee\"}, \"name\": \"km label 5\", \"orientation\": \"h\", \"type\": \"box\", \"x\": [0.3104374563282033, 0.2500671232804595, 0.23163103822693695, 0.29107540752902544, 0.2583130346116807, 0.3023595834176845, 0.30241325819309994, 0.2233981094977959, 0.3591376400184134, 0.28419595745564835, 0.3252236807006219, 0.22014862956893214, 0.29462224136001924, 0.2404929037182508, 0.3145121247529797, 0.2569210208107936, 0.2343185033799717, 0.25277474570868314, 0.24708774179758464, 0.35494554550259644, 0.4249896288761786, 0.3495532856558917, 0.4604424596829458, 0.3825761214100471, 0.17439146382127374, 0.32190091907644025, 0.10381866223225887, 0.18137837379052796, 0.23973836560542236, 0.26962739619322273, 0.2780745530798247, 0.24163892222771, 0.18932592211942167, 0.2479274769212026, 0.1830964841178332, 0.2394829614494571, 0.3928842914847, 0.13417666263611214]}, {\"marker\": {\"color\": \"#FF851B\"}, \"name\": \"km label 1\", \"orientation\": \"h\", \"type\": \"box\", \"x\": [0.2697325231675852, 0.5093768242848803, 0.24991150363421355, 0.2806419750018637, 0.3862401254972268, 0.2887368200544655, 0.2238331035410432, 0.2970004917226685, 0.18481138119009347, 0.2674465510286406, 0.2348786885245901, 0.20452212957023733, 0.2403881632351856, 0.2949371218988925, 0.31351334350280713, 0.2279223367306269, 0.2649777797513529, 0.332763642490913, 0.2224014125014558, 0.24856156501726126, 0.24607876609161924, 0.2269993898981268, 0.10415970344261798, 0.24913516616221576, 0.3195199578341341, 0.2711387828881301, 0.2936550300701043, 0.23666512623437275, 0.2157337096521291, 0.3619824788219849, null, 0.211550339715874, 0.3754226419493995, 0.19587882682601648, 0.1251348042715842, 0.25274644460404416, 0.255141487552188, 0.2951513366058209, 0.2857142857142857, 0.05973261643537019, 0.2247949493067839, 0.3668104778719841, 0.21409921671018275, 0.2690157882662106, 0.16651276327517125, 0.1761098188902805, 0.3713671681269631, 0.11182001440975063, 0.33877551020408164, 0.1916503050787808, 0.203267210397331, 0.18965067401072624, 0.1882999870456485, 0.31364049664513693, 0.30266264339645543, 0.2098051885889336, 0.2443170452880524, 0.36822955794866735, 0.2321836023496981, 0.1789034825401092, 0.2638791885893436, 0.2895544378149744, 0.21340671738043784, 0.22420007355645455, 0.27855903452205216, 0.26845583901658665, 0.3296084975869379]}, {\"marker\": {\"color\": \"#FF4136\"}, \"name\": \"km label 2\", \"orientation\": \"h\", \"type\": \"box\", \"x\": [0.16454746117257274, 0.2265608106020821, 0.3119270118251472, 0.2521895769923598, 0.1865583491712942, 0.19480846986037675, 0.10088925685502054, 0.21040776080605286, 0.18886147954423652, 0.20376359932977936, 0.16330282129122484, 0.1997075073123172, 0.1443025857414446, 0.27096620359654555]}],                        {\"boxgap\": 0.1, \"boxmode\": \"overlay\", \"height\": 600, \"template\": {\"data\": {\"bar\": [{\"error_x\": {\"color\": \"#2a3f5f\"}, \"error_y\": {\"color\": \"#2a3f5f\"}, \"marker\": {\"line\": {\"color\": \"#E5ECF6\", \"width\": 0.5}}, \"type\": \"bar\"}], \"barpolar\": [{\"marker\": {\"line\": {\"color\": \"#E5ECF6\", \"width\": 0.5}}, \"type\": \"barpolar\"}], \"carpet\": [{\"aaxis\": {\"endlinecolor\": \"#2a3f5f\", \"gridcolor\": \"white\", \"linecolor\": \"white\", \"minorgridcolor\": \"white\", \"startlinecolor\": \"#2a3f5f\"}, \"baxis\": {\"endlinecolor\": \"#2a3f5f\", \"gridcolor\": \"white\", \"linecolor\": \"white\", \"minorgridcolor\": \"white\", \"startlinecolor\": \"#2a3f5f\"}, \"type\": \"carpet\"}], \"choropleth\": [{\"colorbar\": {\"outlinewidth\": 0, \"ticks\": \"\"}, \"type\": \"choropleth\"}], \"contour\": [{\"colorbar\": {\"outlinewidth\": 0, \"ticks\": \"\"}, \"colorscale\": [[0.0, \"#0d0887\"], [0.1111111111111111, \"#46039f\"], [0.2222222222222222, \"#7201a8\"], [0.3333333333333333, \"#9c179e\"], [0.4444444444444444, \"#bd3786\"], [0.5555555555555556, \"#d8576b\"], [0.6666666666666666, \"#ed7953\"], [0.7777777777777778, \"#fb9f3a\"], [0.8888888888888888, \"#fdca26\"], [1.0, \"#f0f921\"]], \"type\": \"contour\"}], \"contourcarpet\": [{\"colorbar\": {\"outlinewidth\": 0, \"ticks\": \"\"}, \"type\": \"contourcarpet\"}], \"heatmap\": [{\"colorbar\": {\"outlinewidth\": 0, \"ticks\": \"\"}, \"colorscale\": [[0.0, \"#0d0887\"], [0.1111111111111111, \"#46039f\"], [0.2222222222222222, \"#7201a8\"], [0.3333333333333333, \"#9c179e\"], [0.4444444444444444, \"#bd3786\"], [0.5555555555555556, \"#d8576b\"], [0.6666666666666666, \"#ed7953\"], [0.7777777777777778, \"#fb9f3a\"], [0.8888888888888888, \"#fdca26\"], [1.0, \"#f0f921\"]], \"type\": \"heatmap\"}], \"heatmapgl\": [{\"colorbar\": {\"outlinewidth\": 0, \"ticks\": \"\"}, \"colorscale\": [[0.0, \"#0d0887\"], [0.1111111111111111, \"#46039f\"], [0.2222222222222222, \"#7201a8\"], [0.3333333333333333, \"#9c179e\"], [0.4444444444444444, \"#bd3786\"], [0.5555555555555556, \"#d8576b\"], [0.6666666666666666, \"#ed7953\"], [0.7777777777777778, \"#fb9f3a\"], [0.8888888888888888, \"#fdca26\"], [1.0, \"#f0f921\"]], \"type\": \"heatmapgl\"}], \"histogram\": [{\"marker\": {\"colorbar\": {\"outlinewidth\": 0, \"ticks\": \"\"}}, \"type\": \"histogram\"}], \"histogram2d\": [{\"colorbar\": {\"outlinewidth\": 0, \"ticks\": \"\"}, \"colorscale\": [[0.0, \"#0d0887\"], [0.1111111111111111, \"#46039f\"], [0.2222222222222222, \"#7201a8\"], [0.3333333333333333, \"#9c179e\"], [0.4444444444444444, \"#bd3786\"], [0.5555555555555556, \"#d8576b\"], [0.6666666666666666, \"#ed7953\"], [0.7777777777777778, \"#fb9f3a\"], [0.8888888888888888, \"#fdca26\"], [1.0, \"#f0f921\"]], \"type\": \"histogram2d\"}], \"histogram2dcontour\": [{\"colorbar\": {\"outlinewidth\": 0, \"ticks\": \"\"}, \"colorscale\": [[0.0, \"#0d0887\"], [0.1111111111111111, \"#46039f\"], [0.2222222222222222, \"#7201a8\"], [0.3333333333333333, \"#9c179e\"], [0.4444444444444444, \"#bd3786\"], [0.5555555555555556, \"#d8576b\"], [0.6666666666666666, \"#ed7953\"], [0.7777777777777778, \"#fb9f3a\"], [0.8888888888888888, \"#fdca26\"], [1.0, \"#f0f921\"]], \"type\": \"histogram2dcontour\"}], \"mesh3d\": [{\"colorbar\": {\"outlinewidth\": 0, \"ticks\": \"\"}, \"type\": \"mesh3d\"}], \"parcoords\": [{\"line\": {\"colorbar\": {\"outlinewidth\": 0, \"ticks\": \"\"}}, \"type\": \"parcoords\"}], \"pie\": [{\"automargin\": true, \"type\": \"pie\"}], \"scatter\": [{\"marker\": {\"colorbar\": {\"outlinewidth\": 0, \"ticks\": \"\"}}, \"type\": \"scatter\"}], \"scatter3d\": [{\"line\": {\"colorbar\": {\"outlinewidth\": 0, \"ticks\": \"\"}}, \"marker\": {\"colorbar\": {\"outlinewidth\": 0, \"ticks\": \"\"}}, \"type\": \"scatter3d\"}], \"scattercarpet\": [{\"marker\": {\"colorbar\": {\"outlinewidth\": 0, \"ticks\": \"\"}}, \"type\": \"scattercarpet\"}], \"scattergeo\": [{\"marker\": {\"colorbar\": {\"outlinewidth\": 0, \"ticks\": \"\"}}, \"type\": \"scattergeo\"}], \"scattergl\": [{\"marker\": {\"colorbar\": {\"outlinewidth\": 0, \"ticks\": \"\"}}, \"type\": \"scattergl\"}], \"scattermapbox\": [{\"marker\": {\"colorbar\": {\"outlinewidth\": 0, \"ticks\": \"\"}}, \"type\": \"scattermapbox\"}], \"scatterpolar\": [{\"marker\": {\"colorbar\": {\"outlinewidth\": 0, \"ticks\": \"\"}}, \"type\": \"scatterpolar\"}], \"scatterpolargl\": [{\"marker\": {\"colorbar\": {\"outlinewidth\": 0, \"ticks\": \"\"}}, \"type\": \"scatterpolargl\"}], \"scatterternary\": [{\"marker\": {\"colorbar\": {\"outlinewidth\": 0, \"ticks\": \"\"}}, \"type\": \"scatterternary\"}], \"surface\": [{\"colorbar\": {\"outlinewidth\": 0, \"ticks\": \"\"}, \"colorscale\": [[0.0, \"#0d0887\"], [0.1111111111111111, \"#46039f\"], [0.2222222222222222, \"#7201a8\"], [0.3333333333333333, \"#9c179e\"], [0.4444444444444444, \"#bd3786\"], [0.5555555555555556, \"#d8576b\"], [0.6666666666666666, \"#ed7953\"], [0.7777777777777778, \"#fb9f3a\"], [0.8888888888888888, \"#fdca26\"], [1.0, \"#f0f921\"]], \"type\": \"surface\"}], \"table\": [{\"cells\": {\"fill\": {\"color\": \"#EBF0F8\"}, \"line\": {\"color\": \"white\"}}, \"header\": {\"fill\": {\"color\": \"#C8D4E3\"}, \"line\": {\"color\": \"white\"}}, \"type\": \"table\"}]}, \"layout\": {\"annotationdefaults\": {\"arrowcolor\": \"#2a3f5f\", \"arrowhead\": 0, \"arrowwidth\": 1}, \"autotypenumbers\": \"strict\", \"coloraxis\": {\"colorbar\": {\"outlinewidth\": 0, \"ticks\": \"\"}}, \"colorscale\": {\"diverging\": [[0, \"#8e0152\"], [0.1, \"#c51b7d\"], [0.2, \"#de77ae\"], [0.3, \"#f1b6da\"], [0.4, \"#fde0ef\"], [0.5, \"#f7f7f7\"], [0.6, \"#e6f5d0\"], [0.7, \"#b8e186\"], [0.8, \"#7fbc41\"], [0.9, \"#4d9221\"], [1, \"#276419\"]], \"sequential\": [[0.0, \"#0d0887\"], [0.1111111111111111, \"#46039f\"], [0.2222222222222222, \"#7201a8\"], [0.3333333333333333, \"#9c179e\"], [0.4444444444444444, \"#bd3786\"], [0.5555555555555556, \"#d8576b\"], [0.6666666666666666, \"#ed7953\"], [0.7777777777777778, \"#fb9f3a\"], [0.8888888888888888, \"#fdca26\"], [1.0, \"#f0f921\"]], \"sequentialminus\": [[0.0, \"#0d0887\"], [0.1111111111111111, \"#46039f\"], [0.2222222222222222, \"#7201a8\"], [0.3333333333333333, \"#9c179e\"], [0.4444444444444444, \"#bd3786\"], [0.5555555555555556, \"#d8576b\"], [0.6666666666666666, \"#ed7953\"], [0.7777777777777778, \"#fb9f3a\"], [0.8888888888888888, \"#fdca26\"], [1.0, \"#f0f921\"]]}, \"colorway\": [\"#636efa\", \"#EF553B\", \"#00cc96\", \"#ab63fa\", \"#FFA15A\", \"#19d3f3\", \"#FF6692\", \"#B6E880\", \"#FF97FF\", \"#FECB52\"], \"font\": {\"color\": \"#2a3f5f\"}, \"geo\": {\"bgcolor\": \"white\", \"lakecolor\": \"white\", \"landcolor\": \"#E5ECF6\", \"showlakes\": true, \"showland\": true, \"subunitcolor\": \"white\"}, \"hoverlabel\": {\"align\": \"left\"}, \"hovermode\": \"closest\", \"mapbox\": {\"style\": \"light\"}, \"paper_bgcolor\": \"white\", \"plot_bgcolor\": \"#E5ECF6\", \"polar\": {\"angularaxis\": {\"gridcolor\": \"white\", \"linecolor\": \"white\", \"ticks\": \"\"}, \"bgcolor\": \"#E5ECF6\", \"radialaxis\": {\"gridcolor\": \"white\", \"linecolor\": \"white\", \"ticks\": \"\"}}, \"scene\": {\"xaxis\": {\"backgroundcolor\": \"#E5ECF6\", \"gridcolor\": \"white\", \"gridwidth\": 2, \"linecolor\": \"white\", \"showbackground\": true, \"ticks\": \"\", \"zerolinecolor\": \"white\"}, \"yaxis\": {\"backgroundcolor\": \"#E5ECF6\", \"gridcolor\": \"white\", \"gridwidth\": 2, \"linecolor\": \"white\", \"showbackground\": true, \"ticks\": \"\", \"zerolinecolor\": \"white\"}, \"zaxis\": {\"backgroundcolor\": \"#E5ECF6\", \"gridcolor\": \"white\", \"gridwidth\": 2, \"linecolor\": \"white\", \"showbackground\": true, \"ticks\": \"\", \"zerolinecolor\": \"white\"}}, \"shapedefaults\": {\"line\": {\"color\": \"#2a3f5f\"}}, \"ternary\": {\"aaxis\": {\"gridcolor\": \"white\", \"linecolor\": \"white\", \"ticks\": \"\"}, \"baxis\": {\"gridcolor\": \"white\", \"linecolor\": \"white\", \"ticks\": \"\"}, \"bgcolor\": \"#E5ECF6\", \"caxis\": {\"gridcolor\": \"white\", \"linecolor\": \"white\", \"ticks\": \"\"}}, \"title\": {\"x\": 0.05}, \"xaxis\": {\"automargin\": true, \"gridcolor\": \"white\", \"linecolor\": \"white\", \"ticks\": \"\", \"title\": {\"standoff\": 15}, \"zerolinecolor\": \"white\", \"zerolinewidth\": 2}, \"yaxis\": {\"automargin\": true, \"gridcolor\": \"white\", \"linecolor\": \"white\", \"ticks\": \"\", \"title\": {\"standoff\": 15}, \"zerolinecolor\": \"white\", \"zerolinewidth\": 2}}}, \"xaxis\": {\"title\": {\"text\": \"KMeans (KM-scaled): percent recycling per household by label\"}, \"zeroline\": false}},                        {\"responsive\": true}                    ).then(function(){\n",
       "                            \n",
       "var gd = document.getElementById('4bf10f85-42a1-4c9e-bcd2-76499a0aa15c');\n",
       "var x = new MutationObserver(function (mutations, observer) {{\n",
       "        var display = window.getComputedStyle(gd).display;\n",
       "        if (!display || display === 'none') {{\n",
       "            console.log([gd, 'removed!']);\n",
       "            Plotly.purge(gd);\n",
       "            observer.disconnect();\n",
       "        }}\n",
       "}});\n",
       "\n",
       "// Listen for the removal of the full notebook cells\n",
       "var notebookContainer = gd.closest('#notebook-container');\n",
       "if (notebookContainer) {{\n",
       "    x.observe(notebookContainer, {childList: true});\n",
       "}}\n",
       "\n",
       "// Listen for the clearing of the current output cell\n",
       "var outputEl = gd.closest('.output');\n",
       "if (outputEl) {{\n",
       "    x.observe(outputEl, {childList: true});\n",
       "}}\n",
       "\n",
       "                        })                };                });            </script>        </div>"
      ]
     },
     "metadata": {},
     "output_type": "display_data"
    }
   ],
   "source": [
    "layout = Layout(\n",
    "    boxgap=0.1,\n",
    "    height = 600\n",
    ")\n",
    "fig = go.Figure(layout=layout)\n",
    "\n",
    "fig.add_trace(go.Box(\n",
    "    x=km_s_label4['%recycle/hh'],\n",
    "    name='km label 4',\n",
    "    marker_color='#ffaa00'\n",
    "))\n",
    "fig.add_trace(go.Box(\n",
    "    x=km_s_label3['%recycle/hh'],\n",
    "    name='km label 3',\n",
    "    marker_color='#3D9970'\n",
    "))\n",
    "fig.add_trace(go.Box(\n",
    "    x=km_s_label0['%recycle/hh'],\n",
    "    name='km label 0',\n",
    "    marker_color='#AA22AA'\n",
    "))\n",
    "fig.add_trace(go.Box(\n",
    "    x=km_s_label5['%recycle/hh'],\n",
    "    name='km label 5',\n",
    "    marker_color='#1199ee'\n",
    "))\n",
    "fig.add_trace(go.Box(\n",
    "    x=km_s_label1['%recycle/hh'],\n",
    "    name='km label 1',\n",
    "    marker_color='#FF851B'\n",
    "))\n",
    "fig.add_trace(go.Box(\n",
    "    x=km_s_label2['%recycle/hh'],\n",
    "    name='km label 2',\n",
    "    marker_color='#FF4136'\n",
    "))\n",
    "\n",
    "fig.update_layout(\n",
    "    xaxis=dict(title='KMeans (KM-scaled): percent recycling per household by label', zeroline=False),\n",
    "    boxmode='overlay'\n",
    ")\n",
    "\n",
    "fig.update_traces(orientation='h') # horizontal box plots\n",
    "\n",
    "fig.show()"
   ]
  },
  {
   "cell_type": "code",
   "execution_count": 68,
   "metadata": {},
   "outputs": [
    {
     "data": {
      "application/vnd.plotly.v1+json": {
       "config": {
        "plotlyServerURL": "https://plot.ly"
       },
       "data": [
        {
         "marker": {
          "color": "#FF4136"
         },
         "name": "km label 2",
         "orientation": "h",
         "type": "box",
         "x": [
          0.2515132641291811,
          0.24439958643099804,
          0.2998501935701061,
          0.3034605146406389,
          0.2740468909276249,
          0.13733333333333336,
          0.3178740970072239,
          0.3596077006901562,
          0.3516904583020285,
          0.31167592197066785,
          0.35879375,
          0.2532580145199445,
          0.22032520325203253,
          0.758978947368421,
          0.2989347536617843,
          0.2635379061371841,
          0.3162504658963847,
          0.3343716433941998,
          0.3485010752688172,
          0.3507663359562094,
          0.188834,
          0.2749887976101569,
          0.22039341629867526,
          0.3109180327868853,
          0.3545652173913044,
          0.3476931142957008,
          0.24780134505949306,
          0.3084117321527393,
          0.29454282616552224,
          0.18288007554296504,
          0.265,
          0.3435581299131154,
          0.2927829014785536,
          0.31840999999999997,
          0.2561111111111111,
          0.33818269000239753,
          0.18684991974317816,
          0.3702133105802048,
          0.35365235035508963,
          0.4334415522953148,
          0.4770985230884278,
          0.2734254992319509,
          0.3339621052631579,
          0.3389830508474576,
          0.2935452793834297,
          0.2097393412810669,
          0.4088028169014085,
          0.08954372623574146,
          0.3518702520197757,
          0.26475548060708265,
          0.3837497833997574,
          0.3986111111111112,
          0.23625,
          0.2573363178511472,
          0.3080040080160321,
          0.3278127853881279,
          0.2850343733474352,
          0.3176569920844327,
          0.16638023630504833,
          0.3978512396694215,
          0.3068205128205129,
          0.3781571175428234,
          0.24330513595166164,
          0.33056614044637994,
          0.2892738952696126,
          0.3152223320158103
         ]
        },
        {
         "marker": {
          "color": "#AA22AA"
         },
         "name": "km label 0",
         "orientation": "h",
         "type": "box",
         "x": [
          0.3150735621934909,
          0.26386521860206075,
          0.21025602409638552,
          0.2520554116454556,
          0.31333795734350617,
          0.25661804430037816,
          0.33189724199288256,
          0.21178260869565216,
          0.4111320754716981,
          0.3150822669104205,
          0.2909308379652431,
          0.2725847292559408,
          0.3685051903114187,
          0.2745454545454546,
          0.17871186440677966,
          0.17375000000000002,
          0.05916245081506465,
          0.2735148514851485,
          0.2677132146204311,
          0.2255813953488372,
          0.2352,
          0.2837148514851485,
          0.3008034200633891,
          0.21686666666666668,
          0.7447928703134604,
          0.309972042803432,
          0.24150470219435735,
          0.21989655172413794,
          0.1844193548387097,
          0.252312642445368,
          0.16343181818181818,
          0.34385443037974683,
          0.11918562874251498,
          0.29885321100917434,
          0.2339336492890995,
          0.12222222222222222,
          0.2293603313391625,
          0.15641860465116278,
          0.2862037037037037,
          0.21578754578754575,
          0.32456756756756755,
          0.2927004001548987,
          0.2604680682268941,
          0.33182917515274946,
          0.21391040242976456,
          0.13099132413596928,
          0.24026068066618395,
          0.14596273291925466,
          0.2656660412757973,
          0.24742268041237114,
          0.3155935988090808,
          0.1323003194888179,
          0.2596226080793763,
          0.2210800744878957,
          0.3,
          0.2303170731707317,
          0.20803056027164685,
          0.241594700686948,
          0.13806000000000002,
          0.20824444444444445,
          0.16246445497630332,
          0.3229033631332482,
          0.22273336378864014,
          0.22894324853228964,
          0.2453167315175097,
          0.25852216748768475,
          0.16364444444444445,
          0.26512175962293794,
          0.08777125351033953,
          0.10543969849246232,
          0.36615,
          0.261,
          0.16102328099621008,
          0.18357142857142855,
          0.12323636363636364,
          0.18633165829145729,
          0.2282756598240469,
          0.2019077568134172,
          0.32654062439402753,
          0.20597014925373133,
          0.15772058823529414,
          0.051187594553706514,
          0.03345413994981879,
          0.2245053272450533,
          0.1942160476325489,
          0.10862504511006857,
          0.2484166666666667,
          0.34095722151630664,
          0.15215622457282346,
          0.2266562047320135,
          0.2596294216732173,
          0.2845708376421924,
          0.2586549239391513,
          0.18687861271676298,
          0.36666666666666653,
          0.20693133047210305,
          0.2316245487364621,
          0.044520547945205484,
          0.1576637407157326,
          0.18775181922635006,
          0.1782702702702703,
          0.13719178082191782,
          0.27507163323782235,
          0.2971212121212121,
          0.045961610137905326,
          0.30301587301587296,
          0.1478809738503156,
          0.2735968781812012,
          0.2385180722891566,
          0.4136033229491173,
          0.1321695760598504,
          0.2229645635263613,
          0.13673202614379085,
          0.120075,
          0.2768344898863133,
          0.1247676056338028,
          0.3104109589041096,
          0.2987234042553191,
          0.10956683027051707,
          0.20267857142857146,
          0.3555449785816278,
          0.16202270977675134,
          0.6115843270868825,
          0.23030498976182776,
          0.33553464499572283,
          0.2910394265232975,
          0.22406563354603465,
          0.3175873015873016,
          0.22337209302325586,
          0.2794933333333333,
          0.15576190476190474,
          0.2287402985074627,
          0.32669322709163345,
          0.24065654258963234,
          0.1164367816091954,
          0.3053126792885829,
          0.21,
          0.21621153846153848,
          0.20721387881926465,
          0.24305128205128204,
          0.20681176470588236,
          0.2402567431126497,
          0.20708923076923075,
          0.303373253493014,
          0.18657962653711854,
          0.2222767419038273,
          0.1883243823845328,
          0.28186567164179105,
          0.167375132837407,
          0.1975,
          0.29802955665024633,
          0.277348846459825,
          0.22663188405797105,
          0.12260454002389487,
          0.23829268292682926,
          0.3455254237288136,
          0.30395136778115506,
          0.23464881593110876,
          0.007788821899951116,
          0.2941522491349481,
          0.16473333333333334,
          0.2558285714285714,
          0.15286793593230585,
          0.19666666666666668,
          0.2393225806451613,
          0.1862973121228744,
          0.2250316027088036,
          0.2235294117647059,
          0.2482,
          0.1893638170974155,
          0.27025125628140706,
          0.16085369936391028,
          0.23555849655902594,
          0.21719565217391304,
          0.2726336041043181,
          0.2503990610328639,
          0.28251875669882104,
          0.3054440961337513,
          0.13112820512820514,
          0.18431850533807828,
          0.2501381215469613,
          0.11722370107463274
         ]
        },
        {
         "marker": {
          "color": "#3D9970"
         },
         "name": "km label 3",
         "orientation": "h",
         "type": "box",
         "x": [
          0.27757172053591705,
          0.1918695749440716,
          0.2332879325878425,
          0.2615558060879369,
          0.30271434042786016,
          0.3943042813455658,
          0.1601551351102518,
          0.2547448,
          0.23467074074074076,
          0.23608187134502925,
          0.2683897435897436,
          0.17223397044869188,
          0.2119835687201187,
          0.2369942857142857,
          0.10326511111111113,
          0.1656234109133581,
          0.2622373333333333,
          0.1695125,
          0.2350227446971633,
          0.2640672926447574,
          0.2811071996366114,
          0.15357567164179106
         ]
        },
        {
         "marker": {
          "color": "#FF851B"
         },
         "name": "km label 1",
         "orientation": "h",
         "type": "box",
         "x": [
          0.1425
         ]
        }
       ],
       "layout": {
        "autosize": true,
        "boxgap": 0.1,
        "boxmode": "overlay",
        "template": {
         "data": {
          "bar": [
           {
            "error_x": {
             "color": "#2a3f5f"
            },
            "error_y": {
             "color": "#2a3f5f"
            },
            "marker": {
             "line": {
              "color": "#E5ECF6",
              "width": 0.5
             }
            },
            "type": "bar"
           }
          ],
          "barpolar": [
           {
            "marker": {
             "line": {
              "color": "#E5ECF6",
              "width": 0.5
             }
            },
            "type": "barpolar"
           }
          ],
          "carpet": [
           {
            "aaxis": {
             "endlinecolor": "#2a3f5f",
             "gridcolor": "white",
             "linecolor": "white",
             "minorgridcolor": "white",
             "startlinecolor": "#2a3f5f"
            },
            "baxis": {
             "endlinecolor": "#2a3f5f",
             "gridcolor": "white",
             "linecolor": "white",
             "minorgridcolor": "white",
             "startlinecolor": "#2a3f5f"
            },
            "type": "carpet"
           }
          ],
          "choropleth": [
           {
            "colorbar": {
             "outlinewidth": 0,
             "ticks": ""
            },
            "type": "choropleth"
           }
          ],
          "contour": [
           {
            "colorbar": {
             "outlinewidth": 0,
             "ticks": ""
            },
            "colorscale": [
             [
              0,
              "#0d0887"
             ],
             [
              0.1111111111111111,
              "#46039f"
             ],
             [
              0.2222222222222222,
              "#7201a8"
             ],
             [
              0.3333333333333333,
              "#9c179e"
             ],
             [
              0.4444444444444444,
              "#bd3786"
             ],
             [
              0.5555555555555556,
              "#d8576b"
             ],
             [
              0.6666666666666666,
              "#ed7953"
             ],
             [
              0.7777777777777778,
              "#fb9f3a"
             ],
             [
              0.8888888888888888,
              "#fdca26"
             ],
             [
              1,
              "#f0f921"
             ]
            ],
            "type": "contour"
           }
          ],
          "contourcarpet": [
           {
            "colorbar": {
             "outlinewidth": 0,
             "ticks": ""
            },
            "type": "contourcarpet"
           }
          ],
          "heatmap": [
           {
            "colorbar": {
             "outlinewidth": 0,
             "ticks": ""
            },
            "colorscale": [
             [
              0,
              "#0d0887"
             ],
             [
              0.1111111111111111,
              "#46039f"
             ],
             [
              0.2222222222222222,
              "#7201a8"
             ],
             [
              0.3333333333333333,
              "#9c179e"
             ],
             [
              0.4444444444444444,
              "#bd3786"
             ],
             [
              0.5555555555555556,
              "#d8576b"
             ],
             [
              0.6666666666666666,
              "#ed7953"
             ],
             [
              0.7777777777777778,
              "#fb9f3a"
             ],
             [
              0.8888888888888888,
              "#fdca26"
             ],
             [
              1,
              "#f0f921"
             ]
            ],
            "type": "heatmap"
           }
          ],
          "heatmapgl": [
           {
            "colorbar": {
             "outlinewidth": 0,
             "ticks": ""
            },
            "colorscale": [
             [
              0,
              "#0d0887"
             ],
             [
              0.1111111111111111,
              "#46039f"
             ],
             [
              0.2222222222222222,
              "#7201a8"
             ],
             [
              0.3333333333333333,
              "#9c179e"
             ],
             [
              0.4444444444444444,
              "#bd3786"
             ],
             [
              0.5555555555555556,
              "#d8576b"
             ],
             [
              0.6666666666666666,
              "#ed7953"
             ],
             [
              0.7777777777777778,
              "#fb9f3a"
             ],
             [
              0.8888888888888888,
              "#fdca26"
             ],
             [
              1,
              "#f0f921"
             ]
            ],
            "type": "heatmapgl"
           }
          ],
          "histogram": [
           {
            "marker": {
             "colorbar": {
              "outlinewidth": 0,
              "ticks": ""
             }
            },
            "type": "histogram"
           }
          ],
          "histogram2d": [
           {
            "colorbar": {
             "outlinewidth": 0,
             "ticks": ""
            },
            "colorscale": [
             [
              0,
              "#0d0887"
             ],
             [
              0.1111111111111111,
              "#46039f"
             ],
             [
              0.2222222222222222,
              "#7201a8"
             ],
             [
              0.3333333333333333,
              "#9c179e"
             ],
             [
              0.4444444444444444,
              "#bd3786"
             ],
             [
              0.5555555555555556,
              "#d8576b"
             ],
             [
              0.6666666666666666,
              "#ed7953"
             ],
             [
              0.7777777777777778,
              "#fb9f3a"
             ],
             [
              0.8888888888888888,
              "#fdca26"
             ],
             [
              1,
              "#f0f921"
             ]
            ],
            "type": "histogram2d"
           }
          ],
          "histogram2dcontour": [
           {
            "colorbar": {
             "outlinewidth": 0,
             "ticks": ""
            },
            "colorscale": [
             [
              0,
              "#0d0887"
             ],
             [
              0.1111111111111111,
              "#46039f"
             ],
             [
              0.2222222222222222,
              "#7201a8"
             ],
             [
              0.3333333333333333,
              "#9c179e"
             ],
             [
              0.4444444444444444,
              "#bd3786"
             ],
             [
              0.5555555555555556,
              "#d8576b"
             ],
             [
              0.6666666666666666,
              "#ed7953"
             ],
             [
              0.7777777777777778,
              "#fb9f3a"
             ],
             [
              0.8888888888888888,
              "#fdca26"
             ],
             [
              1,
              "#f0f921"
             ]
            ],
            "type": "histogram2dcontour"
           }
          ],
          "mesh3d": [
           {
            "colorbar": {
             "outlinewidth": 0,
             "ticks": ""
            },
            "type": "mesh3d"
           }
          ],
          "parcoords": [
           {
            "line": {
             "colorbar": {
              "outlinewidth": 0,
              "ticks": ""
             }
            },
            "type": "parcoords"
           }
          ],
          "pie": [
           {
            "automargin": true,
            "type": "pie"
           }
          ],
          "scatter": [
           {
            "marker": {
             "colorbar": {
              "outlinewidth": 0,
              "ticks": ""
             }
            },
            "type": "scatter"
           }
          ],
          "scatter3d": [
           {
            "line": {
             "colorbar": {
              "outlinewidth": 0,
              "ticks": ""
             }
            },
            "marker": {
             "colorbar": {
              "outlinewidth": 0,
              "ticks": ""
             }
            },
            "type": "scatter3d"
           }
          ],
          "scattercarpet": [
           {
            "marker": {
             "colorbar": {
              "outlinewidth": 0,
              "ticks": ""
             }
            },
            "type": "scattercarpet"
           }
          ],
          "scattergeo": [
           {
            "marker": {
             "colorbar": {
              "outlinewidth": 0,
              "ticks": ""
             }
            },
            "type": "scattergeo"
           }
          ],
          "scattergl": [
           {
            "marker": {
             "colorbar": {
              "outlinewidth": 0,
              "ticks": ""
             }
            },
            "type": "scattergl"
           }
          ],
          "scattermapbox": [
           {
            "marker": {
             "colorbar": {
              "outlinewidth": 0,
              "ticks": ""
             }
            },
            "type": "scattermapbox"
           }
          ],
          "scatterpolar": [
           {
            "marker": {
             "colorbar": {
              "outlinewidth": 0,
              "ticks": ""
             }
            },
            "type": "scatterpolar"
           }
          ],
          "scatterpolargl": [
           {
            "marker": {
             "colorbar": {
              "outlinewidth": 0,
              "ticks": ""
             }
            },
            "type": "scatterpolargl"
           }
          ],
          "scatterternary": [
           {
            "marker": {
             "colorbar": {
              "outlinewidth": 0,
              "ticks": ""
             }
            },
            "type": "scatterternary"
           }
          ],
          "surface": [
           {
            "colorbar": {
             "outlinewidth": 0,
             "ticks": ""
            },
            "colorscale": [
             [
              0,
              "#0d0887"
             ],
             [
              0.1111111111111111,
              "#46039f"
             ],
             [
              0.2222222222222222,
              "#7201a8"
             ],
             [
              0.3333333333333333,
              "#9c179e"
             ],
             [
              0.4444444444444444,
              "#bd3786"
             ],
             [
              0.5555555555555556,
              "#d8576b"
             ],
             [
              0.6666666666666666,
              "#ed7953"
             ],
             [
              0.7777777777777778,
              "#fb9f3a"
             ],
             [
              0.8888888888888888,
              "#fdca26"
             ],
             [
              1,
              "#f0f921"
             ]
            ],
            "type": "surface"
           }
          ],
          "table": [
           {
            "cells": {
             "fill": {
              "color": "#EBF0F8"
             },
             "line": {
              "color": "white"
             }
            },
            "header": {
             "fill": {
              "color": "#C8D4E3"
             },
             "line": {
              "color": "white"
             }
            },
            "type": "table"
           }
          ]
         },
         "layout": {
          "annotationdefaults": {
           "arrowcolor": "#2a3f5f",
           "arrowhead": 0,
           "arrowwidth": 1
          },
          "autotypenumbers": "strict",
          "coloraxis": {
           "colorbar": {
            "outlinewidth": 0,
            "ticks": ""
           }
          },
          "colorscale": {
           "diverging": [
            [
             0,
             "#8e0152"
            ],
            [
             0.1,
             "#c51b7d"
            ],
            [
             0.2,
             "#de77ae"
            ],
            [
             0.3,
             "#f1b6da"
            ],
            [
             0.4,
             "#fde0ef"
            ],
            [
             0.5,
             "#f7f7f7"
            ],
            [
             0.6,
             "#e6f5d0"
            ],
            [
             0.7,
             "#b8e186"
            ],
            [
             0.8,
             "#7fbc41"
            ],
            [
             0.9,
             "#4d9221"
            ],
            [
             1,
             "#276419"
            ]
           ],
           "sequential": [
            [
             0,
             "#0d0887"
            ],
            [
             0.1111111111111111,
             "#46039f"
            ],
            [
             0.2222222222222222,
             "#7201a8"
            ],
            [
             0.3333333333333333,
             "#9c179e"
            ],
            [
             0.4444444444444444,
             "#bd3786"
            ],
            [
             0.5555555555555556,
             "#d8576b"
            ],
            [
             0.6666666666666666,
             "#ed7953"
            ],
            [
             0.7777777777777778,
             "#fb9f3a"
            ],
            [
             0.8888888888888888,
             "#fdca26"
            ],
            [
             1,
             "#f0f921"
            ]
           ],
           "sequentialminus": [
            [
             0,
             "#0d0887"
            ],
            [
             0.1111111111111111,
             "#46039f"
            ],
            [
             0.2222222222222222,
             "#7201a8"
            ],
            [
             0.3333333333333333,
             "#9c179e"
            ],
            [
             0.4444444444444444,
             "#bd3786"
            ],
            [
             0.5555555555555556,
             "#d8576b"
            ],
            [
             0.6666666666666666,
             "#ed7953"
            ],
            [
             0.7777777777777778,
             "#fb9f3a"
            ],
            [
             0.8888888888888888,
             "#fdca26"
            ],
            [
             1,
             "#f0f921"
            ]
           ]
          },
          "colorway": [
           "#636efa",
           "#EF553B",
           "#00cc96",
           "#ab63fa",
           "#FFA15A",
           "#19d3f3",
           "#FF6692",
           "#B6E880",
           "#FF97FF",
           "#FECB52"
          ],
          "font": {
           "color": "#2a3f5f"
          },
          "geo": {
           "bgcolor": "white",
           "lakecolor": "white",
           "landcolor": "#E5ECF6",
           "showlakes": true,
           "showland": true,
           "subunitcolor": "white"
          },
          "hoverlabel": {
           "align": "left"
          },
          "hovermode": "closest",
          "mapbox": {
           "style": "light"
          },
          "paper_bgcolor": "white",
          "plot_bgcolor": "#E5ECF6",
          "polar": {
           "angularaxis": {
            "gridcolor": "white",
            "linecolor": "white",
            "ticks": ""
           },
           "bgcolor": "#E5ECF6",
           "radialaxis": {
            "gridcolor": "white",
            "linecolor": "white",
            "ticks": ""
           }
          },
          "scene": {
           "xaxis": {
            "backgroundcolor": "#E5ECF6",
            "gridcolor": "white",
            "gridwidth": 2,
            "linecolor": "white",
            "showbackground": true,
            "ticks": "",
            "zerolinecolor": "white"
           },
           "yaxis": {
            "backgroundcolor": "#E5ECF6",
            "gridcolor": "white",
            "gridwidth": 2,
            "linecolor": "white",
            "showbackground": true,
            "ticks": "",
            "zerolinecolor": "white"
           },
           "zaxis": {
            "backgroundcolor": "#E5ECF6",
            "gridcolor": "white",
            "gridwidth": 2,
            "linecolor": "white",
            "showbackground": true,
            "ticks": "",
            "zerolinecolor": "white"
           }
          },
          "shapedefaults": {
           "line": {
            "color": "#2a3f5f"
           }
          },
          "ternary": {
           "aaxis": {
            "gridcolor": "white",
            "linecolor": "white",
            "ticks": ""
           },
           "baxis": {
            "gridcolor": "white",
            "linecolor": "white",
            "ticks": ""
           },
           "bgcolor": "#E5ECF6",
           "caxis": {
            "gridcolor": "white",
            "linecolor": "white",
            "ticks": ""
           }
          },
          "title": {
           "x": 0.05
          },
          "xaxis": {
           "automargin": true,
           "gridcolor": "white",
           "linecolor": "white",
           "ticks": "",
           "title": {
            "standoff": 15
           },
           "zerolinecolor": "white",
           "zerolinewidth": 2
          },
          "yaxis": {
           "automargin": true,
           "gridcolor": "white",
           "linecolor": "white",
           "ticks": "",
           "title": {
            "standoff": 15
           },
           "zerolinecolor": "white",
           "zerolinewidth": 2
          }
         }
        },
        "xaxis": {
         "autorange": true,
         "range": [
          -0.03394396284829722,
          0.8007117321166694
         ],
         "title": {
          "text": "KMeans (KM-n4): tons recycling per household by label"
         },
         "type": "linear",
         "zeroline": false
        },
        "yaxis": {
         "autorange": true,
         "range": [
          -0.5,
          3.5
         ],
         "type": "category"
        }
       }
      },
      "image/png": "[encoded data removed]",
      "text/html": [
       "<div>                            <div id=\"7e3457c0-86d4-4379-a35a-60d754235098\" class=\"plotly-graph-div\" style=\"height:600px; width:100%;\"></div>            <script type=\"text/javascript\">                require([\"plotly\"], function(Plotly) {                    window.PLOTLYENV=window.PLOTLYENV || {};                                    if (document.getElementById(\"7e3457c0-86d4-4379-a35a-60d754235098\")) {                    Plotly.newPlot(                        \"7e3457c0-86d4-4379-a35a-60d754235098\",                        [{\"marker\": {\"color\": \"#FF4136\"}, \"name\": \"km label 2\", \"orientation\": \"h\", \"type\": \"box\", \"x\": [0.2515132641291811, 0.24439958643099804, 0.2998501935701061, 0.3034605146406389, 0.2740468909276249, 0.13733333333333336, 0.3178740970072239, 0.3596077006901562, 0.3516904583020285, 0.31167592197066785, 0.35879375, 0.2532580145199445, 0.22032520325203253, 0.758978947368421, 0.2989347536617843, 0.2635379061371841, 0.3162504658963847, 0.3343716433941998, 0.3485010752688172, 0.3507663359562094, 0.188834, 0.2749887976101569, 0.22039341629867526, 0.3109180327868853, 0.3545652173913044, 0.3476931142957008, 0.24780134505949306, 0.3084117321527393, 0.29454282616552224, 0.18288007554296504, 0.265, 0.3435581299131154, 0.2927829014785536, 0.31840999999999997, 0.2561111111111111, 0.33818269000239753, 0.18684991974317816, 0.3702133105802048, 0.35365235035508963, 0.4334415522953148, 0.4770985230884278, 0.2734254992319509, 0.3339621052631579, 0.3389830508474576, 0.2935452793834297, 0.2097393412810669, 0.4088028169014085, 0.08954372623574146, 0.3518702520197757, 0.26475548060708265, 0.3837497833997574, 0.3986111111111112, 0.23625, 0.2573363178511472, 0.3080040080160321, 0.3278127853881279, 0.2850343733474352, 0.3176569920844327, 0.16638023630504833, 0.3978512396694215, 0.3068205128205129, 0.3781571175428234, 0.24330513595166164, 0.33056614044637994, 0.2892738952696126, 0.3152223320158103]}, {\"marker\": {\"color\": \"#AA22AA\"}, \"name\": \"km label 0\", \"orientation\": \"h\", \"type\": \"box\", \"x\": [0.3150735621934909, 0.26386521860206075, 0.21025602409638552, 0.2520554116454556, 0.31333795734350617, 0.25661804430037816, 0.33189724199288256, 0.21178260869565216, 0.4111320754716981, 0.3150822669104205, 0.2909308379652431, 0.2725847292559408, 0.3685051903114187, 0.2745454545454546, 0.17871186440677966, 0.17375000000000002, 0.05916245081506465, 0.2735148514851485, 0.2677132146204311, 0.2255813953488372, 0.2352, 0.2837148514851485, 0.3008034200633891, 0.21686666666666668, 0.7447928703134604, 0.309972042803432, 0.24150470219435735, 0.21989655172413794, 0.1844193548387097, 0.252312642445368, 0.16343181818181818, 0.34385443037974683, 0.11918562874251498, 0.29885321100917434, 0.2339336492890995, 0.12222222222222222, 0.2293603313391625, 0.15641860465116278, 0.2862037037037037, 0.21578754578754575, 0.32456756756756755, 0.2927004001548987, 0.2604680682268941, 0.33182917515274946, 0.21391040242976456, 0.13099132413596928, 0.24026068066618395, 0.14596273291925466, 0.2656660412757973, 0.24742268041237114, 0.3155935988090808, 0.1323003194888179, 0.2596226080793763, 0.2210800744878957, 0.3, 0.2303170731707317, 0.20803056027164685, 0.241594700686948, 0.13806000000000002, 0.20824444444444445, 0.16246445497630332, 0.3229033631332482, 0.22273336378864014, 0.22894324853228964, 0.2453167315175097, 0.25852216748768475, 0.16364444444444445, 0.26512175962293794, 0.08777125351033953, 0.10543969849246232, 0.36615, 0.261, 0.16102328099621008, 0.18357142857142855, 0.12323636363636364, 0.18633165829145729, 0.2282756598240469, 0.2019077568134172, 0.32654062439402753, 0.20597014925373133, 0.15772058823529414, 0.051187594553706514, 0.03345413994981879, 0.2245053272450533, 0.1942160476325489, 0.10862504511006857, 0.2484166666666667, 0.34095722151630664, 0.15215622457282346, 0.2266562047320135, 0.2596294216732173, 0.2845708376421924, 0.2586549239391513, 0.18687861271676298, 0.36666666666666653, 0.20693133047210305, 0.2316245487364621, 0.044520547945205484, 0.1576637407157326, 0.18775181922635006, 0.1782702702702703, 0.13719178082191782, 0.27507163323782235, 0.2971212121212121, 0.045961610137905326, 0.30301587301587296, 0.1478809738503156, 0.2735968781812012, 0.2385180722891566, 0.4136033229491173, 0.1321695760598504, 0.2229645635263613, 0.13673202614379085, 0.120075, 0.2768344898863133, 0.1247676056338028, 0.3104109589041096, 0.2987234042553191, 0.10956683027051707, 0.20267857142857146, 0.3555449785816278, 0.16202270977675134, 0.6115843270868825, 0.23030498976182776, 0.33553464499572283, 0.2910394265232975, 0.22406563354603465, 0.3175873015873016, 0.22337209302325586, 0.2794933333333333, 0.15576190476190474, 0.2287402985074627, 0.32669322709163345, 0.24065654258963234, 0.1164367816091954, 0.3053126792885829, 0.21, 0.21621153846153848, 0.20721387881926465, 0.24305128205128204, 0.20681176470588236, 0.2402567431126497, 0.20708923076923075, 0.303373253493014, 0.18657962653711854, 0.2222767419038273, 0.1883243823845328, 0.28186567164179105, 0.167375132837407, 0.1975, 0.29802955665024633, 0.277348846459825, 0.22663188405797105, 0.12260454002389487, 0.23829268292682926, 0.3455254237288136, 0.30395136778115506, 0.23464881593110876, 0.007788821899951116, 0.2941522491349481, 0.16473333333333334, 0.2558285714285714, 0.15286793593230585, 0.19666666666666668, 0.2393225806451613, 0.1862973121228744, 0.2250316027088036, 0.2235294117647059, 0.2482, 0.1893638170974155, 0.27025125628140706, 0.16085369936391028, 0.23555849655902594, 0.21719565217391304, 0.2726336041043181, 0.2503990610328639, 0.28251875669882104, 0.3054440961337513, 0.13112820512820514, 0.18431850533807828, 0.2501381215469613, 0.11722370107463274]}, {\"marker\": {\"color\": \"#3D9970\"}, \"name\": \"km label 3\", \"orientation\": \"h\", \"type\": \"box\", \"x\": [0.27757172053591705, 0.1918695749440716, 0.2332879325878425, 0.2615558060879369, 0.30271434042786016, 0.3943042813455658, 0.1601551351102518, 0.2547448, 0.23467074074074076, 0.23608187134502925, 0.2683897435897436, 0.17223397044869188, 0.2119835687201187, 0.2369942857142857, 0.10326511111111113, 0.1656234109133581, 0.2622373333333333, 0.1695125, 0.2350227446971633, 0.2640672926447574, 0.2811071996366114, 0.15357567164179106]}, {\"marker\": {\"color\": \"#FF851B\"}, \"name\": \"km label 1\", \"orientation\": \"h\", \"type\": \"box\", \"x\": [0.1425]}],                        {\"boxgap\": 0.1, \"boxmode\": \"overlay\", \"height\": 600, \"template\": {\"data\": {\"bar\": [{\"error_x\": {\"color\": \"#2a3f5f\"}, \"error_y\": {\"color\": \"#2a3f5f\"}, \"marker\": {\"line\": {\"color\": \"#E5ECF6\", \"width\": 0.5}}, \"type\": \"bar\"}], \"barpolar\": [{\"marker\": {\"line\": {\"color\": \"#E5ECF6\", \"width\": 0.5}}, \"type\": \"barpolar\"}], \"carpet\": [{\"aaxis\": {\"endlinecolor\": \"#2a3f5f\", \"gridcolor\": \"white\", \"linecolor\": \"white\", \"minorgridcolor\": \"white\", \"startlinecolor\": \"#2a3f5f\"}, \"baxis\": {\"endlinecolor\": \"#2a3f5f\", \"gridcolor\": \"white\", \"linecolor\": \"white\", \"minorgridcolor\": \"white\", \"startlinecolor\": \"#2a3f5f\"}, \"type\": \"carpet\"}], \"choropleth\": [{\"colorbar\": {\"outlinewidth\": 0, \"ticks\": \"\"}, \"type\": \"choropleth\"}], \"contour\": [{\"colorbar\": {\"outlinewidth\": 0, \"ticks\": \"\"}, \"colorscale\": [[0.0, \"#0d0887\"], [0.1111111111111111, \"#46039f\"], [0.2222222222222222, \"#7201a8\"], [0.3333333333333333, \"#9c179e\"], [0.4444444444444444, \"#bd3786\"], [0.5555555555555556, \"#d8576b\"], [0.6666666666666666, \"#ed7953\"], [0.7777777777777778, \"#fb9f3a\"], [0.8888888888888888, \"#fdca26\"], [1.0, \"#f0f921\"]], \"type\": \"contour\"}], \"contourcarpet\": [{\"colorbar\": {\"outlinewidth\": 0, \"ticks\": \"\"}, \"type\": \"contourcarpet\"}], \"heatmap\": [{\"colorbar\": {\"outlinewidth\": 0, \"ticks\": \"\"}, \"colorscale\": [[0.0, \"#0d0887\"], [0.1111111111111111, \"#46039f\"], [0.2222222222222222, \"#7201a8\"], [0.3333333333333333, \"#9c179e\"], [0.4444444444444444, \"#bd3786\"], [0.5555555555555556, \"#d8576b\"], [0.6666666666666666, \"#ed7953\"], [0.7777777777777778, \"#fb9f3a\"], [0.8888888888888888, \"#fdca26\"], [1.0, \"#f0f921\"]], \"type\": \"heatmap\"}], \"heatmapgl\": [{\"colorbar\": {\"outlinewidth\": 0, \"ticks\": \"\"}, \"colorscale\": [[0.0, \"#0d0887\"], [0.1111111111111111, \"#46039f\"], [0.2222222222222222, \"#7201a8\"], [0.3333333333333333, \"#9c179e\"], [0.4444444444444444, \"#bd3786\"], [0.5555555555555556, \"#d8576b\"], [0.6666666666666666, \"#ed7953\"], [0.7777777777777778, \"#fb9f3a\"], [0.8888888888888888, \"#fdca26\"], [1.0, \"#f0f921\"]], \"type\": \"heatmapgl\"}], \"histogram\": [{\"marker\": {\"colorbar\": {\"outlinewidth\": 0, \"ticks\": \"\"}}, \"type\": \"histogram\"}], \"histogram2d\": [{\"colorbar\": {\"outlinewidth\": 0, \"ticks\": \"\"}, \"colorscale\": [[0.0, \"#0d0887\"], [0.1111111111111111, \"#46039f\"], [0.2222222222222222, \"#7201a8\"], [0.3333333333333333, \"#9c179e\"], [0.4444444444444444, \"#bd3786\"], [0.5555555555555556, \"#d8576b\"], [0.6666666666666666, \"#ed7953\"], [0.7777777777777778, \"#fb9f3a\"], [0.8888888888888888, \"#fdca26\"], [1.0, \"#f0f921\"]], \"type\": \"histogram2d\"}], \"histogram2dcontour\": [{\"colorbar\": {\"outlinewidth\": 0, \"ticks\": \"\"}, \"colorscale\": [[0.0, \"#0d0887\"], [0.1111111111111111, \"#46039f\"], [0.2222222222222222, \"#7201a8\"], [0.3333333333333333, \"#9c179e\"], [0.4444444444444444, \"#bd3786\"], [0.5555555555555556, \"#d8576b\"], [0.6666666666666666, \"#ed7953\"], [0.7777777777777778, \"#fb9f3a\"], [0.8888888888888888, \"#fdca26\"], [1.0, \"#f0f921\"]], \"type\": \"histogram2dcontour\"}], \"mesh3d\": [{\"colorbar\": {\"outlinewidth\": 0, \"ticks\": \"\"}, \"type\": \"mesh3d\"}], \"parcoords\": [{\"line\": {\"colorbar\": {\"outlinewidth\": 0, \"ticks\": \"\"}}, \"type\": \"parcoords\"}], \"pie\": [{\"automargin\": true, \"type\": \"pie\"}], \"scatter\": [{\"marker\": {\"colorbar\": {\"outlinewidth\": 0, \"ticks\": \"\"}}, \"type\": \"scatter\"}], \"scatter3d\": [{\"line\": {\"colorbar\": {\"outlinewidth\": 0, \"ticks\": \"\"}}, \"marker\": {\"colorbar\": {\"outlinewidth\": 0, \"ticks\": \"\"}}, \"type\": \"scatter3d\"}], \"scattercarpet\": [{\"marker\": {\"colorbar\": {\"outlinewidth\": 0, \"ticks\": \"\"}}, \"type\": \"scattercarpet\"}], \"scattergeo\": [{\"marker\": {\"colorbar\": {\"outlinewidth\": 0, \"ticks\": \"\"}}, \"type\": \"scattergeo\"}], \"scattergl\": [{\"marker\": {\"colorbar\": {\"outlinewidth\": 0, \"ticks\": \"\"}}, \"type\": \"scattergl\"}], \"scattermapbox\": [{\"marker\": {\"colorbar\": {\"outlinewidth\": 0, \"ticks\": \"\"}}, \"type\": \"scattermapbox\"}], \"scatterpolar\": [{\"marker\": {\"colorbar\": {\"outlinewidth\": 0, \"ticks\": \"\"}}, \"type\": \"scatterpolar\"}], \"scatterpolargl\": [{\"marker\": {\"colorbar\": {\"outlinewidth\": 0, \"ticks\": \"\"}}, \"type\": \"scatterpolargl\"}], \"scatterternary\": [{\"marker\": {\"colorbar\": {\"outlinewidth\": 0, \"ticks\": \"\"}}, \"type\": \"scatterternary\"}], \"surface\": [{\"colorbar\": {\"outlinewidth\": 0, \"ticks\": \"\"}, \"colorscale\": [[0.0, \"#0d0887\"], [0.1111111111111111, \"#46039f\"], [0.2222222222222222, \"#7201a8\"], [0.3333333333333333, \"#9c179e\"], [0.4444444444444444, \"#bd3786\"], [0.5555555555555556, \"#d8576b\"], [0.6666666666666666, \"#ed7953\"], [0.7777777777777778, \"#fb9f3a\"], [0.8888888888888888, \"#fdca26\"], [1.0, \"#f0f921\"]], \"type\": \"surface\"}], \"table\": [{\"cells\": {\"fill\": {\"color\": \"#EBF0F8\"}, \"line\": {\"color\": \"white\"}}, \"header\": {\"fill\": {\"color\": \"#C8D4E3\"}, \"line\": {\"color\": \"white\"}}, \"type\": \"table\"}]}, \"layout\": {\"annotationdefaults\": {\"arrowcolor\": \"#2a3f5f\", \"arrowhead\": 0, \"arrowwidth\": 1}, \"autotypenumbers\": \"strict\", \"coloraxis\": {\"colorbar\": {\"outlinewidth\": 0, \"ticks\": \"\"}}, \"colorscale\": {\"diverging\": [[0, \"#8e0152\"], [0.1, \"#c51b7d\"], [0.2, \"#de77ae\"], [0.3, \"#f1b6da\"], [0.4, \"#fde0ef\"], [0.5, \"#f7f7f7\"], [0.6, \"#e6f5d0\"], [0.7, \"#b8e186\"], [0.8, \"#7fbc41\"], [0.9, \"#4d9221\"], [1, \"#276419\"]], \"sequential\": [[0.0, \"#0d0887\"], [0.1111111111111111, \"#46039f\"], [0.2222222222222222, \"#7201a8\"], [0.3333333333333333, \"#9c179e\"], [0.4444444444444444, \"#bd3786\"], [0.5555555555555556, \"#d8576b\"], [0.6666666666666666, \"#ed7953\"], [0.7777777777777778, \"#fb9f3a\"], [0.8888888888888888, \"#fdca26\"], [1.0, \"#f0f921\"]], \"sequentialminus\": [[0.0, \"#0d0887\"], [0.1111111111111111, \"#46039f\"], [0.2222222222222222, \"#7201a8\"], [0.3333333333333333, \"#9c179e\"], [0.4444444444444444, \"#bd3786\"], [0.5555555555555556, \"#d8576b\"], [0.6666666666666666, \"#ed7953\"], [0.7777777777777778, \"#fb9f3a\"], [0.8888888888888888, \"#fdca26\"], [1.0, \"#f0f921\"]]}, \"colorway\": [\"#636efa\", \"#EF553B\", \"#00cc96\", \"#ab63fa\", \"#FFA15A\", \"#19d3f3\", \"#FF6692\", \"#B6E880\", \"#FF97FF\", \"#FECB52\"], \"font\": {\"color\": \"#2a3f5f\"}, \"geo\": {\"bgcolor\": \"white\", \"lakecolor\": \"white\", \"landcolor\": \"#E5ECF6\", \"showlakes\": true, \"showland\": true, \"subunitcolor\": \"white\"}, \"hoverlabel\": {\"align\": \"left\"}, \"hovermode\": \"closest\", \"mapbox\": {\"style\": \"light\"}, \"paper_bgcolor\": \"white\", \"plot_bgcolor\": \"#E5ECF6\", \"polar\": {\"angularaxis\": {\"gridcolor\": \"white\", \"linecolor\": \"white\", \"ticks\": \"\"}, \"bgcolor\": \"#E5ECF6\", \"radialaxis\": {\"gridcolor\": \"white\", \"linecolor\": \"white\", \"ticks\": \"\"}}, \"scene\": {\"xaxis\": {\"backgroundcolor\": \"#E5ECF6\", \"gridcolor\": \"white\", \"gridwidth\": 2, \"linecolor\": \"white\", \"showbackground\": true, \"ticks\": \"\", \"zerolinecolor\": \"white\"}, \"yaxis\": {\"backgroundcolor\": \"#E5ECF6\", \"gridcolor\": \"white\", \"gridwidth\": 2, \"linecolor\": \"white\", \"showbackground\": true, \"ticks\": \"\", \"zerolinecolor\": \"white\"}, \"zaxis\": {\"backgroundcolor\": \"#E5ECF6\", \"gridcolor\": \"white\", \"gridwidth\": 2, \"linecolor\": \"white\", \"showbackground\": true, \"ticks\": \"\", \"zerolinecolor\": \"white\"}}, \"shapedefaults\": {\"line\": {\"color\": \"#2a3f5f\"}}, \"ternary\": {\"aaxis\": {\"gridcolor\": \"white\", \"linecolor\": \"white\", \"ticks\": \"\"}, \"baxis\": {\"gridcolor\": \"white\", \"linecolor\": \"white\", \"ticks\": \"\"}, \"bgcolor\": \"#E5ECF6\", \"caxis\": {\"gridcolor\": \"white\", \"linecolor\": \"white\", \"ticks\": \"\"}}, \"title\": {\"x\": 0.05}, \"xaxis\": {\"automargin\": true, \"gridcolor\": \"white\", \"linecolor\": \"white\", \"ticks\": \"\", \"title\": {\"standoff\": 15}, \"zerolinecolor\": \"white\", \"zerolinewidth\": 2}, \"yaxis\": {\"automargin\": true, \"gridcolor\": \"white\", \"linecolor\": \"white\", \"ticks\": \"\", \"title\": {\"standoff\": 15}, \"zerolinecolor\": \"white\", \"zerolinewidth\": 2}}}, \"xaxis\": {\"title\": {\"text\": \"KMeans (KM-n4): tons recycling per household by label\"}, \"zeroline\": false}},                        {\"responsive\": true}                    ).then(function(){\n",
       "                            \n",
       "var gd = document.getElementById('7e3457c0-86d4-4379-a35a-60d754235098');\n",
       "var x = new MutationObserver(function (mutations, observer) {{\n",
       "        var display = window.getComputedStyle(gd).display;\n",
       "        if (!display || display === 'none') {{\n",
       "            console.log([gd, 'removed!']);\n",
       "            Plotly.purge(gd);\n",
       "            observer.disconnect();\n",
       "        }}\n",
       "}});\n",
       "\n",
       "// Listen for the removal of the full notebook cells\n",
       "var notebookContainer = gd.closest('#notebook-container');\n",
       "if (notebookContainer) {{\n",
       "    x.observe(notebookContainer, {childList: true});\n",
       "}}\n",
       "\n",
       "// Listen for the clearing of the current output cell\n",
       "var outputEl = gd.closest('.output');\n",
       "if (outputEl) {{\n",
       "    x.observe(outputEl, {childList: true});\n",
       "}}\n",
       "\n",
       "                        })                };                });            </script>        </div>"
      ]
     },
     "metadata": {},
     "output_type": "display_data"
    }
   ],
   "source": [
    "layout = Layout(\n",
    "    boxgap=0.1,\n",
    "    height = 600\n",
    ")\n",
    "fig = go.Figure(layout=layout)\n",
    "\n",
    "\n",
    "fig.add_trace(go.Box(\n",
    "    x=km_n4_label2['tons_recyclables/hh'],\n",
    "    name='km label 2',\n",
    "    marker_color='#FF4136'\n",
    "))\n",
    "fig.add_trace(go.Box(\n",
    "    x=km_n4_label0['tons_recyclables/hh'],\n",
    "    name='km label 0',\n",
    "    marker_color='#AA22AA'\n",
    "))\n",
    "fig.add_trace(go.Box(\n",
    "    x=km_n4_label3['tons_recyclables/hh'],\n",
    "    name='km label 3',\n",
    "    marker_color='#3D9970'\n",
    "))\n",
    "fig.add_trace(go.Box(\n",
    "    x=km_n4_label1['tons_recyclables/hh'],\n",
    "    name='km label 1',\n",
    "    marker_color='#FF851B'\n",
    "))\n",
    "\n",
    "fig.update_layout(\n",
    "    xaxis=dict(title='KMeans (KM-n4): tons recycling per household by label', zeroline=False),\n",
    "    boxmode='overlay'\n",
    ")\n",
    "\n",
    "fig.update_traces(orientation='h') # horizontal box plots\n",
    "\n",
    "fig.show()"
   ]
  },
  {
   "cell_type": "code",
   "execution_count": 69,
   "metadata": {
    "jupyter": {
     "source_hidden": true
    }
   },
   "outputs": [
    {
     "data": {
      "application/vnd.plotly.v1+json": {
       "config": {
        "plotlyServerURL": "https://plot.ly"
       },
       "data": [
        {
         "marker": {
          "color": "#ffaa00"
         },
         "name": "km label 4",
         "orientation": "h",
         "type": "box",
         "x": [
          0.3104374563282033,
          0.2996639895099165,
          0.3388474360254709,
          0.2414544383924628,
          0.26699507389162563,
          0.5111538052265451,
          0.26966966966966965,
          0.3985439173320808,
          0.2851798784029741,
          0.19951786211825706,
          0.3145121247529797,
          0.3416547788873039,
          0.4249750505386525,
          0.3595961588592121,
          0.3495532856558917,
          0.2972749793559042,
          0.3625360662494848,
          0.21457858769931668,
          0.3304998492721787,
          0.28239693004034244,
          0.3232672639503219,
          0.39925979478540014,
          0.230849478390462,
          0.24438679390963286,
          0.312268927237077,
          0.2100056529112493
         ]
        },
        {
         "marker": {
          "color": "#FF851B"
         },
         "name": "km label 1",
         "orientation": "h",
         "type": "box",
         "x": [
          0.2697325231675852,
          0.23163103822693695,
          0.29107540752902544,
          0.3542803112953669,
          0.3810518975482248,
          0.2583130346116807,
          0.3023595834176845,
          0.3040705967511869,
          0.22376009227220295,
          0.24440052700922266,
          0.30241325819309994,
          0.2233981094977959,
          0.3591376400184134,
          0.28419595745564835,
          0.22014862956893214,
          0.22839149254214444,
          0.3089887640449438,
          0.2631272789183207,
          0.2649777797513529,
          0.29462224136001924,
          0.3119270118251472,
          0.19637526652452025,
          0.2619952859799358,
          0.13574007220216608,
          0.2224014125014558,
          0.4506172839506172,
          0.23847019122609675,
          0.3052858683926645,
          0.30771173422401304,
          0.3160089627500977,
          0.3933438195350265,
          0.6861238639557763,
          0.15807802357684242,
          0.385239852398524,
          0.290139746208036,
          0.3412133891213389,
          0.18873085339168488,
          0.1846995647681373,
          0.3565902717338749,
          0.34416105724695856,
          0.29390551749008303,
          0.263075173957992,
          0.20118643712825668,
          0.2797202797202797,
          0.3720058065665608,
          0.19587882682601648,
          0.2586980920314253,
          0.316375462599529,
          0.24708774179758464,
          0.1602570095481749,
          0.30710319739613257,
          0.35494554550259644,
          0.21584137026676334,
          0.4249896288761786,
          0.2857142857142857,
          0.2247949493067839,
          0.3668104778719841,
          0.34945462609529065,
          0.3825761214100471,
          0.09551815047657676,
          0.2569799171907915,
          0.33877551020408164,
          0.3676549157816791,
          0.2915905146097034,
          0.20637721572301007,
          0.3473104616687844,
          0.1882999870456485,
          0.3414609106308711,
          0.2370429252782194,
          0.26962739619322273,
          0.3135883469505653,
          0.25082946250829463,
          0.24163892222771,
          0.42857142857142855,
          0.3655151141270821,
          0.2749711063322754,
          0.21727702193165604,
          0.2755881935194107,
          0.2236644452374827,
          0.2321836023496981,
          0.1789034825401092,
          0.2479274769212026,
          0.3721423802663481,
          0.2895544378149744,
          0.14672628691162812,
          0.2887537993920973,
          null,
          0.34508842221608177,
          0.3685193150722542,
          0.2553616484440706,
          0.13417666263611214,
          0.2927813100152125
         ]
        },
        {
         "marker": {
          "color": "#AA22AA"
         },
         "name": "km label 0",
         "orientation": "h",
         "type": "box",
         "x": [
          0.21564798630835336,
          0.5093768242848803,
          0.24991150363421355,
          0.2806419750018637,
          0.2500671232804595,
          0.3334672405547585,
          0.3862401254972268,
          0.2887368200544655,
          0.23653542242391976,
          0.2238331035410432,
          0.2970004917226685,
          0.15050655111737818,
          0.18481138119009347,
          0.1679056856614128,
          0.2674465510286406,
          0.2813397129186603,
          0.2348786885245901,
          0.6344222330570454,
          0.4364515320382419,
          0.3398419172050384,
          0.20452212957023733,
          0.3387952235621796,
          0.31561622191011235,
          0.1745196045048923,
          0.14408362409694372,
          0.2403881632351856,
          0.25173398612811104,
          0.31351334350280713,
          0.2787324566250414,
          0.25182746975590986,
          0.2279223367306269,
          0.332763642490913,
          0.24856156501726126,
          0.19501742488461904,
          0.2770155946635209,
          0.16806851849979265,
          0.16030534351145034,
          0.3239451114922813,
          0.24607876609161924,
          0.2269993898981268,
          0.2012035040552854,
          0.1865583491712942,
          0.10415970344261798,
          0.30852145617246285,
          0.24913516616221576,
          0.3912839894310847,
          0.3195199578341341,
          0.30096920341801914,
          0.2956005138086063,
          0.2711387828881301,
          0.1141990845713716,
          0.16577329471241475,
          0.3404153862456289,
          0.14806238804665994,
          0.19480846986037675,
          0.23666512623437275,
          0.2157337096521291,
          0.3619824788219849,
          null,
          null,
          0.211550339715874,
          0.16992785123127127,
          0.2343185033799717,
          0.3754226419493995,
          0.16186580174634846,
          0.4168434545634484,
          0.25274644460404416,
          0.1819563259792886,
          0.255141487552188,
          0.2951513366058209,
          0.05757307351638617,
          0.16357267950963222,
          0.25374494031905753,
          0.3342208753513554,
          0.39136381398983977,
          0.23703703703703705,
          0.3188747510061385,
          0.05973261643537019,
          0.21409921671018275,
          0.4604424596829458,
          0.3348839569659652,
          0.3378628950395885,
          0.2690157882662106,
          0.17439146382127374,
          0.1539275069704836,
          0.1761098188902805,
          0.30711889675736115,
          0.3713671681269631,
          0.11182001440975063,
          0.2801258715369902,
          0.1916503050787808,
          0.32190091907644025,
          0.18137837379052796,
          0.203267210397331,
          0.3240529290769804,
          0.20664802065404475,
          0.2735553583546484,
          0.18965067401072624,
          0.23973836560542236,
          0.16303210750784586,
          0.3129662621088965,
          0.31364049664513693,
          0.3597388777473089,
          0.3026734916749799,
          0.30266264339645543,
          0.1997075073123172,
          0.1814133809717912,
          0.2098051885889336,
          0.3640192539109505,
          0.2665212278219965,
          0.270033089710613,
          0.26347014724124906,
          0.36822955794866735,
          null,
          0.2638791885893436,
          0.3110132158590308,
          0.2883034869538455,
          0.2667857278565186,
          0.21340671738043784,
          0.1830964841178332,
          0.22420007355645455,
          0.27855903452205216,
          0.3717594178439842,
          0.26845583901658665,
          0.27735309412376496,
          0.3928842914847,
          0.3296084975869379,
          0.22496920640506776,
          0.2564865171085429,
          0.11599552564609936
         ]
        },
        {
         "marker": {
          "color": "#3D9970"
         },
         "name": "km label 3",
         "orientation": "h",
         "type": "box",
         "x": [
          0.2265608106020821,
          0.3252236807006219,
          0.2949371218988925,
          0.2521895769923598,
          0.2404929037182508,
          0.2936550300701043,
          0.10088925685502054,
          0.21040776080605286,
          0.18886147954423652,
          0.2569210208107936,
          0.25277474570868314,
          0.1251348042715842,
          0.20376359932977936,
          0.16651276327517125,
          0.10381866223225887,
          0.16330282129122484,
          0.2780745530798247,
          0.1443025857414446,
          0.2443170452880524,
          0.18932592211942167,
          0.2394829614494571,
          0.27096620359654555
         ]
        },
        {
         "marker": {
          "color": "#FF4136"
         },
         "name": "km label 2",
         "orientation": "h",
         "type": "box",
         "x": [
          0.16454746117257274
         ]
        }
       ],
       "layout": {
        "autosize": true,
        "boxgap": 0.1,
        "boxmode": "overlay",
        "template": {
         "data": {
          "bar": [
           {
            "error_x": {
             "color": "#2a3f5f"
            },
            "error_y": {
             "color": "#2a3f5f"
            },
            "marker": {
             "line": {
              "color": "#E5ECF6",
              "width": 0.5
             }
            },
            "type": "bar"
           }
          ],
          "barpolar": [
           {
            "marker": {
             "line": {
              "color": "#E5ECF6",
              "width": 0.5
             }
            },
            "type": "barpolar"
           }
          ],
          "carpet": [
           {
            "aaxis": {
             "endlinecolor": "#2a3f5f",
             "gridcolor": "white",
             "linecolor": "white",
             "minorgridcolor": "white",
             "startlinecolor": "#2a3f5f"
            },
            "baxis": {
             "endlinecolor": "#2a3f5f",
             "gridcolor": "white",
             "linecolor": "white",
             "minorgridcolor": "white",
             "startlinecolor": "#2a3f5f"
            },
            "type": "carpet"
           }
          ],
          "choropleth": [
           {
            "colorbar": {
             "outlinewidth": 0,
             "ticks": ""
            },
            "type": "choropleth"
           }
          ],
          "contour": [
           {
            "colorbar": {
             "outlinewidth": 0,
             "ticks": ""
            },
            "colorscale": [
             [
              0,
              "#0d0887"
             ],
             [
              0.1111111111111111,
              "#46039f"
             ],
             [
              0.2222222222222222,
              "#7201a8"
             ],
             [
              0.3333333333333333,
              "#9c179e"
             ],
             [
              0.4444444444444444,
              "#bd3786"
             ],
             [
              0.5555555555555556,
              "#d8576b"
             ],
             [
              0.6666666666666666,
              "#ed7953"
             ],
             [
              0.7777777777777778,
              "#fb9f3a"
             ],
             [
              0.8888888888888888,
              "#fdca26"
             ],
             [
              1,
              "#f0f921"
             ]
            ],
            "type": "contour"
           }
          ],
          "contourcarpet": [
           {
            "colorbar": {
             "outlinewidth": 0,
             "ticks": ""
            },
            "type": "contourcarpet"
           }
          ],
          "heatmap": [
           {
            "colorbar": {
             "outlinewidth": 0,
             "ticks": ""
            },
            "colorscale": [
             [
              0,
              "#0d0887"
             ],
             [
              0.1111111111111111,
              "#46039f"
             ],
             [
              0.2222222222222222,
              "#7201a8"
             ],
             [
              0.3333333333333333,
              "#9c179e"
             ],
             [
              0.4444444444444444,
              "#bd3786"
             ],
             [
              0.5555555555555556,
              "#d8576b"
             ],
             [
              0.6666666666666666,
              "#ed7953"
             ],
             [
              0.7777777777777778,
              "#fb9f3a"
             ],
             [
              0.8888888888888888,
              "#fdca26"
             ],
             [
              1,
              "#f0f921"
             ]
            ],
            "type": "heatmap"
           }
          ],
          "heatmapgl": [
           {
            "colorbar": {
             "outlinewidth": 0,
             "ticks": ""
            },
            "colorscale": [
             [
              0,
              "#0d0887"
             ],
             [
              0.1111111111111111,
              "#46039f"
             ],
             [
              0.2222222222222222,
              "#7201a8"
             ],
             [
              0.3333333333333333,
              "#9c179e"
             ],
             [
              0.4444444444444444,
              "#bd3786"
             ],
             [
              0.5555555555555556,
              "#d8576b"
             ],
             [
              0.6666666666666666,
              "#ed7953"
             ],
             [
              0.7777777777777778,
              "#fb9f3a"
             ],
             [
              0.8888888888888888,
              "#fdca26"
             ],
             [
              1,
              "#f0f921"
             ]
            ],
            "type": "heatmapgl"
           }
          ],
          "histogram": [
           {
            "marker": {
             "colorbar": {
              "outlinewidth": 0,
              "ticks": ""
             }
            },
            "type": "histogram"
           }
          ],
          "histogram2d": [
           {
            "colorbar": {
             "outlinewidth": 0,
             "ticks": ""
            },
            "colorscale": [
             [
              0,
              "#0d0887"
             ],
             [
              0.1111111111111111,
              "#46039f"
             ],
             [
              0.2222222222222222,
              "#7201a8"
             ],
             [
              0.3333333333333333,
              "#9c179e"
             ],
             [
              0.4444444444444444,
              "#bd3786"
             ],
             [
              0.5555555555555556,
              "#d8576b"
             ],
             [
              0.6666666666666666,
              "#ed7953"
             ],
             [
              0.7777777777777778,
              "#fb9f3a"
             ],
             [
              0.8888888888888888,
              "#fdca26"
             ],
             [
              1,
              "#f0f921"
             ]
            ],
            "type": "histogram2d"
           }
          ],
          "histogram2dcontour": [
           {
            "colorbar": {
             "outlinewidth": 0,
             "ticks": ""
            },
            "colorscale": [
             [
              0,
              "#0d0887"
             ],
             [
              0.1111111111111111,
              "#46039f"
             ],
             [
              0.2222222222222222,
              "#7201a8"
             ],
             [
              0.3333333333333333,
              "#9c179e"
             ],
             [
              0.4444444444444444,
              "#bd3786"
             ],
             [
              0.5555555555555556,
              "#d8576b"
             ],
             [
              0.6666666666666666,
              "#ed7953"
             ],
             [
              0.7777777777777778,
              "#fb9f3a"
             ],
             [
              0.8888888888888888,
              "#fdca26"
             ],
             [
              1,
              "#f0f921"
             ]
            ],
            "type": "histogram2dcontour"
           }
          ],
          "mesh3d": [
           {
            "colorbar": {
             "outlinewidth": 0,
             "ticks": ""
            },
            "type": "mesh3d"
           }
          ],
          "parcoords": [
           {
            "line": {
             "colorbar": {
              "outlinewidth": 0,
              "ticks": ""
             }
            },
            "type": "parcoords"
           }
          ],
          "pie": [
           {
            "automargin": true,
            "type": "pie"
           }
          ],
          "scatter": [
           {
            "marker": {
             "colorbar": {
              "outlinewidth": 0,
              "ticks": ""
             }
            },
            "type": "scatter"
           }
          ],
          "scatter3d": [
           {
            "line": {
             "colorbar": {
              "outlinewidth": 0,
              "ticks": ""
             }
            },
            "marker": {
             "colorbar": {
              "outlinewidth": 0,
              "ticks": ""
             }
            },
            "type": "scatter3d"
           }
          ],
          "scattercarpet": [
           {
            "marker": {
             "colorbar": {
              "outlinewidth": 0,
              "ticks": ""
             }
            },
            "type": "scattercarpet"
           }
          ],
          "scattergeo": [
           {
            "marker": {
             "colorbar": {
              "outlinewidth": 0,
              "ticks": ""
             }
            },
            "type": "scattergeo"
           }
          ],
          "scattergl": [
           {
            "marker": {
             "colorbar": {
              "outlinewidth": 0,
              "ticks": ""
             }
            },
            "type": "scattergl"
           }
          ],
          "scattermapbox": [
           {
            "marker": {
             "colorbar": {
              "outlinewidth": 0,
              "ticks": ""
             }
            },
            "type": "scattermapbox"
           }
          ],
          "scatterpolar": [
           {
            "marker": {
             "colorbar": {
              "outlinewidth": 0,
              "ticks": ""
             }
            },
            "type": "scatterpolar"
           }
          ],
          "scatterpolargl": [
           {
            "marker": {
             "colorbar": {
              "outlinewidth": 0,
              "ticks": ""
             }
            },
            "type": "scatterpolargl"
           }
          ],
          "scatterternary": [
           {
            "marker": {
             "colorbar": {
              "outlinewidth": 0,
              "ticks": ""
             }
            },
            "type": "scatterternary"
           }
          ],
          "surface": [
           {
            "colorbar": {
             "outlinewidth": 0,
             "ticks": ""
            },
            "colorscale": [
             [
              0,
              "#0d0887"
             ],
             [
              0.1111111111111111,
              "#46039f"
             ],
             [
              0.2222222222222222,
              "#7201a8"
             ],
             [
              0.3333333333333333,
              "#9c179e"
             ],
             [
              0.4444444444444444,
              "#bd3786"
             ],
             [
              0.5555555555555556,
              "#d8576b"
             ],
             [
              0.6666666666666666,
              "#ed7953"
             ],
             [
              0.7777777777777778,
              "#fb9f3a"
             ],
             [
              0.8888888888888888,
              "#fdca26"
             ],
             [
              1,
              "#f0f921"
             ]
            ],
            "type": "surface"
           }
          ],
          "table": [
           {
            "cells": {
             "fill": {
              "color": "#EBF0F8"
             },
             "line": {
              "color": "white"
             }
            },
            "header": {
             "fill": {
              "color": "#C8D4E3"
             },
             "line": {
              "color": "white"
             }
            },
            "type": "table"
           }
          ]
         },
         "layout": {
          "annotationdefaults": {
           "arrowcolor": "#2a3f5f",
           "arrowhead": 0,
           "arrowwidth": 1
          },
          "autotypenumbers": "strict",
          "coloraxis": {
           "colorbar": {
            "outlinewidth": 0,
            "ticks": ""
           }
          },
          "colorscale": {
           "diverging": [
            [
             0,
             "#8e0152"
            ],
            [
             0.1,
             "#c51b7d"
            ],
            [
             0.2,
             "#de77ae"
            ],
            [
             0.3,
             "#f1b6da"
            ],
            [
             0.4,
             "#fde0ef"
            ],
            [
             0.5,
             "#f7f7f7"
            ],
            [
             0.6,
             "#e6f5d0"
            ],
            [
             0.7,
             "#b8e186"
            ],
            [
             0.8,
             "#7fbc41"
            ],
            [
             0.9,
             "#4d9221"
            ],
            [
             1,
             "#276419"
            ]
           ],
           "sequential": [
            [
             0,
             "#0d0887"
            ],
            [
             0.1111111111111111,
             "#46039f"
            ],
            [
             0.2222222222222222,
             "#7201a8"
            ],
            [
             0.3333333333333333,
             "#9c179e"
            ],
            [
             0.4444444444444444,
             "#bd3786"
            ],
            [
             0.5555555555555556,
             "#d8576b"
            ],
            [
             0.6666666666666666,
             "#ed7953"
            ],
            [
             0.7777777777777778,
             "#fb9f3a"
            ],
            [
             0.8888888888888888,
             "#fdca26"
            ],
            [
             1,
             "#f0f921"
            ]
           ],
           "sequentialminus": [
            [
             0,
             "#0d0887"
            ],
            [
             0.1111111111111111,
             "#46039f"
            ],
            [
             0.2222222222222222,
             "#7201a8"
            ],
            [
             0.3333333333333333,
             "#9c179e"
            ],
            [
             0.4444444444444444,
             "#bd3786"
            ],
            [
             0.5555555555555556,
             "#d8576b"
            ],
            [
             0.6666666666666666,
             "#ed7953"
            ],
            [
             0.7777777777777778,
             "#fb9f3a"
            ],
            [
             0.8888888888888888,
             "#fdca26"
            ],
            [
             1,
             "#f0f921"
            ]
           ]
          },
          "colorway": [
           "#636efa",
           "#EF553B",
           "#00cc96",
           "#ab63fa",
           "#FFA15A",
           "#19d3f3",
           "#FF6692",
           "#B6E880",
           "#FF97FF",
           "#FECB52"
          ],
          "font": {
           "color": "#2a3f5f"
          },
          "geo": {
           "bgcolor": "white",
           "lakecolor": "white",
           "landcolor": "#E5ECF6",
           "showlakes": true,
           "showland": true,
           "subunitcolor": "white"
          },
          "hoverlabel": {
           "align": "left"
          },
          "hovermode": "closest",
          "mapbox": {
           "style": "light"
          },
          "paper_bgcolor": "white",
          "plot_bgcolor": "#E5ECF6",
          "polar": {
           "angularaxis": {
            "gridcolor": "white",
            "linecolor": "white",
            "ticks": ""
           },
           "bgcolor": "#E5ECF6",
           "radialaxis": {
            "gridcolor": "white",
            "linecolor": "white",
            "ticks": ""
           }
          },
          "scene": {
           "xaxis": {
            "backgroundcolor": "#E5ECF6",
            "gridcolor": "white",
            "gridwidth": 2,
            "linecolor": "white",
            "showbackground": true,
            "ticks": "",
            "zerolinecolor": "white"
           },
           "yaxis": {
            "backgroundcolor": "#E5ECF6",
            "gridcolor": "white",
            "gridwidth": 2,
            "linecolor": "white",
            "showbackground": true,
            "ticks": "",
            "zerolinecolor": "white"
           },
           "zaxis": {
            "backgroundcolor": "#E5ECF6",
            "gridcolor": "white",
            "gridwidth": 2,
            "linecolor": "white",
            "showbackground": true,
            "ticks": "",
            "zerolinecolor": "white"
           }
          },
          "shapedefaults": {
           "line": {
            "color": "#2a3f5f"
           }
          },
          "ternary": {
           "aaxis": {
            "gridcolor": "white",
            "linecolor": "white",
            "ticks": ""
           },
           "baxis": {
            "gridcolor": "white",
            "linecolor": "white",
            "ticks": ""
           },
           "bgcolor": "#E5ECF6",
           "caxis": {
            "gridcolor": "white",
            "linecolor": "white",
            "ticks": ""
           }
          },
          "title": {
           "x": 0.05
          },
          "xaxis": {
           "automargin": true,
           "gridcolor": "white",
           "linecolor": "white",
           "ticks": "",
           "title": {
            "standoff": 15
           },
           "zerolinecolor": "white",
           "zerolinewidth": 2
          },
          "yaxis": {
           "automargin": true,
           "gridcolor": "white",
           "linecolor": "white",
           "ticks": "",
           "title": {
            "standoff": 15
           },
           "zerolinecolor": "white",
           "zerolinewidth": 2
          }
         }
        },
        "xaxis": {
         "autorange": true,
         "range": [
          0.022653585158642277,
          0.7210433523135202
         ],
         "title": {
          "text": "KMeans (KM-n5): percent recycling per household by label"
         },
         "type": "linear",
         "zeroline": false
        },
        "yaxis": {
         "autorange": true,
         "range": [
          -0.5,
          4.5
         ],
         "type": "category"
        }
       }
      },
      "image/png": "[encoded data removed]",
      "text/html": [
       "<div>                            <div id=\"e6425fb9-f5e3-4fd7-bee9-7edc9cffe51a\" class=\"plotly-graph-div\" style=\"height:600px; width:100%;\"></div>            <script type=\"text/javascript\">                require([\"plotly\"], function(Plotly) {                    window.PLOTLYENV=window.PLOTLYENV || {};                                    if (document.getElementById(\"e6425fb9-f5e3-4fd7-bee9-7edc9cffe51a\")) {                    Plotly.newPlot(                        \"e6425fb9-f5e3-4fd7-bee9-7edc9cffe51a\",                        [{\"marker\": {\"color\": \"#ffaa00\"}, \"name\": \"km label 4\", \"orientation\": \"h\", \"type\": \"box\", \"x\": [0.3104374563282033, 0.2996639895099165, 0.3388474360254709, 0.2414544383924628, 0.26699507389162563, 0.5111538052265451, 0.26966966966966965, 0.3985439173320808, 0.2851798784029741, 0.19951786211825706, 0.3145121247529797, 0.3416547788873039, 0.4249750505386525, 0.3595961588592121, 0.3495532856558917, 0.2972749793559042, 0.3625360662494848, 0.21457858769931668, 0.3304998492721787, 0.28239693004034244, 0.3232672639503219, 0.39925979478540014, 0.230849478390462, 0.24438679390963286, 0.312268927237077, 0.2100056529112493]}, {\"marker\": {\"color\": \"#FF851B\"}, \"name\": \"km label 1\", \"orientation\": \"h\", \"type\": \"box\", \"x\": [0.2697325231675852, 0.23163103822693695, 0.29107540752902544, 0.3542803112953669, 0.3810518975482248, 0.2583130346116807, 0.3023595834176845, 0.3040705967511869, 0.22376009227220295, 0.24440052700922266, 0.30241325819309994, 0.2233981094977959, 0.3591376400184134, 0.28419595745564835, 0.22014862956893214, 0.22839149254214444, 0.3089887640449438, 0.2631272789183207, 0.2649777797513529, 0.29462224136001924, 0.3119270118251472, 0.19637526652452025, 0.2619952859799358, 0.13574007220216608, 0.2224014125014558, 0.4506172839506172, 0.23847019122609675, 0.3052858683926645, 0.30771173422401304, 0.3160089627500977, 0.3933438195350265, 0.6861238639557763, 0.15807802357684242, 0.385239852398524, 0.290139746208036, 0.3412133891213389, 0.18873085339168488, 0.1846995647681373, 0.3565902717338749, 0.34416105724695856, 0.29390551749008303, 0.263075173957992, 0.20118643712825668, 0.2797202797202797, 0.3720058065665608, 0.19587882682601648, 0.2586980920314253, 0.316375462599529, 0.24708774179758464, 0.1602570095481749, 0.30710319739613257, 0.35494554550259644, 0.21584137026676334, 0.4249896288761786, 0.2857142857142857, 0.2247949493067839, 0.3668104778719841, 0.34945462609529065, 0.3825761214100471, 0.09551815047657676, 0.2569799171907915, 0.33877551020408164, 0.3676549157816791, 0.2915905146097034, 0.20637721572301007, 0.3473104616687844, 0.1882999870456485, 0.3414609106308711, 0.2370429252782194, 0.26962739619322273, 0.3135883469505653, 0.25082946250829463, 0.24163892222771, 0.42857142857142855, 0.3655151141270821, 0.2749711063322754, 0.21727702193165604, 0.2755881935194107, 0.2236644452374827, 0.2321836023496981, 0.1789034825401092, 0.2479274769212026, 0.3721423802663481, 0.2895544378149744, 0.14672628691162812, 0.2887537993920973, null, 0.34508842221608177, 0.3685193150722542, 0.2553616484440706, 0.13417666263611214, 0.2927813100152125]}, {\"marker\": {\"color\": \"#AA22AA\"}, \"name\": \"km label 0\", \"orientation\": \"h\", \"type\": \"box\", \"x\": [0.21564798630835336, 0.5093768242848803, 0.24991150363421355, 0.2806419750018637, 0.2500671232804595, 0.3334672405547585, 0.3862401254972268, 0.2887368200544655, 0.23653542242391976, 0.2238331035410432, 0.2970004917226685, 0.15050655111737818, 0.18481138119009347, 0.1679056856614128, 0.2674465510286406, 0.2813397129186603, 0.2348786885245901, 0.6344222330570454, 0.4364515320382419, 0.3398419172050384, 0.20452212957023733, 0.3387952235621796, 0.31561622191011235, 0.1745196045048923, 0.14408362409694372, 0.2403881632351856, 0.25173398612811104, 0.31351334350280713, 0.2787324566250414, 0.25182746975590986, 0.2279223367306269, 0.332763642490913, 0.24856156501726126, 0.19501742488461904, 0.2770155946635209, 0.16806851849979265, 0.16030534351145034, 0.3239451114922813, 0.24607876609161924, 0.2269993898981268, 0.2012035040552854, 0.1865583491712942, 0.10415970344261798, 0.30852145617246285, 0.24913516616221576, 0.3912839894310847, 0.3195199578341341, 0.30096920341801914, 0.2956005138086063, 0.2711387828881301, 0.1141990845713716, 0.16577329471241475, 0.3404153862456289, 0.14806238804665994, 0.19480846986037675, 0.23666512623437275, 0.2157337096521291, 0.3619824788219849, null, null, 0.211550339715874, 0.16992785123127127, 0.2343185033799717, 0.3754226419493995, 0.16186580174634846, 0.4168434545634484, 0.25274644460404416, 0.1819563259792886, 0.255141487552188, 0.2951513366058209, 0.05757307351638617, 0.16357267950963222, 0.25374494031905753, 0.3342208753513554, 0.39136381398983977, 0.23703703703703705, 0.3188747510061385, 0.05973261643537019, 0.21409921671018275, 0.4604424596829458, 0.3348839569659652, 0.3378628950395885, 0.2690157882662106, 0.17439146382127374, 0.1539275069704836, 0.1761098188902805, 0.30711889675736115, 0.3713671681269631, 0.11182001440975063, 0.2801258715369902, 0.1916503050787808, 0.32190091907644025, 0.18137837379052796, 0.203267210397331, 0.3240529290769804, 0.20664802065404475, 0.2735553583546484, 0.18965067401072624, 0.23973836560542236, 0.16303210750784586, 0.3129662621088965, 0.31364049664513693, 0.3597388777473089, 0.3026734916749799, 0.30266264339645543, 0.1997075073123172, 0.1814133809717912, 0.2098051885889336, 0.3640192539109505, 0.2665212278219965, 0.270033089710613, 0.26347014724124906, 0.36822955794866735, null, 0.2638791885893436, 0.3110132158590308, 0.2883034869538455, 0.2667857278565186, 0.21340671738043784, 0.1830964841178332, 0.22420007355645455, 0.27855903452205216, 0.3717594178439842, 0.26845583901658665, 0.27735309412376496, 0.3928842914847, 0.3296084975869379, 0.22496920640506776, 0.2564865171085429, 0.11599552564609936]}, {\"marker\": {\"color\": \"#3D9970\"}, \"name\": \"km label 3\", \"orientation\": \"h\", \"type\": \"box\", \"x\": [0.2265608106020821, 0.3252236807006219, 0.2949371218988925, 0.2521895769923598, 0.2404929037182508, 0.2936550300701043, 0.10088925685502054, 0.21040776080605286, 0.18886147954423652, 0.2569210208107936, 0.25277474570868314, 0.1251348042715842, 0.20376359932977936, 0.16651276327517125, 0.10381866223225887, 0.16330282129122484, 0.2780745530798247, 0.1443025857414446, 0.2443170452880524, 0.18932592211942167, 0.2394829614494571, 0.27096620359654555]}, {\"marker\": {\"color\": \"#FF4136\"}, \"name\": \"km label 2\", \"orientation\": \"h\", \"type\": \"box\", \"x\": [0.16454746117257274]}],                        {\"boxgap\": 0.1, \"boxmode\": \"overlay\", \"height\": 600, \"template\": {\"data\": {\"bar\": [{\"error_x\": {\"color\": \"#2a3f5f\"}, \"error_y\": {\"color\": \"#2a3f5f\"}, \"marker\": {\"line\": {\"color\": \"#E5ECF6\", \"width\": 0.5}}, \"type\": \"bar\"}], \"barpolar\": [{\"marker\": {\"line\": {\"color\": \"#E5ECF6\", \"width\": 0.5}}, \"type\": \"barpolar\"}], \"carpet\": [{\"aaxis\": {\"endlinecolor\": \"#2a3f5f\", \"gridcolor\": \"white\", \"linecolor\": \"white\", \"minorgridcolor\": \"white\", \"startlinecolor\": \"#2a3f5f\"}, \"baxis\": {\"endlinecolor\": \"#2a3f5f\", \"gridcolor\": \"white\", \"linecolor\": \"white\", \"minorgridcolor\": \"white\", \"startlinecolor\": \"#2a3f5f\"}, \"type\": \"carpet\"}], \"choropleth\": [{\"colorbar\": {\"outlinewidth\": 0, \"ticks\": \"\"}, \"type\": \"choropleth\"}], \"contour\": [{\"colorbar\": {\"outlinewidth\": 0, \"ticks\": \"\"}, \"colorscale\": [[0.0, \"#0d0887\"], [0.1111111111111111, \"#46039f\"], [0.2222222222222222, \"#7201a8\"], [0.3333333333333333, \"#9c179e\"], [0.4444444444444444, \"#bd3786\"], [0.5555555555555556, \"#d8576b\"], [0.6666666666666666, \"#ed7953\"], [0.7777777777777778, \"#fb9f3a\"], [0.8888888888888888, \"#fdca26\"], [1.0, \"#f0f921\"]], \"type\": \"contour\"}], \"contourcarpet\": [{\"colorbar\": {\"outlinewidth\": 0, \"ticks\": \"\"}, \"type\": \"contourcarpet\"}], \"heatmap\": [{\"colorbar\": {\"outlinewidth\": 0, \"ticks\": \"\"}, \"colorscale\": [[0.0, \"#0d0887\"], [0.1111111111111111, \"#46039f\"], [0.2222222222222222, \"#7201a8\"], [0.3333333333333333, \"#9c179e\"], [0.4444444444444444, \"#bd3786\"], [0.5555555555555556, \"#d8576b\"], [0.6666666666666666, \"#ed7953\"], [0.7777777777777778, \"#fb9f3a\"], [0.8888888888888888, \"#fdca26\"], [1.0, \"#f0f921\"]], \"type\": \"heatmap\"}], \"heatmapgl\": [{\"colorbar\": {\"outlinewidth\": 0, \"ticks\": \"\"}, \"colorscale\": [[0.0, \"#0d0887\"], [0.1111111111111111, \"#46039f\"], [0.2222222222222222, \"#7201a8\"], [0.3333333333333333, \"#9c179e\"], [0.4444444444444444, \"#bd3786\"], [0.5555555555555556, \"#d8576b\"], [0.6666666666666666, \"#ed7953\"], [0.7777777777777778, \"#fb9f3a\"], [0.8888888888888888, \"#fdca26\"], [1.0, \"#f0f921\"]], \"type\": \"heatmapgl\"}], \"histogram\": [{\"marker\": {\"colorbar\": {\"outlinewidth\": 0, \"ticks\": \"\"}}, \"type\": \"histogram\"}], \"histogram2d\": [{\"colorbar\": {\"outlinewidth\": 0, \"ticks\": \"\"}, \"colorscale\": [[0.0, \"#0d0887\"], [0.1111111111111111, \"#46039f\"], [0.2222222222222222, \"#7201a8\"], [0.3333333333333333, \"#9c179e\"], [0.4444444444444444, \"#bd3786\"], [0.5555555555555556, \"#d8576b\"], [0.6666666666666666, \"#ed7953\"], [0.7777777777777778, \"#fb9f3a\"], [0.8888888888888888, \"#fdca26\"], [1.0, \"#f0f921\"]], \"type\": \"histogram2d\"}], \"histogram2dcontour\": [{\"colorbar\": {\"outlinewidth\": 0, \"ticks\": \"\"}, \"colorscale\": [[0.0, \"#0d0887\"], [0.1111111111111111, \"#46039f\"], [0.2222222222222222, \"#7201a8\"], [0.3333333333333333, \"#9c179e\"], [0.4444444444444444, \"#bd3786\"], [0.5555555555555556, \"#d8576b\"], [0.6666666666666666, \"#ed7953\"], [0.7777777777777778, \"#fb9f3a\"], [0.8888888888888888, \"#fdca26\"], [1.0, \"#f0f921\"]], \"type\": \"histogram2dcontour\"}], \"mesh3d\": [{\"colorbar\": {\"outlinewidth\": 0, \"ticks\": \"\"}, \"type\": \"mesh3d\"}], \"parcoords\": [{\"line\": {\"colorbar\": {\"outlinewidth\": 0, \"ticks\": \"\"}}, \"type\": \"parcoords\"}], \"pie\": [{\"automargin\": true, \"type\": \"pie\"}], \"scatter\": [{\"marker\": {\"colorbar\": {\"outlinewidth\": 0, \"ticks\": \"\"}}, \"type\": \"scatter\"}], \"scatter3d\": [{\"line\": {\"colorbar\": {\"outlinewidth\": 0, \"ticks\": \"\"}}, \"marker\": {\"colorbar\": {\"outlinewidth\": 0, \"ticks\": \"\"}}, \"type\": \"scatter3d\"}], \"scattercarpet\": [{\"marker\": {\"colorbar\": {\"outlinewidth\": 0, \"ticks\": \"\"}}, \"type\": \"scattercarpet\"}], \"scattergeo\": [{\"marker\": {\"colorbar\": {\"outlinewidth\": 0, \"ticks\": \"\"}}, \"type\": \"scattergeo\"}], \"scattergl\": [{\"marker\": {\"colorbar\": {\"outlinewidth\": 0, \"ticks\": \"\"}}, \"type\": \"scattergl\"}], \"scattermapbox\": [{\"marker\": {\"colorbar\": {\"outlinewidth\": 0, \"ticks\": \"\"}}, \"type\": \"scattermapbox\"}], \"scatterpolar\": [{\"marker\": {\"colorbar\": {\"outlinewidth\": 0, \"ticks\": \"\"}}, \"type\": \"scatterpolar\"}], \"scatterpolargl\": [{\"marker\": {\"colorbar\": {\"outlinewidth\": 0, \"ticks\": \"\"}}, \"type\": \"scatterpolargl\"}], \"scatterternary\": [{\"marker\": {\"colorbar\": {\"outlinewidth\": 0, \"ticks\": \"\"}}, \"type\": \"scatterternary\"}], \"surface\": [{\"colorbar\": {\"outlinewidth\": 0, \"ticks\": \"\"}, \"colorscale\": [[0.0, \"#0d0887\"], [0.1111111111111111, \"#46039f\"], [0.2222222222222222, \"#7201a8\"], [0.3333333333333333, \"#9c179e\"], [0.4444444444444444, \"#bd3786\"], [0.5555555555555556, \"#d8576b\"], [0.6666666666666666, \"#ed7953\"], [0.7777777777777778, \"#fb9f3a\"], [0.8888888888888888, \"#fdca26\"], [1.0, \"#f0f921\"]], \"type\": \"surface\"}], \"table\": [{\"cells\": {\"fill\": {\"color\": \"#EBF0F8\"}, \"line\": {\"color\": \"white\"}}, \"header\": {\"fill\": {\"color\": \"#C8D4E3\"}, \"line\": {\"color\": \"white\"}}, \"type\": \"table\"}]}, \"layout\": {\"annotationdefaults\": {\"arrowcolor\": \"#2a3f5f\", \"arrowhead\": 0, \"arrowwidth\": 1}, \"autotypenumbers\": \"strict\", \"coloraxis\": {\"colorbar\": {\"outlinewidth\": 0, \"ticks\": \"\"}}, \"colorscale\": {\"diverging\": [[0, \"#8e0152\"], [0.1, \"#c51b7d\"], [0.2, \"#de77ae\"], [0.3, \"#f1b6da\"], [0.4, \"#fde0ef\"], [0.5, \"#f7f7f7\"], [0.6, \"#e6f5d0\"], [0.7, \"#b8e186\"], [0.8, \"#7fbc41\"], [0.9, \"#4d9221\"], [1, \"#276419\"]], \"sequential\": [[0.0, \"#0d0887\"], [0.1111111111111111, \"#46039f\"], [0.2222222222222222, \"#7201a8\"], [0.3333333333333333, \"#9c179e\"], [0.4444444444444444, \"#bd3786\"], [0.5555555555555556, \"#d8576b\"], [0.6666666666666666, \"#ed7953\"], [0.7777777777777778, \"#fb9f3a\"], [0.8888888888888888, \"#fdca26\"], [1.0, \"#f0f921\"]], \"sequentialminus\": [[0.0, \"#0d0887\"], [0.1111111111111111, \"#46039f\"], [0.2222222222222222, \"#7201a8\"], [0.3333333333333333, \"#9c179e\"], [0.4444444444444444, \"#bd3786\"], [0.5555555555555556, \"#d8576b\"], [0.6666666666666666, \"#ed7953\"], [0.7777777777777778, \"#fb9f3a\"], [0.8888888888888888, \"#fdca26\"], [1.0, \"#f0f921\"]]}, \"colorway\": [\"#636efa\", \"#EF553B\", \"#00cc96\", \"#ab63fa\", \"#FFA15A\", \"#19d3f3\", \"#FF6692\", \"#B6E880\", \"#FF97FF\", \"#FECB52\"], \"font\": {\"color\": \"#2a3f5f\"}, \"geo\": {\"bgcolor\": \"white\", \"lakecolor\": \"white\", \"landcolor\": \"#E5ECF6\", \"showlakes\": true, \"showland\": true, \"subunitcolor\": \"white\"}, \"hoverlabel\": {\"align\": \"left\"}, \"hovermode\": \"closest\", \"mapbox\": {\"style\": \"light\"}, \"paper_bgcolor\": \"white\", \"plot_bgcolor\": \"#E5ECF6\", \"polar\": {\"angularaxis\": {\"gridcolor\": \"white\", \"linecolor\": \"white\", \"ticks\": \"\"}, \"bgcolor\": \"#E5ECF6\", \"radialaxis\": {\"gridcolor\": \"white\", \"linecolor\": \"white\", \"ticks\": \"\"}}, \"scene\": {\"xaxis\": {\"backgroundcolor\": \"#E5ECF6\", \"gridcolor\": \"white\", \"gridwidth\": 2, \"linecolor\": \"white\", \"showbackground\": true, \"ticks\": \"\", \"zerolinecolor\": \"white\"}, \"yaxis\": {\"backgroundcolor\": \"#E5ECF6\", \"gridcolor\": \"white\", \"gridwidth\": 2, \"linecolor\": \"white\", \"showbackground\": true, \"ticks\": \"\", \"zerolinecolor\": \"white\"}, \"zaxis\": {\"backgroundcolor\": \"#E5ECF6\", \"gridcolor\": \"white\", \"gridwidth\": 2, \"linecolor\": \"white\", \"showbackground\": true, \"ticks\": \"\", \"zerolinecolor\": \"white\"}}, \"shapedefaults\": {\"line\": {\"color\": \"#2a3f5f\"}}, \"ternary\": {\"aaxis\": {\"gridcolor\": \"white\", \"linecolor\": \"white\", \"ticks\": \"\"}, \"baxis\": {\"gridcolor\": \"white\", \"linecolor\": \"white\", \"ticks\": \"\"}, \"bgcolor\": \"#E5ECF6\", \"caxis\": {\"gridcolor\": \"white\", \"linecolor\": \"white\", \"ticks\": \"\"}}, \"title\": {\"x\": 0.05}, \"xaxis\": {\"automargin\": true, \"gridcolor\": \"white\", \"linecolor\": \"white\", \"ticks\": \"\", \"title\": {\"standoff\": 15}, \"zerolinecolor\": \"white\", \"zerolinewidth\": 2}, \"yaxis\": {\"automargin\": true, \"gridcolor\": \"white\", \"linecolor\": \"white\", \"ticks\": \"\", \"title\": {\"standoff\": 15}, \"zerolinecolor\": \"white\", \"zerolinewidth\": 2}}}, \"xaxis\": {\"title\": {\"text\": \"KMeans (KM-n5): percent recycling per household by label\"}, \"zeroline\": false}},                        {\"responsive\": true}                    ).then(function(){\n",
       "                            \n",
       "var gd = document.getElementById('e6425fb9-f5e3-4fd7-bee9-7edc9cffe51a');\n",
       "var x = new MutationObserver(function (mutations, observer) {{\n",
       "        var display = window.getComputedStyle(gd).display;\n",
       "        if (!display || display === 'none') {{\n",
       "            console.log([gd, 'removed!']);\n",
       "            Plotly.purge(gd);\n",
       "            observer.disconnect();\n",
       "        }}\n",
       "}});\n",
       "\n",
       "// Listen for the removal of the full notebook cells\n",
       "var notebookContainer = gd.closest('#notebook-container');\n",
       "if (notebookContainer) {{\n",
       "    x.observe(notebookContainer, {childList: true});\n",
       "}}\n",
       "\n",
       "// Listen for the clearing of the current output cell\n",
       "var outputEl = gd.closest('.output');\n",
       "if (outputEl) {{\n",
       "    x.observe(outputEl, {childList: true});\n",
       "}}\n",
       "\n",
       "                        })                };                });            </script>        </div>"
      ]
     },
     "metadata": {},
     "output_type": "display_data"
    }
   ],
   "source": [
    "layout = Layout(\n",
    "    boxgap=0.1,\n",
    "    height = 600\n",
    ")\n",
    "fig = go.Figure(layout=layout)\n",
    "\n",
    "fig.add_trace(go.Box(\n",
    "    x=km_n5_label4['%recycle/hh'],\n",
    "    name='km label 4',\n",
    "    marker_color='#ffaa00'\n",
    "))\n",
    "fig.add_trace(go.Box(\n",
    "    x=km_n5_label1['%recycle/hh'],\n",
    "    name='km label 1',\n",
    "    marker_color='#FF851B'\n",
    "))\n",
    "fig.add_trace(go.Box(\n",
    "    x=km_n5_label0['%recycle/hh'],\n",
    "    name='km label 0',\n",
    "    marker_color='#AA22AA'\n",
    "))\n",
    "fig.add_trace(go.Box(\n",
    "    x=km_n5_label3['%recycle/hh'],\n",
    "    name='km label 3',\n",
    "    marker_color='#3D9970'\n",
    "))\n",
    "fig.add_trace(go.Box(\n",
    "    x=km_n5_label2['%recycle/hh'],\n",
    "    name='km label 2',\n",
    "    marker_color='#FF4136'\n",
    "))\n",
    "\n",
    "fig.update_layout(\n",
    "    xaxis=dict(title='KMeans (KM-n5): percent recycling per household by label', zeroline=False),\n",
    "    boxmode='overlay'\n",
    ")\n",
    "\n",
    "fig.update_traces(orientation='h') # horizontal box plots\n",
    "\n",
    "fig.show()"
   ]
  },
  {
   "cell_type": "markdown",
   "metadata": {},
   "source": [
    "Again, the scaled data as muddled fences. Can't say if the un-trimmed data is better or worse than the trimmed data in any discernable way, although it does seem like the trimmed data has distributions which are less skewed. I'm dubious of the n4 and n5 schemes because in both cases, one label encompasses all the labels' fences."
   ]
  },
  {
   "cell_type": "markdown",
   "metadata": {},
   "source": [
    "So far, I think I like the Hierarchial-n5 schema best for hierarchial clustering and KMeans-trimmed or n5 best for KMeans clustering"
   ]
  },
  {
   "cell_type": "markdown",
   "metadata": {},
   "source": [
    "### Are the clusters statistically different?\n",
    "\n",
    "I want to assess clustering schemes by whether the individual labels' distributions for `%recycle/hh` are statistically different from the other labels in the same schema. I can get a sort of sense for it in box plot overlays but statistical testing would be more precise. Because the variances are very different and the distributions are probably not normal, I'm going to use the Mann-Whitney u test. I'll choose a confidence interval of 90% as this is still probably more than high enough for recycling application.\n",
    "\n",
    "Even if the clusters are not statistically different, it may still be worth assessing their predictive trends."
   ]
  },
  {
   "cell_type": "code",
   "execution_count": 70,
   "metadata": {},
   "outputs": [],
   "source": [
    "from scipy.stats import mannwhitneyu\n",
    "import numpy as np"
   ]
  },
  {
   "cell_type": "code",
   "execution_count": 71,
   "metadata": {},
   "outputs": [],
   "source": [
    "# function to determine statistical differences within labels\n",
    "\n",
    "def stat_difference(label_type, n):\n",
    "    mwu_res = pd.DataFrame(np.full((n, n), False))\n",
    "    for i in mwu_res.columns:\n",
    "        for j in mwu_res.index:\n",
    "            if i == j:\n",
    "                continue\n",
    "            exec(f\"if mannwhitneyu({label_type}{i}['%recycle/hh'], {label_type}{j}['%recycle/hh'], alternative='two-sided')[1] < 0.10: mwu_res.at[j,i] = True\")\n",
    "    return mwu_res"
   ]
  },
  {
   "cell_type": "code",
   "execution_count": 72,
   "metadata": {},
   "outputs": [],
   "source": [
    "# colors \"true\" values to make the table more readable\n",
    "def color_true_red(val):\n",
    "    color = 'red' if val == True else 'black'\n",
    "    return 'color: {}'.format(color)"
   ]
  },
  {
   "cell_type": "markdown",
   "metadata": {},
   "source": [
    "#### KMeans schemes"
   ]
  },
  {
   "cell_type": "code",
   "execution_count": 73,
   "metadata": {},
   "outputs": [
    {
     "data": {
      "text/html": [
       "<style  type=\"text/css\" >\n",
       "    #T_39560e91_852e_11eb_9911_5cf3709e0882row0_col0 {\n",
       "            color:  black;\n",
       "        }    #T_39560e91_852e_11eb_9911_5cf3709e0882row0_col1 {\n",
       "            color:  black;\n",
       "        }    #T_39560e91_852e_11eb_9911_5cf3709e0882row0_col2 {\n",
       "            color:  black;\n",
       "        }    #T_39560e91_852e_11eb_9911_5cf3709e0882row0_col3 {\n",
       "            color:  red;\n",
       "        }    #T_39560e91_852e_11eb_9911_5cf3709e0882row0_col4 {\n",
       "            color:  red;\n",
       "        }    #T_39560e91_852e_11eb_9911_5cf3709e0882row0_col5 {\n",
       "            color:  red;\n",
       "        }    #T_39560e91_852e_11eb_9911_5cf3709e0882row1_col0 {\n",
       "            color:  black;\n",
       "        }    #T_39560e91_852e_11eb_9911_5cf3709e0882row1_col1 {\n",
       "            color:  black;\n",
       "        }    #T_39560e91_852e_11eb_9911_5cf3709e0882row1_col2 {\n",
       "            color:  black;\n",
       "        }    #T_39560e91_852e_11eb_9911_5cf3709e0882row1_col3 {\n",
       "            color:  black;\n",
       "        }    #T_39560e91_852e_11eb_9911_5cf3709e0882row1_col4 {\n",
       "            color:  black;\n",
       "        }    #T_39560e91_852e_11eb_9911_5cf3709e0882row1_col5 {\n",
       "            color:  black;\n",
       "        }    #T_39560e91_852e_11eb_9911_5cf3709e0882row2_col0 {\n",
       "            color:  black;\n",
       "        }    #T_39560e91_852e_11eb_9911_5cf3709e0882row2_col1 {\n",
       "            color:  black;\n",
       "        }    #T_39560e91_852e_11eb_9911_5cf3709e0882row2_col2 {\n",
       "            color:  black;\n",
       "        }    #T_39560e91_852e_11eb_9911_5cf3709e0882row2_col3 {\n",
       "            color:  red;\n",
       "        }    #T_39560e91_852e_11eb_9911_5cf3709e0882row2_col4 {\n",
       "            color:  red;\n",
       "        }    #T_39560e91_852e_11eb_9911_5cf3709e0882row2_col5 {\n",
       "            color:  black;\n",
       "        }    #T_39560e91_852e_11eb_9911_5cf3709e0882row3_col0 {\n",
       "            color:  red;\n",
       "        }    #T_39560e91_852e_11eb_9911_5cf3709e0882row3_col1 {\n",
       "            color:  black;\n",
       "        }    #T_39560e91_852e_11eb_9911_5cf3709e0882row3_col2 {\n",
       "            color:  red;\n",
       "        }    #T_39560e91_852e_11eb_9911_5cf3709e0882row3_col3 {\n",
       "            color:  black;\n",
       "        }    #T_39560e91_852e_11eb_9911_5cf3709e0882row3_col4 {\n",
       "            color:  red;\n",
       "        }    #T_39560e91_852e_11eb_9911_5cf3709e0882row3_col5 {\n",
       "            color:  black;\n",
       "        }    #T_39560e91_852e_11eb_9911_5cf3709e0882row4_col0 {\n",
       "            color:  red;\n",
       "        }    #T_39560e91_852e_11eb_9911_5cf3709e0882row4_col1 {\n",
       "            color:  black;\n",
       "        }    #T_39560e91_852e_11eb_9911_5cf3709e0882row4_col2 {\n",
       "            color:  red;\n",
       "        }    #T_39560e91_852e_11eb_9911_5cf3709e0882row4_col3 {\n",
       "            color:  red;\n",
       "        }    #T_39560e91_852e_11eb_9911_5cf3709e0882row4_col4 {\n",
       "            color:  black;\n",
       "        }    #T_39560e91_852e_11eb_9911_5cf3709e0882row4_col5 {\n",
       "            color:  red;\n",
       "        }    #T_39560e91_852e_11eb_9911_5cf3709e0882row5_col0 {\n",
       "            color:  red;\n",
       "        }    #T_39560e91_852e_11eb_9911_5cf3709e0882row5_col1 {\n",
       "            color:  black;\n",
       "        }    #T_39560e91_852e_11eb_9911_5cf3709e0882row5_col2 {\n",
       "            color:  black;\n",
       "        }    #T_39560e91_852e_11eb_9911_5cf3709e0882row5_col3 {\n",
       "            color:  black;\n",
       "        }    #T_39560e91_852e_11eb_9911_5cf3709e0882row5_col4 {\n",
       "            color:  red;\n",
       "        }    #T_39560e91_852e_11eb_9911_5cf3709e0882row5_col5 {\n",
       "            color:  black;\n",
       "        }</style><table id=\"T_39560e91_852e_11eb_9911_5cf3709e0882\" ><thead>    <tr>        <th class=\"blank level0\" ></th>        <th class=\"col_heading level0 col0\" >0</th>        <th class=\"col_heading level0 col1\" >1</th>        <th class=\"col_heading level0 col2\" >2</th>        <th class=\"col_heading level0 col3\" >3</th>        <th class=\"col_heading level0 col4\" >4</th>        <th class=\"col_heading level0 col5\" >5</th>    </tr></thead><tbody>\n",
       "                <tr>\n",
       "                        <th id=\"T_39560e91_852e_11eb_9911_5cf3709e0882level0_row0\" class=\"row_heading level0 row0\" >0</th>\n",
       "                        <td id=\"T_39560e91_852e_11eb_9911_5cf3709e0882row0_col0\" class=\"data row0 col0\" >False</td>\n",
       "                        <td id=\"T_39560e91_852e_11eb_9911_5cf3709e0882row0_col1\" class=\"data row0 col1\" >False</td>\n",
       "                        <td id=\"T_39560e91_852e_11eb_9911_5cf3709e0882row0_col2\" class=\"data row0 col2\" >False</td>\n",
       "                        <td id=\"T_39560e91_852e_11eb_9911_5cf3709e0882row0_col3\" class=\"data row0 col3\" >True</td>\n",
       "                        <td id=\"T_39560e91_852e_11eb_9911_5cf3709e0882row0_col4\" class=\"data row0 col4\" >True</td>\n",
       "                        <td id=\"T_39560e91_852e_11eb_9911_5cf3709e0882row0_col5\" class=\"data row0 col5\" >True</td>\n",
       "            </tr>\n",
       "            <tr>\n",
       "                        <th id=\"T_39560e91_852e_11eb_9911_5cf3709e0882level0_row1\" class=\"row_heading level0 row1\" >1</th>\n",
       "                        <td id=\"T_39560e91_852e_11eb_9911_5cf3709e0882row1_col0\" class=\"data row1 col0\" >False</td>\n",
       "                        <td id=\"T_39560e91_852e_11eb_9911_5cf3709e0882row1_col1\" class=\"data row1 col1\" >False</td>\n",
       "                        <td id=\"T_39560e91_852e_11eb_9911_5cf3709e0882row1_col2\" class=\"data row1 col2\" >False</td>\n",
       "                        <td id=\"T_39560e91_852e_11eb_9911_5cf3709e0882row1_col3\" class=\"data row1 col3\" >False</td>\n",
       "                        <td id=\"T_39560e91_852e_11eb_9911_5cf3709e0882row1_col4\" class=\"data row1 col4\" >False</td>\n",
       "                        <td id=\"T_39560e91_852e_11eb_9911_5cf3709e0882row1_col5\" class=\"data row1 col5\" >False</td>\n",
       "            </tr>\n",
       "            <tr>\n",
       "                        <th id=\"T_39560e91_852e_11eb_9911_5cf3709e0882level0_row2\" class=\"row_heading level0 row2\" >2</th>\n",
       "                        <td id=\"T_39560e91_852e_11eb_9911_5cf3709e0882row2_col0\" class=\"data row2 col0\" >False</td>\n",
       "                        <td id=\"T_39560e91_852e_11eb_9911_5cf3709e0882row2_col1\" class=\"data row2 col1\" >False</td>\n",
       "                        <td id=\"T_39560e91_852e_11eb_9911_5cf3709e0882row2_col2\" class=\"data row2 col2\" >False</td>\n",
       "                        <td id=\"T_39560e91_852e_11eb_9911_5cf3709e0882row2_col3\" class=\"data row2 col3\" >True</td>\n",
       "                        <td id=\"T_39560e91_852e_11eb_9911_5cf3709e0882row2_col4\" class=\"data row2 col4\" >True</td>\n",
       "                        <td id=\"T_39560e91_852e_11eb_9911_5cf3709e0882row2_col5\" class=\"data row2 col5\" >False</td>\n",
       "            </tr>\n",
       "            <tr>\n",
       "                        <th id=\"T_39560e91_852e_11eb_9911_5cf3709e0882level0_row3\" class=\"row_heading level0 row3\" >3</th>\n",
       "                        <td id=\"T_39560e91_852e_11eb_9911_5cf3709e0882row3_col0\" class=\"data row3 col0\" >True</td>\n",
       "                        <td id=\"T_39560e91_852e_11eb_9911_5cf3709e0882row3_col1\" class=\"data row3 col1\" >False</td>\n",
       "                        <td id=\"T_39560e91_852e_11eb_9911_5cf3709e0882row3_col2\" class=\"data row3 col2\" >True</td>\n",
       "                        <td id=\"T_39560e91_852e_11eb_9911_5cf3709e0882row3_col3\" class=\"data row3 col3\" >False</td>\n",
       "                        <td id=\"T_39560e91_852e_11eb_9911_5cf3709e0882row3_col4\" class=\"data row3 col4\" >True</td>\n",
       "                        <td id=\"T_39560e91_852e_11eb_9911_5cf3709e0882row3_col5\" class=\"data row3 col5\" >False</td>\n",
       "            </tr>\n",
       "            <tr>\n",
       "                        <th id=\"T_39560e91_852e_11eb_9911_5cf3709e0882level0_row4\" class=\"row_heading level0 row4\" >4</th>\n",
       "                        <td id=\"T_39560e91_852e_11eb_9911_5cf3709e0882row4_col0\" class=\"data row4 col0\" >True</td>\n",
       "                        <td id=\"T_39560e91_852e_11eb_9911_5cf3709e0882row4_col1\" class=\"data row4 col1\" >False</td>\n",
       "                        <td id=\"T_39560e91_852e_11eb_9911_5cf3709e0882row4_col2\" class=\"data row4 col2\" >True</td>\n",
       "                        <td id=\"T_39560e91_852e_11eb_9911_5cf3709e0882row4_col3\" class=\"data row4 col3\" >True</td>\n",
       "                        <td id=\"T_39560e91_852e_11eb_9911_5cf3709e0882row4_col4\" class=\"data row4 col4\" >False</td>\n",
       "                        <td id=\"T_39560e91_852e_11eb_9911_5cf3709e0882row4_col5\" class=\"data row4 col5\" >True</td>\n",
       "            </tr>\n",
       "            <tr>\n",
       "                        <th id=\"T_39560e91_852e_11eb_9911_5cf3709e0882level0_row5\" class=\"row_heading level0 row5\" >5</th>\n",
       "                        <td id=\"T_39560e91_852e_11eb_9911_5cf3709e0882row5_col0\" class=\"data row5 col0\" >True</td>\n",
       "                        <td id=\"T_39560e91_852e_11eb_9911_5cf3709e0882row5_col1\" class=\"data row5 col1\" >False</td>\n",
       "                        <td id=\"T_39560e91_852e_11eb_9911_5cf3709e0882row5_col2\" class=\"data row5 col2\" >False</td>\n",
       "                        <td id=\"T_39560e91_852e_11eb_9911_5cf3709e0882row5_col3\" class=\"data row5 col3\" >False</td>\n",
       "                        <td id=\"T_39560e91_852e_11eb_9911_5cf3709e0882row5_col4\" class=\"data row5 col4\" >True</td>\n",
       "                        <td id=\"T_39560e91_852e_11eb_9911_5cf3709e0882row5_col5\" class=\"data row5 col5\" >False</td>\n",
       "            </tr>\n",
       "    </tbody></table>"
      ],
      "text/plain": [
       "<pandas.io.formats.style.Styler at 0x274a98afdf0>"
      ]
     },
     "execution_count": 73,
     "metadata": {},
     "output_type": "execute_result"
    }
   ],
   "source": [
    "stat_difference('km_label', 6).style.applymap(color_true_red)"
   ]
  },
  {
   "cell_type": "code",
   "execution_count": 74,
   "metadata": {},
   "outputs": [
    {
     "data": {
      "text/html": [
       "<style  type=\"text/css\" >\n",
       "    #T_395a7b68_852e_11eb_8d44_5cf3709e0882row0_col0 {\n",
       "            color:  black;\n",
       "        }    #T_395a7b68_852e_11eb_8d44_5cf3709e0882row0_col1 {\n",
       "            color:  black;\n",
       "        }    #T_395a7b68_852e_11eb_8d44_5cf3709e0882row0_col2 {\n",
       "            color:  black;\n",
       "        }    #T_395a7b68_852e_11eb_8d44_5cf3709e0882row0_col3 {\n",
       "            color:  red;\n",
       "        }    #T_395a7b68_852e_11eb_8d44_5cf3709e0882row0_col4 {\n",
       "            color:  black;\n",
       "        }    #T_395a7b68_852e_11eb_8d44_5cf3709e0882row0_col5 {\n",
       "            color:  red;\n",
       "        }    #T_395a7b68_852e_11eb_8d44_5cf3709e0882row1_col0 {\n",
       "            color:  black;\n",
       "        }    #T_395a7b68_852e_11eb_8d44_5cf3709e0882row1_col1 {\n",
       "            color:  black;\n",
       "        }    #T_395a7b68_852e_11eb_8d44_5cf3709e0882row1_col2 {\n",
       "            color:  black;\n",
       "        }    #T_395a7b68_852e_11eb_8d44_5cf3709e0882row1_col3 {\n",
       "            color:  black;\n",
       "        }    #T_395a7b68_852e_11eb_8d44_5cf3709e0882row1_col4 {\n",
       "            color:  black;\n",
       "        }    #T_395a7b68_852e_11eb_8d44_5cf3709e0882row1_col5 {\n",
       "            color:  black;\n",
       "        }    #T_395a7b68_852e_11eb_8d44_5cf3709e0882row2_col0 {\n",
       "            color:  black;\n",
       "        }    #T_395a7b68_852e_11eb_8d44_5cf3709e0882row2_col1 {\n",
       "            color:  black;\n",
       "        }    #T_395a7b68_852e_11eb_8d44_5cf3709e0882row2_col2 {\n",
       "            color:  black;\n",
       "        }    #T_395a7b68_852e_11eb_8d44_5cf3709e0882row2_col3 {\n",
       "            color:  red;\n",
       "        }    #T_395a7b68_852e_11eb_8d44_5cf3709e0882row2_col4 {\n",
       "            color:  red;\n",
       "        }    #T_395a7b68_852e_11eb_8d44_5cf3709e0882row2_col5 {\n",
       "            color:  red;\n",
       "        }    #T_395a7b68_852e_11eb_8d44_5cf3709e0882row3_col0 {\n",
       "            color:  red;\n",
       "        }    #T_395a7b68_852e_11eb_8d44_5cf3709e0882row3_col1 {\n",
       "            color:  black;\n",
       "        }    #T_395a7b68_852e_11eb_8d44_5cf3709e0882row3_col2 {\n",
       "            color:  red;\n",
       "        }    #T_395a7b68_852e_11eb_8d44_5cf3709e0882row3_col3 {\n",
       "            color:  black;\n",
       "        }    #T_395a7b68_852e_11eb_8d44_5cf3709e0882row3_col4 {\n",
       "            color:  red;\n",
       "        }    #T_395a7b68_852e_11eb_8d44_5cf3709e0882row3_col5 {\n",
       "            color:  black;\n",
       "        }    #T_395a7b68_852e_11eb_8d44_5cf3709e0882row4_col0 {\n",
       "            color:  black;\n",
       "        }    #T_395a7b68_852e_11eb_8d44_5cf3709e0882row4_col1 {\n",
       "            color:  black;\n",
       "        }    #T_395a7b68_852e_11eb_8d44_5cf3709e0882row4_col2 {\n",
       "            color:  red;\n",
       "        }    #T_395a7b68_852e_11eb_8d44_5cf3709e0882row4_col3 {\n",
       "            color:  red;\n",
       "        }    #T_395a7b68_852e_11eb_8d44_5cf3709e0882row4_col4 {\n",
       "            color:  black;\n",
       "        }    #T_395a7b68_852e_11eb_8d44_5cf3709e0882row4_col5 {\n",
       "            color:  red;\n",
       "        }    #T_395a7b68_852e_11eb_8d44_5cf3709e0882row5_col0 {\n",
       "            color:  red;\n",
       "        }    #T_395a7b68_852e_11eb_8d44_5cf3709e0882row5_col1 {\n",
       "            color:  black;\n",
       "        }    #T_395a7b68_852e_11eb_8d44_5cf3709e0882row5_col2 {\n",
       "            color:  red;\n",
       "        }    #T_395a7b68_852e_11eb_8d44_5cf3709e0882row5_col3 {\n",
       "            color:  black;\n",
       "        }    #T_395a7b68_852e_11eb_8d44_5cf3709e0882row5_col4 {\n",
       "            color:  red;\n",
       "        }    #T_395a7b68_852e_11eb_8d44_5cf3709e0882row5_col5 {\n",
       "            color:  black;\n",
       "        }</style><table id=\"T_395a7b68_852e_11eb_8d44_5cf3709e0882\" ><thead>    <tr>        <th class=\"blank level0\" ></th>        <th class=\"col_heading level0 col0\" >0</th>        <th class=\"col_heading level0 col1\" >1</th>        <th class=\"col_heading level0 col2\" >2</th>        <th class=\"col_heading level0 col3\" >3</th>        <th class=\"col_heading level0 col4\" >4</th>        <th class=\"col_heading level0 col5\" >5</th>    </tr></thead><tbody>\n",
       "                <tr>\n",
       "                        <th id=\"T_395a7b68_852e_11eb_8d44_5cf3709e0882level0_row0\" class=\"row_heading level0 row0\" >0</th>\n",
       "                        <td id=\"T_395a7b68_852e_11eb_8d44_5cf3709e0882row0_col0\" class=\"data row0 col0\" >False</td>\n",
       "                        <td id=\"T_395a7b68_852e_11eb_8d44_5cf3709e0882row0_col1\" class=\"data row0 col1\" >False</td>\n",
       "                        <td id=\"T_395a7b68_852e_11eb_8d44_5cf3709e0882row0_col2\" class=\"data row0 col2\" >False</td>\n",
       "                        <td id=\"T_395a7b68_852e_11eb_8d44_5cf3709e0882row0_col3\" class=\"data row0 col3\" >True</td>\n",
       "                        <td id=\"T_395a7b68_852e_11eb_8d44_5cf3709e0882row0_col4\" class=\"data row0 col4\" >False</td>\n",
       "                        <td id=\"T_395a7b68_852e_11eb_8d44_5cf3709e0882row0_col5\" class=\"data row0 col5\" >True</td>\n",
       "            </tr>\n",
       "            <tr>\n",
       "                        <th id=\"T_395a7b68_852e_11eb_8d44_5cf3709e0882level0_row1\" class=\"row_heading level0 row1\" >1</th>\n",
       "                        <td id=\"T_395a7b68_852e_11eb_8d44_5cf3709e0882row1_col0\" class=\"data row1 col0\" >False</td>\n",
       "                        <td id=\"T_395a7b68_852e_11eb_8d44_5cf3709e0882row1_col1\" class=\"data row1 col1\" >False</td>\n",
       "                        <td id=\"T_395a7b68_852e_11eb_8d44_5cf3709e0882row1_col2\" class=\"data row1 col2\" >False</td>\n",
       "                        <td id=\"T_395a7b68_852e_11eb_8d44_5cf3709e0882row1_col3\" class=\"data row1 col3\" >False</td>\n",
       "                        <td id=\"T_395a7b68_852e_11eb_8d44_5cf3709e0882row1_col4\" class=\"data row1 col4\" >False</td>\n",
       "                        <td id=\"T_395a7b68_852e_11eb_8d44_5cf3709e0882row1_col5\" class=\"data row1 col5\" >False</td>\n",
       "            </tr>\n",
       "            <tr>\n",
       "                        <th id=\"T_395a7b68_852e_11eb_8d44_5cf3709e0882level0_row2\" class=\"row_heading level0 row2\" >2</th>\n",
       "                        <td id=\"T_395a7b68_852e_11eb_8d44_5cf3709e0882row2_col0\" class=\"data row2 col0\" >False</td>\n",
       "                        <td id=\"T_395a7b68_852e_11eb_8d44_5cf3709e0882row2_col1\" class=\"data row2 col1\" >False</td>\n",
       "                        <td id=\"T_395a7b68_852e_11eb_8d44_5cf3709e0882row2_col2\" class=\"data row2 col2\" >False</td>\n",
       "                        <td id=\"T_395a7b68_852e_11eb_8d44_5cf3709e0882row2_col3\" class=\"data row2 col3\" >True</td>\n",
       "                        <td id=\"T_395a7b68_852e_11eb_8d44_5cf3709e0882row2_col4\" class=\"data row2 col4\" >True</td>\n",
       "                        <td id=\"T_395a7b68_852e_11eb_8d44_5cf3709e0882row2_col5\" class=\"data row2 col5\" >True</td>\n",
       "            </tr>\n",
       "            <tr>\n",
       "                        <th id=\"T_395a7b68_852e_11eb_8d44_5cf3709e0882level0_row3\" class=\"row_heading level0 row3\" >3</th>\n",
       "                        <td id=\"T_395a7b68_852e_11eb_8d44_5cf3709e0882row3_col0\" class=\"data row3 col0\" >True</td>\n",
       "                        <td id=\"T_395a7b68_852e_11eb_8d44_5cf3709e0882row3_col1\" class=\"data row3 col1\" >False</td>\n",
       "                        <td id=\"T_395a7b68_852e_11eb_8d44_5cf3709e0882row3_col2\" class=\"data row3 col2\" >True</td>\n",
       "                        <td id=\"T_395a7b68_852e_11eb_8d44_5cf3709e0882row3_col3\" class=\"data row3 col3\" >False</td>\n",
       "                        <td id=\"T_395a7b68_852e_11eb_8d44_5cf3709e0882row3_col4\" class=\"data row3 col4\" >True</td>\n",
       "                        <td id=\"T_395a7b68_852e_11eb_8d44_5cf3709e0882row3_col5\" class=\"data row3 col5\" >False</td>\n",
       "            </tr>\n",
       "            <tr>\n",
       "                        <th id=\"T_395a7b68_852e_11eb_8d44_5cf3709e0882level0_row4\" class=\"row_heading level0 row4\" >4</th>\n",
       "                        <td id=\"T_395a7b68_852e_11eb_8d44_5cf3709e0882row4_col0\" class=\"data row4 col0\" >False</td>\n",
       "                        <td id=\"T_395a7b68_852e_11eb_8d44_5cf3709e0882row4_col1\" class=\"data row4 col1\" >False</td>\n",
       "                        <td id=\"T_395a7b68_852e_11eb_8d44_5cf3709e0882row4_col2\" class=\"data row4 col2\" >True</td>\n",
       "                        <td id=\"T_395a7b68_852e_11eb_8d44_5cf3709e0882row4_col3\" class=\"data row4 col3\" >True</td>\n",
       "                        <td id=\"T_395a7b68_852e_11eb_8d44_5cf3709e0882row4_col4\" class=\"data row4 col4\" >False</td>\n",
       "                        <td id=\"T_395a7b68_852e_11eb_8d44_5cf3709e0882row4_col5\" class=\"data row4 col5\" >True</td>\n",
       "            </tr>\n",
       "            <tr>\n",
       "                        <th id=\"T_395a7b68_852e_11eb_8d44_5cf3709e0882level0_row5\" class=\"row_heading level0 row5\" >5</th>\n",
       "                        <td id=\"T_395a7b68_852e_11eb_8d44_5cf3709e0882row5_col0\" class=\"data row5 col0\" >True</td>\n",
       "                        <td id=\"T_395a7b68_852e_11eb_8d44_5cf3709e0882row5_col1\" class=\"data row5 col1\" >False</td>\n",
       "                        <td id=\"T_395a7b68_852e_11eb_8d44_5cf3709e0882row5_col2\" class=\"data row5 col2\" >True</td>\n",
       "                        <td id=\"T_395a7b68_852e_11eb_8d44_5cf3709e0882row5_col3\" class=\"data row5 col3\" >False</td>\n",
       "                        <td id=\"T_395a7b68_852e_11eb_8d44_5cf3709e0882row5_col4\" class=\"data row5 col4\" >True</td>\n",
       "                        <td id=\"T_395a7b68_852e_11eb_8d44_5cf3709e0882row5_col5\" class=\"data row5 col5\" >False</td>\n",
       "            </tr>\n",
       "    </tbody></table>"
      ],
      "text/plain": [
       "<pandas.io.formats.style.Styler at 0x274a98afd60>"
      ]
     },
     "execution_count": 74,
     "metadata": {},
     "output_type": "execute_result"
    }
   ],
   "source": [
    "stat_difference('km_trimmed_label', 6).style.applymap(color_true_red)"
   ]
  },
  {
   "cell_type": "code",
   "execution_count": 75,
   "metadata": {},
   "outputs": [
    {
     "data": {
      "text/html": [
       "<style  type=\"text/css\" >\n",
       "    #T_395f3658_852e_11eb_907b_5cf3709e0882row0_col0 {\n",
       "            color:  black;\n",
       "        }    #T_395f3658_852e_11eb_907b_5cf3709e0882row0_col1 {\n",
       "            color:  black;\n",
       "        }    #T_395f3658_852e_11eb_907b_5cf3709e0882row0_col2 {\n",
       "            color:  red;\n",
       "        }    #T_395f3658_852e_11eb_907b_5cf3709e0882row0_col3 {\n",
       "            color:  black;\n",
       "        }    #T_395f3658_852e_11eb_907b_5cf3709e0882row0_col4 {\n",
       "            color:  black;\n",
       "        }    #T_395f3658_852e_11eb_907b_5cf3709e0882row0_col5 {\n",
       "            color:  black;\n",
       "        }    #T_395f3658_852e_11eb_907b_5cf3709e0882row1_col0 {\n",
       "            color:  black;\n",
       "        }    #T_395f3658_852e_11eb_907b_5cf3709e0882row1_col1 {\n",
       "            color:  black;\n",
       "        }    #T_395f3658_852e_11eb_907b_5cf3709e0882row1_col2 {\n",
       "            color:  red;\n",
       "        }    #T_395f3658_852e_11eb_907b_5cf3709e0882row1_col3 {\n",
       "            color:  red;\n",
       "        }    #T_395f3658_852e_11eb_907b_5cf3709e0882row1_col4 {\n",
       "            color:  black;\n",
       "        }    #T_395f3658_852e_11eb_907b_5cf3709e0882row1_col5 {\n",
       "            color:  black;\n",
       "        }    #T_395f3658_852e_11eb_907b_5cf3709e0882row2_col0 {\n",
       "            color:  red;\n",
       "        }    #T_395f3658_852e_11eb_907b_5cf3709e0882row2_col1 {\n",
       "            color:  red;\n",
       "        }    #T_395f3658_852e_11eb_907b_5cf3709e0882row2_col2 {\n",
       "            color:  black;\n",
       "        }    #T_395f3658_852e_11eb_907b_5cf3709e0882row2_col3 {\n",
       "            color:  red;\n",
       "        }    #T_395f3658_852e_11eb_907b_5cf3709e0882row2_col4 {\n",
       "            color:  black;\n",
       "        }    #T_395f3658_852e_11eb_907b_5cf3709e0882row2_col5 {\n",
       "            color:  red;\n",
       "        }    #T_395f3658_852e_11eb_907b_5cf3709e0882row3_col0 {\n",
       "            color:  black;\n",
       "        }    #T_395f3658_852e_11eb_907b_5cf3709e0882row3_col1 {\n",
       "            color:  red;\n",
       "        }    #T_395f3658_852e_11eb_907b_5cf3709e0882row3_col2 {\n",
       "            color:  red;\n",
       "        }    #T_395f3658_852e_11eb_907b_5cf3709e0882row3_col3 {\n",
       "            color:  black;\n",
       "        }    #T_395f3658_852e_11eb_907b_5cf3709e0882row3_col4 {\n",
       "            color:  black;\n",
       "        }    #T_395f3658_852e_11eb_907b_5cf3709e0882row3_col5 {\n",
       "            color:  black;\n",
       "        }    #T_395f3658_852e_11eb_907b_5cf3709e0882row4_col0 {\n",
       "            color:  black;\n",
       "        }    #T_395f3658_852e_11eb_907b_5cf3709e0882row4_col1 {\n",
       "            color:  black;\n",
       "        }    #T_395f3658_852e_11eb_907b_5cf3709e0882row4_col2 {\n",
       "            color:  black;\n",
       "        }    #T_395f3658_852e_11eb_907b_5cf3709e0882row4_col3 {\n",
       "            color:  black;\n",
       "        }    #T_395f3658_852e_11eb_907b_5cf3709e0882row4_col4 {\n",
       "            color:  black;\n",
       "        }    #T_395f3658_852e_11eb_907b_5cf3709e0882row4_col5 {\n",
       "            color:  black;\n",
       "        }    #T_395f3658_852e_11eb_907b_5cf3709e0882row5_col0 {\n",
       "            color:  black;\n",
       "        }    #T_395f3658_852e_11eb_907b_5cf3709e0882row5_col1 {\n",
       "            color:  black;\n",
       "        }    #T_395f3658_852e_11eb_907b_5cf3709e0882row5_col2 {\n",
       "            color:  red;\n",
       "        }    #T_395f3658_852e_11eb_907b_5cf3709e0882row5_col3 {\n",
       "            color:  black;\n",
       "        }    #T_395f3658_852e_11eb_907b_5cf3709e0882row5_col4 {\n",
       "            color:  black;\n",
       "        }    #T_395f3658_852e_11eb_907b_5cf3709e0882row5_col5 {\n",
       "            color:  black;\n",
       "        }</style><table id=\"T_395f3658_852e_11eb_907b_5cf3709e0882\" ><thead>    <tr>        <th class=\"blank level0\" ></th>        <th class=\"col_heading level0 col0\" >0</th>        <th class=\"col_heading level0 col1\" >1</th>        <th class=\"col_heading level0 col2\" >2</th>        <th class=\"col_heading level0 col3\" >3</th>        <th class=\"col_heading level0 col4\" >4</th>        <th class=\"col_heading level0 col5\" >5</th>    </tr></thead><tbody>\n",
       "                <tr>\n",
       "                        <th id=\"T_395f3658_852e_11eb_907b_5cf3709e0882level0_row0\" class=\"row_heading level0 row0\" >0</th>\n",
       "                        <td id=\"T_395f3658_852e_11eb_907b_5cf3709e0882row0_col0\" class=\"data row0 col0\" >False</td>\n",
       "                        <td id=\"T_395f3658_852e_11eb_907b_5cf3709e0882row0_col1\" class=\"data row0 col1\" >False</td>\n",
       "                        <td id=\"T_395f3658_852e_11eb_907b_5cf3709e0882row0_col2\" class=\"data row0 col2\" >True</td>\n",
       "                        <td id=\"T_395f3658_852e_11eb_907b_5cf3709e0882row0_col3\" class=\"data row0 col3\" >False</td>\n",
       "                        <td id=\"T_395f3658_852e_11eb_907b_5cf3709e0882row0_col4\" class=\"data row0 col4\" >False</td>\n",
       "                        <td id=\"T_395f3658_852e_11eb_907b_5cf3709e0882row0_col5\" class=\"data row0 col5\" >False</td>\n",
       "            </tr>\n",
       "            <tr>\n",
       "                        <th id=\"T_395f3658_852e_11eb_907b_5cf3709e0882level0_row1\" class=\"row_heading level0 row1\" >1</th>\n",
       "                        <td id=\"T_395f3658_852e_11eb_907b_5cf3709e0882row1_col0\" class=\"data row1 col0\" >False</td>\n",
       "                        <td id=\"T_395f3658_852e_11eb_907b_5cf3709e0882row1_col1\" class=\"data row1 col1\" >False</td>\n",
       "                        <td id=\"T_395f3658_852e_11eb_907b_5cf3709e0882row1_col2\" class=\"data row1 col2\" >True</td>\n",
       "                        <td id=\"T_395f3658_852e_11eb_907b_5cf3709e0882row1_col3\" class=\"data row1 col3\" >True</td>\n",
       "                        <td id=\"T_395f3658_852e_11eb_907b_5cf3709e0882row1_col4\" class=\"data row1 col4\" >False</td>\n",
       "                        <td id=\"T_395f3658_852e_11eb_907b_5cf3709e0882row1_col5\" class=\"data row1 col5\" >False</td>\n",
       "            </tr>\n",
       "            <tr>\n",
       "                        <th id=\"T_395f3658_852e_11eb_907b_5cf3709e0882level0_row2\" class=\"row_heading level0 row2\" >2</th>\n",
       "                        <td id=\"T_395f3658_852e_11eb_907b_5cf3709e0882row2_col0\" class=\"data row2 col0\" >True</td>\n",
       "                        <td id=\"T_395f3658_852e_11eb_907b_5cf3709e0882row2_col1\" class=\"data row2 col1\" >True</td>\n",
       "                        <td id=\"T_395f3658_852e_11eb_907b_5cf3709e0882row2_col2\" class=\"data row2 col2\" >False</td>\n",
       "                        <td id=\"T_395f3658_852e_11eb_907b_5cf3709e0882row2_col3\" class=\"data row2 col3\" >True</td>\n",
       "                        <td id=\"T_395f3658_852e_11eb_907b_5cf3709e0882row2_col4\" class=\"data row2 col4\" >False</td>\n",
       "                        <td id=\"T_395f3658_852e_11eb_907b_5cf3709e0882row2_col5\" class=\"data row2 col5\" >True</td>\n",
       "            </tr>\n",
       "            <tr>\n",
       "                        <th id=\"T_395f3658_852e_11eb_907b_5cf3709e0882level0_row3\" class=\"row_heading level0 row3\" >3</th>\n",
       "                        <td id=\"T_395f3658_852e_11eb_907b_5cf3709e0882row3_col0\" class=\"data row3 col0\" >False</td>\n",
       "                        <td id=\"T_395f3658_852e_11eb_907b_5cf3709e0882row3_col1\" class=\"data row3 col1\" >True</td>\n",
       "                        <td id=\"T_395f3658_852e_11eb_907b_5cf3709e0882row3_col2\" class=\"data row3 col2\" >True</td>\n",
       "                        <td id=\"T_395f3658_852e_11eb_907b_5cf3709e0882row3_col3\" class=\"data row3 col3\" >False</td>\n",
       "                        <td id=\"T_395f3658_852e_11eb_907b_5cf3709e0882row3_col4\" class=\"data row3 col4\" >False</td>\n",
       "                        <td id=\"T_395f3658_852e_11eb_907b_5cf3709e0882row3_col5\" class=\"data row3 col5\" >False</td>\n",
       "            </tr>\n",
       "            <tr>\n",
       "                        <th id=\"T_395f3658_852e_11eb_907b_5cf3709e0882level0_row4\" class=\"row_heading level0 row4\" >4</th>\n",
       "                        <td id=\"T_395f3658_852e_11eb_907b_5cf3709e0882row4_col0\" class=\"data row4 col0\" >False</td>\n",
       "                        <td id=\"T_395f3658_852e_11eb_907b_5cf3709e0882row4_col1\" class=\"data row4 col1\" >False</td>\n",
       "                        <td id=\"T_395f3658_852e_11eb_907b_5cf3709e0882row4_col2\" class=\"data row4 col2\" >False</td>\n",
       "                        <td id=\"T_395f3658_852e_11eb_907b_5cf3709e0882row4_col3\" class=\"data row4 col3\" >False</td>\n",
       "                        <td id=\"T_395f3658_852e_11eb_907b_5cf3709e0882row4_col4\" class=\"data row4 col4\" >False</td>\n",
       "                        <td id=\"T_395f3658_852e_11eb_907b_5cf3709e0882row4_col5\" class=\"data row4 col5\" >False</td>\n",
       "            </tr>\n",
       "            <tr>\n",
       "                        <th id=\"T_395f3658_852e_11eb_907b_5cf3709e0882level0_row5\" class=\"row_heading level0 row5\" >5</th>\n",
       "                        <td id=\"T_395f3658_852e_11eb_907b_5cf3709e0882row5_col0\" class=\"data row5 col0\" >False</td>\n",
       "                        <td id=\"T_395f3658_852e_11eb_907b_5cf3709e0882row5_col1\" class=\"data row5 col1\" >False</td>\n",
       "                        <td id=\"T_395f3658_852e_11eb_907b_5cf3709e0882row5_col2\" class=\"data row5 col2\" >True</td>\n",
       "                        <td id=\"T_395f3658_852e_11eb_907b_5cf3709e0882row5_col3\" class=\"data row5 col3\" >False</td>\n",
       "                        <td id=\"T_395f3658_852e_11eb_907b_5cf3709e0882row5_col4\" class=\"data row5 col4\" >False</td>\n",
       "                        <td id=\"T_395f3658_852e_11eb_907b_5cf3709e0882row5_col5\" class=\"data row5 col5\" >False</td>\n",
       "            </tr>\n",
       "    </tbody></table>"
      ],
      "text/plain": [
       "<pandas.io.formats.style.Styler at 0x274a98afc10>"
      ]
     },
     "execution_count": 75,
     "metadata": {},
     "output_type": "execute_result"
    }
   ],
   "source": [
    "stat_difference('km_s_label', 6).style.applymap(color_true_red)"
   ]
  },
  {
   "cell_type": "code",
   "execution_count": 76,
   "metadata": {},
   "outputs": [
    {
     "data": {
      "text/html": [
       "<style  type=\"text/css\" >\n",
       "    #T_3962dc7c_852e_11eb_b465_5cf3709e0882row0_col0 {\n",
       "            color:  black;\n",
       "        }    #T_3962dc7c_852e_11eb_b465_5cf3709e0882row0_col1 {\n",
       "            color:  black;\n",
       "        }    #T_3962dc7c_852e_11eb_b465_5cf3709e0882row0_col2 {\n",
       "            color:  red;\n",
       "        }    #T_3962dc7c_852e_11eb_b465_5cf3709e0882row0_col3 {\n",
       "            color:  red;\n",
       "        }    #T_3962dc7c_852e_11eb_b465_5cf3709e0882row1_col0 {\n",
       "            color:  black;\n",
       "        }    #T_3962dc7c_852e_11eb_b465_5cf3709e0882row1_col1 {\n",
       "            color:  black;\n",
       "        }    #T_3962dc7c_852e_11eb_b465_5cf3709e0882row1_col2 {\n",
       "            color:  black;\n",
       "        }    #T_3962dc7c_852e_11eb_b465_5cf3709e0882row1_col3 {\n",
       "            color:  black;\n",
       "        }    #T_3962dc7c_852e_11eb_b465_5cf3709e0882row2_col0 {\n",
       "            color:  red;\n",
       "        }    #T_3962dc7c_852e_11eb_b465_5cf3709e0882row2_col1 {\n",
       "            color:  black;\n",
       "        }    #T_3962dc7c_852e_11eb_b465_5cf3709e0882row2_col2 {\n",
       "            color:  black;\n",
       "        }    #T_3962dc7c_852e_11eb_b465_5cf3709e0882row2_col3 {\n",
       "            color:  red;\n",
       "        }    #T_3962dc7c_852e_11eb_b465_5cf3709e0882row3_col0 {\n",
       "            color:  red;\n",
       "        }    #T_3962dc7c_852e_11eb_b465_5cf3709e0882row3_col1 {\n",
       "            color:  black;\n",
       "        }    #T_3962dc7c_852e_11eb_b465_5cf3709e0882row3_col2 {\n",
       "            color:  red;\n",
       "        }    #T_3962dc7c_852e_11eb_b465_5cf3709e0882row3_col3 {\n",
       "            color:  black;\n",
       "        }</style><table id=\"T_3962dc7c_852e_11eb_b465_5cf3709e0882\" ><thead>    <tr>        <th class=\"blank level0\" ></th>        <th class=\"col_heading level0 col0\" >0</th>        <th class=\"col_heading level0 col1\" >1</th>        <th class=\"col_heading level0 col2\" >2</th>        <th class=\"col_heading level0 col3\" >3</th>    </tr></thead><tbody>\n",
       "                <tr>\n",
       "                        <th id=\"T_3962dc7c_852e_11eb_b465_5cf3709e0882level0_row0\" class=\"row_heading level0 row0\" >0</th>\n",
       "                        <td id=\"T_3962dc7c_852e_11eb_b465_5cf3709e0882row0_col0\" class=\"data row0 col0\" >False</td>\n",
       "                        <td id=\"T_3962dc7c_852e_11eb_b465_5cf3709e0882row0_col1\" class=\"data row0 col1\" >False</td>\n",
       "                        <td id=\"T_3962dc7c_852e_11eb_b465_5cf3709e0882row0_col2\" class=\"data row0 col2\" >True</td>\n",
       "                        <td id=\"T_3962dc7c_852e_11eb_b465_5cf3709e0882row0_col3\" class=\"data row0 col3\" >True</td>\n",
       "            </tr>\n",
       "            <tr>\n",
       "                        <th id=\"T_3962dc7c_852e_11eb_b465_5cf3709e0882level0_row1\" class=\"row_heading level0 row1\" >1</th>\n",
       "                        <td id=\"T_3962dc7c_852e_11eb_b465_5cf3709e0882row1_col0\" class=\"data row1 col0\" >False</td>\n",
       "                        <td id=\"T_3962dc7c_852e_11eb_b465_5cf3709e0882row1_col1\" class=\"data row1 col1\" >False</td>\n",
       "                        <td id=\"T_3962dc7c_852e_11eb_b465_5cf3709e0882row1_col2\" class=\"data row1 col2\" >False</td>\n",
       "                        <td id=\"T_3962dc7c_852e_11eb_b465_5cf3709e0882row1_col3\" class=\"data row1 col3\" >False</td>\n",
       "            </tr>\n",
       "            <tr>\n",
       "                        <th id=\"T_3962dc7c_852e_11eb_b465_5cf3709e0882level0_row2\" class=\"row_heading level0 row2\" >2</th>\n",
       "                        <td id=\"T_3962dc7c_852e_11eb_b465_5cf3709e0882row2_col0\" class=\"data row2 col0\" >True</td>\n",
       "                        <td id=\"T_3962dc7c_852e_11eb_b465_5cf3709e0882row2_col1\" class=\"data row2 col1\" >False</td>\n",
       "                        <td id=\"T_3962dc7c_852e_11eb_b465_5cf3709e0882row2_col2\" class=\"data row2 col2\" >False</td>\n",
       "                        <td id=\"T_3962dc7c_852e_11eb_b465_5cf3709e0882row2_col3\" class=\"data row2 col3\" >True</td>\n",
       "            </tr>\n",
       "            <tr>\n",
       "                        <th id=\"T_3962dc7c_852e_11eb_b465_5cf3709e0882level0_row3\" class=\"row_heading level0 row3\" >3</th>\n",
       "                        <td id=\"T_3962dc7c_852e_11eb_b465_5cf3709e0882row3_col0\" class=\"data row3 col0\" >True</td>\n",
       "                        <td id=\"T_3962dc7c_852e_11eb_b465_5cf3709e0882row3_col1\" class=\"data row3 col1\" >False</td>\n",
       "                        <td id=\"T_3962dc7c_852e_11eb_b465_5cf3709e0882row3_col2\" class=\"data row3 col2\" >True</td>\n",
       "                        <td id=\"T_3962dc7c_852e_11eb_b465_5cf3709e0882row3_col3\" class=\"data row3 col3\" >False</td>\n",
       "            </tr>\n",
       "    </tbody></table>"
      ],
      "text/plain": [
       "<pandas.io.formats.style.Styler at 0x274a9c83a60>"
      ]
     },
     "execution_count": 76,
     "metadata": {},
     "output_type": "execute_result"
    }
   ],
   "source": [
    "stat_difference('km_n4_label', 4).style.applymap(color_true_red)"
   ]
  },
  {
   "cell_type": "code",
   "execution_count": 77,
   "metadata": {},
   "outputs": [
    {
     "data": {
      "text/html": [
       "<style  type=\"text/css\" >\n",
       "    #T_39659ba0_852e_11eb_a13b_5cf3709e0882row0_col0 {\n",
       "            color:  black;\n",
       "        }    #T_39659ba0_852e_11eb_a13b_5cf3709e0882row0_col1 {\n",
       "            color:  red;\n",
       "        }    #T_39659ba0_852e_11eb_a13b_5cf3709e0882row0_col2 {\n",
       "            color:  black;\n",
       "        }    #T_39659ba0_852e_11eb_a13b_5cf3709e0882row0_col3 {\n",
       "            color:  red;\n",
       "        }    #T_39659ba0_852e_11eb_a13b_5cf3709e0882row0_col4 {\n",
       "            color:  red;\n",
       "        }    #T_39659ba0_852e_11eb_a13b_5cf3709e0882row1_col0 {\n",
       "            color:  red;\n",
       "        }    #T_39659ba0_852e_11eb_a13b_5cf3709e0882row1_col1 {\n",
       "            color:  black;\n",
       "        }    #T_39659ba0_852e_11eb_a13b_5cf3709e0882row1_col2 {\n",
       "            color:  black;\n",
       "        }    #T_39659ba0_852e_11eb_a13b_5cf3709e0882row1_col3 {\n",
       "            color:  red;\n",
       "        }    #T_39659ba0_852e_11eb_a13b_5cf3709e0882row1_col4 {\n",
       "            color:  black;\n",
       "        }    #T_39659ba0_852e_11eb_a13b_5cf3709e0882row2_col0 {\n",
       "            color:  black;\n",
       "        }    #T_39659ba0_852e_11eb_a13b_5cf3709e0882row2_col1 {\n",
       "            color:  black;\n",
       "        }    #T_39659ba0_852e_11eb_a13b_5cf3709e0882row2_col2 {\n",
       "            color:  black;\n",
       "        }    #T_39659ba0_852e_11eb_a13b_5cf3709e0882row2_col3 {\n",
       "            color:  black;\n",
       "        }    #T_39659ba0_852e_11eb_a13b_5cf3709e0882row2_col4 {\n",
       "            color:  black;\n",
       "        }    #T_39659ba0_852e_11eb_a13b_5cf3709e0882row3_col0 {\n",
       "            color:  red;\n",
       "        }    #T_39659ba0_852e_11eb_a13b_5cf3709e0882row3_col1 {\n",
       "            color:  red;\n",
       "        }    #T_39659ba0_852e_11eb_a13b_5cf3709e0882row3_col2 {\n",
       "            color:  black;\n",
       "        }    #T_39659ba0_852e_11eb_a13b_5cf3709e0882row3_col3 {\n",
       "            color:  black;\n",
       "        }    #T_39659ba0_852e_11eb_a13b_5cf3709e0882row3_col4 {\n",
       "            color:  red;\n",
       "        }    #T_39659ba0_852e_11eb_a13b_5cf3709e0882row4_col0 {\n",
       "            color:  red;\n",
       "        }    #T_39659ba0_852e_11eb_a13b_5cf3709e0882row4_col1 {\n",
       "            color:  black;\n",
       "        }    #T_39659ba0_852e_11eb_a13b_5cf3709e0882row4_col2 {\n",
       "            color:  black;\n",
       "        }    #T_39659ba0_852e_11eb_a13b_5cf3709e0882row4_col3 {\n",
       "            color:  red;\n",
       "        }    #T_39659ba0_852e_11eb_a13b_5cf3709e0882row4_col4 {\n",
       "            color:  black;\n",
       "        }</style><table id=\"T_39659ba0_852e_11eb_a13b_5cf3709e0882\" ><thead>    <tr>        <th class=\"blank level0\" ></th>        <th class=\"col_heading level0 col0\" >0</th>        <th class=\"col_heading level0 col1\" >1</th>        <th class=\"col_heading level0 col2\" >2</th>        <th class=\"col_heading level0 col3\" >3</th>        <th class=\"col_heading level0 col4\" >4</th>    </tr></thead><tbody>\n",
       "                <tr>\n",
       "                        <th id=\"T_39659ba0_852e_11eb_a13b_5cf3709e0882level0_row0\" class=\"row_heading level0 row0\" >0</th>\n",
       "                        <td id=\"T_39659ba0_852e_11eb_a13b_5cf3709e0882row0_col0\" class=\"data row0 col0\" >False</td>\n",
       "                        <td id=\"T_39659ba0_852e_11eb_a13b_5cf3709e0882row0_col1\" class=\"data row0 col1\" >True</td>\n",
       "                        <td id=\"T_39659ba0_852e_11eb_a13b_5cf3709e0882row0_col2\" class=\"data row0 col2\" >False</td>\n",
       "                        <td id=\"T_39659ba0_852e_11eb_a13b_5cf3709e0882row0_col3\" class=\"data row0 col3\" >True</td>\n",
       "                        <td id=\"T_39659ba0_852e_11eb_a13b_5cf3709e0882row0_col4\" class=\"data row0 col4\" >True</td>\n",
       "            </tr>\n",
       "            <tr>\n",
       "                        <th id=\"T_39659ba0_852e_11eb_a13b_5cf3709e0882level0_row1\" class=\"row_heading level0 row1\" >1</th>\n",
       "                        <td id=\"T_39659ba0_852e_11eb_a13b_5cf3709e0882row1_col0\" class=\"data row1 col0\" >True</td>\n",
       "                        <td id=\"T_39659ba0_852e_11eb_a13b_5cf3709e0882row1_col1\" class=\"data row1 col1\" >False</td>\n",
       "                        <td id=\"T_39659ba0_852e_11eb_a13b_5cf3709e0882row1_col2\" class=\"data row1 col2\" >False</td>\n",
       "                        <td id=\"T_39659ba0_852e_11eb_a13b_5cf3709e0882row1_col3\" class=\"data row1 col3\" >True</td>\n",
       "                        <td id=\"T_39659ba0_852e_11eb_a13b_5cf3709e0882row1_col4\" class=\"data row1 col4\" >False</td>\n",
       "            </tr>\n",
       "            <tr>\n",
       "                        <th id=\"T_39659ba0_852e_11eb_a13b_5cf3709e0882level0_row2\" class=\"row_heading level0 row2\" >2</th>\n",
       "                        <td id=\"T_39659ba0_852e_11eb_a13b_5cf3709e0882row2_col0\" class=\"data row2 col0\" >False</td>\n",
       "                        <td id=\"T_39659ba0_852e_11eb_a13b_5cf3709e0882row2_col1\" class=\"data row2 col1\" >False</td>\n",
       "                        <td id=\"T_39659ba0_852e_11eb_a13b_5cf3709e0882row2_col2\" class=\"data row2 col2\" >False</td>\n",
       "                        <td id=\"T_39659ba0_852e_11eb_a13b_5cf3709e0882row2_col3\" class=\"data row2 col3\" >False</td>\n",
       "                        <td id=\"T_39659ba0_852e_11eb_a13b_5cf3709e0882row2_col4\" class=\"data row2 col4\" >False</td>\n",
       "            </tr>\n",
       "            <tr>\n",
       "                        <th id=\"T_39659ba0_852e_11eb_a13b_5cf3709e0882level0_row3\" class=\"row_heading level0 row3\" >3</th>\n",
       "                        <td id=\"T_39659ba0_852e_11eb_a13b_5cf3709e0882row3_col0\" class=\"data row3 col0\" >True</td>\n",
       "                        <td id=\"T_39659ba0_852e_11eb_a13b_5cf3709e0882row3_col1\" class=\"data row3 col1\" >True</td>\n",
       "                        <td id=\"T_39659ba0_852e_11eb_a13b_5cf3709e0882row3_col2\" class=\"data row3 col2\" >False</td>\n",
       "                        <td id=\"T_39659ba0_852e_11eb_a13b_5cf3709e0882row3_col3\" class=\"data row3 col3\" >False</td>\n",
       "                        <td id=\"T_39659ba0_852e_11eb_a13b_5cf3709e0882row3_col4\" class=\"data row3 col4\" >True</td>\n",
       "            </tr>\n",
       "            <tr>\n",
       "                        <th id=\"T_39659ba0_852e_11eb_a13b_5cf3709e0882level0_row4\" class=\"row_heading level0 row4\" >4</th>\n",
       "                        <td id=\"T_39659ba0_852e_11eb_a13b_5cf3709e0882row4_col0\" class=\"data row4 col0\" >True</td>\n",
       "                        <td id=\"T_39659ba0_852e_11eb_a13b_5cf3709e0882row4_col1\" class=\"data row4 col1\" >False</td>\n",
       "                        <td id=\"T_39659ba0_852e_11eb_a13b_5cf3709e0882row4_col2\" class=\"data row4 col2\" >False</td>\n",
       "                        <td id=\"T_39659ba0_852e_11eb_a13b_5cf3709e0882row4_col3\" class=\"data row4 col3\" >True</td>\n",
       "                        <td id=\"T_39659ba0_852e_11eb_a13b_5cf3709e0882row4_col4\" class=\"data row4 col4\" >False</td>\n",
       "            </tr>\n",
       "    </tbody></table>"
      ],
      "text/plain": [
       "<pandas.io.formats.style.Styler at 0x274a9c705e0>"
      ]
     },
     "execution_count": 77,
     "metadata": {},
     "output_type": "execute_result"
    }
   ],
   "source": [
    "stat_difference('km_n5_label', 5).style.applymap(color_true_red)"
   ]
  },
  {
   "cell_type": "markdown",
   "metadata": {},
   "source": [
    "#### Hierarchial Schemes"
   ]
  },
  {
   "cell_type": "code",
   "execution_count": 78,
   "metadata": {},
   "outputs": [
    {
     "data": {
      "text/html": [
       "<style  type=\"text/css\" >\n",
       "    #T_396a2f72_852e_11eb_a418_5cf3709e0882row0_col0 {\n",
       "            color:  black;\n",
       "        }    #T_396a2f72_852e_11eb_a418_5cf3709e0882row0_col1 {\n",
       "            color:  red;\n",
       "        }    #T_396a2f72_852e_11eb_a418_5cf3709e0882row0_col2 {\n",
       "            color:  red;\n",
       "        }    #T_396a2f72_852e_11eb_a418_5cf3709e0882row0_col3 {\n",
       "            color:  black;\n",
       "        }    #T_396a2f72_852e_11eb_a418_5cf3709e0882row1_col0 {\n",
       "            color:  red;\n",
       "        }    #T_396a2f72_852e_11eb_a418_5cf3709e0882row1_col1 {\n",
       "            color:  black;\n",
       "        }    #T_396a2f72_852e_11eb_a418_5cf3709e0882row1_col2 {\n",
       "            color:  red;\n",
       "        }    #T_396a2f72_852e_11eb_a418_5cf3709e0882row1_col3 {\n",
       "            color:  black;\n",
       "        }    #T_396a2f72_852e_11eb_a418_5cf3709e0882row2_col0 {\n",
       "            color:  red;\n",
       "        }    #T_396a2f72_852e_11eb_a418_5cf3709e0882row2_col1 {\n",
       "            color:  red;\n",
       "        }    #T_396a2f72_852e_11eb_a418_5cf3709e0882row2_col2 {\n",
       "            color:  black;\n",
       "        }    #T_396a2f72_852e_11eb_a418_5cf3709e0882row2_col3 {\n",
       "            color:  black;\n",
       "        }    #T_396a2f72_852e_11eb_a418_5cf3709e0882row3_col0 {\n",
       "            color:  black;\n",
       "        }    #T_396a2f72_852e_11eb_a418_5cf3709e0882row3_col1 {\n",
       "            color:  black;\n",
       "        }    #T_396a2f72_852e_11eb_a418_5cf3709e0882row3_col2 {\n",
       "            color:  black;\n",
       "        }    #T_396a2f72_852e_11eb_a418_5cf3709e0882row3_col3 {\n",
       "            color:  black;\n",
       "        }</style><table id=\"T_396a2f72_852e_11eb_a418_5cf3709e0882\" ><thead>    <tr>        <th class=\"blank level0\" ></th>        <th class=\"col_heading level0 col0\" >0</th>        <th class=\"col_heading level0 col1\" >1</th>        <th class=\"col_heading level0 col2\" >2</th>        <th class=\"col_heading level0 col3\" >3</th>    </tr></thead><tbody>\n",
       "                <tr>\n",
       "                        <th id=\"T_396a2f72_852e_11eb_a418_5cf3709e0882level0_row0\" class=\"row_heading level0 row0\" >0</th>\n",
       "                        <td id=\"T_396a2f72_852e_11eb_a418_5cf3709e0882row0_col0\" class=\"data row0 col0\" >False</td>\n",
       "                        <td id=\"T_396a2f72_852e_11eb_a418_5cf3709e0882row0_col1\" class=\"data row0 col1\" >True</td>\n",
       "                        <td id=\"T_396a2f72_852e_11eb_a418_5cf3709e0882row0_col2\" class=\"data row0 col2\" >True</td>\n",
       "                        <td id=\"T_396a2f72_852e_11eb_a418_5cf3709e0882row0_col3\" class=\"data row0 col3\" >False</td>\n",
       "            </tr>\n",
       "            <tr>\n",
       "                        <th id=\"T_396a2f72_852e_11eb_a418_5cf3709e0882level0_row1\" class=\"row_heading level0 row1\" >1</th>\n",
       "                        <td id=\"T_396a2f72_852e_11eb_a418_5cf3709e0882row1_col0\" class=\"data row1 col0\" >True</td>\n",
       "                        <td id=\"T_396a2f72_852e_11eb_a418_5cf3709e0882row1_col1\" class=\"data row1 col1\" >False</td>\n",
       "                        <td id=\"T_396a2f72_852e_11eb_a418_5cf3709e0882row1_col2\" class=\"data row1 col2\" >True</td>\n",
       "                        <td id=\"T_396a2f72_852e_11eb_a418_5cf3709e0882row1_col3\" class=\"data row1 col3\" >False</td>\n",
       "            </tr>\n",
       "            <tr>\n",
       "                        <th id=\"T_396a2f72_852e_11eb_a418_5cf3709e0882level0_row2\" class=\"row_heading level0 row2\" >2</th>\n",
       "                        <td id=\"T_396a2f72_852e_11eb_a418_5cf3709e0882row2_col0\" class=\"data row2 col0\" >True</td>\n",
       "                        <td id=\"T_396a2f72_852e_11eb_a418_5cf3709e0882row2_col1\" class=\"data row2 col1\" >True</td>\n",
       "                        <td id=\"T_396a2f72_852e_11eb_a418_5cf3709e0882row2_col2\" class=\"data row2 col2\" >False</td>\n",
       "                        <td id=\"T_396a2f72_852e_11eb_a418_5cf3709e0882row2_col3\" class=\"data row2 col3\" >False</td>\n",
       "            </tr>\n",
       "            <tr>\n",
       "                        <th id=\"T_396a2f72_852e_11eb_a418_5cf3709e0882level0_row3\" class=\"row_heading level0 row3\" >3</th>\n",
       "                        <td id=\"T_396a2f72_852e_11eb_a418_5cf3709e0882row3_col0\" class=\"data row3 col0\" >False</td>\n",
       "                        <td id=\"T_396a2f72_852e_11eb_a418_5cf3709e0882row3_col1\" class=\"data row3 col1\" >False</td>\n",
       "                        <td id=\"T_396a2f72_852e_11eb_a418_5cf3709e0882row3_col2\" class=\"data row3 col2\" >False</td>\n",
       "                        <td id=\"T_396a2f72_852e_11eb_a418_5cf3709e0882row3_col3\" class=\"data row3 col3\" >False</td>\n",
       "            </tr>\n",
       "    </tbody></table>"
      ],
      "text/plain": [
       "<pandas.io.formats.style.Styler at 0x274a9c70220>"
      ]
     },
     "execution_count": 78,
     "metadata": {},
     "output_type": "execute_result"
    }
   ],
   "source": [
    "stat_difference('hc_label', 4).style.applymap(color_true_red)"
   ]
  },
  {
   "cell_type": "code",
   "execution_count": 79,
   "metadata": {},
   "outputs": [
    {
     "data": {
      "text/html": [
       "<style  type=\"text/css\" >\n",
       "    #T_396ca06b_852e_11eb_9d9a_5cf3709e0882row0_col0 {\n",
       "            color:  black;\n",
       "        }    #T_396ca06b_852e_11eb_9d9a_5cf3709e0882row0_col1 {\n",
       "            color:  black;\n",
       "        }    #T_396ca06b_852e_11eb_9d9a_5cf3709e0882row0_col2 {\n",
       "            color:  black;\n",
       "        }    #T_396ca06b_852e_11eb_9d9a_5cf3709e0882row0_col3 {\n",
       "            color:  red;\n",
       "        }    #T_396ca06b_852e_11eb_9d9a_5cf3709e0882row1_col0 {\n",
       "            color:  black;\n",
       "        }    #T_396ca06b_852e_11eb_9d9a_5cf3709e0882row1_col1 {\n",
       "            color:  black;\n",
       "        }    #T_396ca06b_852e_11eb_9d9a_5cf3709e0882row1_col2 {\n",
       "            color:  black;\n",
       "        }    #T_396ca06b_852e_11eb_9d9a_5cf3709e0882row1_col3 {\n",
       "            color:  red;\n",
       "        }    #T_396ca06b_852e_11eb_9d9a_5cf3709e0882row2_col0 {\n",
       "            color:  black;\n",
       "        }    #T_396ca06b_852e_11eb_9d9a_5cf3709e0882row2_col1 {\n",
       "            color:  black;\n",
       "        }    #T_396ca06b_852e_11eb_9d9a_5cf3709e0882row2_col2 {\n",
       "            color:  black;\n",
       "        }    #T_396ca06b_852e_11eb_9d9a_5cf3709e0882row2_col3 {\n",
       "            color:  red;\n",
       "        }    #T_396ca06b_852e_11eb_9d9a_5cf3709e0882row3_col0 {\n",
       "            color:  red;\n",
       "        }    #T_396ca06b_852e_11eb_9d9a_5cf3709e0882row3_col1 {\n",
       "            color:  red;\n",
       "        }    #T_396ca06b_852e_11eb_9d9a_5cf3709e0882row3_col2 {\n",
       "            color:  red;\n",
       "        }    #T_396ca06b_852e_11eb_9d9a_5cf3709e0882row3_col3 {\n",
       "            color:  black;\n",
       "        }</style><table id=\"T_396ca06b_852e_11eb_9d9a_5cf3709e0882\" ><thead>    <tr>        <th class=\"blank level0\" ></th>        <th class=\"col_heading level0 col0\" >0</th>        <th class=\"col_heading level0 col1\" >1</th>        <th class=\"col_heading level0 col2\" >2</th>        <th class=\"col_heading level0 col3\" >3</th>    </tr></thead><tbody>\n",
       "                <tr>\n",
       "                        <th id=\"T_396ca06b_852e_11eb_9d9a_5cf3709e0882level0_row0\" class=\"row_heading level0 row0\" >0</th>\n",
       "                        <td id=\"T_396ca06b_852e_11eb_9d9a_5cf3709e0882row0_col0\" class=\"data row0 col0\" >False</td>\n",
       "                        <td id=\"T_396ca06b_852e_11eb_9d9a_5cf3709e0882row0_col1\" class=\"data row0 col1\" >False</td>\n",
       "                        <td id=\"T_396ca06b_852e_11eb_9d9a_5cf3709e0882row0_col2\" class=\"data row0 col2\" >False</td>\n",
       "                        <td id=\"T_396ca06b_852e_11eb_9d9a_5cf3709e0882row0_col3\" class=\"data row0 col3\" >True</td>\n",
       "            </tr>\n",
       "            <tr>\n",
       "                        <th id=\"T_396ca06b_852e_11eb_9d9a_5cf3709e0882level0_row1\" class=\"row_heading level0 row1\" >1</th>\n",
       "                        <td id=\"T_396ca06b_852e_11eb_9d9a_5cf3709e0882row1_col0\" class=\"data row1 col0\" >False</td>\n",
       "                        <td id=\"T_396ca06b_852e_11eb_9d9a_5cf3709e0882row1_col1\" class=\"data row1 col1\" >False</td>\n",
       "                        <td id=\"T_396ca06b_852e_11eb_9d9a_5cf3709e0882row1_col2\" class=\"data row1 col2\" >False</td>\n",
       "                        <td id=\"T_396ca06b_852e_11eb_9d9a_5cf3709e0882row1_col3\" class=\"data row1 col3\" >True</td>\n",
       "            </tr>\n",
       "            <tr>\n",
       "                        <th id=\"T_396ca06b_852e_11eb_9d9a_5cf3709e0882level0_row2\" class=\"row_heading level0 row2\" >2</th>\n",
       "                        <td id=\"T_396ca06b_852e_11eb_9d9a_5cf3709e0882row2_col0\" class=\"data row2 col0\" >False</td>\n",
       "                        <td id=\"T_396ca06b_852e_11eb_9d9a_5cf3709e0882row2_col1\" class=\"data row2 col1\" >False</td>\n",
       "                        <td id=\"T_396ca06b_852e_11eb_9d9a_5cf3709e0882row2_col2\" class=\"data row2 col2\" >False</td>\n",
       "                        <td id=\"T_396ca06b_852e_11eb_9d9a_5cf3709e0882row2_col3\" class=\"data row2 col3\" >True</td>\n",
       "            </tr>\n",
       "            <tr>\n",
       "                        <th id=\"T_396ca06b_852e_11eb_9d9a_5cf3709e0882level0_row3\" class=\"row_heading level0 row3\" >3</th>\n",
       "                        <td id=\"T_396ca06b_852e_11eb_9d9a_5cf3709e0882row3_col0\" class=\"data row3 col0\" >True</td>\n",
       "                        <td id=\"T_396ca06b_852e_11eb_9d9a_5cf3709e0882row3_col1\" class=\"data row3 col1\" >True</td>\n",
       "                        <td id=\"T_396ca06b_852e_11eb_9d9a_5cf3709e0882row3_col2\" class=\"data row3 col2\" >True</td>\n",
       "                        <td id=\"T_396ca06b_852e_11eb_9d9a_5cf3709e0882row3_col3\" class=\"data row3 col3\" >False</td>\n",
       "            </tr>\n",
       "    </tbody></table>"
      ],
      "text/plain": [
       "<pandas.io.formats.style.Styler at 0x274a9c70910>"
      ]
     },
     "execution_count": 79,
     "metadata": {},
     "output_type": "execute_result"
    }
   ],
   "source": [
    "stat_difference('hc_s_label', 4).style.applymap(color_true_red)"
   ]
  },
  {
   "cell_type": "code",
   "execution_count": 80,
   "metadata": {},
   "outputs": [
    {
     "data": {
      "text/html": [
       "<style  type=\"text/css\" >\n",
       "    #T_396f9fc4_852e_11eb_8d9f_5cf3709e0882row0_col0 {\n",
       "            color:  black;\n",
       "        }    #T_396f9fc4_852e_11eb_8d9f_5cf3709e0882row0_col1 {\n",
       "            color:  red;\n",
       "        }    #T_396f9fc4_852e_11eb_8d9f_5cf3709e0882row0_col2 {\n",
       "            color:  red;\n",
       "        }    #T_396f9fc4_852e_11eb_8d9f_5cf3709e0882row0_col3 {\n",
       "            color:  black;\n",
       "        }    #T_396f9fc4_852e_11eb_8d9f_5cf3709e0882row0_col4 {\n",
       "            color:  red;\n",
       "        }    #T_396f9fc4_852e_11eb_8d9f_5cf3709e0882row1_col0 {\n",
       "            color:  red;\n",
       "        }    #T_396f9fc4_852e_11eb_8d9f_5cf3709e0882row1_col1 {\n",
       "            color:  black;\n",
       "        }    #T_396f9fc4_852e_11eb_8d9f_5cf3709e0882row1_col2 {\n",
       "            color:  red;\n",
       "        }    #T_396f9fc4_852e_11eb_8d9f_5cf3709e0882row1_col3 {\n",
       "            color:  black;\n",
       "        }    #T_396f9fc4_852e_11eb_8d9f_5cf3709e0882row1_col4 {\n",
       "            color:  red;\n",
       "        }    #T_396f9fc4_852e_11eb_8d9f_5cf3709e0882row2_col0 {\n",
       "            color:  red;\n",
       "        }    #T_396f9fc4_852e_11eb_8d9f_5cf3709e0882row2_col1 {\n",
       "            color:  red;\n",
       "        }    #T_396f9fc4_852e_11eb_8d9f_5cf3709e0882row2_col2 {\n",
       "            color:  black;\n",
       "        }    #T_396f9fc4_852e_11eb_8d9f_5cf3709e0882row2_col3 {\n",
       "            color:  black;\n",
       "        }    #T_396f9fc4_852e_11eb_8d9f_5cf3709e0882row2_col4 {\n",
       "            color:  black;\n",
       "        }    #T_396f9fc4_852e_11eb_8d9f_5cf3709e0882row3_col0 {\n",
       "            color:  black;\n",
       "        }    #T_396f9fc4_852e_11eb_8d9f_5cf3709e0882row3_col1 {\n",
       "            color:  black;\n",
       "        }    #T_396f9fc4_852e_11eb_8d9f_5cf3709e0882row3_col2 {\n",
       "            color:  black;\n",
       "        }    #T_396f9fc4_852e_11eb_8d9f_5cf3709e0882row3_col3 {\n",
       "            color:  black;\n",
       "        }    #T_396f9fc4_852e_11eb_8d9f_5cf3709e0882row3_col4 {\n",
       "            color:  black;\n",
       "        }    #T_396f9fc4_852e_11eb_8d9f_5cf3709e0882row4_col0 {\n",
       "            color:  red;\n",
       "        }    #T_396f9fc4_852e_11eb_8d9f_5cf3709e0882row4_col1 {\n",
       "            color:  red;\n",
       "        }    #T_396f9fc4_852e_11eb_8d9f_5cf3709e0882row4_col2 {\n",
       "            color:  black;\n",
       "        }    #T_396f9fc4_852e_11eb_8d9f_5cf3709e0882row4_col3 {\n",
       "            color:  black;\n",
       "        }    #T_396f9fc4_852e_11eb_8d9f_5cf3709e0882row4_col4 {\n",
       "            color:  black;\n",
       "        }</style><table id=\"T_396f9fc4_852e_11eb_8d9f_5cf3709e0882\" ><thead>    <tr>        <th class=\"blank level0\" ></th>        <th class=\"col_heading level0 col0\" >0</th>        <th class=\"col_heading level0 col1\" >1</th>        <th class=\"col_heading level0 col2\" >2</th>        <th class=\"col_heading level0 col3\" >3</th>        <th class=\"col_heading level0 col4\" >4</th>    </tr></thead><tbody>\n",
       "                <tr>\n",
       "                        <th id=\"T_396f9fc4_852e_11eb_8d9f_5cf3709e0882level0_row0\" class=\"row_heading level0 row0\" >0</th>\n",
       "                        <td id=\"T_396f9fc4_852e_11eb_8d9f_5cf3709e0882row0_col0\" class=\"data row0 col0\" >False</td>\n",
       "                        <td id=\"T_396f9fc4_852e_11eb_8d9f_5cf3709e0882row0_col1\" class=\"data row0 col1\" >True</td>\n",
       "                        <td id=\"T_396f9fc4_852e_11eb_8d9f_5cf3709e0882row0_col2\" class=\"data row0 col2\" >True</td>\n",
       "                        <td id=\"T_396f9fc4_852e_11eb_8d9f_5cf3709e0882row0_col3\" class=\"data row0 col3\" >False</td>\n",
       "                        <td id=\"T_396f9fc4_852e_11eb_8d9f_5cf3709e0882row0_col4\" class=\"data row0 col4\" >True</td>\n",
       "            </tr>\n",
       "            <tr>\n",
       "                        <th id=\"T_396f9fc4_852e_11eb_8d9f_5cf3709e0882level0_row1\" class=\"row_heading level0 row1\" >1</th>\n",
       "                        <td id=\"T_396f9fc4_852e_11eb_8d9f_5cf3709e0882row1_col0\" class=\"data row1 col0\" >True</td>\n",
       "                        <td id=\"T_396f9fc4_852e_11eb_8d9f_5cf3709e0882row1_col1\" class=\"data row1 col1\" >False</td>\n",
       "                        <td id=\"T_396f9fc4_852e_11eb_8d9f_5cf3709e0882row1_col2\" class=\"data row1 col2\" >True</td>\n",
       "                        <td id=\"T_396f9fc4_852e_11eb_8d9f_5cf3709e0882row1_col3\" class=\"data row1 col3\" >False</td>\n",
       "                        <td id=\"T_396f9fc4_852e_11eb_8d9f_5cf3709e0882row1_col4\" class=\"data row1 col4\" >True</td>\n",
       "            </tr>\n",
       "            <tr>\n",
       "                        <th id=\"T_396f9fc4_852e_11eb_8d9f_5cf3709e0882level0_row2\" class=\"row_heading level0 row2\" >2</th>\n",
       "                        <td id=\"T_396f9fc4_852e_11eb_8d9f_5cf3709e0882row2_col0\" class=\"data row2 col0\" >True</td>\n",
       "                        <td id=\"T_396f9fc4_852e_11eb_8d9f_5cf3709e0882row2_col1\" class=\"data row2 col1\" >True</td>\n",
       "                        <td id=\"T_396f9fc4_852e_11eb_8d9f_5cf3709e0882row2_col2\" class=\"data row2 col2\" >False</td>\n",
       "                        <td id=\"T_396f9fc4_852e_11eb_8d9f_5cf3709e0882row2_col3\" class=\"data row2 col3\" >False</td>\n",
       "                        <td id=\"T_396f9fc4_852e_11eb_8d9f_5cf3709e0882row2_col4\" class=\"data row2 col4\" >False</td>\n",
       "            </tr>\n",
       "            <tr>\n",
       "                        <th id=\"T_396f9fc4_852e_11eb_8d9f_5cf3709e0882level0_row3\" class=\"row_heading level0 row3\" >3</th>\n",
       "                        <td id=\"T_396f9fc4_852e_11eb_8d9f_5cf3709e0882row3_col0\" class=\"data row3 col0\" >False</td>\n",
       "                        <td id=\"T_396f9fc4_852e_11eb_8d9f_5cf3709e0882row3_col1\" class=\"data row3 col1\" >False</td>\n",
       "                        <td id=\"T_396f9fc4_852e_11eb_8d9f_5cf3709e0882row3_col2\" class=\"data row3 col2\" >False</td>\n",
       "                        <td id=\"T_396f9fc4_852e_11eb_8d9f_5cf3709e0882row3_col3\" class=\"data row3 col3\" >False</td>\n",
       "                        <td id=\"T_396f9fc4_852e_11eb_8d9f_5cf3709e0882row3_col4\" class=\"data row3 col4\" >False</td>\n",
       "            </tr>\n",
       "            <tr>\n",
       "                        <th id=\"T_396f9fc4_852e_11eb_8d9f_5cf3709e0882level0_row4\" class=\"row_heading level0 row4\" >4</th>\n",
       "                        <td id=\"T_396f9fc4_852e_11eb_8d9f_5cf3709e0882row4_col0\" class=\"data row4 col0\" >True</td>\n",
       "                        <td id=\"T_396f9fc4_852e_11eb_8d9f_5cf3709e0882row4_col1\" class=\"data row4 col1\" >True</td>\n",
       "                        <td id=\"T_396f9fc4_852e_11eb_8d9f_5cf3709e0882row4_col2\" class=\"data row4 col2\" >False</td>\n",
       "                        <td id=\"T_396f9fc4_852e_11eb_8d9f_5cf3709e0882row4_col3\" class=\"data row4 col3\" >False</td>\n",
       "                        <td id=\"T_396f9fc4_852e_11eb_8d9f_5cf3709e0882row4_col4\" class=\"data row4 col4\" >False</td>\n",
       "            </tr>\n",
       "    </tbody></table>"
      ],
      "text/plain": [
       "<pandas.io.formats.style.Styler at 0x274a9c7fb50>"
      ]
     },
     "execution_count": 80,
     "metadata": {},
     "output_type": "execute_result"
    }
   ],
   "source": [
    "stat_difference('hc_n5_label', 5).style.applymap(color_true_red)"
   ]
  },
  {
   "cell_type": "markdown",
   "metadata": {},
   "source": [
    "KM clustering schema statistical differences:\n",
    "* `km_label` -- 5 out of 10 combinations are different (50%)\n",
    "* `km_trimmed_label` -- 4 out of 10 combinations are different (40%)\n",
    "* `km_s_label` -- 4 out of 10 combinations are different (40%)\n",
    "* `km_n4_label` -- 1 out of 3 combinations are different (~33%)\n",
    "* `km_n5_label` -- 3 out of 6 combinations are different (50%)\n",
    "\n",
    "Hierarchial clustering schema statistical differences:\n",
    "* `hc_label` -- 3 out of 3 combinations are different (100%)\n",
    "* `hc_s_label` -- 0 out of 3 combinations are different (0%)\n",
    "* `hc_n5_label` -- 3 out of 6 combinations are different (50%)\n",
    "\n",
    "I'm actually shocked by the hierarchial statistical performance! I think because of it's statistical differences, I'll go with the base HC schema (which has n=4). At the moment, I can't think of any reason to also look at another schema, although I maintain that it is O.K. if the labels aren't statistically different from each other when it comes to recycle rates, because ultimately I'm looking for trends."
   ]
  },
  {
   "cell_type": "code",
   "execution_count": 81,
   "metadata": {},
   "outputs": [],
   "source": [
    "# from Part 2 + hc_label\n",
    "cols_to_include = ['edu_high_school_and_higher_%', 'unemployment_rate_%', 'median_household_income', 'people_below_poverty_level_%', 'occupancy_%', '1-unit_attached_%', '2-units_%', '3-4_units_%', '5-9_units_%',\n",
    " '10-19_units_%', '20+_units_%', 'KEY_total_population', 'median_age', 'demo_black_aa_%', 'demo_american_indian_%', 'demo_asian_%', 'demo_native_islander%', 'demo_hispanic_latino_%', 'rep%', 'un%', 'total_waste/hh',\n",
    " 'hc_label']"
   ]
  },
  {
   "cell_type": "code",
   "execution_count": 82,
   "metadata": {},
   "outputs": [],
   "source": [
    "hc_schema = cluster[cols_to_include]"
   ]
  },
  {
   "cell_type": "code",
   "execution_count": 83,
   "metadata": {},
   "outputs": [],
   "source": [
    "population_stats = hc_schema.describe().T\n",
    "\n",
    "stats0 = hc_schema[hc_schema['hc_label'] == 0].describe().T\n",
    "stats1 = hc_schema[hc_schema['hc_label'] == 1].describe().T\n",
    "stats2 = hc_schema[hc_schema['hc_label'] == 2].describe().T\n",
    "stats3 = hc_schema[hc_schema['hc_label'] == 3].describe().T"
   ]
  },
  {
   "cell_type": "code",
   "execution_count": 88,
   "metadata": {},
   "outputs": [
    {
     "data": {
      "text/html": [
       "<div>\n",
       "<style scoped>\n",
       "    .dataframe tbody tr th:only-of-type {\n",
       "        vertical-align: middle;\n",
       "    }\n",
       "\n",
       "    .dataframe tbody tr th {\n",
       "        vertical-align: top;\n",
       "    }\n",
       "\n",
       "    .dataframe thead th {\n",
       "        text-align: right;\n",
       "    }\n",
       "</style>\n",
       "<table border=\"1\" class=\"dataframe\">\n",
       "  <thead>\n",
       "    <tr style=\"text-align: right;\">\n",
       "      <th></th>\n",
       "      <th>count</th>\n",
       "      <th>mean</th>\n",
       "      <th>std</th>\n",
       "      <th>min</th>\n",
       "      <th>25%</th>\n",
       "      <th>50%</th>\n",
       "      <th>75%</th>\n",
       "      <th>max</th>\n",
       "    </tr>\n",
       "  </thead>\n",
       "  <tbody>\n",
       "    <tr>\n",
       "      <th>edu_high_school_and_higher_%</th>\n",
       "      <td>1.0</td>\n",
       "      <td>87.200000</td>\n",
       "      <td>NaN</td>\n",
       "      <td>87.200000</td>\n",
       "      <td>87.200000</td>\n",
       "      <td>87.200000</td>\n",
       "      <td>87.200000</td>\n",
       "      <td>87.200000</td>\n",
       "    </tr>\n",
       "    <tr>\n",
       "      <th>unemployment_rate_%</th>\n",
       "      <td>1.0</td>\n",
       "      <td>6.600000</td>\n",
       "      <td>NaN</td>\n",
       "      <td>6.600000</td>\n",
       "      <td>6.600000</td>\n",
       "      <td>6.600000</td>\n",
       "      <td>6.600000</td>\n",
       "      <td>6.600000</td>\n",
       "    </tr>\n",
       "    <tr>\n",
       "      <th>median_household_income</th>\n",
       "      <td>1.0</td>\n",
       "      <td>71115.000000</td>\n",
       "      <td>NaN</td>\n",
       "      <td>71115.000000</td>\n",
       "      <td>71115.000000</td>\n",
       "      <td>71115.000000</td>\n",
       "      <td>71115.000000</td>\n",
       "      <td>71115.000000</td>\n",
       "    </tr>\n",
       "    <tr>\n",
       "      <th>people_below_poverty_level_%</th>\n",
       "      <td>1.0</td>\n",
       "      <td>18.900000</td>\n",
       "      <td>NaN</td>\n",
       "      <td>18.900000</td>\n",
       "      <td>18.900000</td>\n",
       "      <td>18.900000</td>\n",
       "      <td>18.900000</td>\n",
       "      <td>18.900000</td>\n",
       "    </tr>\n",
       "    <tr>\n",
       "      <th>occupancy_%</th>\n",
       "      <td>1.0</td>\n",
       "      <td>91.500000</td>\n",
       "      <td>NaN</td>\n",
       "      <td>91.500000</td>\n",
       "      <td>91.500000</td>\n",
       "      <td>91.500000</td>\n",
       "      <td>91.500000</td>\n",
       "      <td>91.500000</td>\n",
       "    </tr>\n",
       "    <tr>\n",
       "      <th>1-unit_attached_%</th>\n",
       "      <td>1.0</td>\n",
       "      <td>6.300000</td>\n",
       "      <td>NaN</td>\n",
       "      <td>6.300000</td>\n",
       "      <td>6.300000</td>\n",
       "      <td>6.300000</td>\n",
       "      <td>6.300000</td>\n",
       "      <td>6.300000</td>\n",
       "    </tr>\n",
       "    <tr>\n",
       "      <th>2-units_%</th>\n",
       "      <td>1.0</td>\n",
       "      <td>13.400000</td>\n",
       "      <td>NaN</td>\n",
       "      <td>13.400000</td>\n",
       "      <td>13.400000</td>\n",
       "      <td>13.400000</td>\n",
       "      <td>13.400000</td>\n",
       "      <td>13.400000</td>\n",
       "    </tr>\n",
       "    <tr>\n",
       "      <th>3-4_units_%</th>\n",
       "      <td>1.0</td>\n",
       "      <td>24.200000</td>\n",
       "      <td>NaN</td>\n",
       "      <td>24.200000</td>\n",
       "      <td>24.200000</td>\n",
       "      <td>24.200000</td>\n",
       "      <td>24.200000</td>\n",
       "      <td>24.200000</td>\n",
       "    </tr>\n",
       "    <tr>\n",
       "      <th>5-9_units_%</th>\n",
       "      <td>1.0</td>\n",
       "      <td>11.000000</td>\n",
       "      <td>NaN</td>\n",
       "      <td>11.000000</td>\n",
       "      <td>11.000000</td>\n",
       "      <td>11.000000</td>\n",
       "      <td>11.000000</td>\n",
       "      <td>11.000000</td>\n",
       "    </tr>\n",
       "    <tr>\n",
       "      <th>10-19_units_%</th>\n",
       "      <td>1.0</td>\n",
       "      <td>7.700000</td>\n",
       "      <td>NaN</td>\n",
       "      <td>7.700000</td>\n",
       "      <td>7.700000</td>\n",
       "      <td>7.700000</td>\n",
       "      <td>7.700000</td>\n",
       "      <td>7.700000</td>\n",
       "    </tr>\n",
       "    <tr>\n",
       "      <th>20+_units_%</th>\n",
       "      <td>1.0</td>\n",
       "      <td>25.300000</td>\n",
       "      <td>NaN</td>\n",
       "      <td>25.300000</td>\n",
       "      <td>25.300000</td>\n",
       "      <td>25.300000</td>\n",
       "      <td>25.300000</td>\n",
       "      <td>25.300000</td>\n",
       "    </tr>\n",
       "    <tr>\n",
       "      <th>KEY_total_population</th>\n",
       "      <td>1.0</td>\n",
       "      <td>684379.000000</td>\n",
       "      <td>NaN</td>\n",
       "      <td>684379.000000</td>\n",
       "      <td>684379.000000</td>\n",
       "      <td>684379.000000</td>\n",
       "      <td>684379.000000</td>\n",
       "      <td>684379.000000</td>\n",
       "    </tr>\n",
       "    <tr>\n",
       "      <th>median_age</th>\n",
       "      <td>1.0</td>\n",
       "      <td>32.200000</td>\n",
       "      <td>NaN</td>\n",
       "      <td>32.200000</td>\n",
       "      <td>32.200000</td>\n",
       "      <td>32.200000</td>\n",
       "      <td>32.200000</td>\n",
       "      <td>32.200000</td>\n",
       "    </tr>\n",
       "    <tr>\n",
       "      <th>demo_black_aa_%</th>\n",
       "      <td>1.0</td>\n",
       "      <td>28.900000</td>\n",
       "      <td>NaN</td>\n",
       "      <td>28.900000</td>\n",
       "      <td>28.900000</td>\n",
       "      <td>28.900000</td>\n",
       "      <td>28.900000</td>\n",
       "      <td>28.900000</td>\n",
       "    </tr>\n",
       "    <tr>\n",
       "      <th>demo_american_indian_%</th>\n",
       "      <td>1.0</td>\n",
       "      <td>0.900000</td>\n",
       "      <td>NaN</td>\n",
       "      <td>0.900000</td>\n",
       "      <td>0.900000</td>\n",
       "      <td>0.900000</td>\n",
       "      <td>0.900000</td>\n",
       "      <td>0.900000</td>\n",
       "    </tr>\n",
       "    <tr>\n",
       "      <th>demo_asian_%</th>\n",
       "      <td>1.0</td>\n",
       "      <td>10.700000</td>\n",
       "      <td>NaN</td>\n",
       "      <td>10.700000</td>\n",
       "      <td>10.700000</td>\n",
       "      <td>10.700000</td>\n",
       "      <td>10.700000</td>\n",
       "      <td>10.700000</td>\n",
       "    </tr>\n",
       "    <tr>\n",
       "      <th>demo_native_islander%</th>\n",
       "      <td>1.0</td>\n",
       "      <td>0.200000</td>\n",
       "      <td>NaN</td>\n",
       "      <td>0.200000</td>\n",
       "      <td>0.200000</td>\n",
       "      <td>0.200000</td>\n",
       "      <td>0.200000</td>\n",
       "      <td>0.200000</td>\n",
       "    </tr>\n",
       "    <tr>\n",
       "      <th>demo_hispanic_latino_%</th>\n",
       "      <td>1.0</td>\n",
       "      <td>19.800000</td>\n",
       "      <td>NaN</td>\n",
       "      <td>19.800000</td>\n",
       "      <td>19.800000</td>\n",
       "      <td>19.800000</td>\n",
       "      <td>19.800000</td>\n",
       "      <td>19.800000</td>\n",
       "    </tr>\n",
       "    <tr>\n",
       "      <th>rep%</th>\n",
       "      <td>1.0</td>\n",
       "      <td>6.000000</td>\n",
       "      <td>NaN</td>\n",
       "      <td>6.000000</td>\n",
       "      <td>6.000000</td>\n",
       "      <td>6.000000</td>\n",
       "      <td>6.000000</td>\n",
       "      <td>6.000000</td>\n",
       "    </tr>\n",
       "    <tr>\n",
       "      <th>un%</th>\n",
       "      <td>1.0</td>\n",
       "      <td>42.000000</td>\n",
       "      <td>NaN</td>\n",
       "      <td>42.000000</td>\n",
       "      <td>42.000000</td>\n",
       "      <td>42.000000</td>\n",
       "      <td>42.000000</td>\n",
       "      <td>42.000000</td>\n",
       "    </tr>\n",
       "    <tr>\n",
       "      <th>total_waste/hh</th>\n",
       "      <td>1.0</td>\n",
       "      <td>0.866012</td>\n",
       "      <td>NaN</td>\n",
       "      <td>0.866012</td>\n",
       "      <td>0.866012</td>\n",
       "      <td>0.866012</td>\n",
       "      <td>0.866012</td>\n",
       "      <td>0.866012</td>\n",
       "    </tr>\n",
       "    <tr>\n",
       "      <th>hc_label</th>\n",
       "      <td>1.0</td>\n",
       "      <td>3.000000</td>\n",
       "      <td>NaN</td>\n",
       "      <td>3.000000</td>\n",
       "      <td>3.000000</td>\n",
       "      <td>3.000000</td>\n",
       "      <td>3.000000</td>\n",
       "      <td>3.000000</td>\n",
       "    </tr>\n",
       "  </tbody>\n",
       "</table>\n",
       "</div>"
      ],
      "text/plain": [
       "                              count           mean  std            min  \\\n",
       "edu_high_school_and_higher_%    1.0      87.200000  NaN      87.200000   \n",
       "unemployment_rate_%             1.0       6.600000  NaN       6.600000   \n",
       "median_household_income         1.0   71115.000000  NaN   71115.000000   \n",
       "people_below_poverty_level_%    1.0      18.900000  NaN      18.900000   \n",
       "occupancy_%                     1.0      91.500000  NaN      91.500000   \n",
       "1-unit_attached_%               1.0       6.300000  NaN       6.300000   \n",
       "2-units_%                       1.0      13.400000  NaN      13.400000   \n",
       "3-4_units_%                     1.0      24.200000  NaN      24.200000   \n",
       "5-9_units_%                     1.0      11.000000  NaN      11.000000   \n",
       "10-19_units_%                   1.0       7.700000  NaN       7.700000   \n",
       "20+_units_%                     1.0      25.300000  NaN      25.300000   \n",
       "KEY_total_population            1.0  684379.000000  NaN  684379.000000   \n",
       "median_age                      1.0      32.200000  NaN      32.200000   \n",
       "demo_black_aa_%                 1.0      28.900000  NaN      28.900000   \n",
       "demo_american_indian_%          1.0       0.900000  NaN       0.900000   \n",
       "demo_asian_%                    1.0      10.700000  NaN      10.700000   \n",
       "demo_native_islander%           1.0       0.200000  NaN       0.200000   \n",
       "demo_hispanic_latino_%          1.0      19.800000  NaN      19.800000   \n",
       "rep%                            1.0       6.000000  NaN       6.000000   \n",
       "un%                             1.0      42.000000  NaN      42.000000   \n",
       "total_waste/hh                  1.0       0.866012  NaN       0.866012   \n",
       "hc_label                        1.0       3.000000  NaN       3.000000   \n",
       "\n",
       "                                        25%            50%            75%  \\\n",
       "edu_high_school_and_higher_%      87.200000      87.200000      87.200000   \n",
       "unemployment_rate_%                6.600000       6.600000       6.600000   \n",
       "median_household_income        71115.000000   71115.000000   71115.000000   \n",
       "people_below_poverty_level_%      18.900000      18.900000      18.900000   \n",
       "occupancy_%                       91.500000      91.500000      91.500000   \n",
       "1-unit_attached_%                  6.300000       6.300000       6.300000   \n",
       "2-units_%                         13.400000      13.400000      13.400000   \n",
       "3-4_units_%                       24.200000      24.200000      24.200000   \n",
       "5-9_units_%                       11.000000      11.000000      11.000000   \n",
       "10-19_units_%                      7.700000       7.700000       7.700000   \n",
       "20+_units_%                       25.300000      25.300000      25.300000   \n",
       "KEY_total_population          684379.000000  684379.000000  684379.000000   \n",
       "median_age                        32.200000      32.200000      32.200000   \n",
       "demo_black_aa_%                   28.900000      28.900000      28.900000   \n",
       "demo_american_indian_%             0.900000       0.900000       0.900000   \n",
       "demo_asian_%                      10.700000      10.700000      10.700000   \n",
       "demo_native_islander%              0.200000       0.200000       0.200000   \n",
       "demo_hispanic_latino_%            19.800000      19.800000      19.800000   \n",
       "rep%                               6.000000       6.000000       6.000000   \n",
       "un%                               42.000000      42.000000      42.000000   \n",
       "total_waste/hh                     0.866012       0.866012       0.866012   \n",
       "hc_label                           3.000000       3.000000       3.000000   \n",
       "\n",
       "                                        max  \n",
       "edu_high_school_and_higher_%      87.200000  \n",
       "unemployment_rate_%                6.600000  \n",
       "median_household_income        71115.000000  \n",
       "people_below_poverty_level_%      18.900000  \n",
       "occupancy_%                       91.500000  \n",
       "1-unit_attached_%                  6.300000  \n",
       "2-units_%                         13.400000  \n",
       "3-4_units_%                       24.200000  \n",
       "5-9_units_%                       11.000000  \n",
       "10-19_units_%                      7.700000  \n",
       "20+_units_%                       25.300000  \n",
       "KEY_total_population          684379.000000  \n",
       "median_age                        32.200000  \n",
       "demo_black_aa_%                   28.900000  \n",
       "demo_american_indian_%             0.900000  \n",
       "demo_asian_%                      10.700000  \n",
       "demo_native_islander%              0.200000  \n",
       "demo_hispanic_latino_%            19.800000  \n",
       "rep%                               6.000000  \n",
       "un%                               42.000000  \n",
       "total_waste/hh                     0.866012  \n",
       "hc_label                           3.000000  "
      ]
     },
     "execution_count": 88,
     "metadata": {},
     "output_type": "execute_result"
    }
   ],
   "source": [
    "stats3"
   ]
  },
  {
   "cell_type": "code",
   "execution_count": 100,
   "metadata": {},
   "outputs": [],
   "source": [
    "d = 25"
   ]
  },
  {
   "cell_type": "code",
   "execution_count": 112,
   "metadata": {},
   "outputs": [
    {
     "data": {
      "text/html": [
       "<div>\n",
       "<style scoped>\n",
       "    .dataframe tbody tr th:only-of-type {\n",
       "        vertical-align: middle;\n",
       "    }\n",
       "\n",
       "    .dataframe tbody tr th {\n",
       "        vertical-align: top;\n",
       "    }\n",
       "\n",
       "    .dataframe thead th {\n",
       "        text-align: right;\n",
       "    }\n",
       "</style>\n",
       "<table border=\"1\" class=\"dataframe\">\n",
       "  <thead>\n",
       "    <tr style=\"text-align: right;\">\n",
       "      <th></th>\n",
       "      <th>mean</th>\n",
       "      <th>25%</th>\n",
       "      <th>50%</th>\n",
       "      <th>75%</th>\n",
       "    </tr>\n",
       "  </thead>\n",
       "  <tbody>\n",
       "    <tr>\n",
       "      <th>1-unit_attached_%</th>\n",
       "      <td>-9.298822</td>\n",
       "      <td>-31.428571</td>\n",
       "      <td>-17.948718</td>\n",
       "      <td>-3.333333</td>\n",
       "    </tr>\n",
       "    <tr>\n",
       "      <th>5-9_units_%</th>\n",
       "      <td>-5.319994</td>\n",
       "      <td>-33.333333</td>\n",
       "      <td>-10.000000</td>\n",
       "      <td>0.000000</td>\n",
       "    </tr>\n",
       "    <tr>\n",
       "      <th>20+_units_%</th>\n",
       "      <td>-29.755975</td>\n",
       "      <td>-100.000000</td>\n",
       "      <td>-48.484848</td>\n",
       "      <td>-19.298246</td>\n",
       "    </tr>\n",
       "    <tr>\n",
       "      <th>KEY_total_population</th>\n",
       "      <td>-54.850935</td>\n",
       "      <td>-33.607521</td>\n",
       "      <td>-40.389846</td>\n",
       "      <td>-37.353492</td>\n",
       "    </tr>\n",
       "    <tr>\n",
       "      <th>demo_black_aa_%</th>\n",
       "      <td>-26.619196</td>\n",
       "      <td>-31.578947</td>\n",
       "      <td>-11.538462</td>\n",
       "      <td>-21.052632</td>\n",
       "    </tr>\n",
       "    <tr>\n",
       "      <th>demo_asian_%</th>\n",
       "      <td>-38.088004</td>\n",
       "      <td>-50.000000</td>\n",
       "      <td>-32.142857</td>\n",
       "      <td>-38.842975</td>\n",
       "    </tr>\n",
       "    <tr>\n",
       "      <th>demo_native_islander%</th>\n",
       "      <td>-11.147541</td>\n",
       "      <td>NaN</td>\n",
       "      <td>NaN</td>\n",
       "      <td>-33.333333</td>\n",
       "    </tr>\n",
       "    <tr>\n",
       "      <th>demo_hispanic_latino_%</th>\n",
       "      <td>-32.321717</td>\n",
       "      <td>-19.354839</td>\n",
       "      <td>-12.500000</td>\n",
       "      <td>-23.200000</td>\n",
       "    </tr>\n",
       "    <tr>\n",
       "      <th>hc_label</th>\n",
       "      <td>-100.000000</td>\n",
       "      <td>NaN</td>\n",
       "      <td>NaN</td>\n",
       "      <td>-100.000000</td>\n",
       "    </tr>\n",
       "  </tbody>\n",
       "</table>\n",
       "</div>"
      ],
      "text/plain": [
       "                              mean         25%        50%         75%\n",
       "1-unit_attached_%        -9.298822  -31.428571 -17.948718   -3.333333\n",
       "5-9_units_%              -5.319994  -33.333333 -10.000000    0.000000\n",
       "20+_units_%             -29.755975 -100.000000 -48.484848  -19.298246\n",
       "KEY_total_population    -54.850935  -33.607521 -40.389846  -37.353492\n",
       "demo_black_aa_%         -26.619196  -31.578947 -11.538462  -21.052632\n",
       "demo_asian_%            -38.088004  -50.000000 -32.142857  -38.842975\n",
       "demo_native_islander%   -11.147541         NaN        NaN  -33.333333\n",
       "demo_hispanic_latino_%  -32.321717  -19.354839 -12.500000  -23.200000\n",
       "hc_label               -100.000000         NaN        NaN -100.000000"
      ]
     },
     "execution_count": 112,
     "metadata": {},
     "output_type": "execute_result"
    }
   ],
   "source": [
    "sub0 = 100*(stats0 - population_stats ) / population_stats\n",
    "\n",
    "sub0.drop(columns=['count', 'std', 'min', 'max'], inplace=True)\n",
    "sub0[(abs(sub0['mean']) > d) | (abs(sub0['25%']) > d) | (abs(sub0['50%']) > d) | (abs(sub0['75%']) > d)]"
   ]
  },
  {
   "cell_type": "code",
   "execution_count": 113,
   "metadata": {},
   "outputs": [
    {
     "data": {
      "text/html": [
       "<div>\n",
       "<style scoped>\n",
       "    .dataframe tbody tr th:only-of-type {\n",
       "        vertical-align: middle;\n",
       "    }\n",
       "\n",
       "    .dataframe tbody tr th {\n",
       "        vertical-align: top;\n",
       "    }\n",
       "\n",
       "    .dataframe thead th {\n",
       "        text-align: right;\n",
       "    }\n",
       "</style>\n",
       "<table border=\"1\" class=\"dataframe\">\n",
       "  <thead>\n",
       "    <tr style=\"text-align: right;\">\n",
       "      <th></th>\n",
       "      <th>mean</th>\n",
       "      <th>25%</th>\n",
       "      <th>50%</th>\n",
       "      <th>75%</th>\n",
       "    </tr>\n",
       "  </thead>\n",
       "  <tbody>\n",
       "    <tr>\n",
       "      <th>unemployment_rate_%</th>\n",
       "      <td>25.085236</td>\n",
       "      <td>33.333333</td>\n",
       "      <td>30.000000</td>\n",
       "      <td>17.647059</td>\n",
       "    </tr>\n",
       "    <tr>\n",
       "      <th>people_below_poverty_level_%</th>\n",
       "      <td>73.439086</td>\n",
       "      <td>120.512821</td>\n",
       "      <td>98.412698</td>\n",
       "      <td>63.350785</td>\n",
       "    </tr>\n",
       "    <tr>\n",
       "      <th>1-unit_attached_%</th>\n",
       "      <td>25.726257</td>\n",
       "      <td>122.857143</td>\n",
       "      <td>43.589744</td>\n",
       "      <td>3.333333</td>\n",
       "    </tr>\n",
       "    <tr>\n",
       "      <th>2-units_%</th>\n",
       "      <td>94.749838</td>\n",
       "      <td>263.265306</td>\n",
       "      <td>133.333333</td>\n",
       "      <td>54.368932</td>\n",
       "    </tr>\n",
       "    <tr>\n",
       "      <th>3-4_units_%</th>\n",
       "      <td>114.607606</td>\n",
       "      <td>396.969697</td>\n",
       "      <td>181.395349</td>\n",
       "      <td>72.916667</td>\n",
       "    </tr>\n",
       "    <tr>\n",
       "      <th>5-9_units_%</th>\n",
       "      <td>77.875451</td>\n",
       "      <td>350.000000</td>\n",
       "      <td>90.000000</td>\n",
       "      <td>51.724138</td>\n",
       "    </tr>\n",
       "    <tr>\n",
       "      <th>10-19_units_%</th>\n",
       "      <td>90.268162</td>\n",
       "      <td>inf</td>\n",
       "      <td>200.000000</td>\n",
       "      <td>29.347826</td>\n",
       "    </tr>\n",
       "    <tr>\n",
       "      <th>20+_units_%</th>\n",
       "      <td>158.270432</td>\n",
       "      <td>2457.142857</td>\n",
       "      <td>303.030303</td>\n",
       "      <td>95.321637</td>\n",
       "    </tr>\n",
       "    <tr>\n",
       "      <th>KEY_total_population</th>\n",
       "      <td>238.718938</td>\n",
       "      <td>1646.866432</td>\n",
       "      <td>553.184497</td>\n",
       "      <td>262.162217</td>\n",
       "    </tr>\n",
       "    <tr>\n",
       "      <th>demo_black_aa_%</th>\n",
       "      <td>178.599836</td>\n",
       "      <td>526.315789</td>\n",
       "      <td>203.846154</td>\n",
       "      <td>124.210526</td>\n",
       "    </tr>\n",
       "    <tr>\n",
       "      <th>demo_american_indian_%</th>\n",
       "      <td>-2.592155</td>\n",
       "      <td>450.000000</td>\n",
       "      <td>60.000000</td>\n",
       "      <td>5.555556</td>\n",
       "    </tr>\n",
       "    <tr>\n",
       "      <th>demo_asian_%</th>\n",
       "      <td>77.340142</td>\n",
       "      <td>140.000000</td>\n",
       "      <td>64.285714</td>\n",
       "      <td>104.132231</td>\n",
       "    </tr>\n",
       "    <tr>\n",
       "      <th>demo_native_islander%</th>\n",
       "      <td>73.230024</td>\n",
       "      <td>inf</td>\n",
       "      <td>inf</td>\n",
       "      <td>100.000000</td>\n",
       "    </tr>\n",
       "    <tr>\n",
       "      <th>demo_hispanic_latino_%</th>\n",
       "      <td>226.504137</td>\n",
       "      <td>338.709677</td>\n",
       "      <td>246.875000</td>\n",
       "      <td>243.200000</td>\n",
       "    </tr>\n",
       "    <tr>\n",
       "      <th>rep%</th>\n",
       "      <td>-29.831116</td>\n",
       "      <td>-33.333333</td>\n",
       "      <td>-33.333333</td>\n",
       "      <td>-28.571429</td>\n",
       "    </tr>\n",
       "    <tr>\n",
       "      <th>hc_label</th>\n",
       "      <td>90.845070</td>\n",
       "      <td>inf</td>\n",
       "      <td>inf</td>\n",
       "      <td>0.000000</td>\n",
       "    </tr>\n",
       "  </tbody>\n",
       "</table>\n",
       "</div>"
      ],
      "text/plain": [
       "                                    mean          25%         50%         75%\n",
       "unemployment_rate_%            25.085236    33.333333   30.000000   17.647059\n",
       "people_below_poverty_level_%   73.439086   120.512821   98.412698   63.350785\n",
       "1-unit_attached_%              25.726257   122.857143   43.589744    3.333333\n",
       "2-units_%                      94.749838   263.265306  133.333333   54.368932\n",
       "3-4_units_%                   114.607606   396.969697  181.395349   72.916667\n",
       "5-9_units_%                    77.875451   350.000000   90.000000   51.724138\n",
       "10-19_units_%                  90.268162          inf  200.000000   29.347826\n",
       "20+_units_%                   158.270432  2457.142857  303.030303   95.321637\n",
       "KEY_total_population          238.718938  1646.866432  553.184497  262.162217\n",
       "demo_black_aa_%               178.599836   526.315789  203.846154  124.210526\n",
       "demo_american_indian_%         -2.592155   450.000000   60.000000    5.555556\n",
       "demo_asian_%                   77.340142   140.000000   64.285714  104.132231\n",
       "demo_native_islander%          73.230024          inf         inf  100.000000\n",
       "demo_hispanic_latino_%        226.504137   338.709677  246.875000  243.200000\n",
       "rep%                          -29.831116   -33.333333  -33.333333  -28.571429\n",
       "hc_label                       90.845070          inf         inf    0.000000"
      ]
     },
     "execution_count": 113,
     "metadata": {},
     "output_type": "execute_result"
    }
   ],
   "source": [
    "sub1 = 100*(stats1 - population_stats) / population_stats\n",
    "\n",
    "sub1.drop(columns=['count', 'std', 'min', 'max'], inplace=True)\n",
    "sub1[(abs(sub1['mean']) > d) | (abs(sub1['25%']) > d) | (abs(sub1['50%']) > d) | (abs(sub1['75%']) > d)]"
   ]
  },
  {
   "cell_type": "code",
   "execution_count": 114,
   "metadata": {},
   "outputs": [
    {
     "data": {
      "text/html": [
       "<div>\n",
       "<style scoped>\n",
       "    .dataframe tbody tr th:only-of-type {\n",
       "        vertical-align: middle;\n",
       "    }\n",
       "\n",
       "    .dataframe tbody tr th {\n",
       "        vertical-align: top;\n",
       "    }\n",
       "\n",
       "    .dataframe thead th {\n",
       "        text-align: right;\n",
       "    }\n",
       "</style>\n",
       "<table border=\"1\" class=\"dataframe\">\n",
       "  <thead>\n",
       "    <tr style=\"text-align: right;\">\n",
       "      <th></th>\n",
       "      <th>mean</th>\n",
       "      <th>25%</th>\n",
       "      <th>50%</th>\n",
       "      <th>75%</th>\n",
       "    </tr>\n",
       "  </thead>\n",
       "  <tbody>\n",
       "    <tr>\n",
       "      <th>median_household_income</th>\n",
       "      <td>60.135200</td>\n",
       "      <td>87.525020</td>\n",
       "      <td>59.358813</td>\n",
       "      <td>52.126205</td>\n",
       "    </tr>\n",
       "    <tr>\n",
       "      <th>people_below_poverty_level_%</th>\n",
       "      <td>-52.822834</td>\n",
       "      <td>-32.051282</td>\n",
       "      <td>-51.587302</td>\n",
       "      <td>-57.068063</td>\n",
       "    </tr>\n",
       "    <tr>\n",
       "      <th>1-unit_attached_%</th>\n",
       "      <td>14.524616</td>\n",
       "      <td>58.571429</td>\n",
       "      <td>2.564103</td>\n",
       "      <td>5.416667</td>\n",
       "    </tr>\n",
       "    <tr>\n",
       "      <th>2-units_%</th>\n",
       "      <td>-51.081662</td>\n",
       "      <td>-56.122449</td>\n",
       "      <td>-56.140351</td>\n",
       "      <td>-62.378641</td>\n",
       "    </tr>\n",
       "    <tr>\n",
       "      <th>3-4_units_%</th>\n",
       "      <td>-53.236445</td>\n",
       "      <td>-19.696970</td>\n",
       "      <td>-46.511628</td>\n",
       "      <td>-62.239583</td>\n",
       "    </tr>\n",
       "    <tr>\n",
       "      <th>5-9_units_%</th>\n",
       "      <td>-37.233115</td>\n",
       "      <td>-13.888889</td>\n",
       "      <td>-45.000000</td>\n",
       "      <td>-38.362069</td>\n",
       "    </tr>\n",
       "    <tr>\n",
       "      <th>10-19_units_%</th>\n",
       "      <td>-29.848779</td>\n",
       "      <td>inf</td>\n",
       "      <td>-41.176471</td>\n",
       "      <td>-54.347826</td>\n",
       "    </tr>\n",
       "    <tr>\n",
       "      <th>20+_units_%</th>\n",
       "      <td>-8.836990</td>\n",
       "      <td>357.142857</td>\n",
       "      <td>19.696970</td>\n",
       "      <td>-13.742690</td>\n",
       "    </tr>\n",
       "    <tr>\n",
       "      <th>KEY_total_population</th>\n",
       "      <td>-29.508724</td>\n",
       "      <td>115.990991</td>\n",
       "      <td>41.693110</td>\n",
       "      <td>-6.651880</td>\n",
       "    </tr>\n",
       "    <tr>\n",
       "      <th>demo_black_aa_%</th>\n",
       "      <td>-38.803346</td>\n",
       "      <td>-26.315789</td>\n",
       "      <td>-34.615385</td>\n",
       "      <td>-36.315789</td>\n",
       "    </tr>\n",
       "    <tr>\n",
       "      <th>demo_american_indian_%</th>\n",
       "      <td>-53.340220</td>\n",
       "      <td>0.000000</td>\n",
       "      <td>-40.000000</td>\n",
       "      <td>-44.444444</td>\n",
       "    </tr>\n",
       "    <tr>\n",
       "      <th>demo_asian_%</th>\n",
       "      <td>79.517209</td>\n",
       "      <td>142.500000</td>\n",
       "      <td>139.285714</td>\n",
       "      <td>107.438017</td>\n",
       "    </tr>\n",
       "    <tr>\n",
       "      <th>demo_native_islander%</th>\n",
       "      <td>-11.668840</td>\n",
       "      <td>NaN</td>\n",
       "      <td>NaN</td>\n",
       "      <td>33.333333</td>\n",
       "    </tr>\n",
       "    <tr>\n",
       "      <th>demo_hispanic_latino_%</th>\n",
       "      <td>-43.741669</td>\n",
       "      <td>-3.225806</td>\n",
       "      <td>-12.500000</td>\n",
       "      <td>-35.600000</td>\n",
       "    </tr>\n",
       "    <tr>\n",
       "      <th>hc_label</th>\n",
       "      <td>281.690141</td>\n",
       "      <td>inf</td>\n",
       "      <td>inf</td>\n",
       "      <td>100.000000</td>\n",
       "    </tr>\n",
       "  </tbody>\n",
       "</table>\n",
       "</div>"
      ],
      "text/plain": [
       "                                    mean         25%         50%         75%\n",
       "median_household_income        60.135200   87.525020   59.358813   52.126205\n",
       "people_below_poverty_level_%  -52.822834  -32.051282  -51.587302  -57.068063\n",
       "1-unit_attached_%              14.524616   58.571429    2.564103    5.416667\n",
       "2-units_%                     -51.081662  -56.122449  -56.140351  -62.378641\n",
       "3-4_units_%                   -53.236445  -19.696970  -46.511628  -62.239583\n",
       "5-9_units_%                   -37.233115  -13.888889  -45.000000  -38.362069\n",
       "10-19_units_%                 -29.848779         inf  -41.176471  -54.347826\n",
       "20+_units_%                    -8.836990  357.142857   19.696970  -13.742690\n",
       "KEY_total_population          -29.508724  115.990991   41.693110   -6.651880\n",
       "demo_black_aa_%               -38.803346  -26.315789  -34.615385  -36.315789\n",
       "demo_american_indian_%        -53.340220    0.000000  -40.000000  -44.444444\n",
       "demo_asian_%                   79.517209  142.500000  139.285714  107.438017\n",
       "demo_native_islander%         -11.668840         NaN         NaN   33.333333\n",
       "demo_hispanic_latino_%        -43.741669   -3.225806  -12.500000  -35.600000\n",
       "hc_label                      281.690141         inf         inf  100.000000"
      ]
     },
     "execution_count": 114,
     "metadata": {},
     "output_type": "execute_result"
    }
   ],
   "source": [
    "sub2 = 100*(stats2 - population_stats) / population_stats\n",
    "\n",
    "sub2.drop(columns=['count', 'std', 'min', 'max'], inplace=True)\n",
    "sub2[(abs(sub2['mean']) > d) | (abs(sub2['25%']) > d) | (abs(sub2['50%']) > d) | (abs(sub2['75%']) > d)]"
   ]
  },
  {
   "cell_type": "code",
   "execution_count": 116,
   "metadata": {},
   "outputs": [
    {
     "data": {
      "text/plain": [
       "unemployment_rate_%               56.018842\n",
       "people_below_poverty_level_%     151.987602\n",
       "1-unit_attached_%                 45.985464\n",
       "2-units_%                         88.948436\n",
       "3-4_units_%                      284.622603\n",
       "5-9_units_%                      184.040019\n",
       "10-19_units_%                    184.873720\n",
       "20+_units_%                      365.401846\n",
       "KEY_total_population            3217.011939\n",
       "median_age                       -28.287435\n",
       "demo_black_aa_%                  638.092545\n",
       "demo_asian_%                     128.304858\n",
       "demo_native_islander%             83.728814\n",
       "demo_hispanic_latino_%           261.796238\n",
       "rep%                             -49.012230\n",
       "un%                              -29.701686\n",
       "hc_label                         472.535211\n",
       "Name: mean, dtype: float64"
      ]
     },
     "execution_count": 116,
     "metadata": {},
     "output_type": "execute_result"
    }
   ],
   "source": [
    "sub3 = 100*(stats3 - population_stats) / population_stats\n",
    "\n",
    "sub3 = sub3['mean']\n",
    "sub3[(abs(sub3) > d)]"
   ]
  },
  {
   "cell_type": "markdown",
   "metadata": {},
   "source": [
    "Label 0 is lower population with mostly one-family detached homes and mainly white people.\n",
    "\n",
    "Label 1 is very large populations with a high concentration of multi-unit residences (especially highly dense ones), economically instable, extreme ethnic diversity in almost every ethnicity except for American Indians and highly democratic.\n",
    "\n",
    "Label 2 is mid-range population with mostly one-family homes (both detatched and attached), economically stable, very white and Asian.\n",
    "\n",
    "Label 3 is Boston. Population and poverty is a lot higher than any of the others and it is much more ethnically diverse and democratic."
   ]
  },
  {
   "cell_type": "markdown",
   "metadata": {},
   "source": [
    "## Next:\n",
    "\n",
    "Regression analysis within these clusters in [part4b](part4b.ipynb)"
   ]
  },
  {
   "cell_type": "code",
   "execution_count": null,
   "metadata": {},
   "outputs": [],
   "source": []
  }
 ],
 "metadata": {
  "kernelspec": {
   "display_name": "Python 3",
   "language": "python",
   "name": "python3"
  },
  "language_info": {
   "codemirror_mode": {
    "name": "ipython",
    "version": 3
   },
   "file_extension": ".py",
   "mimetype": "text/x-python",
   "name": "python",
   "nbconvert_exporter": "python",
   "pygments_lexer": "ipython3",
   "version": "3.8.3"
  }
 },
 "nbformat": 4,
 "nbformat_minor": 4
}
