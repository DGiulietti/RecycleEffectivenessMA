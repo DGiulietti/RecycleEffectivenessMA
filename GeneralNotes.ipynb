{
 "cells": [
  {
   "cell_type": "markdown",
   "metadata": {},
   "source": [
    "# Final Project, Part 1: Proposal and Dataset\n",
    "*Frame your problem and data source(s)*\n",
    "\n",
    "Describe your chosen problem and state whether you have access to relevant data.\n",
    "\n",
    "## Requirements\n",
    "1. Draft a well-formed one sentence problem statement relevant to a business problem affecting your team, division, or organization.\n",
    "1. Include the following elements:\n",
    "   * Hypothesis/assumptions\n",
    "   * Goals and success metrics\n",
    "   * Risks or limitations\n",
    "1. Identify at least one relevant dataset and confirm that you have access and can share the data."
   ]
  },
  {
   "cell_type": "markdown",
   "metadata": {},
   "source": [
    "## Problem Statement\n",
    "\n",
    "This project will explore the effectiveness of recycling in the state of Massachusetts.\n",
    "Factors of interest:\n",
    "* effect of recycling municipal waste handling program (service type, collection fequency, etc)\n",
    "* effect of trash municipal waste handling program (pay-to-throw, \n",
    "* effect of municipality (education level, types of homes, \n",
    "* effect of funding for solid waste handling\n",
    "### Hypotheses\n",
    "\n",
    "1. "
   ]
  },
  {
   "cell_type": "markdown",
   "metadata": {},
   "source": [
    "## Types of DS problems:\n",
    "[source](http://jtleek.com/modules/01_DataScientistToolbox/03_01_typesOfQuestions/#1)\n",
    "\n",
    "* **Descriptive**: describe set of data\n",
    "   * The first kind of data analysis performed\n",
    "   * Commonly applied to census data\n",
    "   * The description and interpretation are different steps\n",
    "   * Descriptions can usually not be generalized without additional statistical modeling\n",
    "* **Exploratory**: find relationships you didn't know about\n",
    "   * Exploratory models are good for discovering new connections\n",
    "   * They are also useful for defining future studies\n",
    "   * Exploratory analyses are usually not the final say\n",
    "   * Exploratory analyses alone should not be used for generalizing/predicting\n",
    "   * Correlation does not imply causation\n",
    "* **Inferential**: use a relatively small sample of data to say something about the population\n",
    "   * Inference is commonly the goal of statistical models\n",
    "   * Inference involves estimating both the *quantity* you care about and your *uncertainty* about your estimate\n",
    "   * Inference depends heavily on both the population and the sampling scheme\n",
    "* **Predictive**: use the data on some objects to predict values of another object\n",
    "   * If X predicts Y it does not mean that X causes Y\n",
    "   * Accurate prediction depends heavily on measuring the right variables\n",
    "   * Although there are better and worse prediction models, more data and a simple model works really well\n",
    "   * Prediction is very hard, especially about the future references\n",
    "* **Causal**: to find out what happens to one variable when another changes\n",
    "   * Usually randomized studies are required to identify causation\n",
    "   * There are approaches to inferring causation in non-randomized studies, but they are complicated and sensitive to assumptions\n",
    "   * Causal relationships are usually identified as average effects, but may not apply to every individual\n",
    "   * Causal models are usually the \"gold standard\" for data analysis\n",
    "* **Mechanistic**: Understand the exact changes in variables that lead to changes in other variables for individual objects.\n",
    "   * Incredibly hard to infer, except in simple situations\n",
    "   * Usually modeled by a deterministic set of equations (physical/engineering science)\n",
    "   * Generally the random component of the data is measurement error\n",
    "   * If the equations are known but the parameters are not, they may be inferred with data analysis"
   ]
  },
  {
   "cell_type": "code",
   "execution_count": null,
   "metadata": {},
   "outputs": [],
   "source": []
  }
 ],
 "metadata": {
  "kernelspec": {
   "display_name": "Python 3",
   "language": "python",
   "name": "python3"
  },
  "language_info": {
   "codemirror_mode": {
    "name": "ipython",
    "version": 3
   },
   "file_extension": ".py",
   "mimetype": "text/x-python",
   "name": "python",
   "nbconvert_exporter": "python",
   "pygments_lexer": "ipython3",
   "version": "3.8.3"
  }
 },
 "nbformat": 4,
 "nbformat_minor": 4
}
