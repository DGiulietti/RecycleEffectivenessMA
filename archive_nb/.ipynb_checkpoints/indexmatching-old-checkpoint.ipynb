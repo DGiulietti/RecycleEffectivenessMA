{
 "cells": [
  {
   "cell_type": "code",
   "execution_count": 265,
   "metadata": {},
   "outputs": [],
   "source": [
    "import pandas as pd"
   ]
  },
  {
   "cell_type": "code",
   "execution_count": 266,
   "metadata": {},
   "outputs": [],
   "source": [
    "census = pd.read_csv('data/census_data/demo_char.csv', usecols = ['municipality'])"
   ]
  },
  {
   "cell_type": "code",
   "execution_count": 267,
   "metadata": {},
   "outputs": [],
   "source": [
    "census['municipality'] = census['municipality'].str.rstrip(' ')"
   ]
  },
  {
   "cell_type": "code",
   "execution_count": 268,
   "metadata": {},
   "outputs": [
    {
     "data": {
      "text/plain": [
       "245"
      ]
     },
     "execution_count": 268,
     "metadata": {},
     "output_type": "execute_result"
    }
   ],
   "source": [
    "len(census)"
   ]
  },
  {
   "cell_type": "code",
   "execution_count": 269,
   "metadata": {},
   "outputs": [],
   "source": [
    "recycle = pd.read_csv('data/MA_MSW_Collection_Data/musum19.csv', usecols = ['Municipality Name'])"
   ]
  },
  {
   "cell_type": "code",
   "execution_count": 270,
   "metadata": {},
   "outputs": [
    {
     "data": {
      "text/plain": [
       "277"
      ]
     },
     "execution_count": 270,
     "metadata": {},
     "output_type": "execute_result"
    }
   ],
   "source": [
    "len(recycle)"
   ]
  },
  {
   "cell_type": "code",
   "execution_count": 271,
   "metadata": {},
   "outputs": [],
   "source": [
    "census_remain = list(set(census['municipality']) - set(recycle['Municipality Name']))"
   ]
  },
  {
   "cell_type": "code",
   "execution_count": 272,
   "metadata": {},
   "outputs": [
    {
     "data": {
      "text/plain": [
       "111"
      ]
     },
     "execution_count": 272,
     "metadata": {},
     "output_type": "execute_result"
    }
   ],
   "source": [
    "len(census_remain)"
   ]
  },
  {
   "cell_type": "code",
   "execution_count": 273,
   "metadata": {},
   "outputs": [],
   "source": [
    "recycle_remain = list(set(recycle['Municipality Name']) - set(census['municipality']))"
   ]
  },
  {
   "cell_type": "code",
   "execution_count": 274,
   "metadata": {},
   "outputs": [
    {
     "data": {
      "text/plain": [
       "143"
      ]
     },
     "execution_count": 274,
     "metadata": {},
     "output_type": "execute_result"
    }
   ],
   "source": [
    "len(recycle_remain)"
   ]
  },
  {
   "cell_type": "code",
   "execution_count": 275,
   "metadata": {},
   "outputs": [
    {
     "name": "stdout",
     "output_type": "stream",
     "text": [
      "number of recycle muns left: 122\n",
      "number of census muns left: 81\n"
     ]
    },
    {
     "data": {
      "text/plain": [
       "{'Middleborough': ['Middleborough Center'],\n",
       " 'Douglas': ['East Douglas'],\n",
       " 'Mansfield': ['Mansfield Center'],\n",
       " 'Amherst': ['North Amherst', 'Amherst Center', 'South Amherst'],\n",
       " 'Pembroke': ['North Pembroke'],\n",
       " 'Lakeville': ['North Lakeville'],\n",
       " 'Acushnet': ['Acushnet Center'],\n",
       " 'Harwich': ['Northwest Harwich',\n",
       "  'Harwich Port',\n",
       "  'Harwich Center',\n",
       "  'East Harwich'],\n",
       " 'Concord': ['West Concord'],\n",
       " 'Seekonk': ['North Seekonk'],\n",
       " 'Mashpee': ['Mashpee Neck'],\n",
       " 'Westport': ['North Westport'],\n",
       " 'Littleton': ['Littleton Common'],\n",
       " 'Wareham': ['West Wareham', 'Wareham Center'],\n",
       " 'Monson': ['Monson Center'],\n",
       " 'Eastham': ['North Eastham', 'Easthampton'],\n",
       " 'Marion': ['Marion Center'],\n",
       " 'Millis': ['Millis-Clicquot'],\n",
       " 'Raynham': ['Raynham Center'],\n",
       " 'Shelburne': ['Shelburne Falls'],\n",
       " 'Yarmouth': ['West Yarmouth', 'Yarmouth Port', 'South Yarmouth']}"
      ]
     },
     "execution_count": 275,
     "metadata": {},
     "output_type": "execute_result"
    }
   ],
   "source": [
    "pairings = {}\n",
    "no_rec_rem = len(recycle_remain)\n",
    "no_cen_rem = len(census_remain)\n",
    "for mun in recycle_remain:\n",
    "    matches = [place for place in census_remain if mun in place]\n",
    "    if len(matches) > 0:\n",
    "        pairings[mun] = matches\n",
    "        no_rec_rem = no_rec_rem - 1\n",
    "        no_cen_rem = no_cen_rem - len(matches)\n",
    "\n",
    "print(f\"number of recycle muns left: {no_rec_rem}\")\n",
    "print(f\"number of census muns left: {no_cen_rem}\")\n",
    "pairings  "
   ]
  },
  {
   "cell_type": "markdown",
   "metadata": {},
   "source": [
    "function that:\n",
    "1. take the individual group census data \n",
    "2. looks for key normalizing column\n",
    "3. receives dictionary for combining data\n",
    "4. rename any rows in list to key name\n",
    "5. if list length > 1, take all rows in that list, multiply % columns by key normalization column, add values to form 1 row, divide by key normalization value\n"
   ]
  },
  {
   "cell_type": "code",
   "execution_count": 276,
   "metadata": {},
   "outputs": [],
   "source": [
    "def index_correct(path_loc_str, map_dict):\n",
    "    df = pd.read_csv(path_loc_str, index_col='municipality')\n",
    "    key_col = list(df.filter(like='KEY').columns)[0]\n",
    "    next_col = df.columns[1]\n",
    "    for mun in map_dict:\n",
    "        mapper = {place:mun for place in map_dict[mun]}\n",
    "        df.rename(index=mapper, inplace=True)\n",
    "        df.loc[mun,next_col:] = df.loc[mun,next_col:].multiply(df.loc[mun, key_col], axis=\"index\")\n",
    "        df = df.groupby(df.index).sum()\n",
    "        df.loc[mun,next_col:] = df.loc[mun,next_col:].divide(df.loc[mun, key_col], axis=\"index\")\n",
    "        \n",
    "    return df"
   ]
  },
  {
   "cell_type": "code",
   "execution_count": 277,
   "metadata": {},
   "outputs": [],
   "source": [
    "# creating df for each group\n",
    "\n",
    "groups = [\n",
    "    'education_char',\n",
    "    'economic_char',\n",
    "    'housing_char',\n",
    "    'demo_char'\n",
    "]\n",
    "\n",
    "for characteristic in groups:\n",
    "    exec(f'{characteristic} = index_correct(\"data/census_data/{characteristic}.csv\", pairings)')"
   ]
  },
  {
   "cell_type": "code",
   "execution_count": 278,
   "metadata": {},
   "outputs": [
    {
     "data": {
      "text/html": [
       "<div>\n",
       "<style scoped>\n",
       "    .dataframe tbody tr th:only-of-type {\n",
       "        vertical-align: middle;\n",
       "    }\n",
       "\n",
       "    .dataframe tbody tr th {\n",
       "        vertical-align: top;\n",
       "    }\n",
       "\n",
       "    .dataframe thead th {\n",
       "        text-align: right;\n",
       "    }\n",
       "</style>\n",
       "<table border=\"1\" class=\"dataframe\">\n",
       "  <thead>\n",
       "    <tr style=\"text-align: right;\">\n",
       "      <th></th>\n",
       "      <th>KEY_population_25_and_older</th>\n",
       "      <th>edu_high_school_and_higher_%</th>\n",
       "      <th>edu_bachelors_and_higher_%</th>\n",
       "      <th>KEY_pop_16_+</th>\n",
       "      <th>unemployment_rate_%</th>\n",
       "      <th>median_household_income</th>\n",
       "      <th>mean_household_income</th>\n",
       "      <th>families_below_poverty_level_%</th>\n",
       "      <th>people_below_poverty_level_%</th>\n",
       "      <th>KEY_total_housing_units</th>\n",
       "      <th>...</th>\n",
       "      <th>KEY_total_population</th>\n",
       "      <th>males-to-100females</th>\n",
       "      <th>median_age</th>\n",
       "      <th>demo_white_%</th>\n",
       "      <th>demo_black_aa_%</th>\n",
       "      <th>demo_american_indian_%</th>\n",
       "      <th>demo_asian_%</th>\n",
       "      <th>demo_native_islander%</th>\n",
       "      <th>demo_other_Race_%</th>\n",
       "      <th>demo_hispanic_latino_%</th>\n",
       "    </tr>\n",
       "    <tr>\n",
       "      <th>municipality</th>\n",
       "      <th></th>\n",
       "      <th></th>\n",
       "      <th></th>\n",
       "      <th></th>\n",
       "      <th></th>\n",
       "      <th></th>\n",
       "      <th></th>\n",
       "      <th></th>\n",
       "      <th></th>\n",
       "      <th></th>\n",
       "      <th></th>\n",
       "      <th></th>\n",
       "      <th></th>\n",
       "      <th></th>\n",
       "      <th></th>\n",
       "      <th></th>\n",
       "      <th></th>\n",
       "      <th></th>\n",
       "      <th></th>\n",
       "      <th></th>\n",
       "      <th></th>\n",
       "    </tr>\n",
       "  </thead>\n",
       "  <tbody>\n",
       "    <tr>\n",
       "      <th>Abington</th>\n",
       "      <td>11793</td>\n",
       "      <td>94.7</td>\n",
       "      <td>39.1</td>\n",
       "      <td>13727</td>\n",
       "      <td>4.3</td>\n",
       "      <td>99381.0</td>\n",
       "      <td>105390.0</td>\n",
       "      <td>2.5</td>\n",
       "      <td>4.1</td>\n",
       "      <td>6781</td>\n",
       "      <td>...</td>\n",
       "      <td>16436</td>\n",
       "      <td>97.7</td>\n",
       "      <td>42.2</td>\n",
       "      <td>93.2</td>\n",
       "      <td>3.0</td>\n",
       "      <td>0.3</td>\n",
       "      <td>4.9</td>\n",
       "      <td>0.0</td>\n",
       "      <td>1.4</td>\n",
       "      <td>2.6</td>\n",
       "    </tr>\n",
       "    <tr>\n",
       "      <th>Acushnet</th>\n",
       "      <td>2265</td>\n",
       "      <td>90.4</td>\n",
       "      <td>16.3</td>\n",
       "      <td>2651</td>\n",
       "      <td>6.7</td>\n",
       "      <td>81375.0</td>\n",
       "      <td>85990.0</td>\n",
       "      <td>6.9</td>\n",
       "      <td>8.1</td>\n",
       "      <td>1309</td>\n",
       "      <td>...</td>\n",
       "      <td>3177</td>\n",
       "      <td>93.4</td>\n",
       "      <td>45.2</td>\n",
       "      <td>97.3</td>\n",
       "      <td>3.3</td>\n",
       "      <td>3.1</td>\n",
       "      <td>0.9</td>\n",
       "      <td>0.0</td>\n",
       "      <td>1.9</td>\n",
       "      <td>9.2</td>\n",
       "    </tr>\n",
       "    <tr>\n",
       "      <th>Adams</th>\n",
       "      <td>4130</td>\n",
       "      <td>89.3</td>\n",
       "      <td>22.9</td>\n",
       "      <td>4560</td>\n",
       "      <td>5.3</td>\n",
       "      <td>48252.0</td>\n",
       "      <td>62772.0</td>\n",
       "      <td>13.2</td>\n",
       "      <td>14.4</td>\n",
       "      <td>3086</td>\n",
       "      <td>...</td>\n",
       "      <td>5335</td>\n",
       "      <td>109.5</td>\n",
       "      <td>43.5</td>\n",
       "      <td>97.7</td>\n",
       "      <td>2.3</td>\n",
       "      <td>0.0</td>\n",
       "      <td>0.9</td>\n",
       "      <td>0.0</td>\n",
       "      <td>0.8</td>\n",
       "      <td>1.6</td>\n",
       "    </tr>\n",
       "    <tr>\n",
       "      <th>Agawam</th>\n",
       "      <td>21598</td>\n",
       "      <td>93.3</td>\n",
       "      <td>33.2</td>\n",
       "      <td>23942</td>\n",
       "      <td>3.5</td>\n",
       "      <td>68944.0</td>\n",
       "      <td>87473.0</td>\n",
       "      <td>4.3</td>\n",
       "      <td>7.9</td>\n",
       "      <td>12253</td>\n",
       "      <td>...</td>\n",
       "      <td>28696</td>\n",
       "      <td>95.3</td>\n",
       "      <td>46.4</td>\n",
       "      <td>95.6</td>\n",
       "      <td>2.8</td>\n",
       "      <td>0.7</td>\n",
       "      <td>2.8</td>\n",
       "      <td>0.0</td>\n",
       "      <td>0.4</td>\n",
       "      <td>5.4</td>\n",
       "    </tr>\n",
       "    <tr>\n",
       "      <th>Amesbury</th>\n",
       "      <td>12633</td>\n",
       "      <td>94.2</td>\n",
       "      <td>41.1</td>\n",
       "      <td>14452</td>\n",
       "      <td>3.6</td>\n",
       "      <td>82468.0</td>\n",
       "      <td>100890.0</td>\n",
       "      <td>3.6</td>\n",
       "      <td>6.3</td>\n",
       "      <td>7549</td>\n",
       "      <td>...</td>\n",
       "      <td>17434</td>\n",
       "      <td>95.1</td>\n",
       "      <td>43.9</td>\n",
       "      <td>98.1</td>\n",
       "      <td>1.5</td>\n",
       "      <td>0.6</td>\n",
       "      <td>2.0</td>\n",
       "      <td>0.0</td>\n",
       "      <td>0.1</td>\n",
       "      <td>2.5</td>\n",
       "    </tr>\n",
       "  </tbody>\n",
       "</table>\n",
       "<p>5 rows × 32 columns</p>\n",
       "</div>"
      ],
      "text/plain": [
       "              KEY_population_25_and_older  edu_high_school_and_higher_%  \\\n",
       "municipality                                                              \n",
       "Abington                            11793                          94.7   \n",
       "Acushnet                             2265                          90.4   \n",
       "Adams                                4130                          89.3   \n",
       "Agawam                              21598                          93.3   \n",
       "Amesbury                            12633                          94.2   \n",
       "\n",
       "              edu_bachelors_and_higher_%  KEY_pop_16_+  unemployment_rate_%  \\\n",
       "municipality                                                                  \n",
       "Abington                            39.1         13727                  4.3   \n",
       "Acushnet                            16.3          2651                  6.7   \n",
       "Adams                               22.9          4560                  5.3   \n",
       "Agawam                              33.2         23942                  3.5   \n",
       "Amesbury                            41.1         14452                  3.6   \n",
       "\n",
       "              median_household_income  mean_household_income  \\\n",
       "municipality                                                   \n",
       "Abington                      99381.0               105390.0   \n",
       "Acushnet                      81375.0                85990.0   \n",
       "Adams                         48252.0                62772.0   \n",
       "Agawam                        68944.0                87473.0   \n",
       "Amesbury                      82468.0               100890.0   \n",
       "\n",
       "              families_below_poverty_level_%  people_below_poverty_level_%  \\\n",
       "municipality                                                                 \n",
       "Abington                                 2.5                           4.1   \n",
       "Acushnet                                 6.9                           8.1   \n",
       "Adams                                   13.2                          14.4   \n",
       "Agawam                                   4.3                           7.9   \n",
       "Amesbury                                 3.6                           6.3   \n",
       "\n",
       "              KEY_total_housing_units  ...  KEY_total_population  \\\n",
       "municipality                           ...                         \n",
       "Abington                         6781  ...                 16436   \n",
       "Acushnet                         1309  ...                  3177   \n",
       "Adams                            3086  ...                  5335   \n",
       "Agawam                          12253  ...                 28696   \n",
       "Amesbury                         7549  ...                 17434   \n",
       "\n",
       "              males-to-100females  median_age  demo_white_%  demo_black_aa_%  \\\n",
       "municipality                                                                   \n",
       "Abington                     97.7        42.2          93.2              3.0   \n",
       "Acushnet                     93.4        45.2          97.3              3.3   \n",
       "Adams                       109.5        43.5          97.7              2.3   \n",
       "Agawam                       95.3        46.4          95.6              2.8   \n",
       "Amesbury                     95.1        43.9          98.1              1.5   \n",
       "\n",
       "              demo_american_indian_%  demo_asian_%  demo_native_islander%  \\\n",
       "municipality                                                                \n",
       "Abington                         0.3           4.9                    0.0   \n",
       "Acushnet                         3.1           0.9                    0.0   \n",
       "Adams                            0.0           0.9                    0.0   \n",
       "Agawam                           0.7           2.8                    0.0   \n",
       "Amesbury                         0.6           2.0                    0.0   \n",
       "\n",
       "              demo_other_Race_%  demo_hispanic_latino_%  \n",
       "municipality                                             \n",
       "Abington                    1.4                     2.6  \n",
       "Acushnet                    1.9                     9.2  \n",
       "Adams                       0.8                     1.6  \n",
       "Agawam                      0.4                     5.4  \n",
       "Amesbury                    0.1                     2.5  \n",
       "\n",
       "[5 rows x 32 columns]"
      ]
     },
     "execution_count": 278,
     "metadata": {},
     "output_type": "execute_result"
    }
   ],
   "source": [
    "comb_char = pd.concat([education_char,economic_char,housing_char,demo_char], axis=1)\n",
    "comb_char.head()"
   ]
  },
  {
   "cell_type": "code",
   "execution_count": null,
   "metadata": {},
   "outputs": [],
   "source": []
  },
  {
   "cell_type": "code",
   "execution_count": 279,
   "metadata": {},
   "outputs": [
    {
     "name": "stdout",
     "output_type": "stream",
     "text": [
      "number of recycle muns left: 140\n",
      "number of census muns left: 109\n"
     ]
    },
    {
     "data": {
      "text/plain": [
       "{'Bridgewater': ['West Bridgewater', 'East Bridgewater'], 'Ware': ['Wareham']}"
      ]
     },
     "execution_count": 279,
     "metadata": {},
     "output_type": "execute_result"
    }
   ],
   "source": [
    "pairings2 = {}\n",
    "no_rec_rem = len(recycle_remain)\n",
    "no_cen_rem = len(census_remain)\n",
    "for mun in census_remain:\n",
    "    matches = [place for place in recycle_remain if mun in place]\n",
    "    if len(matches) > 0:\n",
    "        pairings2[mun] = matches\n",
    "        no_rec_rem = no_rec_rem - len(matches)\n",
    "        no_cen_rem = no_cen_rem - 1\n",
    "\n",
    "print(f\"number of recycle muns left: {no_rec_rem}\")\n",
    "print(f\"number of census muns left: {no_cen_rem}\")\n",
    "pairings2 "
   ]
  },
  {
   "cell_type": "code",
   "execution_count": 280,
   "metadata": {},
   "outputs": [
    {
     "data": {
      "text/html": [
       "<div>\n",
       "<style scoped>\n",
       "    .dataframe tbody tr th:only-of-type {\n",
       "        vertical-align: middle;\n",
       "    }\n",
       "\n",
       "    .dataframe tbody tr th {\n",
       "        vertical-align: top;\n",
       "    }\n",
       "\n",
       "    .dataframe thead th {\n",
       "        text-align: right;\n",
       "    }\n",
       "</style>\n",
       "<table border=\"1\" class=\"dataframe\">\n",
       "  <thead>\n",
       "    <tr style=\"text-align: right;\">\n",
       "      <th></th>\n",
       "      <th>KEY_population_25_and_older</th>\n",
       "      <th>edu_high_school_and_higher_%</th>\n",
       "      <th>edu_bachelors_and_higher_%</th>\n",
       "      <th>KEY_pop_16_+</th>\n",
       "      <th>unemployment_rate_%</th>\n",
       "      <th>median_household_income</th>\n",
       "      <th>mean_household_income</th>\n",
       "      <th>families_below_poverty_level_%</th>\n",
       "      <th>people_below_poverty_level_%</th>\n",
       "      <th>KEY_total_housing_units</th>\n",
       "      <th>...</th>\n",
       "      <th>KEY_total_population</th>\n",
       "      <th>males-to-100females</th>\n",
       "      <th>median_age</th>\n",
       "      <th>demo_white_%</th>\n",
       "      <th>demo_black_aa_%</th>\n",
       "      <th>demo_american_indian_%</th>\n",
       "      <th>demo_asian_%</th>\n",
       "      <th>demo_native_islander%</th>\n",
       "      <th>demo_other_Race_%</th>\n",
       "      <th>demo_hispanic_latino_%</th>\n",
       "    </tr>\n",
       "    <tr>\n",
       "      <th>municipality</th>\n",
       "      <th></th>\n",
       "      <th></th>\n",
       "      <th></th>\n",
       "      <th></th>\n",
       "      <th></th>\n",
       "      <th></th>\n",
       "      <th></th>\n",
       "      <th></th>\n",
       "      <th></th>\n",
       "      <th></th>\n",
       "      <th></th>\n",
       "      <th></th>\n",
       "      <th></th>\n",
       "      <th></th>\n",
       "      <th></th>\n",
       "      <th></th>\n",
       "      <th></th>\n",
       "      <th></th>\n",
       "      <th></th>\n",
       "      <th></th>\n",
       "      <th></th>\n",
       "    </tr>\n",
       "  </thead>\n",
       "  <tbody>\n",
       "    <tr>\n",
       "      <th>Abington</th>\n",
       "      <td>11793.0</td>\n",
       "      <td>94.700000</td>\n",
       "      <td>39.100000</td>\n",
       "      <td>13727.0</td>\n",
       "      <td>4.30000</td>\n",
       "      <td>99381.000000</td>\n",
       "      <td>105390.000000</td>\n",
       "      <td>2.500000</td>\n",
       "      <td>4.100000</td>\n",
       "      <td>6781.0</td>\n",
       "      <td>...</td>\n",
       "      <td>16436.0</td>\n",
       "      <td>97.7000</td>\n",
       "      <td>42.200000</td>\n",
       "      <td>93.200000</td>\n",
       "      <td>3.000000</td>\n",
       "      <td>0.300000</td>\n",
       "      <td>4.900000</td>\n",
       "      <td>0.00000</td>\n",
       "      <td>1.400000</td>\n",
       "      <td>2.600000</td>\n",
       "    </tr>\n",
       "    <tr>\n",
       "      <th>Acushnet</th>\n",
       "      <td>2265.0</td>\n",
       "      <td>90.400000</td>\n",
       "      <td>16.300000</td>\n",
       "      <td>2651.0</td>\n",
       "      <td>6.70000</td>\n",
       "      <td>81375.000000</td>\n",
       "      <td>85990.000000</td>\n",
       "      <td>6.900000</td>\n",
       "      <td>8.100000</td>\n",
       "      <td>1309.0</td>\n",
       "      <td>...</td>\n",
       "      <td>3177.0</td>\n",
       "      <td>93.4000</td>\n",
       "      <td>45.200000</td>\n",
       "      <td>97.300000</td>\n",
       "      <td>3.300000</td>\n",
       "      <td>3.100000</td>\n",
       "      <td>0.900000</td>\n",
       "      <td>0.00000</td>\n",
       "      <td>1.900000</td>\n",
       "      <td>9.200000</td>\n",
       "    </tr>\n",
       "    <tr>\n",
       "      <th>Adams</th>\n",
       "      <td>4130.0</td>\n",
       "      <td>89.300000</td>\n",
       "      <td>22.900000</td>\n",
       "      <td>4560.0</td>\n",
       "      <td>5.30000</td>\n",
       "      <td>48252.000000</td>\n",
       "      <td>62772.000000</td>\n",
       "      <td>13.200000</td>\n",
       "      <td>14.400000</td>\n",
       "      <td>3086.0</td>\n",
       "      <td>...</td>\n",
       "      <td>5335.0</td>\n",
       "      <td>109.5000</td>\n",
       "      <td>43.500000</td>\n",
       "      <td>97.700000</td>\n",
       "      <td>2.300000</td>\n",
       "      <td>0.000000</td>\n",
       "      <td>0.900000</td>\n",
       "      <td>0.00000</td>\n",
       "      <td>0.800000</td>\n",
       "      <td>1.600000</td>\n",
       "    </tr>\n",
       "    <tr>\n",
       "      <th>Agawam</th>\n",
       "      <td>21598.0</td>\n",
       "      <td>93.300000</td>\n",
       "      <td>33.200000</td>\n",
       "      <td>23942.0</td>\n",
       "      <td>3.50000</td>\n",
       "      <td>68944.000000</td>\n",
       "      <td>87473.000000</td>\n",
       "      <td>4.300000</td>\n",
       "      <td>7.900000</td>\n",
       "      <td>12253.0</td>\n",
       "      <td>...</td>\n",
       "      <td>28696.0</td>\n",
       "      <td>95.3000</td>\n",
       "      <td>46.400000</td>\n",
       "      <td>95.600000</td>\n",
       "      <td>2.800000</td>\n",
       "      <td>0.700000</td>\n",
       "      <td>2.800000</td>\n",
       "      <td>0.00000</td>\n",
       "      <td>0.400000</td>\n",
       "      <td>5.400000</td>\n",
       "    </tr>\n",
       "    <tr>\n",
       "      <th>Amesbury</th>\n",
       "      <td>12633.0</td>\n",
       "      <td>94.200000</td>\n",
       "      <td>41.100000</td>\n",
       "      <td>14452.0</td>\n",
       "      <td>3.60000</td>\n",
       "      <td>82468.000000</td>\n",
       "      <td>100890.000000</td>\n",
       "      <td>3.600000</td>\n",
       "      <td>6.300000</td>\n",
       "      <td>7549.0</td>\n",
       "      <td>...</td>\n",
       "      <td>17434.0</td>\n",
       "      <td>95.1000</td>\n",
       "      <td>43.900000</td>\n",
       "      <td>98.100000</td>\n",
       "      <td>1.500000</td>\n",
       "      <td>0.600000</td>\n",
       "      <td>2.000000</td>\n",
       "      <td>0.00000</td>\n",
       "      <td>0.100000</td>\n",
       "      <td>2.500000</td>\n",
       "    </tr>\n",
       "    <tr>\n",
       "      <th>...</th>\n",
       "      <td>...</td>\n",
       "      <td>...</td>\n",
       "      <td>...</td>\n",
       "      <td>...</td>\n",
       "      <td>...</td>\n",
       "      <td>...</td>\n",
       "      <td>...</td>\n",
       "      <td>...</td>\n",
       "      <td>...</td>\n",
       "      <td>...</td>\n",
       "      <td>...</td>\n",
       "      <td>...</td>\n",
       "      <td>...</td>\n",
       "      <td>...</td>\n",
       "      <td>...</td>\n",
       "      <td>...</td>\n",
       "      <td>...</td>\n",
       "      <td>...</td>\n",
       "      <td>...</td>\n",
       "      <td>...</td>\n",
       "      <td>...</td>\n",
       "    </tr>\n",
       "    <tr>\n",
       "      <th>Woburn</th>\n",
       "      <td>29255.0</td>\n",
       "      <td>94.300000</td>\n",
       "      <td>45.400000</td>\n",
       "      <td>33526.0</td>\n",
       "      <td>3.00000</td>\n",
       "      <td>91022.000000</td>\n",
       "      <td>108751.000000</td>\n",
       "      <td>4.400000</td>\n",
       "      <td>6.300000</td>\n",
       "      <td>16872.0</td>\n",
       "      <td>...</td>\n",
       "      <td>40304.0</td>\n",
       "      <td>102.3000</td>\n",
       "      <td>40.000000</td>\n",
       "      <td>81.600000</td>\n",
       "      <td>7.400000</td>\n",
       "      <td>0.400000</td>\n",
       "      <td>9.800000</td>\n",
       "      <td>0.40000</td>\n",
       "      <td>3.500000</td>\n",
       "      <td>4.600000</td>\n",
       "    </tr>\n",
       "    <tr>\n",
       "      <th>Woods Hole</th>\n",
       "      <td>724.0</td>\n",
       "      <td>98.900000</td>\n",
       "      <td>81.200000</td>\n",
       "      <td>741.0</td>\n",
       "      <td>2.40000</td>\n",
       "      <td>97569.000000</td>\n",
       "      <td>188991.000000</td>\n",
       "      <td>7.700000</td>\n",
       "      <td>9.800000</td>\n",
       "      <td>1053.0</td>\n",
       "      <td>...</td>\n",
       "      <td>816.0</td>\n",
       "      <td>42.2000</td>\n",
       "      <td>61.800000</td>\n",
       "      <td>96.700000</td>\n",
       "      <td>0.000000</td>\n",
       "      <td>0.000000</td>\n",
       "      <td>1.000000</td>\n",
       "      <td>0.00000</td>\n",
       "      <td>3.300000</td>\n",
       "      <td>0.000000</td>\n",
       "    </tr>\n",
       "    <tr>\n",
       "      <th>Worcester</th>\n",
       "      <td>121514.0</td>\n",
       "      <td>84.700000</td>\n",
       "      <td>30.200000</td>\n",
       "      <td>154224.0</td>\n",
       "      <td>5.60000</td>\n",
       "      <td>48139.000000</td>\n",
       "      <td>68613.000000</td>\n",
       "      <td>14.600000</td>\n",
       "      <td>20.000000</td>\n",
       "      <td>78438.0</td>\n",
       "      <td>...</td>\n",
       "      <td>185143.0</td>\n",
       "      <td>96.3000</td>\n",
       "      <td>34.700000</td>\n",
       "      <td>72.600000</td>\n",
       "      <td>15.600000</td>\n",
       "      <td>1.200000</td>\n",
       "      <td>8.300000</td>\n",
       "      <td>0.20000</td>\n",
       "      <td>6.500000</td>\n",
       "      <td>21.900000</td>\n",
       "    </tr>\n",
       "    <tr>\n",
       "      <th>Yarmouth</th>\n",
       "      <td>17674.0</td>\n",
       "      <td>94.482143</td>\n",
       "      <td>36.324675</td>\n",
       "      <td>19482.0</td>\n",
       "      <td>4.14208</td>\n",
       "      <td>64626.982959</td>\n",
       "      <td>82620.020326</td>\n",
       "      <td>4.528478</td>\n",
       "      <td>6.708726</td>\n",
       "      <td>16238.0</td>\n",
       "      <td>...</td>\n",
       "      <td>22074.0</td>\n",
       "      <td>83.7312</td>\n",
       "      <td>54.052179</td>\n",
       "      <td>92.319598</td>\n",
       "      <td>3.868982</td>\n",
       "      <td>0.728269</td>\n",
       "      <td>2.969099</td>\n",
       "      <td>0.46283</td>\n",
       "      <td>2.450711</td>\n",
       "      <td>2.859242</td>\n",
       "    </tr>\n",
       "    <tr>\n",
       "      <th>West Bridgewater</th>\n",
       "      <td>16935.0</td>\n",
       "      <td>94.300000</td>\n",
       "      <td>35.800000</td>\n",
       "      <td>23131.0</td>\n",
       "      <td>6.10000</td>\n",
       "      <td>95675.000000</td>\n",
       "      <td>109501.000000</td>\n",
       "      <td>6.100000</td>\n",
       "      <td>9.400000</td>\n",
       "      <td>8531.0</td>\n",
       "      <td>...</td>\n",
       "      <td>27436.0</td>\n",
       "      <td>108.0000</td>\n",
       "      <td>34.500000</td>\n",
       "      <td>86.800000</td>\n",
       "      <td>9.600000</td>\n",
       "      <td>0.700000</td>\n",
       "      <td>3.000000</td>\n",
       "      <td>0.10000</td>\n",
       "      <td>2.300000</td>\n",
       "      <td>3.900000</td>\n",
       "    </tr>\n",
       "  </tbody>\n",
       "</table>\n",
       "<p>237 rows × 32 columns</p>\n",
       "</div>"
      ],
      "text/plain": [
       "                  KEY_population_25_and_older  edu_high_school_and_higher_%  \\\n",
       "municipality                                                                  \n",
       "Abington                              11793.0                     94.700000   \n",
       "Acushnet                               2265.0                     90.400000   \n",
       "Adams                                  4130.0                     89.300000   \n",
       "Agawam                                21598.0                     93.300000   \n",
       "Amesbury                              12633.0                     94.200000   \n",
       "...                                       ...                           ...   \n",
       "Woburn                                29255.0                     94.300000   \n",
       "Woods Hole                              724.0                     98.900000   \n",
       "Worcester                            121514.0                     84.700000   \n",
       "Yarmouth                              17674.0                     94.482143   \n",
       "West Bridgewater                      16935.0                     94.300000   \n",
       "\n",
       "                  edu_bachelors_and_higher_%  KEY_pop_16_+  \\\n",
       "municipality                                                 \n",
       "Abington                           39.100000       13727.0   \n",
       "Acushnet                           16.300000        2651.0   \n",
       "Adams                              22.900000        4560.0   \n",
       "Agawam                             33.200000       23942.0   \n",
       "Amesbury                           41.100000       14452.0   \n",
       "...                                      ...           ...   \n",
       "Woburn                             45.400000       33526.0   \n",
       "Woods Hole                         81.200000         741.0   \n",
       "Worcester                          30.200000      154224.0   \n",
       "Yarmouth                           36.324675       19482.0   \n",
       "West Bridgewater                   35.800000       23131.0   \n",
       "\n",
       "                  unemployment_rate_%  median_household_income  \\\n",
       "municipality                                                     \n",
       "Abington                      4.30000             99381.000000   \n",
       "Acushnet                      6.70000             81375.000000   \n",
       "Adams                         5.30000             48252.000000   \n",
       "Agawam                        3.50000             68944.000000   \n",
       "Amesbury                      3.60000             82468.000000   \n",
       "...                               ...                      ...   \n",
       "Woburn                        3.00000             91022.000000   \n",
       "Woods Hole                    2.40000             97569.000000   \n",
       "Worcester                     5.60000             48139.000000   \n",
       "Yarmouth                      4.14208             64626.982959   \n",
       "West Bridgewater              6.10000             95675.000000   \n",
       "\n",
       "                  mean_household_income  families_below_poverty_level_%  \\\n",
       "municipality                                                              \n",
       "Abington                  105390.000000                        2.500000   \n",
       "Acushnet                   85990.000000                        6.900000   \n",
       "Adams                      62772.000000                       13.200000   \n",
       "Agawam                     87473.000000                        4.300000   \n",
       "Amesbury                  100890.000000                        3.600000   \n",
       "...                                 ...                             ...   \n",
       "Woburn                    108751.000000                        4.400000   \n",
       "Woods Hole                188991.000000                        7.700000   \n",
       "Worcester                  68613.000000                       14.600000   \n",
       "Yarmouth                   82620.020326                        4.528478   \n",
       "West Bridgewater          109501.000000                        6.100000   \n",
       "\n",
       "                  people_below_poverty_level_%  KEY_total_housing_units  ...  \\\n",
       "municipality                                                             ...   \n",
       "Abington                              4.100000                   6781.0  ...   \n",
       "Acushnet                              8.100000                   1309.0  ...   \n",
       "Adams                                14.400000                   3086.0  ...   \n",
       "Agawam                                7.900000                  12253.0  ...   \n",
       "Amesbury                              6.300000                   7549.0  ...   \n",
       "...                                        ...                      ...  ...   \n",
       "Woburn                                6.300000                  16872.0  ...   \n",
       "Woods Hole                            9.800000                   1053.0  ...   \n",
       "Worcester                            20.000000                  78438.0  ...   \n",
       "Yarmouth                              6.708726                  16238.0  ...   \n",
       "West Bridgewater                      9.400000                   8531.0  ...   \n",
       "\n",
       "                  KEY_total_population  males-to-100females  median_age  \\\n",
       "municipality                                                              \n",
       "Abington                       16436.0              97.7000   42.200000   \n",
       "Acushnet                        3177.0              93.4000   45.200000   \n",
       "Adams                           5335.0             109.5000   43.500000   \n",
       "Agawam                         28696.0              95.3000   46.400000   \n",
       "Amesbury                       17434.0              95.1000   43.900000   \n",
       "...                                ...                  ...         ...   \n",
       "Woburn                         40304.0             102.3000   40.000000   \n",
       "Woods Hole                       816.0              42.2000   61.800000   \n",
       "Worcester                     185143.0              96.3000   34.700000   \n",
       "Yarmouth                       22074.0              83.7312   54.052179   \n",
       "West Bridgewater               27436.0             108.0000   34.500000   \n",
       "\n",
       "                  demo_white_%  demo_black_aa_%  demo_american_indian_%  \\\n",
       "municipality                                                              \n",
       "Abington             93.200000         3.000000                0.300000   \n",
       "Acushnet             97.300000         3.300000                3.100000   \n",
       "Adams                97.700000         2.300000                0.000000   \n",
       "Agawam               95.600000         2.800000                0.700000   \n",
       "Amesbury             98.100000         1.500000                0.600000   \n",
       "...                        ...              ...                     ...   \n",
       "Woburn               81.600000         7.400000                0.400000   \n",
       "Woods Hole           96.700000         0.000000                0.000000   \n",
       "Worcester            72.600000        15.600000                1.200000   \n",
       "Yarmouth             92.319598         3.868982                0.728269   \n",
       "West Bridgewater     86.800000         9.600000                0.700000   \n",
       "\n",
       "                  demo_asian_%  demo_native_islander%  demo_other_Race_%  \\\n",
       "municipality                                                               \n",
       "Abington              4.900000                0.00000           1.400000   \n",
       "Acushnet              0.900000                0.00000           1.900000   \n",
       "Adams                 0.900000                0.00000           0.800000   \n",
       "Agawam                2.800000                0.00000           0.400000   \n",
       "Amesbury              2.000000                0.00000           0.100000   \n",
       "...                        ...                    ...                ...   \n",
       "Woburn                9.800000                0.40000           3.500000   \n",
       "Woods Hole            1.000000                0.00000           3.300000   \n",
       "Worcester             8.300000                0.20000           6.500000   \n",
       "Yarmouth              2.969099                0.46283           2.450711   \n",
       "West Bridgewater      3.000000                0.10000           2.300000   \n",
       "\n",
       "                  demo_hispanic_latino_%  \n",
       "municipality                              \n",
       "Abington                        2.600000  \n",
       "Acushnet                        9.200000  \n",
       "Adams                           1.600000  \n",
       "Agawam                          5.400000  \n",
       "Amesbury                        2.500000  \n",
       "...                                  ...  \n",
       "Woburn                          4.600000  \n",
       "Woods Hole                      0.000000  \n",
       "Worcester                      21.900000  \n",
       "Yarmouth                        2.859242  \n",
       "West Bridgewater                3.900000  \n",
       "\n",
       "[237 rows x 32 columns]"
      ]
     },
     "execution_count": 280,
     "metadata": {},
     "output_type": "execute_result"
    }
   ],
   "source": [
    "row = comb_char.loc['Bridgewater']\n",
    "row.rename(index='West Bridgewater', inplace=True)\n",
    "comb_char.append(row)"
   ]
  },
  {
   "cell_type": "code",
   "execution_count": 281,
   "metadata": {},
   "outputs": [
    {
     "data": {
      "text/plain": [
       "KEY_population_25_and_older        16935.0\n",
       "edu_high_school_and_higher_%          94.3\n",
       "edu_bachelors_and_higher_%            35.8\n",
       "KEY_pop_16_+                       23131.0\n",
       "unemployment_rate_%                    6.1\n",
       "median_household_income            95675.0\n",
       "mean_household_income             109501.0\n",
       "families_below_poverty_level_%         6.1\n",
       "people_below_poverty_level_%           9.4\n",
       "KEY_total_housing_units             8531.0\n",
       "occupancy_%                           95.3\n",
       "1-unit_detached_%                     64.7\n",
       "1-unit_attached_%                      5.8\n",
       "2-units_%                              6.3\n",
       "3-4_units_%                            5.2\n",
       "5-9_units_%                            3.2\n",
       "10-19_units_%                          7.1\n",
       "20+_units_%                            5.8\n",
       "mobile_home_%                          2.0\n",
       "boat_RV_van_%                          0.0\n",
       "owner-occupied_%                      71.6\n",
       "renter-occupied_%                     28.4\n",
       "KEY_total_population               27436.0\n",
       "males-to-100females                  108.0\n",
       "median_age                            34.5\n",
       "demo_white_%                          86.8\n",
       "demo_black_aa_%                        9.6\n",
       "demo_american_indian_%                 0.7\n",
       "demo_asian_%                           3.0\n",
       "demo_native_islander%                  0.1\n",
       "demo_other_Race_%                      2.3\n",
       "demo_hispanic_latino_%                 3.9\n",
       "Name: East Bridgewater, dtype: float64"
      ]
     },
     "execution_count": 281,
     "metadata": {},
     "output_type": "execute_result"
    }
   ],
   "source": [
    "comb_char.loc['Bridgewater'].rename(index='East Bridgewater', inplace=True)"
   ]
  },
  {
   "cell_type": "code",
   "execution_count": 282,
   "metadata": {},
   "outputs": [
    {
     "data": {
      "text/plain": [
       "81"
      ]
     },
     "execution_count": 282,
     "metadata": {},
     "output_type": "execute_result"
    }
   ],
   "source": [
    "census_remain = list(set(comb_char.index) - set(recycle['Municipality Name']))\n",
    "census_remain.sort()\n",
    "len(census_remain)"
   ]
  },
  {
   "cell_type": "code",
   "execution_count": 283,
   "metadata": {},
   "outputs": [],
   "source": [
    "# census_remain"
   ]
  },
  {
   "cell_type": "code",
   "execution_count": 284,
   "metadata": {},
   "outputs": [
    {
     "data": {
      "text/plain": [
       "122"
      ]
     },
     "execution_count": 284,
     "metadata": {},
     "output_type": "execute_result"
    }
   ],
   "source": [
    "recycle_remain = list(set(recycle['Municipality Name'])-set(comb_char.index))\n",
    "recycle_remain.sort()\n",
    "len(recycle_remain)"
   ]
  },
  {
   "cell_type": "code",
   "execution_count": 285,
   "metadata": {},
   "outputs": [],
   "source": [
    "# recycle_remain"
   ]
  },
  {
   "cell_type": "markdown",
   "metadata": {},
   "source": [
    "-------\n",
    "census towns un-matched = 81 (don't care about too much)\n",
    "\n",
    "recycle towns un-matched = 122 (care)"
   ]
  },
  {
   "cell_type": "code",
   "execution_count": 288,
   "metadata": {},
   "outputs": [
    {
     "name": "stdout",
     "output_type": "stream",
     "text": [
      "number of census entries to convert: 16\n"
     ]
    },
    {
     "data": {
      "text/plain": [
       "{'Brookfield': ['West Brookfield'],\n",
       " 'Chatham': ['West Chatham'],\n",
       " 'Deerfield': ['South Deerfield'],\n",
       " 'Dennis': ['Dennis Port', 'East Dennis', 'South Dennis', 'West Dennis'],\n",
       " 'Duxbury': ['South Duxbury'],\n",
       " 'Falmouth': ['East Falmouth', 'North Falmouth', 'West Falmouth'],\n",
       " 'Marshfield': ['Marshfield Hills'],\n",
       " 'Pepperell': ['East Pepperell'],\n",
       " 'Plymouth': ['North Plymouth'],\n",
       " 'Sandwich': ['East Sandwich'],\n",
       " 'Scituate': ['North Scituate']}"
      ]
     },
     "execution_count": 288,
     "metadata": {},
     "output_type": "execute_result"
    }
   ],
   "source": [
    "# check what towns in the recycle data could pull in multiple towns from the census data\n",
    "\n",
    "pairings3 = {}\n",
    "sub_towns = 0\n",
    "for mun in recycle['Municipality Name']:\n",
    "    matches = [place for place in comb_char.index if mun in place]\n",
    "    # check if any of the matches are actually towns that are already listed in the recycle towns\n",
    "    # this will also remove the 'mun' from the match list\n",
    "    for match in matches.copy():\n",
    "        if match in list(recycle['Municipality Name']):\n",
    "            matches.remove(match)\n",
    "    \n",
    "    if len(matches) > 0:\n",
    "        pairings3[mun] = matches\n",
    "        sub_towns = sub_towns + len(matches)\n",
    "\n",
    "print(f\"number of census entries to convert: {sub_towns}\")\n",
    "pairings3  "
   ]
  },
  {
   "cell_type": "code",
   "execution_count": 289,
   "metadata": {},
   "outputs": [],
   "source": [
    "def index_correct2(df, map_dict):\n",
    "    key_col = list(df.filter(like='KEY').columns)[0]\n",
    "    next_col = df.columns[1]\n",
    "    for mun in map_dict:\n",
    "        mapper = {place:mun for place in map_dict[mun]}\n",
    "        df.rename(index=mapper, inplace=True)\n",
    "        df.loc[mun,next_col:] = df.loc[mun,next_col:].multiply(df.loc[mun, key_col], axis=\"index\")\n",
    "        df = df.groupby(df.index).sum()\n",
    "        df.loc[mun,next_col:] = df.loc[mun,next_col:].divide(df.loc[mun, key_col], axis=\"index\")\n",
    "        \n",
    "    return df"
   ]
  },
  {
   "cell_type": "code",
   "execution_count": 290,
   "metadata": {},
   "outputs": [],
   "source": [
    "# shouldn't be touching any towns that are already paired up in the recycle data\n",
    "# just to check I'm going to look at the keys in the map_dict\n",
    "muncheck = pairings3.keys()\n",
    "# now I'll run the function\n",
    "comb_char = index_correct2(comb_char,pairings3)"
   ]
  },
  {
   "cell_type": "code",
   "execution_count": 291,
   "metadata": {},
   "outputs": [
    {
     "data": {
      "text/plain": [
       "122"
      ]
     },
     "execution_count": 291,
     "metadata": {},
     "output_type": "execute_result"
    }
   ],
   "source": [
    "recycle_remain = list(set(recycle['Municipality Name'])-set(comb_char.index))\n",
    "recycle_remain.sort()\n",
    "len(recycle_remain)"
   ]
  },
  {
   "cell_type": "code",
   "execution_count": 292,
   "metadata": {},
   "outputs": [
    {
     "data": {
      "text/plain": [
       "65"
      ]
     },
     "execution_count": 292,
     "metadata": {},
     "output_type": "execute_result"
    }
   ],
   "source": [
    "census_remain = list(set(comb_char.index) - set(recycle['Municipality Name']))\n",
    "census_remain.sort()\n",
    "len(census_remain)"
   ]
  },
  {
   "cell_type": "code",
   "execution_count": null,
   "metadata": {},
   "outputs": [],
   "source": []
  },
  {
   "cell_type": "code",
   "execution_count": 293,
   "metadata": {},
   "outputs": [
    {
     "name": "stdout",
     "output_type": "stream",
     "text": [
      "number of recycle municipalities to account for: 8\n"
     ]
    },
    {
     "data": {
      "text/plain": [
       "{'Andover': ['North Andover'],\n",
       " 'Attleboro': ['North Attleborough'],\n",
       " 'Bridgewater': ['East Bridgewater', 'West Bridgewater'],\n",
       " 'Chester': ['Chesterfield'],\n",
       " 'Longmeadow': ['East Longmeadow'],\n",
       " 'Marlborough': ['New Marlborough'],\n",
       " 'Salem': ['New Salem']}"
      ]
     },
     "execution_count": 293,
     "metadata": {},
     "output_type": "execute_result"
    }
   ],
   "source": [
    "# checking what towns in the census data may be duplicated to approximated un-matched recycle towns\n",
    "\n",
    "pairings4 = {}\n",
    "sub_towns = 0\n",
    "for mun in comb_char.index:\n",
    "    matches = [place for place in recycle['Municipality Name'] if mun in place]\n",
    "    # check if the match is already accounted for in the census data\n",
    "    for match in matches.copy():\n",
    "        if match in list(comb_char.index):\n",
    "            matches.remove(match)\n",
    "    \n",
    "    if len(matches) > 0:\n",
    "        pairings4[mun] = matches\n",
    "        sub_towns = sub_towns + len(matches)\n",
    "\n",
    "print(f\"number of recycle municipalities to account for: {sub_towns}\")\n",
    "pairings4"
   ]
  },
  {
   "cell_type": "code",
   "execution_count": 310,
   "metadata": {},
   "outputs": [],
   "source": [
    "def index_correct_reverse(census_df, map_dict):\n",
    "    df = census_df\n",
    "    for mun in map_dict:\n",
    "        for place in map_dict[mun]:\n",
    "            row = comb_char.loc[mun]\n",
    "            row.rename(index=place, inplace=True)\n",
    "            df = df.append(row)\n",
    "       \n",
    "    return df"
   ]
  },
  {
   "cell_type": "code",
   "execution_count": 311,
   "metadata": {},
   "outputs": [
    {
     "name": "stdout",
     "output_type": "stream",
     "text": [
      "added row for North Andover\n",
      "added row for North Attleborough\n",
      "added row for East Bridgewater\n",
      "added row for West Bridgewater\n",
      "added row for Chesterfield\n",
      "added row for East Longmeadow\n",
      "added row for New Marlborough\n",
      "added row for New Salem\n"
     ]
    }
   ],
   "source": [
    "comb_char = index_correct_reverse(comb_char, pairings4)"
   ]
  },
  {
   "cell_type": "code",
   "execution_count": 74,
   "metadata": {},
   "outputs": [
    {
     "name": "stdout",
     "output_type": "stream",
     "text": [
      "number of recycle municipalities to account for: 0\n"
     ]
    },
    {
     "data": {
      "text/plain": [
       "{}"
      ]
     },
     "execution_count": 74,
     "metadata": {},
     "output_type": "execute_result"
    }
   ],
   "source": [
    "pairingscheck = {}\n",
    "sub_towns = 0\n",
    "for mun in comb_char.index:\n",
    "    matches = [place for place in recycle['Municipality Name'] if mun in place]\n",
    "    if len(matches) > 1:\n",
    "        pairingscheck[mun] = matches\n",
    "        sub_towns = sub_towns + len(matches)\n",
    "\n",
    "print(f\"number of recycle municipalities to account for: {sub_towns}\")\n",
    "pairingscheck"
   ]
  },
  {
   "cell_type": "code",
   "execution_count": 75,
   "metadata": {},
   "outputs": [
    {
     "name": "stdout",
     "output_type": "stream",
     "text": [
      "number of recycle municipalities to account for: 0\n"
     ]
    },
    {
     "data": {
      "text/plain": [
       "{}"
      ]
     },
     "execution_count": 75,
     "metadata": {},
     "output_type": "execute_result"
    }
   ],
   "source": [
    "pairingscheck = {}\n",
    "sub_towns = 0\n",
    "for mun in recycle['Municipality Name']:\n",
    "    matches = [place for place in comb_char.index if mun in place]\n",
    "    if len(matches) > 1:\n",
    "        pairingscheck[mun] = matches\n",
    "        sub_towns = sub_towns + len(matches)\n",
    "\n",
    "print(f\"number of recycle municipalities to account for: {sub_towns}\")\n",
    "pairingscheck"
   ]
  },
  {
   "cell_type": "code",
   "execution_count": null,
   "metadata": {},
   "outputs": [],
   "source": []
  },
  {
   "cell_type": "code",
   "execution_count": 313,
   "metadata": {},
   "outputs": [
    {
     "data": {
      "text/plain": [
       "65"
      ]
     },
     "execution_count": 313,
     "metadata": {},
     "output_type": "execute_result"
    }
   ],
   "source": [
    "census_remain = list(set(comb_char.index) - set(recycle['Municipality Name']))\n",
    "census_remain.sort()\n",
    "len(census_remain)"
   ]
  },
  {
   "cell_type": "code",
   "execution_count": 316,
   "metadata": {},
   "outputs": [
    {
     "data": {
      "text/plain": [
       "['Baldwinville',\n",
       " 'Bellingham',\n",
       " 'Bliss Corner',\n",
       " 'Bridgewater',\n",
       " 'Buzzards Bay',\n",
       " 'Chelsea',\n",
       " 'Cochituate',\n",
       " 'Cordaville',\n",
       " 'Essex',\n",
       " 'Everett',\n",
       " 'Fiskdale',\n",
       " 'Forestdale',\n",
       " 'Foxborough',\n",
       " 'Granby',\n",
       " 'Great Barrington',\n",
       " 'Green Harbor-Cedar Crest',\n",
       " 'Hanscom AFB',\n",
       " 'Hatfield',\n",
       " 'Holbrook',\n",
       " 'Holland',\n",
       " 'Hopedale',\n",
       " 'Hopkinton',\n",
       " 'Housatonic',\n",
       " 'Hull',\n",
       " 'Lee',\n",
       " 'Lenox',\n",
       " 'Leominster',\n",
       " 'Madaket',\n",
       " 'Mattapoisett Center',\n",
       " 'Millers Falls',\n",
       " 'Monomoscoy Island',\n",
       " 'Monument Beach',\n",
       " 'Nahant',\n",
       " 'New Seabury',\n",
       " 'Norton Center',\n",
       " 'Ocean Bluff-Brant Rock',\n",
       " 'Ocean Grove',\n",
       " 'Onset',\n",
       " 'Oxford',\n",
       " 'Palmer',\n",
       " 'Pinehurst',\n",
       " 'Pocasset',\n",
       " 'Popponesset',\n",
       " 'Popponesset Island',\n",
       " 'Rowley',\n",
       " 'Rutland',\n",
       " 'Sagamore',\n",
       " 'Salisbury',\n",
       " 'Seabrook',\n",
       " 'Seconsett Island',\n",
       " 'Siasconset',\n",
       " 'Smith Mills',\n",
       " 'South Ashburnham',\n",
       " 'South Lancaster',\n",
       " 'Teaticket',\n",
       " 'The Pinehills',\n",
       " 'Turners Falls',\n",
       " 'Vineyard Haven',\n",
       " 'Ware',\n",
       " 'Webster',\n",
       " 'Weweantic',\n",
       " 'White Island Shores',\n",
       " 'Whitinsville',\n",
       " 'Winthrop',\n",
       " 'Woods Hole']"
      ]
     },
     "execution_count": 316,
     "metadata": {},
     "output_type": "execute_result"
    }
   ],
   "source": [
    "census_remain"
   ]
  },
  {
   "cell_type": "code",
   "execution_count": 314,
   "metadata": {},
   "outputs": [
    {
     "data": {
      "text/plain": [
       "114"
      ]
     },
     "execution_count": 314,
     "metadata": {},
     "output_type": "execute_result"
    }
   ],
   "source": [
    "recycle_remain = list(set(recycle['Municipality Name'])-set(comb_char.index))\n",
    "recycle_remain.sort()\n",
    "len(recycle_remain)"
   ]
  },
  {
   "cell_type": "code",
   "execution_count": 315,
   "metadata": {},
   "outputs": [
    {
     "data": {
      "text/plain": [
       "['Acton',\n",
       " 'Aquinnah',\n",
       " 'Ashby',\n",
       " 'Ashfield',\n",
       " 'Ashland',\n",
       " 'Auburn',\n",
       " 'Avon',\n",
       " 'Becket',\n",
       " 'Bedford',\n",
       " 'Berkley',\n",
       " 'Berlin',\n",
       " 'Bernardston',\n",
       " 'Billerica',\n",
       " 'Bolton',\n",
       " 'Boxborough',\n",
       " 'Buckland',\n",
       " 'Canton',\n",
       " 'Carlisle',\n",
       " 'Charlemont',\n",
       " 'Chelmsford',\n",
       " 'Chilmark',\n",
       " 'Cohasset',\n",
       " 'Colrain',\n",
       " 'Conway',\n",
       " 'Cummington',\n",
       " 'Dalton',\n",
       " 'Dartmouth',\n",
       " 'Dighton',\n",
       " 'Dracut',\n",
       " 'Dudley',\n",
       " 'Dunstable',\n",
       " 'Egremont',\n",
       " 'Erving',\n",
       " 'Fairhaven',\n",
       " 'Florida',\n",
       " 'Freetown',\n",
       " 'Gill',\n",
       " 'Goshen',\n",
       " 'Grafton',\n",
       " 'Granville',\n",
       " 'Halifax',\n",
       " 'Hamilton',\n",
       " 'Hampden',\n",
       " 'Hancock',\n",
       " 'Hanover',\n",
       " 'Harvard',\n",
       " 'Heath',\n",
       " 'Hinsdale',\n",
       " 'Holden',\n",
       " 'Holliston',\n",
       " 'Lanesborough',\n",
       " 'Leicester',\n",
       " 'Leverett',\n",
       " 'Lincoln',\n",
       " 'Ludlow',\n",
       " 'Manchester',\n",
       " 'Medway',\n",
       " 'Merrimac',\n",
       " 'Middlefield',\n",
       " 'Middleton',\n",
       " 'Millbury',\n",
       " 'Monroe',\n",
       " 'Montague',\n",
       " 'Monterey',\n",
       " 'Mount Washington',\n",
       " 'Natick',\n",
       " 'New Ashford',\n",
       " 'Norfolk',\n",
       " 'Norwell',\n",
       " 'Oak Bluffs',\n",
       " 'Otis',\n",
       " 'Paxton',\n",
       " 'Peru',\n",
       " 'Phillipston',\n",
       " 'Plainfield',\n",
       " 'Plainville',\n",
       " 'Rochester',\n",
       " 'Rockland',\n",
       " 'Rowe',\n",
       " 'Royalston',\n",
       " 'Savoy',\n",
       " 'Sheffield',\n",
       " 'Sherborn',\n",
       " 'Shrewsbury',\n",
       " 'Shutesbury',\n",
       " 'South Hadley',\n",
       " 'Southampton',\n",
       " 'Southwick',\n",
       " 'Sterling',\n",
       " 'Sudbury',\n",
       " 'Sutton',\n",
       " 'Swansea',\n",
       " 'Tewksbury',\n",
       " 'Truro',\n",
       " 'Tyngsborough',\n",
       " 'Tyringham',\n",
       " 'Warwick',\n",
       " 'Washington',\n",
       " 'Wayland',\n",
       " 'Wellfleet',\n",
       " 'Wendell',\n",
       " 'Wenham',\n",
       " 'West Boylston',\n",
       " 'West Tisbury',\n",
       " 'Westford',\n",
       " 'Westhampton',\n",
       " 'Westminster',\n",
       " 'Weston',\n",
       " 'Whately',\n",
       " 'Whitman',\n",
       " 'Williamsburg',\n",
       " 'Windsor',\n",
       " 'Worthington',\n",
       " 'Wrentham']"
      ]
     },
     "execution_count": 315,
     "metadata": {},
     "output_type": "execute_result"
    }
   ],
   "source": [
    "recycle_remain"
   ]
  },
  {
   "cell_type": "code",
   "execution_count": 317,
   "metadata": {},
   "outputs": [
    {
     "name": "stdout",
     "output_type": "stream",
     "text": [
      "Collecting uszipcode\n",
      "  Downloading uszipcode-0.2.4-py2.py3-none-any.whl (378 kB)\n",
      "Requirement already satisfied: requests in c:\\users\\nanai\\anaconda3\\lib\\site-packages (from uszipcode) (2.24.0)\n",
      "Requirement already satisfied: sqlalchemy in c:\\users\\nanai\\anaconda3\\lib\\site-packages (from uszipcode) (1.3.18)\n",
      "Requirement already satisfied: attrs in c:\\users\\nanai\\anaconda3\\lib\\site-packages (from uszipcode) (19.3.0)\n",
      "Collecting pathlib-mate\n",
      "  Downloading pathlib_mate-1.0.1-py2.py3-none-any.whl (78 kB)\n",
      "Requirement already satisfied: idna<3,>=2.5 in c:\\users\\nanai\\anaconda3\\lib\\site-packages (from requests->uszipcode) (2.10)\n",
      "Requirement already satisfied: urllib3!=1.25.0,!=1.25.1,<1.26,>=1.21.1 in c:\\users\\nanai\\anaconda3\\lib\\site-packages (from requests->uszipcode) (1.25.9)\n",
      "Requirement already satisfied: chardet<4,>=3.0.2 in c:\\users\\nanai\\anaconda3\\lib\\site-packages (from requests->uszipcode) (3.0.4)\n",
      "Requirement already satisfied: certifi>=2017.4.17 in c:\\users\\nanai\\anaconda3\\lib\\site-packages (from requests->uszipcode) (2020.6.20)\n",
      "Requirement already satisfied: autopep8 in c:\\users\\nanai\\anaconda3\\lib\\site-packages (from pathlib-mate->uszipcode) (1.5.3)\n",
      "Requirement already satisfied: atomicwrites in c:\\users\\nanai\\anaconda3\\lib\\site-packages (from pathlib-mate->uszipcode) (1.4.0)Note: you may need to restart the kernel to use updated packages.\n",
      "\n",
      "Requirement already satisfied: six in c:\\users\\nanai\\anaconda3\\lib\\site-packages (from pathlib-mate->uszipcode) (1.15.0)\n",
      "Requirement already satisfied: pycodestyle>=2.6.0 in c:\\users\\nanai\\anaconda3\\lib\\site-packages (from autopep8->pathlib-mate->uszipcode) (2.6.0)\n",
      "Requirement already satisfied: toml in c:\\users\\nanai\\anaconda3\\lib\\site-packages (from autopep8->pathlib-mate->uszipcode) (0.10.1)\n",
      "Installing collected packages: pathlib-mate, uszipcode\n",
      "Successfully installed pathlib-mate-1.0.1 uszipcode-0.2.4\n"
     ]
    }
   ],
   "source": [
    "# pip install uszipcode"
   ]
  },
  {
   "cell_type": "code",
   "execution_count": 325,
   "metadata": {},
   "outputs": [],
   "source": [
    "from uszipcode import Zipcode, SearchEngine"
   ]
  },
  {
   "cell_type": "code",
   "execution_count": 326,
   "metadata": {},
   "outputs": [
    {
     "name": "stdout",
     "output_type": "stream",
     "text": [
      "Start downloading data for simple zipcode database, total size 9MB ...\n",
      "  1 MB finished ...\n",
      "  2 MB finished ...\n",
      "  3 MB finished ...\n",
      "  4 MB finished ...\n",
      "  5 MB finished ...\n",
      "  6 MB finished ...\n",
      "  7 MB finished ...\n",
      "  8 MB finished ...\n",
      "  9 MB finished ...\n",
      "  10 MB finished ...\n",
      "  Complete!\n"
     ]
    },
    {
     "data": {
      "text/plain": [
       "[SimpleZipcode(zipcode='01760', zipcode_type='Standard', major_city='Natick', post_office_city='Natick, MA', common_city_list=['Natick'], county='Middlesex County', state='MA', lat=42.28, lng=-71.35, timezone='Eastern', radius_in_miles=4.0, area_code_list=['508', '774'], population=32786, population_density=2214.0, land_area_in_sqmi=14.81, water_area_in_sqmi=1.0, housing_units=14039, occupied_housing_units=13327, median_home_value=425600, median_household_income=95328, bounds_west=-71.402518, bounds_east=-71.302922, bounds_north=42.329135, bounds_south=42.247729)]"
      ]
     },
     "execution_count": 326,
     "metadata": {},
     "output_type": "execute_result"
    }
   ],
   "source": [
    "search = SearchEngine()\n",
    "search.by_city_and_state(\"natick\", \"ma\")"
   ]
  },
  {
   "cell_type": "code",
   "execution_count": 357,
   "metadata": {},
   "outputs": [
    {
     "data": {
      "text/plain": [
       "[SimpleZipcode(zipcode='01450', zipcode_type='Standard', major_city='Groton', post_office_city='Groton, MA', common_city_list=['Groton'], county='Middlesex County', state='MA', lat=42.62, lng=-71.58, timezone='Eastern', radius_in_miles=6.0, area_code_list=['978'], population=10646, population_density=325.0, land_area_in_sqmi=32.76, water_area_in_sqmi=0.99, housing_units=3989, occupied_housing_units=3753, median_home_value=435000, median_household_income=117127, bounds_west=-71.660464, bounds_east=-71.493541, bounds_north=42.663495, bounds_south=42.569386)]"
      ]
     },
     "execution_count": 357,
     "metadata": {},
     "output_type": "execute_result"
    }
   ],
   "source": [
    "search.by_city_and_state(\"Mount Washington\", \"ma\")"
   ]
  },
  {
   "cell_type": "code",
   "execution_count": 361,
   "metadata": {},
   "outputs": [
    {
     "name": "stdout",
     "output_type": "stream",
     "text": [
      "fuzzy match for Freetown was non-exact at: East Freetown\n",
      "fuzzy match for Lanesborough was non-exact at: Lanesboro\n",
      "fuzzy match for Mount Washington was non-exact at: Groton\n",
      "New Ashford returned more than one zip\n",
      "fuzzy match for New Ashford was non-exact at: New Bedford\n",
      "fuzzy match for Peru was non-exact at: Newton Upper Falls\n",
      "fuzzy match for Phillipston was non-exact at: Holliston\n",
      "fuzzy match for Tyngsborough was non-exact at: Tyngsboro\n",
      "fuzzy match for Washington was non-exact at: Abington\n",
      "fuzzy match for Westhampton was non-exact at: Easthampton\n"
     ]
    }
   ],
   "source": [
    "zip_lookup = {}\n",
    "inprecision = []\n",
    "for town in recycle_remain:\n",
    "    res = search.by_city_and_state(town, \"ma\")\n",
    "    \n",
    "    if len(res) > 1:\n",
    "        print(f\"{town} returned more than one zip\")\n",
    "    if len(res) > 0:\n",
    "        \n",
    "        zip_lookup[town] = res[0].values()[0]\n",
    "        if res[0].values()[2] != town:\n",
    "            print(f'fuzzy match for {town} was non-exact at: {res[0].values()[2]}')\n",
    "            inprecision.append(town)\n"
   ]
  },
  {
   "cell_type": "code",
   "execution_count": 364,
   "metadata": {},
   "outputs": [
    {
     "data": {
      "text/plain": [
       "['Mount Washington',\n",
       " 'New Ashford',\n",
       " 'Peru',\n",
       " 'Phillipston',\n",
       " 'Washington',\n",
       " 'Westhampton']"
      ]
     },
     "execution_count": 364,
     "metadata": {},
     "output_type": "execute_result"
    }
   ],
   "source": [
    "inprecision.remove('Freetown')\n",
    "inprecision.remove('Lanesborough')\n",
    "inprecision.remove('Tyngsborough')\n",
    "inprecision"
   ]
  },
  {
   "cell_type": "code",
   "execution_count": 365,
   "metadata": {},
   "outputs": [],
   "source": [
    "for town in inprecision:\n",
    "    del zip_lookup[town]"
   ]
  },
  {
   "cell_type": "code",
   "execution_count": 366,
   "metadata": {},
   "outputs": [
    {
     "data": {
      "text/plain": [
       "96"
      ]
     },
     "execution_count": 366,
     "metadata": {},
     "output_type": "execute_result"
    }
   ],
   "source": [
    "len(zip_lookup)"
   ]
  },
  {
   "cell_type": "code",
   "execution_count": 367,
   "metadata": {},
   "outputs": [
    {
     "data": {
      "text/plain": [
       "{'Acton': '01720',\n",
       " 'Ashby': '01431',\n",
       " 'Ashfield': '01330',\n",
       " 'Ashland': '01721',\n",
       " 'Auburn': '01501',\n",
       " 'Avon': '02322',\n",
       " 'Becket': '01223',\n",
       " 'Bedford': '01730',\n",
       " 'Berkley': '02779',\n",
       " 'Berlin': '01503',\n",
       " 'Bernardston': '01337',\n",
       " 'Billerica': '01821',\n",
       " 'Bolton': '01740',\n",
       " 'Boxborough': '01719',\n",
       " 'Buckland': '01338',\n",
       " 'Canton': '02021',\n",
       " 'Carlisle': '01741',\n",
       " 'Charlemont': '01339',\n",
       " 'Chelmsford': '01824',\n",
       " 'Chilmark': '02535',\n",
       " 'Cohasset': '02025',\n",
       " 'Colrain': '01340',\n",
       " 'Conway': '01341',\n",
       " 'Cummington': '01026',\n",
       " 'Dalton': '01226',\n",
       " 'Dighton': '02715',\n",
       " 'Dracut': '01826',\n",
       " 'Dudley': '01571',\n",
       " 'Dunstable': '01827',\n",
       " 'Erving': '01344',\n",
       " 'Fairhaven': '02719',\n",
       " 'Freetown': '02717',\n",
       " 'Gill': '01354',\n",
       " 'Goshen': '01032',\n",
       " 'Grafton': '01519',\n",
       " 'Granville': '01034',\n",
       " 'Halifax': '02338',\n",
       " 'Hampden': '01036',\n",
       " 'Hanover': '02339',\n",
       " 'Harvard': '01451',\n",
       " 'Heath': '01346',\n",
       " 'Hinsdale': '01235',\n",
       " 'Holden': '01520',\n",
       " 'Holliston': '01746',\n",
       " 'Lanesborough': '01237',\n",
       " 'Leicester': '01524',\n",
       " 'Leverett': '01054',\n",
       " 'Lincoln': '01773',\n",
       " 'Ludlow': '01056',\n",
       " 'Manchester': '01944',\n",
       " 'Medway': '02053',\n",
       " 'Merrimac': '01860',\n",
       " 'Middleton': '01949',\n",
       " 'Millbury': '01527',\n",
       " 'Montague': '01351',\n",
       " 'Monterey': '01245',\n",
       " 'Natick': '01760',\n",
       " 'Norfolk': '02056',\n",
       " 'Norwell': '02061',\n",
       " 'Oak Bluffs': '02557',\n",
       " 'Otis': '01253',\n",
       " 'Paxton': '01612',\n",
       " 'Plainfield': '01070',\n",
       " 'Plainville': '02762',\n",
       " 'Rochester': '02770',\n",
       " 'Rockland': '02370',\n",
       " 'Rowe': '01367',\n",
       " 'Royalston': '01368',\n",
       " 'Savoy': '01256',\n",
       " 'Sheffield': '01257',\n",
       " 'Sherborn': '01770',\n",
       " 'Shrewsbury': '01545',\n",
       " 'Shutesbury': '01072',\n",
       " 'South Hadley': '01075',\n",
       " 'Southampton': '01073',\n",
       " 'Southwick': '01077',\n",
       " 'Sterling': '01564',\n",
       " 'Sudbury': '01776',\n",
       " 'Sutton': '01590',\n",
       " 'Swansea': '02777',\n",
       " 'Tewksbury': '01876',\n",
       " 'Tyngsborough': '01879',\n",
       " 'Warwick': '01378',\n",
       " 'Wayland': '01778',\n",
       " 'Wellfleet': '02667',\n",
       " 'Wendell': '01379',\n",
       " 'Wenham': '01984',\n",
       " 'West Boylston': '01583',\n",
       " 'Westford': '01886',\n",
       " 'Westminster': '01473',\n",
       " 'Weston': '02493',\n",
       " 'Whitman': '02382',\n",
       " 'Williamsburg': '01096',\n",
       " 'Windsor': '01270',\n",
       " 'Worthington': '01098',\n",
       " 'Wrentham': '02093'}"
      ]
     },
     "execution_count": 367,
     "metadata": {},
     "output_type": "execute_result"
    }
   ],
   "source": [
    "zip_lookup"
   ]
  },
  {
   "cell_type": "code",
   "execution_count": 213,
   "metadata": {},
   "outputs": [],
   "source": [
    "# For saving files\n",
    "\n",
    "# comb_char.to_csv('data/census_data/census_sum.csv', index=True)"
   ]
  },
  {
   "cell_type": "code",
   "execution_count": null,
   "metadata": {},
   "outputs": [],
   "source": []
  }
 ],
 "metadata": {
  "kernelspec": {
   "display_name": "Python 3",
   "language": "python",
   "name": "python3"
  },
  "language_info": {
   "codemirror_mode": {
    "name": "ipython",
    "version": 3
   },
   "file_extension": ".py",
   "mimetype": "text/x-python",
   "name": "python",
   "nbconvert_exporter": "python",
   "pygments_lexer": "ipython3",
   "version": "3.8.3"
  }
 },
 "nbformat": 4,
 "nbformat_minor": 4
}
